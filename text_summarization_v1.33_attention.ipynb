{
 "cells": [
  {
   "cell_type": "code",
   "execution_count": 1,
   "metadata": {},
   "outputs": [],
   "source": [
    "# https://github.com/udacity/deep-learning/blob/master/seq2seq/sequence_to_sequence_implementation.ipynb\n",
    "# https://github.com/Currie32/Text-Summarization-with-Amazon-Reviews/blob/master/summarize_reviews.ipynb\n",
    "# https://github.com/Tony607/Summarizing_Text_Amazon_Reviews/blob/master/summarize_reviews.ipynb\n",
    "\n",
    "\n",
    "# https://stackoverflow.com/questions/36382508/packages-from-conda-env-not-found-in-jupyer-notebook\n",
    "# import sys\n",
    "# sys.executable"
   ]
  },
  {
   "cell_type": "code",
   "execution_count": 1,
   "metadata": {},
   "outputs": [],
   "source": [
    "import numpy as np\n",
    "import matplotlib.pyplot as plt\n",
    "import sys\n",
    "import os\n",
    "from os import listdir\n",
    "import re\n",
    "import pandas as pd\n",
    "import glob\n",
    "import unicodedata\n",
    "import string\n",
    "import datetime\n",
    "import time\n",
    "from tqdm import tqdm\n",
    "\n",
    "import copy\n",
    "import pickle\n",
    "\n",
    "from collections import Counter\n",
    "\n",
    "import tensorflow as tf"
   ]
  },
  {
   "cell_type": "code",
   "execution_count": 3,
   "metadata": {},
   "outputs": [
    {
     "name": "stderr",
     "output_type": "stream",
     "text": [
      "  0%|          | 0/7 [00:00<?, ?it/s]"
     ]
    },
    {
     "name": "stdout",
     "output_type": "stream",
     "text": [
      "train.bin\n"
     ]
    },
    {
     "name": "stderr",
     "output_type": "stream",
     "text": [
      "100%|██████████| 7/7 [01:26<00:00, 12.29s/it]"
     ]
    },
    {
     "name": "stdout",
     "output_type": "stream",
     "text": [
      "done!\n"
     ]
    },
    {
     "name": "stderr",
     "output_type": "stream",
     "text": [
      "\n"
     ]
    }
   ],
   "source": [
    "# TODO: put back </s> ?\n",
    "\n",
    "path = \"./data\" \n",
    "\n",
    "train_raw_all = []\n",
    "\n",
    "for filename in tqdm(listdir(path)):\n",
    "    if 'train' in filename:\n",
    "        print(filename)\n",
    "        path_file = path + '/' + filename\n",
    "        with open(path_file, 'r', encoding='utf-8',errors='ignore') as binary_file:\n",
    "            raw_text = binary_file.read()\n",
    "            raw_text = raw_text.replace('<s>', '')\n",
    "            raw_text = raw_text.replace('</s>', '')\n",
    "            raw_text = raw_text.replace('\\n', '')\n",
    "            raw_text = raw_text.replace('-lrb- ', '')\n",
    "            raw_text = raw_text.replace('-rrb- ', '')\n",
    "            #raw_text = re.sub(r\"\\\\x(.*?)\\d+\", '', raw_text)\n",
    "            raw_text = re.sub(r\"\\d\", '#', raw_text)\n",
    "            raw_text = raw_text.replace('\\x12', '') \n",
    "            raw_text = raw_text.replace('\\x17', '')\n",
    "            raw_text = raw_text.replace('\\x18', '')\n",
    "            raw_text = raw_text.replace('\\x01', '')\n",
    "            raw_text = raw_text.replace('\\x02', '')\n",
    "            raw_text = raw_text.replace('\\x03', '')\n",
    "            raw_text = raw_text.replace('\\x06', '')\n",
    "            raw_text = raw_text.replace('\\x00', '')\n",
    "            raw_text = raw_text.replace('\\x11', '')\n",
    "            raw_text = raw_text.replace('\\x13', '')\n",
    "            raw_text = raw_text.replace('\\x14', '')\n",
    "            raw_text = raw_text.replace('\\x15', '')\n",
    "            abstract = raw_text.split('\\x08abstract') # .decode('utf-8', 'ignore')ISO-8859-1 \n",
    "            x = [a.split('\\x07article') for a in abstract]\n",
    "            train_raw_all.extend(x[1:])\n",
    "   \n",
    "        \n",
    "# df = pd.DataFrame(data=train_raw_all, columns=['abstract','article']) # df = df.ix[1:]\n",
    "# s = {'<s>':'', '</s>':''}\n",
    "# df['abstract'] = df['abstract'].replace(s)\n",
    "\n",
    "#df['abstract'] = df['abstract'].apply(lambda x: x.split('<s>',1)[-1])\n",
    "#df['article'] = df['article'].apply(lambda x: x.split('-rrb-',1)[-1])\n",
    "\n",
    "print('done!')"
   ]
  },
  {
   "cell_type": "code",
   "execution_count": 5,
   "metadata": {
    "scrolled": true
   },
   "outputs": [
    {
     "data": {
      "text/plain": [
       "[\" new bills officially come into circulation monday .   bills are n't enough to buy a loaf of bread . they can only buy four oranges .   gideon gono : notes for `` convenience of the banking public and corporate sector ''   the new note is equal to just one u.s. dollar . \\x0f\",\n",
       " \"\\x0f\\x0f\\x0fharare , zimbabwe cnn -- zimbabwe 's troubled central bank introduced $ ### billion banknotes saturday in a desperate bid to ease the recurrent cash shortages plaguing the inflation-ravaged economy . a shopper displays a $ ### million zimbabwean bank note . the bills officially come into circulation monday , although they were on the foreign currency dealers market saturday . as high as they are , though , the bills still are n't enough to buy a loaf of bread . they can buy only four oranges . the new note is equal to just one u.s. dollar . once-prosperous zimbabwe has seen an unprecedented economic meltdown since it gained independence in #### , with the official inflation rate now at #.# million percent . gideon gono , governor of the reserve bank of zimbabwe , said the new notes are for `` the convenience of the banking public and corporate sector '' in light of price hikes . `` the rbz has noted with concern the unjustifiable and incessant general increases in prices of goods and services . it is therefore appealing to the business community to follow ethical business practices as well as take an interest in the plight of the general public , '' gono said in a statement dated friday . zimbabwe started issuing large bank notes in december , starting with denominations of $ ###,### . in january , the government issued bills in denominations of $ # million , $ # million , and $ ## million -- and in may , it issued bills from $ ## million and $ ## million up to $ ## billion and $ ## billion . the new bills are actually bearer checks and have an expiration date of december ## . zimbabwe has not had formal currency since the introduction of bearer checks as a temporary measure in #### . `` the rbz is fighting a losing battle , '' economist john robertson said in harare . `` as long as the inflation remains high , cash shortages will persist . there is need to address the inflation by increasing production so that too goods do not -lsb- cost -rsb- a lot of money . ''\\x0c\\x19\"]"
      ]
     },
     "execution_count": 5,
     "metadata": {},
     "output_type": "execute_result"
    }
   ],
   "source": [
    "(train_raw_all[797])"
   ]
  },
  {
   "cell_type": "code",
   "execution_count": 3,
   "metadata": {},
   "outputs": [
    {
     "data": {
      "text/plain": [
       "\" mentally ill inmates in miami are housed on the `` forgotten floor ''   judge steven leifman says most are there as a result of `` avoidable felonies ''   while cnn tours facility , patient shouts : `` i am the son of the president ''   leifman says the system is unjust and he 's fighting for change .   <END>  harry potter star daniel radcliffe gets # ##m fortune as he turns ## monday .   young actor says he has no plans to fritter his cash away .   radcliffe 's earnings from first five potter films have been held in trust fund .  <END>  new : `` i thought i was going to die , '' driver says .   man says pickup truck was folded in half ; he just has cut on face .   driver : `` i probably had a ## - , ##-foot free fall ''   minnesota bridge collapsed during rush hour wednesday .   <END>  parents beam with pride , ca n't stop from smiling from outpouring of support .   mom : `` i was so happy i did n't know what to do ''   burn center in u.s. has offered to provide treatment for reconst\""
      ]
     },
     "execution_count": 3,
     "metadata": {},
     "output_type": "execute_result"
    }
   ],
   "source": [
    "source_text = (' <END> ').join([a[1] for a in train_raw_all])\n",
    "target_text = (' <END> ').join([a[0] for a in train_raw_all])\n",
    "\n",
    "(target_text[:1000])"
   ]
  },
  {
   "cell_type": "code",
   "execution_count": 5,
   "metadata": {},
   "outputs": [
    {
     "name": "stdout",
     "output_type": "stream",
     "text": [
      "Total no. of abstracts/articles: 287227\n"
     ]
    }
   ],
   "source": [
    "print('Total no. of abstracts/articles: {}'.format(len(source_text.split('<END>'))))"
   ]
  },
  {
   "cell_type": "code",
   "execution_count": 4,
   "metadata": {},
   "outputs": [
    {
     "name": "stdout",
     "output_type": "stream",
     "text": [
      "Average number of words in an article: 788.0941729015726\n",
      "Average number of words in an abstract: 55.83303449884586\n"
     ]
    }
   ],
   "source": [
    "arti = source_text.split(' <END> ')\n",
    "abst = target_text.split(' <END> ')\n",
    "\n",
    "word_counts1 = [len(a.split()) for a in arti]\n",
    "word_counts2 = [len(a.split()) for a in abst]\n",
    "\n",
    "print('Average number of words in an article: {}'.format(np.average(word_counts1)))\n",
    "print('Average number of words in an abstract: {}'.format(np.average(word_counts2)))"
   ]
  },
  {
   "cell_type": "code",
   "execution_count": 5,
   "metadata": {},
   "outputs": [
    {
     "data": {
      "text/plain": [
       "\" zimbabwe president agrees to pardon over #,### prisoners to ease congestion .   zimbabwe 's ## prisons have capacity for ##,### inmates but currently hold ##,### .   adequate rations not available to all prisoners and some have become emaciated . \""
      ]
     },
     "execution_count": 5,
     "metadata": {},
     "output_type": "execute_result"
    }
   ],
   "source": [
    "(abst[6060])"
   ]
  },
  {
   "cell_type": "code",
   "execution_count": 6,
   "metadata": {},
   "outputs": [],
   "source": [
    "def count_words(count_dict, text):\n",
    "    '''Count the number of occurrences of each word in a set of text'''\n",
    "    for sentence in tqdm(text):\n",
    "        for word in sentence.split():\n",
    "            if word not in count_dict:\n",
    "                count_dict[word] = 1\n",
    "            else:\n",
    "                count_dict[word] += 1"
   ]
  },
  {
   "cell_type": "code",
   "execution_count": 7,
   "metadata": {},
   "outputs": [
    {
     "name": "stderr",
     "output_type": "stream",
     "text": [
      "100%|██████████| 287227/287227 [02:02<00:00, 2346.70it/s]\n",
      "100%|██████████| 287227/287227 [00:10<00:00, 28529.53it/s]"
     ]
    },
    {
     "name": "stdout",
     "output_type": "stream",
     "text": [
      "Size of Vocabulary: 694920\n"
     ]
    },
    {
     "name": "stderr",
     "output_type": "stream",
     "text": [
      "\n"
     ]
    }
   ],
   "source": [
    "# Find the number of times each word was used and the size of the vocabulary\n",
    "word_counts = {}\n",
    "\n",
    "count_words(word_counts, arti)\n",
    "count_words(word_counts, abst)\n",
    "\n",
    "print(\"Size of Vocabulary:\", len(word_counts))"
   ]
  },
  {
   "cell_type": "code",
   "execution_count": 8,
   "metadata": {},
   "outputs": [
    {
     "name": "stderr",
     "output_type": "stream",
     "text": [
      "417195it [00:54, 7622.81it/s]"
     ]
    },
    {
     "name": "stdout",
     "output_type": "stream",
     "text": [
      "Word embeddings: 417195\n"
     ]
    },
    {
     "name": "stderr",
     "output_type": "stream",
     "text": [
      "\n"
     ]
    }
   ],
   "source": [
    "# Load Conceptnet Numberbatch's (CN) embeddings, similar to GloVe, but probably better \n",
    "# (https://github.com/commonsense/conceptnet-numberbatch)\n",
    "\n",
    "embeddings_index = {}\n",
    "with open('./data/numberbatch-en.txt', encoding='utf-8') as f:\n",
    "    for line in tqdm(f):\n",
    "        values = line.split(' ')\n",
    "        word = values[0]\n",
    "        embedding = np.asarray(values[1:], dtype='float32')\n",
    "        embeddings_index[word] = embedding\n",
    "\n",
    "print('Word embeddings:', len(embeddings_index))"
   ]
  },
  {
   "cell_type": "code",
   "execution_count": 9,
   "metadata": {},
   "outputs": [
    {
     "name": "stderr",
     "output_type": "stream",
     "text": [
      "100%|██████████| 694920/694920 [00:00<00:00, 1094481.39it/s]"
     ]
    },
    {
     "name": "stdout",
     "output_type": "stream",
     "text": [
      "Number of words missing from CN: 62123\n",
      "Percent of words that are missing from total vocabulary (data): 8.94%\n"
     ]
    },
    {
     "name": "stderr",
     "output_type": "stream",
     "text": [
      "\n"
     ]
    }
   ],
   "source": [
    "# Find the number of words that are missing from CN, and are used more than our threshold.\n",
    "\n",
    "missing_words = 0\n",
    "threshold = 10 \n",
    "# 70 = 1.3% missing\n",
    "# 30 = 3.2% missing\n",
    "# 10 = 9% missing\n",
    "# 100 = 0.9% missing\n",
    "\n",
    "for word, count in tqdm(word_counts.items(), total=len(word_counts)):\n",
    "    if count > threshold:\n",
    "        if word not in embeddings_index:\n",
    "            missing_words += 1\n",
    "            \n",
    "missing_ratio = round(missing_words/len(word_counts),4)*100\n",
    "\n",
    "print(\"Number of words missing from CN:\", missing_words)\n",
    "print(\"Percent of words that are missing from total vocabulary (data): {}%\".format(missing_ratio))"
   ]
  },
  {
   "cell_type": "code",
   "execution_count": 10,
   "metadata": {},
   "outputs": [
    {
     "name": "stdout",
     "output_type": "stream",
     "text": [
      "Total number of unique words: 694920\n",
      "Number of words we will use: 190756\n",
      "Percent of words we will use: 27.450000000000003%\n"
     ]
    }
   ],
   "source": [
    "# Limit the vocab that we will use to words that appear ≥ threshold or are in GloVe\n",
    "\n",
    "#dictionary to convert words to integers\n",
    "vocab_to_int = {} \n",
    "\n",
    "value = 0\n",
    "for word, count in word_counts.items():\n",
    "    if (count >= threshold or word in embeddings_index):\n",
    "        vocab_to_int[word] = value\n",
    "        value += 1\n",
    "\n",
    "# Special tokens that will be added to our vocab\n",
    "codes = [\"<UNK>\", \"<PAD>\", \"<EOS>\", \"<GO>\"]   \n",
    "\n",
    "# Add codes to vocab\n",
    "for code in codes:\n",
    "    vocab_to_int[code] = len(vocab_to_int)\n",
    "\n",
    "# Dictionary to convert integers to words\n",
    "int_to_vocab = {}\n",
    "for word, value in vocab_to_int.items():\n",
    "    int_to_vocab[value] = word\n",
    "\n",
    "usage_ratio = round(len(vocab_to_int) / len(word_counts),4)*100\n",
    "\n",
    "print(\"Total number of unique words:\", len(word_counts))\n",
    "print(\"Number of words we will use:\", len(vocab_to_int))\n",
    "print(\"Percent of words we will use: {}%\".format(usage_ratio))\n",
    "\n",
    "# TH = 10, words_use = 27.5%\n",
    "# TH = 20, words_use = 22.7%\n",
    "# TH = 70, words_use = 19%\n",
    "# TH = 100, words_use = 18.61%"
   ]
  },
  {
   "cell_type": "code",
   "execution_count": 18,
   "metadata": {
    "collapsed": true
   },
   "outputs": [],
   "source": [
    "# pd.DataFrame(list(word_counts.items()),columns=['word','count']).sort_values(['count'],ascending=False)"
   ]
  },
  {
   "cell_type": "code",
   "execution_count": 11,
   "metadata": {},
   "outputs": [
    {
     "name": "stdout",
     "output_type": "stream",
     "text": [
      "(190756, 300)\n"
     ]
    }
   ],
   "source": [
    "# Need to use 300 for embedding dimensions to match CN's vectors.\n",
    "\n",
    "embedding_dim = 300\n",
    "nb_words = len(vocab_to_int)\n",
    "\n",
    "# Create matrix with default values of zero\n",
    "word_embedding_matrix = np.zeros((nb_words, embedding_dim), dtype=np.float32)\n",
    "for word, i in vocab_to_int.items():\n",
    "    if word in embeddings_index:\n",
    "        word_embedding_matrix[i] = embeddings_index[word]\n",
    "    else:\n",
    "        # If word not in CN, create a random embedding for it\n",
    "        new_embedding = np.array(np.random.uniform(-1.0, 1.0, embedding_dim))\n",
    "        embeddings_index[word] = new_embedding\n",
    "        word_embedding_matrix[i] = new_embedding\n",
    "\n",
    "# Check if value matches len(vocab_to_int)\n",
    "print((word_embedding_matrix).shape)"
   ]
  },
  {
   "cell_type": "code",
   "execution_count": 16,
   "metadata": {},
   "outputs": [
    {
     "data": {
      "text/plain": [
       "list"
      ]
     },
     "execution_count": 16,
     "metadata": {},
     "output_type": "execute_result"
    }
   ],
   "source": [
    "type(abst)"
   ]
  },
  {
   "cell_type": "raw",
   "metadata": {},
   "source": [
    "# save temp data\n",
    "with open('data/temp.p', 'wb') as out_file:\n",
    "    pickle.dump(\n",
    "        (abst, arti), out_file)\n",
    "        #(vocab_to_int, int_to_vocab),\n",
    "        # word_embedding_matrix), out_file)\n",
    "\n",
    "# import cPickle as pickle\n",
    "# p = pickle.Pickler(open(\"data/temp.p\",\"wb\")) \n",
    "# p.fast = True \n",
    "# p.dump(abst, arti) # d could be your dictionary or any file"
   ]
  },
  {
   "cell_type": "code",
   "execution_count": 20,
   "metadata": {},
   "outputs": [],
   "source": [
    "def convert_to_ints(text, word_count, unk_count, eos=False):\n",
    "    '''Convert words in text to an integer.\n",
    "       If word is not in vocab_to_int, use UNK's integer.\n",
    "       Total the number of words and UNKs.\n",
    "       Add EOS token to the end of texts'''\n",
    "    ints = []\n",
    "    for sentence in tqdm(text, total=len(text)):\n",
    "        sentence_ints = []\n",
    "        for word in sentence.split():\n",
    "            word_count += 1\n",
    "            if word in vocab_to_int:\n",
    "                sentence_ints.append(vocab_to_int[word])\n",
    "            else:\n",
    "                sentence_ints.append(vocab_to_int[\"<UNK>\"])\n",
    "                unk_count += 1\n",
    "        if eos:\n",
    "            sentence_ints.append(vocab_to_int[\"<EOS>\"])\n",
    "        ints.append(sentence_ints)\n",
    "    return ints, word_count, unk_count"
   ]
  },
  {
   "cell_type": "code",
   "execution_count": null,
   "metadata": {},
   "outputs": [],
   "source": [
    "# Apply convert_to_ints to clean_summaries and clean_texts\n",
    "word_count = 0\n",
    "unk_count = 0\n",
    "\n",
    "int_summaries, word_count, unk_count = convert_to_ints(abst, word_count, unk_count, eos=True) # TODO why no '<EOS>' to abstracts?\n",
    "int_texts, word_count, unk_count = convert_to_ints(arti, word_count, unk_count, eos=True)\n",
    "\n",
    "unk_percent = round(unk_count/word_count,4)*100\n",
    "\n",
    "print(\"Total number of words in ALL:\", word_count)\n",
    "print(\"Total number of UNKs in ALL:\", unk_count)\n",
    "print(\"Percent of words that are UNK: {}%\".format(unk_percent))\n",
    "\n",
    "# TH = 10, unk = 0.67%\n",
    "# TH = 70, unk = 1.34%"
   ]
  },
  {
   "cell_type": "code",
   "execution_count": 16,
   "metadata": {
    "collapsed": true
   },
   "outputs": [],
   "source": [
    "def create_lengths(text):\n",
    "    '''Create a data frame of the sentence lengths from a text'''\n",
    "    lengths = []\n",
    "    for sentence in text:\n",
    "        lengths.append(len(sentence))\n",
    "    return pd.DataFrame(lengths, columns=['counts'])"
   ]
  },
  {
   "cell_type": "code",
   "execution_count": 17,
   "metadata": {
    "scrolled": true
   },
   "outputs": [
    {
     "name": "stdout",
     "output_type": "stream",
     "text": [
      "Summaries:\n",
      "              counts\n",
      "count  100000.000000\n",
      "mean       49.163790\n",
      "std        12.918401\n",
      "min         5.000000\n",
      "25%        40.000000\n",
      "50%        49.000000\n",
      "75%        58.000000\n",
      "max       366.000000\n",
      "\n",
      "Texts:\n",
      "              counts\n",
      "count  100000.000000\n",
      "mean      770.658980\n",
      "std       397.170022\n",
      "min         2.000000\n",
      "25%       459.000000\n",
      "50%       713.000000\n",
      "75%      1015.000000\n",
      "max      2176.000000\n"
     ]
    }
   ],
   "source": [
    "lengths_summaries = create_lengths(int_summaries)\n",
    "lengths_texts = create_lengths(int_texts)\n",
    "\n",
    "print(\"Summaries:\")\n",
    "print(lengths_summaries.describe())\n",
    "print()\n",
    "print(\"Texts:\")\n",
    "print(lengths_texts.describe())"
   ]
  },
  {
   "cell_type": "code",
   "execution_count": 18,
   "metadata": {},
   "outputs": [
    {
     "name": "stdout",
     "output_type": "stream",
     "text": [
      "1323.0\n",
      "1528.0\n",
      "1886.01\n"
     ]
    }
   ],
   "source": [
    "# Inspect the length of texts\n",
    "print(np.percentile(lengths_texts.counts, 90))\n",
    "print(np.percentile(lengths_texts.counts, 95))\n",
    "print(np.percentile(lengths_texts.counts, 99))"
   ]
  },
  {
   "cell_type": "code",
   "execution_count": 19,
   "metadata": {},
   "outputs": [
    {
     "name": "stdout",
     "output_type": "stream",
     "text": [
      "65.0\n",
      "68.0\n",
      "77.0\n"
     ]
    }
   ],
   "source": [
    "# Inspect the length of summaries\n",
    "print(np.percentile(lengths_summaries.counts, 90))\n",
    "print(np.percentile(lengths_summaries.counts, 95))\n",
    "print(np.percentile(lengths_summaries.counts, 99))"
   ]
  },
  {
   "cell_type": "code",
   "execution_count": 20,
   "metadata": {
    "collapsed": true
   },
   "outputs": [],
   "source": [
    "def unk_counter(sentence):\n",
    "    # Counts the number of time UNK appears in a sentence.\n",
    "    unk_count = 0\n",
    "    for word in sentence:\n",
    "        if word == vocab_to_int[\"<UNK>\"]:\n",
    "            unk_count += 1\n",
    "    return unk_count"
   ]
  },
  {
   "cell_type": "code",
   "execution_count": 21,
   "metadata": {
    "scrolled": true
   },
   "outputs": [
    {
     "name": "stderr",
     "output_type": "stream",
     "text": [
      "100%|████████████████████████████████████████████████████████████████████████████| 1321/1321 [1:39:26<00:00,  4.09s/it]\n"
     ]
    },
    {
     "name": "stdout",
     "output_type": "stream",
     "text": [
      "57814\n",
      "57814\n"
     ]
    }
   ],
   "source": [
    "# TODO: too long!\n",
    "\n",
    "# Sort the summaries and texts by the length of the texts, shortest to longest\n",
    "# Limit the length of summaries and texts based on the min and max ranges.\n",
    "# Remove reviews that include too many UNKs\n",
    "\n",
    "sorted_summaries = []\n",
    "sorted_texts = []\n",
    "max_text_length = 1323\n",
    "max_summary_length = 65\n",
    "min_length = 5 # for both arti & abst\n",
    "unk_text_limit = 13\n",
    "unk_summary_limit = 5 # TODO?\n",
    "\n",
    "for length in tqdm(range(min(lengths_texts.counts), max_text_length)): \n",
    "    for count, words in (enumerate(int_summaries)):\n",
    "        if (len(int_summaries[count]) >= min_length and\n",
    "            len(int_summaries[count]) <= max_summary_length and\n",
    "            len(int_texts[count]) >= min_length and\n",
    "            unk_counter(int_summaries[count]) <= unk_summary_limit and\n",
    "            unk_counter(int_texts[count]) <= unk_text_limit and\n",
    "            length == len(int_texts[count])\n",
    "           ):\n",
    "            sorted_summaries.append(int_summaries[count])\n",
    "            sorted_texts.append(int_texts[count])\n",
    "        \n",
    "# Compare lengths to ensure they match\n",
    "print(len(sorted_summaries))\n",
    "print(len(sorted_texts))"
   ]
  },
  {
   "cell_type": "code",
   "execution_count": null,
   "metadata": {},
   "outputs": [],
   "source": [
    "sorted_summaries[1342]"
   ]
  },
  {
   "cell_type": "code",
   "execution_count": null,
   "metadata": {},
   "outputs": [],
   "source": [
    "### preprocess & save data \n",
    "\n",
    "# source_vocab_to_int, source_int_to_vocab = create_lookup_tables(source_text)\n",
    "# target_vocab_to_int, target_int_to_vocab = create_lookup_tables(target_text)\n",
    "\n",
    "# source_text_, target_text_ = text_to_ids(source_text, target_text, source_vocab_to_int, target_vocab_to_int)\n",
    "\n",
    "\n",
    "\n",
    "with open('data/news_summary_2.p', 'wb') as out_file:\n",
    "    pickle.dump((\n",
    "        (int_texts, int_summaries),\n",
    "        (sorted_texts, sorted_summaries),\n",
    "        (vocab_to_int, int_to_vocab), \n",
    "        word_embedding_matrix), out_file)"
   ]
  },
  {
   "cell_type": "markdown",
   "metadata": {},
   "source": [
    "## CHECKPOINT 1 "
   ]
  },
  {
   "cell_type": "code",
   "execution_count": 2,
   "metadata": {},
   "outputs": [
    {
     "name": "stdout",
     "output_type": "stream",
     "text": [
      "TensorFlow Version: 1.9.0-rc0\n"
     ]
    },
    {
     "name": "stderr",
     "output_type": "stream",
     "text": [
      "/home/jermyn/anaconda3/envs/tf/lib/python3.6/site-packages/ipykernel_launcher.py:15: UserWarning: No GPU found. Please use a GPU to train your neural network.\n",
      "  from ipykernel import kernelapp as app\n"
     ]
    }
   ],
   "source": [
    "\"\"\"\n",
    "CHECK TENSORFLOW & GPU\n",
    "\"\"\"\n",
    "from distutils.version import LooseVersion\n",
    "import warnings\n",
    "import tensorflow as tf\n",
    "from tensorflow.python.layers.core import Dense\n",
    "\n",
    "# Check TensorFlow Version\n",
    "# assert LooseVersion(tf.__version__) in [LooseVersion('1.0.0'), LooseVersion('1.0.1')], 'This project requires TensorFlow version 1.0  You are using {}'.format(tf.__version__)\n",
    "print('TensorFlow Version: {}'.format(tf.__version__))\n",
    "\n",
    "# Check for a GPU\n",
    "if not tf.test.gpu_device_name():\n",
    "    warnings.warn('No GPU found. Please use a GPU to train your neural network.')\n",
    "else:\n",
    "    print('Default GPU Device: {}'.format(tf.test.gpu_device_name()))"
   ]
  },
  {
   "cell_type": "code",
   "execution_count": 3,
   "metadata": {},
   "outputs": [],
   "source": [
    "def load_preprocess():\n",
    "    \"\"\"\n",
    "    Load the Preprocessed Training data and return them in batches of <batch_size> or less\n",
    "    \"\"\"\n",
    "    with open('../data/news_summary_2.p', mode='rb') as in_file:\n",
    "        return pickle.load(in_file)\n",
    "\n",
    "(int_texts, int_summaries), (sorted_texts, sorted_summaries), (vocab_to_int, int_to_vocab), word_embedding_matrix \\\n",
    "= load_preprocess()"
   ]
  },
  {
   "cell_type": "code",
   "execution_count": 4,
   "metadata": {},
   "outputs": [
    {
     "data": {
      "text/plain": [
       "57814"
      ]
     },
     "execution_count": 4,
     "metadata": {},
     "output_type": "execute_result"
    }
   ],
   "source": [
    "len(sorted_summaries)"
   ]
  },
  {
   "cell_type": "code",
   "execution_count": 5,
   "metadata": {},
   "outputs": [
    {
     "name": "stdout",
     "output_type": "stream",
     "text": [
      "Example source sequence\n",
      "[11, 50, 88, 29, 10166, 1459, 305, 1378, 249, 7, 823, 4249, 68, 7, 3569, 33, 255, 494, 1, 8374, 2876, 131, 15949, 50, 641, 6917, 1297, 177, 8066, 7, 364, 1, 2993, 4, 23488, 22, 68, 6559, 14, 14020, 10, 11, 26, 29, 168, 150, 270, 33, 7, 59, 8164, 1297, 33, 7, 494, 104250, 104252]\n",
      "\n",
      "\n",
      "Example target sequence\n",
      "[1297, 177, 5655, 4, 23488, 31796, 253, 1965, 14082, 13111, 245, 773, 22, 11, 26, 29, 168, 555, 150, 270, 33, 7, 6917, 14020, 33, 1297, 255, 494, 22, 305, 94, 213, 392, 13654, 68, 194, 4, 255, 3849, 280, 1374, 885, 681, 4, 7, 7813, 414, 22]\n"
     ]
    }
   ],
   "source": [
    "print(\"Example source sequence\")\n",
    "print(sorted_texts[23])\n",
    "print(\"\\n\")\n",
    "print(\"Example target sequence\")\n",
    "print(sorted_summaries[23])"
   ]
  },
  {
   "cell_type": "code",
   "execution_count": null,
   "metadata": {
    "collapsed": true
   },
   "outputs": [],
   "source": [
    "# TODO remove 're, 'll ?"
   ]
  },
  {
   "cell_type": "code",
   "execution_count": 6,
   "metadata": {
    "scrolled": true
   },
   "outputs": [],
   "source": [
    "# TSNE \n",
    "import matplotlib\n",
    "import matplotlib.pyplot as plt\n",
    "from sklearn.manifold import TSNE\n",
    "\n",
    "%matplotlib notebook\n",
    "%config InlineBackend.figure_format = 'retina'"
   ]
  },
  {
   "cell_type": "code",
   "execution_count": 9,
   "metadata": {},
   "outputs": [],
   "source": [
    "viz_words = 300\n",
    "\n",
    "tsne = TSNE(n_components=2, perplexity=10, learning_rate=50)\n",
    "\n",
    "embed_tsne = tsne.fit_transform(word_embedding_matrix[:viz_words, :])"
   ]
  },
  {
   "cell_type": "code",
   "execution_count": 10,
   "metadata": {
    "scrolled": false
   },
   "outputs": [
    {
     "data": {
      "application/javascript": [
       "/* Put everything inside the global mpl namespace */\n",
       "window.mpl = {};\n",
       "\n",
       "\n",
       "mpl.get_websocket_type = function() {\n",
       "    if (typeof(WebSocket) !== 'undefined') {\n",
       "        return WebSocket;\n",
       "    } else if (typeof(MozWebSocket) !== 'undefined') {\n",
       "        return MozWebSocket;\n",
       "    } else {\n",
       "        alert('Your browser does not have WebSocket support.' +\n",
       "              'Please try Chrome, Safari or Firefox ≥ 6. ' +\n",
       "              'Firefox 4 and 5 are also supported but you ' +\n",
       "              'have to enable WebSockets in about:config.');\n",
       "    };\n",
       "}\n",
       "\n",
       "mpl.figure = function(figure_id, websocket, ondownload, parent_element) {\n",
       "    this.id = figure_id;\n",
       "\n",
       "    this.ws = websocket;\n",
       "\n",
       "    this.supports_binary = (this.ws.binaryType != undefined);\n",
       "\n",
       "    if (!this.supports_binary) {\n",
       "        var warnings = document.getElementById(\"mpl-warnings\");\n",
       "        if (warnings) {\n",
       "            warnings.style.display = 'block';\n",
       "            warnings.textContent = (\n",
       "                \"This browser does not support binary websocket messages. \" +\n",
       "                    \"Performance may be slow.\");\n",
       "        }\n",
       "    }\n",
       "\n",
       "    this.imageObj = new Image();\n",
       "\n",
       "    this.context = undefined;\n",
       "    this.message = undefined;\n",
       "    this.canvas = undefined;\n",
       "    this.rubberband_canvas = undefined;\n",
       "    this.rubberband_context = undefined;\n",
       "    this.format_dropdown = undefined;\n",
       "\n",
       "    this.image_mode = 'full';\n",
       "\n",
       "    this.root = $('<div/>');\n",
       "    this._root_extra_style(this.root)\n",
       "    this.root.attr('style', 'display: inline-block');\n",
       "\n",
       "    $(parent_element).append(this.root);\n",
       "\n",
       "    this._init_header(this);\n",
       "    this._init_canvas(this);\n",
       "    this._init_toolbar(this);\n",
       "\n",
       "    var fig = this;\n",
       "\n",
       "    this.waiting = false;\n",
       "\n",
       "    this.ws.onopen =  function () {\n",
       "            fig.send_message(\"supports_binary\", {value: fig.supports_binary});\n",
       "            fig.send_message(\"send_image_mode\", {});\n",
       "            if (mpl.ratio != 1) {\n",
       "                fig.send_message(\"set_dpi_ratio\", {'dpi_ratio': mpl.ratio});\n",
       "            }\n",
       "            fig.send_message(\"refresh\", {});\n",
       "        }\n",
       "\n",
       "    this.imageObj.onload = function() {\n",
       "            if (fig.image_mode == 'full') {\n",
       "                // Full images could contain transparency (where diff images\n",
       "                // almost always do), so we need to clear the canvas so that\n",
       "                // there is no ghosting.\n",
       "                fig.context.clearRect(0, 0, fig.canvas.width, fig.canvas.height);\n",
       "            }\n",
       "            fig.context.drawImage(fig.imageObj, 0, 0);\n",
       "        };\n",
       "\n",
       "    this.imageObj.onunload = function() {\n",
       "        fig.ws.close();\n",
       "    }\n",
       "\n",
       "    this.ws.onmessage = this._make_on_message_function(this);\n",
       "\n",
       "    this.ondownload = ondownload;\n",
       "}\n",
       "\n",
       "mpl.figure.prototype._init_header = function() {\n",
       "    var titlebar = $(\n",
       "        '<div class=\"ui-dialog-titlebar ui-widget-header ui-corner-all ' +\n",
       "        'ui-helper-clearfix\"/>');\n",
       "    var titletext = $(\n",
       "        '<div class=\"ui-dialog-title\" style=\"width: 100%; ' +\n",
       "        'text-align: center; padding: 3px;\"/>');\n",
       "    titlebar.append(titletext)\n",
       "    this.root.append(titlebar);\n",
       "    this.header = titletext[0];\n",
       "}\n",
       "\n",
       "\n",
       "\n",
       "mpl.figure.prototype._canvas_extra_style = function(canvas_div) {\n",
       "\n",
       "}\n",
       "\n",
       "\n",
       "mpl.figure.prototype._root_extra_style = function(canvas_div) {\n",
       "\n",
       "}\n",
       "\n",
       "mpl.figure.prototype._init_canvas = function() {\n",
       "    var fig = this;\n",
       "\n",
       "    var canvas_div = $('<div/>');\n",
       "\n",
       "    canvas_div.attr('style', 'position: relative; clear: both; outline: 0');\n",
       "\n",
       "    function canvas_keyboard_event(event) {\n",
       "        return fig.key_event(event, event['data']);\n",
       "    }\n",
       "\n",
       "    canvas_div.keydown('key_press', canvas_keyboard_event);\n",
       "    canvas_div.keyup('key_release', canvas_keyboard_event);\n",
       "    this.canvas_div = canvas_div\n",
       "    this._canvas_extra_style(canvas_div)\n",
       "    this.root.append(canvas_div);\n",
       "\n",
       "    var canvas = $('<canvas/>');\n",
       "    canvas.addClass('mpl-canvas');\n",
       "    canvas.attr('style', \"left: 0; top: 0; z-index: 0; outline: 0\")\n",
       "\n",
       "    this.canvas = canvas[0];\n",
       "    this.context = canvas[0].getContext(\"2d\");\n",
       "\n",
       "    var backingStore = this.context.backingStorePixelRatio ||\n",
       "\tthis.context.webkitBackingStorePixelRatio ||\n",
       "\tthis.context.mozBackingStorePixelRatio ||\n",
       "\tthis.context.msBackingStorePixelRatio ||\n",
       "\tthis.context.oBackingStorePixelRatio ||\n",
       "\tthis.context.backingStorePixelRatio || 1;\n",
       "\n",
       "    mpl.ratio = (window.devicePixelRatio || 1) / backingStore;\n",
       "\n",
       "    var rubberband = $('<canvas/>');\n",
       "    rubberband.attr('style', \"position: absolute; left: 0; top: 0; z-index: 1;\")\n",
       "\n",
       "    var pass_mouse_events = true;\n",
       "\n",
       "    canvas_div.resizable({\n",
       "        start: function(event, ui) {\n",
       "            pass_mouse_events = false;\n",
       "        },\n",
       "        resize: function(event, ui) {\n",
       "            fig.request_resize(ui.size.width, ui.size.height);\n",
       "        },\n",
       "        stop: function(event, ui) {\n",
       "            pass_mouse_events = true;\n",
       "            fig.request_resize(ui.size.width, ui.size.height);\n",
       "        },\n",
       "    });\n",
       "\n",
       "    function mouse_event_fn(event) {\n",
       "        if (pass_mouse_events)\n",
       "            return fig.mouse_event(event, event['data']);\n",
       "    }\n",
       "\n",
       "    rubberband.mousedown('button_press', mouse_event_fn);\n",
       "    rubberband.mouseup('button_release', mouse_event_fn);\n",
       "    // Throttle sequential mouse events to 1 every 20ms.\n",
       "    rubberband.mousemove('motion_notify', mouse_event_fn);\n",
       "\n",
       "    rubberband.mouseenter('figure_enter', mouse_event_fn);\n",
       "    rubberband.mouseleave('figure_leave', mouse_event_fn);\n",
       "\n",
       "    canvas_div.on(\"wheel\", function (event) {\n",
       "        event = event.originalEvent;\n",
       "        event['data'] = 'scroll'\n",
       "        if (event.deltaY < 0) {\n",
       "            event.step = 1;\n",
       "        } else {\n",
       "            event.step = -1;\n",
       "        }\n",
       "        mouse_event_fn(event);\n",
       "    });\n",
       "\n",
       "    canvas_div.append(canvas);\n",
       "    canvas_div.append(rubberband);\n",
       "\n",
       "    this.rubberband = rubberband;\n",
       "    this.rubberband_canvas = rubberband[0];\n",
       "    this.rubberband_context = rubberband[0].getContext(\"2d\");\n",
       "    this.rubberband_context.strokeStyle = \"#000000\";\n",
       "\n",
       "    this._resize_canvas = function(width, height) {\n",
       "        // Keep the size of the canvas, canvas container, and rubber band\n",
       "        // canvas in synch.\n",
       "        canvas_div.css('width', width)\n",
       "        canvas_div.css('height', height)\n",
       "\n",
       "        canvas.attr('width', width * mpl.ratio);\n",
       "        canvas.attr('height', height * mpl.ratio);\n",
       "        canvas.attr('style', 'width: ' + width + 'px; height: ' + height + 'px;');\n",
       "\n",
       "        rubberband.attr('width', width);\n",
       "        rubberband.attr('height', height);\n",
       "    }\n",
       "\n",
       "    // Set the figure to an initial 600x600px, this will subsequently be updated\n",
       "    // upon first draw.\n",
       "    this._resize_canvas(600, 600);\n",
       "\n",
       "    // Disable right mouse context menu.\n",
       "    $(this.rubberband_canvas).bind(\"contextmenu\",function(e){\n",
       "        return false;\n",
       "    });\n",
       "\n",
       "    function set_focus () {\n",
       "        canvas.focus();\n",
       "        canvas_div.focus();\n",
       "    }\n",
       "\n",
       "    window.setTimeout(set_focus, 100);\n",
       "}\n",
       "\n",
       "mpl.figure.prototype._init_toolbar = function() {\n",
       "    var fig = this;\n",
       "\n",
       "    var nav_element = $('<div/>')\n",
       "    nav_element.attr('style', 'width: 100%');\n",
       "    this.root.append(nav_element);\n",
       "\n",
       "    // Define a callback function for later on.\n",
       "    function toolbar_event(event) {\n",
       "        return fig.toolbar_button_onclick(event['data']);\n",
       "    }\n",
       "    function toolbar_mouse_event(event) {\n",
       "        return fig.toolbar_button_onmouseover(event['data']);\n",
       "    }\n",
       "\n",
       "    for(var toolbar_ind in mpl.toolbar_items) {\n",
       "        var name = mpl.toolbar_items[toolbar_ind][0];\n",
       "        var tooltip = mpl.toolbar_items[toolbar_ind][1];\n",
       "        var image = mpl.toolbar_items[toolbar_ind][2];\n",
       "        var method_name = mpl.toolbar_items[toolbar_ind][3];\n",
       "\n",
       "        if (!name) {\n",
       "            // put a spacer in here.\n",
       "            continue;\n",
       "        }\n",
       "        var button = $('<button/>');\n",
       "        button.addClass('ui-button ui-widget ui-state-default ui-corner-all ' +\n",
       "                        'ui-button-icon-only');\n",
       "        button.attr('role', 'button');\n",
       "        button.attr('aria-disabled', 'false');\n",
       "        button.click(method_name, toolbar_event);\n",
       "        button.mouseover(tooltip, toolbar_mouse_event);\n",
       "\n",
       "        var icon_img = $('<span/>');\n",
       "        icon_img.addClass('ui-button-icon-primary ui-icon');\n",
       "        icon_img.addClass(image);\n",
       "        icon_img.addClass('ui-corner-all');\n",
       "\n",
       "        var tooltip_span = $('<span/>');\n",
       "        tooltip_span.addClass('ui-button-text');\n",
       "        tooltip_span.html(tooltip);\n",
       "\n",
       "        button.append(icon_img);\n",
       "        button.append(tooltip_span);\n",
       "\n",
       "        nav_element.append(button);\n",
       "    }\n",
       "\n",
       "    var fmt_picker_span = $('<span/>');\n",
       "\n",
       "    var fmt_picker = $('<select/>');\n",
       "    fmt_picker.addClass('mpl-toolbar-option ui-widget ui-widget-content');\n",
       "    fmt_picker_span.append(fmt_picker);\n",
       "    nav_element.append(fmt_picker_span);\n",
       "    this.format_dropdown = fmt_picker[0];\n",
       "\n",
       "    for (var ind in mpl.extensions) {\n",
       "        var fmt = mpl.extensions[ind];\n",
       "        var option = $(\n",
       "            '<option/>', {selected: fmt === mpl.default_extension}).html(fmt);\n",
       "        fmt_picker.append(option)\n",
       "    }\n",
       "\n",
       "    // Add hover states to the ui-buttons\n",
       "    $( \".ui-button\" ).hover(\n",
       "        function() { $(this).addClass(\"ui-state-hover\");},\n",
       "        function() { $(this).removeClass(\"ui-state-hover\");}\n",
       "    );\n",
       "\n",
       "    var status_bar = $('<span class=\"mpl-message\"/>');\n",
       "    nav_element.append(status_bar);\n",
       "    this.message = status_bar[0];\n",
       "}\n",
       "\n",
       "mpl.figure.prototype.request_resize = function(x_pixels, y_pixels) {\n",
       "    // Request matplotlib to resize the figure. Matplotlib will then trigger a resize in the client,\n",
       "    // which will in turn request a refresh of the image.\n",
       "    this.send_message('resize', {'width': x_pixels, 'height': y_pixels});\n",
       "}\n",
       "\n",
       "mpl.figure.prototype.send_message = function(type, properties) {\n",
       "    properties['type'] = type;\n",
       "    properties['figure_id'] = this.id;\n",
       "    this.ws.send(JSON.stringify(properties));\n",
       "}\n",
       "\n",
       "mpl.figure.prototype.send_draw_message = function() {\n",
       "    if (!this.waiting) {\n",
       "        this.waiting = true;\n",
       "        this.ws.send(JSON.stringify({type: \"draw\", figure_id: this.id}));\n",
       "    }\n",
       "}\n",
       "\n",
       "\n",
       "mpl.figure.prototype.handle_save = function(fig, msg) {\n",
       "    var format_dropdown = fig.format_dropdown;\n",
       "    var format = format_dropdown.options[format_dropdown.selectedIndex].value;\n",
       "    fig.ondownload(fig, format);\n",
       "}\n",
       "\n",
       "\n",
       "mpl.figure.prototype.handle_resize = function(fig, msg) {\n",
       "    var size = msg['size'];\n",
       "    if (size[0] != fig.canvas.width || size[1] != fig.canvas.height) {\n",
       "        fig._resize_canvas(size[0], size[1]);\n",
       "        fig.send_message(\"refresh\", {});\n",
       "    };\n",
       "}\n",
       "\n",
       "mpl.figure.prototype.handle_rubberband = function(fig, msg) {\n",
       "    var x0 = msg['x0'] / mpl.ratio;\n",
       "    var y0 = (fig.canvas.height - msg['y0']) / mpl.ratio;\n",
       "    var x1 = msg['x1'] / mpl.ratio;\n",
       "    var y1 = (fig.canvas.height - msg['y1']) / mpl.ratio;\n",
       "    x0 = Math.floor(x0) + 0.5;\n",
       "    y0 = Math.floor(y0) + 0.5;\n",
       "    x1 = Math.floor(x1) + 0.5;\n",
       "    y1 = Math.floor(y1) + 0.5;\n",
       "    var min_x = Math.min(x0, x1);\n",
       "    var min_y = Math.min(y0, y1);\n",
       "    var width = Math.abs(x1 - x0);\n",
       "    var height = Math.abs(y1 - y0);\n",
       "\n",
       "    fig.rubberband_context.clearRect(\n",
       "        0, 0, fig.canvas.width, fig.canvas.height);\n",
       "\n",
       "    fig.rubberband_context.strokeRect(min_x, min_y, width, height);\n",
       "}\n",
       "\n",
       "mpl.figure.prototype.handle_figure_label = function(fig, msg) {\n",
       "    // Updates the figure title.\n",
       "    fig.header.textContent = msg['label'];\n",
       "}\n",
       "\n",
       "mpl.figure.prototype.handle_cursor = function(fig, msg) {\n",
       "    var cursor = msg['cursor'];\n",
       "    switch(cursor)\n",
       "    {\n",
       "    case 0:\n",
       "        cursor = 'pointer';\n",
       "        break;\n",
       "    case 1:\n",
       "        cursor = 'default';\n",
       "        break;\n",
       "    case 2:\n",
       "        cursor = 'crosshair';\n",
       "        break;\n",
       "    case 3:\n",
       "        cursor = 'move';\n",
       "        break;\n",
       "    }\n",
       "    fig.rubberband_canvas.style.cursor = cursor;\n",
       "}\n",
       "\n",
       "mpl.figure.prototype.handle_message = function(fig, msg) {\n",
       "    fig.message.textContent = msg['message'];\n",
       "}\n",
       "\n",
       "mpl.figure.prototype.handle_draw = function(fig, msg) {\n",
       "    // Request the server to send over a new figure.\n",
       "    fig.send_draw_message();\n",
       "}\n",
       "\n",
       "mpl.figure.prototype.handle_image_mode = function(fig, msg) {\n",
       "    fig.image_mode = msg['mode'];\n",
       "}\n",
       "\n",
       "mpl.figure.prototype.updated_canvas_event = function() {\n",
       "    // Called whenever the canvas gets updated.\n",
       "    this.send_message(\"ack\", {});\n",
       "}\n",
       "\n",
       "// A function to construct a web socket function for onmessage handling.\n",
       "// Called in the figure constructor.\n",
       "mpl.figure.prototype._make_on_message_function = function(fig) {\n",
       "    return function socket_on_message(evt) {\n",
       "        if (evt.data instanceof Blob) {\n",
       "            /* FIXME: We get \"Resource interpreted as Image but\n",
       "             * transferred with MIME type text/plain:\" errors on\n",
       "             * Chrome.  But how to set the MIME type?  It doesn't seem\n",
       "             * to be part of the websocket stream */\n",
       "            evt.data.type = \"image/png\";\n",
       "\n",
       "            /* Free the memory for the previous frames */\n",
       "            if (fig.imageObj.src) {\n",
       "                (window.URL || window.webkitURL).revokeObjectURL(\n",
       "                    fig.imageObj.src);\n",
       "            }\n",
       "\n",
       "            fig.imageObj.src = (window.URL || window.webkitURL).createObjectURL(\n",
       "                evt.data);\n",
       "            fig.updated_canvas_event();\n",
       "            fig.waiting = false;\n",
       "            return;\n",
       "        }\n",
       "        else if (typeof evt.data === 'string' && evt.data.slice(0, 21) == \"data:image/png;base64\") {\n",
       "            fig.imageObj.src = evt.data;\n",
       "            fig.updated_canvas_event();\n",
       "            fig.waiting = false;\n",
       "            return;\n",
       "        }\n",
       "\n",
       "        var msg = JSON.parse(evt.data);\n",
       "        var msg_type = msg['type'];\n",
       "\n",
       "        // Call the  \"handle_{type}\" callback, which takes\n",
       "        // the figure and JSON message as its only arguments.\n",
       "        try {\n",
       "            var callback = fig[\"handle_\" + msg_type];\n",
       "        } catch (e) {\n",
       "            console.log(\"No handler for the '\" + msg_type + \"' message type: \", msg);\n",
       "            return;\n",
       "        }\n",
       "\n",
       "        if (callback) {\n",
       "            try {\n",
       "                // console.log(\"Handling '\" + msg_type + \"' message: \", msg);\n",
       "                callback(fig, msg);\n",
       "            } catch (e) {\n",
       "                console.log(\"Exception inside the 'handler_\" + msg_type + \"' callback:\", e, e.stack, msg);\n",
       "            }\n",
       "        }\n",
       "    };\n",
       "}\n",
       "\n",
       "// from http://stackoverflow.com/questions/1114465/getting-mouse-location-in-canvas\n",
       "mpl.findpos = function(e) {\n",
       "    //this section is from http://www.quirksmode.org/js/events_properties.html\n",
       "    var targ;\n",
       "    if (!e)\n",
       "        e = window.event;\n",
       "    if (e.target)\n",
       "        targ = e.target;\n",
       "    else if (e.srcElement)\n",
       "        targ = e.srcElement;\n",
       "    if (targ.nodeType == 3) // defeat Safari bug\n",
       "        targ = targ.parentNode;\n",
       "\n",
       "    // jQuery normalizes the pageX and pageY\n",
       "    // pageX,Y are the mouse positions relative to the document\n",
       "    // offset() returns the position of the element relative to the document\n",
       "    var x = e.pageX - $(targ).offset().left;\n",
       "    var y = e.pageY - $(targ).offset().top;\n",
       "\n",
       "    return {\"x\": x, \"y\": y};\n",
       "};\n",
       "\n",
       "/*\n",
       " * return a copy of an object with only non-object keys\n",
       " * we need this to avoid circular references\n",
       " * http://stackoverflow.com/a/24161582/3208463\n",
       " */\n",
       "function simpleKeys (original) {\n",
       "  return Object.keys(original).reduce(function (obj, key) {\n",
       "    if (typeof original[key] !== 'object')\n",
       "        obj[key] = original[key]\n",
       "    return obj;\n",
       "  }, {});\n",
       "}\n",
       "\n",
       "mpl.figure.prototype.mouse_event = function(event, name) {\n",
       "    var canvas_pos = mpl.findpos(event)\n",
       "\n",
       "    if (name === 'button_press')\n",
       "    {\n",
       "        this.canvas.focus();\n",
       "        this.canvas_div.focus();\n",
       "    }\n",
       "\n",
       "    var x = canvas_pos.x * mpl.ratio;\n",
       "    var y = canvas_pos.y * mpl.ratio;\n",
       "\n",
       "    this.send_message(name, {x: x, y: y, button: event.button,\n",
       "                             step: event.step,\n",
       "                             guiEvent: simpleKeys(event)});\n",
       "\n",
       "    /* This prevents the web browser from automatically changing to\n",
       "     * the text insertion cursor when the button is pressed.  We want\n",
       "     * to control all of the cursor setting manually through the\n",
       "     * 'cursor' event from matplotlib */\n",
       "    event.preventDefault();\n",
       "    return false;\n",
       "}\n",
       "\n",
       "mpl.figure.prototype._key_event_extra = function(event, name) {\n",
       "    // Handle any extra behaviour associated with a key event\n",
       "}\n",
       "\n",
       "mpl.figure.prototype.key_event = function(event, name) {\n",
       "\n",
       "    // Prevent repeat events\n",
       "    if (name == 'key_press')\n",
       "    {\n",
       "        if (event.which === this._key)\n",
       "            return;\n",
       "        else\n",
       "            this._key = event.which;\n",
       "    }\n",
       "    if (name == 'key_release')\n",
       "        this._key = null;\n",
       "\n",
       "    var value = '';\n",
       "    if (event.ctrlKey && event.which != 17)\n",
       "        value += \"ctrl+\";\n",
       "    if (event.altKey && event.which != 18)\n",
       "        value += \"alt+\";\n",
       "    if (event.shiftKey && event.which != 16)\n",
       "        value += \"shift+\";\n",
       "\n",
       "    value += 'k';\n",
       "    value += event.which.toString();\n",
       "\n",
       "    this._key_event_extra(event, name);\n",
       "\n",
       "    this.send_message(name, {key: value,\n",
       "                             guiEvent: simpleKeys(event)});\n",
       "    return false;\n",
       "}\n",
       "\n",
       "mpl.figure.prototype.toolbar_button_onclick = function(name) {\n",
       "    if (name == 'download') {\n",
       "        this.handle_save(this, null);\n",
       "    } else {\n",
       "        this.send_message(\"toolbar_button\", {name: name});\n",
       "    }\n",
       "};\n",
       "\n",
       "mpl.figure.prototype.toolbar_button_onmouseover = function(tooltip) {\n",
       "    this.message.textContent = tooltip;\n",
       "};\n",
       "mpl.toolbar_items = [[\"Home\", \"Reset original view\", \"fa fa-home icon-home\", \"home\"], [\"Back\", \"Back to  previous view\", \"fa fa-arrow-left icon-arrow-left\", \"back\"], [\"Forward\", \"Forward to next view\", \"fa fa-arrow-right icon-arrow-right\", \"forward\"], [\"\", \"\", \"\", \"\"], [\"Pan\", \"Pan axes with left mouse, zoom with right\", \"fa fa-arrows icon-move\", \"pan\"], [\"Zoom\", \"Zoom to rectangle\", \"fa fa-square-o icon-check-empty\", \"zoom\"], [\"\", \"\", \"\", \"\"], [\"Download\", \"Download plot\", \"fa fa-floppy-o icon-save\", \"download\"]];\n",
       "\n",
       "mpl.extensions = [\"eps\", \"pdf\", \"png\", \"ps\", \"raw\", \"svg\"];\n",
       "\n",
       "mpl.default_extension = \"png\";var comm_websocket_adapter = function(comm) {\n",
       "    // Create a \"websocket\"-like object which calls the given IPython comm\n",
       "    // object with the appropriate methods. Currently this is a non binary\n",
       "    // socket, so there is still some room for performance tuning.\n",
       "    var ws = {};\n",
       "\n",
       "    ws.close = function() {\n",
       "        comm.close()\n",
       "    };\n",
       "    ws.send = function(m) {\n",
       "        //console.log('sending', m);\n",
       "        comm.send(m);\n",
       "    };\n",
       "    // Register the callback with on_msg.\n",
       "    comm.on_msg(function(msg) {\n",
       "        //console.log('receiving', msg['content']['data'], msg);\n",
       "        // Pass the mpl event to the overridden (by mpl) onmessage function.\n",
       "        ws.onmessage(msg['content']['data'])\n",
       "    });\n",
       "    return ws;\n",
       "}\n",
       "\n",
       "mpl.mpl_figure_comm = function(comm, msg) {\n",
       "    // This is the function which gets called when the mpl process\n",
       "    // starts-up an IPython Comm through the \"matplotlib\" channel.\n",
       "\n",
       "    var id = msg.content.data.id;\n",
       "    // Get hold of the div created by the display call when the Comm\n",
       "    // socket was opened in Python.\n",
       "    var element = $(\"#\" + id);\n",
       "    var ws_proxy = comm_websocket_adapter(comm)\n",
       "\n",
       "    function ondownload(figure, format) {\n",
       "        window.open(figure.imageObj.src);\n",
       "    }\n",
       "\n",
       "    var fig = new mpl.figure(id, ws_proxy,\n",
       "                           ondownload,\n",
       "                           element.get(0));\n",
       "\n",
       "    // Call onopen now - mpl needs it, as it is assuming we've passed it a real\n",
       "    // web socket which is closed, not our websocket->open comm proxy.\n",
       "    ws_proxy.onopen();\n",
       "\n",
       "    fig.parent_element = element.get(0);\n",
       "    fig.cell_info = mpl.find_output_cell(\"<div id='\" + id + \"'></div>\");\n",
       "    if (!fig.cell_info) {\n",
       "        console.error(\"Failed to find cell for figure\", id, fig);\n",
       "        return;\n",
       "    }\n",
       "\n",
       "    var output_index = fig.cell_info[2]\n",
       "    var cell = fig.cell_info[0];\n",
       "\n",
       "};\n",
       "\n",
       "mpl.figure.prototype.handle_close = function(fig, msg) {\n",
       "    var width = fig.canvas.width/mpl.ratio\n",
       "    fig.root.unbind('remove')\n",
       "\n",
       "    // Update the output cell to use the data from the current canvas.\n",
       "    fig.push_to_output();\n",
       "    var dataURL = fig.canvas.toDataURL();\n",
       "    // Re-enable the keyboard manager in IPython - without this line, in FF,\n",
       "    // the notebook keyboard shortcuts fail.\n",
       "    IPython.keyboard_manager.enable()\n",
       "    $(fig.parent_element).html('<img src=\"' + dataURL + '\" width=\"' + width + '\">');\n",
       "    fig.close_ws(fig, msg);\n",
       "}\n",
       "\n",
       "mpl.figure.prototype.close_ws = function(fig, msg){\n",
       "    fig.send_message('closing', msg);\n",
       "    // fig.ws.close()\n",
       "}\n",
       "\n",
       "mpl.figure.prototype.push_to_output = function(remove_interactive) {\n",
       "    // Turn the data on the canvas into data in the output cell.\n",
       "    var width = this.canvas.width/mpl.ratio\n",
       "    var dataURL = this.canvas.toDataURL();\n",
       "    this.cell_info[1]['text/html'] = '<img src=\"' + dataURL + '\" width=\"' + width + '\">';\n",
       "}\n",
       "\n",
       "mpl.figure.prototype.updated_canvas_event = function() {\n",
       "    // Tell IPython that the notebook contents must change.\n",
       "    IPython.notebook.set_dirty(true);\n",
       "    this.send_message(\"ack\", {});\n",
       "    var fig = this;\n",
       "    // Wait a second, then push the new image to the DOM so\n",
       "    // that it is saved nicely (might be nice to debounce this).\n",
       "    setTimeout(function () { fig.push_to_output() }, 1000);\n",
       "}\n",
       "\n",
       "mpl.figure.prototype._init_toolbar = function() {\n",
       "    var fig = this;\n",
       "\n",
       "    var nav_element = $('<div/>')\n",
       "    nav_element.attr('style', 'width: 100%');\n",
       "    this.root.append(nav_element);\n",
       "\n",
       "    // Define a callback function for later on.\n",
       "    function toolbar_event(event) {\n",
       "        return fig.toolbar_button_onclick(event['data']);\n",
       "    }\n",
       "    function toolbar_mouse_event(event) {\n",
       "        return fig.toolbar_button_onmouseover(event['data']);\n",
       "    }\n",
       "\n",
       "    for(var toolbar_ind in mpl.toolbar_items){\n",
       "        var name = mpl.toolbar_items[toolbar_ind][0];\n",
       "        var tooltip = mpl.toolbar_items[toolbar_ind][1];\n",
       "        var image = mpl.toolbar_items[toolbar_ind][2];\n",
       "        var method_name = mpl.toolbar_items[toolbar_ind][3];\n",
       "\n",
       "        if (!name) { continue; };\n",
       "\n",
       "        var button = $('<button class=\"btn btn-default\" href=\"#\" title=\"' + name + '\"><i class=\"fa ' + image + ' fa-lg\"></i></button>');\n",
       "        button.click(method_name, toolbar_event);\n",
       "        button.mouseover(tooltip, toolbar_mouse_event);\n",
       "        nav_element.append(button);\n",
       "    }\n",
       "\n",
       "    // Add the status bar.\n",
       "    var status_bar = $('<span class=\"mpl-message\" style=\"text-align:right; float: right;\"/>');\n",
       "    nav_element.append(status_bar);\n",
       "    this.message = status_bar[0];\n",
       "\n",
       "    // Add the close button to the window.\n",
       "    var buttongrp = $('<div class=\"btn-group inline pull-right\"></div>');\n",
       "    var button = $('<button class=\"btn btn-mini btn-primary\" href=\"#\" title=\"Stop Interaction\"><i class=\"fa fa-power-off icon-remove icon-large\"></i></button>');\n",
       "    button.click(function (evt) { fig.handle_close(fig, {}); } );\n",
       "    button.mouseover('Stop Interaction', toolbar_mouse_event);\n",
       "    buttongrp.append(button);\n",
       "    var titlebar = this.root.find($('.ui-dialog-titlebar'));\n",
       "    titlebar.prepend(buttongrp);\n",
       "}\n",
       "\n",
       "mpl.figure.prototype._root_extra_style = function(el){\n",
       "    var fig = this\n",
       "    el.on(\"remove\", function(){\n",
       "\tfig.close_ws(fig, {});\n",
       "    });\n",
       "}\n",
       "\n",
       "mpl.figure.prototype._canvas_extra_style = function(el){\n",
       "    // this is important to make the div 'focusable\n",
       "    el.attr('tabindex', 0)\n",
       "    // reach out to IPython and tell the keyboard manager to turn it's self\n",
       "    // off when our div gets focus\n",
       "\n",
       "    // location in version 3\n",
       "    if (IPython.notebook.keyboard_manager) {\n",
       "        IPython.notebook.keyboard_manager.register_events(el);\n",
       "    }\n",
       "    else {\n",
       "        // location in version 2\n",
       "        IPython.keyboard_manager.register_events(el);\n",
       "    }\n",
       "\n",
       "}\n",
       "\n",
       "mpl.figure.prototype._key_event_extra = function(event, name) {\n",
       "    var manager = IPython.notebook.keyboard_manager;\n",
       "    if (!manager)\n",
       "        manager = IPython.keyboard_manager;\n",
       "\n",
       "    // Check for shift+enter\n",
       "    if (event.shiftKey && event.which == 13) {\n",
       "        this.canvas_div.blur();\n",
       "        event.shiftKey = false;\n",
       "        // Send a \"J\" for go to next cell\n",
       "        event.which = 74;\n",
       "        event.keyCode = 74;\n",
       "        manager.command_mode();\n",
       "        manager.handle_keydown(event);\n",
       "    }\n",
       "}\n",
       "\n",
       "mpl.figure.prototype.handle_save = function(fig, msg) {\n",
       "    fig.ondownload(fig, null);\n",
       "}\n",
       "\n",
       "\n",
       "mpl.find_output_cell = function(html_output) {\n",
       "    // Return the cell and output element which can be found *uniquely* in the notebook.\n",
       "    // Note - this is a bit hacky, but it is done because the \"notebook_saving.Notebook\"\n",
       "    // IPython event is triggered only after the cells have been serialised, which for\n",
       "    // our purposes (turning an active figure into a static one), is too late.\n",
       "    var cells = IPython.notebook.get_cells();\n",
       "    var ncells = cells.length;\n",
       "    for (var i=0; i<ncells; i++) {\n",
       "        var cell = cells[i];\n",
       "        if (cell.cell_type === 'code'){\n",
       "            for (var j=0; j<cell.output_area.outputs.length; j++) {\n",
       "                var data = cell.output_area.outputs[j];\n",
       "                if (data.data) {\n",
       "                    // IPython >= 3 moved mimebundle to data attribute of output\n",
       "                    data = data.data;\n",
       "                }\n",
       "                if (data['text/html'] == html_output) {\n",
       "                    return [cell, data, j];\n",
       "                }\n",
       "            }\n",
       "        }\n",
       "    }\n",
       "}\n",
       "\n",
       "// Register the function which deals with the matplotlib target/channel.\n",
       "// The kernel may be null if the page has been refreshed.\n",
       "if (IPython.notebook.kernel != null) {\n",
       "    IPython.notebook.kernel.comm_manager.register_target('matplotlib', mpl.mpl_figure_comm);\n",
       "}\n"
      ],
      "text/plain": [
       "<IPython.core.display.Javascript object>"
      ]
     },
     "metadata": {},
     "output_type": "display_data"
    },
    {
     "data": {
      "text/html": [
       "<img src=\"data:image/png;base64,iVBORw0KGgoAAAANSUhEUgAABTUAAAU1CAYAAADCiSCVAAAgAElEQVR4nOzdf8zf5V3v8atF73krm7/OsD0JlhhaOzRH9IYDGmBBBkJoKjO1JyUF4k6oXWLJ5jk4YTR1a1qr6Q1tMQujm84luKFATFMwtmDoWIzklAS65ESb6TpjKlTm2hoZ9tfr/GF659zcb2hvyrivT/t4JFeyfr+f3r3uLHn98eT+0QIAAAAAMCBtpi8AAAAAADAdoiYAAAAAMCiiJgAAAAAwKKImAAAAADAooiYAAAAAMCiiJgAAAAAwKKImAAAAADAooiYAAAAAMCiiJgAAAAAwKKImAAAAADAooiYAAAAAMCiiJgAAAAAwKKImAAAAADAooiYAAAAAMCiiJgAAAAAwKKImAAAAADAooiYAAAAAMCiiJgAAAAAwKKImAAAAADAooiYAAAAAMCiiJgAAAAAwKKImAAAAADAooiYAAAAAMCiiJgAAAAAwKKImAAAAADAooiYAAAAAMCiiJgAAAAAwKKImAAAAADAooiYAAAAAMCiiJgAAAAAwKKImAAAAADAooiYAAAAAMCiiJgAAAAAwKKImAAAAADAooiYAAAAAMCiiJgAAAAAwKKImAAAAADAooiYAAAAAMCiiJgAAAAAwKKImAAAAADAooiYAAAAAMCiiJgAAAAAwKKImAAAAADAooiYAAAAAMCiiJgAAAAAwKKImAAAAADAooiYAAAAAMCiiJgAAAAAwKKImAAAAADAooiYAAAAAMCiiJgAAAAAwKKImAAAAADAooiYAAAAAMCiiJgAAAAAwKKImAAAAADAooiYAAAAAMCiiJgAAAAAwKKImAAAAADAooiYAAAAAMCiiJgAAAAAwKKImAAAAADAooiYAAAAAMCiiJgAAAAAwKKImAAAAADAooiYAAAAAMCiiJgAAAAAwKKImAAAAADAooiYAAAAAMCiiJgAAAAAwKKImAAAAADAooiYAAAAAMCiiJgAAAAAwKKImAAAAADAooiYAAAAAMCiiJgAAAAAwKKImAAAAADAooiYAAAAAMCiiJgAAAAAwKKImAAAAADAooiYAAAAAMCiiJgAAAAAwKKImAAAAADAooiYAAAAAMCiiJgAAAAAwKKImAAAAADAooiYAAAAAMCiiJgAAAAAwKKImAAAAADAooiYAAAAAMCiiJgAAAAAwKKImAAAAADAooiYAAAAAMCiiJgAAAAAwKKImAAAAADAooiYAAAAAMCiiJgAAAAAwKKImAAAAADAooiYAAAAAMCiiJgAAAAAwKKImAAAAADAooiYAAAAAMCiiJgAAAAAwKKImAAAAADAooiYAAAAAMCiiJgAAAAAwKKImAAAAADAooiYAAAAAMCiiJgAAAAAwKKImAAAAADAooiYAAAAAMCiiJgAAAAAwKKImAAAAADAooiYAAAAAMCiiJgAAAAAwKKImAAAAADAooiYAAAAAMCiiJgAAAAAwKKImAAAAADAooiYAAAAAMCiiJgAAAAAwKKImAAAAADAooiYAAAAAMCiiJgAAAAAwKKImAAAAADAooiYAAAAAMCiiJgAAAAAwKKImAAAAADAooiYAAAAAMCiiJgAAAAAwKKImAAAAADAooiYAAAAAMCiiJgAAAAAwKKImAAAAADAooiYAAAAAMCiiJgAAAAAwKKImAAAAADAooiYAAAAAMCiiJgAAAAAwKKImAAAAADAooiYAAAAAMCiiJgAAAAAwKKImAAAAADAooiYAAAAAMCiiJgAAAAAwKKImAAAAADAooiYAAAAAMCiiJgAAAAAwKKImAAAAADAooiYAAAAAMCiiJgAAAAAwKKImAAAAADAooiYAAAAAMCiiJgAAAAAwKKImAAAAADAooiYAAAAAMCiiJgAAAAAwKKImAAAAADAooiYAAAAAMCiiJl3at29ftmzZku3bt2fXrl2O4ziO4ziO4ziO45yjZ/v27dmyZUv27ds307mCjoiadGnLli1prTmO4ziO4ziO4ziO46S1li1btsx0rqAjoiZd2r59+8RgzfR/EXIcx3Ecx3Ecx3EcZ+bOyS982r59+0znCjoiatKlXbt2pbWWXbt2zfRVAAAAgBmkEVARNemSwQIAAAASjYCaqEmXDBYAAACQaATURE26ZLAAAACARCOgJmrSJYMFAAAAJBoBNVGTLhksAAAAINEIqImadMlgAQAAAIlGQE3UpEsGCwAAAEg0AmqiJl0yWAAAAECiEVATNemSwQIAAAASjYCaqEmXDBYAAACQaATURE26ZLAAAACARCOgJmrSJYMFAAAAJBoBNVGTLhksAAAAINEIqImadMlgAQAAAIlGQE3UpEsGCwAAAEg0AmqiJl0yWAAAAECiEVATNemSwQIAAAASjYCaqEmXDBYAAACQaATURE26ZLAAAACARCOgJmrSJYMFAAAAJBoBNVGTLhksAAAAINEIqImadMlgAQAAAIlGQE3UpEsGCwAAAEg0AmqiJl0yWAAAAECiEVATNemSwQIAAAASjYCaqEmXDBYAAACQaATURE26ZLAAAACARCOgJmrSJYMFAAAAJBoBNVGTLhksAAAAINEIqImadMlgAQAAAIlGQE3UpEsGCwCGaffu3RkbG8vu3btn+ioAwFlCI6AiatIlgwUAwyRqAgDvNI2AiqhJlwwWAAyTqAkAvNM0AiqiJl0yWAAwTG+MmidOnMiXv/zlLFu2LNdcc02uuuqqLF68OJ/85CfzrW99a4ZvCwAMgUZARdSkSwYLAIbpjVHz85//fMbGxnLXXXfl0UcfzRNPPJHPfOYzue222/J3f/d3M3xbAGAINAIqoiZdMlgAcHa49dZbs2TJkpm+BgAwYBoBFVGTLhksADg7/Pqv/3quueaavPDCCzN9FQBgoDQCKqImXTJYANC/vfsPZnzbi1k6viM3r3sqS8d3ZHzbi9m7/+DEM1/72tdyww03ZGxsLDfeeGM+8YlP5LHHHsvhw4dn8OYAwJBoBFRETbpksACgX8eOH8+m7Xtyw6e3v+nZtH1Pjh0/niT5zne+k2effTYbN27MsmXLMjY2luuuuy7/8A//MMOfCQAwBBoBFVGTLhksAOjXqYLmybP5yT3l3//KV76SsbGxrFmz5t29OAAwSBoBFVGTLhksAOjT3v0HTytonjz/5//um/Ix/uVf/iVjY2P52Mc+NgOfAQAwNBoBFVGTLhksAOjT+LYXpxU15/+3/5677rorDz/8cP78z/88f/zHf5wlS5ZkbGwsTz/99Ex/OgDAAGgEVERNumSwAKBPS8d3TCtqXv4//nfuvPPOXH/99bniiityww03ZNWqVfmbv/mbmf5UAICB0AioiJp0yWABQJ9uXvfUtKLmzeuemukrAwADpxFQETXpksECgD5N9ys1l47vmOkrAwADpxFQETXpksECgD5N92dq3r/tpZm+MgAwcBoBFVGTLhksAOjTdH/7+d79B2f6ygDAwGkEVERNumSwAKBfm7bvOa2gufnJPTN9VQDgLKARUBE16ZLBAoB+HTt+PJuffOuwufnJPTl2/PhMXxUAOAtoBFRETbpksACgf3v3H8z9217K0vEduXndU1k6viP3b3vJt5wDAO8ojYCKqEmXDBYAAACQaATURE26ZLAAAACARCOgJmrSJYMFAAAAJBoBNVGTLhksAAAAINEIqImadMlgAQAAAIlGQE3UpEsGCwAAAEg0AmqiJl0yWAAAAECiEVATNemSwQIAAAASjYCaqEmXDBYAAACQaATURE26ZLAAAACARCOgJmrSJYMFAAAAJBoBNVGTLhksAAAAINEIqImadMlgAQAAAIlGQE3UpEsGCwAAAEg0AmqiJl0yWAAAAECiEVATNemSwQIAAAASjYCaqEmXDBYAAACQaATURE26ZLAAAACARCOgJmrSJYMFAADA27V3/8GMb3sxS8d35OZ1T2Xp+I6Mb3sxe/cfnOmr8TZoBFRETbpksAAAAJiuY8ePZ9P2Pbnh09vf9GzavifHjh+f6asyDRoBFVGTLhksAAAAputUQfPk2fzknpm+KtOgEVARNemSwQIAAGA69u4/+JYh8+qPfz7X/K8vTPzZt6IPh0ZARdSkSwYLAACA6Rjf9uJbRs33/deL818WXD7x5/u3vTTTV+Y0aQRURE26ZLAAAACYjqXjO6YVNZeO75jpK3OaNAIqoiZdMlgAAABMx83rnjqtn6d58ty87qmZvjKnSSOgImrSJYMFAADAdJzqKzXfeHyl5nBoBFRETbpksAAAAJiOU/1MzTceP1NzODQCKqImXTJYAAAATMepfvv5G4/ffj4cGgEVUZMuGSwAAACma9P2PacVNDc/uWemr8o0aARURE26ZLAAAACYrmPHj2fzk28dNjc/uSfHjh+f6asyDRoBFVGTLhksAAAA3q69+w/m/m0vZen4jty87qksHd+R+7e95FvOB0ojoCJq0iWDBQAAACQaATVRky4ZLAAAACDRCKiJmnTJYAEAAACJRkBN1KRLBgsAAABINAJqoiZdMlgAAABAohFQEzXpksECAAAAEo2AmqhJlwwWAAAAkGgE1ERNumSwAAAAgEQjoCZq0iWDBQAAACQaATVRky4ZrO++3bt3Z2xsLLt3757pqwAAAMCb0gioiJp0yWB994maAAAADIFGQEXUpEsG67vvdKPmd77znXfpRgAAADCVRkBF1KRLBuu7741Rc9u2bRkbG8vzzz+fL3zhC/mVX/mVXHHFFdm4cePE39m/f3/Wrl2bm266KVdccUVuuOGGrFmzJv/8z/88U58GAAAAZzmNgIqoSZcM1nffm0XNW2+9NR/+8Ifzuc99Lk888UT+6q/+Kkny9a9/Pddee20+9KEP5cEHH8wTTzyRz3zmM/nFX/zFXH/99Xn55Zdn8tMBAADgLKURUBE1z3K/+7u/m6VLl+biiy/OrFmz0tpb/19+9OjRbNiwIQsWLMjIyEjmzp2blStX5tVXXy2ff/XVV7Ny5crMnTs3IyMjWbBgQTZs2JCjR4+e0b0N1rvvZNT85V/+5fz7v//7lPeXL1+em266Kd/61rcmvf5P//RPufrqq/OpT33q3boqAAAA5xCNgIqoeZZrreWHfuiHcu2112bOnDmnjJrLly9Pay2LFi3Kww8/nHvuuSejo6O55JJLcvjw4UnPHj58OJdccknOO++8rFq1Klu3bs1tt92W1lqWL19+Rvc2WO++k1HzkUcemfLe3//932dsbCwPPPBAvv3tb085H/3oR3PjjTfOwK0BAAA422kEVETNs9zXv/71if/9wQ9+8C2j5jPPPJPWWhYvXjzp9cceeyyttaxevXrS66tXr05rLePj45Ne/43f+I201vLMM8+87XsbrHfW3v0HM77txSwd35Gb1z2VpeM7Mr7txezdf3DimZNR86tf/eqUv79z586MjY295bn88svfzU8JAACAc4RGQEXUPIecKmrecccdaa3l2WefnfLeRRddlHnz5k16bd68eRkdHc1rr7026fVvfOMbaa3ljjvueNt3NVjvjGPHj2fT9j254dPb3/Rs2r4nx44fn4ia1W9D/8u//MuMjY1lw4YNef7559/0AAAAwDtNI6Aiap5DThU1Fy5cmNmzZ+f111+f8t6yZcvSWssrr7ySJHn55ZfTWssv/MIvlB9r7ty5+cAHPvC272qw3hmnCponz+Yn97xl1Pzbv/3bjI2NZf369TPwWQAAAHAu0wioiJrnkFNFzfPPPz8XXHBB+d7dd9+d1lpeeOGFJP/5m7Nba1m6dGn5/OWXX573vve9p3Wvffv2ZdeuXZPOli1bDNYZ2rv/4GkFzZPnoS986U2j5okTJ7Js2bL8/M//fPbu3Vv+e2/8BUIAAADwThA1qYia55BTRc3Zs2fnwgsvLN87+fMzn3vuuSTJV77ylbTWctttt5XPX3311TnvvPNO615r1qxJa608BuvtG9/24rSi5v+8b/ObRs3kP38+63XXXZcrr7wya9euzaOPPppHH300mzZtypIlS7JmzZp39xMEAADgnCBqUhE1zyG+UvPcsnR8x7Si5lUf+dRbRs0kOXDgQDZu3JhbbrklV155ZT74wQ/mV3/1V7Nu3bp87Wtfexc/OwAAAM4VoiYVUfMc4mdqnltuXvfUtKLmzeuemukrAwAAwBQaARVR8xxyqqh5++23v+lIVL/9/Md//Mfz/d///X77eaem+5WaS8d3zPSVAQAAYAqNgIqoeQ45VdTcuXNnWmtZvHjxpNcff/zxtNZy3333TXr9k5/8ZFprGR8fn/T6qlWr0lrL008//bbvarDO3HR/pub9216a6SsDAADAFBoBFVHzLPfFL34xa9euzdq1a3PRRReltTbx57Vr1055/uS3mS9atChbt27Nvffem9HR0SxcuDCHDh2a9OyhQ4fykz/5kznvvPOyatWqfO5zn5v4as9ly5ad0b0N1pmb7m8/37v/4ExfGQAAAKbQCKiImme5k1+d+WbnjY4cOZL169dn/vz5GRkZyZw5c7JixYocOHCg/PgHDhzIihUrMmfOnIyMjGT+/PlZv359jhw5ckb3NljvjE3b95xW0Nz85J6ZvioAAACUNAIqoiZdMljvjGPHj2fzk28dNjc/uSfHjh+f6asCAABASSOgImrSJYP1ztq7/2Du3/ZSlo7vyM3rnsrS8R25f9tLvuUcAACA7mkEVERNumSwAAAAgEQjoCZq0iWDBQAAACQaATVRky4ZLAAAACDRCKiJmnTJYAEAAACJRkBN1KRLBgsAAABINAJqoiZdMlgAAABAohFQEzXpksECAAAAEo2AmqhJlwwWAAAAkGgE1ERNumSwAAAAgEQjoCZq0iWDBQAAACQaATVRky4ZLAAAACDRCKiJmnTJYAEAAACJRkBN1KRLBgsAAABINAJqoiZdMlgAAABAohFQEzXpksECAAAAEo2AmqhJlwwWAAAAkGgE1ERNumSwAAAAgEQjoCZq0iWDBQAAACQaATVRky4ZLAAAACDRCKiJmnTJYAEAAACJRkBN1KRLBgsAAABINAJqoiZdMlgAAABAohFQEzXpksECAAAAEo2AmqhJlwwWAAAAkGgE1ERNumSwAAAAgEQjoCZq0iWDBQAAACQaATVRky4ZLAAAACDRCKiJmnTJYAEAAACJRkBN1KRLBgsAAABINAJqoiZdMlgAAABAohFQEzXpksECAAAAEo2AmqhJlwwWAAAAkGgE1ERNumSwAAAAgEQjoCZq0iWDBQAAACQaATVRky4ZLAAAACDRCKiJmnTJYAEAAACJRkBN1KRLBgsAAABINAJqoiZdMlgAAABAohFQEzXpksECAAAAEo2AmqhJlwwWAAAAkGgE1ERNumSwAAAAgEQjoCZq0iWDBQAAACQaATVRky4ZLAAAACDRCKiJmnTJYAEAAACJRkBN1KRLBgsAAABINAJqoiZdMlgAAABAohFQEzXpksECAAAAEo2AmqhJlwwWAAAAkGgE1ERNumSwAAAAgEQjoCZq0iWDBQAAACQaATVRky4ZLAAAACDRCKiJmnTJYAEAAACJRkBN1KRLBgsAAABINAJqoiZdMlgAAABAohFQEzXpksECAAAAEo2AmqhJlwwWAAAAkGgE1ERNumSwAAAAgEQjoCZq0iWDBQAAACQaATVRky4ZLAAAACDRCKiJmnTJYAEAAACJRkBN1KRLBgsAAABINAJqoiZdMlgAAABAohFQEzXpksECAAAAEo2AmqhJlwwWAAAAkGgE1ERNumSwAAAAgEQjoCZq0iWDBQAAACQaATVRky4ZLAAAACDRCKiJmnTJYAEAAACJRkBN1KRLBgsAAABINAJqoiZdMlgAAABAohFQEzXpksECAAAAEo2AmqhJlwwWAAAAkGgE1ERNumSwAAAAgEQjoCZq0iWDBQAAACQaATVRky4ZLAAAACDRCKiJmnTJYAEAAACJRkBN1KRLBgsAAABINAJqoiZdMlgAAABAohFQEzXpksECAAAAEo2AmqhJlwwWAAAAkGgE1ERNumSwAAAAgEQjoCZq0iWDBQAAACQaATVRky4ZLAAAACDRCKiJmnTJYAEAAACJRkBN1KRLBgsAAABINAJqoiZdMlgAAABAohFQEzXpksECAAAAEo2AmqhJlwwWAAAAkGgE1ERNumSwAAAAgEQjoCZq0iWDBQAAACQaATVRky4ZLAAAACDRCKiJmnTJYAEAAACJRkBN1KRLBgsAAABINAJqoiZdMlgAAABAohFQEzXpksECAAAAEo2AmqhJlwwWAAAAkGgE1ERNumSwAAAAgEQjoCZq0iWDBQAAACQaATVRky4ZLAAAACDRCKiJmnTJYAEAAACJRkBN1KRLBgsAAABINAJqoiZdMlgAAABAohFQEzXpksECAAAAEo2AmqhJlwwWAAAAkGgE1ERNumSwAAAAgEQjoCZq0iWDBQAAACQaATVRky4ZLAAAACDRCKiJmnTJYAEAAACJRkBN1KRLBgsAAABINAJqoiZdMlgAAABAohFQEzXpksECAAAAEo2AmqhJlwwWAAAAkGgE1ERNJjl06FA+/elP56d/+qdz/vnn50d+5Edy2WWX5Q/+4A9y5MiRSc8ePXo0GzZsyIIFCzIyMpK5c+dm5cqVefXVV8/4HgYLAAAASDQCaqImE44ePZrLLrsss2bNym233ZaHHnoomzZtylVXXZXWWm699dZJzy9fvjyttSxatCgPP/xw7rnnnoyOjuaSSy7J4cOHz+guBgsAAABINAJqoiYTdu7cmdZa7rrrrkmvHzt2LD/zMz+TWbNm5dvf/naS5JlnnklrLYsXL5707GOPPZbWWlavXn1GdzFYAAAAQKIRUBM1mXAySP7e7/3elPduvPHGfM/3fE9ee+21JMkdd9yR1lqeffbZKc9edNFFmTdv3hndxWABAAAAiUZATdRkwssvv5wf+IEfyI/+6I/my1/+cr75zW9m7969Wbt2bWbNmpU1a9ZMPLtw4cLMnj07r7/++pSPs2zZsrTW8sorr7ztuxgsAAAAINEIqImaTPL000/n4osvTmtt4nzf931fPvvZz0567vzzz88FF1xQfoy77747rbW88MILp/Vv7tu3L7t27Zp0tmzZYrAAAAAAUZOSqMkku3fvzqJFi/KRj3wkf/qnf5pHHnkkt9xyS2bNmpXf//3fn3hu9uzZufDCC8uPsXr16rTW8txzz53Wv7lmzZpJEfX/PwYLAAAAzm2iJhVRkwkvvvhi3vOe9+Tuu++e8t6SJUsye/bs7NmzJ4mv1AQAAADeHaImFVGTCb/2a7+W1lp279495b0/+7M/S2stmzdvTuJnagIAAADvDo2AiqjJhF/6pV9Kay3PP//8lPe+9KUvpbWWjRs3Jkluv/32Nx0Uv/0cAAAAeKdoBFRETSb85m/+ZlprWbFixaTXT5w4keuvvz6ttXz1q19NkuzcuTOttSxevHjSs48//nhaa7nvvvvO6C4GCwAAAEg0AmqiJhP+8R//Me9///vTWstNN92UBx98MOPj47nyyivTWsuHP/zhSc+f/DbzRYsWZevWrbn33nszOjqahQsX5tChQ2d0F4MFAAAAJBoBNVGTSb75zW/mzjvvzLx58/K93/u9GR0dzaWXXpqNGzfm6NGjk549cuRI1q9fn/nz52dkZCRz5szJihUrcuDAgTO+h8ECAAAAEo2AmqhJlwwWAAAAkGgE1ERNumSwAAAAgEQjoCZq0iWDBQAAACQaATVRky4ZLAAAACDRCKiJmnTJYAEAAACJRkBN1KRLBgsAAABINAJqoiZdMlgAAABAohFQEzXpksECAAAAEo2AmqhJlwwWAAAAkGgE1ERNumSwAAAAgEQjoCZq0iWDBQAAACQaATVRky4ZLAAAACDRCKiJmnTJYAEAAACJRkBN1KRLBgsAAABINAJqoiZdMlgAAABAohFQEzXpksECAAAAEo2AmqhJlwwWAAAAkGgE1ERNumSwAAAAgEQjoCZq0iWDBQAAACQaATVRky4ZLAAAACDRCKiJmnTJYAEAAACJRkBN1KRLBgsAAABINAJqoiZdMlgAAABAohFQEzXpksECAAAAEo2AmqhJlwwWAAAAkGgE1ERNumSwAAAAgEQjoCZq0iWDBQAAACQaATVRky4ZLAAAACDRCKiJmnTJYAEAAACJRkBN1KRLBgsAAABINAJqoiZdMlgAAABAohFQEzXpksECAAAAEo2AmqhJlwwWAAAAkGgE1ERNumSwAAAAgEQjoCZq0iWDBQAAACQaATVRky4ZLAAAACDRCKiJmnTJYAEAAACJRkBN1KRLBgsAAABINAJqoiZdMlgAAABAohFQEzXpksECAAAAEo2AmqhJlwwWAAAAkGgE1ERNumSwAAAAgEQjoCZq0iWDBQAAACQaATVRky4ZLAAAACDRCKiJmnTJYAEAAACJRkBN1KRLBgsAAABINAJqoiZdMlgAAABAohFQEzXpksECAAAAEo2AmqhJlwwWAAAAkGgE1ERNumSwAAAAgEQjoCZq0iWDBQAAACQaATVRky4ZLAAAACDRCKiJmnTJYAEAAACJRkBN1KRLBgsAAABINAJqoiZdMlgAAABAohFQEzXpksECAAAAEo2AmqhJlwwWAAAAkGgE1ERNumSwAAAAgEQjoCZq0iWDBQAAACQaATVRky4ZLAAAACDRCKiJmnTJYAEAAACJRkBN1KRLBgsAAABINAJqoiZdMlgAAABAohFQEzXpksECAAAAEo2AmqhJlwwWAAAAkGgE1ERNumSwAAAAgEQjoCZq0iWDBQAAACQaATVRky4ZLAAAACDRCKiJmnTJYAEAAACJRkBN1KRLBgsAAABINAJqoiZdMlgAAABAohFQEzXpksECAAAAEo2AmqhJlwwWAAAAkGgE1ERNumSwAAAAgEQjoCZq0iWDBQAAACQaATVRky4ZLAAAACDRCKiJmnTJYAEAAACJRkBN1KRLBgsAAABINAJqooS9tzAAACAASURBVCZdMlgAAABAohFQEzXpksECAAAAEo2AmqhJlwwWAAAAkGgE1ERNumSwAAAAgEQjoCZq0iWDBQAAACQaATVRky4ZLAAAACDRCKiJmnTJYAEAAACJRkBN1KRLBgsAAABINAJqoiZdMlgAAABAohFQEzXpksECAAAAEo2AmqhJlwwWAAAAkGgE1ERNumSwAAAAgEQjoCZq0iWDBQAAACQaATVRky4ZLAAAACDRCKiJmnTJYAEAAACJRkBN1KRLBgsAAABINAJqoiZdMlgAAABAohFQEzXpksECAAAAEo2AmqhJlwwWAAAAkGgE1ERNumSwAAAAgEQjoCZq0iWDBQAAACQaATVRky4ZLAAAACDRCKiJmnTJYAEAAACJRkBN1KRLBgsAAABINAJqoiZdMlgAAABAohFQEzXpksECAAAAEo2AmqhJlwwWAAAAkGgE1ERNumSwAAAAgEQjoCZq0iWDBQAAACQaATVRky4ZLAAAACDRCKiJmnTJYAEAAACJRkBN1KRLBgsAAABINAJqoiZdMlgAAABAohFQEzXpksECAAAAEo2AmqhJlwwWAAAAkGgE1ERNumSwAAAAgEQjoCZq0iWDBQAAACQaATVRkyn+7d/+Lb/zO7+Tn/qpn8ro6Gje97735dJLL839998/6bmjR49mw4YNWbBgQUZGRjJ37tysXLkyr7766hnfwWABAAAAiUZATdRkkv379+cDH/hAfvAHfzB33XVXtm7dmgcffDAf+9jHsmrVqknPLl++PK21LFq0KA8//HDuueeejI6O5pJLLsnhw4fP6B4GCwAAAEg0AmqiJpN86EMfyo/92I/lG9/4xls+98wzz6S1lsWLF096/bHHHktrLatXrz6jexgsAAAAINEIqImaTPjrv/7rtNYmvs382LFjb/oVl3fccUdaa3n22WenvHfRRRdl3rx5Z3QXgwUAAAAkGgE1UZMJ99xzT1pr2bZtW5YsWZKRkZG01nLBBRfkt3/7t/Mf//EfE88uXLgws2fPzuuvvz7l4yxbtiyttbzyyitv+y4GCwAAAEg0AmqiJhNuueWWiYj5cz/3c/mjP/qj/Mmf/EluvPHGKd9qfv755+eCCy4oP87dd9+d1lpeeOGF0/p39+3bl127dk06W7ZsMVgAAACAqElJ1GTCddddl9ZaLrzwwrz22msTr584cSJXX311Wmt5+umnkySzZ8/OhRdeWH6c1atXp7WW55577rT+3TVr1qS1Vh6DBQAAAOc2UZOKqMmERYsWpbWW3/qt35ry3h/+4R+mtZZPfOITSXylJgAAAPDuEDWpiJpM+OhHP5rWWh544IEp7/3FX/xFWmu58847k/iZmgAAAMC7QyOgImoy4Ytf/GJaa/n4xz8+5b3Pfvazaa3lvvvuS5Lcfvvtbzoofvs5AAAA8E7RCKiImkw4dOhQfviHfzjvf//786//+q8Trx85ciQ/+7M/m9Zann/++STJzp07p/zyoCR5/PHHJ8XPt8tgAQAAAIlGQE3UZJJHHnkks2bNyk/8xE9kw4YNeeCBB3LZZZeltZaVK1dOevbkt5kvWrQoW7duzb333pvR0dEsXLgwhw4dOqN7GCwAAAAg0QioiZpMsWPHjlx77bV573vfm/e85z259NJL89BDD+XEiROTnjty5EjWr1+f+fPnZ2RkJHPmzMmKFSty4MCBM76DwQIAAAASjYCaqEmXDBYAAACQaATURE26ZLAAAACARCOgJmrSJYMFAAAAJBoBNVGTLhksAAAAINEIqImadMlgAQAAAIlGQE3UpEsGCwAAAEg0AmqiJl0yWAAAAECiEVATNemSwQIAAAASjYCaqEmXDBYAAACQaATURE26ZLAAAACARCOgJmrSJYMFAAAAJBoBNVGTLhksAAAAINEIqImadMlgAQAAAIlGQE3UpEsGCwAAAEg0AmqiJl0yWAAAAECiEVATNemSwQIAAAASjYCaqEmXDBYAAACQaATURE26ZLAAAACARCOgJmrSJYMFAAAAJBoBNVGTLhksAAAAINEIqImadMlgAQAAAIlGQE3UpEsGCwAAAEg0AmqiJl0yWAAAAECiEVATNemSwQIAAAASjYCaqEmXDBYAAACQaATURE26ZLAAAACARCOgJmrSJYMFAAAAJBoBNVGTLhksAAAAINEIqImadMlgAQAAAIlGQE3UpEsGCwAAAEg0AmqiJl0yWAAAAECiEVATNemSwQIAAAASjYCaqEmXDBYAAACQaATURE26ZLAAAACARCOgJmrSJYMFAAAAJBoBNVGTLhksAAAAINEIqImadMlgAQAAAIlGQE3UpEsGCwAAAEg0AmqiJl0yWAAAAECiEVATNemSwQIAAAASjYCaqEmXDBYAAACQaATURE26ZLAAAACARCOgJmrSJYMFAAAAJBoBNVGTLhksAAAAINEIqImadMlgAQAAAIlGQE3UpEsGCwAAAEg0AmqiJl0yWAAAAECiEVATNemSwQIAAAASjYCaqEmXDBYAAACQaATURE26ZLAAAACARCOgJmrSJYMFAAAAJBoBNVGTLhksAAAAINEIqImadMlgAQAAAIlGQE3UpEsGCwAAAEg0AmqiJl0yWAAAAECiEVATNemSwQIAAAASjYCaqEmXDBYAAACQaATURE26ZLAAAACARCOgJmrSJYMFAAAA5P+xd+9RUZWL/8dZ/c45FRp4JcW7oSIams8MMwMMd1BkuCgComJi4qUEb2GiEqJieUHBUkNFJUMdEUgCS8xT1qojHu2opS0tO9YJMlNRU/MGn98ffWfHMBuE8rLRz2utvdZpz2buPh7e7v08YCMgeYyapEgcsIiIiIiIiIgIYCMgeYyapEgcsIiIiIiIiIgIYCMgeYyapEgcsIiIiIiIiIgIYCMgeYyapEgcsIiIiIiIiIgIYCMgeYyapEgcsIiIiIiIiIgIYCMgeYyapEgcsIiIiIiIiIgIYCMgeYyapEgcsIiIiIiIiIgIYCMgeYyapEgcsIiIiIiIiIgIYCMgeYyapEgcsIiIiIiIiIgIYCMgeYyapEgcsIiIiIiIiIgIYCMgeYyapEgcsIiIiIiIiIgIYCMgeYyapEgcsIiIiIiIiIgIYCMgeYyapEgcsIiIiIiIiIgIYCMgeYyapEgcsIiIiIiIiIgIYCMgeYyapEgcsIiIiIiIiIgIYCMgeYyapEgcsIiIiIiIiIgIYCMgeYyapEgcsIiIiIiIiIgIYCMgeYyapEgcsIiIiIiIiIgIYCMgeYyapEgcsIiIiIiIiIgIYCMgeYyapEgcsIiIiIiIiIgIYCMgeYyapEgcsIiIiIiIiIgIYCMgeYyapEgcsIiIiIiIiIgIYCMgeYyapEgcsIiIiIiIiIgIYCMgeYyapEgcsIiIiIiIiIgIYCMgeYyapEgcsIiIiIiIiIgIYCMgeYyapEgcsIiIiIiIiIgIYCMgeYyapEgcsIiIiIiIiIgIYCMgeYyapEgcsIiIiIiIiIgIYCMgeYyapEgcsIiIiIiIiIgIYCMgeYyapEgcsIiIiIiIiIgIYCMgeYyapEgcsIiIiIiIiIgIYCMgeYyapEgcsIiIiIiIiIgIYCMgeYyapEgcsIiIiIiIiIgIYCMgeYyapEgcsIiIiIiIiIgIYCMgeYyapEgcsIiIiIiIiIgIYCMgeYyapEgcsIiIiIiIiIgIYCMgeYyapEgcsIiIiIiIiIgIYCMgeYyapEgcsIiIiIiIiIgIYCMgeYyapEgcsIiIiIiIiIgIYCMgeYyapEgcsIiIiIiIiIgIYCMgeYyapEgcsIiIiIiIiIgIYCMgeYyapEgcsIiIiIiIiIgIYCMgeYyapEgcsIiIiIiIiIgIYCMgeYyapEgcsIiIiIiIiIgIYCMgeYyapEgcsIiIiIiIiIgIYCMgeYyapEgcsIiIiIiIiIgIYCMgeYyapEgcsIiIiIiIiIgIYCMgeYyapEgcsIiIiIiIiIgIYCMgeYyapEgcsIiIiIiIiIgIYCMgeYyapEgcsIiIiIiIiIgIYCMgeYyapEgcsIiIiIiIiIgIYCMgeYyapEgcsIiIiIiIiIgIYCMgeYyapEgcsIiIiIiIiIgIYCMgeYyapEgcsIiIiIiIiIgIYCMgeYyapEgcsIiIiIiIiIgIYCMgeYyaVK+qqipoNBpYWVnB09PT4vZbt27h9ddfR8+ePfGPf/wD7du3x8SJE3Hu3Lm/9LgcsIiIiIiIiIgIYCMgeYyaVK/09HQ0b968zqg5atQoWFlZwWAwYO3atUhKSsKTTz4JJycnXL58+U8/LgcsIiIiIiIiIgLYCEgeoybV6dSpU7C2tkZGRoZs1Ny7dy+srKwQEhJitn/Hjh2wsrJCcnLyn35sDlhEREREREREBLARkDxGTaqTj48P1Go1qqqqZKPm888/DysrK3z88ccWP9u1a1d06dLlTz82BywiIiIiIiIiAtgISB6jJslau3Yt/va3v+Hw4cMAIBs1HR0d8dhjj+H69esWPx8dHQ0rKyv8/PPPf+rxOWAREREREREREcBGQPIYNclCeXk5bG1t8corr0j75KJm8+bNYWdnJ3sfiYmJsLKywqFDh+74eKdPn8a+ffvMtpUrV3LAIiIiIiIiIiJGTZLFqEkWQkND0b17d1y7dk3aJxc1H3vsMXTq1En2PpKTk2FlZYVPP/30jo+XkpICKysr2Y0DFhEREREREdGjjVGT5DBqkpmtW7fCysoKe/bsMdvPMzWJiIiIiIiI6EFg1CQ5jJokuX79Otq2bYuAgAB88803ZpuVlRVcXFzwzTff4KeffgLAOTWJiIiIiIiI6N5jIyA5jJokqaysrPMy8JpbaGgoAGD06NF1Dipc/ZyIiIiIiIiI7gY2ApLDqEmSmzdvIi8vT3azsrKCk5MT8vLy8PnnnwMA9uzZAysrK4SEhJjdT35+PqysrDB37tw//Vw4YBERERERERERwEZA8hg1qUHk5tQE/rjM3GAwYN26dZg9ezaefPJJODo64tKlS3/68ThgERERERERERHARkDyGDWpQeqKmjdv3sSiRYvQo0cP/OMf/0C7du0wfvx4nD179i89HgcsIiIiIiIiIgLYCEgeoyYpEgcsIiIiIiIiIgLYCEgeoyYpEgcsIiIiIiIiIgLYCEgeoyYpEgcsIiIiIiIiIgLYCEgeoyYpEgcsIiIiIiIiIgLYCEgeoyYpEgcsIiIiIiIiIgLYCEgeoyYpEgcsIiIiorpt3LgRs2bNQlhYGFQqFYQQ9R5/4sQJvPzyy/Dx8YFWq8WQIUOwbt063Lhxw+LYlJQUCCFktxUrVlgcbzAY6jz+k08+uWuvmYiIHl1sBCSHUZMUiQMWERERUd2EEPDy8sKECRMQEBBQb9T8z3/+A51OB71ej5UrVyI/Px+vvvoqVCoVpkyZgurqarPjTVGzpKTEYvv6668t7t9gMCA8PFz2+J9//vmuv3YiInr0sBGQHEZNUiQOWERERER1+9///if977i4uHqjZnR0NFQqFQ4fPmy2f/369RBC4P333zfbb4qaDWUwGBAXF9fg44mIiBqLjYDkMGqSInHAIiIiImqY+qLmpUuXIITA0KFDLW47e/YshBCYNGmS2X5T1KyursaVK1dQVVVV7+Oboubt27dx5coVizM/iYiI/io2ApLDqEmKxAGLiIiIqGHqi5rnzp2DEAIjRoywuO3XX3+FEAJ6vd4sRJqipoeHB4QQUKvVeP755/HPf/5T9jEMBgN0Oh00Gg2EEHBzc8O0adNw4sSJu/MCiYjokcdGQHIYNUmROGARERERNUx9UbO6uhq+vr7Q6XQ4d+6c2W179+6VFvS5dOmStD8zMxNLlixBcXEx9u3bh5ycHAwePBhCCOTk5Fg8Rnx8PLKyslBaWooPP/wQmZmZcHNzg06nwxdffHF3XywRET2S2AhIDqMmKRIHLCIiIqKGudOcmhs3boQQAqNHj8ahQ4dQUVGB3bt3w9/fH1qtFkKIOy7oc+XKFQQHB0Oj0eDMmTN3fE5ff/01NBoNwsPDG/16iIiIamMjIDmMmqRIHLCIiIiIfney4iLSiw4jMr0UQWm7EJleivSiwzhZcRHAnaNmdXU1srKy4O7uLp2ZqdPpsH79esTExEAIgStXrtzxeRiNRgghUFhY2KDnnZiYCCEEfvjhh4a9UCIiojqwEZAcRk1SJA5YRERE9Ki7XVWFjOKjCJhfXOeWUXwU48aNa9Bq5devX8dXX32FI0eO4NdffwUA+Pn5YdCgQQ16Pp9++imEEMjOzm7Q8RkZGRBC4MiRIw06noiIqC5sBCSHUZMUiQMWERERPeruFDRNm25geIOiZm3Hjh2DEAILFy5s0PG5ubkQQmDnzp0NOn7atGkQQuDHH39s9HMjIiKqiY2A5DBqkiJxwCIiIqJH2cmKiw0KmgHzi9FBDERf5/6Nuv/r169j7Nix0Ol0+P7776X9165dw40bNyyOP3/+PAYOHAidToezZ89K+y9evCh7/wcPHoRarUZUVFSjnhcREZEcNgKSw6hJisQBi4iIiB5l6UWH6w2Zz41KgVNoApxCE9C2lws6Ojhh/fr10lbT4cOHERsbi3Xr1mHnzp3Izs5GWFgYXFxc8MEHH5gde+LECfj7+2PhwoXIyclBQUEBVqxYAW9vb6hUKmzfvt3s+NzcXAwbNgzp6enYtm0bjEYj5s2bBxcXF+j1ehw7duyev1dERPTwYyMgOYyapEgcsIiIiOhRFpleesezM23sHaStZcce0iJAtS9FLy8vx5QpUzBw4EBoNBr4+/tj5syZ+Prrry0e99y5c0hOTsawYcPg6ekJFxcX+Pv7Y8aMGTh06JDF8YcPH8b06dNhMBjg5uYGrVaL4OBgpKWloby8/J69P0RE9GhhIyA5jJqkSBywiIiI6FEWlLarwZefB8wvRlDargf9lImIiO4ZNgKSw6hJisQBi4iIiB5ldzpTs/YWmV76oJ8yERHRPcNGQHIYNUmROGARERHRo+xOc2rW3pYXHXnQT5mIiOieYSMgOYyapEgcsIiIiOhR1pjVzwPmF+Nkhfwq5ERERA8DNgKSw6hJisQBi4iIiB51GcVHGxQ0M0uOPuinSkREdE+xEZAcRk1SJA5YRERE9Ki7XVWFzJL6w2ZmyVHcrqp60E+ViIjonmIjIDmMmqRIHLCIiIiIfney4iKWFx1BZHopgtJ2ITK9FMuLjvCScyIiemSwEZAcRk1SJA5YRERERERERASwEZA8Rk1SJA5YRERERERERASwEZA8Rk1SJA5YRERERERERASwEZA8Rk1SJA5YRERERERERASwEZA8Rk1SJA5YRERERERERASwEZA8Rk1SJA5YRERERERERASwEZA8Rk1SJA5YRERERERERASwEZA8Rk1SJA5YRERERERERASwEZA8Rk1SJA5YRERERERERASwEZA8Rk1SJA5YRERERERERASwEZA8Rk1SJA5YRERERERERASwEZA8Rk1SJA5YRERERERERASwEZA8Rk1SJA5YRERERERERASwEZA8Rk1SJA5YRERERERAXFwcDAbDg34aREQPFBsByWHUJEXigEVERERExKhJRASwEZA8Rk1SJA5YRERERESMmkREABsByWPUJEXigEVEREREdP+j5s2bN3Hr1q379nhERA3BRkByGDVJkThgEREREdHDrrq6Gtu2bUN0dDQ8PDzg7u6OkJAQzJkzB+fPnwfwR9Q8f/485s2bB19fX+h0OsTExODAgQMW97lnzx5Mnz4dQUFB0Ol08Pb2Rnx8PI4cOWJxrOm+KyoqMHv2bPj5+UGlUuHEiRPSMfv27cPEiRPh6ekJnU6HiIgIbN68GVVVVffujSEiqoWNgOQwapIiccAiIiIioodddnY2hBBISEiA0WhEQUEBVq9ejZiYGCksxsXFwdfXF0OGDEFiYiKMRiOys7Ph5+cHnU6HM2fOmN1nXFwcpk6dinXr1qGwsBBvvfUWAgMDodFoLMJmXFwcfHx8MHjwYLz88sswGo3IycnBTz/9BADYsGEDhBAYO3YscnJysGPHDsyePRsqlQpz5sy5P28SERHYCEgeoyYpEgcsIiIiInrYjRgxAsOGDav3mLi4OAghkJWVZbb/yJEjEEJg1apVZvuvXbtmcR/nzp2Dj48PpkyZInvfK1eutPiZkydPQqVSYeHChRa35eTkQAiBQ4cO1fvciYjuFjYCksOoSYrEAYuIiIiIHnYTJkyAh4dHvXEwLi4OarUav/32m8Vter0eM2fOrPNnr169iosXL6KyshIJCQnw8fGxuG8hBC5dumTxsxkZGRBC4Pjx46isrDTbTp8+LRtUiYjuFTYCksOoSYrEAYuIiIiIHjYnKy7i1Y2laNmxB54NjcfAl7PQ8zkd+jr3h42NDdzc3LBjxw5cvnwZAGAwGODo6IjAwEDpPmouHGQwGDB+/Hjzxzh5EtOnT4der4cQwmxTqVRmx8bFxcHPz0/2uSYkJFj8fO0tNTX1br49RER1YiMgOYyapEgcsIiIiIjoYXG7qgoZxUcRML8YHi/nwMbeAU4hkxEwvxi+yQVQxb4G29ZPo0+fPhBCwNfXF999950UNWuufl47asbFxUm3nTlzBnq9HgMHDsSGDRvwz3/+E//6179QVlaGiRMnQghh9rzqW1k9Pj4eQgh8/PHHKCsrk91OnTp1D94tSklJsfisiB51bAQkh1GTFIkDFhERERE9LExBM2B+MfxT34Pfq4Xwn7dT2hcwvxg29g4YNGIiPvnkEwghkJKSIhs1b968iRs3bgCwjJpbt26FEEJ2VfTRo0c3KmouXboUQgh8+eWXd+MteOScOHECWVlZKC8vl709KysLH330kextjJpEltgISA6jJikSBywiIiIiehicrLhoFi9rbt5J28yiZnevaOz/8hSEEJg6daps1KypdtTcvn07hBAoKyszO+6zzz6TLhmvqb6oefz4cahUKowfP16KqDVdv34dV69ebezb8cgoKiqCEAIHDx6Uvd0UruXcunVL9j0nepSxEZAcRk1SJA5YREREpDR3ihQmKSkpcHR0hBACRUVFAIDy8nKLFazl9t3Jn/kZuntM34EDBw4gJycHYWFh0Ol0CA8PxwcffAAAOHv2LObMmQNfX1/odDq4Do6Ex4yNUrysefl5q27O6KwNhlPIZDzZqj3aOmrRz9UfQgh8+OGHjbr8/Msvv8QLL7wAW1tbtGjRAgMGDMDEiRORmpoKd3d3REVFSd8dIQS+//576PV6PP3009BqtQgNDYXRaDR7vRs3boQQAiEhIVizZg0KCwuxadMmpKSkwMPD445/Fh5lfyVqEpElNgKSw6hJisQBi4iIiJSGUZNM34HRo0cjIiICGzduxJYtWxAREQGVSoXS0lIYDAbMnj0beXl5WLlyJVp3ccLTfdzhP6/IImr2GTIVHcRAtH7mOfy/vz+OJ1u2g4N7KPbv3w8ADY6an332GTQaDXx8fJCUlAQfHx/Y29ujefPmcHJywhdffCFd0myKmrGxsXBwcED//v2xdetWjBgxAkII7Nmzx+w1l5WVYerUqfD19YVGo0FAQADGjh2L7Oxsi1XTy8vLkZWVhRMnTtzjT+Luun37NrZs2YJRo0bB3d0d7u7uiIiIwIoVK6RjDh48aPZnuqbaY4Ppva69xcXFSfcjt5kuVZe7/Ny07+rVq0hPT8fAgQOh1WoRERGB0tJS2ddVUlKCqKgoaLVaBAYGIjMzE9999x3HEGqS2AhIDqMmKRIHLCIiIlKahkbNW7du4V//+pdZAKmursaNGzdw+/Zt6ThGzabH9B2IjIw0uzz4l19+gVarhUqlwoYNG8x+pn9EImzsHeASly67UFDty8+D0nZJP1v78nLA8pLxqqoqBAcHw9XVFT/88IPZsampqRYhzhQ1J02ahKqqKmn/1atX4e3tjdjY2D/9/tQX/pTq1q1beOmllyCEwAsvvIANGzZgx44dSE9Px+DBg6XjGhM1jxw5grS0NAghsGrVKpSUlKCkpAT79+/H+fPnUVJSAiEExo0bJ91WUlKCa9euAag/asbGxmLSpEnIzc3F5s2bERISAiEEjh07Zna80WiEEAJDhgzBhg0bsHnzZowaNQoxMTEcQ6hJYiMgOYyapEgcsIiIiEhpGho1gYbFHUbNpsf0HcjPz7e4LSoqCmq12mIuxEEz18PG3gHOka80KGpGpv9x1l1DouahQ4cghMCCBQssntNPP/0kzc9pYoqan3/+ucXxU6ZMga+vb8PfkFqaYtTcvHkzhBB4/fXXUV1dbXZbzejbmKhZ176a6rv8vL6omZqaara/vLwcGo0Gc+bMkfZdvnwZ7u7uMBgMuHLlirT/xo0bjJrUZLERkBxGTVIkDlhERESkNHVFiqKiImg0GiQkJODatWuyl59Pnz4d1tbWeOONN6RLRwcMGICWLVtiypQpZvd3/PhxBAQEQKfTITg4GDqdDoMGDcLrr7+OhQsXokWLFujevTs8PT0xefJkHD58+L69B4+akxUXkV50GJHppQhK2wX3sano6OCEvJK9FsfGxcUhMDBQ+p6UlZUhOzsbPfvr8P/+/jiat+uGPmEJ0M/YaBY1vZO2oefAF/C3J5rhcZvW6OHsgsTERJw6dcosapqiWkBAAIQQGD58OHQ6HYYOHQohBHJzc1FZWYkVK1ZgyJAh0Ol08Pb2Rrt27eDq6io9z6ysLDz33HN47bXXEB4eDp1OJ32XJkyYYBbTakb0/fv3IzY2Fq6urvD29sbcuXNx8eJFs/uVu6S6roWIlCI6Ohqurq53XPRIKVHz9OnTFsdHREQgJiZG+u/S0lIIIbBp0yaLYz/44ANGTWqS2AhIDqMmKRIHLCIiIlIauUixZs0aCCGwaNEi6ayu+qKmq6urdOnoypUrYWtri86dO0uXju7btw/u7u7w9vZGrUNgugAAIABJREFUv379EBYWhuzsbKxfvx5du3ZFmzZtYG9vj/HjxyMnJwcRERFwcXHBZ599dv/fkIfY7aoqZBQftVitvP+IZNjYO0A7MQMZxUdxu8aZfKYzKE3fk5iYGAQHB2Nm8nw82eJptOjsBBt7B3TWhUlR0+uVXLTt5YIWXfrgcZvWeLqPOxalv4GgoCC4u7vDy8vLImo+88wzaNu2Ld566y0UFhZKl5ivWbMGQUFBUKlUSEpKwtatW5Gbm4suXbqgR48e0vN844030KpVK+nszry8POm71KFDB/Tq1Us61hQ1n3/+eXh7eyMzMxP5+flITU2FSqVCQkKCdOzJkyexatUqCCGQlpYmXVL90Ucf3fsPrBFqh+rWXZ3QXz8QJysu1vtzSomaNaewMImLi0NwcLD036YFnj7++GOLY0+cOMGoSU0SGwHJYdQkReKARUREREpTM1LcvHkTycnJUKlUFmdD1Rc1a4aH8vJyODs7o1u3bpgzZw6MRiPUajWmTJkCNzc3BAYG4vLlywCAFStWQKVSITAw0CxI3Lx5E9HR0QgJCblP78KjQS5o1o6aAfOLkVlyVPqZ2lFz0KBBuHTpEsrLy9HJwQm9g19CZ20wmj/dFc3adIRTyGR0dRuKFl36QD8tGzb2Dhg0YiIA4NKlSwgMDETnzp0tomb79u0REBAgPe6xY8cghIBOp4MQwmzRmDNnzkAIYRYfIyIiYG1tLa3WbnLz5k307dsXtra20j5T1NTpdBZnCC5cuFBaRd1EyZef1xWqW3TqjXZ99QiYX2wRqmsyXeYv99qioqJgbW19X6KmnNpTEpiiptzvUqaoabo8naipYCMgOYyapEgcsIiIiEhpTJHio48+wvjx46HT6bB7926L4+qLmosWLZKOMwWjAQMGSJfqpqenY/fu3RBCSAvOVFdXw8/PD2PGjEFeXh769euHFStWoLKyEpWVldJlvzXjEv15JysuygZNuagZML9YOsOvdtTMzs4G8MfnHDX5VeheXInmT3fF40+1huPgCbDp0APd9MPgnbQNHbr1QuLMmdLnmpqaCltbW4wdOxbAH8FQo9FYLBQ0aNAgNG/eHFFRUWavZcGCBRBCYOfOnQB+/y717t0brVu3xvHjx6XHMm0GgwHW1tbSd8n03JOSkizepw8//BBCCHz66afSPiVHzbpCdbtnPdGiU2/4zt1hEapr+vbbbyGEwDvvvGNxW2BgoEXUfO+99x5Y1GzI5eeMmtTUsBGQHEZNUiQOWERERPSg1TWfolrrCiGEdMl37eOcAkbBrmM39HXubxE116xZI92/KRi1a9cOtra2WLlyJQDLS0cvXLggRc8+ffrA2toanTt3tpi78IsvvrjP79DDKb3ocKOiZuybHyEyvRSdVIPQ3kmDsXMz0de5v3TZdc15Kb84+T+079oDjze3RQ/vkWjZsQc6Ojihr3N/WFtbo3379mafqa2tLUaOHAngj2Do6+trEaM2b96MZs2awcHBAatXr4bRaERCQoLFKucXLlxA586dYW1tDWdnZ4vvUPv27WFtbS19l0zPfdWqVRbvk+n5vPfeexb7lBY16wvVz4bPgI29A3oExMI/9T2zUF1z4aBr165Bo9Fg8uTJZvd94cIFdOvWzSJq7t27F0II7N1rOf8qAOj1erMFnGr6q1Hz8uXLcHNzq3ehIEZNamrYCEgOoyYpEgcsIiIielDuNJ+ig+9odO7ZF88//zwW5+23OK67VzSatekIG3sHjEteidtVVVLUrDmPnSkYOTs7o02bNvD398c333xjETXPnz8PIQTGjh2LvLw8ODo6YtasWSgrKzPbLl269KDesodKZHppo6KmaesgBqJNT7V0zOTXNuB2VRXKy8vh4OCAzp07Y9++fXB2dkbbtm3x6quvQgiBxMRElJWVwdHREePGjTP7TN3c3CzO1AwICJBilGnfG2+8AScnJ7i5ucHLywsajQbPPvssnn32WQgh4OnpCeD371Lnzp3RunVrFBcXW3yHxo0bB0dHR+m7VDPI1iYXMJUaNeVCtW9yAQLmF8MvZSc6qgfDxt4BHUQA+gyZhjGz0pGRkWER/V5//XXpM8vPz0dWVhYCAgLQv39/i6h55swZqNVqREdHo7CwELt378aBAwek21988UXodDps2LABH3zwAXbv3o1r164B+OtREwC2bt0KIQSGDBmCjRs34p133kFMTAxGjx7NqElNEhsByWHUJEXigEVEREQPSkPmU1SNWQS7bk5o5+wJ76RtdUbN/iOSkVlytN6o6e7uDh8fHwQGBsLb2xvr1683u/y8qqoK3t7eCA8Px/vvv89FPu6xoLRddUbNhmym70mfsATpUmbTJelbtmyBEAKLFy/GxYsXoVarER8f36DnVV9E3LZtG9RqNV544QUAf6xEvmLFCpSUlEjzbNb8LjVEY6NmffNOPihFRUVo2bEHNOPT0WfINNg5ucK2Yy/0HDgWAfOL4Zn4Nrp7j0Tzp7vi708+hb890QxPtmiL4OBgZGZmmt1XRUUFfH190bJlSzz11FPo1q0bMjIyMHz4cIuoGRcXBxcXF0RERECr1UIIIc2PajAYMGLECMTHx8PT01M6U7a0tBTTp09H9+7d0axZMwQGBmLmzJk4deqUWdT89ttvkZSUBH9/f2g0GnTq1MksRpu89957CAoKQvv27dGyZUt0794dw4cPR58+feDp6cmoSU0KGwHJYdQkReKARURERA9CY+ZTdBm3FC069cbTfdzh9UpunVEzYH4xxox/sd6oaTAYUF5ejtDQULi5uaF///5mCwUtXboUAwYMgIeHh2xkOn/+/H19nx5m9Z2p2Zio2dpBwGf2dpysuIiioiIMGDAAw4cPN5tncdq0aVCpVPj8889ln0vNz/VOZ0ZOmzZNutw5NjbWbH7NqhqL3yxduhRCCOTn59/xMRsbNY8fPw4hBDZv3nynt/m+KSoqgq29A9o5e8Kutw5OoQnoN3w2VGMWwX3qOrTs5oxW3fvDMWgC+g2fjd6GF9G6ez/4+/vjzJkz0v1cvXoVQ4YMgUqlQkpKCvLy8rB48WK4ubkhKirK4ixKubMnTQwGgxQ4TXbu3Am1Wg0/Pz9kZmaioKAA69evR1xcHIqLi6XjDhw4AFdXVwQHByMrKwsFBQVYvnw53NzcEB4ebna5+ZkzZ+Dn5weNRoPFixcjLy8PMTExaN68OXQ6HaMmNSlsBCSHUZMUiQMWERE9bExnTpWXlz/op0L1aOx8itqJGWjRpQ/aOmrhmfh2nVHTIzTmjlETAM6ePYthw4ahV69e6NWrF8LCwrBhwwasX78e3bp1Q6tWrWBnZ4fY2Fjk5+dj9erVmDBhgtmq6vTX1PcdaEzUbN/PG217uSBycgpmzJiBNm3aoHfv3khOTpYe6+zZswgJCYFarcbs2bORm5uLHTt24M0330RMTAzGjx8vHXunqHnmzBkEBgZCpVKhR48e8PHxwbZt2zB//nxMmzZN+pmrV69K8ypOnToVb7/9dp3fpcZGzevXr8PDwwPBwcHYvn07du/e/cD//7zpTM22jlppMSDT1r6fN9r0EPCetdVsv+HVLdDr9UhNTZXuZ82aNRBC4O233za7/z179khnWtbUmKh59uxZKTJeuHDB4nhTlL5x4wYGDRqE6Oho/Pbbb2bHHDlyBGq1GmvXrpWOnTt3LoQQ+PDDD6V9MTEx6N69O/r168eoSU0KGwHJYdQkReKARURNiekXu7pWOCUCGDWbij8zn6Lr5NVo2c0ZbXqooJ++QTZq9vAY2qCoCQCVlZUYMWIEHB0d4e3tDa1Wi4EDB2Lx4sVYunQpWrVqhWeeeQaurq4ICQnBzJkzpcuL6a+r72zdxkRNzfh09AlLgH0fHXr16gVbW1vMnTsXW7duxdChQ6HVahEYGIiMjAy8+eabiIiIgE6ng4uLC/r06YPevXujf//+0Ol0iIyMlFYyr28Oy+XLl6NDhw6wtbVFs2bN8NRTT6F169Z46aWXzF7jjRs3kJOTg5EjR8LNza3O71JjoyYAfP755xg1ahR0Oh2EEA88nBUVFaGjgxOeHfay2efkPnU9bOwd0GtQHLyTtpltaVs+xaRJkzBo0CDpfiIiIqDX63Hjxg2LxxgyZMhfipq5ubkQQqCwsLDe1/Lpp59CCIGtW7darFxfWVmJoUOHIjY2FsDvZ3S2bt0a/fr1Q0FBAdauXYvw8HAIIfDmm29Cr9c/8M+GqDHYCEgOoyYpEgcsImpKGDWpIRg1m4a/Op9iXVtQ2q4H/dKoEeqaV7UxUdMUv4PSdklzasbGxmLIkCHIzs7G9u3bMWHCBAghkJOTIz12YWEhwsPDkZmZiby8POTm5mLSpEnSXJw11Q6LJ0+eRElJCXx9fREeHo6SkhKUlJTg5MmT9/X9e1BOVlxEetFhRKaXIihtFyLTSzF2biZ6OjlD/cISs89JPL8QNvYOsltf5/4QQkCtVkv3rdPpEB0dLfu406dP/0tR87XXXoMQAl9//XW9ry8nJ8dixfraW0hICADgyy+/xNNPP41u3bpBp9PB3d0dMTEx2LlzJwAgOjqaUZOaFDYCksOoSYrEAYuImhJGTWoIRs2m4a/Op1jXFpnOMymbkttVVcgs+XNhs3bUjEwvlaJmREQErl+/Lj1OVVUVwsPDzc4INK2AXdvcuXOhVqtx7tw5aV9dZ0vKzdn4MLtdVXXHBb5CZ2WZ7R8wej5s7B3Qw38MNOPTpW368lyzFeFNGhs1x48fX2c0DAwMNPt8Fi1a1KCouWnTJgghsHbtWouV603b4cOHAQDnzp2DEAIzZsyQvS9GTWpq2AhIDqMmKRIHLCJqShg1m57bt28jNzcX0dHRcHV1hbu7O1544QXZv3eEEEhJScHx48cxadIk6PV66PV6TJs2TTZQXr16FUuXLkVAQAB0Oh1GjBiBPXv2WETNRy06NBV/dT7FurblRUce9EujP+FkxUUsLzpiduZf7JsfNSpqLi86IkVNucV5Fi9eDCEErl69anHbjRs3cOnSJVRWVqKkpARCCHzyySfS7Yyav6vvzNqan8e41R9L+90S3oKNvQMc/EZL+zJLjuJ2jUWVamrs5eeJiYnQ6/UWx16/fh1qtdrs89myZQuEEHj33XfrfZ3//Oc/IYTApk2b7vieVFVVQa/XY8iQIRa33bhxg5efU5PDRkByGDVJkThgEVFTwqjZtFRVVSE+Ph5qtRpJSUkwGo3Izc3F2LFjZaODEALR0dHw8vLC4sWLkZ+fj2XLlsHFxQVRUVFmqwrfvn1bup8ZM2bAaDRi5cqV0Ov1GDly5B2jZlFREXJzc+/9m0B1+qvzKda1nay4+KBfGt0ld/qO1I6agxeWwH1sKjo6OCGvZK/F/Zn+waOiogIA8Ntvv+GNN95AcHCw7OXFNVfCZtRs/Ofx4dEfsbzoCCKW7Ya9sydad3FC0ltFsn9Ga64Ev3r16kYtFLRq1SoIIXD06FGz/abPW26hoODgYFRWVlo8D9PfM7/99hsCAgLg5+eHn3/+2eK46upqs4WGkpOTzRYKMjFdxs6oSU0JGwHJYdQkReKARURE94rRaIQQAu+//77Z/urqaiQkJMDDw8PsjCkhBFQqlUW0zs7OhhAC+/fvl/bt3LlTdt67r776CiqV6o5Rs7452Oj+aeh8ijXP+qpvyyw5eucHpSalsXNu1gxrGcXmZwPWPot7xowZUKlUWLhwIUpKSvDZZ5+hrKxMuvS4voWCTB6lqHmns6vlzpw1+fbbb+Hr6wutVosFCxbAaDTCaDQiIyMDw4YNQ0pKinTsr7/+itDQUKhUKsybNw95eXlYsmQJ3NzcEBUVZRE1z5w5A51OB39/f2RnZ8NoNCIxMRFhYWHw9fW1+HzeffddqNVq+Pv7Y+XKlSgoKMCGDRswceJEs5B94MABuLu7Q6/XY+nSpdixYwdyc3OxdOlSGAwGs0WdKioq4OvrC41GgyVLliAvLw/z5s2Dl5cXQkND+fcNNSlsBCSHUZMUiQMWERHdKyNGjEBgYKDsyrGmKFkzVAohMGbMGIv7OXbsGIQQMBqN0r6EhAQIIXD27FmL41988UVGzSaiIfMpZpYcxY1btxp0XF2Xs1LDmaaBUIrGzrlZO6zVDN01o+bly5ehUqmQnJxs8Zh5eXmMmrUcPHgQLTv2QP8RyQ1+72vPb3v27FksW7YMYWFh0Gq18PT0REREBNLS0vDll1+aHfvLL78gOTkZ3t7ecHV1RWxsLP79738jJSXFImoCQFlZGUaPHg2tVgtvb28kJyfj3LlzdX4+hw4dQkJCAry9vaHVahEYGIhZs2bh1KlTZsd9//33SE1NRVBQEDQaDby9vTF8+HCkp6fLHjt9+nRp6pQXX3wRJ06c4N831OSwEZAcRk1SJA5YRKRUciurphcd5qWlCmSawy6vZC+GT5mPDs+6o0WnXrBu+TQ6OjihV+8+sLe3h42NDZo1awYbGxu0b98ezs7OKCkpke5HCIEhQ4YgOjoaHh4ecHd3R0hICBISEtCvXz/prJi4uDi0a9cOXl5eFs/FYDBAo9HUGzXrWsm2dqyg+0duPsXlRUcs/rw39Dj685QWNU1qfvaDF5Y0OKzVnJKgZtS8evWqbNS8evUqwsLCGDVrOXjwIGztHeqNmrW3oLRdD/ppE9GfwEZAchg1SZE4YBGR0tS3sqppq31JIT1Yhe++i04OTmjn7Am73jo4hSag3/DZaNa2M1p174+n7B3QqUdfTJ8xA4sXL8bMmTOhUqng4uKCY8eOSffTpUsXtG/fHgkJCTAajSgoKMDq1asRHh6OPn363LWoWVJSgvDwcPj6+qKkpETafvzxx3v8ThEpn1KjZk31XQYtFzVNl0HXvvw8Pj4eKpUK8+fPR0FBAdauXYugoCDExMQwatbSkDM1a2+1z9QkoqaBjYDkMGqSInHAIiKlaej8aZw7TznGJa+Ejb0D2jpq4Tt3h/QZtXvWA/9oZovWDgPgPWur2Wf2448/Qq/XIzU1VdrXqlUr9O7d2+L+y8vLIYQwi5pdu3aVvfzcYDDAycmJl58T/UlNIWpGppc2Kmqa4lrtqHnp0iWkpaUhMDAQOp0OQ4cORU5ODsrKyhg1azl48CA6Ojg1KmrWnFOTiJoONgKSw6hJisQBi4iUpLGrIfOS0wfvZMVFKSI8O+xls8+n56A4PPb3x2HX2xXeSdvgnbQNB78+Lc2rGRsbi0GDBkn31aZNG3Tu3BmHDh0yewy5qGlaDKj2QkGenp5o06YNoyY91EzRreZCJTUtX74cQgh89dVXAIDLly8jPT0dwcHB0Gq18Pf3R1JSEk6fPm3xs3JRs67QWfvPJmAe/3bu3InIyEhptektW7YAAK5cuYLXXnsNAQEB0Ol0GDNmjNlZ2zXt27cPEydOhKenJ3Q6HSIiItAv4mX4zyviZdD30cGDB9HXub9F1Hxu5Kuwf84PLTo7oUWn3mjv7CUdU/Pv6O+++w5JSUkIDAyEVquFn58fYmNjsXPnTrPH2bVrF8aMGQNvb2/odDoMHjwYL7/8Mv773//e51dM9OhiIyA5jJqkSBywiEhJ7rSyKs8CUYaa850OXPDHmVHqF5aYfT4DYubjH81s8djfH8ffrW3wRAs7tG7XEZ07d4adnR2sra2hVqul+3VyckL37t0hhMCgQYPwyiuvYMeOHThx4oRF1AwKCkJsbCyEEJgxYwa2b9+OlStXolWrVnBwcGDUpIdadXU1DAYDgoODUV1dbXbb7du34e/vj4iICAC/zxEZEREBIQRmz56N7du3Y/ny5dDpdPDw8MA333xj9vN3K2qOHj0agwcPxrp162A0GqU/r9u3b8eoUaMQHx+Pbdu2Yd26dfDy8oKfnx+uXr1qdv8bNmyAEAJjx45FTk4OduzYgdmzZ6Nlp57o5hHFy6DvI9PnOi55pfS+OviOho29Azprg/HssJfhHPkKOmuDYWPvgGGTZks/e/HiRfj7+8PPzw+rV6/Gzp07sXnzZqSkpJh9r3bt2iV93rm5uSgsLMTatWsRFxfH31WI7iM2ApLDqEmKxAGLiJSkvksK+Yvqg1fXfKdyl3sGzC/GgNHz8VT7Z9C+nzfa9lTjqXbdYdu+K9zc3BAVFYXXXnsNZWVl0v0LITBnzhx8/PHHWLZsGaKjoyGEgLu7O/r27SuFk/Hjx8NgMODKlStYvHgx/P39odPpEB0dDbVaDXd3d0ZNeui99dZbEELg3//+t9n+ffv2QQiBt99+GwCwZs0aCCGQnZ1tdtyhQ4cghLD4s3G3oqa/vz8uXvzjTL3r16/D398fKpUKaWlpZvezd+9eCCFQUFAg7Tt58iRUKhUWLlxo8bjRUxfIjjn8B7B7x/S5Fr77LjJLjkI99nXY2DugT1iCxftteH4KVGq1NAabvpO7d++u9zFefvll6PV63Lp16368JCKqAxsByWHUJEXigEVEShKUtqtRUZOXFN5fdc13WlfUdEt4Czb2DnDwG/2nP7NPPvnEIqgkJiZCr9dbHHv9+nWo1WqLSCMXNU1hlKipKi8vl129OzExES4uLjh37hwAICIiAnq9Hjdu3LC4jwkTJkAIgcrKSmnf3Yqab775psXx06ZNgxAC33//vdn+S5cuQQiBFStWSPsyMjIghMDx48elKStM20cHjsLG3gGOhkmcquQ+qT2naNyLU9CllzNC5hkRMHc7whYWIG3Lpzj49Wns37/fLFKbAvqrr76KX3/9tc7HSE1NhVqtxt69ey3OQCai+4eNgOQwapIiccAiIiXhmZrKVd98p3VFTf/U99DuWU/YdnKE25Qs2c/s/Pnz0v++cOGCxeP+8ssvEEJg6tSp0r5Vq1ZBCIGjR80XizItAtKQqDl16lR4eHjwF2dqMmpO+xCUtguR6aXQDgzHALVWumz74sWL0Gq1mDZtmvRzprOY5SxdutRs7k3g7kXNd9991+L4lJQUCCFQVVVlcZsQAvPmzZP+OyEhAUKIOrdODk54xnvkHf+e4KJyjSf3XZu6fAv6OveXoqZpSoP6tnXr1kn3mZqaCiEENBoNxowZg+XLl+PIkd/PoL127RoA4H//+x/CwsIghICPjw+mTZuGd955Rwr0RHR/sBGQHEZNUiQOWESkJEqeU/NRvVzZFC2GvTi30VEzYH4x3KeuQ6vu/WDbsRccfEZh9MwlMBqNyMjIwLBhw8xCiY+PDxISErB27Vq8++67yMnJwbBhwyCEwIcffigdd+bMGeh0Ovj7+yM7OxtGoxGJiYkICwuDr69vg6JmdnY2hBBIS0tDSUkJdu/eLV0qSaQkdU37EDC/GM+NTIGNvQNemJuJ21VV2Lp1K4QQ+Oijj6Sfv5dR84cffqh3oaDaTFFTTu3HiI+PhxACH3/8McrKyiy2z//1LySvr//s/sySo7gtE1Dpd0VFRRBC4MCBA8jJyUFoaCi6OvaDnZMrBsSkImB+MbxeyUU3jyjYdOiB//f3J9Bb5Y7/nj6N8PBw6PV6ODo6IjY2FrNmzYKXlxf69u0LIQSioqKwd+9es8f773//i27dusHV1RVCCLRp0wZdu3aFl5eXdMz169cxb948CCFgZ2eH5s2b4+mnn8batWvv99tD9MhiIyA5jJqkSBywiEhJlLz6+aMeNcWwKX8qapp+Ke45cCzsemvRX6jh6emJiIgIpKWl4csvv5Qea+PGjYiLi4O/vz80Gg0CAgIQHx+P/fv3WzyvsrIyjB49GlqtFt7e3khOTsa5c+dkA6bcvuvXr2PhwoXw9/eHWq2uM8IQPWh1Bc2A+cXwTS5Ayy590WGAPzJLjmLEiBHw8/Mzm5OwvsvPJ06cCCGE2VnScgHTdNZcbZ9//vk9i5qm4FpzjJBzsuIilhcdMTurcHnREV5y3gCmqDl69GhEREQgeuoCPDssEU/3cYeNfQ+I0QvQpqcanTTBaNtbh380awnrNh3Q3z0AU6dOhRAC/fr1k87MTEhIgNFoxKpVq+Dt7Q2tVms2bzLw++ccGRkJV1dXqNVqPPPMM1i2bBkAoKqqCvHx8VCr1UhKSoLRaMTSpUvRpk0btGnTBvn5+Q/ibSJ65LARkBxGTVIkDlhEpDT1/QL/IC8pfNSj5rOh8Y0Kzo35zBr73tZ11lhDyUXOe/l4RH9WQ/6hx8FnFGzsHSCeX4i+zv2Rnp5udh+rV6+GEAIbN2402/+f//ynwQsFxcbGwsfHR7pMGPg9QE2aNOmeRc3jx49DpVJh/PjxskH2+vXrFqulU+OYomZkZCS+On3W7B+ibDv2go19D/QJmwLtxAw0a9sJT7Zqjy66MNjYOyBl0TIIIdCyZUu0a9fOYkGn48ePQ6PRICQkBJWVldKUA6YA+tlnnyEtLU2aNxX44wz6999/X7qfmzdvQq/Xo0ePHvDw8OBnTnQfsBGQHEZNUiQOWESkNLerqpBZUn/YfBCXFD7qUbO+MzUbGjTr+swYNYnkNWRKDt2Lb8DG3gEtu/RFRwcnfPPNN2b3cfXqVWn+w7lz5yIvLw8rVqyAq6srPDw8LI6X+77v2bMHQgiMHDkS27ZtQ05ODmJiYhAbG3vPoibw+9nb1tbW6NmzJ9asWYPCwkJs2rQJKSkp8PDwwMGDBxvxblJtpqiZn59v8V1r11cPmw494PdqoVnU7G2YBBt7B4yeuQSLFi3C3/72NzzxxBNYtmwZCgsLkZ2djVmzZkGn02HGjBkQQmDJkiUYPHgwlixZgm7dusHd3R1paWlQq9WIjo6WgmfXrl3RqVMnpKen45133sHatWsRHR2N/v37S4tMyZ25T0R3FxsByWHUJEXigEVEStWQSwrPnz8PIQSWLl1q9rOmVXMTExPN9m/ZsgVCCGlxAgB47733EBsbC3d3d7i6umLkyJGyv4zXFd4qKiqQlpYGg8EArVYLPz8/TJgwwWJc/e9//4ukpCT4+/tLXDQoAAAgAElEQVRDq9UiODgYy5cvt1gJtvYcZ2FhYdDpdAgPD8cHH3wAADh79izmzJkDX19f6HQ6vPjii/jhhx9k38eGvj4A+OCDDzB8+HDodDoMGjQI6enpOHXq1B3n1JTbBi0obvBloDdv3pQ9E6sujJqWsrKyzOZRpIdDQxdPs3NyhY29A7oIX9n7uXTpEtLT02EwGKDRaODr64tZs2bh9OnTFsfW9X03Go0IDQ2FRqNBUFAQ1qxZg++//77OqBkQEGA2ZpaXl8NgMKBPnz4W911eXo7OnTtj8uTJFrc5OjpKz9k0LcXYsWORnZ2NS5cuNeRtpP9TewEg97Gp6OjghLySvRbftQ5iINr0EHAKmQwbewc0a9sJj/39cTzRwg6P/f1x2LbvBgBo3rw5mjdvDrVaDTs7O7Rs2RLt27dHYGCg9Hfxhg0bMG/ePISFheHxxx9Hs2bNYGdnh65du8LPzw/z5s3Dzz//DEdHR7Rt2xY2NjZo1qwZHnvsMTz55JPo0qUL2rZti+bNm6NPnz6YNm0a50AmuofYCEgOoyYpEgcsImrqIiMjMWzYMLN90dHRUKvV8PLyMltl17Ti9e3btwFAuvQtISEBubm5MBqN0oq7q1atMrtPuah54sQJeHt7Q6PRYMGCBdi+fTtycnLwyiuvYNGiRWbH6fV6uLq6YsWKFdi+fTtmz54tLaZQ85LO2nOcbdy4EVu2bEFERARUKhVKS0thMBgwe/Zs5OXlYeXKldDpdIiIiLBYUbgxr2/Hjh0QQiAsLAzZ2dnYvHkzRo4ciVGjRkEIgflL5OfLfBDznTJqWmoKz5EaLyit/oVwam9Babse9FOW1B4z6zuDs77b+N3+6+pabKrmfMiDFhRbRs2earhNyYLj/52d6eA7Gn2HTseTrdqjm9sQAECLFi1gZ2cHLy8vLF68GPn5+Vi2bBlcXFyg1WoxYMAAlJaW/v48bt9G8+bN4enpiZycHOTn52Px4sVwdXXF4MGDoVarERoaKi0G5ejoiICAAAwYMACTJ0/G66+/jtTUVLi4uCAqKsri7zwiujvYCEgOoyYpEgcsImrq0tPTIYTA2bNnAQCVlZVQqVTSZY6mVX1v374NvV4vLXbxySefQAiB7Oxsi/t87bXXoFarzc4Eqf0LenV1NYYPHw61Wm125qdJzV+2xo0bB5VKhf/85z9mx6xdu9biLKeac5zVPHvxl19+gVarhUqlwoYNG8zu55133rG4LK+hr+/q1atYsWIF7Ozs0Lp1a6hUKhgMBixZsgTnzp3DqFGj8Nxzz+GZZ56BbtAw2ZCiGvs6bOwd0HfoNOlS86r/W4nZdOanXq/HhAkT8Pnnn1s8n7rOgt2/fz+ef/556HQ6+Pr6IjU1FZWVlbKRIz8/Hy+99BICAwOh0Wjg5+eHxMREnDp1yuJ+TVHzm2++weTJk6HX66HX6xEfH29xKS5Qd1Q5fPgwpk6dKoXt0NBQrFq1qlFnnd4tDD8Pp4aeqWnaItNLH/RTligpatb8h6NHUV1zVde3yJspagbML4Z2YgZs7B3Qf0QyPF7O+X0O12FTAAB2dnawtraWwqVJdnY27O3t4ejoiGPHjkn7n3vuOYvPs6ysDEIIaDQa6PV6aaErIQRUKpXFNAOmuTd5KTrRvcFGQHIYNUmROGARUVNninfFxcUAgN27d0MIgR9++AF6vV6KeocPH4YQAlu2bAEAzJw5E1qtFmfOnEFlZaXZtn//fgghUFBQID1O7V/QT5w4Ic1RV58LFy5ACIFJkyZZ3Pbbb7/B3d0dkZGR0r6ac5zVFhUVBbVabRHNvv76awghYDQapX0NfX0//PADnnvuOXTo0AHjx49HXl4e5s2bBxcXF4wYMQLFxcUQQiAoKAgqlQqpOXssfvnt6jYUNh16wOuVXGnuzOTkZAghMHbsWOTm5mLdunXSfbz33ntmz18uan766adQq9Xw9/dHVlYWtm7divHjx0tnjtb+pTgsLAyzZs3Chg0bUFBQgMzMTHh7e8PDwwM//vij2bEGgwGhoaHw8vLC3LlzsX37dmRkZMDNzQ16vb5BcwyWlJRArVYjMjIS2dnZyM/Pl+aI8/HxwfDhw+Hh4QF3d3eEhIRgzpw5OH/+PBYvXgwhhGxsraqqQmBgIMLCwlBdXQ0A+Pnnn7Fw4UIEBwdDp9PBx8cHI0eOxKZNmwD8EYPktppRvqKiAgsWLJCib0BAAFJSUvDTTz+ZPYe7Pf0B/TUNmVOz5ra8yPIfWB6Umn+us7KyZL+jBoMB3t7eeOqpp8z29+3bF7a2tlCr1VIEO378OF544QU0b94cXbt2NbsE+bPPPkNcXBycnZ3RrFkz6PV6TJ8+XfpHlenTp0vPq7KyEunp6QgJCYFWq4WPj0+d/wACNG4KDyWqb7GpvxI1I15MBgA888wzaN26NdLS0swe98MPP0SzZs0ghDD7Rz7TeFpVVYXLly9Lfy95eXkhKCgIQgi8+eab0rFjxoyRfvb8+fMAgGPHjln8nUdEdw8bAclh1CRF4oBFRE1N7TnBhr5WhM49++Klqb/Pn7lgwQKEhYUBABISEjBhwgQAf/xSbfrF1bRwRn3bunXrpMetHd5KS0shhMA777xT7/P98ssvIYTAsmXLZG8fPnw4XF1dpf82RaWysjKLY+Pi4hAYGGix37SYT80zPhv6+m7duoX169dDCIGPP/5Y+vnCwkIIIbBp0yYIIZCUlAQhBN566y2z+U4DkvPQuktv6INHSpecHzhwAEIIxMfHm/0ye+HCBfj7+8PDwwNXrlyp872tqqpCcHAw3NzcUFFRYbbftFhE7cgodybWqVOnoNVqsXjxYrP9BoNBdjXoI0eOSKst11T78c6fPw83NzeL1wcA06dPh7W1NYKDg2E0GlFQUIDVq1cjJiYGJ06ckOYolfs+mAJ9Tk4OgN/PLg4PD4e7uzsyMjLw7rvvYsuWLVi0aBFeeukl6bmUlJRACIFx48ahpKRE2kzvybfffgtvb2/4+fnhjTfekJ6Tj48P/P39cebMGek53M3pD+ivqytImWKUZsIKOEe+AjsnV9h27AUPH3+89dZbZp9FfYvzyP2DgulM5u+++w4JCQnw8PCAp6cnkpKSUFlZCeD370lUVBR0Oh0CAwPx9ttv13nfFRUViIuLQ8+ePaXIlZmZiZKSEnz00UdYunQpOnXqBCcnJ0yePBmhoaHo3LkznnjiCdja2sLOzg6RkZHw8vJCXFwcunfvjgEDBsDa2hpDhgzBiBEjYGNjA1tbW4waNQrdunVD9+7dYWNjA4PBgMLCQukfUn755RcEBwdDr9dj2bJlyM/PR3Z2NoKCguDu7o4TJ06YvYbGTOGhVPWF8b8SNecvyQDw+/g4YMAACCEwZcoUGI1G/H/2zjwu6jp//F1mDgiCiHLKMSgg93sGZoDhPkRAQQQFRQPFIxVB88IDtSxdxas80DTNSPHMA9syc2u/tblpq7W15R5lpbVtu15ll/j8/cHv84kPM1ylhfV5Ph7zKD/zmc81n897+Dw/r2PdunVERUVhZWXFrFmzFNvTp08fQkJCMBgMZr9JY8eOpaysTB7PevfuTW5uLtXV1ZSVlREeHg5Y/s1TUVG5eaiOQMUSqtRU6ZCoA5aKisrtQnM1wVIWHcY5NInu2jBWHX6LjIwMuZ5lTU0NRqORr7/+muLiYlJSUuTl5eTkYDKZ5Npdll6NI/ya3vxLEaGtSc233noLIQRVVVUW329Oalrq6ttcmralG7z27N+TTz6JEIJjx47JkTPSMhvLzMzMTDIyMuQoQoCdO3fKn5VYsmQJQghOnz5ttq1Syn3j+ZvulxSF0zTyBxrEY0vpqDdu3ODLL7+Uo3+GDh3KiBEjFPNkZGRgMpkspolPmDABIYQsb8BcatbW1iKE4KWXXjKLgh0yZAjdu3dnzpw5FrcPYPTo0cTHx5utv7y8HIPBwP/+9z8Azp49K4vl1mjpmIwYMYK0tDQ5yknik08+wWQysXDhQnnazSp/oHLzaKkWonNoEo5+RvpllXL/rOWMGzdOIcbhx0nNrKwskpKSePjhh9mzZw9Lly5Fr9czZswYnnrqKQYMGMCmTZuora2VO6A3TT8uKSkhMTGRjIwMysrKePTRR3F3dyc4OJiIiAj5fHn//ffx9fXF0dERHx8f8vLySE5OJjExEV9fXzp16oSDgwMnTpzgkUceQafTMXPmTHr37o2dnR3du3cnMDCQJ554Qq4NHBMTQ3FxsdlYOn36dEwmEx988IFiWy9fvkxaWpr8EAzaX6Kko9JSCYMfKzXdtP7y742UsVBdXU12djYGg4G4uDiKi4vx9/dX/C4dP34cjUZDUFAQtbW1vPzyy/LvUUJCAiUlJdTX17Nv3z6KioqwtrbG1dWV9PR0pkyZwp49ewBVaqqo3GpUR6BiCVVqqnRI1AFLRUXldqE5oZmy6DB+mROxcdaiK3oUN62/LMwkKXTs2DEiIiIUqeJSxF9T0dMczaWfz5s3r8XPtZR+/s0332AymcjNzZWn3Syp2dz+NY10zat6gZRh47HtZoenp6dZ5IyU7l1dXS1HuzaOIi0oKCAxMZHvvvtOnjZ58mSEEFy5csVsW1966SUz6dKcMJZKBTTmypUrFgXeqVOnmDBhApGRkWb7kJmZqZg3IyOD/Px8s2UDLF++HCEEb7/9tjyt6fokaWvp5eDggLW1NTk5ORaXD/Dcc88hhKCurk6e9vnnn6PX65k9e7Y87cKFCwghmDRpUqvnaXNSU4oMXblypZmAvXjxIhMmTKB///7y/Der/IHKzeN6fT2r696yKKN69osmaf5+uexDfX09OTk5iu/0x0hNIQRHjiibDv3ud79DCEH//v0VXce/+eYbkpOTKSoqMlt244cTUqmEJ598ksjISAYNGkR9fT03btwgLCyMe+65h4yMDL777jtMJhPV1dUsXrwYKysrunfvzuHDh8nKyiI/P5/Kykr69euHnZ0dHh4esniU1rF8+XJOnTqFEEKO1P7yyy/R6/XMmjXL4rWwcOFC9Ho933zzDdD+EiUdlfY2m7L0aiw1x6z7A9ctpJM3xdLv0oMPPig/aGzMtWvX0Ov1Zg3c2rNsFRWVm4fqCFQsoUpNlQ6JOmCpqKjcDrRUEyxl0WEME1bLN/g2Lj68+X5Dfb8bN26QnJwsp2I3roMmybV58+ZZTJu9evWqQt601CiosQCTaLzM0aNHo9PpzBoKSWnfGzZskKfdLKnZdP+aRromzNlN0vz9BA6ZTtdeXtxrbYertx9HnnuOEydO8NprrxEaGkpQUJC87AsXLqDT6WSR+/e//91iKvWkSZNumdS8evWq2Y3uu+++S3h4ONnZ2dTU1PCHP/yB119/nRMnTpCbm2tR2jQnNZctW4YQPzSYAvMb60ceeUQWf7vrjjFl+XYSp6whavxKIobPwr1PINq+vvTv35+ZM2eyZ88exbH47rvvSEpKYsyYMfI06Vxo+r1XV1ej1+vR6/UUFBSwZMkSXnvtNUW0rKVtlDh69GirZQj0er08/80qf6By82lc9kE3ohI7Vx/un1Ull32QkOq2fvXVV8CPk5qNpajEsWPHmk27Li8vJyEhQTEtb/goXLX+DFxQS/riIySVPY6r1p+H1jxJ/+ETsXP1IWbKBvKqXsA7QHDnXXexYMECXnnlFYKDg3nllVfYv38/Xbp0wdnZmSlTpiCEYNWqVVRWVhIUFISLiwvu7u4cP34c+EFq7tq1i8uXL8tlMOCHCPDWXlI5hvaWKJGQHv7cqijOln4jLNHeZlOWXpGT1zc0g8uZRsqiw4pzrj3icebMmURGRsrnpsSaNWsQQqhSU0Wlg6A6AhVLqFJTpUOiDlgqKiq3A601y0iqPEA3d39snLU4BccrmmVUVFSY3axKSHIqPz+fjRs3sn//fjZv3sysWbMwGo0tdj8HeO+994iOjiYiIoLFixeze/duampqqKiokFPgoSGq02QyERUVxapVq9i9ezdz5syR03wb3+DdLKnZdP+GTppPSP4c+mWV4mkagq2bLzEPbqNXUCw9+oYTOGQGNs5aAo0JbNmyhRUrVmBvb6+QmoAcDfnll1/Kneeb1qFrKf1806ZNCCF48cUXm92v9qafS9vRtCEQQHJyskVp81PSz2tqahBCMH7RBovnY+K8feiKHmVQ8TSGDRuGEILExET+9a9/yctYvXo1Qgg++OADuYbo4MGDzbYHGiI2pXMmOTkZIQRlZWUWm280RRLES5YsabEUgcTNPP9Ubg6WoquL564mICjEonyWpJpUj/bHSM3Ro0ebzSsJw2effdbsvcbrkB6guIhU7DwCLEb7BQ55EBtnLWEjF5Gy6DDdfQR33Hkntt0dcXd3x9raGiEEISEh3HXXXdjZ2ZGamooQgtdee02Wmu7u7ri7u8v1gBt3UZeiuiWpKdU3nj59eovXgjQutLdESdPj/1Ok5vHjx5u9ntorNdvbbMrib+z8/dj1DqBH33CC8mYxbuF6+d6hPeJRqkU9fPhwdu7cyY4dOygtLSUzM5PExERVaqqodBBUR6BiCVVqqnRI1AFLRUXldqClSJP4WTuwcdbKUtM3fTx5VS+watUqhBBkZ2fL/wV45plnEEJw5swZbty4wbRp0/Dz88POzg4rKyscHBzQ6XSsW7fOLFLT1taWyspKTp06xbhx4zCZTBiNRhYuXEhYWBhWVlaEh4cTHx8vvyd1jZaabnh4eGBjY4OdnR2RkZG8++67in292VLp6NGjFIwajZ1HILaufXHwEbjq0wgc8iBJ8/fjFBxPj77hJC84QOiIBfQKMBESpsfT0xNXV1e5KYa07CNHjsiRUMnJyRQUFJit88SJEwjR0FyjsXi7ePEiycnJmEwmrl692ux+1dfXk5GR0eZGQZIg/PjjjxXbIdXXay69trlGQa3dWH/++ed4+Abj6B9Jwtw9FiV7QsUuUhYdZnXdW3JtvsbL+OSTT9DpdFRVVfHaa68hROv1WaGheZBU57TxOdLczf97772HEEIh2VtClZodh5bqCEvp59NW7VSkAoO5VFuwYEGzUrO4uLjZRkFNaSwMm9JYakrb3CA1A1uUmmLkQ6QsOoxTSCJ33Hkn9p7B9AuPJT8/XxaHNjY2BAcHU1JSgsFg4Ouvv5alpo+PD+7u7mbp5wcPHuTNN99UpJ9funQJvV4vS87WaG+JEonr16/z7bffmkVTt4eWRHR7pWZrmQ5tfYWPWYZTcDy2br7YufrI5017xeOBAwfIy8vDaDSSlJTEnDlz+Pe//23xvFOlporKL4PqCFQsoUpNlQ6JOmCpqKjcDrRWE6xngIme/aLkf6cvPkJ+fj56vZ64uDiFWCsrKyMmJobr169z/fp1YmJiWLBgAdu2bWPv3r0sXbqUyMhIBgwYoKgbB8iRldHR0SxdulTunAvNd42OjY3F3t4ef39/bG1tGT58+M/aNVoIQcqwcc0eu4DB5dg4a3HVpxE0dBYBOdMIT8qisLDQ4g3lN998Q2xsLDExMQgh2Llzp8X1zps3DyEEo0ePpqamhieeeIKMjAx0Op2ZFLEky15++WX0ej3JyclUV1ezc+dOxo0bJ9f4rKyslG/8z5w5g16vJzs7m6eeeopdu3ZRUVFBfHw8gwYNsihtBg0aRFxcHPPmzWP37t2sWrWKqKgoTCaTWeRp0+Nw9sIlQkdUYuPSh+7eofQdMJbgYRUEDJ6KZ8xQunuHElIwTz7Gr7/9Tzm6sjGTJ08mISGBsrIyjEYjly4p04ivXr3K999/b3Zst2zZghDKZksmk8ls+dBQJiE/Px+j0cjZs2ctfFMopM2tkJqWIg2rDp42S5tWUdJSHeHGDV5W172l+FxTqbly5UqEEGbjGUBqaupNlZqNBZqLSMXGWUvsjKfNUpi1CSOwcdYSOXk9KYsO45NSxB133oXG3hlb176sWPdDcx43Nze8vLxISkqSt0uSmqGhoWi1WrnOZ+NoUqkMxhtvvCEvq7y8HJ1Ox2uvvWbxmDe+FtpbouRmcjOlJrR8Lv2YV/riI62vVEVF5bZFdQQqllClpkqHRB2wVFRUbgdaqwnWJ3U0Ns5a4mbWkLLoMFkP70On08k3hlJ9xOvXr2MymSgvL5eX3bRhAfwQafjUU08ppktp7K+++qrZZyx1jf7oo48QQuDo6Ii3tzdlZWX8+9//lj9zM7pGv//++1RXVzeb6iiEwD9lRLPHLnnBQQIGl+PoZ8TWzZfuWkHggGK5Hp2lKJnFixcjhMBgMJiJOIn6+nqeeeYZhg4ditFoxGQyMXbsWIvHrjlZ9tprrzFy5EiMRiOJiYksWLCAixcvmklNaPg9KywsJCoqivj4eMrLy/nnP//ZbHptSUkJZ8+eZdKkSZhMJqKjo5k0aZIsNE+ePEl1dbXFxkRSOmfk5PV4mnLprg3D1rUv9l4h3GvdDTuPQPqkFhOSP5eAweUERyabpdwD/OEPf5DPqcZNrCSOHz9OYmIiixcv5umnn+bZZ5+lqqqKyMhI0tLSFNGuDzzwAEajkS1btvD73/+e559/nmvXrgHwj3/8g8TERAwGAw899BC1tbXU1tayatUqhgwZoti3myk1W4o0lF6rDr9lFmmo0np0XdOu1Y0FcVOpuW/fPoQQPP/884p1HDp0qNlI5h8rNRunOktSU5s4UpHCbO8Vgqa7C7auvoiiR0hZdJiYaVu58+57uPOuu7mvmyP5Ux6S/zb19fWlV69ehISEyDUsJakpREMTNp1OR2ZmJnPnzsXT05OkpCSEECxcuFCxnZ9//jkDBw5Er9dTUVFBTU0Ne/bs4fHHH6ewsJCxY8cq5pdKeMTExODu7s6yZcsYP348ffr0wdramvj4eDZs2KCQnpbSz6Vp586dY+PGjWRmZmIwGBg0aJBZgy0pkrzpS7q+pGv0jTfeoLa2lsGDB2MwGEhLSzPbFglLzaZ+yiuv6gWzdaioqPx6UB2BiiVUqanSIVEHLBUVlduB1mqC6YuXYOOsJXR4JSmLDjNu4XqEEHz00UeYTCY5mvL06dMIYbkBTX19PVeuXJG728bFxTF9+nTFPFJ9SktY6hq9d+9ehBCkpaXdsq7RrUXtfPvtt6QtOvSrjMJpKZrpp9JSXbyWJHu/7DJcRCrdvUOxde1Ld+9QtNGDLIrr+vp6BgwYgBCCN9980+z98+fP88gjj5Cbm0tMTAyRkZFkZWXxu9/9TiHHAT7++GMmT55MbGysLEEab/vnn3/O8uXLycrKwmAwEBsbS25uLosXL1Y0urqZUrOt0WFNIw1VWh/zmkrNxnWEm567X331lVz2Yd26dezZs4cFCxaQnJxMVlbWTZWaja8NF5GKvVcwDn30uBsHEZQ3E4+owdxrbcfd996HxsEFhz56xfx33nkXd951F11se8gPlpydnencuTPe3t5ys7XGUrO6uppXX32VkpISQkJCsLKyIjo6mh07djQbYblu3Tpyc3PlBy7Z2dnMmzePP/3pT2bzHz16lLS0NKytrenRowc9e/YkLi6O0tJSxowZgxDKxmctSc2ioiIKCwvZtm0bO3bsoKCgACEER48elec9fvy4vNy6ujr5JUVaS9doUVER2dnZbN68mV27djFu3DizbWlK42ZTUtT0ioNnqNz5Rrt+IxqfbyoqKr8+VEegYglVaqp0SNQBS0VF5XagtailxLl7sHHpg1fsMFIWHaZsxhyysrIAKC0tZdy4ccAPN5b//Oc/5WUfP36coqIiDAaDWWSM9DkJIQQzZ860uI2WukZv3LgRIQQFBQU3vWu0FIXXllTE9na/7ehRONK+/1JSs7VyCG2VxFKDoJycnFuyD78k7a3jp6aiK2ntmm0qNRtfs5bO3ffee49x48YRGRlJTEwM5eXlnDt3rsVI5qa0RWo2vjZcRCoOffTETn8Kj+gc7DyDsHXzxSUsmYhxKy3ulxT93MNHEBERQVJSEoWFhaxdu1bR6O1WXvuWkMbZ3NxcvvnmG3l6fX09OTk5im7xLUnNCRMmKETrV199RXx8PEVFRYr1tSX9vC3b0lbU61VFRaUxqiNQsYQqNVU6JOqApaKicruw4tAZizdXyQsOEDhkOl3senHPfVZ4+ofi5OREeno60NCp2mg0cvnyZSIjI3F0dMRoNBIfH09OTg7+/v4UFhZSW1vLyy+/zIkTJ/D19cXDw4PBgwdTUlJCdHQ0CQkJODs7M2fOHG7cuMH27dvJzs7GaDSSlZXF/PnzZbkoyUrp5eDggK2trUIeXLlyhfnz52Nra4unpyfJycnMnj2bDz/8ULHfjcXnSy+9xKhRo4iKiiI/P1++8RVC4Onpib29PVZWVvTs2ZPRo0fz8ssvK2pqSiKkc9fueMXlEzl5Pa76AXRz9+deq27ca22HrnipHIVz9OhRpk6dSmpqKu7u7tjZ2dGrVy8GDBjASy+9ZHbzfuHCBRYvXkxGRgYGg4GkpCTGjRtn9htz8eJFqqqqGDhwIAaDgYSEBKZPn66QzaCUKPv27WPYsGEYjUamTp0K/HDjf+nSJRYtWkRycjJGo5Hhw4fz0ksvmZ1DJ06coKKigoEDB8oRWiUlJfzxj39UzFdSUmIx/VNK05aEU+jw+TiHJtHN3Z9ubn44BcUpamm2Jomlmn07duxo8dy/HWkt0tChjx4bZ60a+dUMN0uc/9y09wHK7fJgxVIk/qVLl6isrKRPnz5oNBpyc3MpKSkhMDCwWalpqZbnlClTSExMVExri9RsvC0SS5cuRQjBV1991e59VCOrVVRUJFRHoGIJVWqqdEjUAUtFReV2YaUFqZlUeQC38HRsnLXYuvtxXzdH+g+fgKurKxEREQCcPXuWsLAwMjIysLKyQq/XU1tby9q1a3Fzc8Pa2ppXXnlFsa7Q0FDs7e1xcnKiqqqKvXv3MnfuXDQaDTExMSxdupTc3Fy2bt3Kjh07yM3NRRPEs3sAACAASURBVKvV4u/vz8mTJ7l27Rp1dXU8+OCDCCGIj49Hr9dz/PhxoCE6Jzc3l6CgIHr16sXYsWNZsWIFRqORmJgY/v73v8vbIknN/Px8YmJiWL16Nfv372fnzp2cOXOGhx9+GEdHR3r37k1ubi6zZs1i4cKFFBcXI4TA29ubSVNnysfMO344d3XqjJ1nEHYegfgk349TSCKdbbqjsXemV4CJ9z75H9Ag90pLS4mKisLb25vk5GRCQkLo3bs3Qgi5mdD58+d5//33iY+PJyIigoceeohdu3axbds2Zs6cqei8/Z///IfMzExMJhPLly+Xmy2lp6cTHR2taNIjSc2CggJSUlLYsGED+/fv59ChQ8APN/6FhYWMGTOGmpoaNm3aRGZmpsWIsnnz5jFu3Dg2bNjAvn372Lx5M9nZ2Wb1Ll9//XX5u6upqZHTP6XU16qDp9EmjsTGWYu7IZPAIQ8SlDcTd0MmNs5afDMmKM7TpsLu5ZdfZteuXaSmptK/f3+LdV1vd1qTW/aeQXTXig4rsX5pbtfo6tZkdltfv6TkttTYqnjuagKCQhSR+AsWLMBgMDB8+HC0Wi3PPvtsq1Lzo48+MlufJYHZdFrj2smWsgKarufChQvt3u+21N1cXafWwFVR+S2gOgIVS6hSU6VDog5YKioqtwPNpcYF5EzDxlmLT/L9RIxfhY2zlp79ogkMCePixYtAQ/fn4OBg7OzscHZ2VoiuCRMm0LVrV9LT0xUpgW5ubmg0GrKzsxXb4ejoiLOzM8OGDVPUx/zPf/5D37596dWrlyINXLrBLCgoUERprl/fUPOzqqpKkX5+6tQphBCK1E9JaoaHhytkp8SMGTPQaDSsWbNGMf3GjRuUlpZibW1NRUWFHIWTOG8f99xnzd33diF0RCW6okexcdbiGZNHv6xS3LT+cv3Ha9euyU1GqqqqAPjiiy9ISEigsLAQnU6HEIJPPvmEYcOGodfrZfHXmMbHdvr06ZhMJj744APFPJcvXyYtLU2R8i9JzdjYWL744guz5Uo3/qWlpYp1XL58mdTUVGJiYhQRS1LaemO+/vprsrOzyc3NVUxvKf28Zv8RbJy19MsqNTsnfZJGYePiQ8yD25pN1czIyCA8PJzhw4cr6ln+nLSUSnwzaCnSMKq0GhtnrSKqtaNEGnYUmsrBmAe34T9wElGl1R1OAjamvWnMzb1+ifTmlhpbSVHu01btlKVeamoq5eXlirHiu+++Y+3atc1KTUvjSVukZuMyIy2VHGlpPW2lubqbasq5ispvB9URqFhClZoqHRJ1wFJRUbkdaC76p1dgLN3c/Eicu4ekygN0c/fHxlmLLl5ZI06n06HRaAgKClLUZXvhhRdwcnLC3t6eqqoqduzYQWlpKba2tjg5OZnVlfPw8MDJyYl9+/aZbaPJZMLe3r5NUjM3N1cWe01rakrNHiQpK0lNKeW6KXFxcdjY2HD8+HG5yZH0OnDgABqNhtGjRyuicKwde3OvlS09A0zYeQTi6Gckce4eZq/fb9a4aPLkyQgh+Pjjj7l06RIXL16ktLSUhIQEJk6ciBCCV155BSEsd/BuzJdffoler2fWrFlm23rx4kUWLlyIXq+X68RJ4m358uUWlyfd+J8+fdrsvc2bNyOE4NixYxY/e+3aNXl/pA7HjQVoS3JgxowZ9O4bROyM7cTP3ql4hZdUYeOsJXhYRYdO1bwZUvPgwYPU1NRYfK+1Zkq9AmNJXnCww0UadhSaykHD/39oY6m8wS8lAZujrWnMLUUDdrTtblzDVNo+nU5HZWWl2VjRUk1Nadp3333H999/D1iWmgsWLPjFpKaKioqK6ghULKFKTZUOiTpgqaio3A40J0i6ufnRK8Ak/9s9oiH9NzR7kuLzRqMRa2trs8hLgKlTp2JnZ4efnx9JSUnMmTOH4OBgfHx8zKSmt7c3Tk5OFtP+UlJSsLW1bZPUNBqN5OfnW2wUtGzZMoQQ/PWvfwV+kJqrV68GzFMjuzq606nzfXhr+1isA6nRaCgoKJCXf/bCJVy1/rgGmbB11mLv7svsDQc5e+GS2facPXsWrVaLra2t2XJ1Oh3Lly+Xa0IKIXj66adb/B7feecdi9vY9CWJZ0m87dq1y+LyJBlw5coVs/eOHz+OEIKtW7fK086fP8+8efOIj4+3uN5PP/3U7LuzJAdyc3MRQuCmbZDoll7+gyZ36FTN+vp6vv32W4vdodtKc93Qof1pyB0l0rAj0ViytSQ1O5o4b0sac0tC85e4ZlqLMG0sNb3i8gkICpHHDXd3dzQaDU8++aTF9HNpWlBQEJMnTyYpKQmdTieX2iguLsbBwYGkpCSMRiNpaWlERkbi5+cn1+1sPE5ptVqLmQSgSk0VFZWbg+oIVCyhSk2VDok6YKmoqNwODHi4rk1Ss7lU1sGDBxMXF2dx2TU1NQgheOGFHyLFGjeFaUxLETKWBE9zN5iS1LREc1Jz/fr1FiOJNA4u3HOfFQHZZZRX1fDan/7EiRMn5Jevry/Tp09XrEOIhs7C0k3yc889p1hXdXU1n332GSaTCUdHR3x9fXnppZf40/9f9vjx4+UISiEEzzzzTJuk5ttvv40QgunTpyu2selLSu1vLZqwJakpNeHZtm0b0FDHNC0tjZiYGNavX8+LL74o709FRUW70kVzcnIwmUycOHGC3XXHmLL8aRKnrCFq/EoSp6xhyvKneeXUuy0ei18DLUnN27WbsnSN//nPf2bbtm1kZWVhNBrJycnh97//PQCff/45c+bMITExEaPRyAMPPGBWK/Hbb7+lurqawYMHy43JpkyZIl/XjXnrrbcoKysjNTUVg8FASkoKY8eO5aXjx1ld9xb+AydZFOcOffQdWpw3l8b84lufdLj05tYkfGOpaXzgMcbMfxwhBGPGjGHSpElotVpOnjzZrNTs27cvNjY2jB8/ntraWrZt28ann37KqVOncHZ2xs7Ojm3btnHgwAE2b97MoEGD8PLyYsaMGTz22GPcf//9BAQEsHbtWubPn49Wq1U8sJFQpaaKisrNQHUEKpZQpaZKh0QdsFRUVG4HMh6xXJ+vcfp54+lNU1lLS0sRQvDvf//bbNkLFy5ECME777wjT7vVUlNKP29cl1NCEob/+19Dsx5JNOZNmm9Z7Pbux9333kd4SZXFqC1L+yKl0a9Zs0belnPnzsnrWrp0KZ6enri7u5OXl4cQgv/+97/y50eOHIkQwiz9fN68eWb705hLly6h1+uZPHlyi/NJnDx5EicnJ7y9vS2+3570840bN6LRaJgzZ47ZvLNmzWqX1CwvL1cck5bOi9a4ceMGO3fulBtBRUdHM3DgQObMmaM45m+//TZTpkwhPj4eo9HI4MGD2bhxo8Vz6Nq1a2zcuJG8vDwiIyOJiYmhoKBAFrzQsjA+dOgQRUVFREdHExkZyfDhw83may7K9uDBg7z44osIIbh/1nKL56ynKRcbFx9ip2/vcJGG0nc5cuRIcnNzefLJJ3nmmWfIzc1Fp9PxwgsvkJGRQUVFBbt372bNmjUYjUZyc3PlqNf6+nq5jERpaancmCw+Ph6DwaCI9D537hzR0dFkZmbyxBNPcODAAbZu3cqsWbN4/PHHAXjh/06RM74CO1cf+iaPwjTmYcbMf5ztew79Isfo10hrjZkaS03pN0YaWxuPFc1JTXd3d9zc3MzGk6qqKpycnAgODlZMr6+vZ82aNQwYMAC9Xo+3tzfu7u5q+rmKisrPguoIVCyhSk2VDok6YKmoqHR0Wor4CpQaBaUUkbzwkCKV9caNG/Iynn32WYQQLF68WLHsjz76CKPRSGZmpiIN91ZLzXXr1iGE4Mknn1RM/8tf/oIQ5o2CAoJC8B84ybIgisnjrk6dcYvItBj1FhwcrNiXM2fOoNFo0Ol01NfX869//Yvo6Gjy8/PlGp9Lly7Fy8sLd3d3lixZghA/NAp69dVXEULg7+9vsVGQpcY3jY9teXk5Op2O1157zWw+QCHy2io1J06cyLJly0hPT0ev1xMVFUVqaiomk4kvv/wSgCeeeAKNRkNFRYViGWfPnsVgMJh9T9u3b0cIwbvvmkdcSlGg8+bNo76+3uy8uHr1qkXZaAlJvkrya9++faxbt47CwkI5PfXVV18lIiKChIQE1q5dS21trVzrtEePHsyfP19e3pdffkl+fr68zO3bt1NbW8sjjzxCYWGh4thakpqLFy+WP1tTU0Ntba38UGDt2rXyfHV1deTk5JCYmCh3h6+rq+OTTz7h+vXrpKamMmzYMLM05PiKWmzdfHE3ZP6i6cbNIX2XeXl5Zs3ADAYDOp2OLVu2KD7z9NNPI4SQG2wdOHAAIQQPP/ywYr5z585hNBoZOHCgfE1IpRtaaxh1qxs7/dZpqbGVpVf64iMWfycs/Q6UlJQghODy5ctm6924cSNCNNQxvn79erPb91MenKioqKi0F9URqFhClZoqHRJ1wFJRUenotJQWmFR5AFf9AGyctbiIFPpllxM8rII5ix5V3Fhev35djpyaMmUKtbW1rFu3joSEBAwGgywjJG611Pzqq6/kuoxz585l9+7drFy5Uo6qa9zl/Pz587hq/ZuVmjEPbuNeq27c08Uae+8QekdmkXF/Q0fesrIyNBqNvC+XLl0iLS0NGxsbZsyYIa+jrq4OIQQzZ85ECMGGDRv44IMPiIqKIjk5mcjISLy9vTGZTPj6+hIWFoa1tTWFhYUIIbhw4QLvvfcesbGxREREsHjxYnbv3k1NTQ0VFRU88sgj8ro+//xzBg4ciF6vp6KigpqaGvbs2cPjjz9OYWEhY8eOlec9efIkYWFh7N271+K5IUlNg8GAg4MDI0aMoLS0VJaUzz77rDzvK6+8go2NjZzCuW/fPqqqqjCZTIwYMcLsezpz5gxCCMaPH8+BAwd4/vnnFeJJai6Un5/PxIkT8fb2Zt68ecyaNQuj0cjSpUs5fvy4xe1uTEFBAUOGDGn2/b/97W8EBQWh0+nMUpwXLlyIRqNh2LBh8rSlS5cq0u4b01guW5JkUsTt5s2bzT776KOPotfrFceopfRzSdz/9a9/VaQhh+ROx87Vh4mPbOkwKeeNka5xS+fc0KFD0ev1ZsL6b3/7myymoG2R4ZIsP3z4MEIIHnvsMblBliVUqXlraS1Ss+kr45EjBASFtFlqJiUlWVzv5cuX5XHUZDIxceJENm/ezCeffKKYT5WaKioqPyeqI1CxhCo1VTok6oCloqLS0WntZjOp8gABg6fSKzAGWzdf7D36kZubKzfWkZBq3GVnZ2MwGIiLi6O0tNRijbtbLTWh4Wa2qqqKjIwMIiIiSExMZNasWXz44YeK+c6fP4+dq0+zUrMhNXI+tm6+dNLYcve999HZuhvp6elMmTIFLy8vKisruXHjBpMnT0av1+Pr62u2f4sWLSIwMBAfHx+5UdDp06cpKSkhMjISDw8PXF1dCQoKIjAwkD59+rBixQpFGvYnn3zCwoULSUtLIyIiguTkZMaPH88rr7yiWNfVq1dZt24dubm5GI1GTCYT2dnZzJs3jz/96U/yfG2tqTl8+HACAgLkRhsFBQW8+OKLinlPnjxJQEAAmZmZxMfHExUVxf3338/LL7/c7Pe0fft2Bg0aJNcfbXrMjh49yoQJEwgMDMTKyorIyEjGjx9PTU0NoaGhFs+hpowbN46YmBhOnTpl8f3HH38cjUbD+PHjzd779NNPCQsLo7S0FGiQlvHx8aSnp7faAMjSsZ0xYwYGg4HPPvvMrDP966+/jhCCffv2yfO3JDU/++wz9Ho9ixYtUkwfMmQIaWlpP6lB0c2iadOtvKoXKJ67moCgEIvNwEpKSkhLSzOb3rTBVk5ODrGxsRbX2bSG73fffSdH3RqNRkpKSli7dq3iwQaoUvNW097GVimLDmPjrCU1f7wi0rg5qdncdQIN1+2bb77Jhg0bGD9+PBEREYSHh8u1jkGVmioqKj8vqiNQsYQqNVU6JOqApaKi0tH5MWmBvzbacwxCCuZh66z9SY1OLHVlB9i7dy8TJ06UpaWbmxsuLi5mAgYgIyODkpIS/vWvf1FaWkpMTAyxsbHMnj2bixcvAg036kOHDpU7/j711FNmy5HEZUtkZmYqUvZ37Nghy+vMzEw2bdrEiRMnZCn3/fffAw0Rs+vXr2fUqFEkJiYSERFBRkYGv/vd7yw2H/r+++/ZsGEDGRkZ8jHdvXu3ReEghKCiooLq6mpycnIwGo3ExsYyoqiEaatrZZGW+mA1fUKNBASF0L9/f2bOnMmePXvk9UvRmE1TmSViY2PlSM///ve/CCEoLy9v8XiBZUkmRQ+39Nq0aZM8f2uypry8nOjoaL766ivgh/IKTc+rn5vr9fUWm241rp04bdVOs7T45va36fXS3sZkAO+++y5btmyhtLSUqKgos2hbVWreWtrb2EqSml5x+YqasD9GajblwoULxMfHKz5z6NAhVWqqqKj8bKiOQMUSqtRU6ZCoA5aKikpLdIQb6famBUpNgtp7I9mRac8xCCmYh52rz09qdNJU0nz99dcAZGVlMWvWLLZs2cLq1atxd3fH1dUVX19fBg8eTHR0NNHR0eTm5uLv709WVhZJSUk8/PDD7Nixg8GDB2NnZ4ejoyN+fn54eHiwYMECamtrKSoqkmWPFBX57rvvotPpsLa2xmQyUV5eLkdTfvPNNwwZMgRbW1s0Gg3W1tYIIXBzc8Pd3Z3hw4cTFxdHcHAw/fv3JyAggK5du6LVauValR9++CEBAQEEBQXh4+ODn58fQgj8/PwoKCiQ5Sc0SNqQkBACAwMJCgrCz88Pb29vXFxcGDhwoCwcpGsmNDQUe3t7rKyscHZ2xsvLi6ySGfTsF42VY29cwlJw9DPSzd2/IcLYO4SI5CyGDRuGEILExERKS0vx8fFBo9Hg6ekpi0UHBwc5CtTa2hp/f39AKTWPHDnCyJEjiY6OJioqilGjRikiv6TtTElJISMjg//+97/4+fnRrVs3AgICSEtL48knnzTrTH/06FG5U7ejoyMODg6MHTvW4t8RUv3VPXv2ADBv3jz0ej2fffbZzbw82k1zQrOx1DSMX2XWwKitUrO9jcmacvnyZbKzs4mIiOC7774D4NSpU7/4WPxrp6XzoiWpmbLohzrG7ZWaUkO4xty4cYPBgwdjMpnkaceOHUOIHxqfqaioqNxKVEegYglVaqp0SNQBS0VFpSU6gtRsb1rgioNngF+X1GzPMQgpmIer1v8nNTppKmkWLlxIeXk5mzZtYu/evSxduhSj0UhUVBSDBg3CysoKvV7Pli1b2LNnD1VVVTg6OiKE4MiRI4pu0FFRUXh6euLv74/JZJK7QX/zzTckJyfLcjM/P5+4uDiSkpLw8vJi+fLlhIeHM3ToUOrr66muriYgIICSkhKCg4OJjo5m69at+Pj4MHDgQL799ltKSkpISEggJSUFT09PPD09KSsr49NPPwVgzpw5hIWFUVxcTE1NDZs2bSI9PR2tVou3t7cihT06Oppu3brh7u5OZWUle/bsYe3atYSHh9OtWzdCQ0OpqKjgwIED1NXV4erqioODA6tXr6auro6xlWtJnLeXpMpnsXH2obONA74ZEwgeVkHA4HKcguOxcdYyYtpiampqcHd3p7CwkClTpqDRaMjIyJCb8UjlAz777DM0Gg0RERHAD+nngYGBhIWFMXToULZu3crWrVtxcnLCwcGBjRs3AkqpmZiYSHZ2NkIIvLy8WL16NV27dsXV1VUhIBMTE+nZs6fcqTs1NZXg4GBFp+7G1NfXk5mZSUFBAVeuXCEyMrJNUaS3ktYi8pp2uW5c97M1qfnAAw8ghGDZsmV4eHjg5+eniJL+6KOP0Ol0+Pj4kJCQgNFoZPTo0Yoo6Rs3brBlyxb8/f2xsbFBCEH//v2ZOHEiwcHBbN++XbHuxg8AJkyYgMlkMnsAAA3Xf3h4ODNnzrR4XPbu3YsQgrq6up96iG9brtfXmzW2aqvUbOl3p6XfomnTpjF8+HAef/xx9u7dS21tLRMnTpQbtklI5Rzy8/PZv38/zz//PH/+859v3cFQUVH5TaM6AhVLqFJTpUOiDlgqKiot8UtIzaZCrTUJYRi/ChtnLSEF82QJcf78ecLCwhTdmqH5Wpmt8UvL3fakRoYUzCMgKOQnNTpp+h08//zzFBUVER8fT3h4OElJSZSVlbFo0SJCQkIICgpi+PDhimWmp6fTv39/QNkNWoo4Wrt2rVk36PLychISEhBCoNPpOHnypCL9XOoU/vrrr1NUVMTQoUOBH1Ldt23bhhBCTrOXug6vWbNG/qz0Hf75z39GCMHkyZOpr6/n+vXrXLlyhQ8++ICYmBisra1ZsmSJvD++vr5oNBrWrFmj2M/nnntOjsT08/OT65d27dqV4OBgLl68yMm/fUj87J3yyzd9PDbOWkxTtxA/eycpiw6TvOAgLiIVO49Alq5aj0ajIT8/n2effRZbW1uCgoLk5iHffvst33//PQ899JBZo6DZs2ej0WgwGAxyhC1AWloanp6e6PV6Pv74Y4XUlL7rxl3d/fz8cHJyUlxDwcHBdO/eXW6YVFZWRkxMDDdu3Gj23N26dat83Qkh+OMf/9jsvD8HrT0gaCo1JVkFbZeaI0aMwMvLCw8PD/r374/BYMDd3Z2QkBC6devGqFGj5Cjp3r174+LiwooVK9i1axe7du3Czc0NJycnUlJS5IcIBoMBe3t70tLS2LVrF88//zwvv/yy4gHA0qVL2bt3r9kDAIkZM2YQEREh18BtzIgRI4iPjzcbG36LnL1wiYxHWi/50VhqtpQh0JLUPHbsGFOnTiUtLQ2j0Uh8fDwjR45k7969ZnVn6+rqyM3NlRuhNS65oaKionIzUR2BiiVUqanSIVEHLBUVlZZoj8w7fvz4TamVZ6meY0tpgY2lppQu2lxNyNtVakLbUyOTxy/+yY1Omjt+p06dYsKECURGRiKEwM7ODisrK0JDQ8nMzFTMm5GRwejRowFlOq50LKXO5I27QUviSwjB/fffDyhrar7zzjuEhYXJUYKFhYV88cUXpKWlUVJSwuLFixFCyOnlktT84osvePHFFxXf4ZIlSxBCUFVVRX5+PuHh4fK63d3d0Wg0jBo1St4fDw8PbGxsuHr1qmI/L168iKenJ66urrLU/N///odGo8HJyQkhBK5af2yctWYvw4TV2HkE4qpLo29aCW4R6dzXzRFXbz80Gg3r1q3j4MGD9O3bl4CAABITE1m3bh21tbXyMe3Rowfz58+Xt6e6uho7Ozu0Wi1lZWU8/fTT7Nq1Cz8/P5ydnRFCsH37doXU1Ov1sgCVurrb29tjZ2dHdnY2mzdvZtasWfJ2SJ26JVG8ePFi6urqeP75582aLf3vf/+TJcyAAQN+8QZBrZVyaCo1JVkFbZeaeXl5XL16VW5MptPpsLGxwdHRkYceekjx2YceeohevXoRHR1NZGQkMTEx5Obmsm3bNkU39BMnTtC3b18iIyMxGo0IIcjIyFA8AGhM4wcAjZfRtFYnwHvvvSdfCyoNqLWcVVRUfsuojkDFEqrUVOmQqAOWispvl+vXr/PMM88wYsQIRS3ElStXyvM0lnm///3vyc/Px2g0kpyczNKlSxU33ZWVlQQHB7Nq1SoKCgqIj4/HYDCQnZ3NunXrzCKAmlt2TEwMLi4uinRWKS3QNHULvY2D6Na7H91698MtIoOo0mpcwpLx18fIjT3Onz+Pg4MDgYGBinUWFxeTnp7Of//7XxYsWCA3yiksLLSYynfjxg1qamrkDtiZmZls2bJFlgM/p+Rsa2rkzWh0YklqvvvuuwSFCgINCYTnz0Abn0+nLlZ0seqKnX13nJycFOdORkYGxcXFVFdX4+zsjI2NDfHx8eTn5+Pv7y8fO6lxio+PD7Gxsfj7+9OjRw/c3Nzk9HTpezx//jw9evTg3nvvRaPRyK8uXboQHR3N4sWLcXBwID4+ngsXLhASEoK9vT06nY6nnnpKlqk7duzAx8eHzp07Y2Vlhb+/P48++ih//OMfOXHiBI899hgajYaePXtSUlLCxx9/jI2NDffccw8RERGMGzdOFqcAzs7OdOrUSa7JGRwczF133UWXLl04fPgwiVPWEJg7XY7EtHJ0515rO+61tqOTlS2dNDbc3bkLd3fqzJ1330OnLtb4+voihECr1aLRaEhISKC0tJS4uDisrKzw9fWlurpa0WX9yJEjhIaGYmVlJdcW9fX1JTY2FhcXF1nc6vV6oqOjCQ4OxsvLi+7duyuug6NHj9KjRw+6dOmCo6MjaWlpjB8/nm3btsnizmg0UlxcTGZmJlFRUej1+maviYqKCrMmQ78Ut1JWSQ2jfkqUdGPq6+u5cuWK3IE+Li6O6dOnK+Zp/ACgMe+8847Zcm/cuEF2djZZWVmK6FpJZH/wwQdt3tdfOz+2lrOKiorKrwHVEahYQpWaKh0SdcBSUflt8v3338t1u0aPHq2ohThgwAB5Pkk8FhUVkZKSwoYNG9izZw8PPvggQghFem5lZSW+vr6kp6ezfPlydu7cyc6dO5k+fTo6nY4pU6YotqG5ZY8fPx6NRkN2drZi/gsXLmCIjqF33yCCMkoIy6+gX+pItIF6kvqnK2Rdc1KzpKRErh84ffp0amtr2bx5M0lJSRiNRrMGJqtWrUIIQWFhIdu3b2fLli1kZ2dTWFj4i0Vunr1wieK1x9sUafZjG500/ff1+noGjX7w/6dMb8YtPB0bZy33Wtli4+KDdU9Perp5KaJA09PTZTHn7e2Nv78/a9euRafTYWVlxfLlywGl1AwICMDa2hoXFxfy8vJYvnw5Li4u2NnZUV9fz/nz5/H19SU3Nxe9Xk98fDwrVqwgJCSEvLw8tm3bhoODAyEhIQwYMICgoCDCwsLYtm0bK1asQAjB0KFD5WZAVlZWBAQEMGDAAHQ6HYcOVWccpwAAIABJREFUHZK3SZKaWVlZJCcn4+DgQNeuXamoqCA6Oprk5GS5q3evXr2ws7PDz8+PMWPGcOjQIbp06YKbmxvXrl0jffER/DIewCk4Ht/08XTr3Y8udr2wcdai6e6MV+wwIsZW4RyazF33dKJXvyh69+5NYGAgLi4uWFlZUVxcLEc5CiGIjY2VI0srKytZv349QggCAwOxtm6Qonl5eQgh2LhxIxkZGeTm5tKvXz8cHR3p1q0b3bt3p3v37vj7+5tdB9J30jjFVUrzb9qpOyAggMzMTPr3709ERAQpKSmUlpbyl7/8BWgYG/R6vcXGOT83N0tWnb1wiaqDp+Uu9nlVL1A8d/VPjpKGhqj3oqIiOcK18WvcuHGKzwshmDt3bpuWCz9cb9JDnK+//pqYmBg1lbkJP7aWs4qKisqvAdURqFhClZoqHRJ1wFJR+W2yfft2WUo2rYfXOD1UEo9JSUk88cQT5OfnExMTQ3R0NB4eHjg7O/PJJ5/IaZChoaGEhYXJN+DSDfXKlStxd3dn0KBBJCYmEhERQXR0NC4uLsTHxys6wErReJ6enhw5coThw4djNBrl9TVtZPHwww+j0WjQ6/WKZViSmg4ODjg5OcnbJaU2+/k1pPu6ubnJ2x4YGIi/vz+jRo3i9ddflyXm1atXGTBggNz9ui1RrBLnzp2jvLxcbuYxadIk/vGPf7SrqdGtbHTSnNRcdfgt+g4Yi42zlr5pDf/1Sb6fngExaLq70LWXFw599Kw8dFpepk6nw8HBgYcffliRfn748GGsrKwIDw+nvr5eTj/v168fzs7OsgiVog8HDhyIRqPh9ddfV2yXJNjgB9l27tw5HBwcsLe3Z8WKFfL+XrlyhbS0NHx9fdFqtUyePJlHHnkEe3t7YmJi+M9//kNycjIxMTFcvXqVtLQ0NBoNLi4uCCE4dOgQ0dHRODg4UF5eTl1dHUII9u3bx4ULF7CyssLJyUlOPwdwdXXFycmJvXv3klf1Aonz9pKy6DBRU6qxcdbSJ7VYUUczqfIALiKVuzp1xs7VB1tbW+bOncu0adPo3r27YtlNpWZZWZncRGTTpk04ODgQHh7OtWvXyMvLQ6/Xk5SUhMFgwNramt69e+Pl5UVeXh49e/bE3t6ev//975w5c0aud9qS1GzM0aNHsbe3p2vXrixZsoS9e/eyZcsWpkyZwhNPPMEXX3yB0WjkwQcfbNP5fav5qbLqen19s6UgbkaU9PHjx+UHKbW1tbz88sty5/mEhASz499cSY3mpObly5cxGo3Mnj0b+KHerVSHVqWB9tQxbjrOqqioqNzuqI5AxRKq1FSROXv2LJWVlURGRtKzZ080Gg1+fn5MnjyZCxcuWPzMxo0bCQoK4r777sPBwYH8/Hw+/PDDn7wt6oClovLbJD8/n8jISDnSrDkkqVlQUIAQgtLSUmpra9m3bx+jRo3C3t6eF198kePHjzNmzBiEEHKH5oMHD/Lmm29y8eJF6urq6Nq1K8OGDaOmpobdu3czduxYNBoNQgi+//57eZ3nz5/Hw8NDThtetWoVO3fuxM3NjW7dupGbm8u1a9fk+f/0pz9hbW3dZqnp7Ows1w88c+aMvL39+vUjJyeHgwcPkpycjKenJwEBATz//PNmNTW3bNkiS822RLFCQ6RpQkICBoOBZcuWsXv3bhYuXEh8fDxZWVltlpq3stGJJakp3dwbH3gMGxcfOtt0R2PvTMDgafToG8Hd93bBqoc73X10ipt7Dw8PHBwc+Pe//82zzz4r1148efIkTk5OaLVajh07htFoJDMzEyEEISEhiuhDgAceeACNRkNtbW2rUhPAaDSi0WjIy8sjLi6O4OBgsrKyGDFiBC4uLmi1Wk6fPs2JEyfw8PDA0dGRcePGMW7cODw9PUlMTMTJyQlra2u0Wi0pKSnyOoKDg+V0X0kKJicnY29vbyY1o6KiZEEbM3A4AYOnEjysAu/44dzTpStWDm7Ez95Jv6xSbJy1RIxdgVVPD+7q1BlHVw9CQkI4efIkx44dIywsTO5OfurUKTOpmZWVhRANnebPnTtHjx49cHZ25ptvvuHw4cNySrydnR2enp4UFBTIdTQHDx6Mra0tY8eOBcBkMjFjxgyLUjM1NVXx76+//prk5GScnJwIDAzk0qUfxM7bb7/NgQMHGDVqFHq9nnfffbdN5/et5qfKqpZq296MKOkHH3wQo9GoaPIEcO3aNfR6/U+WmtDwMMdgMHDx4kXuv/9+EhMT1QZBFmitjnFS5bMkVR4w+65Vfl5aOtdVVFR+HKojULGEKjVVZGbOnEmXLl0YMmQIK1eupLq6mqKiIu6++27s7e3529/+pph/7ty53HHHHURFRbF+/XoeeughundvqF/28ccf/6RtUQcsFZXfBk1TJbt7+BNiSm01ukSSeSaTiSFDhijek+rHnTp1Cmi4UQ4LC2Pr1q3k5OTINfaEEISFhREWFsbGjRsVy/b29sbb25sXX3xRnn7+/Hm8vb3RaDTs3LkTgC+++AIhBKmpqWY3LydPnsTOzq7NUlOr1Vrc14yMDMaOHStHDg4bNkxuOtNUah4/flyWmklJSYpIU2gQcREREQr5OmfOHIQQZuOtlA7aVql5KxudWJKa83f+WV62rngJnTQ2dNLYYOcZhLshk15BcXTS2NDZxoF+2eXcP6uKVatW0blzZ5ycnICG+q3jxo1DiIZOzT169KBHjx6EhIRgMBjkSFiTyWQmNadOnYpGo6G6urpNUnPMmDEEBASQlZVFjx496NmzJ5s2beLEiRP06NEDrVbLlStXgIbfVw8PD3r37o2zszP33XcfTk5OhIaG4u3tTZ8+fSguLpbXMXr0aNatW8eAAQOwsrLCz8+PXbt2odVqzaTmAw88gMFgYPTo0RiiYtB0d6WzjQOdNLbcdU8n7rqnE51tHOhi34v7bHtg46zFziOQuzp1ZsDAwQghOHnyJJ999hl6vZ7+/fvj7e3N6NGj5TqZ0rGSOsZLdT6jo6OxtbVl2LBhLFmyBA8PD7p27Yq1tTXr1q1TpEKXlJTQu3dvhBBcvHhRvg4sSU0/Pz88PDxYuXIlu3btYsGCBfTq1Qs3NzfKysoU51RlZSU6nY6MjIxftMGWJdradKuprGpPlHTywkOsXL9Fjm7v2bMnPXv2ZM6cOYru48eOHcPR0ZG+fftiNBrp06cP3t7eXLx4UbHuoUOHyp3u16xZw4ABAzAajdjb28sNuf71r39RXl5OXFwcERER9OzZkxUrVpjt/+nTp+WHNlZWVnh5eTF69OgO+begVBt09erVFt9/7LHHEELIpQ6uX79OTU2N/OAuOjq62X07evQoU6dOJT09Xe48PnnyZM6caXgQ1LiOsYtIxaGPntjpT+EZk4e9Vwg2zj7M2XiQ6/X1vPrqq4wbN04u4ZCWlqZYlsqtoyNJzfPnz1NdXa2ouXyrsRRBr6LyU1EdgYolVKmpIvPGG2+Y3QBDQ8fSO+64g9zcXHna+++/z913301YWJgikumNN97gzjvvpLCw8Cdtizpgqaj8umkuVbKbmx+9AkykLDrMqsNvmaVKSkgyLzU1lZiYGFlgwg9SU+q6W1lZiaurK0IIZsyYwcGDB/m///s/Tpw4waFDh+SbjuvXr3PlyhWOHz9OUFAQ3t7eigYzktTs0aOHvGxJakqp23l5eYptbI/U7NOnj8V9zcjIIDo6GiEEa9askTtpnz17tkWp+dhjj5ktS2pK889//hNoSOk3mUzk5OSYzfvtt99iMpnaLDV/rq68bTl3GqKVDhAweCq9AmOwdfPFwSuA3NxcgoKCiIuLU+yn1A1aq9VibW1NVlYWf/3rXwFlxFnj/298w9oWqdlY3DaVuJMmTUIIIUvN+vp6nnnmGYYOHYq/vz/W1tbExcXx6quvmi236Y2jpe1tPO3jjz9m8uTJxMbGEhYWhsbalq5O3vTtP4bAITNwCk7AxqUP93Vz5J4u1vTpPwbPmKF0uvc+uRmPdP7X1dWRlZWFlZUVPXr0wMHBoUWpWVJSQnh4OCNHjpQbB9nY2BAbG2vxGEkNjt5++215Py1JTZPJREhICJmZmURGRtK3b1/s7OyYOXOmxXILHZW2NN1aXWc+LrYnSrpfVimuWn85uj0pKYmAgAAKCwvl7+nVV18lNDSUrl27kp+fT21tLYMGDUKj0eDj48MzzzzDjh07KC0tJSgoiK5du+Lj40NRURE1NTU89dRT2NjY4OLiwiuvvEJCQgKLFy9mz549VFRUoNFoiI+PV+xDfX09kydPxt7enl69euHl5cXq1aspLi5GCMtNjn5pCgsLSUpK4rvvvlNMv379OikpKfLfzdK+6fV6Zs+eTW1tLTU1Nc3uW0lJCWVlZWzatIn9+/ezYcMG0tLSiIiIUMjIsxcuYUjJwVEbQo8+evrGDWHkjN+xdPV6Pv30U06dOoVer2fo0KFs27aNAwcOsHnzZkpLS9m1a9etP0C/cTqS1Gz6t8LPgSo1VW4FqiNQsYQqNVVa5fLly9xxxx307dtXnlZZWckdd9zB1q1bzeaPjY2lS5cuikig9qIOWCoqv26ai0jqFRhLNzc/EufuaTYiqergaZLKHsfWWUto9gP0CTUSEBRC//79mTlzJrNmzSI0NFQhNbt27cqYMWPMtuPVV1/F29sbvV4vd2D29fVFo9Hg7e3NwoUL5Xklqenq6iovu7EUlGpXSrz++uvtSj9vTmrq9XocHByoqKjgxo0bbNu2DSFEq+nn+/fvN1tW0yhWScpOmzbN4rrz8/NvWqRm09eP7crb1nOnOYnauI5mU6Ro2HfeeUee1t402uZu5FqqT7pkyRKEEJw+fdrsvU2bNiGEUEQNt3SzaGl7m9uHs2fPIoQgd+Jcs+Ml1So1jF8lS7GMkaUKqQlw5coVhBBMnjxZkX4OyOfqkSMNx764uFg+BlL9z5CQEPLz8y0eo2XLliGE4K9//atCajbdl6bHY+vWrQghOHbsmMVj1NE5e+ESKw6eUTT7WXHwTLMR7O2Jku4VFItrkEn+bNNjXl9fT2ZmJjqdjsDAQMX5nZ+fj52dHX379iUpKYk5c+awbNkybG1t8ff3V9Q97tevH05OTuh0OkVdzPPnz+Pi4oK7uzvnzp2Tp9fW1iJEQ3MhIQTjx48HGjqjl5aWEhMT02pZkp8bqXzFCy8ox7Jjx44hhGDHjh3AD/v23HPPKeZrbt8s/f38xRdfkJCQYNbYTrom1qxZY/aZqqoqhBCKCFyVn4/futT89ttvzYS/ispPRXUEKpZQpaZKq7z77rvccccdmEw//BHcv39/7rjjDs6ePWs2/+zZs7njjjssdtlsK+qApaLy66WlVMnAnGkNzV5SikheeEiuHXe9vp6Vh87I8xnGr8LGWUtIwTwS5+1DV/Qog4qnMWzYMLy9venatSsHDhwAmpea33//PfHx8f+PvTOPi6L+/7i/bhdYbgTklAWX+/iw7C6wwMqtC8rlAaIiImiAWIKiooKBoWJoomJimZGigEdQWd+svn2tSO381jfNDivNTjwyoYDX7w+aaWd3lsMT9fN8POZRDsPszGeOZZ7zPiAQCBAaGorm5ma89dZbeOaZZyAWi+Hk5MSRJ3xSEwAWL17MRqUFBgay8wfbKIhPah45cgRGRkYQi8Xsw8E333wDf39/zJgxo99GQZpoRrEyUlNXs5TBSM2b0ZV3sOcOM0WWvsBKVPU6mup8++23bB1NdTlzM6RmW1sbWxtW/bPb29sRGRkJhUKBS5cu9fsZurZXoVBopWEDwJdffglCCDZt2oTSPcfY8QpbWA9jRy8tqWkflABbkRtHFn744YcghKCyspJTiuHChQs4ffo02yioo6MD0dHRUKlUuHLlCiZNmsQ2ClIoFOjs7NQaozlz5nDSzwcqNd944w12v+4GBhMlbeMfAxMHD050uzpMWvXKlSu1fvbDDz+AEMI5l2pra0EIwTvvvKO1vEKhQExMjNZ8Rvr9+9//Zuelp6cjNjYWzz//PLy9vdHU1IT29na0t7ezTYPefffdqxmeG8aVK1cQFhaGOXPmcObn5eUhMDAQFy5cAPDPvjH7oz71t2+XL1/G+fPn0d7ejvz8fIwZM4bzc+aaYD5Lna1bt4IQgoaGBnR1dV2nvaZcvnwZmzdvxvTp09kGgyqVCqtXr2aj7QHud8Rrr73GNheMiIjAypUrObV+GS5evIiqqirExcVBJpMhMjISxcXFWv0K+hKmmgKTuUY1p4F+tw+G7u5uWgeXckOhjoDCB5WalH5JTEzEsGHD8PTTT7PzPDw8MGzYMN63yTU1NRg2bNiAU4W++eYbvPnmm5xpw4YN9IZFodyh9CW/IpYfgI1kLITWIowkUWwtxISsIpi5SHilpmZq5qpVqyAQCFjJsWLFCrZbdGFhIZqamvD0009j4sSJcHBwgKGhITZv3sxu37Fjx+Dh4aFTaqqnnzPzw8LCYGBgAG9vbzQ2NqK0tBT+/v4wMjJCQEAAZ9mBSs3//e9/UCgUsLKywowZM7hj+HcEztixY+Hg4IB58+YhISEB06ZNG5TU7Cv9/M8//xxU+vnN6Mo72HPHe/JijI7NgpmLhJWo6nU0582bh4aGBmzatIltlqQpF26G1ASAkpISEEKQmZmJ+vp6bNu2DSqVCv7+/lrHcrBSc+7cuZDL5di+fTtefvllHDp0CH/88Qe6u7sxadIk+BAJXKIz4TNlCcSqOTBx9IKVt1JLaho7esHAahRUE5Kxb98+vPTSS5g0aRJ7ThFCMHHiRDaSGAA2b97M1iV1cOhtNMT8ztatW6FSqUAIwdNPP80Zo48++gj+/v5aafYDkZodHR1s1/jvv/9ea4y6dZS1uF0ZTJS0/OGNMHf240S3NzY2sjLm0KFDIISgvr6e97NCQ0M5dYwZYcJXS52p96oJc6688MIL7LygoCAQQmBiYgKhUAg/Pz8tCdPa2nqtQ3XVaNZ/nlj1CqoOfoiFJSvh7+/P7v+XX34Je3t7eHt7s8LL2NgYI0eO5DQcI6S3prOtrS2EQiHEYjGSk5PR1NSELVu2YMSIEVrLe3l5wdraGjExMZBKpYiJiQEhBCEhIbzbfOHCBaSnp7PX38MPP4y6ujrea4IycL799ltERESgoqKCbTC4YsUKBAQEIDU1lS3LxXxHTJ06FcHBwaiursaePXvYaGTN5oKXL19GcnIyW1dWLBbD0dERpqamcHJywhdffMEu+/XXX8POzg6+vr5s3dV58+bhv//9L3t97d+/H+PGjYNSqcTGjRvZl3lME8LnnnsOhBCsWrWKs38ffvghCgoKoFQqIZVKMX78eNTU1GjJSqa0yfnz51FeXo6YmBhIJBK8/vrrAPi/p5h53333HRYsWIDQ0FAEBgYiOzubt97nn3/+iZqaGrZWL3ONaP4tQ7l7oFKTwgeVmpQ+KS8vx7BhwzBhwgT09PSw80eNGoVhw4bxPhjU1dVh2LBh2Llz54A+g0ll55voDYtCufPo7wFcqxaiowdGuAdj9NjZWlLTM7lQ6/fXPLkVAoGATWmtrKyEr68vKisroVKpIJPJEBcXh40bNyIhIUFLah49ehSWlpY6paZAIGDTChnWrFkDCwsLiEQiKBQK5ObmYv/+/TAxMeFEbw5Uap45cwZRUVGIjo5GZGSk1oNBT08Pdu7cidDQUOjp6SEgIADbt29na2o6OzsPSGoC/0SaXmujIODqG50MlMGeO0b27uy5oy5R1etoymQyhIWFIT8/n62jqc7NkprqdTTlcjkUCgVmz57N1tEcyGfo2l71OpqMIDlz5gyA3ui78OSZMHXyhaGtGJaeofBJLeGkLDP/b+WthHCkC2xEbhCJRDAzM4OZmRlKSkrYz168eDEbXbpp0yY0NjYiLS0NVlZWMDExgbGxMaZNm8ampKtUKowfPx5hYWHw9fWFn58fqqurERQUBIVCwT7oDkZqAr1Rzsw4VlVVoampCTt27MD8+fNRV1en8zjcjvQXJS20FmFU2BT235rR7YQQhIeH46uvvmKl5vPPP8/7WbqkJnM+qaPrPNWMJDtz5gxcXV3h4uICsViMsrIytLW1aU0///zzdRqxgaOrhi8zBc/fBluRG6r/bhhUXl4OAwMD5Ofns8LLxsYGRkZGiI6OxpEjR9j9SU9Ph1gsRlJSErZu3Yra2lqEhYXBwsICQqEQy5Ytw+HDh/HOO+/gpZdegq2tLQQCAcrLy7F3716Ul5ezzc10jU13dzfef/99bNmyBTk5OZBKpQgICNBKhacMnL/++ovTT4Bh3759nFIhzHeEv7+/VmOmp59+Wuv7Y+PGjTA3N4e9vT0yMzOxfft2NDY2Yv78+RAKhey11N3djalTp0IgEGDMmDFoaGhATU0NlEolZDIZW37j4MGD7EulnTt3aqWfr1u3TqvcSmtrKyQSCSZOnIi6ujo0NTWhvLwcAQEByMrK4kT8MlIzNTUV2dnZqK+vx65du/D5558D0C01J0yYgMjISKxYsQKNjY2oqalBcHAwIiMjtUpMFBUVgRCCOXPmYNeuXaitrUVUVBQr66nUvPugUpPCB5WaFJ1UV1dj2LBhCAsL0/qSoZGaFArlahlsQ5mYlbp/ZvJ3p2u3+Fz4TFkKj8T58A6M5DxYvPTSSyCkt0lQS0sLDh06hFOnTgH4p+ZfTk4O9u7di507d2LmzJnsH8yaUlMz6mLv3r1shF1SUhLnXtnW1gZ9fX2OyNIlwjQ/a/r06SCE4IknnmCjKtQnpkaaphzYsWMHXF1d4ebmNmCpeebMGfZhaO3atWykqVKpxIQJExAXFzfgY3u1jU4GymDPnWuVqHcLA63JKJ1dBfcJ+bB2l7MvB7Zt26aV2vr5558jOzsbgYGBCAkJwfz583H69Glescs8+J48eRK5ublQKBQIDg5Gbm4ub+TOQKUm0NvUcOHChYiMjIRUKkV0dDQKCgruuM7PJ8+eR8iCHXCLz0VQfm2/UlPz2vj3v//Njmtf6efnzp1jI5wZrofUPHjwIIyNjWFoaIjVq1cPqUjagbyoGUmiMdpXjs7OTkRHR3MaawLA5MmT4erqCj8/P/Z7iSkdUlhYyAka2Lx5M/T19SEWizn36ZKSEpiamkIkEnHWHR0dDUNDQ94XL3ycPXsWSqXyhqQe340wDQbb29vZ73emwSDzb83yBMA/jfjUmwsGBARAX18fjz32GOecAIDZs2ezpTgOHDgAT09PWFtbc/6WOH36NORyOUJCQtjr6/vvv4e/vz9mzZrFuea6uroQGRnJOVd//fVXBAUFIS8vT+safOWVV0AIQUtLCzuPkZrFxcVa2wvolpqaUdrAP3+nNTc3s/N0XSPnzp1jmydSqXn3QaUmhQ8qNSm8VFVVYdiwYQgPD+ctzE5ralIolKtlsA1lovv4mXtCAUaS6N4oM5vRMHXyhSh4PCeFuLu7Gxs2bMDYsWMhkUg4UrG7uxs7duxAQkIC5HI5YmJisGrVKly4cEGn1NSsjxUeHo6lS5fit99+4+wnU1NTvQnPQKUm84e/runtt98GwJUDTE3NgIAA+Pn5DVhqAr2pbAUFBVAoFGyk6alTp5CWlsaJyhoog210MlAGe+5cq0S9W+hPFqtHbUaVXX3nesqN49Hq3bwlOTSlprJ4t9bP3/3kS7ZWJtMoKDAwUCtNeeXKlSCEsPWKgesjNYF/IsM3btzIu3+3otnNQEtq+E0rg9BahNxHFrI1LIF/hNfWrVvh6ekJW1tbVnitWrUKhBB88sknnH3bs2cPrK2tOVKzu7sb3t7eMDIyAiGEs42zZs3CiBEjEBISoiWiNL+TgN4o/8TERE6dfErf8JUemFG8DqoJyWyDQfWJaTDIfN+vXbuWd72azQWZyHe+5y71pmn5+fnw9PSEt7e31t8SpaWlEIvFcHd3Z6+vrKwseHt7w9fXl5335ptvshGcDExDq8OHD2vVfv3tt98QFBSEJUuWsMszUpPv5ROgW2pGRUVpLdve3g5CCKqrq9l56teIJuXl5VRq3qVQR0Dhg0pNihaVlZUYNmwYYmJicOXKFd5lli1bhmHDhmHHjh1aP2O6n19Ll0p6w6JQ7lwG21Amuo9ITb7pVgiXlJQUlJWVYffu3Xj++efZlKnk5GTeiPZr5eDBg0hLS0NtbS2am5uxadMmxMbGagmHa6GrqwuhoaHIy8u7Luu7Hgz23Fm+++it3uTbgsF0z44qu/rO9ZQbR9t778FW5Nav1BxIdPuRI0cglUoRHh6OTZs2oaGhAfn5+WzUmbo8u15Ss6urCwUFBSCEYNasWdi+fTv27duH2tpaFBQUcGoT3ywGer+JWH4Apk6+EFqLYObgjrRHV2kJLwsLCwgEAvj5+WH79u0YO3Ys7OzsMHfuXK26yy4uLhAKhSgpKUFTUxOWLFkCfX19uLi4aEnNrKwsODo6ghDtLuePPvoo0tLSsHHjRjQ1NaGhoQEPP/wwCOlt7EXpG12lBzyTCyG0FsFGMhYzFz+BN958E21tbXj77bc5LygZqVlVVcW7/nHjk+Ag9mZl6X0PDoeRuSXvyz91qZmUlASZTMb7grS+vh5isZhTguaFF15gmx8y8xYsWICAgADOOfP444/3+TKVyWphYKSmrmdFXVJz5syZvMsTQrBixQr237m5uSCEcJrkqe8nlZp3J9QRUPigUpPCoaKiAsOGDYNKpUJHR4fO5T7//HPce++98PPz49SVOXr0KP7v//4PU6dOvabtoDcsCuXOZbANZRJXvzyo5W+FcKmpqUFKSgoUCgWkUini4uKwevVq3u6m14P//e9/yMvLQ1RUFKRSKRQKBbKysq76nsn3UMI8NOhqGHIruBnNiO5G+pM3mlLzajrXU24c6t2NPbx8YDhS1CvY/m6uxkjNwLzNMHb0wgP6xrjvIT08oG8MYwcPreh2AHjyySfh6uoKQ0ND6Ovrw9aM8CLEAAAgAElEQVTWFnPnztVqFlJeXg5LS0u2hEVERAQyMjJw4MABLanxwgsvICMjAz4+PtDT00NoaChHbHZ3d6O5uRkZGRlQKBSQy+UYN24c5s2bh8bGxhs7iDwMJjJcPC4HQmsRLNyCeIXXf/7zHzg5OcHHxwcKhQKWlpYwNDTEnDlztPatoqICZmZm8PX1hUKhwIwZM+Dm5ga5XD4oqfnaa6/hkUceQWxsLNtMZtq0aWhqahpSKf5DFV2lByy9QmE+OgCRKw4iquyf8iZfffUVr9TUTD/v6u7G2n3He2s+eyjY9d4/3AD3C4SIWLYP1S3cDIOcnBwQQvDbb7+xkbaEEKxevZqz7vr6eowaNYojNf/44w/4+vrCzMwMBw8exPnz5yGTyfDII49wfreiogKEEDQ1NfHWtG1ra8Nnn33GLs9ITV301SiID82MFSo1KXxQR0Dhg0pNCgtTC3PEiBHYvn07du7cqTWpw6SZBwUFYcuWLXjsscdgamqKESNG4Ntvv72mbaE3LArlzmYwDWUGG51HhcvgudmRptfCjW5GdDfSnyzWlJpUFg8tTp48iZqaGhDS291YMq0UvlOXwz+jgpWalp6hMHbwhHPkDHhPXgyX6JkQjnSBpYcCY1e2cNbHpHYyzW7UIzVramrY5c6fP4/IyEhERERg06ZNOHDgAHbu3Inly5dr1Xgc6DqHEoOp4esWn9srkp39ByS8BpNa293dDYVCgYSEBK1le3p6MH78eN70c8rV09c90cpb+fcxPsDOO3GmHcXFxbxSU7NRUHXLx3BPKIDQWgS3+Fx2HUJrZ9x7/0NwjXuYc+588MEHIISwMpC5bsaMGYPk5GTOcV+8eDGMjIw46ecAkJeXB4FAgCeeeAK7du0CIQRvvPEGZ58ZUXjo0KEBjdGNlpo0/ZzCB3UEFD6o1KSwTJ8+XWcXcmZSp6enB1u2bIGnpycefPBBmJqaYvLkyfjqq6+ueVvoDYtCubMZTEMZGp1347nZkabXwo1uRnS3QmXx7QsjPJiU7olVr8DMRYKRJJqVmkJrZ1ZKM5P7hHwIrUUIz1/ProtpGsTXIX7VqlWQSCRsqjlTl68/CTKYdQ4lBhqpGbFsH0ydfGHlFTZg4fXOO+8MqgkK05BOc6xbW1tBCMGyZctuypjcLfT1MtUjcT4MLEfB0FYMA2sRhptYQWhiDg8PD3h4eLDH+IsvvoCenh5EIhHbXHDD1h0YFToZQmsRjOzdYWA1Ch6J83uvx/H5uO8hfdwvEMLAygl65rYYaWsHU1NTjB49mq1duX//fhBC4OjoCENDQ6SnpyMhIQHOzs649957YWlpqVXe4b333oO+vj48PT0RFBQEPz8/HD58mLPPP/30E+RyOZKSkvD7779rjclff/2FCxcusP++0VJzsNcI5e6AOgIKH1RqUoYk9IZFodwdDLShDBUuFE1uVDOiuxUqi29fNKVm1cEPtaSmtW+E1vEMzN0EobUI04r+SWEtKiqCTCbDuXPntJqFMN2ImQ7Fx48fZ4UaX4ro1axzKNFflkBwwVPwnbocdrI4CK1F8M+ogEfi/L/Tz2PhNWkRPJIeRUDEBKSnp2tJmwULFrDpybt370ZtbS2ioqIwbdo0EEJw/Phxdtkff/wR0dHRkEgkqKiowN69e1FRUQGJRILY2Fj89NNPt2CE7lz6EtpjFu+FcKQz7ntIDw8amELfchSsXAPY7uVMHeozZ87AysoK9vb22L17N9LS0mAv9oLJKG84KdNgK42DcKQzwhbW98rx5QdgZO+G/7vnXtx7/4O4X2AIIzNLODg4wMDAgG3S09XVhezsbJiamsLY2BhCoRBCoRAGBgawsLBAdXW1ltQEgJCQEFhYWEBPTw82NjZQqVRa+93a2oqAgABERkZi/fr1aGpqwrPPPovy8nJERkZy1nmjpSYwuGuEcndAHQGFDyo1KUMSesOiUCjqUOFCodwcqCwe+mh2Yza2cYYsKhEeXj44ePAgTp49ryU1R4VO0rpnhizYAaG1CGWr/+k4nJKS0m+zkKeeeopdvrS0FIQQSKVSzJgxA+vWreOk2l7NOocK/WUJMCnnpk6+cE8oQFRZCyJXHIRH4nxYuMphaCuGqYjAc+xMXLhwQUvadHZ2YuPGjYiNjYVMJkNycjKam5uxe/dutimMOj/++CPKysoQHR2NgIAAREdHo6ysDD/++ONNHpk7n75KD7jGzYXQWgT3CfnsvHHlL7KSX13aHT16FIQQbNmyBcA/slS5uAGGNqNhJ4tn1xE0r5aty2rpGQJDWzHMRnkgJSUFaWlpHInX2dmJ4OBgGBkZwcHBAWFhYcjPz9c6Z9TZvn07e72dOnVK53KfffYZiouLER0dDalUioiICKSnp6Ompgbnzp1jl7sZUnOw1wjlzoc6AgofVGpShiT0hkWhUPigwoVCGRqcOXMGtbW1bEok5cajqxuz0FqEkSQaQmsRZpVsQFd3N9wlIVyp+Xf3c02paSty43RQTkpKgkKh0NkopK2tDd9//z1nu77++mvU19ejsLAQoaGhIITg8ccfv6Z1DhUGmiXQ1zSu/MVBfWZubi4EAkG/TdoOHjx4w1JwOzo6UFVVhXHjxkEikSA0NPS6f8aNoD/RNlD6itQc4R4MI3t3RCzbx85jGhRmZ2eDEIL29nYAvaW64uLioFKp0NPTw8pSr5QiCK1FIDPK2XWMjs2C0FqEwLzNUBbvhrJ4N6KW7kF7ezu++eYbrfqzTHS2ekr43QLTqV2zORblzoc6AgofVGpShiT0hkWhUCgUytDl2LFjvCmOlOvD5cuXsXnzZkyfPh3h4eGQSqVwl4TAOSoDY5bs0Sk1fVJLsL71Y4wbNw7y6KQ+pWbZs/8CIYQjNefPn39NsuDKlSuYNWsWCCFsncxrXeetZCBZAv1NjPDS5MqVK1rzfvjhB/j6+sLY2Ljfa0uX1Kyvr7/m67K2thaEEDzxxBNobW3FK6/w78NQ43pJzb5KDxjaimHpGcqZxzQoXLNmjVYEITOWbW1trCy19AqFyShvRCzfz66DKWOgPhnbOHMimktLS9n1ZmVlISIi4pr3dSij6xpRKBSYMmXKLdgiyq2GOgIKH1RqUoYk9IZFoVAoFMrQ5UZKzY6Ojru+k/O3336LiIgIVFRUoL6+Hhu27oCTMrW3Y7lXKCKW/9OIpreG41gIrUXwSHq0N701IhpZWVk4efY8bERucIuaqhXdznRnVpeahw8fBiGEbUyjmQ566dIldHZ2AgAuXLjAHif1dTGdiT/77DOtdfIdV/V1DlXUswSiVw5OajLCS5Pa2lrMnj0bdXV1aG5uxvr16xEWFgZ3d3eIxeKrlpp9pfgOlIyMDEyaNOma1nEruF5Ss6/SA3xSk8kW4ZOaZ8+ehb+/P0pKSlB18EMEz9sKobUILtEzOeuwkzK1WVdBOrsK0tlVmLf2OU5E85dffsmuNysri7cu5p2ErmskICAA77777q3ePMotgDoCCh9UalKGJPSGRaFQKBTKtXPx4kVUVVUhLi4OMpkMkZGRKC4uxjfffMNZjk9wMWgKTCbySHPSfMD+8MMP8cgjjyAiIgIymQyxsbEoKiriPJgzAuaLL75AQUEBlEolCCH4+eefERAQgIULF/LuV1NTEwghaG1tvdYhGpL89ddf+Ouvv9h/M5FjPlOW9KatTn+MIzUdQybC2N4D5qMD4DVxEexcPNjjwScngd5j7unpibS0NE4ZgYqKChBCYGJiApVKhX379qGurg6LFi2CXC5nIzDr6+sxduxYrF69GjU1NXBycsL48eMhkUgwZcoUjsBk1jllyhRs3bpV5zpvB/qrtak56SqP8u677yI7OxsREREICAiAUqlEXl4ennvuuQG9MLiRUjMuLk7nOv7444+rXm9PTw86Ojqu+vf743pJTQDI3PTGgNLPZ216g/2dnJwcEELw22+/cdY1Z84cBAYG4sNTZ+ASnQmhtQhB+bWc9bpEzYTQWgT5wxv7PXeAu0Nq6rpG3n///Vu9aZRbBHUEFD6o1KQMSegNi0KhUCiUa+Py5ctsk5bFixdjz549WLduHeRyOUJCQvDFF1+wyw5Gap48eRI1NTUghKC8vBytra1obW3F66+/zv7OgQMHIJFIEBERgfXr16O5uRnbtm1DVlYWWlpa2OVUKhXi4+MRFhaG5cuXo7GxEU899RSuXLmCoqIiSKVS3rTlqVOnQqlUDvkIv+tBV1cXEsr3Q1m8m23uMzomiyM1R4VNQcCsNbDyVsLQVoz7H9KDnZ0dgL6lplgshp2dnZZAe/XVV2Fubg57e3tIpVLExsYiJycH9fX17JifOHECK1asQEJCAoKCghAYGIjExETU1NTw1vl79dVXMWfOHISFhelc5+3CQGttrm/9eNDr1rzeenp6sH37dmRlZSEqKgpSqRQxMTGYMmUKvLy80NbWhrq6OkRFRUFPTw+Ghoawt7fnvHA4duwY2tvbUVVVhdjYWNjb28PMzAxWVlaQy+UoLCzEl19+yXlhIRaLIRAI4OTkhJycHEyePBlyuRzTpk3DvHnzoFQqIZfLkZiYiK1bt2odQ2ZdX375JTZs2IC4uDgEBARwaoWeOnUKxcXFiIyMhFQqxdixY1FZWdlvnchff/0Vy5Ytg1KpRFBQEDIyMnD06FGdUvOTTz7pd5s/+eQTEEJQX1/PEdcOwUl/X3OzEFXWAldVb6OgER4hEFqLELawd/nq6moIBAJMmDABDQ0NSExMZF/m5Obmws/PD3v27MFoXzksvUK1zpXAvM0QWjvDxj8GEcv2aZ07HR0duHz5Mvvvu0FqUiiaUEdA4YNKTcqQhN6wKBQKhUK5NjZv3gxCCOrq6jjz+br0DkZq6prH8NNPP0Eul0OlUmlFLAHgRPCpVCoQQtDY2Ki1XFtbGwgh2LFjB2f+559/DkIIqqqq+tj72wvNjuYTq17BjOJ1UE1IRkBAAAw1au05KdO0pKa6ILEYHTCgaL2+jqMuGUoZWK3N9a0fo+sqyihoHpOuri6EhIRgxYoV2LFjB5qamlBZWQmxWAyhUIhJkyYhLi4ONTU1KCwshLW1NYyMjJCamsq+cDh58iQbre3m5gZXV1dMnDgRfn5+EIlECAsLQ3BwMA4dOoTW1laEh4djzJgxnJ9t2bIFq1atgouLC8aMGYOamho0NDQgLy8PhBDMmTOHc20zUjM1NRVTp07Fjh07sHfvXrz33nsAgPfeew+BgYGIi4tDbW0tmpubsW7dOgQFBSEpKQm///477/hcvnwZCQkJ8Pf3x/Lly7F3715UVlYiKCgIkyZN0pKaR44cgVQq7Xebu7u7ERYWhry8PDYyOnLFQZg4ekE40hmWHgpElbUgfGkjRrgH476H9KFnZgOvSYswPrMQYrEY+vr6SEpKQkJCAurq6rBnzx5kZ2fDz88Po0ePRkhICAghmL5wNe85455Q0FtGQhqGmpoa7Nu3D8888wyWL1+OkJAQTlQulZqUuxHqCCh8UKlJGZLQGxaFQqFQKNdGSkoKFAoFbxScZpfe6yk16+vrQQjBvn37+t1GlUoFpVLJW2uxp6cHCQkJmDBhAnp6etj5TCrz119/3e/6hzq6Opp7JheytTJnLn4CyofXQTq7CgGz1mhJTD6paeUm7Vdq9ldGgJGan332GebMmQOFQgGFQoH58+drpYvznT/q8959911kZGQgMDAQSqUSS5cuxfnz2qm1P//8M0pKStgIvMzMTBw/fpw3Au/HH3/EY489hri4OMjlcowZMwZpaWl45plnrvZwDBr1WpuaNUuvFr5ri69hytq1ayEQCODp6cmJbBw3bhzc3d1BCMHx48cBAIWFhVAoFJg9ezYUCgV77Vy4cAGxsbHIyMhAbGwssrOzAfRelxMmTAAhBKGhofjll1/Q3d2NuLg4BAYG4ttvv+VsS2lpqdY2M+dXZmYmp5QCAHR2drLRppr79tFHH0EikWDr1q2848O8rHn22Wc581999VX2HGYY7DY/+uijCA4ORvLql9SiJ3uvL6G1M5SLdiGqrAWK+dvxoNAMAjMbGNqMhoWzL5KSkuDp6YmUlBROin13dzeSkpLg7Nzb9Ecmk+H8+fM6z529ra+hoKCAbRAWFRWFmTNnoq6ujnOcqdSk3I1QR0Dhg0pNypCE3rAoFAqFQhkcmtF+pvZu8A2J4RUsTEOLpKQkqFSq6yo1V61aBUII/ve///W7zSqVCunp6Tp/zghSJrrrypUrCAkJueaagUMFXWnMll6hMB8dgMgVBxFV1oKZNa8jqqwFwfO3DUhqukn6H6P+yggwNTDDwsJQWVmJpqYmrF27FgEBAZg0aRJHRPclNadPnw6lUon169ejqakJpaWl8Pf3R35+Pmd7Ll26hPHjx8Pf3x+lpaXYu3cv1qxZw3Y6VpdVXV1dSEpKQnBwMKqrq7F//348//zzqKiowMMPP3wdjsyto69rq7u7GxcvXkR7ezuef/556OvrIyYmhrOMSqVCYmIiCCGorKzE77//DolEgkceeQR+fn4oKCjAN998w06LFi2Cr68vSkpKIJFI0NHRwZGaa9euBQB8+umnIIRg5cqVWtv1ww8/gBCCgoICdh4jNdXLUjC89dZbIIRg165daG9v15oSExORkZHBOz59vaxJSEjgnCeD3eaGhgYQQhA8d8PfkZPzYWgrZss++KWXIqqsBb5TV7BNfaLKWjCu/EW2xmlTU5PWZ1VWVoIQwkkfp1Aog4c6AgofVGpShiT0hkWhUCgUysDQFe2n3qW3uoWbCqspNc+ePatTajJp4AOVmkwk5UClJiPf6uvrtdZ34cIFyOVyFBcXA+it1UkIwcsvvzywwRnC9NVwxspb+bfU/KfLeWTpC3BUpAxIajLdz/ujv/Rzf39/rUY0dXV1IIRwug/3JTXlcrlWY6rHHnsMhBCcPn2anccI1l27dnGWZbqnq8uqkydPghByU6MybwR8ZQcK1j0PDy8fzjHZ2fgCJOHjYWrvCkNrEYxtnGFqZYuHhg9HXFwcZ50qlQozZswAIQR5eXms2HNzc4NAINA5eXl5gRCCc+fOcaTmnj17AACHDh1ia07yERoaiuTkZPbf6jU1NdmxYwdvlLD6FB8fzztGul7WHDx4EBYWFnB1dWXnMducmZkJQggbYcxE/gYFBcHd3R2RkZGQy+UYP348XFxc4JeUj6iyFthIxsJGMpZtEMSUfXBSpkI40hljluxFVFkLJla9wkrNtrY2rf1lxuLs2bN9ng8UCqVvqCOg8EGlJmVIQm9YFAqFQqEMDF3RfppdetUbTzBdeqdNmwaVSoXLly+DEILVq1drrZ/pNK4uWZi6nHwy7PnnnwchBPv37+9329Wlpq6uzcuXL4dMJkN7eztmzJiB8PDw266xDB9M3T6+ySNx/t/p57HwmrQIHkmPwkUeCytvZb9Sc33rxwPugN2f1JwxY4bWfEaSNTQ0sPP6kpqMkFbnX//6FwgheOutt9h5ycnJCAkJwZ9//qm1PBN5yMBI+NzcXN5GUkMdXS8iospaIMuphtBahFklG9D51194uKIOQmsRrLyV8Jq4EP4zH4d0dhWco2bi3geGw00SwnlhoSk1mQY4M2bMgFgsxtSpU7F9+3at6T//+Q/a2trQ2dnJkZrMucEIwkcffZRtPsRw7Ngx6OvrIzAwkJ3HiDy+zvbPPPMMCCHYunUr2traeKfj778/qJc1VyM1R4wYAUdHR9TX1+Opp55CXFwchEIhnL0CELFsHwxtxXBPmM92Jzdz9kdUWQvMnAmsfSPYbVp38COd3ej7GwsKhTJwqCOg8EGlJmVIQm9YFAqFQqH0zbFjx+Dh5QOf1BJeOcJ06XVPKGDnnTx7Hh988AHbKEi9LltMTAySk5M5acUdHR1sB3V18fXZZ5+BEIKdO3dqPbAzjYLi4uLYmp3qaDYK6k9qMlKGERHV1dXXZwBvMROrXtEpNSNXHIRH4nxYuMphaCuGqYjAc+xMVO59u0+pyTSn4RvLgUYFMhBCsHTpUq35/dXP1JxXU1OjtQ5Gpr7wwgvsPLlcjilTpvCO1SOPPKJVU7O2thYSiQQSiQSpqal4/PHH8fbbb3Pqrw5V+uqezkhNn9QSzNr0BuyDEmFoK0Z4STNnOa+Ji3DP/Q/C2N6d88IiLi6Ok35+/vx5SCQSzJ49GxKJBHl5ef1un0Qigb+/P+e6Z2R2Wlqalrw7dOgQBAIBJ2q0L5HHRN/2FWk72Jc1Bw8ehJGREUdqMtscHx+vJTW9vLxgYWHBKYNw4cIFODk5QU9PH75pyyG0FiEobzOiylrgP/NxNuVcaC2CWDWHc1+lUpNCufFQR0Dhg0pNypCE3rAolDufviKEBkJfDxDXi4FGO1Eot4Jjx47BRuSmU2qOWbIXhjajcd9wfTxkaA6BmQ0s7ZxgY2ODwMBAfPHFF6zU/PXXXzFhwgQYGBhgxIgRCAkJwdKlS5GQkICMjAzOtfriiy8iLS0NQqEQxsbGcHFxgbW1NaeW3P79+2Fubg4zMzNs2LABzc3N2L59O3JyctDS0sJeWyqVipUkfBNzfScnJ8PW1hZGRkbw8/NDWFgYJk6ceFt3QB9X/qJOscU3jSt/EcDgm9MMNCpQs1M3I5I1GazUHGidVrlcjtTUVN594JOaQG/E5t69e7FkyRJERkayNRL5Gk8NFfoqO6ApNaPKWuAQnAwjW1eEL23kLDeSROOe+x/Eg0IzjFm8hz3+KSkpbFMa5vqZP38+/P39MWnSJPj7++Ptt9/mbBMT7cr8187ODpaWlpxjxDTdkcvl+OqrrzhjnJOTA4FAgCVLlrDz+hJ5V65cQVRUFCIiIvDjjz9q/fzEmXYoi3f3+bLGI/ERjlQsKyuDQCDgSE1mm52cnODp6cmRmtbW1nBzc8OBAwc4nz1v3jwIBAI4eRCYOHqxdW3HLG2EcKQLRrgHQ2gtgiynWkuqUqlJodxYqCOg8EGlJmVIQm9YFMqdD5WaFMq1cezYMRjbOOuUmu4T8mFgOQpG9m4wsHKCwNQaBuY2cHd3x+HDhwH0dtANDw9HQkICFixYgFmzZsHT0xNCoRAmJibYtGkTjh49yl6rTOfhSZMmYenSpZDL5dDT08M999zDkQlAb9MOBwcHKJVKyGQyxMbGYtGiRfjyyy85UjMjIwOtra0IDw9HUlIS27CmtbWVlSzR0dEQCASQSqVoampCQ0MDqqqqdEb23Q70FanJN02seuWqPmegUYHq0X7AzZeag0k/56OrqwvFxcU3/HvhWumr7ACf1CTTVvamn3uFwSulCJ4phbCTxUE40hn3PjAcw02sYD46ABNzl7ONtQQCAWJjY/Hiiy/i0KFDOHHiBOLj4+Hj4wNnZ2eMGjUKiYmJmD59OkJCQhAUFIT09HTMnj0bAL/UBIAjR45AKpUiPDwcmzZtQkNDA/Lz8yEWi2Fubs4pOdGfyHvvvfcQHBwMhUKBNWvWoLGxEfX19VizZg3cJCFwi8/V+bLGXCyD0NoZTspUeE1aBNeYmbCwcYShoZHWfejIkSNwdHSEgYEBKioq0NDQgICAAAgEAmRmZmoJ8H379kEgEMDe3h7hyTM5n23tGwGhtQhGtq6IWLaPjYwGqNSkUG4G1BFQ+KBSkzIkoTcsCuXOp7u7G52dnVcdUXOtvz8QOjs7eR+wKZShwLFjx2CoJj80J0uvUIxwD+KN9mPIysriFU8fffSRVurw6dOnIZFIMGXKFFy5coWd/+STT8LY2Bg+Pj747rvvOOtmUts14XthoOslwqVLlyASiTBy5EgcOnRo4AM0xOlPbmlO6w5+NOjP6C8qMDBvc2/UW9KjbMQbw82Wmhs3bhxwo6BLly7hr7/+0lrv9u3bQQjBa6+9NrABugX0J7M1pWZUWQt8UkswwkMBQ1sxTEb5wDFkEuxk4zHs/+6BsYMH3Cfkw9pdDplMhujoaLi7u8PAwADe3t5sqQlfX19UV1fDw8MDDz30EO677z488MADMDc3R2hoKEpKSvDOO++AEAJDQ0MYGRn1Riw6OXGO1YYNG2BhYQFCCGQyGRISErB48WL4+flxjudARN7p06dRWlqKcePGQSqVQqlUYvLkyfCOn43ggm06xyhsYT1GhU6GsaMXjGxdYe0bgdExs/CAvjFG2I7SijpevHgxLCwsIJf3jpFYLIadnR1++eUXrW06fPgwjIyM4ODggKamJk5ktEf8wzC2cUbQ2Em8jYpuZ6l5o14UX+sLbApFHeoIKHxQqUkZktAbFoVCuVUwspRyfXj99dd5pQbl2uGL1IxYtg9u8bmwcAvEA3pGuO8hPVh6hiAwt0Yr2o8QAj8/P0gkEo6kZGSUSCRCUVERO3/r1q2wsbGBr68vmyr86quvora2FiKRCF5eXti5cye7/PWSmp2dnTA1NYWlpSW+/vrrqx2uIUd/wlFz0pVe3hf9idOIZftgbO8B89EB8Jq4CNmlm9m/vW621Lx48SLi4uLg7++P0tJSNDY2Ys2aNVAoFJgyZQpHar7++usIDw9HeXk5nnvuOezfvx9VVVUIDAxEbGwsLl26NOixulkMtuyArskntYSTBq3+wkJTojH1aDMyMjBnzhzU19dj586dbK3JTz/9lP3d1tZWJCUlITw8nBM1/f333wPgl1/XW1xdzRhJ/q55SWaUa0UdMxG8muPx4Ycfan12XV3dkBfjNwIqNSm3A9QRUPigUpMyJKE3LArlzkfzD131f7/88suYMmUK5HI5IiMjUVlZiY6ODs7v8/0BPthICebB5vz58ygvL0dMTAwkEglef/11ALrFi1gsRnh4OBYsWIDQ0FAEBgYiOzsbJ06c0PrcP//8EwsXLoRQKIRYLEZycjKamppuSvr8UIAZ46FIX9LtZqFLHA0EzZqakSsOwsY/BkJr0d/pqS6494GHcO8Dw3Hfg3qw8lZi+qIqXLx4kf1sP7DojtAAACAASURBVD8/xMbGctbLyChPT082HbWrq4tNa83IyEBWVhZsbW0hlUqRlpYGd3d3eHl5YdWqVex6rlVqnjlzBi+99BJKSkrg5OQEkUgEQgiSk5NRVlaG1157DV1dXVc1dkOFvlLD1SdNSTNQBpLiHjBrDay8lTC0FcPYxpk9ZjdbagLAjz/+iKVLlyIsLAxBQUHIzMzE+++/j8LCQk5n7TNnzqCiogIpKSkICQlBYGAgJkyYgNWrV/PWaBxKDLbswEClpvoLC11Ss7S0lLMtZ86cgVQq5dTCBPq+dm+G1LyaMVI8sh1CaxFE4dM4LwG++eYbyOVy3vHIz8/nZHtcuHAB0dHRUCgU+P3336/LvtwuUKlJuR2gjoDCB5WalCEJvWFRKHc+uqRmRkYGoqKisGXLFjQ2NmLBggUghODxxx/n/P71lJqpqanIzs5GfX09du3ahc8//xyAbvFib28PMzMzrFixAo2NjaipqYGnpydcXV1x+fJlzvJFRUVwdXWFubk5FixYgNraWkRFRSE9PZ1KTR2oRw3eSO4Eqane/ZyRHKLwdESV9TYSMRUReKYsxEOG5nhQaAp3Lx+Eh4fjq6++YqWm5hioS03m/D9w4ACsra0xcuRInDhxgr2eDh8+DH9/f16pOXv2bJ3jGxsb26/UZK5npVKJqqoq/Pzzzzhw4ACbrkoIwdSpU7VeeNxOdHV3Y31r32JTvW7fYLnaZkRDjZSUFCQlJd3qzbguDLbswEClpnp5Al1S85tvvtHanpSUFKSnp3Pm3WqpebVjZCeL6621OSYNMxZVYf369VAqlZg2bRrveKSnp2PWrFmor6/Htm3bEBcXB0IIpzbo3QKVmpTbAeoIKHxQqUkZktAbFoVy56NLakZEROC3337jLDt37lxIpVL88ccf7LzrKTWLi4vR09Oj9Tu6pKaZmRkkEglnflpaGgQCAZqbm9l57777LgghWLBgATo6OtiIkHPnziE4OPi2l5o9PT3YvXs3pkyZgpCQEAQHByM+Ph5LlizBr7/+CpVKpdXNWj1yizlebW1teOaZZ5CYmAipVIq1a9eyn/HJJ59g3rx5UCqVkMvlSExMxNatW7VKBDDH9/Tp09i6dSvi4uIgk8kwfvx4NDQ08G5/fHw8bGxsIJfLERERgZUrV+LChQvXJBoHy7VKTUIIInMq1B7oRQgteo6VmmYuEkSVtcBJmQYzOxc8++yz7GcORmrm5+fDwcEB3t7eePHFF9HV1YXOzk709PRg7ty5bPr5s88+y66nsLAQCoVCa7s7OjogkUi0rq24uLgBN+bq6elBdXX1HfOwPNiO5gPlZjUjul7wvdBgamqq3xduZwZbdmCgUlP9XNElNfkim7OyshAXF6c171ZKzasdI2Xx7t5amw6eMLV3w/Tp03HkyBGd43H+fG/X9IiICLakxr/+9a/rsg8D5cyZM6itreXN9LiZMMf16NGjaGhoQGJiItvgbcuWLVr1y7/++msUFxcjMjISMpkMcXFxWLdunVbph77OjRdeeAEZGRkIDg5GYGAg0tLSeJf76quvUFxcjNjYWMhkMkRERCAjI0Orcz3lzoc6AgofVGpShiT0hkWh3PnokppPPvmk1rKMiPnyyy/ZeddTaup6mNAlNUeOHKn1wLdw4UIIBAJUV1ez81atWgVCCD755BOtdZeXl9/2UpOpPZafn4+GhgY0Nzdj06ZNSE9Px4kTJ/D6669j1qxZIIRwarOdPHkSwD/HKzU1FQkJCdi2bRuam5vZztxMp90xY8agpqYGDQ0NyMvLAyEEc+bM4TxkMcc3IyMD6enp2LFjB3bt2oXU1FQQQvDqq69ytv3NN9+Eubk5zM3NUVtbi127diEnJ4eNoO1PNP7555+8jUoGS1+fpS7xT549j6qDH3KkV8G65+Hi5sVGalq4BcLYwYN9wLfyHsNKTc/kBRBai7ChdgcIISgoKBiU1GQecJlGQerRkatWreJtFFRTUwNCCD7+mJs6zRwrzWtr4sSJmDhxotY4XLlyhVd2vfzyyyCEcOp4UrjcjGZE15O5c+eiuLgYzz33HBoaGlBaWgqJRILIyEj8/PPPt3TbricDLTswa9MbOn/mm7aMlZqzNr3BieZlrj1NiccHn8C81VITGPgYXU3U8VAqizJUIhmZ45qRkYGEhATU1dVhz549yM7OBiEEO3bsYJc9ceIEFAoFAgMD8cQTT2DPnj1YvHgxCCGYNGkS57tL1/4xfwPl5+ejvr4eDQ0NyM/PByHcBnXnz59HZGQkIiIisGnTJhw4cAA7d+7E8uXLb9rLR8rQgToCCh9UalKGJPSGRaHcOVy+fBmlj6+D/5g4WDj7wsh2NKzcpAhWTYGrhydHao4ePRpRUVFs1ERsbCzy8vKwfv16EEJw/PhxdHZ24qmnnkJgYCD09PTg4+ODhIQElJaWoqmpiX3Yamtrw+LFixEfHw+5XA6RSAQzMzPs27eP3TbmwWbJkiW8DzhM/Uz1hzuVSgUXFxeteUy9QSsrKzYiMSwsDIQQ/Pvf/9b6o/6xxx6DQCDAunXrBlRDFOjtFDt//nwoFAooFArk5ubi1KlTtyyNOjU1FcnJyX0u09fDI/MQNX78eK20/e7ubsTFxUEqlWLp0qVs5GVkZCQUCgU8Pf85d37//Xc4OTnBzMyMlZ1MFGlKSgr09PRw3333wdfXF0uWLMHPP/+McePGwcTEBDY2NggKCoKNjQ3Mzc1hZGQEExMTzJo1i90WZnzPnj2LzMxM2NnZwcDAAF5eXuzxVo8cfeutt0AIQWhoKNauXYv4+HjIZDLIZDKMGDEClZWV7LKM3HNzc0NsbCzc3Nxgbm4OKysrzJ49G13d3VoP975py2DtGwF9S0fce/9DMHbwgE9qyd9S05Nd7kEDEzxkZAG3+FzYB07AQ0YWMDAyhaGhIfbu3QtLS0vo6+vDxMQEeXl5bCOQvXv3wtTUFAKBACNHjsT69euRkJCAsLAwbN68GYQQSCQSODg4oLq6Gj4+PhAIBEhMTOREy0ZFRUFfXx/m5ubIyclBQ0MDCgsLMWHCBISHhyMrKwtHjhzBtGnTIJfL4eTkBGtra6xduxYikQhTp07Fr7/+yj5Al5SUYMeOHThw4ABqamqgVCqhUCiGdEfhW83NaEZ0Pdm9ezdSU1MRFhaGgIAAxMTEYPny5Th79uwt3a7rzUDLDnT+9ZdOsaneGIdZnkFXYxw++L4/+iodcbOk5kDG6GqjjqnU1IY5rikpKZy/P7q7u5GUlISYmBh23qxZs+Dv748PPviAs46tW7dq1dHl2z/mb6K6ujqt7Vi1ahUkEgl77r755psghODQoUPXbV8pty/UEVD4oFKTMiShNywK5c6gq7sby59+BSajfCCKmAbP5AXwmrQITspU6Jnb4b7h+pi55Al0dXfjueeeg0AgQHBwMCsu6urqkJ+fj6KiIvYhauXKlSCEYOLEiRg1ahQqKyuxfv16JCcno6GhgV2upKQE2dnZ2LJlC5qbm5GWlgYjIyN4enqy6WXMg42uBxxdUlNzHhORKBAIkJqaykYkTp06tV+pGRcXN6AaomfPnsWYMWMgk8mwZs0a7N27F6WlpVAqlZgwYcItkZrZ2dkICQnB8ePHdS4zEKlZX1+v9bNPP/0Uvr6+cHd3ByEEixcvxp49e7Bu3ToQQqCvr48ZM2awy48bNw4CgYBNR1OPInV0dMTw4cOxevVqpKeno6WlBfb29hwJHR8fj4SEBFhbW+OBBx6AjY0Nzp07B6D3oX/MmDHw9/eHpaUl5HI5MjMzsW3bNkRHR0NPTw/p6elsamdVVRV8fX1haGjIps02NTVh1qxZMDQ0hK+vLxsdTAhBdHQ09PX14ePjA29vbyQlJcHZ2RkKhQLrNCLtROHT2EZAovCpGG5sCbPREgitRTB28OSknxvZe+BBQ3OYOvniQaEp7n1wOPRNreDv74/4+HjY29vD1tYWHh4ekMvlGD9+PF588UUQQmBnZwc7Ozt2/CMjI0EIwU8//YTW1lbIZDLo6enB398fo0ePhkgkQmVlpVa07MqVK+Ho6Mi+gCgpKcEvv/wClUoFlUoFiUSC6Oho1NbW4qmnnoKvry8sLS3ZY3Ps2DGcP38eVVVVSE1NZcsQqFQqrFix4o7qhn6juNHNiChXT39lB/qS0pqNcRgp3VdjHD74pGZBQQFCQkJ4y7LcLKnJwIyRqmJw9WH7ijq+Gql58eJFVFVVcV6wFRcXa9UpHUyDLCZqXXO6Fd/nzHFtamrS+hlzb798+TJ+++03NltCkytXriA4OJgTcc93bhQVFUEmk+HcuXNob2/nTEzZHqaUz/Hjx0EIwbJly7RS2yl3H9QRUPigUpMyJKE3LArlzqC65WNELD+AiOUHtB44XKJn4p77H4TTmKlY3/oxCgoKIBAIeAWX+kOUUqlEXl4e74MVIw9fe+01TvoT0Bu54ufnh5iYGKSkpAC4flKTWZdAIOCkQzHp57t379b6o37u3LkQCAQICAgYUA1RJppU875YX19/0x6CNFOgoxfUwsVXDg8vH8TExGDhwoVobGxku2sDA5Oa//nPf7R+dujQIdjZ2cHR0VErmuP48ePQ19eHo6MjO6+4uBgCgQAVFRUA/okiPX/+PEaOHAkLCwt22e3bt0MgEMDR0VHr4XPLli146KGHYGZmxqbAZWVlwdvbG46OjsjLy+Okvb/xxhtwdnaGSCRCS0sLgN406oCAAAiFQk4dwLy8PCgUCsTExCA7OxtAr9R0c3ODWCxGaGgofvnlFwC9UtbDywcBWVVakVnuE/IRVdYCWU41hNYi+KSWwDliOoabWEF/hAMrOZiamiGPPg1DWzHMRwfAhkSzETIZGRkYM2YM/vjjDzz33HMghCAoKIhtqlFbW4uenh5MmjQJvr6+IISwUaaajYKYn/GVBrh8+TKUSiUyMjLYed3d3Rg3bhwUCgWnW3VPTw8eeeSRAZUAoAyMG92MiHLj6K98gHpjHO/JizEhq6jPxjh88ElN5qVQeXk5WltbcejQIXZdN1tqMlzPqOPBSs3Lly8jJSVF6wWbXC5HSEgIvvjiC3bZwUjNkydPsqUCmLFubW3F66+/PvCBuUo0v8+DZ5bCRuSGva2vaS3L3O/Pnj2LTz75hH1Zx8fkyZMRGBjI/pvv3GDGsq/pqaeeYpcvLS0FIQRSqRQzZszAunXr8NFHt7ZUBuXWQB0BhQ8qNSlDEnrDolBuf/geQCJXHMCYJXugLN4N36krcM/9D2KkXxSiylqQM28BBAIBioqKtJoZqD9ExcXFYezYsdiyZYvWg9Xp06fZhwN1Pv/8cwQEBMDHxweLFi1iIw5utNR85513QEhvh1U/Pz/2j/pz586xKbuFhYVan6tZQ7S7uxsKhYK3+29nZycUCsVVS82BdDzlS4FmpvCSZvhnrML4mY9i8uTJIISw3bWZcelPamp+NiG9Xa2NjY0xevRoraZAAGBlZQUjIyO0t7cD6JWRhoaGiIiIQE9PDxtFumrVKlhZWcHFxYX93ZycHAgEAkilUvj6+uKHH35go0Q+/fRTCAQCGBsbo6ioCEDvQ/+oUaPg4+ODw4cPc6JKvvvuO/j5+cHW1pZtkOTr6wtnZ2f4+fkhMzMT7e3t+OmnnyCTyZCbm8vWCezo6AAhhO24q/6Q+Omnn8JG5AaviQvZsXYIToKhzWiEFu2Esng3/GdUwMByFDyTCxGQVQUDKyeYOvn+HckZD2NHb+hZ2MPE0QuGNqMRkFWFUbJY9rNfffVVEEKQlpaGqqoqODg4wNPTExkZGZyH8tWrV8PPz4+tN/roo49i9uzZsLW1hVQqRVpaGkdqvv3221rHa968eQgPD2f//d///heEEFZCq/PRRx9RqXkDuFHNiCg3jv4aPak3xjG0FcPBP7LPxjh88EnNjo4OPPbYY4iMjIREIuFIqVslNYFbF3XMlN3ge8HGlBBhGIzU1DXvRqLr+1y98VR1C/clh/r59PHHH4MQgqqqKt71D0RqJiUlQaFQoK2tTefElENh+Prrr1FfX4/CwkKEhobyZrRQ7nyoI6DwQaUmZUhCb1gUyu0L8/ZfPVXMe/JiWHqGQjjSBUJrEYTWIuiZ2eCe+x+EpWcoospa8HBFHUxMTODk5ASFQoGHH34YdXV1+P777zkPUW+++SZCQ0Ph5OQEQ0NDzJo1Cy0tLWwNqPz8fPj7+2PBggVITk6Gs7MzDAwMYGJiAoFAAE9PTxBC8MMPP9xwqQkACxYsgKurK8zNzVFYWIja2lpERUWx6dJ80Q7M/jJp3b/88gsrk/iYMmXKDZWag3mQXLVqFQQCAfuQt2LFigFLTebcMbZxhp10HO594CFY2TtrSZdz587BxsYGFhYW+O9//wsAKFtdDWNzKxhaOSIo5wk2itTQyBjDhw/HiBEj2ChSplO9QCCAUCjkRIe4urpCIBDAxMQEs2fPBtD70C8SiXRGlJiamkIoFCInJwcvvvgi3N3d4eXlBQcHB+jp6cHX15ddLxMdSgjBuXPnQAhBZmYmCCHYs2cPu49nzpyBsY0z3OJz2fEd4R7MXj/q19BwEyt2nmvcXLjF58LCVY779Qxx/3AD2MniEJhb0xvdGZWE2NhY9nMaGhowfvx4Nl1+8uTJ7MsB5qGceaA9deoUKisrERkZiVGjRrHXX2BgIAwMDODg4AAjIyMsXrxYq6kLc401Nzdj8uTJcHV1hYGBAcaPH69VL/HixYsgpLfW7YYNG6BSqSCTyaBSqbBhwwbepkEUyp3IuPLBpVz31RznevHdd9/dsrIPtyrqOCUlBQqFgvcFG9NIh3nBNtSlpq7vc3WpqSmG1aVmX+nnHR0dUCgUbDaMrv2bP38+CCH49ddfr2ofrly5wjYhpDWV7y6oI6DwQaUmZUhCb1gUyu2Hrrf/nsmFEFqLYCMZC+/JiyHJrIR0dhXcJ8zDPfc/iBEeIYgqa0FEwUYQQvDEE09gy5YtyMnJgVQqRUBAACtEGPl18eJFlJaWYuTIkVAqlWy026+//or29nYsWrQIJiYmEAqFkMlkWL9+PRYuXAixWMx2zz5z5gy7Xl3iTVdToMFIzc7OThQVFUEoFGL06NFITk5Gc3MzKioqIBAIsHHjRq3P1ZR9jNRcsGAB79jfSKnZV8qfsni31ry1T9ZCIBBgypQpAP6pxXX+vHY0GPPZbe+9xzl3hNYiOIZOxn0P6eN+gRAhC57hRI6sXLkSNjY2cHJywkcff4zqlo/hFp8L/REO0B/hiFGhkxFV1gL5wzUQmI6EubU9jI2N2SjSadOmQSgUwsTEBBKJhI0Meffdd5GamgqxWAwHBwdWzGZlZUEsFoOQ3npjmhElhYWFEIvFePXVV7F8+XK2/mRmZibEYjG2b9/OLrN//3729zo7O9koH82HvjNnzsDQWsSRmhZugTCyd4d0dpXOKWTBM+zyTPq5+vGZmDad91zp60FcM+qLmWdrawt/f38UFRWhvr4e2dnZsLKygo+PD5RKJUd8LF++HHZ2diCEYObMmVi6dCns7e3h7u6O6OhoTgr6pUuX4OfnBz8/PxBCUFJSgn379qGyshISiQSzZ8/mpLdfj6Yfg4kMvVWNPQbyAoJyZ9FfpKbm1FdznOsF0xjvVnKjo441U7NN7d3gGxLDu/41a9aAEMK+YLsRUvN63XP6+j73SS3B/QIhjOzctFL4Nb8DMjMz4e/vD1dXV859c9u2bSCEYMuWLX1u++HDh9l7ezePgL506RIrkC9cuMC7DNM9/bPPPrumMaHcXlBHQOGDSk3KkITesCiU2w9db/8tvUJhPjoAkSsOcuYHz98GobUIo8Km6IwwOXv2LJRKJa+E2bdvHwgh+OCDD9gGQcxDBNMtk2kaow6Tfq4uaJ544gkQQnDhwgWt5aOjo7U+ny9dr6+IRL4/6nNzcwdUQxToO/38zz//vKHp533VdDNx9IKdLA5u8bnwmbIUHonz4eDam1a/adMmAMBLL70EQgiKiorQ0tKCF154AadOneJ89qPVXDnKnBfGjl6494HhMHH0gqtqLmYsWoP8/HwQ0luH0s/PDxW7/4Oosha4xedCaC2ClfcYGNm6YszSRrhEZ0JoLYJtgAq2Ije25mpkZCRcXFxgbGwMc3Nz1NbWYvfu3cjJyWFr0bm4uHCkJlNTkq8D69GjR0EIQUNDA2JjY1FWVgaJRILc3FyEh4fjySefxPTp0zkRkgx9SU3NSE17+XgIrUVQLto1IMGhKTXXt37Me+4ynzdYqenm5obPP/9ca7mnnnoKhBAsXLiQ/RlTMzctLQ1dXV1s+vm8efPg7++PkpISdtmPPvoITk5OsLKywurVqznbsnPnTq1rm0pNyp1KfzU1Nae+muNcL4aC1LxR6Ho5a2grZrNKNFOzNaXm2bNndd5L29rabqnU7Ot84pOazPmk+R1w4sQJKBQK6OnpITo6Gnv37mXrfk+c+P/snXtcVHX+/7+rqTBcBpDrMIDAcL9zZoCBGS5yE+QiIiAgKoqKruItDU1UNDUvmFpeU1cyVFQ0Tdvcatu2dtMuu22tbrXbtrbptv22bDM3LfH5+4POcYYZUNN2rc7r8TiPhx7OfM7nXOZz5vM87/f7Vc6lS5du2Pfly5cjCAKVlZVs27aNw4cPs2PHDhobG9Hr9dK+2trayM/PZ9WqVezdu5dDhw6xbNkydDodlZWVVoGnrB+uZEYgy5pkqCnrrpQ8YMmS9f1Sb2//vWIyvoGa182CspufxN9YZgY1hy21dNy8du0aw4cPx2g0Al1wTwSP27ZtQxAEzp49K9XgE01MXnrpJQRB4IknnjDv57vvkpSUZAFoDh06ZBVYPfnkkwiCpQmPNTDUU0Til19+afGj/h//+AdxcXE4OztbnaRYgxfz589HEO68UZC4r1dffZX29naGDx9OUlISeXl5bNmyhbLVT0vXzThrJ0HZY/GIMODsF4mtiye2zp7Yu/uh9A5mYGAcXuGJhIaGSi7lL7/8MtXV1Xh4eGBnZ4darZYme6tXr8bJ2QV7j0G4BMQQmFFNxrx90n0RVjAFOzcfXAJju2rGqUPIzitgwYIFxMXFUV49RuqbCDUjh8/6xkxnBgMD4/CMTiMgvRJHlYaTb72HIAiMHj0arVaLr68v3t7e6PV6srKyWLp0KefPnyc+Pt4Caubk5KDX6yktLeWLL74wO4dXrlxBr9czbNgw6RrNnDkTrVbLqFGjGD58ODqdzgyaiWl3vUFNtSbcDGpqxy7vOjdpIy1eEuQsOcbg+w+QtfCwVagppmTeSajZ07o///nPCILA8OHDpb8VFBSgUCh48sknga7vcn5+PkajkVGjRpGcnMzly5e5du0as2fPxtXVFS8vL4vU9MuXL5OcnGxWw06GmrJ+qLqT5jh3k76Nk/jJkyepra0lOTmZjIwMFixYYDUD4HbU08tZjwgDTn4R0vhqmppdX1+PIAiS4d+lS5cQBMHihQxAR0eHxdgh1uXsbTzp7OzkypUrtw3weov8ja1qwsErkIS6NRaRv9bG+7/+9a94enri7+9PYmIiBQUFtLS0mBkFQu/j5TPPPMPkyZNJT08nMTGRvLw86uvraWtrkyI133nnHRYvXkxJSQkGgwGDwUBpaSkbN260+iJa1g9bMiOQZU0y1JR1V0oesGTJ+n6pt7f/kcNnfpN+nkd0RSORpbPxjs/GKybDDGqmDxtNdXU1jzzyCB0dHbS3t/PTn/7UDFZ+/vnnxMXFUVBQQHh4OImJiWzbto38/HwSEhJ4882uicbFixfJzc0lLS2NjRs3cujQIVpaWiSA0v3H+aVLl8jOzsZoNLJp0yYOHjzI4sWLyc7OZtiwYTcFNbtHJJ44cYK//OUvbN26lZKSEvz8/Jg3bx7r168nPT2diIgIQkNDbxpqnjt3joyMDJKSklizZg0HDx6kubmZjIwMhg0bRmFh4be6duK+amtrKSkpYceOHezfv1+qExYzYvb1SU/l/biHJxOSP5HoikaiRtyLWpePo0pDUPbYLvA2qgswtbS04O/vj4+PD87OzkRGRjJp0iSeffZZAF588UV0Oh2BkVo8IlJwUGnob6ekv70T/e2c8EksJHPBQamOpH9qBWpdPn4h0Tg5OeHg4EBAeDyBGVWkzX1c6mPmgg7usXXgJ3360s9OibeQK0WRxiRnExkZSVBQECNGjMDV1ZUBAwYQHh5OR0cHu3btYsqUKdjb2xMUFERlZSWCIEjQ+Pjx4yQkJJCdnc369evp6OjgscceY9myZajVajQaDQkJCXzxxRd8/PHHFBUVERgYKE385s+fzyOPPEJNTY1Ur7M3qBkZHWsGNXOWHEOTNRpHlQbPqLRvImTvJ2JYA/7GEYTHCCz62TNSymRAUh7hulQz0PHfgJqiQVZdXZ30t4SEBBQKBWfPnpXWPf/88+h0OsLCwvD19WX16tXU19dTU1ODvb09Go3G6j1bW1uLwWDg2rVrgAw1Zd0ZfRvQ9txzz1FdXW32YsQaaLt69SptbW1UVlaSnJyMwWBg/PjxVn/nivfimTNnmDx5MgER8Tj5ReCnLyb13tYen7V32hwHLNOwy1t+QcvRN24LnlpzEi8rKyM8PLxHJ/ExY8aQkZEhjbvNzc1otVoaGhruxGEClgDZ9PdJWMGUrpdlJTPMAPLvf/97aQw31ZAhQxgxYoQZhLx8+bJ03KZjx5kzZxAEgd27d9+xY+lJQ5c9ZXZcN1puVKP1VsZNWbLuhGRGIMuaZKgp666UPGDJkvX9Um9v/7MXHyVy+Ezcw/QofUIZqBEIyhrD4Pn7zX5ct+4/wqxZs8jLy0Ov15ORkcHo0aPp6OiQJgZfffUVY8aMwd3dHZVKRWxsLHl5ecydO1dK/RL13nvv0dDQQEZGBikpKYwdO5YXXnjBKoyBLof0SZMmkZycTGpqKjNnzuTs2bNW21d2IQAAIABJREFUIZC1dZ2dnWzYsIH8/HzJLVaMLhk+fDgODg4EBweTkZHBtGnTePzxx3sEIz3Bi/fff58ZM2ZgNBoxGo1MnTqVv/zlL1RXVzNixIhvde3EfZWVlUlmS+LxlJaW4hmqvQ4MmzqsXuOAtAocvYNIb9yDYVyzVLvSycmJ2NhYdu/eLUHS1tZWOjs7KSwsJCEhAY/grgl7cO44ossbGRgYyz0DFNgo3Uhp2Mrg+fsJzh2Pa7COvv1tsXPxZOjQoWzevJnooXU4+YThGqRl8Pz9Un/cQhP5Sd97uMfWHudBXc7fAwPj0BiKmT59OoIg8Ic//IGioiLc3d1xcHAgLCyM7Owu6Onn54fBYJCiekeMGCFd7zNnzjBv3jxyc3NJTEwkKyuLmpoaRo8eTXR0NLW1tdI5vHjxIsuXL8fZ2Rk7OzsSExMpKSmhqamJl19+GegdagqCQPnUhRbnWxjzAGpdvhS96hokkJJfZhbd0tN9+t+AmpMnT7Y4noiICBQKhdk9Bl1R1ampqdjZ2REfH8/SpUt5++23USgUxMXFmW37ySefsHDhQnx9fbGzs6O6uppXX33VKtTs6TihK2q0O4QQJ+evv/4648ePJyUlhfT0dBobGy2iRU2hZkdHB2VlZej1evLy8li3bp1VI6P//Oc/bN26ldLSUvR6PWlpaUydOpU33njDYtuvv/6aLVu2UFBQIEUHHzhwQIaa36Gsgba1a9ei1+t7BG2jRo3CYDCwbt069u/fz4IFC6Sx9D//+Y+0fWdnJ9OmTUOn0zFv3jza29tpa2tj3LhxCEJXnV5TiSm56enprFy5kgMHDlA8fjaO3sF4RhqtRmnfaXOcntKwTZfuadg3K2tO4oIgMHHiRAtAKJ5rvV5vAZcfeOABKVvj2+rcuXNs3bqVd955x+LlrOnvE9MXbAFpFURXNFI8fo70e+HPf/6z2bjQ2tqKIAjU19ezf/9+duzYQUlJCbW1tRZj4+XLl0lNTaWwsJD9+/dz4sQJi/lP9xcppv9/+umnqaysRK/Xk52dzcqVKy3G2StXrvDoo4+ijjbSt78NA5RuuIfpCcyo7jG63zRS8+TJk4wZMwa9Xk9mZibNzc1cuHChR6j5wgsvUF9fT1paGnq9nrKyMnbv3i2nisu6bcmMQJY1yVBT1l0pecCSJev7pVt1aP1vRJj8WHT16lXS0tKYNm3at/q8CEq6T6yhK6VerQknc8FBi2uWtfAwg+fvJ2PePuJGLcJRpUE37kHGL1iPIAikpKQQFxcn1QwVIemQIUM4ffo0giBgNBpxGRSBceYOqV39lIdx8AzA1sULtXaI2T4zmw6ZRY4MXfYUiRNbpLRzcbvUe3fhqAqyiEbJX/ok2dnZlJWVce7cOfLy8li5ciWhoaGSgZAgCCxcuJCvvvqKzMxMqqqqvt2FuUP6X7n9flvt2LEDQRCYPXu2FEkJUFRUhCAIVie1R44cQRAEjh8/DnT9BlAoFKSmpkrbXLp0iZKSErRaLampqQQEBNDU1ERKSgoVFRW9Qs3uMLAnqDly5EhSUlJYsWIFBw4cYMWKFeh0OnJzc83c3EWgUFNTQ2ZmJps2baK9vZ0ZM2ZIIMP0OC9duiRF8y1dupQDBw7Q2tpKWVkZCQkJ/OY3vzHry7x58xAEgUmTJrF37162bt1Kdna2FGUuQ807L2ugDa6nBlsDbVqtlj/8wbyG5c9+9jOLlwNizeef//znZtteu3aNhoYGUlNTzWoQim13v87LWx7uGo8b1n8n5jimuhHQvJ1ntzUncRGO9eQkPm/ePIt2nn32WQRB4MUXX/zWx2kKB7u/nO0e0Wj6gk2pDsE9KI7GxkYJtpq21dnZyZYtW8jLy5NeZrW1tUn1l7u/zPztb39LUVERAQEBREVFWbyQ6Qlq1tbWkpOTw5YtWzh48CD33nsvgiDw4IMPmn1+6dKlCIJAVvkEbJ098YgwEJI/EY+IFAbff/2FYHeoufboH6SsiuzsbLZu3crevXuZOHGiNB51h5o7d+5EELoM4VpbWzl48CDz589Hq9Vy//33f+trJUsWyIxAlnXJUFPWXSl5wJIl6/ulW3VovVuBzN0uaxFgYk1Na4ZD1tQ9ndAwrhm1JpwDx5+z2Hbr1q1ERseSNucxCSqGDp2EW0gCjiqNxRJXvYgtu/YiCIJkyPTSSy9J7Yl1R48cOUJsbCwBAQGEDq4gY94+aTHO/hkOnv44D4rC0TvILIpEjBzp7Ozk888/Z9gDh8iYtw/nQVEMShlutp23kIuTrzmQzZiyRkrzu3jxIgsWLKCwsFCK/CsuLuaxxx6js7OTEydO9Ah7/xf6rt1+b7YPvaWi7tmzR4q46n6vlpeXIwiCWQTR119/zdWrV9m/fz+CIPDcc8/R2dkpmWgNGzZM2laETo899hj33XcfgtBl7PXMM89IJQJM9W2gpiBY1tUV74PFixdL60SgkJyczIcffmi2vejIK9YOhS4jMp1Ox+uvv2627VdffUVlZSVFRUXSuldeeQVBEJg5c6YZGD1//jwpKSky1PyOZAraukf59gTaJk+ebNHOlStXMBqNlJeXS+tqamrIy8vjwoULFosI9E+ePCltLwgCY8eOtWhbfBnU3t5+Jw/dQjeq45k6e5fZi6iexqBLly6xefNmSsorCYpJxMU3FPeQBBRO7kQnZ/Hu+c+k75K4qNVqFAoF4eHhnDt3TjrXGzdutGhf/Kzpd+1WZQoLu7+cvVGadvfUbGt1L00jdm+k3iKxe4KaWVlZUi1PUVOmTCExMdFs32KGyLvnP+v1uLpDzbc//JTCwkJSUlLMItY7OzuZOXOmBdR899130Wq1PPDAAxbHIEavdh8HZcm6FcmMQJY1yVBT1l0pecCSJev7pVt1aC1Y/tR/Hcj8EFRWVsaSJUvYt28fe/bsYe7cuVJ69I0mTz2lE8ZWNeGo0pBUv84inVBMJ25ufZacJcfwSy7BURWEJrOGuFGLSKhbTeLEFiJKuuqm6moWMW7BeiKjY1mzZo3FBE1sb8+ePYSHh+Pv749aE24GRh08A+jTbwD97V1wVGlIm7tb6qu2djkJmcVSWrjpZ7tHdcZVL8RRpSG2coG0Lr1kDAkJCZJJj6i3334bQRDYvHmztG7y5MkYjUazCKofq24mFXXU7BUS6LEG36dNm2aRKipGy5aWlhIYGMjSpUsZPXo08fHx+Pj4MGTIEGlbU+jUvaZmSUnJHYGaJSUlVo+/pKSEtLQ0CVaIQGHp0qUW2/7zn/9EEARmzJgBdEXjZWVlMXbsWKtQS/xOiOflwQcflMojdJeYbitDzdtXd0A/0C+cuNQhvHv+Mwuo2d3dWgRta9assdq2mAosSoTRgiAQGxuLr68voaGhZjBPjFKGrntxwYIFFu32ViLiTupGz3PXYB2OKo1ZNJ81vf+3vxEcm4QmazRRI+4luqKRwIwq+va3wUbpTtaiIyzb+yJHvzHkq6urY9y4cWg0GjZt2sR//vOfXo/5dmvbit89cXFWB+Go0khQT4R/ydM2o9bl4+QXYVbbVEzN7t6XQ4cOMXLkSPR6PbNmzbp+Pt5/n3nz5pGdnU1SUhKFhYWsXbuWixcvAtfHKdFkz/R7LrY/ZcoUKepXEAQefvhhAP74xz9K5XPCwsLw8PDg5MmT0lhXWFhIfn4+7777Lj6a8B6PyzMqzcxcTgTpy5Ytszh/okGjKdRct24dgiBw5swZi7Hub3/7W4+AWpasm5XMCGRZkww1Zd2VkgcsWbK+X/qhOrTebdq4caMEdxITEyksLGTVqlU35QDbE5QyhZrd0wnFSd8Hf/87Kw+83JXSnTbSoo3oisYugFjVJLU3rO7eHqHm888/T3h4OCqVirrJDSRObJGWyNLZ2LmqUcXnkDixRYrU1NZ2OX8Xj6igvb2dF154gQPHnyNxYgsu/tF4C7lmfcps6sDJLwLv+JyuKM357cQKOrNJpqlGjx5NXl4enZ2d/P3vf0er1VqdyP0YdSOgKZqBpRZWmaWUmmrLli0IgsCxY8ekdWK0rK+vLw4ODiQmJlJRUcFjjz1GWdVo1JpwChftNYNOf3z/nxbu57NmzbojULOne0NsX4ThImDoKTo6LS2N0tJSAD799FMzcNLT8rvf/Q6AqVOnIgiCBDpMJUZly1Dz26snQK/0CcUzKo2cJcfQ55YydOhQ6TM9Qc2Wlhar+xg5ciTJycnS//V6PcXFxZw6dYpjx44RGhpKY2Mjp06dkhbT8gbWUnpN9/tdQ80bZV50h5qmcM9ULUd+R9aiI1bOdRh9+9sQP6pZeuaIx9zdSfy7hJrvvvsuGzdulKBd3cKHiRu1CG3tcglqekal4TwoiqDsscSMnE9w7jiptumaJ35v1pfQ0FBcXFyIjY1ly5YtrFmzBo1Gw9GjR9m+fTtubm5Sbe3q6mrppWRFRQXz58+XxgKNRoONrS3uan8CkvIYuuwpsmY8gndgGCmpGTg7OxMWFoa9vT05OTm0tbWRnJxMREQEPj4+jB49Gg8PD1JTU8nMzGTChAm88MILpKWlIQgCSqUST18N9h6D0GSONjsuW2dPBgZppQyaEydOEBYWhr+/v8V5/vzzzy3u1YaGBjQaDQqFgrCwMKtjXXNz87e6XqKsjd+yfjySGYEsa5Khpqy7UvKAJUvW90/fZQ0uWben3qBzd6hpCp1NzWAuXbpEZEwc2RUTKVh+PU0vc8FB3MOSLKBm8JA6fDThVqHm3//+d3Jzc7G3t2fcuHHSvZO9+Ch++mKr6XF+KcMZFBpjEQW4quMVHL2DLKBmzpJjBA6uxlGlwThrJ2PmdqW+/+pXv7J6jkTw9cILL/Dwww9L0SY/dt3ohUXEsOk4qjT46ovJWni4xxcWf/vb39DpdFRXV3P16lVp/enTp9FqtTQ1NQHXoVNs5f04qjQE5dSaQaeo0tn4aMI5dOiQ1IY1qDlx4sQeoWZeXh4TJkzg6NGjJCYm0tDQQFxcnFTL7pNPPmHx4sVkZmai1+sJCwsjNDTUAmru2bOHp556itGjR2MwGEhJSWHMmDFERUVJxl2ffPIJgwYNYuDAgezfv1+CWCdPniQhIYHQ0FC2bNnCv//9b6ALajo7O1NYWCgdi2iEtHPnTtRqNXq9Hn9/f5ydndm7d+9NXcfejJPuJn3X/ezpOeURYcDJL4KshYfxFnKJSLhez7Un0Haz6ecjR47EaDTy9ddf3xSY/F9DzVutkW3NIbv7uJG9+AiD7++qwazJGkOffgPwjEq9/mIkOlZK87dWv/S7gJrd27Dmfu6oCjJ7NnaNeQ04qjQcOPasWTuhoaHY29vz+OOPm7VdW1uLt7c3fn5+rF692qzu5bZt2xAEgaamJql0RXJeGbYuXoTkTSRhQgs5S46RVL+O/vbO9FMosXNw4t45c/Dz80Or1eLq6kpQUBCbNm0yi/RsaGgwO5+ff/45J06cwNvbGycnJwI1wUQkpFG89CBDlz2FtnwWdo5OxOsSpePqDWpevHjR4l6dNm0aGo2G4OBgdu3aZQbuxeW999771tcLZKj5Y5fMCGRZkww1Zd2VkgcsWbK+f/q+GZr8mNRbOqE1qCmmE3Z3uJ42bRqRMXEEDq4mZuR8woum4hqswysmwyrUdFRpOPT0dYho2t4LL7yAh4cHjo6OzJkzhzH3rUKtHSK1FZBeSUbj3uvwdMQ49MnJFung69avx0cTbhVq6qdswFGlYcTk+YwcOZLs7Gy+/vprq+fo8uXLZGRkMHXqVHJycqipqfmOrsb3S73dO9HlXRG6AwPjiK1qIm7UIuoWPsLx48elxVSPPPIIgtBlINHR0cGOHTsYPHgw2dnZfPTRRwBmgNtbyJHuBaVPGDZOHjiqNHgLOTz05HXXcGvp53PmzMFoNALmUPPy5cvodDopJXj58uV0dnYiCAKDBg0iMzOTkpIS5syZQ3t7Ozt27MDNzQ1HR0epppwIKwoLC6VIq127drFr1y6KiopQKBRkZmYCXbXnEhIScHJyorW1VerfO++8gyAI6HQ6Vq1aJa1ftGgRCoWChoYGs3WCIBAfH4+bmxsPPPAAtbW1KJVKoqKiOH369A2voww1u0BbdvOTRJfN7YrA84vEyTcct9BEBmoEHDz9iSiZIdUVfOX0+9TX1+Pg4IC7uzs1NTW88sorFkZBpmDH1ChI3G78+PEIgiBBu+5LTEyMWT//11DzVmtki5Gapin9Q5Z2/S1m5Hw8o9Jw9A6+XmLEK4B7bOwZ4OAiOYkrXT1Qq9U9Os3/N6AmmENvR5UGVVyWxfEmT92EjybcrLapCDXVarVF3cu0tDRiYmLMILhY9/LTTz/FYDBQXl7O0aNH8dGES89O02dy5PBZ9Ok3AHuPQTh4BVLf3AUwt23bhoODAyqVSqpNLEJN0UjJWlT62LFjJQMr8dyePn0aV1dX4uPjpW1Pnz5NWFgYKpXK4jxbSz8Xo5p/97vffWdO5zLU/HFLZgSyrEmGmrLuSskDlixZ31/dDYYmsszV2yTVGtQUJ6ndoea///1v8kZNxTVIQOkTint4MpHDZ0oO5Nag5sy11yPJurd3/Phx1Go1dnZ2DBo0iJz8QipnLMXWyQ0Hz0EEJOVL984vfvELBEGgurqaffv2sXfvXhoaGigsLCQzM5Py6jFW77vsvAJSU1MRBIGVK1f2ep5aWlok0HD48OHv6Gp8v9TbvROQXmlhFuWsDjIDNqa6du0aHR0dVFRUoNfrGTx4MPPmzZPuh+6RUpkLDhKSPxHXYB02Th7cM0CBV3S6ZP707vnPejQKEtNK33zzTTOouWnTJry8vHB1dWXXrl3S9oIgSBFPpgBFjFTy8vKSasG99tprREVFYW9vT3FxsVn08OLFi3F2diYoKIi///3vQJdBloODg1mN0N27d5OUlMS8efPMjILWr1+PQqGgtLRUggKLFi0iOjoaHx8f6TiuXr3K+++/T0JCwk05CstQswvQi1F2vkmFRJffR3DuOGyUbjj5RTBQI0jQzd7DDy+/IFQqFWFhYSxfvpysrCz0ej1vvPEGgiAwatQoDAYDPj4+lJWV0dTUhCAIlJaWcunSJQnIbd68WYqsTU9Px8/Pj+LiYqZOnUpxcTHBwcFm/bwTUPN2AOit1shec+QNqxGwUSPmdNU71uUTM3I+uvErSZzYQkLdahw8A3AJjJOcxO8ZYEtKSorkJH4zx3GrUNOa0dmMtXuIjI6V2jB9Oeuo0hCQVmFxXEsee9aiTyLUDAgI4OjRo9L/NRoN8+bNQxDMa7A+9thjCILAe++9J5Ur2LJrr9mz0/SZ7JNYQJ9+A3CPNOKo0hBf00xkdCwbNmzA19cXtVotOZyb1uRMS0ujrq5OigSH6zVbRSgpPhfPnTuHq6srUVFR0radnZ0YjUbs7OzMxsuejILOnDmDVqtl4sSJVkuRXL58+bbrVMtQ88ctmRHIsiYZasq6KyUPWLJkyZJ153Qn0gmhC0oljZpvEeXkn1ohRVXGVjVh7zEItTYP1yABF99QcnJyWLRoEatWrZKg5qlTpxAEgfXr17Np0ybKysrQ6/UYjUZKSkrIzs4mJCREqmMHoNVqcXd3x9XVFaVSiY+PD1VVVej1eqvRKIsWLWLRokW4urpib29PYuL1tLqrV6/S1tZGZWUlycnJUrRMSEgIRqPxllxrf8i6U/fOzag3mDL4/gO4hSbhqAoiMKOK6IpGCsbOJCUlhYqKCguo+dFHH6HX68nOzmbatGkEBARQUVHBoEGDUCqV5OXlmW0vCAIBAQHY29uzZMkSDh48yIoVK0hISJCMPebOnQt0AYxBgwbh4uJCTEwMmzdvpr29nRkzZiAIArm5uQiCwO7du4EuF+jw8HDs7OyYNm0ajz32GPn5+RgMBvLz81EqlXz88ccALF26FC8vL2Jju9Jx9+3bR0FBAQ4ODgwbNsyipmZZWdlNRRV/F7Dw2rVrZm72d0LfJdQsb/kFntFpeESkSPdVUv066YXM4Pn7Cc4dzwClG337DcDB3YfGxkYJtIkQSEwT3rp1K8899xwuLi6o1WoyMzNpbm62Wg9y6NChZGdnU1FRgb29PQEBAQwdOpTp06dz8OBBs37+r6HmrdbIbt7/mtX1ntFpuIUkkL34qNl6w8ztFiVGlCqN1WO+E+rN6Ey8/nVNG8yySN49/xlqTTjhOaMsXs6eO3eOyOhYRkxZIAHSrBmP4K72x3eQvwXUFM1zTGuwii9aXn/9dQlqjluwHkeVhhArUNMz0kiffgNQxWVLUFOtCWfDhg0EBwejVqul8WfNmjX4+fmRmpqKg4MDPj4+BAYGMmfOHHbs2EFgYCCFhYVkZ2fj6+tLeno6SUlJpKSkYGtrS0hIiNn527ZtGwqFgtjYWBoaGkhOTsbDwwMvLy+8vb0tXqpMnz4dhUJBamoqmzdv5vDhw0yfPh0vLy/i4uJYsWIFw4cPJykpiby8PLZs2WI1qvPMmTNMnjyZlJQU0tPTmTNnDufOnZOh5o9cMiOQZU0y1JR1V0oesGTJkiXrzunbphN2144dO1CaRDnFjJxPWMEUvGIySGnY2jVhnfEozv7RuATEEjp0EkLVAjZt2mSRZnzt2jUKCgooLCyUXKxFXb16lezsbMrKyqR1nZ2dDBo0CDc3N+bNm0d7ezttbW2MGzcOQRDo6OiQ0nShCwyUl5djMBhYuXKllO4stjVt2jR0Op1ZWxUVFSgUCqqrq7+Ly/C91J26d+7EvtLvayMgbSTO/tE4+YQxSJfLq6++anbd4XpEVub0DXjHZeLgpmaArQKVt5qYmBgLoyFASu9OTk4mPT1dSjlXq9UUFBQQHh7OxIkTgS6o6eXlhZubGzExMbi4uODo6Iifnx9z586VIvlWrFghtV1aWopKpcLHxwcHBwf69u2Lm5sbtbW1BAcHSwZKhYWFEmQYOHAg9vb22NnZoVQqpUjn1157Tfp3VVWVWf3NDz74gNmzZ5OamorRaGTKlCm88847PcLCv/zlL5Ijc2JiIvn5+axcudIssguuR1m/9957bNiwgcLCQhISEszMkm62rW/TzzuhocueQq0dgrNfpASMTKGmeJ95C7k4egcxZPETFm2IfTUFhjcDIUUQ899KIb/d/dxsjewlPQDNnCXH8IrJ+AZqXjcLym5+En9jmQXUdA2IZMaMGXf4LNz4WEyvf/d639au69XOTppbn8VRpSG8aKpZO3auamxdvKhr2sBXX3/Nyy+/LNXe7V6DVYSav/3tbzEajZSVlWEY1yy166jSIIxdJrXv8Q3UdA1JlKCmszqItrY2goODcXd3l6Bmeno6SqWSWbNm4e/vT3BwMD4+PsTExDB48GDs7Ozw9/cnMDCQ+Ph41qxZQ0dHB2vWrKFfv34oFAreeecdqa+vvfYaISEhBAYGolQqCQ0Npby8nKlTp5qV2jA9ttDQUCorK8nMzCQxMZG4uDgGDhxISkoKBQUF7Nixg/3790slGUxLcwD86U9/IiUlBaPRyIYNG2hvb2f27NkUFBRI5keyfpySGYEsa5Khpqy7UvKAJUuWrB+juhua3CndajqhWFOzu6qqqlBHG3v9bFcqoYLkn26UINfRo0eJjo4mNjbWzPlUdMR+9dVXzfbzwgsvIAgCjz32mLSuvb0dpVJplsILXXC0oaGB1NRUyUEWkFKSf/Ob31gch1hL7Oc//7nZ+lWrVuHu7o5Op7vtFLkfiu7UvXMzut2o0J4issSSCJrM0fgGRzJ27Fir7uLjx4/Hz89PqoO4c+dODh48SEtLC+7u7tJEurOzE51Oh0KhoKamhvb2djZu3EhGRgZJSUlSbTtTqFlUVCSlq69atQq1Wk1UVBQVFRVUVFTQ1NTEBx98gEajwcfHh3HjxtHW1sbhw4cpKCjA1dXV7DeRKdQUIeBHH31EVlYWiYmJrFy5kgMHDrBo0SLS09MpLi62gIWvvPIKycnJFBYWsnXrVg4dOsTatWtJSUmhtLSUL774wur+Ro0aRWtrKwcOHOCVV1655bZM+zlmzBgCAgKYMGFCj/28HZmmHOcsOYb+p48wMDCuqxasRkAVm4mtsydRZXPNoKZrkGAV0BcUFFBdXf2Dh5o3WyN7zZGex4fI4TO/ST/PI7qikcjS2XjHZ5vVTRa3TcnvKkmxc+dOnn76aU6cOHFHouVvFHWaPG0zjioNkaWzyVlyzKxMjrXruu7Ym6Te29or1BQBqWl6/Pjx46UarHD9Wb9gwQIEQWDLli1oaxZ1AdbqhdJ4JbYflD0Wew8/7D0G4ajSkHpvqzT+paSkSHV4BUFgyJAh/Pvf/5bqW9bV1Ul/e/311xEEgeTkZIxGI++//750bOfOnSM2NpaIiAgmTZokrRePIysrS4pCFiXWBjW9VtZ+x4jrysrKzKK7Ozs7KS0ttXiu19XVodVqzTI1oKuUh7U6obJ+PJIZgSxrkqGmrLtS8oAlS5asH6O+K6h5o4nd4Pv3E140VYpe6qn+6aRJkwiIECzcYMXFMGM7Nko3Bji6kjx1Exnz9rFsz4vs2bOH2NhYRowYwZAhQ6QJ0Llz58ycr0XNmTOHhIQE/vWvf0nrampqcHNzY8yYMVy4cMFsOXLkCIIg8NJLL0l1vARBoLKy0upx1NTUkJeXx4ULFzh//jwdHR089NBDxMfHU1xcjCAInDx58k6c+u+9bjUV9XZq595uVGhPEVmmdWO1Y5czKDSaqqoqLly4YPZ5McLpwQcftIgeHjp0qDSRPnLkCIMGDUKlUvHUU9fB6tmzZ9Hr9SQmJhIfHy9BedFUxmAwUFNTw8aNG0lPT+fRRx9FELpcinNzczl48CAeHh7ExsaaGVp1j0QF61BTrOn47LPPmm3b2tqKIAhmsPDKlSsMGTKEyspKs5qg0JVmrdPp2LZtm9n+oqOjGThwIJs2bTLb/lbbMu2n6ZhnrZ89qXt93u7qLeU4s+kQ2tphYVQZAAAgAElEQVQVBOeOY6Am/hsDFn8MM7d3Qc34bOw9BhGlz0Sv15ORkcH06dP54x//aBVqhoeHk5SURFZWlpRSO3fuXF588cVeoeaFCxeora3FYDDw61//2qz/Tz75pPS35ORkqqure6wd+fTTTzNy5Ej0ej1DhgyhpaWF9957747A0xvVyO7tO5u9+CiRw2fiHqZH6RPKQI1AUNYYBs/fbwE1f/3aaaZNm0ZaWpr0Qqqna3srutFLmayFh3H2i8QtJIHo8kYmNW+W5h7doaY4Ft4M1EyqX0egJhiNRsPRo0fp6OjA3t6esLAw6uvrCQsLk6Iio6Oj+fTTT0mrXylFaPomFXaV2vjGlM83eRh9+9uicFXj4BVI6r2tlLf8ggsXLqDX63FwcCA0NBQfHx/q6+uZM2eOVG964sSJUvT4ypUriYuLQ6VS0djYaPYcPXPmDLGxsRQWFqLT6ST4KELNhx9+2OL8mtYGFdUb1Ozo6LBoQwSV4ovETz/9FEEQ+OlPf2qx7ccffyxDzR+5ZEYgy5pkqCnrrpQ8YMmSJevHqJuFmteuXWPfvn1UVlaSmpqKwWCgqKiI+++/n08++UTa7vz58yxdupS8vDz8QqIYGBhHQHolaXN2S5OxxIkt2HsMwkbpRnjRVLMUvHfPf0bR+Nk4q4NIbdhM7r1bCYhOxMErEHsPf+zcfFAM9EbpE4p3fA7BueOxUbpJLq2OKg02trY4OztjY2ODk5MT9vb2pKenS/uoq6sjODiYsrIykpOT0ev1uLm5maWeQ1c0ilKpxNXVVZr0uru7Y2dnR3R0NIIgmLltx8bG4u3tbZbyZ9qW2EZUVBQKhQI7Ozvc3d2JiYmxaOvHrptNRe2evnmrup2o0N7ga3czrIS61cRrEykrK+P//b//J7URGBiIs7Oz1Shd0zpuDQ0NREVFERsbS2VlpVnkUVNTE87OzkRGRkpGQYLQ5Tbc3NyMTqejtLSUe++9l9OnTyMIAs3NzVIUk1qtRqvV8txzz0lg9WagpmjoUVJSYtH3K1euYDQazWChCNz27t1r8ZLgwoULDB8+nNraWrP9RUdHExwcbAHKbqWt7v00HfOs9bMn3Qhq3uieFV/kRJbORjHQG1sXLwLSK8lefBQ7VzX3DFAwevwkiyhcg8FgBjWPHDmCg4MDvr6+rF+/nkOHDrF9+3YmTJggRcqZQs3z589LUbzFxcXk5ORw5swZs76LNTsbGhpoa2ujvb1dirQTzapEHTx4EEEQGDZsGDt27GD37t1UV1czatSo/0pE6K1GV38X40ZvupkXJQl1q/GKyUDpE4qzOki6/7pDTXF8ulmo6a72l6Dma6+9RmRkJFFRUbi4uODh4YFCoUAQBGJjY3nwwQdZ3Pocjt5BeEalEVk6G8+oNBy8AlH6hKKKzUQVl4WN0o1+CkdCh9aTUnUvXuGJKL2DiC2ZQkhcMgqFHbGxsdx333189NFHZGRkMG3aND7//HMEQWDatGlERETg5eUlPQO7Pwt9fX0RBEEqFSNCTWvmeaa1QbuvswY1T506ZdGG+F0+f/48AG+++aZFDVJTpaWlyVDzRyyZEciyJhlqyrorJQ9YsmTJ+jHqZqHmjh07pElve3s7hw4dYtOmTYwaNYq33noL6Kpvl5GRQVZWFg8//DAHDx6kbMr9uPhHMzAwjrS5XWAzu/lJnANiuGeAgvKpTVzt7JSinLIXH2FgYBweEYbrMGDBQdzD9AxwdMXOzQdbZw/s3H3xiDCgGKiin8KRAQ4DiateyMyWx1GpVDg5OdGnTx9cXV0JCwtj6NChfPLJJ3R2dlJYWIitrS3h4eHExsbi4eFBv379cHFxYfv27dIx6/V6nJycUCqV7Ny5k4ULFxIXF4eNjQ25ubmcOnWKOXPmSPDH398fLy8vnnnmGd5//32p1l9SUpIEnZ5//nlOnTolLWvWrCE0NJRdu3aZwS6wDlH+/e9/s27dOoYNG4Zeryc9PZ3y8vIeJ2PfV91sKupVK2YPt6LbiQqdsXaPRW3EnqBmzpJjzHpoH9pEPRGJ6RQu2svQZU8xwN4JRxc3q9GmplCztLSUtLQ0Nm/ejCAIjBw5ktbWVlpbW0lKSkKhUJjVBxTTTH/+859LAGH//v1S1N7DDz9MYmIigtDlqC0aAg0ePJiZM2dSUlJCTEyMWX+6Q81//etfCILA7NmzrZ7byspKM1goRkX2tpi6sov7+9Of/sTVq1fN2r6Vtrr3s/uY172fPak3qNnbfZQxb58ZmPJPLcfewx9bFy989cXEVjXRT+GIu/cgszbFKFwPDw/q6uqArqgxvV6Pj48PqampZim4nZ2d1NfXW0DNzz77jLCwMAIDAxkxYoQEckT9+te/RhAEqf6vqVasWIFOp5OO+eLFixiNRvLy8vj888+l7a5cufJfg5q3Gl3d/Tt577p9tz1u9KY7aXR2o2M1rc+ZVL8OB3cfM6hpmsJtet+LKdxvvvcP4kYtwiPCgFIdgqNKg7eQK7WfvfgoUSPm4BlpROkTipNfBGrtEBLqVpud06krdnK1s1OKeFy+fLkZ1HzrrbcQBIE5c+aYPf+6L2LWQ28u870BzButE9X9uyxDTVm9SWYEsqxJhpqy7krJA5YsWbJ+jDKNZtixYwdFRUUkJSVRVFTEjh07JIfQqqoqwsLCEASBzz77jGXLljFkyBB0Oh3PP/88AC4uLmg0GrPITYBDT/+K/jYKvMKTGLrsKQzjmnF288LG1lZq00cTjqNKg3bcg1KaoH9qOW6hiSgGqujb34aBGgHd+JXovtnGP20kXjEZ/KTvPfR3cGHJY8/y6KOPolAoUCqVqFQqVq9ezaZNmygsLCQiIoKxY8cSERGBnZ0dKpWKhx9+GKPRiLu7O/369cPe3p6//vWvAIwcORJ7e3tcXV2pqqqipKSEbdu2IQgCaWlpgHlEm7OzMwEBAZw+fRqj0UhycjIPPfQQ+/fvJzw8HHt7e8rLy29YC0yUNYgyefJkdDodK1asoKOjg/b2dlpaWnpMe/++60apqHdC3zYqNGvGI7cENQuWP0Xy1E04+0fjGqTFOGsn/e2c6O/gQs6SY6w7Zg5pTaHm8OHDpWjj48ePM3r0aJKTk0lOTsZgMKDRaPjFL66nxosRX5988glarRZBEDh79qxZKnJdXR2CILBz506+/sZkZMOGDdTW1qJSqbCzszO7L28Xau7atQtBENi2bVuPUOONN96w2J81iGitrRdeeMFqWzcLNY8ePUpiYiINDQ3Sd9Q08tzf3x9HR0dmzZrFP/7xD7P+tBx9g+zFR4gacS+eUWk4+YTh5BuOd3wODl6B+CYVEpRTi62zJ64hCfzfT/pwj409YQVTsHPzpU/fvjg7O9PY2GgGHZubm1EqlVIUeVtbG4IgsHjxYgRBoLq6mn379tHa2kpNTQ21tbUWUPPEiRO4uLigUqnYvn07J06c4MSJE9I+5s6dS1JSEh999JFFxOvJkycRBIFDhw4B8Mwzz0j3THeJAP27hpq3Gl2du7SrbMT4BeuJjI6946VWuutOGp3dCiBNql+HUqWRQODNpnDf7PjXfclsOiSNcxHDGlh//E0pUvj55583Sz//7LPP0Ol0TJs27abO4X8basrp57J6k8wIZFmTDDVl3ZWSByxZsmT9GCX+8K+pqaGwsJBHH32UtrY2xo8fb5YKN2nSJHx9fQkLC6OqqopJkybR1tbG3r17efvtt3nvvfdQKBTk5uZaTIzPnDmDm5sbERERAHz44Yc88sgjKBQK9Ho923bvJ27UIuJGLWJQynAcvYPxSy5BrR1C8JA6nAdFYu/uh2uwDgfPAIZNaUapCsA3IZ+U2sX0G2DDABsbXnzxRaqqqnByciI1NVWa0IiQtaamBk9PT7y8vAgMDCQiIoInnniC6OhoNBoNWq0We3t7afLS1tYmpYkXFxdLKcJi1OqvfvUrCWq+9dZbKBQK8vLyJMOB3//+99J5bmtrw9fXFx8fH7NJv3j+n3vuOYtr033idfHiRbRaLcuXL7/zN8KPWN82KtQwZX2PUPNmFxGAZS44aBWcihJTgf/5z39a/E1MJT99+rS0rnsaq6ibNXN5++23SUhIMJvId78fbzX9/Je//CWCILBr1y4Arl69yp49exg1ahQGgwGDwUBZWRkPPfSQtL/o6GiioqLM+nvu3DmCg4Px9fXlvvvuY8yYMaSkpJiB/f/85z9s27aN8vJy9Hq95Crf2toqfefWrl1LXFwccXFxREVFSRFmnZ2dbN26lcjISJKTk6XI8/r6enx9fUlJSSE7O5uPPvqIf/3rX6xbtw7fuAwGOA6kbz8bFAO98Y7PIWL4TLzjs7Fxcsfe05++A2zp228AffsN4P/+7//oc09/+tvYEhQShpOTE6GhoURFReHv7096ejqJiYnExMRgY2NDdnY20BU5KUavtre3U1xcTGJiIkOHDmXz5s2cPXvWDGoajUa0Wi2lpaWMGzcOg8EgRbKKKisru2HU66OPPgrAz372M2ns66533nnnvwI1v2109XdVP7q77qTR2a0A0qT6dTh5B1lAzRulcN/M+GdtcfaPxusb0yt790F4x+cQGR3LpEmT+Prrr6UxSzzfM2fORKvV8tvf/tbqsZq+DP1vQ01AMlaSjYJkdZfMCGRZkww1Zd2VkgcsWbJk/Rgl/vAX3UtFvf3hpxgLK3FWB2GYsoHce7fi4qnGxtaWgIAA5s6dy8GDB6UUxGeeeQaFQtFr3Sw/Pz+p/XPnzuHq6kpgYCArDrxMzpJjZMxvR6kOwU9fTGZTBzlLjuHiH80AB2dslG7YOHvSp98A+va9B4VCQXBwMIIgoFKpsLW1JT4+Hp1Oh42NDREREfj4+JCZmSnBnSeeeAKFQsGAAQPw8PDA1tYWOzs7+vfvj42NDb6+vri5uUkT/qtXr+Lh4cE999xDeno6O3fu5PDhw6xduxZPT09UKpUENZcsWYJCoWDy5MkIgmBRV/Pq1atMnToVe3t7/P39pbamTJmCu7u7BHxN1X3i9dVXX6HX66mqquLDDz+8k7eBLG49KrS3SM2bXaJKZ+Oo0hCUU0t285NmEMbUOOiJJ56QIvRM9cEHH6DX6yksLJSiquHWoGZ3d2HouteMRiPl5eXSOmsg4FaMgr788ktycnLIysri3Llz/PSnP0UQrru+HzhwgKVLl5Kfny/tryeoGRcXh6enJ05OTjzwwAMcPnyYffv2AfDFF18wcuRIYmJiaGhoYPfu3ZSWluLt7U1WVpYZ1PTz88PV1RWlUinBVnHfLi4uZGRkSLBFPP7XXnsNo9FIc3Mzp06dYujQoahiM7B19mCQsazrxYwqCN+kIrKbn8Q3qRCldwgRw6bjqNLgGZPBT/r2w8HZlebmZikK95VXXiE8PBylUklBQQGHDh2iuroaOzs7DAYDX3zxBcuXL5eg5o1UUFBAVVUVtbW1JCQk8POf/9zqdqWlpRiNxl7TgsXx5m6AmvDtoqv/W1DzThqd3QogFVPR65o2cLWz85bBoLXxr/aRX/a4P83gUSjVIfTtb0M/hSP97Z2JT8vnZz/7mRQFbmrI9/HHH1NUVIROp2P+/Pm0tbVx8OBBHnnkEWpqapg4caK07f8Cap4+fVpyaN+wYQP79+9n9uzZDB06lMzMzO8t1BTPpXgeuv9f1o0lMwJZ1iRDTVl3peQBS5YsWT909fbDX6ynZurgq5+yoQu4ZI8lZ8kx/FPLUQz0JrO0lpEjRyIIApmZmfz1r3/lxIkTKBQKMjMzzSbDdXV1BAYGEhoaSmNjo7Tfc+fOodFouiKfahd3AZ6yOV0p6LXLpYlTRMkM+imU3GPriMJVzQBHV/rZ2rNp0yZOnTrFgePPMXhELY4efmgyKnHXxPCTn/Shb9++3HPPPcTFxbF27Vo+//xzvvzySxQKBf379yc0NBR7e3tsbGzo378/tra2BAUFERoaSlxcnNRPrVaLg4MD+fn5GI1G9Ho9Q4cORavVEhwcTGNjI3FxcRgMBtzc3CSouWbNGovz39nZicFgwN3dXWpLq9Xi7u7OypUrLba3NvE6dOgQer0eQRAYMWIES5Ys4bnnnrOoOfhDk3ifvvrqq7S3tzN8+HDJ9XnLli1mQA+wqGlaWFjI2rVruXjxorTNJ598giAIrF692uyz69atk+q/mWrPnj0IgsAf/tAVWWVaUzO+phnPqLQux+XAOIKyx5K18LCVlM0Owoum4h6e/E2Nukjs3P2wc/PBW8ghomQmYxtbpLTjrVu38stf/pLRo0fj6emJs7Mz06dPp729nXXr1hESEoKLiwtRUVGkpaUxdepUKe3zZqFmVVUVEyZMYPPmzRw+fJi2tjbGjBmDIAjs3r1b2s7a/Xj+/HkyMzNJTExk1apVHDhwgMWLF5Oenk5xcbFFrcpXXnkFg8FASEgI3t7eVFdX8/jjj7N69WoKCgrYunWrdC17g5qCIBAeHo5Wq8VoNLJ69WoOHjxIW1sb+fn5KJVKxo4da7WfY8eOJSAggMGDB9OvXz8cHR1JTEw06+cDDzyAQqFg8eLFUsT5Qw89RGxsLGfOnGHy5MkMGTKEy5cv09nZiZ+QhWuQQMa8fWTM20dwzjgcPANImLBGStGNrVoo1dTs028ASnUI64+/SUNDA/Hx8WRkZFBZWUlRURFpaWl0dnbS3NxMeHg4kZGRbNu2TboHn3jiCYtr211i+vmlS5eYNGkSOp1OSiM31cyZMxEEwaJsiDXdDenn8O2iq2+21IqYmv3SSy9Z3ffYsWMt6pl2150yOrsVQGpaX3P98TdvGQxa040iRcV7O3FiCxHDGlBF6KXxdvv27RbPpYsXL7Jp0ybKysrQ6/VSpHdTUxMvv/yytN3/AmpCF9icNGkSKSkppKWlMWfOHM6dO2dWCuT7Jhlq3r5kRiDLmmSoKeuulDxgyZIl64euLbv2otaEkzXjESkSY9w3dcbEupimk7HB9+/HUaXBN7GQnCXHCEivxFGlIbPpEOuPvykZTCxatIi3334bhULB4MGDzfa5aNEiKbWzO5iIj48nKCgItZBDzpJjeEan4RIQS9aiI6Te20pA2kic/aO5x9aevv1tcPAKxFGlQanS8OG5c1Jfw4um4qjSkHpvKzlLjuHgFYCzfzTKgR7k5OSYwdeAgAD69OnDfffdx6lTp3jqqacIDw+nrq7ODMaK0ul0uLq6WkwAxIlBaWkpgYGBUgr5jQwHRo4cSXJysvT/J5980uoEQxAE8vPzrU68PvnkE44cOUJzczNDhw5FELrMXkwdsX9oEieotbW1lJSUsGPHDvbv38+kSZMQBIHW1lZp23feeceipun8+fMRBIGKigozGFFeXs6IESPM9lVZWYlOpyM9Pd0Mls6YMYPU1FRpon7o6V/hqNKgistiYGAcYYU/JaZiHn4pw81eBkhAc8FBvKLTUfqEohk8iuiKRiKHz8Q9PAVbZ09cAmJQ+oTiGhBJQUEBPj4+VFZWkpqayvr169m/fz91dXWUlJSg0+lwd3fH09OTadOmceDAAVpbWykrKyMhIYGQkJCbhpqHDx9m6tSp5ObmkpSURFZWFhMmTDCr0Qk9g4CzZ88ya9YsjEYjRqORKVOm8M477zBhwgSrBjxnz54lKioKZ2dndDodGRkZjBw5kpaWFt577z2z/fUGNWfNmsXZs2el70FiYiIZGRm4u7sTFhbGn//8Z6ALDLUcfYOhCx7HP6UERw8/+tsoUDo5YWNjQ2pqqkU/Z8yYgUKhkMYuQRDw9fU1W6fT6aTtB4XF4uAViINnAA6e/ti5qunTbwC2zh44qjQ4qjREDp9lBjXdQhPJWXKMTTvbCAkJQaVSsXfvXqZMmUJMTAwvvfQSOp2OIUOGUFJSQm1trWQUVFhYyIULFyzObWcPNVmvXLnC9OnTEQSBtrY2s8+IZQGamposXg5AF4gSDVwuXryIwWD4nxoFmepWoqtvttTKZ599hl6vZ9asWRZt/OUvf0EQBB588EGr/fnss89YtGgROTk5+ARF4BmVdtPQtSfdLCA1hZo5S45x6Olf3TbUvJOmR7L+N5Kh5u1LZgSyrEmGmrLuSskDlixZsn6oEqMvrZmXmLqX/unDC2YTFFOomTFvnwQ1xb+ffOs9BEFgxowZXLt2DRcXF9RqNe+++660b1OouXbtWmm9CCaKiopwVgchjHkAR5WG4NzxZC44iGuQgLNfJGGFU/A3lqFwVeOXUoJ/ajnO6iCaW5+V+hEypM4MajqqNHhEpkpOt6bwdd68efTp04fIyEgAyU1ajL7rHq3UE9QEGDFiBOHh4bi4uJCTk8PVq1clw4Hu6ecAly9fxmg0SqYfcN15uHtNTUEQpPp31oxSRF27dk2KLLQ2ef2hSJyEl5WVmcHbzs5OSktLGTJkiLTOWk1TQDJ5MoUuLS0tCILAxx9/DMCFCxfQarVSWQGxvtrVq1cxGo3MnDlT+uxrr72GjyYcl4BYyeFaXHwShqJUh0hlFLru0wk4egeZff9ylhwja9ETeEalSZBr6LKnpO9HQkKCBOdM9dBDD6HT6Xj99dfN1n/11VdStN/dJBEsivBp4KBwYo25NzR8sgZhxXXr16+32F6Mvp05c6ZZ1Lm16DKv6Az6D7ChoKDALIIXYPr06SgUCubPny+96GhsbCQ0NJRjx45J6zo7O9m1axdOTs7cY2OHnavabPE3lpE4sYXEiS3opzzSDWomkbPkGGsO/46MjAwUCgXu7u44OjpKpmV2dnaEhoZKYyV0lSLQ6XRkZ2ezYcMGDh06xM6dO6mvr+fYsWPSMXSPLvv666+57777EASB7du3mx2vmNZeWVnJtm3bOHz4MDt27KCxsRG9Xm82BrW3tyMIAsOGDWPnzp3s3r2b6urq/wnUvBX1VGqls7NTqv8ofp+amppISEiQxgVRq1atQhAEs2ecqRYvXkxSUhJbt27l+PHj7H3i6ds2OrvZmpfdoebMtXu/80jN7ktvpkey/jeSoebtS2YEsqxJhpqy7krJA5YsWbJ+qBIn9r1BzYhhDYzf+LzZBMU0/dzFPxpH72BslG7EVi4gcvhMYpKzzerp6fV6fHx8SEpKYunSpbS3tzNixAjc3d1xdnY2i4Y6f/68FB2k1oTj7BeJo0qDYfo2yQFdnJxlLz6Cr74YR5UGe09/lG5eRBQ3EF40FV99MTZO7hLUzJi3zwxqJtWvM4OvX3/9NUqlkj59+lBaWkpUVBQGg4GtW7cyY8YMEhISzMBmb1Bzz549eHl5oVAo2Lhxo7ReNBwQQamo7du3IwgCW7ZskdaJxh7Lli0z2zYyMhK1Wm0GNb/88ku+/PJLi348/fTTFqnCPzSJk/COjg6Lv4lGDpcuXeoVKn/55ZcYDAazOpEiVBZh0IkTJxAEgQ8++ACj0SiVZRBTuvfs2SN9VorWrZ9nMbkXo/IMM7ZTsPwpspufxCUgFlVclpSibLqI0cbGWTspb/mFWTRid127do2srCzGjh1rYcp14cIFKaLy7Nmzt33eb1c9gUUnnzA8I43kLLF0fTdVb1DTGjwzhZo9RbiJY15I3gQUA73xGqShqqrKLPJx4cKFKBQKs5IZ1iJVRSgeGhqKh28A2toHSZzYQlx1V6p5eNFUab+p97ZapJ+LIGj79u34+voSFxeHg4MD9vb2lJeXs3fvXqvO8K+//joNDQ1kZGRIZRgaGxvNIl2tpcx2dnZKzukbNmww+9szzzzD5MmTJZOivLw86uvraWtrkyI1RT311FNUVFSQlJREbm6uFGX7fYCa4nfaVL/4xS9QKBQMHz4cgD/84Q8W8PfKlStkZGRIZQ2sRSLn5uaavfi4kxq+6ulbgppZMx65bah5J02PZP1vJEPN25fMCGRZkww1Zd2VkgcsWbJk3S26lfqBZ8+eZeXKlZSVlZGamoper6e8vJzHH3+czs5Os5pcPUFNWxcv7hlgh1o7RIosy158FO/4HAY4uODkE4qtsyd9+9vyk7734OAVyMDAODSGYk6ePAl0wYTY2FiUSiW+vr74+voSGRmJr68vAwYMQKVSsXDhQqnfn332GYIgsHLlSnLyC7sip2IyyFlyDN34VV2Ts8oFUj+zFx8ldGg9/RRK+tvY4qAKxDVYh29SEWrtEAlquvhH099OiYMqCFsXLwIzqizg686dO7G1tZXqa3p6ehIXF0dqaipJSUlmabs9Qc0vv/ySzz//HB8fHxQKhRnoENOfU1JSWLduHQcOHOD+++9HEATKy8slF3VRDQ0NaLValixZQkdHB+vXr8fBwYGYmBgziCK229TURGtrK0eOHGHjxo1kZGRgNBp7jej8vql7ZJ9hXDNqTTgHjvfsEn/+/HneeuutHmuagmX6/6VLl0hISJAMLZYuXcqwYcOArusyadIks32YQiNTd+HuabBifw8//Stajr4hwfYbLUmT17P26B96jUYUwe2Nlt/97nff/gLcIfUEFm/W9f1WoWZnZycZGRlkZOWSvfhor1AzvHga/5+9Mw9r4tr///fWqjXKJi7sKARlFzgJWSBAgIRFguy7WgTEBSguKLgiFpcqVtyxolIvKrKoKG1tb629rb1ir63Wa3/VrrbW2lqL1stVq/D+/UFnzCSTABWU1nk9T55Hh8kkM5mcnPM+n/N+G1rw4RieDS+BCPHx8bh+/ToAoLCwEEOHDmVU5WmKmjdu3IBcLkdmZiaqq6tBCEHc9AVQlhyFd+YahqgpL9wH/4JX6W3U5+01qQTjS1+jl4DPnTuXsRSa44+h2X6wWa2oc/HiRfB4PMjlcnpbUlIS3N3d6Sr6pqYmhkjIJmpSVd6dQXmxdocnsRS8J0OPODj+rHAaAQcbnKjJ0SfhGiwODo6+Qnf8Aw8ePIjY2FiUl5ejtrYW1dXVdFjN6tWrGZUWbKKmlTAcz/QfCAMzOwwb4w3nCXlwi5uLka4y9BswCM8Zj13cs14AACAASURBVITj+GyMS1qAYQ4C9BswCKb2nvCft4ceNLW2tiI6OhpjxoyBubk5ZDIZUlJS4ODgAFtbW5iamrKKENHR0QgMDER1dTWmlWyD16QSKEuOInBhLUz5XjAZ5QrHiOkYl7QAY0IyYGzrAoE8AiZWDvRSc2UJ01PTJTofliQEBmZ26Pd7NZS6+Ap0LMP09/eHlZUVhg4dCqFQCH9/f8THx6O0tBTnz5+n9120aBF4PB52796N3bt3IyYmBiKRCGvXrkVrayssLS0xePBghIWFQSQSQalUYunSpfRyVSqcJCwsDLGxsUhJSaG3RURE4KWXXsK3336LxYsXIyAgABKJBJMnT8bYsWMRERHBEFFu3ryJsrIypKSkQC6XQyKRICIiAsXFxfj666978Y58fHS2ZFg8bb1WZZ+62NRdT1MASE9PR0hICABApVJhxYoVAIDq6mpIJBLcuXMHU6ZMgVKpZDyvq2EWl67ehLxwHwwt+LD0UtDLkdkegQsO4NLVm12qRpwyZYrexGr1JbZPAn2CSFdT37sragIdS4St+M5wjZ2j9bqK4kb6XvJMXQpDCz74QZMw++X9kMlkmDBhAk6fPg2JRAJXV1f4+vrSledZWVmws7PDsmXLEBcXh6VLlyI4OBiZmZl48OAB8vPzQQiBrVAJY1sXDBpqBnP3gI4qc8sxkC+ooSvfDS34MHPzg7GNM9zCp2Dv3r1wcHCAoaEh/P398eOPPzLOqb29nTWlnoOJrvZDvQ3JWblTqzL41q1b8PLyQk5ODr2ttrYWPB4PU6ZMAdBhaxEQEEBXy6uLmpRdheajsbGRrpj9/PPPkZ+fD7lcDkII7Ul67949VFRUICYmBhKJBHK5HC+88AJtfUGRUPYmDC34sAtIhmTGRph7BNLBeQMNTTHSVQbFsiNwjZ2DEU4SmNo6IyoqCk1NTY90TXsq9IiD488KpxFwsMGJmhx9Eq7B4uDg6Ct0xz9QVwLrokWLIBQKMaGkjlUYCl56CHb+SRg01BzPGY+g00uHO4pgZDUWAw1NMWSELQLmVdPPtwtIxpCRo2Bs6wJ7eSrtn0X5Ur766quoqanBhAkTIBKJIBKJYGNjwxoUBHQkjWZmZtLekdZ8Z/q1fPN3wEasgslodxjbOMPCMxi5q3di69atMFLzz9QUNdnOla1iZdOmjqV5y5Yt69JnkZKSgujoaOzYsQMNDQ04fvw41q1bBwMDAxBCsHHjRjQ0NGDLli0IDAyEQqHAtWvX6ON8++23CA4OxooVK1BdXU2nRHt7eyMlJQX3799nvO6foVqrM3Hpj9CZIEEJ8tQAurGxETY2NnBycsL333/fbU9TANi2bRsIIThx4gTD3/TSpUv0/0UiERYtWsR4HpuoSQkdmss71zWehclod4xwlnZJGOhKNWJsbOwjXOneR9/S1eClh2ElDO8QetVS39evX8+ofvsjoubt27dh7eHf4QcsmQC32DlwTyiEg+J5mHsEMu4lG7EKhhYOcAmdhPXr18PBwQGmpqaIjY0FIQSffPIJ1q5di6ioKIwePRpDhgxBREQEPfmxcuVKEEJQUFCA2tpa5OTkwGSEBfoPNkK//s9hyAhb2IgjMS6xw6JghJMEQ0e7Y5DxSJi5B8Bx/DSIFNHw8fGBp6cnrKysIBKJGGnu6snwHPrRJ8CpW61oCnCUvcTq1avpba2trRgyZAgkEgm++eYbEELw0ksv0X9XFzXPnTtHV3JmZmaiqakJTU1NuHLlCiIiIhAZGYmAgAAsXboUdXV1eOWVV3Dnzh20tbXRk5V5eXmoqamhq+/FYjEjtK6s8ezvYrg/TEa5wdTeEzxTSwxzEGDQUHNYeATBQfE8Rrr4wiV6FibOXYX4+HgQQhgTdd3ljyTNczwZ2CqUyxrPchW0jwinEXCwwYmaHH0SrsHi4ODoK3TVP1CTe/fu4datW2hpaaEHWJKsl7QGdYL0FbAShMLI2pGujlR/+Obv6PCcC81i9f+zEobDlE9o/6z4+HjIZDIt3zWgoxqTENLlc+9Kmm1PhBdQ1X2dDfaoz2LChAn0NT927Bj27NmDESNGwNzcHD///DPjOVeuXIFMJmMIpvfv39cSLoGOSlv1pfEUT6Ooqa+yj63K+NLVm1qiJtA9T1MA+Pvf/w4bGxs6VZyqcGxvb4dCoaCFAc2KzO6Img/a2jBhSofP5rikBaznuGL/e7Qw0Nm1XbNmjc42AtAOvHoSdPY9DV56GK4xs2Hm5kenvsfHxzOW3P8RURMAQpc2wCliBkY4S2FkNRYmo1xh7h4A15jZjPcgL9oPO/8kDB3tTldJnzx5ktU/k23b3bt3sWHDBkREREAsFkOlUmFJ6RrIZlVqeWoqS45CmrMFlkSJfgOew4AhQ2FowWe0bWxp7mzJ8BzanL7wdUfYnHIK45qPDcuCoQUfI5wkMLTgw5RPELjgANZt7mgPPv74Y2RkZNDBUMDD77aFhQV4PB7MzMzA4/Hg6upKf/7Ud/3GjRsoLi5GUFAQBg8eDHd3d5w+fZp+X1TFfV1dndZ7Pnz4MAghePHFFxnbL1++DIlEgsjISHqZ+qWrN3+3LXCAeHo5TPlesJVMgLLkKGwlE2Bo4QAzNz8ELzlIt4/Xr1+HWCzGwoULH/n6didpnuPxoq9CmXro8y7m0A+nEXCwwYmaHH0SrsHi4OB4Eujz/lKv0qBQ9w8EOrwdN27cCJVKxbr8zTdjuZYwRIXyeGeuYe38Uknkeh+WDvRgRiKRIDk5mfX8Zs+e3S1Rsys8anjB3bt3oVAokJqa2ulrUeJUdXU1vY0QAk9PTwwbNgxLlixhDWuZPn06o6JWnQcPHuDXX39FS0sLLdC8/PLLjH2eRlFT3+fKJmquazzHKmp219N0y5YtGDJkCNzd3TFx4kTG3xYsWEB/l9Qrb4HuiZpAR+XXhLhEWPGd4eAXjXFxcyCdvASx0xYiaWI6VCqV1rWdMWMGa6hDa2srJk6cCEI6ArBeffVV1NfXY8uWLcjOzmYc60nxJDwAKZ50anNnAgO1jJhbsttzlDWexUhXGUa6+DCutZmbPwwtHTB4hC0MzDu8m4eP9YbDODEcHR2RkZEBd3d3mJub023ZjRs30NTUBBcXFwwbNgx8Ph8KhQJNTU306oisrCwEBQUhOjoaBQUFqKmpga2tLUaPHg2JREK3FxEREZDL5awemlTquqbdAAAsW7YMhBB8+umn9DZrfseqhY57yAF2AclQljy0c6AmTNTvq8TERKSlpXXpGra1tbFOTnL0bTiLgN6F0wg42OBETY4+CddgcXBwPE664v01Z/1+rZl1zWqhOXPmQCAQ4MUXX0RTUxNOnjyJ5uZm7N69u8N3b1G51nH5QZNgaDkGFp7BCFxYy3jtKZvfgdekEtr7TZf33+x1D0W+xy1q/tHwgi+++AJNTU30QFIzMEKfwPz+++8z9n3rrbc6DWoRCoWM5zQ0NCA5ORne3t5a+2oug38aRU19QhSbqJlQ9iarqAkAX331FcPTNCIiAmVlZbSPnToVFRUYPnw43N3dsWnTJsbfqEqq6Ohored1V9QEOqqpq6qqkJqaCh8fH0ilUkRGRmLevHl4882HwlpnomZ3jvWkeJLC4pNObe5sya6hBR+hKdO4yqkeJKHsTYwJyYChBR8B8ztsUzoCujrEv0FDzTF4uA1EU8vgHJmLATwDmJubQ6VSYe3atfDy8tJqywgh8PDwACFEy5syIXUyrPjOIHEv0L8XVnxnJE1MByEEmzdvBtAhampOllDExsbC39+f9W9U+JT6d5kQAnsXojXJOGioOQYNNYdoahny17yKrKwsyGQySCQS2Nvbw8vLi+FVCzz0Ab158yZKS0sRGhoKoVDIGqTE0Xfhwpx6H04j4GCDEzU5+iRcg8XBwfE46Yr3l3jaeq2ZdXVR89dff4VAIKCTm9Wpra3tWGq7ex/rcQXPr4CR1ViYuftDXrSf3uf/XfkFCyoOd4ifwZN0zvarD8Z7cvl5T1w/XZUJ1LVTKpXYtWsXvf2PCMzHjh0DIQSrVq3SG9ZCsXfvXtrrsaGhAe+99x6am5vxwQcfsAqYT1LUbG1txdatWzF58mStUCN1UVBd1Hz77beRmpoKiUSC4OBgLF++HDdvMgdP7e3t2L9/P5KTk+Hn5wdfX19ERkZi4cKFuHHjBqOyTzJzE2zEkTAZ7Q4ja0eMcJbCOTKHXlqpLOmo7GMTD3UJioD2pEBWVharIK157Y8cOYL09HT4+vpCKpUiNTWVNSBIMxGZsotgWzrc1taGsLAwREVFaQkOXTkXfX/rCzxJYbGvDPR1Ldl1dffo85MWfzbGl74G4ZRVdAiUsuQoPUHnN2cXjG1d4BKV19G+zNgAIws+9u7dC0D3BA0hBF5eXpDL5fTvG/V7YUlCYGjpgKDFDQyx2i4gGXYuXphbUAAAdFAQGzExMQgICGD9my5Rc9q0adi+5wCs+M4YLQqDcNIyOCtSYT7KAYVLX4RAIEBERAReeeUVVFdXY8yYMTAyMtKaOKNEzZSUFGRnZ6O6uhr79u3DZ5999oeuP8eT4UlP4DwNcBoBBxucqMnRJ+EaLA4OjsdFZwNuzao09QG3uijT2trKKmq2trYiKiqKriKjBDvN43pnroGxtRNGuvgiYH41LQC2t7cjIioOoxzHIaxwF6t/lrpn35YtW+igIHXUqxl7mp4ML/gjAvNnn30GQgidlN0ZKSkpUKlUWksQv/rqqz4nanY11IgSAtLS0uDr64v169fjwIEDWLRoEQjpCLpSD7KqrKxkBGJQwUoTJ07ExYsX6co+78w1MLIai6Gj3eEYMR3uCfNhI1LB0IIPK2E4FMWNdGXfo4qap06dwty5c2mLASrgQ92Ps7S0lH7f1dXVqKmpoat9qWosCk1R88svvwQhBGvXrtV6L//85z9BCEFVVZXOz+LPLGo+aWGRW5L510azsj6k5CiCFtXB0HIM7PyToCw5Cn5gGkY4iaEsOQobsQpWglAoSzrC5UysHOjJBl2ipouLC8zNzVFWVkZvo+4rSxKCYQ6EcS9RouawMUJIQ+MA6Bc1c3NzYWtri5CQELqCn5o4opafX7hwgd5f/XdB/d+NjY3w8PCAp6cnQkJC0NLSQj8nIyMDtra2Wm0FJWoWFRXpnFTh6Ps8aauNpwFOI+BggxM1OfokXIPFwcHxuOhsZl1TfFSfWdcUZXJzcyEQCFBSUoKGhgZs374d48ePp/32GhsbaQGQbQmveNp6GNu6wE0sx3dXrtCv88UXXyAoKAhisRjLly9HTU0NampqsH79esTFxTEEt9u3b2PChAkQCAQoLi5GbW0tXnrpJfj4+CAxMbFXRE2KRw0v+KMCc3t7O5KTkyGRSHDp0iXWY6sLvxMnToRKpcKDBw/obe3t7SgqKupzomZXQ40oIYAtlGfXrl1aIkFKSgri4uJ0vm5Z41koihsxfKw3jK2d4DdnF+OzsJenwtCCD4+UxfT34lFFTV3bKCjhsbKyUutvK1euhFAoZDxPU9QEOkQF9UovilmzZkEsFuOXX37ReU2oc2lubkZlZSUiIyMhFosRGRmJ3NxceHl5Mc6zpaUFZWVl9H6BgYEoKCjQGTLT1NSEjIwM+Pn5QSqVIjo6GitXrmT4jtbX12PmzJkICwuDSCRCcHCwzmNSAs5XX32FvLw82LsSmIxyxWhZPF0R7pGyGGauso5wIAcC15jZrMLi1atXsXz5cvp1lUolli5dih9++EHn9VKHS23+a9JZKIqFZzBM+V5QlhzF8LHe9IoDt7i5MLJ2RNDiBlh6KTDWU0IfU1PUPH36NA4dOgRjY2PY2NjQnpfqvxeWJATDxgh1ipqWJASXrt7UK2ouXLgQPB4PQUFBOHLkCJqamnD//n18++23kEgkWhNh+kRNBwcHODk5abVV1FJ0Qpjp7pSoefHixUf+TDieHE/Su/hpgdMIONjgRE2OPgnXYHH0NGx+axwcQOcz65pCmvrMuqYAc+vWLZSWliIsLAwSiQQxMTGoqqpCc3Oz1v23bfc+WPGdEZy/iSEAvnbiFORyOcLDw3H58mV6/59++glr165FVFQUxGIx/P39ER8fj9LSUq3U8OvXr2Px4sWQy+WQSqVIT0/Hhx9+SA+c+iqPIjB3R/itqqqilw7W1tZiz549mDJlCi0+9yVRUx19oUbU/6dPn671vHv37kEmkyEhIYHelp2dDT8/P5w5c4b1tS5dvQlpzpYO64PANK3Pwr9gDwwt+LD5PfGXSj/vTVFz3rx5EIvFuHbtmlYY1KlTp0AIQUNDA70/m6j5+uuva3ny/fTTTxAKhSgqKmK9FprnQoni1JLSjIwM8Pl8mJub0+d5/fp1qFQqyGQyrF27FvX19aisrMT48ePh6+urJV5QlWBJSUnYvn076uvrsWHDBsTExDCuRVRUFAoLC7Fz5040NDSgvLwccrkcfn5+uKI2EQJ0iJpRUVEIDg7Giy++iAMHDiAyPR+Glg6wJEq4xszGMAcBnCfkwj1hPiw8g2HNd8brb7zBOM4XX3wBuVyO4OBgbNy4ka7qDQwMhEKh0Apt0kdvpjarVyJzPB46q8B1Us2EoQUfgvSVMLTggzxfCmXJUfi8UEH/38hqLGbkz6WPqSlqZmVlQSgUwtjYGOnp6fR+6r8XXRE11zWe0ytqFhYWwtzcHIQQvPDCC6ipqaHvc7FYjFOnTjEqUo0s+HBWpqGs8SzDwqCxsRGjRo2Ck5OTlidmVlYWQkJCQAhBbm4uvZ36bb5z504PfTJ/TnraG/pxw1Vq9j6cRsDBBidqcvRJuAaLo6fhRE0OXXAz632HRxGYga4Lv21tbaiqqkJ0dDQkEglCQ0OxcuVK3Lp164mLmmwBSc8XrUNEVJzeUCNqMMi2tBoAXclKcf78eSiVShBCEBoaivnz56Ouro7h0zmtZBsMLfhwi5vL+nmYjHLFSBcfurKvt0XN+Ph4Vs9N9ccrr7xC788mav72228IDg5GZmYmvW3Hjh1dWjpOnUtoaChu3bpFb29ra4NKpQKPx0NVVRUqKythb28PAwMDBAcHo7Kykq7wunXrFsLCwvD888/TVZxOTk4wMDDQWanV3t5OV3FSIUTqVZxffvklxGIxVq1ahX379iEuLg52dnYYMGAA+vfvD2tra4YP67xFJXiONwTPGQ7FkGHWGMH3gPkoBww1HYaBAwfCzMwMy5cvx759+5CYmIhhw4Zh+PDhmD59OqNSVaFQwMDAAPb29oiKikJoaKhWFWdXq1Xb29uxc+dOZGVlQalUQiQSITQ0FMXFxaxp1NR38syZM8jOzoZMJtPph8jRO3TF0kA8vRyGFnyMdPGFoaUDAhccgLLkKBTLjsDU3hMjXXxhzXdm9M10CVsymQz5+fn0/9V/L7oiaiaUvalX1MzOzkZ4eDgqKioQHR0NsViMgIAA5OXl4dwnn2gJuNTxqX+HJHeETTU2NsLW1hZOTk44ceIE4zWysrIQGhqqU9R82nmcouY777zT46/DeWr2PpxGwMEGJ2py9Em4Boujp+FEzb6FvoGFJr3dyeVm1vsOT7PArGsZp1tcAe1fOWXByzjx7rusoUbU90Tdb06dpKQkSKVSxrY7d+7gxIkTWLt2LZKTk0EIQVBQEL766isAwGuvvw5rvjPc4gp0ipoePgp6yTCbgHnkyBGdguHmzZu7JWrGxsZCJpPpDYNSr1ZkEzUBoLy8HIQQfP3117QgGRMTo+ujoaHOj235e3l5OXg8Hry8vBAWFoZRo0ZBpVIhLS0N48aNw/z58+mq0vnz58PY2Bg+Pj5Yu3YtVCoVbG1tERgY2OUqzvLyckRGRuLTTz9FS0sLEhMT4ebmBkIIEhMT4erqCjMzM1p0TE5Opn1Y33zzTRgZGcHZ2RkGBgYYN24cHB0doVKpYGRkhCFDhmDUqFEwMzPDsmXLYGdnB29vb4wePRp2dnZITExEaGgoysvLIZVKMXDgQBgYGCAsLIxRxRkQEAClUtmlatUHDx7Az88PxcXFqKqqQn19PVavXg2pVIrw8HCGiAx0iJoJCQnw9fXF6tWr6WNzPD66IuAELz0MYxtnGFrwYT5OzvjbaL8EWPOdQQhhVPvq+s2fMWMGJBIJdu7ciTfeeAPez7+IoMX1OkVNZclRBC48gMHDrfGc0XAYWztCoVCgqKgI33zzDX1c6nutL6Css4pUSuCkJngoD2u2e/Kjjz7Sufz8aae9vR337t1jWMP0Fr1xzZ+0d/HTAKcRcLDBiZocfRKuweLoaZ6EqMkthdNNXxI12QZmzpE5EKSv4GbWHzNPs8Csa9Bs5u6P4WO96UAeatCsGWrU3eXnbFCeldQxL1y4AEII8uct1FoyvKzqOFzdPfDCCy/Qz2cTNaljvv3221qvR3mYdlXUnDVrFgghDH9UfegSNa9cuQKBQICysjJaHP773/+utZ9m1azvlGWw4jtjT90RrX33798PHo8HGxsb2m6CeowYMQI8Hg9OTk4ghGDkyJEYMmQITp8+DQCIi4uDTCajqzizs7Pp47799tsghGDWrFm4f/8+zpw5g+nTp0MqlTJew9HREUZGRsjNzcW9e/dw//59REREIC0tDQqFAn5+fti3bx8IIdiyZQuMjIxga2sLPp/P8GENDg4Gj8eDm5sbPDw8kJ+fD0I6UqcHDRqEfv36wdDQEB4eHiCEYOjQoTAyMsLUqVNBCKHtDK5cuQIrKyvY2Njg66+/ZlwrtvMEwLr0lrqWmsFn1HmfPHmS7aPneAx0tb2mgsWcxk9jWA5s3bUXhBBER0czjqvrN/+7775Dbm4u/P39QQiBiZUD/OZW6RQ1gxbVYaSLL54dyIOBmR0kkxZh3bp1kEgk8PPzw+effw6g415tampCbGwsgoKCtALKuiJUqVdtXrp6E7dv34ZMJmOt6s7JyQEhBB9++CG9nRM1Hz+9dc25ULTehdMIONjgRE2OPgnXYHF0hwcPHmDv3r106q+vry/i4+NprzmAKWq+8cYb9FJMhUKB1atX4+7du4xj/vzzz1i/fj1SUlIgl8shFosRHR2NLVu2aAVMqB+7oaEBSUlJkEgkmD17Nr3Pf/7zH2RnZ0MqlSIgIADz58/HDz/8oFPcO3v2LPLz8yGXyyESiTBhwgRs3rxZ67Vv3bqF9evXIyoqChKJBAEBAUhISNBZrdVXuHfvHn777bcu7dvboibbgEV9gMLNrD8+ntalW/oGzebj5L+LmofpbRe/b9EKNepuUBBbIM7169c7RMzfl3hSVYxSqVTLr3H58uUghODw4cP0NjZR8/LlyyCEoLS0lPH8b775BhKJREvA3LNnDwgh+PTTT7Xe3/Hjx0EIweLFi7WS64GOkCz1NlKXqAl0hHoFBgYiPz8fEokEN28+/F7rqpql7A8E6Sux/igz1IYSNYOCgnD+/HkQQlBQUIDm5mbs2bMHjo6OyMnJwYkTJ+Dk5IRJkybhxx9/REtLCyIjIyGVStHS0oJly5ZBKBTSv0mzZ88GIQTffvstPv30U3h7eyM6OhrV1dU4ceIETp06hebmZri5ucHIyAhnz56l31NERAQyMzOxYcMGeHh4oKamBoQQzJ49G0ZGRnRlp7oQPmnSJPB4PJSXl0Mmk8HPzw+EEKxatQp+fn7g8XhYuHAhmpub0dDQAEdHR+Tn5+Of//wnxo0bh+LiYrS0tODKlSsYPnw47OzstPxP2c5Tnba2Nto7tqWlBQEBASgoKGDsQwhBcnIy62fL8Xh40pX1nf1eOKlmwNCCD5eoPMbvxZkzZ0AI0ep76WovuvK7pN5noF7n0KFDEAgEUKlU2LFjB6qrqzFlyhSGbQhFXxA1W1tbsXXrVkyePBlBQUEQiUQM2wp1fvvtN2zevBnh4eGQSCSIi4tDfX09629Ad/rTbP099W2nTp1Ceno6pFIp5HI5Fi1axGi7gY5qz/379yM5ORl+fn7w9fVFZGQkFi5cSE+IRUREsFbn9kQ/kwtF6104jYCDDU7U5OiTcA0WR1e5f/8+Zs6cCUIIMjIysHPnTtTV1aGsrAzh4eH0fpTwmJ6eDqVSiW3btqGurg5z586lB2zqNDc3Y/z48Vi7di3279+P/fv3o6CgAAKBgFGZpH7slJQU+tgHDx7EkSMd1TwXLlyAVCqFn58fNm7ciJqaGhQUFEClUiEoKEirY93U1AShUIiEhARUVlaivr4epaWl8Pb2RlZWFmNZzvTp0yEUCrFy5UrU19ejpqYGZWVljzzYa2tr0+psPikeh8eSPq+sp2lmXZ//4eNAl7jH9nkYWvCRM3t+l47b18MH9A2aXWNm/b78PAzuiYVwjZ0D7+AorVAj6hypyZ3169ejtrYWixcvBiEEsbGxjBTtwMBA5OXlYfv27Th06BCqqqoQFxcHQh4mqgPAyZMnIRKJEBQUhC1btqCmpgZ5eXm0GKYuLuq6f/Ly8iAQCFBSUkIvnZbL5Zg0aZKWqHnu3DkQ0hHidPjwYRw7dozhh7pixQpa0Nq+fTsOHjyIyspKFBYWQiKRdJp+TnHixAl6ILto0SLG33RV2lCiJiWSRKx4ja48m5A1D88NGoSpU6fi5s2bEAqFtGfer7/+SnvoUdWv6o+RI0fS1ZHUNmo5LlXFCQBlZWUghGgJzJeu3oTxMDP0f24wQpbU0T6sI0aaY/jw4RgzZgx4PB5GjRoFQgiys7NhZGREC5bqPqxZWVng8Xg4dOgQkpOT6YrMFStWICkpCTwejw4/oZbYEkLg6ekJHo+HESNGgBACFxcX8Hg88Hg8VvFA8zyBDo+79PR0iMVirf00qzoJIZg/v2vff47e4UlX1ndWQTnSxRfGti4IXnJQa0IyOzsbhBC0tLTQ23S1F105T/XfKPXzPHnyJJ14LpFIkJiYiH379mlNyvQFUfPbb79FcHAwVqxYgerqatTW1qK4uJi2rbh//z69uMjgkwAAIABJREFU77x58+jfgH379qGiogJKpZL+XVL/DehOf1qfqDl58mTI5XKUl5ejvr4ey5Ytg0AgQF5eHuMYlZWVIIQgLy8PNTU1tCXGxIkTacuLd955B5mZmSCE0JW5TU1NuHTpUo9dz94MRXua4TQCDjY4UZOjT8I1WBxdharqWbVqFdrb2wEAN2/exNKlS6FUKiEQCJCcnEwLj8HBwVoVSjNmzIBIJKKXizc2NsLLy4teGqgO5QF34cIFeht1bH9/f/z8889az0lPT4dQKMRnn33G2P7SSy+BEIKoqCi60vPGjRvw8fFBbm6uVqf3zTffBCEER48eBdBRlSQQCLBixQqt16TEBSrQgQppiIyMZIRWAA870zdv3kRpaSlCQ0MhFAoZqZ09XTmqq0L1jTfeoCtdQ0NDUVZWhi+//FKnIHXkyBGkp6fD19cXUqkUqamprBYD1Ot99913mDt3Lvz9/SGVSpGdnY2LFy/SM+viaethaMFnfZS8+o+//Mz6kxY1AXZBiU3UtOY7dzm8p6+LmvoGzYriRrjGzMIIJwmMrB1hyidwC5+iFWqkfo5vv/02UlNTIZFIEBQUhGXLlmm1e7t27UJWVhYUCgUd7pKbm4tTp05pvb9PPvkEeXl5CAgIoKtsKioqtL7/uu6flpYWLF68GAEBAZBIJJg8eTJOnjypc6n5nj17MGHCBIhEIsY5Urz11luYPn06AgICIBKJEBYWhmnTpqG6urrLlZptbW0IDw8HIQQfffQRvV2fUEKJmqZ8QgeeUJ/RsDHeeKb/QCTkLMGDtjbMmjULAoEAH3zwAUPUpKo4c3JyaB/QzZs3w9HRESkpKfjggw/Q3NxMnwflIwo89AL97rvvADysKB2XWIT+g43w7EAeAhceoH1YnzMagTEeYrz88stwdHSkBe6srCwYGRnRy3jV22dK1GxsbKTbYmplw/jx48Hj8ejwk2PHjoEQgiVLluD48eNwdHREfHw8mpubsXfvXjg6OiItLU2vByp1nu+88w4I6UiWr6mpwbu/e8c2NzcjMDBQ6/eC7b7geLz0hcp6fUt9jawdYebmzzohuWbNGhBC8J///Ifepqu9eNIVqY+L+/fvM4RLioMHDzImu06dOkVXolP9bgC4du0afH19tX4D7t69y1pZz9af1idqSiQShhcqALz44osghODy5cv0tpSUFMTFxXV6vn1BSOboPpxGwMEGJ2py9Em4BoujqyQnJ0MqlTIqkIqLiyEWi1FRUYGmpia8//77tPC4ceNGrWO8+uqrIITQaayaA/P79+/j1q1baGlpoZct1dTU0M+njs2WOvzLL7/Qg1lNfv75Zy1Rk1oeePz4ca3ler/88gt8fHywcOFCAB3LfyQSCVJSUrQqd6hzmDhxIlQqFV555RVUV1cjIyNDazBIdexSUlKQnZ2N6upq7Nu3jxZhe6NylE3UrKuro69HZWUl9uzZg9TUVKSlpbEKUqWlpfRsfHV1NaOCbPPmzVqvFxUVBYVCgeLiYtTV1WHz5s3w9fWFQqGg75/TF75G5pJNMLFygLUgBLLMF5G5ZBO27znwVHik9gVRk23pVvCSgwhe+nD5dXnTJ90SNfq6qPm0DJr7EtTS+tjYWMZ2fUINJWpSlgDOE/LgFjcXlkSJQUPNMWCICVyi8lDe9Al++uknREZGQigUIiMjA6NHj0ZaWhrWrFkDU1NTuLi4MF53yZIldAXqjh070NDQgM2bN2PMmDFwc3PDd999h3PnzkEoFCI6Ohqvvvoqni9ci9F+CTAZ7Y7Bw63x7EAeJDM20D6sVOpzUl5HG09NAmqKmurLzylRs76+nvZh/eKLLxAUFARTU1P0798f06ZNQ01NDRYsWABjY2MEBgbi7NmzIORh+IlmtWpnzJ07FxKJRMtX83//+x+EQiEnavZB+kIoSoewf65TUXPdkXOMScnuiJpPuiL1SfDgwQPaAoL6/aQsnVauXAlCCKOCnoLql+nqQ3TWn9YnahYVFWkd7x//+AcIIXjvvffobdnZ2fDz86P9fXXBiZp/TjiNgIMNTtTk6JNwDRaHLjSDG0xHOcNDFsLoLIeEhGDWrFmM51HC48GDB7WOSQk5VAeI+n9xcTFiY2MhFAq1lsJt375d69gHDhzQOvYnn3yiVQmjjr+/PzIzM3Hv3j20tbVh1apVepfqUcsyKRoaGmhfuri4OJSUlODtt9+mZ9bZTOop4Y86X6pjV1RUxJh1B9BjlaOaaIqalKl+WFgYw7vp3r17rKImFT7Cliy6cuVKCIVCRvUX5Z9EWQJQvP766yCEoKGhgbH9aR0wP25Rky0YhOLC5etYc/CMzqVbfyVR82kcND9pKH/Offv2Mbbr+ywoUVM0tQwuUXkY7iiCkdVYDB/rDWtRBAzM7ekqTiosZNOmTeDz+Rg8eDA8PT0RHR0NkUgER0dHfPDBB/Trtre349ChQ5g8eTLEYjF8fHwQHR2NrKwseHp6Ys6cOXjw4AHeffddTJw4EV5CMUxGu8NGMgG++Tsw3FGMZwfyYCNWwcw9gBY1zT0CYWrvCYFIgjlz5rCKmuo+rJSo+cILLzC+Mz/99BM8PDzQr18/GBkZ0d7V7u7uGDduHG0loN52zJo1Cx4eHozzVEc98Gn+/PlaE5QAsGHDBvo9q/O0ttF9jb4QiqLrPWguP1d/D9OmTQMhhFHB/iiemr1dkdobaPanKduKiKg4eHt7a/U9KR9QKujo9u3bWsesrq7Wagfa2tqwe/fuLvWn9YmampPVwMP+t3rf7vz581AqlXQfeP78+airq9PyBeVEzT8nnEbAwQYnanL0SbgGi0MTXcENxtZOMHOVQVlylA5uEAgEWoMdfennmkJOY2MjrKys4OjoiHnz5qGxsRHvv/8+mpubceTIEa0Ol75jd0XUVB+sUX5x9fX1OpfraQZo3LhxA4cPH8ayZcswfvx4EEIQEBAALy8vVtFPs6KG6thRXkPq9FTlqCaaoiblzbZz506tfSnhUf2az5s3D2KxGNeuXdN6X9TSKHWhMiIiAkqlUuvYLS0tIIRg/fr1jO1P64CZ+i58+OGHqKmpQUxMDMRiMcLCwrBt2zYtYfvrr79GUVERFAoFxGIxVCoV1q1bpzXYUbdD2L17N2JiYiASiejqZmowefXqVSxYsADBwcEQCAT0Pcn2eVDbzpw5g4yMDPj4+CAgIACFhYW4evUqY199oua7776LadOmwd/fHxKJBPHx8dizZw/rcrne4q86aP4jdDWsojvhEZSPZXl5Od59910cOHAAISEhCA0NxZ07d7Bx40YQQvDxxx93u2pWVxVnQs5SVFdX075tixcvpt+PehXnggULUF1djbq6OmzatAkTJ07E1KlTGdeErYozZloRRrr40OnPypKjsPNPgqEFHya2rhhkPBImo1xhYGGPQSYj4TBOxPBhjYiIQGpqKghh+rCuWrUK5ubmsLe31/JhpTw1qRUAO3bswLp162BhYYHBgwcjICAANTU1qKmpwfr166FSqTBmzJgunSc1SZaamor9+/dj3759yMvL0+k9/bS20X2NJx2Koq9a9Dmj4RgwZChcovMZ1aIff/wxq1CuS9TsCxWpPYmu/jRlW2ElDMeUBS/jxO8WEB988AHj+9ZdUZPyAu5Kf7qzoCBNdPW/79y5gxMnTmDt2rVITk4GIQRBQUH46quv6H04UfPPCacRcLDBiZocfRKuweLQRNdMvJmbP4ytnRC0qA52Acmw5jtrzQI3Njbi3//+N1xdXREXF0d7yIWHh2P16tXYv3+/lqhpYGCAqKgoxnv49ddfkZubCyMjI4wePRoKhQJFRUV0x4zqVKl3wI4dOwZTU1OYm5trDbbZlp9THcJjx44B6Jpn5KWrN7FgexMcg5IwfIwAPJOReHbAQAwcOBCOjo70jDslCHz00UcYPnw4LC0tQQiBQqEAIR1BD5qDxJ6qHFVfog5oi5pUOjPl1abOxYsXtTq08fHxnb6vV155hfF6U6ZMYb23qKpczW1P44CZEh/T09MRHR2NyspKHDhwgA5VqKqqove9ePEiZDIZpFIpXn75ZRw4cAALFiwAIQSJiYmM5frUcVNSUhAdHU0LM8ePHwfQMZgMDAxEeHg45s6di5qaGlRVVeGHH34AoFvUTEpKgo+PD1auXIna2lq6SjckJATXr1+n99U1KNq5cycIIZgyZQqqqqpQV1eHBQsWQCAQ0GL94+CvNmh+FLoaVtHd8IiJEyciODgY4eHh8Pb2RmpqKs6fP48HDx5AqVQiPj4eQPerZnVVcVq4SGihf8eOHVpt4O3bt7FlyxbEx8dDIpFAJpMhOjoaixcvxr/+9S/GvupVnL6+vvDx8YGlmw/MPYJgYG4H8bT1UJZ0eHu6xRVgpIsMg4aao/8gAwwYbAxDy7FaPqzqoqa6D6ubmxsMDAyQkpKi5cNKiZqaXs3U9ZswYQLEYjH8/f0RHx+P0tJSNDc3d/k8Dx8+jISEBEgkEgQHB2PhwoX48ccfWe1KntY2uq/ypEJRlux6E86ROfDJq9D6ThqY2WHwcOsOT2b/RLgnFmJCRgEd3Pj5558zjqXPg7cvVKT2FDr707/bViiKGxnn8tVXXzG+b91dfi6Xy5GZmam178mTJ3tN1NSEWt2j3mYUFxdzouafEE4j4GCDEzU5+iRcg8Whjr4Bv1vsHBha8OGgTId4+gZ4pi2Fq7sHMjMzcfToUTQ1NeHKlSuoqqrC4MGD4e3tjYqKCjQ0NGDdunXw8fGBVCqFh4eHXlGztbUVcXFxGDZsGMzMzDB16lSsW7cOEokEXl5ecHFx0RI1qcG2SCSCvb09cnNzGYNtytNJXdT86aefIJFIEBsbS88iq3tG5uTkwMPDA5s3b8Z/W1uxpuFDyBfUwNTeE0PtPOAUMQN2AcnoN5CH//vbM7AYPRaHDh9GU1MT7t+/jwcPHmD8+PEwNDREaGgompqaMGPGDFoI1Bwk9lTlaFpaGu7evUvv86iiJhWeoS+AQr1aVFcwEaC/CvBpgxIf4+PjGZ9XW1sbYmNjERoaSm/LzMyEQCDAxx9/zDjG9u3btT4v6rgTJkzQWl4KdAwmCSHYsGED6/vS9RmpTwBQUOEl6kI126Do0qVLEAgEePHFF7Ver6qqCoSQTj25epK/0qD5UehqWEV3wyMOHToEQgjefJO5dP/tt98GIQ+XoXe3albXo7d9T8eXvkYLqZSo2d33011bhr7gucvBoU5w/iYYWvDhkbJY6543tOBjlG8cxoRkYNgYIYysxmKEgycKCwu12gxAv6j5pCtSewp9/WmqylxR/NC/+uL3LSgqKmL8Bv/rX/8CIV0PCgoODtYSNe/fv09Xsfe0qKk5GQMA169fByEE+fn59LbVq1eDEMKo6ufo+3AaAQcbnKjJ0SfhGiwOdfQNMoOXHoaVMByGFnxYEiVcomfB1MwKISEhdOf03r17kEqlMDExQV1dHePY586dg4ODA2xsbBiipqWlJRwdHVFQUID6+npMmjQJJiYmdBUi1bk6c+YMnJycMGzYMC1Rkxpsnz9/HhKJBH5+foiIiICdnR2ys7PpZXXR0dGMTllTUxOcnJxgYGCA5ORk1NfX49VXX0VpaSkUCgUmTZrUEcCweheMbV1gPi4QzxmPgJ08BY4R02Ey2h3PDjJAv/7PwXlCHkMEuXz5MpycnDB69Git5ef37t3TEhM0K0e7S3t7O9avX6/V6XzU5eezZs0CIYThyaYPTtTsGpRoUV9fr/U3agDQ2tpKB2CpB4xQ3LlzB76+vkhISNA6bnV1NevrUqKmuv+rOro+o+joaNb9o6Oj4e/vTy8hZxsUUfflp59+qmVh8M0334AQdg+v3uKvMmjuSfSFVXQ3POLOnTsICAjQumdzc3MhlUrpe6+7VbO6Hr3te5pQ9ma3RE229/NXEjWf1jb7acd3RrleUdMuILlHJxueVEVqT6GvP+0aM+v35edhcE8shGvsHHgHRzFsKyjmzp1L9wH279+PiooKKJVK2ltXfUKQquyk+tO7du1CQkICfdyeFjUDAwORl5eH7du349ChQ6iqqkJcXBxjUgx42LecN28ejh49imPHjuGLL77oqUvN0UtwGgEHG5yoydEn4RosDnU6Ww4YvPQwXGNmw8zND0bWjnh2wHNwdnZGeXk5AOC9996jhby9e/dqCRgSiQSmpqYMUdPLywtz585FREQExGIx7THGVjUYExMDHo+HvXv3AmAfbH/yySeYOnUqnJ2dMWTIEKSmpuLatWuQy+VITEzU6pRlZGTAwsICAQEBIITA398fiYmJWLNmDV577TW4unvANXYOxoRkwJTvhX4DBmGgoSlM+V6wl6fA2NYFzw7kMUIrAODDDz/EiBEjwOfz6fPV5yukXjn63//+V+vvVJIl0CEasAW/vPHGGyCkI3mXQlNk/PXXXyGVSrscFESFfCxevJjV+/D27du4d++eztdTh20wLJPJGDP6f0XYQgKmLCqHq7sHmpubtfavqKgAIQRXr17F+fPnQQihPTE1SUpKglQqpf9PiSHvv/8+6/5ZWVkIDg7W+V51iZqzZ89m3X/27NkM0ZttUEQFZul7UMEIj5M/+6C5O7Ddg2WNZ7Gpcg+Sk5P1hlV0NzwC6KiOFwgE+O677wAAP/zwA4RCoda91dWqWX2P3vY9LWs82y1Rk+39PC5R8/vvv0dFRQWrb3NPwYmaTx8VFRUwsXKAoQWf8Rg2RsgQNaW5W2ElDIexrQuG2bli1qxZjCBBdbpi+fNnRl9/WlHcCNeYWRjhJIGRtSNM+UTLtoLi3r172LRpE8LCwiAWixEXF4eGhgbazkk9Vf7u3bvYsGED3Z9WqVTYtGkTvv76614RNXft2oWsrCzaakqpVCI3NxenTp1iPLetrQ0bNmxAeHg4HWDUV8MEOR7CaQQcbHCiJkefhGuwONTpbnCDoQUfObPn08+nlpLqe0RGRtL7sw3cJBIJkpOTWd8ftYyc6sR1dbBNVbvNnDlTq1PG5hnp6ekJKysrGBkZYcDAQRg83BqjZfGQzd4Je3kqDC344Jlaov8gAzw7yADPPNsfz/6+DN3awRWenp4YNmwYBg0ahGeffRY2Nja0MES9BtugcOPGjTAzM8PQoUNha2sLT09PjB8/HnPmzIFCoaDf91tvvQVra2uMHj0adnZ2IKRjab1MJoNMJqMHERUVFTAyMkJiYiI2bNgAlUoFb29v5Obm0s/ZuXMn9uzZg9TUVFZRE3i4ND45ORnbt2/HwYMHUVlZicLCQkgkEq308+6ImjNmzIBEIsHOnTvxxhtv4NixYwyPyD8zukIClCUPfQHnrN+vVRFIiZrff/99pwFYukRNXWKIvmV/gG5Rc86cOaz7a1bysg2KqPvtxIkTOi0MvvzyS53viaNrsIVPicRiOBFfOKlm0v5t1GNs2FQMGGIC42EjMWbMGPj4+CA/P5+uvqTugz/is0Z5w1E2B1u3bgUhhE7+puhK1Wxnj94WoS9dvak7jd1RBJeoPMa1vXT1JlpaWlBWVkZ7Yfr4+GDkyJGsFgxs/FFRs6u+d48CJ2o+fVy6dAkx04pgaMEHP2gSPNOWwjNtKQTpK+i+oJmbP0xGucFB8TzGJS1AZPpseHt7IzExUWtClPKDVLf8oSa/HmfVfm/S3f50dytbKR/2rq6i4eDoLpxGwMEGJ2py9Em4BotDne4GN1Cz81Qa+u7du0EIwfbt23WKF2fPnqVfr6dETfXBNlXBqD64o563bds2rQGfpmfku+++i6CgIDg6OuL555+Ha3g67AKSYWTtCBNbV/i+sB2yWZVwHJ+NEc5S9BswCP/3t7/ByMYJ/QcbwdBsFJydneHm5gZLS0uYm5sjJycHTU1NdLgL26Dw8OHDEAqFdHCDh4cH7OzsYGlpCblcjs2bN+PatWs4ffo0vL294ezsDG9vb7i6umLUqFEwMTGBk5MTLly4QB+TEjXt7e2RlpaGqqoq1NbW4vTp03jttdeQmJgIsViMkJAQlJWV4csvv9QpXrz11luYPn06AgICIBKJEBYWhmnTpqG6uvqRKjW/++475Obmwt/fn742uio7/mzoq0JTr/zS9G5UFzX1LT+/e/cuZDIZHbwC9J6oqW/5uZ+fn97l59T3jy3sgKPnYAufer5wLawEoTC04MM1ZhZ9//nkVaD/YCM8+9wQjAnJwPOFa+n2KSIighFm9kfDI6gKnnv37iEsLAyJiYk637tm1WzEiq4JAo/L9zRz8QZG4rrzhFy4xc2FpZeSsfS2vOkTXL9+HSqVCjKZDGvXrkV9fT0qKysxfvx4+Pr69moVJSdqcvQWDW+c0Lv83NDCgVHJfOnqTVRWVoIQwqjco4JkKisrtV6DCqD7K/QButuf1mWjwbYq54cffoBMJtPZV7558yaWLl2KkJAQCAQCnftxcOiD0wg42OBETY4+CddgcajT3eAGzcEctVR59+7dXXo9NgEmPj4eMpmMIZRRTJs2DYQQ2pycbbAtl8uxevVqrFq1CqNGjUJ4eDgIIcjOzsbp06e1BnyalWZURRHV4aZm28XT1v/uJxrCuAZD7cbhb888i+eMR2DIyFEQpC0F0DG49PLyQn19vVYar+agkFp6HhERwWq8TglG9+7dQ2hoKJKTk7U6uufOnYNQKMT27dvpbZQ4lpGRwRoIwtF7dOYXqLmcVb3aTF3UBDosEgQCgVaV244dO2ixnqK3RE1CdAcFqe/P9p389NNPIRAIMHXqVNbv9d27d1lDjTi6h2b4FHUPKoobMcJZClM+oe8/S6JE/0EGMLF1ocMqLl29iYqKCpiZmcHGxuaRRU31+4MQgpqami6fS1/zPT146BCs+c60zQj1HhTFjbARq2Bowcfc8o6q64KCAshkMnz99deMY9y6dQthYWHIzs7ulfdItRuaD/Xv+2uvvYZJkybRye6TJ0/G66+/znq8U6dOYfLkyZBIJAgKCsKyZcvQ0tLC2kbU19dj5syZCAsLg0gkQnBwMAoKCrQqsF944QVIJBJWT1/KGoVtAofjyfPvf/8b1nxnnaKmhWew1mTDhQsXtL778+bNg1gsxrVr17Qsik6dOgVCCBoaGp7UafYY3e1P67LRqKiowNSpU1FZWYmGhgaUl5cjICAA3t7eWsu8KYqLiyEWi1FRUYGmpiaddjQcHPrgNAIONjhRk6NPwjVYHOp0N7hB0xz+/FfXoFQqERwcjB9//FHr+O3t7QzRjk2A2bJlCwgh2LVrF+O5H3/8MQghjCpAtsH28uXLER0dDQ8PDwwePBhisRibN2/GnTt3WAfgmp6RmqJq9IrDCF5yEB4pi2Fs6woDc3vIi/Y/FDXtPfFMv/54zngEBo+wge+UDh86fYN9zUEhFRJ08OBBvZ/Pe++9B0I60oM1BwMtLS2IiYlBeno6vT81yH3nnXf0Hrcn6csBF4+TzgY0mqKm+oBGU9S8ePEiZDIZfHx8sH79etTW1sLDwwNGRkZISEhgCIK9JWomJSXBx8cHK1euRF1dHVauXAlvb28oFArGd12XALZr1y7afmLr1q04ePAgdu/ejaVLl8LPz++pv196As3wKfV70EHxPAwt+AhaVAd50X4YWvAxdLQ7I6wiZVYpJk2ahBEjRsDExOSRRc379+9DoVCAEAIfHx/cvn272+fUV3xPqWu7omyj1vuZU34Aru4eWL16Nf773/9CKBSisLCQtY1etmwZhEIh7t692+Pv8dKlS9i8eTMIISgtLUVTUxOampro9p+asEtMTMTu3buxe/duJCQk0Ksr1HnvvfcgFAqhUChQUVGBffv2YerUqbRFiWYbERUVhcLCQuzcuZMWXuRyOfz8/HDlyhXGcQlhDzKrqakBIQRvvfVWj18bju7B5sGbv24vXNw9kLVkA3tf0D9Ra7KBre1gs/zRfLzyyitP6tR7jO72p3W1aadOnUJ2djaCg4Ph7e0NuVyO3NxcfPTRRzpfOyQkBLNmzeqtU+N4SuA0Ag42OFGTo0/CNVgcmnQnuEFT1FzXeA6nT5+Gr68vZDIZ1qxZg7q6OlRXV2PNmjWIiIhgdG7ZBJjW1la607to0SLU1tbi5ZdfhlQqhZ+fHz7//HN63+4Otv/973/D3t4efD4fzc3NqKysRJAyDMbDzND/ucEwthoDnokZRjt7YkXZRhQWFsLSzhHWoggMNDDF357ph7890w8mo1zhHP0CxiUtwKCh5vi/vz0DIytHGJjzkbGonH4tNzc38Pl8rfdHLRGdMWMG5HI5bGxsYGRkhJkzZ2qJwWfPnkV+fj7kcjns7e1hZGQEa2treHp6sg4G1D1LKXHscfoV/hVEzcbGRp3p4V2ls6VnmqKm+tIzTVET6PAoLCwsRFBQEEQiEWxsbODs7MwIe6Lee0+Kmt9//z1sbGyQk5ODM2fOICMjAz4+PvD398e8efO0lgnq+042NzcjPz+fPgelUokpU6agsrJSZxo7BztdCZ9SvwedI3NgaMGHf8GrkMzcBEMLPhyU6YywCjNHAVauXInY2FgMHjz4kUVNANi0aRMIeTJBUH8UfdeWbYLo119/BSEEubm5dGVaZ49r1671ynvX9XlcvnwZQqFQq8r/f//7HxISEiAUCulQp7a2NqhUKvj4+ODq1av0vm1tbfTKBk1Rk80H+csvv4RYLMbq1asZx4iIiGBYZlAkJSVBoVD85VYV/Jk8ovX5QFOrVTIXb8D/u/ILQ9w3sXKAMmmaljDH1nZoWv6wPdSF8D8zXe1P97SNhkAg4CwiOB4ZTiPgYIMTNTn6JFyDxaFJd4IbNEVNSpi5fPkyli1bhvHjx0MkEkEulyMpKYn2baTQJcDcunULZWVliIiIgEgkQlBQEAoLC/HZZ58x9lPvMLe3tzOqXzoTNdPS0uDi7U97o5k6EPTnGeJv/Z5F/0EGGOZA4OkXitH2DjCycoSR1Vh25sd9AAAgAElEQVQMGGyMfgOeQ78Bg9CfZwgjK0f0H2yMZ54dACdVh2iwbfc++rV0iZo2NjYwNzeHSqXCli1bkJqaChsbG6hUKpw5c4ber6mpCUKhEAkJCaisrEROTg4sLCwwatQoTJgwAR988IFez1I2cay3+SuImp0Jf12ht0MCfvvtN9al3D3N4/Do4+g63QmfUr8HKVHTb24VLWqOCclgvQc1w6ceBaoN+jP4qXbl2uas3Km15F1d1Dx//jwIISgoKNAr2vTWd1fX95UK8XvtNe125ujRoyCEYM+ePQAeLhkuLS3V2vfcuXN6PTXb29vx3//+l65MTUxMRFpaGmMfymfx448/prdR123jxo3dPeVe59dff0VZWRlUKhXEYjEUCgWKiorwzTffMPZT748cP34ckydPho+Pz5/Kz1CfCEeJmh4pi7VEOF33BJuoqWn581fmcdtoUFYfmo/GxkY0NzdjwYIFiIyMhEQigUwmQ1ZWFt577z3WY7W0tODll19GdHQ0JBIJ5HI50tPTcfjwYcZ+//vf/1BRUYHY2FhIJBL4+/sjJyeH0Rfl+HPCaQQcbHCiJkefhGuwOHRx6epNhC7vuijTFWGmtbUVW7duxeTJk+lqrYiICLz00kuMirPOBgfqFYjqqd7q1XVffPEFioqKoFAoIBKJEB4ejtWrV2P//v0ghMCR+CBwwQEELzkI5wm5GOEsxYAhQ/G3Z57BswN5sPNPgoVnMKwdXDDS2g6GFnz05xnimf4DMdBwGJ7pPxBW3uNhSUJg6kAw2j8RgwYbwMnJCTKZDHK5HCNGjIC9vb2WvyCPx4O7uzu9bHjv3r0ghODQoUO0f+aNGzfg4+OD3Nxcehu1VH7u3LkghODo0aN6rzcnav4xekLU7KmQgCcNJ2r2LboTPsVWqek3t4pefm4lDNe6B9nCp/4od+/ehUKhQGpqag+cee/TlWvrEpWnJeicPXsWhBCsXr0aN2/ehFAoRG5u7mN5z5pVpcH5m2DFd6Yn1yhWrFgBQghrSNFnn30GQghWrlwJ4KEX6t69e7X2pQRcTQHrzJkzmD59OqRSqZagolKpGPveuHEDIpEIixcvpreVlJRAIBD0uQo99ZUjCxYswIEDB7Bu3TpIJBKdK0eSk5Ph5+eH8vJyHDx4EPv373+CZ9B1OlsuLc3d2hE4FjsHyhLmcunuiJqalj+a3L59+7FM2D1OHpeNxrlz59DU1ARCCDIzM2kLiitXrmDx4sXIzs7Gtm3b0NDQgMrKSkRHR4MQgn/84x+M4/z4448YP348BAIBioqKsG/fPlRXV2Pp0qWMZe2tra1ITU2FRCLB8uXLUVtbi6qqKsTHx8Pb2xsnT57s0fPjeLxwGgEHG5yoydEn4RosDn30tDDz7bffIjg4GCtWrEB1dTVqa2tRXFwMb29vpKSk0MvOOhscUGJdSkqKVqo3AJw+fRpSqRQqlQoVFRVoaGjAunXr4OPjA4lEAmdXd7hE5UFZchT8wDTaD2qMcgr68wzRbyAPBmZ2MDCzg5UwHNuqajBmnAj9BgyCKd8L45IXYvBwGwwf6w1LEgKeqSVGWo2GmZkZCgsLUVdXh7lz58LQ0BB2dnaMDv3atWvB4/GQmZlJb6OCglQqFVpaWgA89Bc7fvw4bty4gZaWFvzwww+Qy+Xw9/eHt7c3Fi5cyLi+mp6l3RU1uyo6Ax1+edu2bUNERAQkEgliY2NRW1urJWoePHgQhBAcOXKE9TULCgogFArx008/0dt+/PFHlJSUIDQ0FCKRCKGhoVi+fDljH3WampqQkZEBPz8/SKVSREdHY+XKlQyvya4GWehaLqou6nWlMqGs8azWEnP1h7rIpCw5CmVSRwhWa2srysrKEBISArFYjPj4eLz5pvb3ik141SfGsqXSf/LJJ8jPz6dfS6lUYurUqfTvQVeCRzgeH90Nn1qy/zT9N3P3ADzTfyB9v1l6KTF4uDXs/JMQuLAj+GZd4znW8Knu8sUXX6CpqQl5eXkg5PF6+v5RunptqaAgSoxoa2ujz5Nq82bNmgWBQIAPPviAdemxvgq1rrbB3373Haz5znCOzIFgyiqYj5PD2NoJRlaOeM5oODySF6Hs0Bls3LQJ48ePh7W1NUxMTFgFtu6Imrdv39YSsD799FN4e3sjOjoa1dXVOHHiBE6dOoXm5mbEx8eztheFhYV0YFBrayt8fX0xc+ZMndflSaEZHEhx5swZEMLu8e3t7c0QO/8sdOYDHbzkIExsXTF8rDfcEwqRvWwr/VvRHVETeCiyJycnY/v27Th48CAqKyvp++KvkH7+JOmqRcSdO3cQHR2tNYmVn58PQghr30NdiH755ZchFAoZK4yAjpUkycnJDDskjj8fnEbAwQYnanL0SbgGi0MfPZXeSHH//n1WvyxK+KJmizsbHOhL9VZPCD//1TVGFYtyzjYMM7eB0TAzCNJXQFlyFCaj3WEjUkFZchSBCw/AwNwOg4aaY/BwawwYYgLzcXJMyCjAyJEjYWRsgqJtR5BQ9iYs3P1hOsoZYmUsjE2GIjExkSF+6Vp+npubCx6Ph8LCQsb7PnToEB3MsGHDBqSlpcHW1hbDhw8Hn8+nBSVHR0cMGTIEQ4YMgVgs1utZ2l1Rs6uiMwAUFRWBkI5U+X379qGiogIKhYIOkqAG+K2trfDx8dES1ADg5s2bEIvFyMvLo7f9+OOPCAkJgVAoRGlpKWpra1FaWgqhUIiwsDBcv36dcYxly5aBkI4gm+3bt6O+vh4bNmxATEwM47y7GmTR1NSE2NhYBAUF0VUOVKUDdT5dqUy4dPVmt0TNnNnzaa/V6dOno7q6Gnv27EFkZCQIIbhw4QLjvB9V1Lx8+TJ8fX2hUqmwY8cOHD58GLt370ZhYSE2bdrUcQ6dBI9wPF66Gz61dP+HOkVNn7wK8IZaoN+A52AvT4V7YiGmv9BRAa4ZPtVdqHZHqVRqBb71VXRd26BFdXBSzcDQ0e607ciAwcZwlyqwY8cOZGZmghBCiwDUJJq1tTWGDBmC/8/emYc1daV//PmNe4CEfQmLCEFC2DkkIYREAgRFWWVHQEERtYq4ryjuWsWldaNWK1pUFLUitLW17dhObZ1xZmpn2k73qdNa26l1aW1dwO/vj/Qec5MbFkWLzv0+z32eml5O7pZzz/mc9/2+MpkM9fX1aGxsxPr16xEVFYVBgwZZXAzpbB+8pO4khGIJ3EJ1sBsUAmnyRITmzoNrsAZ/6NMP7vIkDFSlQalPR319PcaPHw+hUAipVGrm58lEdu3ZswdA19PPa2pqQAjhjLLU6/WcfRITAb5//34cPnwYhBC89tpr93TvHqRMCwcaq7y8HIQQuhDJjFumT5/+sA+zW9SZRWzFuLVwC9VB5CmFnYcfvbddhZoA8Oqrr2LixImIjY2FUqlEUlISJkyYgPr6+scuUvNhqz2LCMAAOK9cuYLLly9TwMz0+VevXoVcLkdpaWm733Hnzh0kJCRgzJgxnEXRmPfAV1991Z2nxushimcEvLjEQ01ePVJ8h8WrPXVX9UYutba24tq1a7h8+TId+G7YsAFAx5OD9qp6M9VVi2etgW7eAbNN5ClFnwE2iCxZhcSlzXDyV8DRLxLqqbWIW3DQkJYZOQwDozPQu58A/UVOcPYLR2hoKOLj4+n3ML5zZWVlcHFxgVqtRlBQ0D1DTcAQ/VFRUQGdTgdPT08IhUJkZGTgyJEjLD+2Y8eOoaysDFqttl3P0q5Czc5C5z//+c8ghGDatGmsVfsLFy5ArVabpZ8vWrSIM7WQsQIwTn2qqqoCIQQvvfQSa1/G9814oP7aa6/R4+A67jt37tD/7mwhC6B9ONiVyIRxVU91CmpuanmfemGZFlT55ptvoFQqzaJy7xdq7t+/v1Neh3z6ec/RvRSfYlKqTaFm4tJmSOKL0dfaFrZeMgz0D0ZycjJqamrMorK59M0336C2tpYznflRlKVrq53xHOx9wuAWqsMAOxdIEorhJFWizwBrODg4IDk5Gc8++yzOnz/Pyi548sknUV5ejqioKKhUKqjVanh6esLd3R3jx4+3uBjSmT74kwtXoJ1ZB6FYApGnFNoZz9HjVU3eit79rdHf1gVeyhToq5vwyYUr+OqrrxAcHAw7Ozts3LiRtvvrr78iNzfXrFBQcnJypwsFbdq0CYQQ+veMGhsb243szsrKQk5ODgoLC5GYmIjW1tZ7vn/dJdN0foeBMoRrh3GObdauXQtCCP75z38CuDtu2bRp08M+7G7Rg/aB5tX94ipqVtP0HoJCwsyg5jfffIOqqirodDrODIxvv/0WAPDPf/4ThBA8+eST7X73jz/+aDGzxXhrr0o7r54tnhHw4hIPNXn1SPEdFq+OdD/VG7kGXGPmrUdyehYUCoXZ4IcBOh1NDtqr6l1XVwdPiQxCsYRzG2Dvht79rWj6eWTpath5B0EolsBuYBD6WttBHJaAIbP2Ut+5ESteZAEjU9+5U6dOISIiAgKBAHK5HFVVVWhubsYXX3xhFqXARLUwFYotqb6+HoQQnDhxonM3qpvVHnRevXo1CCE4d848Mnf58uVmUJMBY9u2bWPtO2rUKMTFxeHWrVsADJNmjUaD9PR0s3bv3LmDtLQ0aLVaClKnT58OQgjOnz/f6fPqTCELS3Cwq5EJR194AZ4SWbtQc+mek2hta6NQ07T4BGCIFioqKurwGLsCNRlI/PTTT7MKbJmKh5rdo0uXLoEQgrVr17I+37hxIwgxFJYxFuOzy/zGbt68ieDfvH9FnlLYDQqBo78CVk5eUJZvQEjOHMP/8/CHox9BQMoTGL6smRaqYJ435vlzJ0Npn+gpkdE+uLMVcx+358IS0ElYfAwJi4+ZfU5GLexSdsG9pGla6oNrmt6jUHOQNscsRXiAnQt69xNAEl+MiOKleGLlLgCGVGpra2tIpVLU1dWhrq6OZhg888wzrO8+deoUzRyora3FgQMHUF5eTiPxjZ+Tc+fOQS6XIyMjA3v27MHBgwcxf/586HQ6pKWlWeyTmGecEIItW7Z06X51tywViRJ5SuEaPASJS5uxsZld0MUS1OSKSnwU9Lj4QP8vqL2iZolLDUU8h+ZPoM/r9evXkZSUBK1Wi23btuHkyZN45513aPEg48VvpmhXR1CTeaeVlpa2WxTt6tWrD/x68How4hkBLy7xUJNXjxTfYfHqSPdSvdHSgCs4axYFhaXzN+CPp07hzJkzOH36NGui1NHkoL0IxNUbt0IolkCWOhnK8TVm2+ChpbBy8qTeaIlLDWnn4UXVEHlK0bu/FawcPeDkr4BbiA5CsR8SZ2xnASMu37lTp07Bz88PRUVFGDlyJAgh0Ov1CA0NNSsURAjB6NGjOaMHGWDH+GxmZmbi559/Ntvv9u3b9z1YvFfoPHnyZBBC8NNPP5m1ycBYY6h5584dpKamYsSIETR68tNPPzUbODODZEsRuqZVU7OysqDRaDp1rl0pZGEJDnYUmRAUEgYPiQz6aVsxYsWLiCldAg+JDFsPvGhWJCB7UhWCQsLoM8xATa5opbKysk4dY1eg5q1btzBlyhQQQqBSqVBWVoYtW7aYAZnHDV79nsrJyUFWVhbrs/z8fMjlcsTGxrKinisrK6HVatHa2oq2tjaUl5fDzsMPXlEpCMmZA2nyRFi5eKNXn35wGiyHc4AKgekVCMmZC4/IYRCKJVDk3wWlS5/cCA+JjD6D8RWbEJsxGkEhYaivr6fWAlwLFVx63J6LzgAdffUxxC04CN28A0hZtL/T2QWWFkPOfvRvLN/3JkjWVIjEEoxY+Dxqmt7D5p17kZ+fb7EPzql5hULNgORJZsfpHZOJPgNsIHQzQGs3mZIei1wuh5+fH6KjoxEdHY3i4mLOiugAcPr0aRQXF0OlUiE+Ph7V1dW4fPkyJ/w+deoUioqKoFarodPpMG3aNHz++eft9knXrl2DWq2GXC7/3T0ULQEil8AY2A4MRMKio3Ssw/TVEyYYfJAZH+tHHWp2t90QrwenjoINhGIJfGLzabDBqVOnQAgxq1wOGPxtjcfTTPr52LFj2z2GtrY26HQ6ZGZmdv8J8uoR4hkBLy7xUJNXjxTfYfHqrLpSvdHSgMs1ZAic/BXQVzexojuZiMbugJoTl+8wVKnNmMZ5DEyKpluoDk7+CsjSKhCcNRPuJPG3gkF5CMmZA6FYAt+4UbAdGIhBAWFQqVSIiIjAggULQIi575zpJL+hoQHBwcHw8vIyO4/t27eDEILU1FRs27YNR48exTPPPIPi4mJWJE9LSwsUCgX0ej02bdqEw4cPY8+ePVixYgX0ev09A4X7hc5dhZoA8Mwzz7AiVJmIVeP01R9++AGEEMyYMYPzuE2hZmZmJrRabYfn29VCFpYm4pYiE06/8w6m1dRTcM7A8vBRi2g6sGmUD+NVaQo1udRZgDl+/HiLACEpKYnT1/TDDz/Erl27UFFRQa0D6urq6P9/3ODV7ynmmWcKXl2+fBmRkZH03jMRX62trdBoNLTK7LFjx0AIQVLhE+xo37QK9OrTH/1s7BG/8LARfGuCsywa0gg1Ldz1l7/8BQ0NDRg5ciSioqKQlJSEUaNGISIigtWPfvnll5g3bx70ej2ioqKQkpKC9evXs37rj2MBqfaATmjefLgGD4HQfTCNbvX4Lbq1M9kFXIshXNkEURM30T5YPTwHjY2NeOutt8z64BErXqRQU5Y62WIUOGM1YJwmzFUw7PfS9evXodFoHlqleEtqz2YnIHnSb+OJSvrZ5OlzEBAQAEK4CwU9qlDzQdoN8eo+deY+MVCTuU9/+tOfQAjBCy+8wG7rk08QFRVlNp5mxlpcPrdtHNHKhw8f5jzW9oqi8er54hkBLy7xUJNXjxTfYfHqbrU34GJAor76bjrfx99cpkVnugNqZq5uhoNvOOx9wjBk9vOcUNPG1QfK8TWQpU6Bo18kRB7+FHDqq49BNelpCMUS+OnHIGbasxg/eRo8PT1hY2Nj5jvX1taGq1evmsGfc+fOITg4GO7u7pzn8frrr2P8+PHQarW08nl1dbVZhe8PP/wQ8+bNw9ChQ2nV7qKiImzZssWs4ENndb/Quavp5wDw7bffQi6XY+HChWhtbYVer0d+fj5rHyb9PCMjw6xdrvTzGTNmgBBzLzdTdbWQhSU4aCkywdL1lJeuhlAsARmzgnU9gbuFlroTas6aNYszcvXGjRuQy+UdwoyrV68iIyMDSqWSWgIwVX55qHn/evPNN0EIQXNzM4C7VabPnz8PjUZDKyy/9957IORu9WmmuvY7739q1pf1s7HHADtXRE/Zxvp/fvoxCAoJw6FDh0CIoQBVRkYGdu7ciYMHD6K8vBxeXl7w9vamz+DHH38MjUaD6OhobNiwgaYRE0KQm5tLI8sfxwJSH339I+dv2HihJzRvPuRj10A5vgYNTa90+p1luhhivABivMXNP8jqg437C+M+2DhSszNQ0zhNuCdBTWYB7Pcef7YHtOMXNsIlMOa3Bc9chOTOhX94NKysrKDValmR7Y861ATuz26I18NRZyJqjaHm+qZz+OmnnzB06FAMGTIEW7ZswZEjR1BTUwONRkMtJYzH0xcvXkRSUhIiIyOxYMECHDhwAAcOHMDSpUvpYhtgWJgoKioCIYZiaXv27MHhw4exdetWlJeXm2WY8Hq0xDMCXlzioSavHim+w+LV3WpvwBU0ctpvE8QkhOTORVDmDCgS0umgqDug5ogVL0JZvh62XjLYDgzE4MRShObOQ3DWTAxOLIWN2A/9RU6ImrARcQsOQuQphXdMJgLTKxBWUAVZmgF0Ct0HQ/XEZjp437lzJ2sSf+LECXzzzTe4du0aVCoVZs+ejZ07d+LYsWPYsWMHhg8fDoVCgfff71mD/+6Azrt374ZAIEBqamqnCgUxYtK/GT/H/fv3m+3DFAoy9RJlKvQuWrQIANDU1ITBgwdDKpVixowZnGnbTKp7VwtZMKm/xoWGGJlGJpheT93c/fS/NdN3QSiWQBJfzIpu+fe//w2VStXtUJMBTabPHPN7MYYZTMVeUz3xxBMghODKFUMUDmOXsHfvXs79eXGLy9ph1aF3EBJOUFVVBQBYtmwZ9Y+tqKhAeXk5AHPP4MzMTChUatQ0vYfklXe9H8MKqjDAzgVWjh4gxctYz2Hu5EUghGD37t0ghCA7O5vlndrW1oaIiAgIhUL6DI4bNw6RkZH4+9//zjoXJsrauD9+3CJ4O7vQwwCdrmQXGC+GdBRlZdoHf3LhCu7cucPqg409NTsDNY3ThHsC1Dxx4gT27t0LjUaDgoICzn72Yaoj64G4+QcxeOhYOA6WQ+ThDyt7V7i6upr5Hz8OUPNe7IZ4PVx1xirDGGoyixqff/45LUSpVqsxZswYnDp1yuJ4+tKlS1i7di1SUlKgVCoRFxeHkpISHD9+nLXfzZs3UVdXh1GjRkGtViM6OhqpqamYPXs2XnmF9119lMUzAl5c4qEmrx4pvsPi1d1qb8Clr25C0MhpcA5QQeQphYOEIHh4Ka5evdptUJP5fs30XfDVjaITEbtBIXAN1kIcroe180BETdiIhMUvQDpiAsRh8bAfFEKLbHjHZCJ68hbW4P3GjRtYvnw59Ho95HI5ndDfunULmzdvxujRoxEXF0dTO2fPnk3TSXuSugM6nz17Fq6urvD19UV5eTkOHDiA2tpa6PV6uurPBTVfeuklEEKg1WoRFRVFwZmxvvvuOwwdOhRyuRxFRUWoqKjAypUrIZfLkZSURCNZmbTacePGgRBD1eFnn30WR44cwZYtW5CVlUWfj64WsrAEsAHzyIT8acsRmjcfAcmT4BE5DE7+CtY19YpKgVDsB9+4UQjNm4/0stnQ6XQoLi7udqh58eJFqFQq6PV67Ny5Ew0NDZg1axbS09MRHx/Pghnr1q3DyJEjaUReY2MjBSeVlZV0vxs3bkCr1SIlJQUHDx7EiRMn+PdFO+qogIM4PAHSiGi0trUhJSUFK1euBGCIWlOpVPj1119RWlqKxMRE2l5IdDzsvIPN2rIENTe1vI9t27aBEILnnnvOYnrgyJEjIRAI8Nlnn9EU6YkTJ5rt9+uvvyImJgY5OTn0s8cJanZ1oefD//zY5ewCZjFk9Nwazu9hFkNM++CCaStQWlrK6oONq593Bmoapwn3BKhJyF0fX6ao2r3q+vXr2LZtG0aPHo34+HgolUokJyfjySefpNkUAPv+vPvuuygpKUF0dDR0Oh0ksXnQzW/gvCc+sfmwGxQCWy8ZxOEJUJZvgF9cgcW++nFRV+yGeD1c8VXqeT0s8YyAF5d4qMmrR4rvsHh1tzo74PKJzYdQLOn2AVdHqTmMpyZTkXrxgb906+CdgW1cUK8nqDugc1tbG37++Wds3rwZw4cPR1RUFEaOHImDBw+2e/43b95EbGwsCDGv9mys7777DkuXLoWHhwdsbW0xdOhQLF26FN999x3dp62tDTdv3kRrayteeOEFjB49GjExMVCr1cjIyMCaNWtYnqddKWRhCWAbnwcTmeDoHQhbzwA4SZXwjsk0i5jTzTsAnyF5sPMONkQFR+rx9ttvm4H57oCaAHDmzBkUFxcjKioKOp0OVVVV+OGHH8xgxtmzZzFv3jykpKQgOjoaWq0WeXl5qKurM6uGfvr0aRQWFtLo0kfZO/FBq6P0zYCUJyAUSzBl9S6WZ9knn3xC/61UKrFw4ULangGMS8zsNJj0cytHDwyZuh3rm87h5Ptfo6bpPVp8Rp47Ex4SGQ61mHujjRo1CgKBAH/7299oxdt169ZxnldeXh6io6Ppvx8nqPkwsguuX7+OgoIC2LpL4KVKQ9DI6ZyLIaZ9sKs0EqtWrTLrg5fUnewU1DRNE+4JULM7df78eSQkJGDlypWor6/HoUOHUF1dDYVCgYKCAty+fRvA3fszevRo6HQ66lG9ZMkS2HkOhldUCusaxi9shHOACkKxH3xi8xGSOxd++jGw9ZLBM2zIYw81efVc8VXqeT0s8YyAF5d4qMmrR4rvsHh1tzo74GKg5r0OuL755hvU1tayCs0AHZuom0LNe4GXTU1NqK+vt/j/ejLUHLHiRURN2AihWIKwgqpuX+Vvr9ptV9WdbT0o/V5RE6WlpUhLS+uWtnh1jzpTwCFq4iYIxRK4BMYgOCwCV69eBWCwStDr9cjOzqawkGkvLH+hmY1B4tJmBKZPRa8+/WE7MBD66iYsOXjWDGwFZlRaLFZVUlICgUCAP/7xj3j//fdBCEFNTQ3nuT0OUJPxtly7di3r87C0iRCKJfBWj2Rd3+CsWbBxk0ASX0gho42bL+w8/KBSqWBlZYXg4GA0NTWZQU0GHn766aeorKyETqdDREQEgtKmwC0kFrZeMlg5eqC/yAn9hA6wcvKCW0isWZ9sqb/g04QNun37NgWXxjp69CgIITh58iSAu1BTpVKZpY0nFRoWGjTTdxktPhgKBAWNnM66pmT0clokihev30P3UqX+YfbXj8K4jVfnxDMCXlzioSavHim+w+LV3ersgIuBmsZ+X11Re4O0B212396gjYkgbOuhk8mcmle6BDW5oLPptTf+t+m14YK8N2/exI4dO5CVlQW1Wk2LAy1ZsgQ3b94EALNqwczGfKcleNza2op9+/ahsLAQMTExiImJQXZ2NjZs2GB2HsePH0dJSQliYmIQHR2NUaNGdXnQ/3tFTaSkpKCkpKRb2uLVPepM35ew+BhsvQyVryN17D6EKcpDCMHFixdpe/rqY/CIHAahWAKvqFSE5MxBQPIkWLt4o1effghMrzT7Hi6oadrnVVVVQSAQoKioCPX19fDz80Nubq7Zed24cQMajQbZ2dn0s0e1gFROTg6ysrJYn4lDhkDo7gc772CWd6aXKg12A4No6rkkvtgAP1WpqK+vR0NDAy3itGXLFlabycnJSE1NRWxsLBYvXozGxkbs2LEDmfKJ0NoAACAASURBVKubWW15RaUgOGsmQnLm0IhcafLETvcXfJrwXbW2tuLatWu4fPkyhZhMv8/8e968eWZ/t7vhGIRiCeRj19Dr7hIYA2tXH9i4+bLekwmLjmKwVAaRSAS5XI4hQ4Y85LPk9b+ue6lSz0NNXvcinhHw4hIPNXn1SPEdFq/uVmcHXAzUvNfJV3uDtAcdxfIoD9pqmt6DvroJCYuOsibw7a3ym+p+oeayZctACMHChQvR2NiIxsZGbNq0CVlZWdQHraWlBZmZmYiPj6fVlVtaWmgFc652b9++TQvdjB07Frt27UJjYyNqamowfPhw1jmsWLEChBBUVFR0CCg6up5djZq4H506dQpr1qwBIQQ7duy4r7Z4da86C7i9lAZ4FZ4xmfX3x44dAyEEGRkZZu0lLDoKWepkQ8Sghz/svIPh6C+HlZMXBZadgZrMJBcweBMPGjQIiYmJUCqVcHBwgFgsxrlz7Gf02WefBSEE27dvp589qgWkampqQAih3ryXL1+Gnedg+j6KnryFgmTbgYEYqEpD4tJmyEtXG65neoUZaFy1ahXkcjnL4zk5ORmEEDQ2NrK/v+k9Vlum980vYTSE7n6cRX54cRfgGjNvPZLTs6BQKMwWwZYsWQLgLtTk6tvPnj0LT4kM4aMW0ftgsF+JMFv8y528CC4uLvDw8EBLSwtfCIXX76KuLtzzUJPXvYhnBLy4xENNXj1SfIfF60HIeMBlyWzfJzYfnhKZ2d9euHABy5YtQ1JSEpRKJRITE7F48WJ8++23dB/Gj9B0Mx1IHXv1LWhTC+EsCYWtpz/EgSpkTpiPf/77e9Z+jJ/h9evXUVNTg6FDhyIqKgrZ2dlmk5Z7jSC8du0aampqkJKSgqioKOj1esybN6/dCqqmBQ0WLlzIWVynK7qXVX5T3S/U1Ol0mDJlSofH2t7gmKvdvXv3ghCC1atXm1XUNY6cffPNN0EIwc6dO83a5QIU7ak7rmdXlJ+fj2HDhmHt2rU0qtWSXn/9deTn5yM6OhqEELzxxhuPZNrwo6LutiLoantcm6ndhjEoM/V1/fjjj6HRaKBWq7Fx40YcOnQICxYsACEEOTk5LI/aR7WAFPPbb25uBmCoxO0hkUE74znYDgykoFE16SkIxRIEZ81C4tJmeMdkQuThjyGz92LFvrdw+fJlur377rsghODIkSP0e5KTk6HT6cwi9j+5cIXVlm7eAdamKKuBUCxBaN78bukvfk+1traivr6e9kExMTEYO3Ys6zlpa2vDiBEjkJKSwlkF/bPPPjMUbVu5kjWuUE16Cl6qNFg5eaFXn37ob+sC1dBMvHryJM6cOYPTp0+DEIIhQwz+l5999hk8PDwgk8nM3u1Mn1i26CkW1HQJ0rIW/za1vI8xY8bA39+fTz9/CDL2kO1I3V15vqeDua4u3PNQk9e9iGcEvLjEQ01ePVJ8h8XrQYgZcLVnth+uHWY2Mfjss8+g0+mQkJCAp59+GkeOHMHWrVsRFxcHvV6PixcvAjAU1diyZQurQnVLSwveeOMN2lZLSwvkcjlycnKwc+dOHD58GCtWrIBCoUBZWRlaW1vpvgzULCkpwcSJE1FfX4+9e/ciNTUVhBB88MEHrHa7GkF4/fp16pU3f/58HDx4EOvXr4dKpYJWq8Wnn35K922voEFkZCQqKiru+/7M2HiAFYFiKR19U8v7nOdz9uxZBAcHIz09HVqtFmFhYXBycsK2bdssQs2NGzciNzcXUVFRcHZ2hkwmw2uvvWZxInL8+HEMHjwYdnZ2nKnhXMfFTJ6N4QuXZs+ejaioKFy8eJEFJywBio70oO0O7kXnz5+HUqnEuHHjcPToUbS0tOC7777jnNxcu3YNtbW1PdYH9lFRd1sRdLW9zkJN5ntNoSYAfPHFF5g7dy6rknRNTQ2rkjSjnl5Aiiuqb9WhdxASTlBVVQXAEDWeMGwEEpc2wysqBR6Rw5C49G6ka0zls0hcakhHFoolBp/FkDDOhS3jyOnk5GQUFRUBMAcKYTGJtC1LmyxtykPtL7pbbW1tmDJlCuRyOebNm4eGhgbU19ejtLQUhBAcPnyY7rtt2zaLPtTr168HIQRztx6lz2944WII3f3gEqSB0GOwwW82rhBC98FQDc1Ea2srvvjiCxbUzM3NhZOTE8aOHWv2bje+P0w6v0eoFvbegchc08JK509JSYG3tzcPNbtBlnzRGfFQs2N11n6C671/8+ZN1NbWYuTIkVCpVNDpdJg6dSr++c9/cn7Xiy++iOLiYlqQcfTo0XjppZfM9uO6dr/++iumTZsGhULRpbEVr99XPCPgxSUeavLqkeI7LF4PUktWr4eHRAZF/mzWgOu5Ay/QiaCxCgsLkZSUhEuXLrE+//rrr6HRaGgqGdD+yvOlS5egVqsxZcoUs0iZV155hRWpA9yFmsbtA4aBslKpxIIFC1ifdzWCkJm0mUYGMr50xtVo2ytosHz5chBC8NVXX3F+d2d15s9/hqdE1i7UZFb5t+/eDw+JDAmVm+k9HF+9DVbW1hg8eDDWrFmD1atXw83NDUFBQUhLSzODmj4+PpBKpcjIyMCuXbuwYMECODs7w97eHiKRCCNGjEBzczOtus2khgcGBiI8PJwzNZzrOkdHR3N6ApqKAcztbV1J7e6JRTsOHz4MQgg++ugj1udcnq/dPSH8X1V3WxF0tb3uihB91NXa1tbuQoM4PAHSiGi0trUhJSUFK3+LAgzOmgmRpxTxVUfgHqGHg284/RtnWTRsBwZi+vp6nDlzhnNjFrYAdpVx03fVyJEj4RsYAeX4GovbkrpXH+kiPw0NDSCEmEGPO3fuoKKiAlqtli4+ff3114iMjMSiRYtY+7a2tkKv1yMpJZ3eB93c/bD1ksFLmQJ9dRPcQnVw8ldAX30MpHgZhGIJausOYN68eSyoOXPmTFYfZ/xu5xpLbN26FVKpFN7e3mhqaqILAH5+fhAIBBAIBHyfeZ/qKHqwK1Dzzp07uHnzJmux+n70qEDNzsr0Wre1taG8vJxa8DQ0NGDLli3Q6XSIiorCmTNnWH/PjGFzc3Oxe/du7N69Gzk5OSCE4JlnnmHta3rtLl26hKKiImg0Grz99tsP/mR5dZt4RsCLSzzU5NUjxXdYvCypO9JVsrOzodFoONNkMzIyWFDz888/ByEGY3/T6LnLly9j4sSJGDZsWKeOj5lQvf7662bt/Pjjj1Cr1SxQyUBNU4jInAMTccOoq1CzvevADCwvX74MoP2CBidPngQhBG+99Rbnd5uejyUx12777v1Y33QOCZWbIRJLEFO6hK7yM2CAK9LLPSIRf+jTD8MLn0BrWxuFs5WVlWYRW/v27YO1tTViYmLw888/089/+OEHxMfHQywWIzw8HIQQpKSkoLm5mQJg4+t89uxZZGRkICIiAt988819Qc3MzExoNBqLcMIUUHRWPaloxzPPPGMWhWdJPNTsHnW3FUFX2+uuCNFHXR1FTgekGKpdT1m9C4QQvPbaa2hta8OCZ45DKJaAjFkBkYc/fIbk0r8ZqEqDp0SG7//7304dgzHUNF1ImDZtGggh+PMHX/aY/qK7VVRUhKSkJM53OeMd++6779L9y8rKoFarWVH2p06dAiEEBdNW0PsQkjPHUGRrzEro5h1AQPJE2LgOgjg8AbKMSggcxBB7D0ZRURELap45c8asj2Pe7VxjiZ9++glDhgyBQCBAfn4+nnrqKZSUlEAkEsHDwwMSiQQtLS345JNPHs4FfQzVHVDTkt1Pe/rll1863Odxh5rMb3D58uWs/b766iuoVCqkpqbS/uqrr76CXC5Hfn4+fv31V7rvL7/8gpycHMjlcvznP/+hnxtfuy+++AIpKSkYNmyYxYjc/0V1NEbvKeIZAS8u8VCTV48U32HxsqR7gZqm6X4OAw1p5lyTtOnTp7Ne6q+++mqH0XNyubxTx7d69eoO25owYQLdnxlgcK3yl5WVISUlxeyzrkBNlUqF/Px8AIaUT+M0+bVr14IQQlN+OipoQAjB8ePHOb/b9HwsqT1PTEYMGDCFmvrqJli7+qB3fyuEFVRhU8v71Pds9+7d0Gg0rGvzxBNPQCAQoLq62uw4Xn75ZTrRZEB0YmIiTQ0fPXo0hg4disuXL2PDhg2QSqUICQnBkSNH7iv9nIEKphHBD1vtTchMU4M76/vKPD+mmzEcNr7XzDFwbby6ru62Iuhse90ZIfp76caNG2aR9Z0V8xwfefmPHZ5/1MRNEIolcAmMQXBYBK5evQrAEO2l1uoQqk6EnYcfIgsXU9C455Ch/aqqKs5j/Omnn1iLVsZQ01Svv/56l9p6FGT67nf0DoSHRGYxVZ8QgpaWFvr3x48fh0AgYC1KzZw5EwqFAmnLGum989OPYaXp27hJ0N/WGb37W6FXn/7o1U8Aey8prl69yoKa58+fN4OazLvd0lji5MmTcHNzQ3BwMKKjo1FSUoKYmBhERESw+seeCigepI93Z/xS21NnfNEZqPnhhx9i4sSJ0Gg00Gg0mDZtGj3mvLw8GhFsen+Nz+v111/H6NGjoVar6VgMMNi0zJgxA1qtFhqNBpMmTcLHH3/82ENNJvPlu+++M9t3yZIlIITgww8/BADU1dWBEIIXXzSP8GcWoY0LxjHX7uzZs4iNjUVOTg61juJlUE/tM0zFMwJeXOKhJq8eKb7D4mVJXGmqlmQp3U/kKYVr8BAkLm3GxmZ2+q0p1Dxx4gQIMRR5aS+CjlF7UHPlypUgxODbZakdZsAGtD/A4Brc3g/UNI0+sAQ1uaLmOguaTc/HdMKZULkZHhIZtu/ez9mucYSYKdSMnbsPVo4e6GtlS9PV3//8WyiVSkyePBn5+fn02vz444+QyWQQCAT0fNra2ihE+Pjjj+m5njt3DoQQBAcH0wmOs7MzrK2tERERAS8vLwgEAoSEhGDHjh2c1/n5558HIQRPPvmkWdEJ43/3FKhwL1CzI9/XX375BS0tLTTdsr6+nuU3a3qvv/76a9TX14MQQ4qmsU8sr66ru60IOtNewez1EIolUJZvQEjOHDjLoiHy8IejH0FAyhO00Amznf3o36ipqUFqaiqioqIQFxeHWbNm4fPPP6ffy0AgrsUIADhw4AAIIWaF1I4fP07hD5cXLiMG+n366aeorKyETqcDIYTTu7MzYn5Llev3dQg1ExYfg62XzBDxp2OnSbq6usLd3R2EEDoR37hxIwgh0Gg0IIQgPz8fzzzzDKZPn46BAweitLQUUVFRWL9+PcrKypCYmAhbW1t4eHigurqaWp4YX4fU1FT0798fffv2Rb9+/WBjYwMPDw+kpaVBpVJ1ulDZ76323v1O0igox9dgWk09Tr/zDs6cOYPm5mbMnTsXhw4dwn+Nol5/+eUXWFtbIzw8HABw5coVREVFYfr06ayCWZKEYlpIyVLqvnbqdtpuV9/txuJ633LB6u4CFN1ZzOVB+nh3xS/Vkjrji04IQVpaGgYPHoyZM2fi8OHDWLduHRQKBXJzczsNNfPz86HVarFp0yYcPXoUBw4cAABcvHgRCQkJUCqVWLNmDQ4dOoTFixcjNjbWzEbnUVNHY77MzEwMGTKE82+Z8QDTtzPjaa5Iy3/9618ghGDVqlX0s7KyMqhUKkRFRSEjI4OVofO/JtPfNPNMJicn33OfweWF/aDEMwJeXOKhJq8eKb7D4tUdMp3UMB6Ntl4BsB0YiIRFR82ik0zTz5nB0cqVKzknDqYTECbluampySydiBmUnThxolPH39WJz/jx45GUlMS5f0fp56ZQc8KECSCE4McffwTQvVDT0oTT2ENzY/P7+PNf/gJCCGbMmIHCwkIMkoXD1ksGl8AYiMP1LKipnVmHvta2+L9efSBwdIfdoBBoUkbR6EepVEqPXygUUhjJ+C5du3YNhBC4uLggPT0dvr6+KCoqglqthkAgQGhoKGQyGfR6Pdzd3WFvb4+AgAB4eHjA09MTvr6+CA4Ohq+vL9zc3FjX+fbt25g4cSIIIRg3bhx2796Nw4cPY+PGjWb3kBmoM4Di6NGj2LlzJ+bOnfvQoMK9QM3O+r5aGvhyPUN8+nn3q7utCNprr6mpCZ4SGcThCXAOUCEwvQIhOXPhETnMUNhm5DT621+x7xRSUlKg0Wiwbt06HD58GDt37sSIESMQExPDmriOGzcOMTExnJHPo0aNgk6nY8F/xgu3oqIC9fX1nF64jJKTk5GamorY2FgsXrwYjY2N2LFjByu9sStifksJlZs7Fa3qpUyBUCxBeMZkVjtqtRq2trbIyMign+Xn50MulyM2NhYnTpzAxIkTERsbC1dXV9jZ2WH8+PHYu3cvNBoNqquraWSTQqFAdHQ01Go1wsLC6G9u9+7dsLa2hpOTEwICAuDl5QVHR0fY2NggODgY9fX1j0ykpqVIYtdgreHdv/gY693f3jtMLBbDzc0NX331FWbOnEkXw4wLZgVnzYRQLEFE8dJO2St05d3eEQgCHh2o+SB9vLvil9qeOpN+HhAQgICAANY+O3fupGONzkBNhULBgriMqqqqQAjByZMnWZ8zv18uqNmZ1PXfU50d82VkZCA2NpazDVOoyfTrXYGaw4YNo4ELdXV1D+ZkHwE9bKjJ9f5844037nlsxzMCXlzioSavHim+w+JlSe2lKL/88svIz8+HSqWCWquDn34MBZfGAyh3koj+IicI3QfD1jMAdgODkJKRjdmzZ9NovOvXr2Pbtm0YPXo0XFxcYG1tDQcHBygUClbUTllZGbRaLR24Pvfcc3BwcMDgwYNZ6US//PILampq4ODgAAcHB6jVahQUFLAGVrdv38aPP/5I06c8PT1hbW3NmT5VVlYGkUiExYsX469//SvKy8vh7u4OkUiEO3fusI4/Pj4egwcPhkgkQkVFBT1+46IDxqlWAQEBEAgEKCgooN/3t7/9DWKxGEFBQVAqlUhMTEReXh5CQkKwd+9e1j25dOkSFi1aBJ1OB7VajZKSEvzlL3+hkyxLE07TwkDza4/ByckJ3t7eGDt2LOS5MxCaOw+Dh46FlZMXhZr66ia4k6H4Q++++L9eveEdkwlp8kQ4S0KhUCgwceJE2NrawtbWFrm5uZBIJIiNjWWln9+6dQsrVqyAg4MDPDw8YGVlhaCgIBQXF0Mmk8Hf3x9CoRA1NTU4ePAgCgsLoVAo4OrqCoFAgBkzZqClpQWLFi2CTCYzA4K3b9/Gnj17kJeXB5VKBY1Gg+zsbGzatMnsGX/11VcpoFAqlUhKSsKECRMeGlS4F6jZWd9XHmr+74h5jsJiEln9sL66Cc6yaDhICAVLM2bOhEajwZdffslq4+rVq0hKSkJ5eTn9jPFdO3bsGGtfxm5izZo19LM333yTE6IAwKpVqyCXy1nPIjOpa2xs7NZrEDNpU5dS8U2LJtXU1IAQgu+//x4AcPnyZURGRtLfHxNR39raSlNhGXFNKM+cOYOAgABacIY5d2tra/z973/vlnP/vdSe5ysDH6UjJtDPPrlwhfY/9fX1Zu3JZDK4ublhy5Yt0Gq1sLGxwbvvvssqmBU7px4iTymcZdGIW9ho9r0Ji49h5YG7xUi4gGNTUxPq6+sp1OwsCGpta3tkoOaD9PHuql+qJXUGajL9hPE+H3zwAQgh8PHxoVDzxRdfhI+PD8LDwxEVFYWkpCRqQzR9+nT6t5cvX6Yp+TY2NnBycjKLUr958ybCw8MhEonQ1NSEI0eOIC8vD0qlkvV7Z9pqL+L9YcvSmE9ZvgED7FxgOzAQdgODILR3gkgkQmVlJcuG58KFC4iLi4NQKERISAgSExORnp6OkJAQs/Tz1tZWzJo1C3Z2dvDz86MWBMnJyYbfVWsrFixYAEIItm7d+rAvxUPXf//7X1RVVdHx+NixY/H888/Dzc0NEokEwN2CVgxQN9ZXX32FNWvWIDs7G1qtFiqVCjk5OXj++edZGUW1tbXw9fVFSEgIzpw5g927d2PkyJFQKpVYt24d3e/ChQtYtmwZJBIJrKyskJiYiMWLF+Pbb7/t9DnxjIAXl3ioyatHiu+weFmSJahZUlKCxMREbN++HY2NjYjNMKSD+enHsCbTurn74SxTo3d/K/S1soVzgApeqjRII9RwcnKi6UPnz59HQkICVq5cifXr1yMoKAju7u5wd3eHWq3Gvn37sHHjRgwaNAiDBg2i0XUxMTHw9fVFZGQkKisrceLECQpbCSFITU2Fj48PgoODkZycjCFDhmDPnj1YsWIFEhISkJycTNOnsrKyMGjQIM70KQZq5uTkICYmBmvWrMGkSZMwcOBArFixArt370Z4eDjmzp2L+vp6zJkzB25ubggMDERBQQFu376N69evIy0tDRKJBG5uboiPj0dZWRkCAgIQFBSEf/zjHwAMsCA6Oho2NjbIy8vDkSNHsHXrVoSEhMDGxgabN2+m9+T69evIyMigE+5Dhw5hzZo1UKvVyM3NRVBImMUJpynUlKVXYIBAAJVKhTt37tB0P928A7D3CaVQk0lFt3HzxR/69IMkvgiJS5sRN2s3VCoVLfjDRDgQQjB37lyo1WokJyfTNKRvvvmGTj4YmMY8XyEhIQgNDTVLDWcg3SeffPLIRDGZyjQSKKZ0CTwkMhx5+Y9m+1qCmp31feWh5v+OGKB3+PBhs4jOkBHj4CGR4dxnF/Dzzz9DLpdj7ty5nEBiyZIlkMvluHHjBgBDCmtMTAzGjRvH+r7169eDEMKy8Jg9ezb1wjVt99133wUhBEeOHKH7JycnQ6fT3bOHpqVrED/1KQSmV8BJqoTIwx9OUiUC0yvMUvB18w5g8NCxEAeqWECCSatvbm4GcNcWZdeuXXBxcYGfnx+io6MxfPhw+Pr6Yt++fazjSE5Oxrhx4/DRRx9h8uTJUKvVsLKywoABA7Bt2zYAhihXgUCAKVOm3HNk6r3qzp07OHDgAE3JjYmJQWpqKhYsWGAGN5YtW4akpCS6uGY6IWZgo776GIKzZsI1eAhsPQNg6yWDOFwP50A1XdwMTJ+K6KRs9O3bF1ZWVujfvz8cHR3pIubKlSsRERFBF/969+6N//u//4NIJELCsBHQzqyj9y68cDGsXQehn8gZfa3t0Ktvf/yhd1/06tsffQRCLFrxJD1Gpt80zpBgYGZZWRkSEhLgKZFBljqZ9XzELWyEpzIZvfoNgMDRHW4hsZi88lkEBwfD0dGR1a921u+4I90P1OyKn/n9+nir1WrW4izXxtiXXL16FT/88ANrY37zHZ2vl5cX3NzczNpOSEgAIQReXl7Iy8uDTCaDr68vevXqBWdnZ4wYMQKFhYUIDg6Gt7c3XdD873//C4VCARcXF3h5eaF///5wc3NDZGSkWZS6k5MT+vTpg5SUFHh5ecHf3x++vr5oaGgwa2vQoEHw9/dHVFQUZ1sPS+0tMvjE5uEPffrBcbACITlz4B2TBTd3D4SFhdFjZcafIpEIQUFBaGxsxNatWxEdHQ2hUIj09HT6bmhra8PEiRNhb28PNzc3bN26lVoQODo6UmDX1tZGo31ramoe+jV5WPrpp5+QlpaGyMhILFmyBIcOHcLatWsRHh4OOzs7CjUZcS2EHD16FJmZmdi0aRMOHTqE+vp6mnlkvIBoDDULCgqQkZGBZ599FkeOHMHrr78OwHAvdTodEhISkJSUBB8fH2zduhVxcXHQ6/Wd9jjlGQEvLvFQk1ePFN9h8bIkS1AzISGBpkoDQE7NK/BUjIDIwx/xVYfpIIox9JeOmACfIXmwGxQCW88AeMuH4syZM/Slfvv2bdy+fZu29/3331PfJCsrK4SEhCA7OxuRkZFQKpWsdKLTp0+jsLAQKpWKpiMZp7t8+OGHmDdvHoYOHQqFQoGEhAQUFRWhtLQUISEhNH2KORau9CkGahJC8PbbhgiQGzduYPny5dDr9YiMjERERIRZ4ZV169axUpuuXr2KmpoaiEQiuLu7Iz4+HnPnzmVF3hUWFiIuLg6hoaEswPTcc8/B2toaI0eOpPeESS/bs2cP674xBZc8JLJOQ03X4CGwc3JDeHg4Zs2ahejRiyBLnQwH33CIwxMo1PSKMqRs+g8vR6++A2Dl5AW/xBKoihciNjYW1tbWiIuLY0HNxYsXY//+/SCEICMjA8899xyefvpp2Nvbc0LNdevWcaaGFxcXw9XV1WLaTU+WpUig8FGL6LU19Zxl/MZMoSaXuCwSeKj5+MoSHD/U8prZvsxzcOHCBRrh1NFmPOGprq4GIYRWt21tbYVer2cVdAFA/fva23bs2EH3T05ONosuvh/Rgle6ZDj5KyBLm4LgrJlwj0iEUCyBT2w+K9rPyV8B24GB0BdOxei5NYjMmQ5nfzkcvGVw8/bDE5WzAADLli1DQEAACCEIDQ1FXFwcGhoaEBcXB4FAwLKDeOONN+AqdscAayF69xOgn409rOxdYW3rgN69eyMsLAzXr1/HF198AR8fHwgEAgiFQgQFBWH06NH485//3G3Xw5KY1N2Kigo0NDTQhbOioiIW3GAmxE8//TTdx3RCnFPzCvTVTYZUfnc/DNJkIyRnzm/XXQ8bN194x2RCHJ4A24GBsBX7on///ujXrx+cnZ0xbtw4zJ8/H4WFhSCEwM3NDZ6enujduzesrKzg4OAAPz8/CAQCSCPUFEzr5jdA6CH9DWb2Qe/+VugndEA/G3sIbAzvasZ/uyOoGa0ZAqFYwoKa+upjEIcnUO9o75hMSEeUw25gEFzcxBahZklJCUpKSjBo0CDk5eWx/I4ZX9ZZs2ax7se+fftACMG5c+csZsPo9XqsWbOGAiVj/fTzz8iZvMjgo+sphZ13EDyVybB28Wb5mZ//z39oHz9lyhQ4ODggLCwMOp0OU6dORVhYWKctb1QqFdLS0tr1Pmf8UsvKysz6AebadQQ1AwMDMXz4cBDC9t08dOgQhZparRbW1taQSqUYNGgQsrKyoFAokJOTg6SklN1qxgAAIABJREFUJAiFQnpeGo0G1tbWGDNmDLZv345BgwYhPDwcYWFhkMlkrCh1Jycn9O7dGyKRCLNmzTKzxzBuy9hqg6uthyXjiGbTzUFCaHFH5hlXDcsCIQRTp05FQ0MDFAoFHBwcEBkZyYq0/frrr+mCfF5eHurq6jBp0iQK6xhrIcCwaBIYGAh7e3uWBQETAb98+fJuW8jqSWLGa/v372d9vn37dggEAgo1LaWf37p1Cxs2bMDw4cOhUqmQlZWFw4cPo6mpCa6urpDJZPjhhx8A3IWawcHBCA0NRVJSEqKiopCWlkahe2FhIZKSkpCYmMj67QUHB8Pa2pougne0yMUzAl5c4qEmrx4pvsPiZUmWoObTTz/N2m/EihcRNHI6hGIJYiqf/S3VZT169R0AodgP+uom6JccR2D6VLiToXCURECpVGLYsGGorq5mVV9sbW3FtWvXMHToUBQUFIAQgg0bNgAAjaowTSdi1NbWBp1OhxEjRnQ4aOpq+hQD2DoSc/yXL1+mgxfm+I3bMvbUvHXrFm7fvo3PP/+c7m96TPv27YOTkxNUKhX9u/bSyzIyMmDn4ddpqGnrGQC3wBjMWrAEer0eA/1D4BqkQXjhYlahIMfBkbBy8oRzgAoiD394KpNhOzAQPrIIJCQkIDAwEElJSWZQEzAUEMnOzkZUVBR0Oh08PDzoZLCuro4+XwcPHgQAVFZW0nNWKpUICgqCo6MjNm/e3KlIzZ4E6iylhMlLV0MoloCMWcHynQOAefPmPTSoeeHChR5zrR53dcYv2JIswXHj36gpHDd+Dv7xj39QsNIekDD+fTEefEz64KlTp0CIefpwZmYmNBpNu+1+/fXX7V6H+xEDNTW6BMTNP8jKGmAWYxhfYG/1SNgODIRm2k52dN78g3D0IxA4uMNBEoGNze9DpVLB3d0dO3fuRH19PVQqFX799VeUlpbCz8+PptWffO01eEpk6Cd0wAA7V0gSRtPCNUJ3P/TqJ4CjmydNt799+zb279+PgoICBAQEwNraGlZWVhYLM3WXCgoKkJWV1e4+zITYOHITMMANjUZDQe6IFS8iJGeOweOyaAnrWuqXHIdXVArsBgYh/rc08RErXoRUKoVAIDB7L06bNg0CgQD29vZ455136P08ceIEHB0d0a9fP7gNlMBJqoR3TCYG2LlC4CCGJL4IPrH5EIol2NTyPr748kuoVCqkpqaira2N/raYd5EpYHPz9sMf+vSDh2IEPfbQvPkQiiXwikpjvSejp2xDf4G1RajJXJecnBxkZWWx/I6NfVmNxyeVlZXQarVobW21mA3DFH1bvXo165pdv34dJHYERJ5SSOIKEZI7F0Ejp8ElMAa9B1jDxnUQEhYdhVAsQWx6EQgxFAMSi8Xw9PREXV0dlixZgpCQEDg7O6O2ttbsvcn1vsjLy4NGo2EtRlvShx9+aLF/MfZF5xIhhEJRrkU4Ly8vSCQSSKVS7Nixgx43A+7HjBkDgUCAp59+GidOnIBAIKDjvkuXLkGlUiE5ORmLFi2Cu7s7QkNDcePGDdy8eRNCoRC9evVCcXGx2XGZtmW8mbb1MGXsPWu6Ocui0atvfwweNo5+lrmmBbW1tcjIyEBYWBisra2h0Whw+vRps/NiIgaLi4sRHR0NJycnuLu74+DBg2b7JiYmQiQSmVkQbN26FYQQLFy4kDPj5FFWVlYWtFotbt26xfr87NmzsLW17RBqMpZcEydOxP79+7FlyxbExcVRG6eAgAC8+eabAO5CTQcHB8TExKCuro6+S5hAB2Yucfz4cRQVFSE0NBQNDQ1oaGjA8OHDodFoAHS8yMUzAl5c4qEmrx4pvsPiBZhH/uTUvILK9fsQFBJmBjWPHj3K+tucmlfMKmRHjlmBP/TpByd/JV0VthsYBF9dART5s3D48GGsWbOGpvE9//zzyM/Ph0KhACEEIpGIprAwEwVjqMnlj3jp0iUQQlieR4xMvW6cnZ0REBAANzc3CAQC1iTH0dERIpGIVf2ZEII5c+ZwTsRfffVVpKSkQCwWw9ramvo0MdE9xpE8TNTn9OnTMX/+fCQkJCAyMhIff/wxXn31VVrlWyQSwcrKCra2tvDx8YGvry8EAgFkMhltS6lUQqFQICsrC2q1GhqNBhkZGViyZAmmTp0KkVhicYCrHF9jKJJRuJhCTdcgDY3q+OjrHzn/znZgIHr1E8AtVIeoiU+xvNJMzeUBICAgAMnJyWYVjZnKypWVlXTiajp5MoVyXa342FOgZnspYZrpuyAUSyCJL2Zdy3//+980+vhhQM0rV66AEHaKE68Ho/uBmpbguGn/awzHjZ+DK1euQC6XY8qUKV065vT0dAwfPhxtbW2YOXMmlEolK1ofAC0UZgrCLOlBQc2dO3eaXSfVpKeoRUrcwsbfogqzoJt3wGzz1Y1Cf1tn2Lj5IrJkFWxsHRAQEICLFy/i7NmzCA0NpQtfJSUlIMSQVq8bORoiTykc/SLh4BtOvzu+6jCsnLzQe4ANBti7IWP8bM7jP3v2LOzs7ODs7Gw2Me5OlZeXQ6vV4q9//Svn/29vcY2BG8OGDQNgePe7herg6Ec4ryXzXCrKapC41FDARyqVwsHBwQxkPf/88xAIBNDpdADu3s+ioiI4OTnBysoKU6ZMQVZ+EVw8fNCrTz/0s7HH8Pl1SMybgKCQMNrWkiVLQIjBHsEUara0tCAzMxPx8fFoaWmBIn82Bti7sexzmCJSkWNWsKBm4tJmCOxcLEJNJuvC2Jc1Ozsbubm5nfJltZQNAwCTJk2CUqlkFaqZv2QlhO5+iJqwEdqZdZClToa6ohYJi1+AUOyH3v2tEJhRaQC0qnQEhYQhJCQEwcHBrN/e7NmzIRAIsGrVqk5BTeZdv3nzZs5nqLN9wIcffghCCPbu3Us/M/4+Lqj5yYUrWPTcK7Dz8MMAkTOc/cLgIZGhdk8DPW4mIr2goAACgQBPPvkkSktLaeZPaGgoQkND4eLiggEDBsDT0xMCgQA+Pj64ePEi6urqYG1tjV69etFK6cbiaovZGGjPtPUwxdgGcW2qJzbDwTccQrEEDhIC75gsROTPp2MzJsOnvU0ul9Pv6ooFweOozto9nD17Fs7Ozu1CTcaeZdq0aXjqqaeQkpICQgxWTNbW1hAIBAgICKCWKAzUdHJyoqATMCxy6HQ6DB06lL1wwzHPYe5lR4tcPCPgxSUeavLqkeI7rP9tWYr8MY7mG1f1FFrb2iymClWu34cB9m4YYO9mEWoaJndHkLi0GeubztG/PXPmDAYMGABra2tMnDgRR44cwVtvvQUXFxe4uLiwIv2MoSYXqLIENbm8bgYOHAgHBwckJiZCKpWyogjS0tIQExND06eAuxGHXBNxnU4HZ2dnDBkyBHPmzMHMmTOhUqkQGBiIgIAAVlRmWVkZbGxs4Ofnh5kzZ6KhoQF1dXX49ttvceLECbi6usLd3R0ZGRlYtmwZ5s6dC4VCgWHDhkEqlWL37t20LU9PT9jb22PhwoVobGxEY2MjNm3ahKysLEyePLndSM3wUYt/m2yuo+nntp4BNKJmU8v7nM8FE/E0ZPbz9DMGoDATyQ8++IAeo7+/P5ydnfHll1/izp079PPTp09TT02lUolLly6ZPV+tra24efMm/btHFWq2lxJ295r6wTduFELz5iO9bDZ0Oh2Ki4sfGtQEDNG9cXFxqK+vx4kTJ3DixIluvAq8GN0r1GwPjjPwKLJkFXxi8+EgiUBQaDjy8/PNnoNp06YhMjISp0+f5vweLiDBRHO8/PLLUCqVmDlzptk+r7/+OgghZl64jH766SdWBOj9QE2uRbjShZsQFBKGN954A61tbdjUcrf/iltw0AB2lCmInrwVQrGk3c3KyRPWLt404i0gMJhOBm1sbGBnZ0dTCgkhWL72KQywc0NfK1s4+hG4R+jpd0uHl8PKyRN9BEIMsHeDr64Ar797zuycbt26BTc3N9jZ2eHKFXMfxHuV6bUaOrMWg8NVCAoJw7BhwzBnzhw0NjbeE9yoaXoPtl6yDq8ns3g2bFkzbJw9YWPnyKooDhggpkAgQElJCf03IQTDhg1DdnY2RCIRamtr0dbWhoqKCvTv3x8CgQBKpRKhoaHw8PDAuXOG62q8wGYKNQH27y1+zl6z9HNnWTTsvIM5f2sBSePM+lVTv2OmaFZzczPKysqozcr58+eh0WhoMa333nsPhBDqy2opGwYAjb5iitDcuXMHfqFKiMMToJt3AJFjVsLG1QfBWbOgm3cA0uHl6N3fGtYuA9HX2g6Og+UQObrA3d0dWq2WVQ38wIEDEAgEmDVrFi1kwpwL1/uitbWVLkiOGzcOu3btwtGjR1FbW4vKykooFIpOPZs3btyAVqtFSkoKDh48iF37jiDriSrYefghsnAx7Dz8EJU4EkEhYTj6wgt0TKKdWQehWIL+Iie4BMbQSGFPiQzbtm2j7/6RI0dCIBBgzZo1SExMhEAggIuLC6RSKaRSKSQSCQQCAfr37w8nJydkZGSgqqoKsbGxsLe3R58+fTijSLnaMt3mz5//0L2/s9edaHesEV91BJElqzB4aKnBcsjDD/Hx8fjiiy+od/Dq1avbjbZn1BULgsdJluZMIk8pXEPu2j20GvnGdgQ1V61aBUIMUdSRkZFYvnw5Wlpa8Pbbb2PChAnw9vZGQEAAa8Hf19cXUqnUrMgkYyVhfC/HjRtnNs9h7mVHi1w8I+DFJR5q8uqR4jus/21ZAprGUDOsoAqbWt63CEOOvPxHM6hpmn5u3O6/vv6RpmhfvnwZffv2hY2NDWsi7OXlBbFY3CWoyaSfJycns9ri8rrJy8tDcHAwIiIizEARF2BoD2rm5OQgJSWF9Z0//PADVCoVnJ2dzaCmQCCgkS7GOnToEAQCAdRqNautCxcu0FVx4wGMk5MTxGKxxfRzLk/NIbOfR0jOXDgHqGDnfTctMDhzhiGSKbEE+iXHkbi0GR99fRmbWt6Hfslx6KubkLDoKMLyF7IiCze1GAZv58+fh0qlMrsOTNGjF154ARkZGdiyZQsaGxsxZMgQ2NrawsvLC9u3bwdwd/J06NAhs/MBQCu/GxcnaU89BWq2lxKWuNRQsMRnSB7svIMh8pTCO1KPt99+22KhIC51B9T84IMPMG7cOMTExFB4wav7da9Qsz04zkBNj8hhEHn4Q5Y6GeMWbcaf/vQns+fg+++/R2pqKuRyOebPn4/6+no0NjZi8+bNKCoqwvjx482++7vvvoNcLodWqwUhxOJ4gcsLd+fOnZg7dy5UKpVZ9XPj61BbW4s33niDs9033ngDtbW17S7CMddg8qpdaG1rQ1NTE4JCwjBt/X5krHgBIrEEkpg0zHq6EW4+AfBWj6Tp4aabfNxaiDwDKDjxkUXQieCYMWMouHjxxRdx5swZLHruBEQe/ugjEKKfjQPsB4UgOHsWvKJS4OSvgNB9MIWaPrH5cPcxFMPJysrCzJkzMXXqVAQHB0MgEGDo0KHtPgedVXvXioEbaaUzaPXoe4Ebn1y4ApGnFE7SKIvXUjm+BrFz6ul3Wzl6oK+1PauiOHAXajLPhHHkbUFBAYWagAEGMu+P+vp6REdHw9ramh73jBkzIBAIsHnz5g6hZvLC57mh5qAQzmsXmjKe9Xv65MIVJOaVw87DjwL2VYfeQUi4AfCXlZXB398f6enpAICKigrqt8j8NhlQaSkbxvh6MPDhxx9/hJ2H310Q7+iBP/TphwH2bvQzG1cfDIxOR+9+AvS1tkPvfgOQmJjI8vEGgJdeegkCgQBPPPGE2fdael+0tbXhyJEjKCkpgUajgUqlwogRIzB16lRqsdAZnT59GqNGjYK31FCQ0HZgIB13GopMDYVQLIF+wkp6D1hQM0hLoaZQLEHu5EWcUDM1NRXW1tbIzs5mPcfHjh1Dfn4+wsLCoFAoMGnSJHz88cdwdXW1CDUttWXJauNhqXTLG+2ONUy3yaueo7+Lf/3rXyCEYOXKlZ36rq5YEDxOstSnugSqYTcwCAmLX6ALOEzGm1AoahdqTp48GWFhYYiIiEBVVRXr++rr6+Hj48MJNYODg82g5uLFixEYGMi6l+2NHf/xj39Q302uRS6eEfDiEg81efVI8R3W/67ai/wxhZqJS5tx5OU/Whzc5s54EjZuvhRqRk3YaPAWs3dDUOYMJC5tRmTJSij16YiKiqIwkRACOzs7eHl5sTx2PD09IRQKuwQ1AeDJJ580S2divG6M/Y2YSI7Q/2fvzMOaOtP+b1UEEkhCCIGEkLCEPSTASUgChM2EHRQQZBEVFQEVXOoCroBFa12q1rVWrAsqKioq3aZO25m3U51p+3Z5Zzrj281W7TKdVu2qFb+/P+J5zEnCpr7Tzq/5Xte5evUQz36e8zyf577vr0plF2paDyz7g5qVlZXIy8vDrVu38P333+Pq1av4+uuvoVar4e7ubgM16ahUa61evRp8Ph9KpRIXLlxg/I12jzx79q4RSFRUFDgcDh577DHGb+lIG0v3c3qAEJ5bB1e+CM4cAdyEMuIMPHrZCUg02cTZ3IUnRPncNuTk5IDvKYBfcCRS6tYie+VpBOpz4O0XiHBFFCIjI+Hv7w+BQICAgAD88Y9/ZJwrbfLA4/HA5XLh6upKIhzoEgOnTp3C8ePHkZ6eDjabjTFjxgCwhXJvv/02VCoV4uPjkZSUBJVKBaVSiYKCAmzbts0G7v5aoKZlSpj1O0UPziwH1DltzzCee4f6Fz3Yt+7cA7bP0LVr17Bx40aMHTsWer0eKSkpKCkpsXFl7ev623umbt++jfb2dlRXVyM9Pb3PesG0BgM116xZw4AdwF04bmo+BUEwBWG4jkxA0O83VxIGmX4M0lvNAyp71wAwR01u27YNxcXF0Ov1pHTFsmXL8Nprr9m9zjNnzgRFUTCZTP3WQ/vd736Huro6pKSkQKvVIisrC7W1tejo6Og3UrO/Z54elPU3CUdfg8ixDdjU8w7juaAj4tasWYOrV6+C7xcKqTav3+8fnYLsEaCEhySYRLDSqecFBQWMeyMI0cAzKAaj3PlwYnPBD4xGQNJ4JC88AJ4skgE1VbnmlFovLy+4ubmBx+MhKCgICxYseGB1+Pq7VpbLpp53SGThvcCNmKRM8GSRMK7oHtT+LKEmvX8A2PH0ITg5uyBAm8Uwv9p/7LQN1Lx+/TqEQiGEQiG++OILrFixArGxsZg2zRxFOXbsWLBYLBw5coS8W2lpaSSLw/J9q3/Mtg2m731q4yGb40/IHm+Ouvz0U3KN6Zqelr8TxxgRFhuPadOmwdvbm1xP67qs6enp5Fr2Z5xj3c7961//Alcsh2+sCQGGcWALJDYLTxqBtMVHSPq5m5cUycnJMBgMJO398uXLjP329d189dVXUVNTA6PRCL1ej6ysLNTX15Po2PuR5bNq/Y20/n/LhSOWE6hJ9z3TW8/gj2++B4qiUFFRQdq+uXPnQigUIjo62iZKnU7pt4xSNxgMpH9irf62RWuwKfgPSgP151ObDtv078MiFJDL5ZgzZw5u375NjKms+5/2zulBlSAYin7pPl1/1zgspxYcsRxRxQsY68PzZppd50V+uNXb2yfUjImJsQs129vbwePx7EJNpVJpF2rGxsYy7qU9qGl5f3788Ue8/PLLWLduHcrKyhiTXA5G4JA9OaCmQ79KORqs364GSou17kzO3XDINg3pTjSIdU03Xe1GuPsEktQ0YUQC+N6+MBgMKC8vR0ZGBpnRDg8Ph0AgQG1tLY4ePYr9+/eDzWaTGjBDgZrffvsthN4+YHN4CE4qQHTxArh5SSAOCMHY4tK7x30nfUooFEIgEDDSpxQKBXg8HmO7/UHNNWvWQCgUQiQSITAwEAEBAfD09ASfzweLxbKBmhKJBHq9Hu3t7Xjuuefw/PPP44cffsCsWbOgUCiQnJwMnU6HlStXksLelZWV8PDwYOz72WefhaenJ1gsFkJCQlBUVISqqiro9XqMHz+eAQHo+yNSpfbpDGxc0Q1F4TywhVKMcHKBM5uLwMBAVFZW4tChQ/j73/8OADh58iRkMhl8fX0RGBiIyMhI6PV6KBQKVFdXE+Bx7tw5zJ8/HwEBAaAoCqGhodBoNFiyZAkuXryI8PBwSKVSlJeXIz09HU1NTQgKCiKdOnswprm5Gd7e3pBKpQgMDERRUREWLFgAtVqN2bNnM+7LL90BpmUZqTkYqFmy/gUH1ByChgI16+rqoNFosHr1anR1daGzsxPr16+3MQGjKAp5eXnIz88ndX6vX79u95m6desWkpKS0NzcjL1799rUC7527Rpj24OBmnRdw3Xr1pF1NBynzaUUhXPtDPKDict3Ttsz935RLdTb2/tvSaMcCGpaTtL0BzU95RTSFh/BjqfN36s///nPaGhoYDwjAQljwREHI27aWvsAwAJmqSevAlcs7zetPqulG4IQjdkI785/7W2Xbmsf5L2ZNGkSKIpiPFP04NvU3I3IgrnE2M1THovA5FKkLu5kHNe5d83PW19w48KFC5gzZw5SUlKQkJCA0tJSMsG2f/9++MkjEJZTS7ZHTW6DOHo0eNII8KQRkOrHIGH2TjPU9JJilBufTHaamrtRMKMZXEkohj30EJw5npAbJyJq3AJSUoFKzmZAzUuXLiEoKAhCoRBtbW1obm4GRZkdsqOiohAQEAAul4s///nPmDJlCnJzc1FVVYW0tDT88MMP5H3r7e1F+aSpNm0wbRQUkjGVcZ3i67dDoYoBRVFo2fsiWW8PaobnzTRD9rgkcLlccr0uXLhAJii1Wi2WLl1K7ttQoGZvby+EchWEEfFImL0TYbl1JIsiZsIKxExYAXXVKvLceYXpMNLZFYWFhejq6sK6desQFxeH8ePH489//nO/UPONN96ARqPB+PHjsXfvXnR3d2P37t1oaGggxn6WoksBrV27lrHengP8hStXyb3Wz3iC8Y2MrWyBIFiNEU4ucBPKEGyaDOPyEzZQ010UiICkEuIALwtVwsvLizinX758Gb///e8REREBZ2dn0u8wGAwICwsDRVEoLS3F1KlT8cMPP2Dnzp3w9PTEyJEjoVAoMGvWLLz11lvkmH//+99DpVIhJCQEarXaJuKd3ta/UwP15/kBSkh1eYjIn4XosqWIyZlMDGxefPFFAMD777+P0aNH2/Q/N27ciHHjxjHa5wdVgmAo+qX7dP1d47QlR8xR+eJgBKVWQDW+CSHpU+AuCsRIVze48kXY1PNOv+nn5eXlUKvVaG1txfHjx/Hkk08iNDQUfD5/SFCToijGvUxNTUVAQECf99JalpNcDkbgkD05oKZDv0o5GqzfrgZKi7UGMMY5W2w63BvPvANd7UZG+rmp5TQCU8rgxOLAzTsALjxvOI1ywahRo6DValFRUYF9+/YBMM+Qc7lciEQiFBQUQK/XIzMzE1wuFxKJhDHQnTBhAoKCgsDlmmFbWloaKioqSJ1JGrAKginwpBHmDq4kFCOcXeHCE0JROI+R7tbb24u8vDx4enoy0qcUCoXNrCZ9HFlZWYzB4+effw6DwUBS2SMiIqDT6TBjxgxMmTLFLtQ0Go2or69HcnIyiVa9fPkyZs2aBYqi8OGHH2LdunUYO9Yc1ZqcnAytVguxWGxTtP6jjz5CeXk5AgMDwefzybnQTop0bTnrAT99j+05A9MDtKDkEkYdTMA8WFGpVPDy8sLJkycZf3vhBTOMo4uZA32nQOfm5mLs2LGgKArJycn46quvbJ5Pe//2p59+sgsW6BIDlvU8f+kOMC3LjjCdxk+XZLAHNTecetsBNYegwULNb7/9Fmq1elARaHK5HCKRCC0tLTh9+jR6enrw888/49lnn4VUKrUxKvvxxx9ttnH+/HlQFEXaOlqDTT+fOnUqUlNTCVCk22uZfgy4klBG5A39zlouHpJg0la/+uqrmD59OmnnSktLcfjwYZv3mx4QXb16FW1tbcjMzIRGoyFp4bdv30ZHRwdpm/Lz89He3k7O1RrGXL9+HVOmTAGXy4VCoUBkZCRCQkIQGxuLoqIiPPfcc3j99dehVCrh4+MDd3d3sNlseHl5ISoqCpcvXyaDP9+gcLhwvTDShY0RTi5gCXwh1eUjftZWmJq7IYsvwEgXNzw0fCQeGj4CQkkARCIRaWeWLVuG999/HywWC4IABTwClHBic+HMEcCFJ7yzeMOJxYELT4iw3DoCUKKyq0hafUtLCzIzMyGXy0mZFNPcrUOCmnQU7f3qwIEDMBgMNlCTbnMCk0vvROmNgap0McJyajHSmQUWX4Sw7BpEly2FonAuVPEmUBRlF27Mnj0bYWFhUCgUKC0thU6nIzXbTp48SeCGQhkNbXoh5Ilj4Mr3MX9vgtVw8fCBIEQDniwSCQ07zZkAXC94hcZBWdKIka5ucHJ1h1eoFg+NGAmuXzh4fuHgScPh7hOIyLEN8IlKhgvLjbTlq1atgru7O/z8/BAQEICIiAh4eHjAz88P3t7eCA0NJfXmMjIykJubSzIYKioqMHr0aERHR6OyshJVVVXwk0cw2mDjim6IotPAEcvhn1AIZUkjwnJqEKQwGxcplNFIXrCvX6ipq9sEjlgOVw9vuHM4ZHLj9u3bMJlMKC4utnlnhgI1ASC3ai44YjlUpYvtRjTScJ4jlsPNOwBCSQDje0jXyn366af7hZq08dFQou9oB3hL2XOAX3/qLUj1Y+AhU8DU3E3OQxxjhGdQDEKza8H28oOrhw9cPXwgjjVBPeVRcl7CiAQ4ubrBzdufOMBHj6mDh4cHPD09ERoaSvoQjY2NcHV1BZ/Ph5ubG7y8vCASieDj4wOJRIKjR4+ioqICer0eMpkM7u7umDNnDoqLixEXF4dXX32VnMuqVasQExMDtVpNJm2Dg4MREhICiUTSp6P7/5UG6s9HFsyBL5UBz6AYcCWh8A6JxYwZM2wiTb/88kub/mdxcTHa2tqrxmunAAAgAElEQVTw7rvvMn77oEoQDFbW9V7/3RroGicvPIDA5PHw8I8CTxoB39h0RI2bj1FsHtgCCdJb70YRW0LN1157DRRldiB/5JFHkJWVRa5lcHAwwsLChgw1gbv3MjIyEmw2GwkJCTb30tqQDDAbq9KTXA5G4JA9OaCmQ79KORqs3676c0q0t1hHl9DRINadaVNzN9xFQXB250Oqy4eqdDE8/KPAZrshIyODEbm0efNmcLlchIWFMbYtlUohlUrJ/9+6dQsBAQHg8/nYuHEjTp48iYMHD2LVqlWkDhQdlWhcfoLUtUlvta11Y+kMXFhYaAMwFyxYAIPBYHO9fvrpJ2g0Gsbg8dChu9FA1qKNXizVX+28Rx99FBRF2U3notPP7YEbS3V2dtoFeTuePgSurzk1k74utFsqXSeTdn+lB2hZje12tx8eHo6QkBAcPHiQ4Yr79ddfIyEhAUuWLCG/HwzUtIxGs9RAxkA///wzrl27hm+++QZvvPEGKIpCZ2cn+fuvBWr2l7JkD2peuHLVATWHoMFCzZs3b0Kv16O8vHzAemc+Pj6QyWQM6Hf58mUUFhbCxcWlT5f43t5eRr3glJQURlQSMHio+eyzz4Ki7jrIrj/1FlIWddxx7i5mPEf6GU8gZsKKOzXo0hEzYQWmLd+CS5cu4eTJk1Cr1cjNzcWuXbvQ0dFBXLtbWloY+6QHROXl5aipqUFHRwcjSpuOtKqsrMT+/fvR3t6OgoICVFZW2sCY77//HsXFxQgKCoKPjw8pGUEbHGRlZUGtVuPYsWOIi4uDj48PRo8ejZqaGoSFhSExMRHfffcdXnrpJUydOhWj2Ob0ba/QOPgbxiEwpQweAUrzAD0yEa58EUa5ecArVAsnFgdOLm4YPnw4wsPDUVNTg4KCAshkMgwfPhw+0iBw/cLhFaYDWyDBQ8NHYtiwh/DQ8BEYyeLAic3FSFd3ePhHwbj8BDacehu/+93vUFpaCg6HAxcXF3A4HPB4PHh4eIDN5cOF5w2RKm1QUNPSLO9edenSJSQkJODgwYM2ULNk/QvQ1mwARywn5QjoRZZYBCcWB2yBnzl6MygG8sQxOHfuHGP79IBYJpOBzWZDrVaTAfF///d/o7y8HElJSbh+/TqBGxUVFeBwzNfeUx5r/v6Pb0Lygv3mQT6VfgdYmSBSpYItlGHYQw9hhDMb0eXLMNzJGb5UBqjJbXDli+DC9YKnnIIwMhEjnVlofWwjent7UVlZCZFIhKSkJMjlcuJU7evri9raWmzZYp6AXb9+PWQyGby9vYlZT3R0NHx8fMDn87Ft2zZcvHgRKpUK0YkmeIVpwZWEmqPatHmQJRSaIZBfGKiUHPzuxRexYcMGCER+EClT4SFTgOcXDpZAAmd3T1KjOr31DJQljRjl5oGHho/AiJEjYTQasWDBAnzwwQdYvHgxmdD8/PPPSZtgD2rS3wLLdo5OBdclGODE4mCkMwuunmI4u/PhbyhGeO4MSNSZEASrEZE/CyNd2HBydQeLzUZKSgqJOqRdwulIsb6g5pNPPkm+r4MFSpYO8ADwzTff2HWAH7f2WfBkkeQ5pfuT/MBoMnETN20tRKpUjHLjYYSTMwTBFHmfPINiiQM8fe1HL9qP2NhYaDQa5Ofnk2O6fPkygoODIRQKodVqbcpjrF27FhqNBm+88Qajnb558ybKysoY2wIGX2rj36H77c87NLCGeo3p53mkixu4fmFIbz2DFXt+Z7dfOn/+fFAUhbq6Ohw+fBg7d+5Eeno6GUdYGvn01ze2l2pO9yUWLlyIM2fO4Pnnn8f7778PAEhLS0NDQwOefPJJnDx5Env37sW4cePIJJeDEThkTw6o6dCvUo4G67ergWYdrRfr6BI6GsRehEDctLWMddTElRBKzFByxowZOHToEBoaGpCXlweBQDAg1Lxw4QIEAgFUKpXdc/n7pa8ZaUmWi71aNxeuXCVuvdYdADrq75133mGspzsSloPHI0eOgKIohiskYI6Msrft/qAmHe00d+5cu0ZBMTExBJ729vbapLUC5rqTCmU0cibNtnEGFgWGk3Q0y/sWVbyQOANbQs01x2xBLQ1eLWuiWi+1tbU216w/qGkvfa2vf9vb24unn34aRUVF0Gg0Nvt+8sknyW9/LVATuAvcB0o/p4G7A2raV3+u14NJPz9+/Dj0ej0oisK4cePQ2tqKs2fP2gzUBQIBgoODbbZnNBoxfPhwm7pXL730Eqqqqgg4sVxoUxBag4WaN2/ehNFoxLRp08i5R4xpsKkfZw+a0W3ct99+C4PBgIyMDHzzzTdk27du3cKMGTNsYDA9IGpqarKJ4rx48SLUajUmTZqEmzdvkvXffvstSfO0hDHbt28HRVGor68HRVEoKSnBjRs3yAREZWUldDod1Go12tvbGc/8gQMHQFEUAW2lpaUY4eQM+ehKxvka5rWD5SnGSBc2cdhOmv80OOJgiKKSIBQK4e3tjfz8fOzatQtKpRKjRo2Ci6srglLLkdp4CDxpBAQhariLAuHMEUA+eiKixs2HIESD4U7OEEePxoUrZjfyadOmwd/fHxEREWhoaEBnZyeOHz8OY2YOnFzd4R2ZOKhvKb29+1FtbS0qKyvR29tr813KaXuGtOP2nhWv0DgIQjQDAg66DbVnHkVDNst7Tq+LGlNvs0/6eJLm72Wso0GmzbPsG4yRziyLkikNqHh4NambafkOfv/99zCZTDAYDNi2bRsaGxshEolIFJ5SqURHRwemTp0KiqKQn58PijKnqx88eBA6nQ5arRaLlq/E5Mb1UJfMgzBUA0GAAo3buxn3S6vVYuQoF3grDIjIn2WOgM2ugTAinnFuwnAdOCI5XHhCBGizsGnTJqSmpiIpKYk873Rd1qFAzQMHDiAqOhbRhgzElS1AdGkTfGNNcOF6YfhIJ7AFEniFaSHVjwE/QAmuXxic3fmIUBvg7+8PiqJI1CF9f2nI2hfUvHbtGpm4MBgMmDlzJnbv3t3v5JClAzwAYkBl7QBvmLXF3A8Zt4DxjQzLqbF5JhSF88ARy5E45ynzBHrLafADo4kDPL2MfeQ4vvnmG9L+X7x4kfE8z5s3z+Z4b9++DaPRiMmTJzMma+nFelu/Ng21P2+deWX57HV3d6OkpISYPx48eBAA8N1332H16tVIT0+HXq/H5MmTGdkxtLq6ujBz5kxkZWVBq9UygL499fT0YPz48dDpdMjKMr8rH374oc1zaO/ZtFx37tw5VFVVIT4+HqmpqVi6dCmuXrVta2/duoWOjg6UlZUhPj4eiYmJmDp16oDj4IGu8ehlx23W0TU1xTFGpLeeQd7yQ3b7pTdu3MCWLVuQlZUFnU6HcePG4fjx4zh8+DBjEgAYOtTs7e3F5s2bkZ2dTfrN9P737NmD6upqmEwmaLVapKeno76+nnx7HYzAIXtyQE2HfpVyNFi/XQ1Ug8d6sY4uoT/w9qAmvU5VthRpS44gtekwtOWNxLHbaDRiyZIl+OKLLyAUCuHr60vg4O7du+Hq6opRo0YhPz+fdJ4FAgH8/f1JarVliqRfcCQBdtaRMmlLjoAfoMIoNw+w+GKwPMUQiKXw9vYmqXu0bty4gbVr14LP55MI0qysLFRVVWHs2LEYPXo0GTzSnePY2Fj4+fkhODgY4eHhSEhIIPWnrDsX6enp8PPzQ2JiIuLj41FRUcEYwCxatAgURUEqlSItLQ0rV66EVGo+VhaLRd7TY8eOwcvLC1KpFEFBQaAos4GHPEoDjm8I9DO3MO4dnX6urlo9aKhpPfD+4YcfiLtxV1dXn66flu7kg4GafaVp2fu3dPTHwoULcerUKfzXf/0Xzp8/j9OnTw+qA/xLiS4D0B/UpJ3kAQfUtFZ/Ts4xFcvBEcvx8MbD5PrRoicoLl++jOvXr2P9+vXIyMhASEgIAgMDiYPohAkT8NNPPxFwwGKxIBKJCJhcsWIFqquroVAoMGLECLDZbAL26ZqGlZWV6OzsxOrVq5GbmwuVSgUu1+x6avmM0wCD/u+nn34KpVIJPp+P+Ph41NTU4B//+AcAYNOmTaAoCh999BF6e3sRGZcMYUR8n200DTVpOE6n3NIAwVI0XLSMOqUHRPT+LbV3715QFIXnn3/e5m80pLE8z+LiYhgMBnR1dZE2g1ZNTQ2BOhqNBjdu3GA88++99x6JDAOAuLg4jHByRvLCAzbn7Obtj5HOLMRVrydQQxSdBjcvCQICAuDh4YE//OEPeOWVV0BRFGQyGWQyGcKoBChLFoEjliOmshlx1evg7hOAyLGzyXacOQJw+F746quv8PXXX4OiKAQHB9uk1X755Zfwk0f0GaFpuVhmCtyrjh8/jri4OHKf7EVqCiPiwfENtjvZF5BUwjDC6SsdngZRW7dutfnbxYsXSZQfLfr7MLphk80+6TqV1MSVd8FfRDyGOzkjIKnE5vfekQkY7uQMauJKRI5tgFeYFp6ycOTl5eGpp56ymYj4+9//jpqaGsTHxyMyMhJCoRDJycmYNGkSmTDo7e1FQ0MDYmPNqbcmkwk+Pj5wc3PDrl27GNv74osvkJWVxZiU2L17N1gsFjjiILvGSLRxlxlwdNlA4w8++AA6nc4m0tveRActFouF5ORkAOZ2cMzU+XZNjKy/LaGZ1SSC0U8egWXLlwNgRh0OBIks1dvbizfffBM7duxAbW0ttFot4uLi8Oyzz9qdbLJ0gAeAlStX2nWAp8bNZoBKch5lS2yur3Xt9tSmwzZlNzhiOSTyCMbE0ptvvsk4N+vyIQDI+z3QQm/r16ah9ueta+TTUHPixInIzs7Grl270NnZSaL6jxw5ggkTJqC+vh6HDx/Grl27kJKSAqPRiO+//55xLGPHjkVjYyPa29tx/PhxBtC3BuF0dlFBQQHa29uxf/9+TJgwgUD0wULNSZMmITU1FZs2bUJXVxdaWlqgVqvR0NDA2F9vby/q6+uh0WjQ1NSEzs5OdHR0YMqUKTbfqaFeY7+4HAQYihFV9DCUJYsQlFoBjm8wPINikLKog9EWDFZ0IMG/23iKloMROGRPDqjp0H2rq6sLWq2WuAnn5ubet/Ogo8H67Wogt0Tr5cKVq4zOa1+d6fTWMwjPrTOnOwkkpKPJFcv7jFxKT08nYCAvLw8GgwExMTEksmLFihXYuXMnNBoNxGIx+Hw+oqOjMWbMGBw4cAC6CU1IaNhhF2qmLu6Eh78CrjxvsPhisAV+8ApUYvr06YiPj0d8fDwAc2eHHmyXlJQgKSkJ/v7+4PF48PX1xQsvvMAYfFCUucaaWq1GXFwcIiIiEBAQAKFQiIyMDCxfvpwBNdva2giY7ejoQGdnJzGwoAeNN2/exLZt2yAUCuHh4QGBQIBx48ahsbERMpkMr776Kp555hnExsYS12LaGIEn8IZPVBLiZ23tczBAp59H5M8i94Xt5YfhTs5wdveEIERjrofq7IIVK1bgjTfeQE1NDQwGA1JSUtDR0YHw8HAEBwczAEZfDtA03HlQUDM1NZVErlmKjoz9tUJNWsefexkSeQQSp7Qgp+0Z5C0/BIk8Aq2PbWT8zgE1merPyZk2zqEmt9kAo6amJlCUuWg+XcNu8eLFOHLkCDZs2ACdToegoCAoFAqcOnUKly5dQk9PD7y8vODn54eenh709PTg7bffxrlz51BeXg5XV1dIpVLU19ejp6cHkyZNIm7GbW1toChzbaw9e/YgKCgIkZGRjHfcEmqOHTsWJpOJANKtW7ciMTERJpMJ33//PS5dugS1Wo3169fjT3/6k7mNnL+6z2vBEcuRWV5L4C5dK4+uiWmpa9eukUhKWjTUtFcjlD43e8DzpZdeAkVR2PH0IfJ94EnDIY1JJZG0ltHsa9euJdGyWVlZAJjPvPW7Gx4ejlEuLLvnzPL0xXAnZ7D4YtKmufJFGOHkhFGjRiEwMBA9PT2YP38+4uLioFKpkJaWBoqikD1hJvk3bt7+GO7kDBeuF9x9AuHuEwiBSAqBQIA//OEPeOedd0BRFPR6PZKSkhjpgACQlJwMfUbRgEDTGrwPVV9++SWSk5OxefNmss4aaq4/9RZ4skh4BsXYPY7Q7OngiOVIqN+O9FbbCUta+/fvB0VROHr0qM3ffvzxR1AURRzFARDjkAVbuhCeNwPi6NHgB6rAlYSaIwY5noiwiOLkySIxwtmVRBfTi37mFnj4KzDCmQU3b394BsVAos6EbhoTBtITFXl5edDpdDCZTGhqasJTTz3VJ8x/6623CMz/7rvvoNFo0NjYaBOZ19TUBL1ej4CAABw+fBhr1qyBSCSCm5sbUmesG3S/ydRyGoWrusl2x48fjwkTJjCOyWg0IjEx0e67ZQk1N555h3y7lSWLYGq+C1Yt+2EZrafhHRwDzeh8vP7ex4iOjsaiRYtsog5bW1shl8vv6bt55coVpKSmIlKT1Oe50w7wt+7UL7fnAB9nHMt4TvtzO7eBmo2HzCU3Yk3QTl9PlqM9ZxkTrXRWS3/nRpsbTZkypc8JW8tt/do01P788edetgs1TSYTI7rxp59+gslkglqtRltbG2OfZ8+eBUVROH78OGM97SZvKXtA//r160hMTERubi6+++47sv7GjRtDhpp6vR4ff/wxY5902SbL6Foaoj777LOM396+fRsNDQ1ISkqygbSDvcbK4oXwUSbDwz8KHN8QeMopBKaUMerv9jWBZO+b+9lnn8FgMNgYGf475WAEDtmTA2o6dF966qmnMGzYMCgUCmzevBlr166FVCqFm5sbw5VvqHI0WL9t9QcLLJfHz7zd52+tO6HqqlVw5Yvg5OqOoLQJUE95FNrp6zF69makpaXZRCRYQs3MzExcu3aN4U5Kg7833ngDV65cQXFxMXx8fEgq1Zw5c5C98u7xWENN9R3oETuxlayjZ0uLi4tRVFQEAOju7gZFUXjkkUcYx3fx4kXo9Xrk5+cz0sIpioJarbZJe6WL71vWKKNTsewNslavXg2NRsOAd3QRcXvF1ufPnw+DwYCff/6ZrBuos2VtFES7pbqLgsCVhMGVL0JoVjXUVauQWV4LFouFkpISJCYmYs2aNejq6sLu3bvx5ZdfQqlUgsfjMdLGaQfoZcuWYceOHcQBOjg4GBwOx6bm6L1CTct0XFo///wzSUn8tUNN6/TCvo7RATXvaqBn2zCvnbj+0pMvAPDxxx+TVPPVq1cjJiYGO3bsYGz7jTfegFwuh0AgwP79+8n6kJAQeHp6MgZnvb29SE5OBovFYgzMFi1ahPj4eGKURb/jmzdvJrDJ8h23hJoUReH06dOM9HO6/hU9UKyvr0daWhrmzJkDnV6P1Z2v9gs1M8ruQs09e/aAoii8/PLLNtf1+vXrfUJNe6KhJu2IbakXz56FnzyCASK4fmHwiUombY9lJK0l1KTPeyCoyWa72T1nV74II13YCMueTqCGZsqj4AnFcOdw0N7eTgbU8+bNA0XdNWloamqCQhmNyvlrEKjLwQgnZzi7e0AoCUCg3GzQEBERgTNnzhCoOX/+fMb3atGiRTh27BgSExNRXV2NC1euYsOptxlRaxtOvf1AUs4BYN68ecjPz8dPP/1E1llDzQtXroLjGwxBsNruNQvPm2GGQ3WbGe+MtXbt2gWKotDd3W3zNzrtva6ujqyrra01f7d6zoIfGH3HxXw+lOMb4UtlYLiTMziSEBLlSKeYW0JNw7x28KQRcPP2hwtXiJCsakQWzEWAYRxiCmaRfdE1WymKQm3Dw5i48DGo8mvAk4aD4yODj1SO/cdO2xy35XNP15S0twQHB8PT0xPu7u6IiYmB0WgkbteDiYrT1W6ERJMNnl+4TeRgXl4e45gMBgMEAoHdbyENNel2MG3xEYhUqeCI5eDJIuEXl4PIsQ1QV60CRyyHouhhpDYdhkIZTfZnHXlOL3FxcRAIBAN+N+2Zidy+fRvK+NHgySL7vAa0A3z9o+ZIbnsO8KpYNQKTx98T1DQ1n4JHgJIRvd5fJHR/fYLe3l6kpqaS/uB/ogbbn9/U845NX4T+/y1btthsd+7cuTZwELg7Mfb444/bPZ7bt2/ju+++6xPo099M2uzTUs8999yQoGZTU5PNNl588UVQFIU//vGPZF1lZSWysrLslhigxwDW9YUtNdhr3NfS1wTSzp07MX36dOzevZtEt6akpCAuLq7f4/m/loMROGRPDqjp0D3r66+/BofDgUQiYcwSXrx4EWw2266pyWDlaLB+26LTYgfqAD1++u1+O+90JzR54QEIQuMw0tUNPGkEo3D+o0fP2xjtAEyoSQMBy0G+ZWQF/TcWi4WtW7eSSCzjnC19Qk1d7Ua4i4IQmFKGtCVHyWwpXVOTNqqh4ekXX3xhc51aWlpAURQjtZqiKEyePNnmt/RAydK0ZuHChdDpdPj8889tOlLnzp2zme3Ozc1FamqqXafvlpYWaDQanD17ltS9G2iQRQ8G6PpkedOXIqtiFkaxOWDxRYgwVZCB94oVK8BisUBRFMPtk9bGjRvBYrEQHR1NUn327duHlpYWmEwmxsDswIEDYLFYSEtLQ3d3N55//nm8++679ww1aUODBQsWoKurC3v27EFJScmgZ/X/nbKXkjdnw0EolNEOqDkEDQYgSHV54IiDEZRWgcmN60m6G11kn4ZYiYmJWLZsGfbu3Yvu7m5s3boVYrEYbm5ujHc7OzsbXC4XFRUVOHz4MPbu3YvKykrEx8fbQE16YBYREQG5XI4dO3agpqYGmZmZJP3V8h23hJrp6ekAzG2aUChEdXU1vvnmG1AUhY0bzdG7L7/8MoEQ6eOn93sdhpJ+/uabbzLaVaBvqLlz5074+/sjKiqKpJ9bGpeUzW61ARHekYngySKhGr+YgAj6uGj4NXHixEFBTTpDZeWBl2zO2U0ow4hRLtDNeIKx3icqGcOdnFG9Ygs6OjoI3LV8HmhDmaKiIqhUKojFYsyaNQuvvvoqzp8/z3CFptNTZ86ciR9//BEvv/wy1q1bh7KyMiiVSri7u6O0tPTeHnI7std+TG/ZZhP1Sl876+9qYGTsoCI1+4NA9xqpeeHCBazvfpOxT83Ux+DK94ErzxvUpEeQ3mo/UjOqeIHZdTxxHCOa1BoI0DVbSxtabPojrnwRnFgcqKtWY+MZZnSsJdR89913yfekv+g82vSlqKgISUlJA060xNdvB8c3BMJwPaLGzceBrjM4d+4czp8/j+LiYpv6uX1BzVu3bhGoadkOmppPQVe3CeF5MyHRZIErCYW7WA43oQxeoXGIHDsbArEU2dnZOH/+PMLCwjBt2jSb80pOTh4U1Hz44YdRUVGBLVu2oKurC52dnaiYXM0wGLTbN7zjAO8dmYio6Ng+HeCnLds8KKhpql1lUyc2JH0KcYC3FwltmbY7UJ+AnmzpKwX5l0oBHqwG05/PXfUMsh/pgXHOFkjkEdjx9CEAd6HmyZMnbbZLfxfs9UcpikJzczNj3RtvvIG6ujrEx8fbgHRLoN/fpNs//vGPIUFNeyUy6HM6ffru5EZCQkKfExn0Qpvz3es17m/pawLp3LlzqKmpgdFoRFxcHFJTU1FfX/+LlztwMAKH7MkBNR26Z+3ZswfDhg2z+XAAwKRJkzBs2DB89NFH97RtR4PlEIB+o0sG6sBbdkLVVavg7O4JJxYHmmnMFK2lK9eAoiiUVExiDNZEEVqExOihUEaTNElLqHn9+nVER0cTl3Maah47dozUcqtd+WSfUDO99Qw4viEY5eYBV74IHv4KhMaa626ZTCb885//BGAesNBpXtaiB8UvvHA3dYSiKCxdutTmt/Y6XsXFxZBKpQgJCemzI2VZ0ys3NxeVlZV2j+XTTz8lQDAtLQ1z586FtnwRUhoPDgg1tdPXI3JsA8SRekRFRYHL5WLWrFmM+mQ01Owr5eX1119HREQExo0bh4yMDFIIvrKyElu3bsWVK1cYDtBhYWGQy+XQarUEXNwr1Pzpp5+wefNm5ObmQqfTIS8vD1u2bMFHH330q4Ga/dV/pN+Vacs241ZvrwNqDkKDMUBIbTqMwORSePhHwVMWgYKSMsxa8zSocbPBFcvh4RsMZfxoNK54BOXl5UhNTYVer0dubi5MJhMUCgWjEH91dTViY2MxZswYaLVa5OTkYPv27Vi9erUN1ATMUd4SiQRsNhvu7u7EnITL5UIgEDDecUuoOWXKFLI/GmoCzIFib28vsrOzoVBGQ1dnW6vQHtSkB0+0URAdAU+rt7cXs2bNAkVR+Mtf/kLW9wc1o6KioFQqMXnyZNy8eZNAzY4Tz0AQrLZTgsQcDSjV5TNAxMkX/kAgnGU7bzAYMGfOHAC27+7EiRPBYrGwZOlSxoAy6eE9YPHFGOnMQmg201gkNKsaw52cIdXlITY5CyaTCT///DMDar7zzjuIi4uDh4cHZs6cafMuHj58GNHRdychpk6dCrVazXhWADOkZbFYiI2NHcqjbVd9tR/G5SfAD4yGX1wOVux5AR99/DE++eQTfPLJJwQQf/LJJ/jqq68AAIWFhZCGKPqtqbnq8B/7TYe/15qa586dI4N/U3M30pYcgaJwHty8/cHiixGaWY301jOI0KbZ1NSMqVhxx9U6Bu6iIEbtSEsgUFxcjMDIWLvn5ymPxXAnZ4TdeSYswa3lJOnVq1eh0WgY0cr96eGHHwZFUfj000/7jdgKyZh6xxTpaRtobDKZGFBz586d4PP58PDwYPQHcnNz8fHHHxOombnwKXPkpyySuIXTxkTJC/bBI0AJrl84uJIwOLG5eOih4XByckJmZiZEIhHmz59P9km/X1FRUWCxWJBKpWS/dKS45Xtw9uxZzJs3D1lZWdDr9UhNTYU6NReq0sUwNZ/q8zoYV3SDJ40w1/NOZYJcSwf4y1eukPe6L6i5qecdnDh5EgplNOZuOET6j4WrT0GdmguFMhpz5szBvn370NXVhW3btqGmpoYB0QbqE3z//fdkgmoKr+UAACAASURBVHSgbf2aZd2fz11l69pteZ03nnkH5//85z77Y/1F8Fv3Vf72t78hLi4OBQUF6OjowMsvv9wn0Kehpr3x51Chpr17as94S6/XY8yYMf1OYtBjgv5keY0zV9p//q2XB1FP+d8tByNwyJ4cUNOhe1ZtbS2GDRvGACq0du7ciWHDhjGiwoYiR4Pl0EAaKFLKuhNKTVxpjgpUpkBZvBBRxQuQlF+O3NxchKi0NsBREKKBZ1AM2F5+8PKV4cTJkzZQMyQkBBKJBG1tbSgoKEBgYCDWrVuH+Ph4ZGVl4b//91K/UFNZvBCCMC3YAj+McvMAl8eDSCTC4sWLyXkWFhYiJSXF7jXoC2raA0/2OllFRUVwc3OzGy1BL5YF1PszDgDMKdevvfYaNm/ejKqqKnB9Q8CTRvTpimydtpXeesYmatBSFEVh0aJFdvdtr6MI3L8D9P8v6m+wa/mubOp5xwE1B6GcNtsBWX+LvQEGnQqd3nrGJnKLjs6xhprW0VRA/66jRUVFMBgM/Q6W+nvHb9y4QVzFLe9/7516dMp4I+Oc6Np6lo7LllCTjmo7efIk1Go1MVixNEVoaWlhnEN/UJOiKFInuLKyEvPmzYO/vz/kCjVE0Wlmw52K5eRYRi89Bu/IRLjyRRjl5gG5aTJCM6vhHxaNpKQk7NixAwKBgGSazJgxA3q9Hu3t7ejo6EBwcDCeeOIJAMCZM2cgEAiIk3ltw8NIGVdjdneWhMJbYTDX1qPSETl2NqLLlsAvLgcPjRhpTnkWy9HU3EYmbGioefnyZXR1dYHNZkMqlcLPzw81NTXYt28fmpub4eXlhaCgINLW/fWvf0VcXBwMBgM2b96MI0eO4OGHH4bJZIK7uzsUCkU/T/Lg1Ff7kbbkCMMMxc8qpZleaGdn+l6deO5lmwnLyLhkpBozBjwWun2ybr8Bpvs5HVWaUNVirp1dPAeTmzYgd+w4KGMoSOQRcHHnY4STM7iiAGSU1+HClatYvnw5nJxdGN9r44qTkGrzMNKZhZEubPhSGQjLrcPSXWcY+4+hNOD5hcMnKhkeMgV40gh4hWkRkDSeROly/SKgqV4LqS4fugQDqaErk8nw2muvATCn1qrVavzpT3+yew0so/PoGoIPP/wwbty8aROxRRsF0ZGwLXtfYLQ1x44dI8CS1oULF5CZmQk2m42mpiZSx/ell15Cc3MzWCwWFAoF+AFKBJsmI7JwLkIypoDjGwIfhQGm5lMwtZyGMCIePGkEPGQKBKWWQxSVhKCgIBJhnp2dTSY2fvjhBxw+fBijR49GUVER2WdPT8+goxEH67Yt1eaZ2waL0gHA3XI/tAM8YAZFczccgockGOoJK2xKN1hGh1vqxo0b2Lt3LyoqKpCQkID4+Hjk5+dj4cKFjD7bYCY6B7ut/xQNtmzU/I2HHwjUpM0crQ2BAFug/yDTzwcLNUtLS23KN92vBpvxdr/1lH8JORiBQ/bkgJoO3bNyc3MxbNgwRnocrZ6eHgwbNgzr168fcDsff/wxXnnlFcayefNmR4PlUL8aqPNqb2Y9unwZvBUGcP3CEBKtQ9PixVh54CW7wNESarrwhKhevtkm/TwqKgqZmZkoLi6GTCYDm83G2LFj8dhjj5F0cbrzZm8f1p2LH3/8kdRhpAHFYNLP//rXv5J1dGdu586dDCMOe52suXPngsViYeHChYO65kOFfpmLdoPjG9LneduDmtZRg5bqD6pZdhRv3bqFgwcPwmQywc3NDUKhEDqdDrNmzSIgh3a9tDQR8vLyQmxsrN1r/c4772DOnDnIyMiATqdDeno6pk+fbtNG3bp1Cx0dHSgrK0N8fDwSExMxdepUu23ZYLd5vxpKVHN66xn88c33HFBzAA128NzfQqdC01FdlhETdCq0Zd24e4GadN2xwUKB/t5x+v53dHQQswPdhKYhQU1LQ4JXX30V1dXVMBgM0Ov1GD9+PA4dOmSTTjgQ1Lx06RL279+PMWPGIDQ0FFwuFxGmCaSen6WzdXqruf6fOMaEkc4suAll4AeqEJY2Hh9//DFOnTrFgJqffvop6uvrkZycTCLI6IjY3t5ebNiwAQqFAjweD2w2G15iGaS6PMTP2gpT8ymoShdDHGMETxYJrl8Y3MXBGDHKFc7unuCI5Vi884xdqAkAFRUVEAqFcHZ2hlAoRHh4OHx9fREXFwelUskYFGu1WigUCmIClZ2djZycHHC5XGRnZw/q3vel/toP44puUJMeYSxPd3aTunHFxcV48cUXiXnk+fPnQVHM9HDgLpjbtm3boI5pypQpUKvVjP7nrVu3UFFRgUSDAY8e+RPjfvNkkXDzCYC7TyAkmmxMWfw4uo4fh0qlQl5eHqNtO3/+PFgsFmShSsa5UpPbwBZKIVKlQqrLQ0BEDCiKwt69e8kxePpIMNLVDVJdHpQli6AqXYzw3BkQqVIhDNffgZrhGOnCBlsggWb0GKSlpUEoFEIkEqGurg69vb348ssvkZ+fD41Gg8WLF6OjowPHjh3Dli1bUFlZienTpzOuBw2Ly8rK8NRTT2HL7v0oql0MidKA0Yv2o2T9C5i/6SiiomNRUFCAffv24ciRI1i8eDFSU1MxZswY5ObmMr6jnZ2dYLFY0Gq12L9/Pw4ePIi6ujpUVVWReph0iR1ZfAFEyhT4KJPh6uGDoLRK+MXlkFTw0cuOI731DApXnyJRh6WlpfD390d9fT0j6vB+JheHOtk0VNdnh+5f/bUn1n0RXe3GPie5hwI1N23aRKKZLWUP6F+/fh0JCQkPxChosFCTDlCwVzsUuL8SA//X9ZR/CTmgpkP25ICaDt2z0tLSMGzYMHzwwQc2fzt79iyGDRuGlStXDridFStWYNiwYXYXR4PlUF8aqPOqnb7ePBM/YQVZZ/0xH4yRjbvInHKW2niY/DtLoyB6dp5OP7cucH7i5EnUtm6HszsfTmwuPINiEGyajJRFHSRFalPPO6QW1/z58+Hn54ekpCTiaBsWFoa2tjZ8+OGHmDt3LinULRaLkZmZyYAAMTExyMnJgaenJwICAqDVapGbm4slS5YgJiaGdLJef/11hISEkMEJ7XRsOaj+9ttv8fHHH2PlypXIysoijusrVqzAZ599xrgf9or2P3b8L+DJIuGtMAwZatJRg5YaDNQ8ceIESdmMiopCUFAQDh48iPXr15PB/Q8//AC1Wg0fHx80Nzdj79696OrqQlhYGLy9vRnRI4A5pTExMZFElXV3d+Ppp59GY2MjoxPa29uL+vp6aDQaNDU1obOzkxGBZlkTa7DbfBCyjmq2HjjEVrZguJMzJHE5SG89gxV7zDUPpVIp43o7oOZd9RUpnrbkCEIypsIrNA5cSSg8g2IQYCiGYV67zW/Dc2eA5ekLjwDlnTTNMKSZMlFTUwOlUskY2L/11lsICYsAm8ODpywcXiFqhKaWYPGTZ7D2CTPcO3z4MBYvXoz8/Hzo9XoYDAbk5OQgNDQUy5YtY7QT165dw8aNG0nJhJSUFJSUlCAiIoKxX0vAQFHmer2xsbHw8vKCRCKBhzTiTsRpEpTFC2FccRLG5SdIdFhgShk4YjlGLz1mvi7BFHQ6HYqLi+1GGJ0/f97mHKqrqxmmCrTswVw6aipxxiYoCueC7SUF28sPodn2636G5dSAI5YjceYTjH9vHXU1WA0Eu63bvJL1L5DBufX5XLt2DW1tbSS9trCwEHv37iVg0HJQvGfPHlRXV8NkMkGr1SI9PR319fUPxMxhMPVjLRc6GpdO57cWneI7Z84cnDhxAlu3bkV8fDyKiooYEAG4ez+s4cB7772HxMREpKWlYffu3ejq6iLtbNXiDTbHpCpdjJGubnB25yNq3EIoih5GZFwSEhMTCYC1bNt8fHwgEokwuboOVYsfR2zhLHhIwyFRJmL1kddw4cpVXLt2DQUFBdBqtSSamcXzghOL00f6OXXHlCgUrh4ieAZFw1MWTr4B9HNA39dvv/0W27ZtQ3FxMXkXCgoKsGzZMhLRSev27ds4efIkJk2ahMTERCQkJKCgoABr1qxhuCa/8sorqKysREJCAlJTUzF37lx88MEHZMLEEri8/vrrCAoKQlBQEBQKBUwmE3FnZ7FYUKlU5NmgJrdBFj/WXI/UycUMf6PTbFLB1538b3z11VfYvn07iouLweFwIBaLGVGH9wM1hzrZ1Jfrs0P/d+qvPbEHNSXyiPuGmm+//TY0Gk2/QN9Shw4dIhG7e/bswYEDB1BZWUnqYT9oqHnr1i1S+3fatGlob2/HiRMnsHPnTsyZMwdxcXGDvr6/BTmgpkP25ICaDt2zHJGaDv2SGqjzStfAiqte12fndahGNiWzzFFKdDTlsmXLyLb6gppVVVVIT09HSHgEglU6hKaMA1csh190CsLVBixc2opDhw6htrYWYrEYnp6eCAwMxP79+7Fv3z5kZmZCKBQiNDQUEokEpaWlqK6uRlBQENhsNoqLixnnFBUVhYCAAIjFYhQWFuLo0aNobm5GdHQ0+Hw+iYT517/+hZ6eHojFYggEAiQnJ6O+vh5Lly7F9u3b0djYiJiYGMTHx8NoNOKJJ56AWq1GQkIC0tLSYDKZ8Pnnn5P9lpeXo7q6Gtu3b8eJEyfQ0dGBgpIy4nw6WKgZX7+d8W8sZ5MHAzXpyLRHH30UCxcuRHx8PBnU0VCHdoCuqqpibCM3NxdjxowBRVHYt28fWU93cN99991+n8nOzk5QlLn+l6Vu376NhoYGJCUlkWMZ7DYfhKzflYGgZt7yQw6oOYDsTYjQqc0csRwBSSVQljQiNHMauH5h8JApkDj7Scbvw7JrMNLFDSOdWRAEU5AlFEAZb4JAIEBMTAz+93//FwBw4sQJSIMVcHb3BNtLClXpYkSMaYAvlYGYihXQz3gCfvIIxMbGIiMjAw0NDdi4cSN2796NgoIC+Pr6Ijg4GGVlZXjyySdx4sQJpKSkQCQSQSqVYteuXejs7MT69eshFov7hZohISFgs9lwdnZGcnIy1MVzETVuPsQxRnDEcgSlVjDOkYaa4hgjJJpsaCsasX//fuTn59tEmQPAsmXLUFNTgx07duD48ePkHCiKwosvvsj4LQ0BP/zwQ7KOhmApM9dDEKwGPzAaPsoU8AOjYVxxknFspuZueAbFwDsykXwf7hdq3kukWH+D81+D7hUU9QU1f/75Z7S3t6OgoIBEqLe1tdmdGDt82Jx+amlYR+sf//gHZs+ejeTkZMTHx6O8vByTptVCHD0a/EAVuJJQCEI0CE6vQtqSI+AHquDM8TRHzPoEwk0oQzSlga+vLzgcDuLi4khEaWxsLPLz88kxpqWl2T1GegLt6lXzd8pDFoERo1wYJkPprWegq9tsNqeJSABHLIc8bQK5/7Q+++wzAnt/CV24chVrT76JojU9yF55BsY5WyDyD4bUP8Bu1P7SpUtt2sGk+XvBEcsRkT+LsV5dtQriGCOiKc3/aRmYewXwDv371F97Yg9qekiC7xtqAgMDfWudPn0axcXF0Ol0yMzMxMaNG/E///M/NtHZDwJqAub+6fHjx1FVVUWyF3JycjB79mwcO3as32v6W5MDajpkTw6o6dA9y1FT06FfUn11XpMXHoCypBHCcD08/BXE6dxe59Ve58qXyoAgREOgG9vLD06u7nBic22MbHp6elBWVga9Xg9fX184OTmRaDy64xIeHg6VSoW0tDRSQ8rb2xs8Hg+TJ09GQUEB1Go1uFwuRowYAQ6Hg/r6epJu8t577yEmJgZSqRSBgYHw8vICj8eDt7c3AgMD4evrywADYWFh8PHxsRk4yGQyuLq6kgHTlStXsHLlSnA4HHh6ekIikcDf3x+xsbHIyspCbW0tEhISkJGRgaeeegplZWXg8/nw9vaGyWSCn58fGhsbyX5PnDiBWbNmkVRqo9GI6upq1K3cOaRBhnH5CXjIFPAKjYOypBE1LdtJOzAYqJmUlERAJl0biXaLPnToEBoaGpCXl4fRo0eTgVNvby+uX7+OjIwMTJw4ESkpKViwYAHZ9pkzZ0BRFJ544gn89NNPfT6TlZWVyMrKsnGS/+abb0itLjpyarDbfBCyBi2m5lPmaLo7ETTWA1F6oO2AmP3Lui5YeJ7ZhCZybIPdgZovlQFl8UL4RCWDI5ZjxCgXOLt7wsM/CvygGHAloRAGx2Dq1KmYPHmy2fhCrQbLnQs3b3/4RKWQtim91Zzq7S4KgmHubohUqXDjesDNzQ18Ph9Tp04FYG4/5HI5uFwuRCIR/Pz8EB0dDS6Xi7i4OHR0dODGjRukbIJYLIa3tzcpm6DX68l7EhUVBW9vb7i5uYHD4UClUkEij7hj9rUBfnE5cOF6gS2QkPTzwJQyuHC94OzOh2HubhRMX4Ts7GxQFAVPT09MnjwZAEgUusFggMFgwIIFC0gb+OOPP6KgoADFxcWM8g6BgYFwc3ODwWCA0WjEzp070dTUBKlUCv8wlbkecqgW7j6BGOHkDHdRECTqTKinPIr0VnN0GUcsR1TxAvJ9oKHmX/7yF3R2dqKwsBA6nQ5ZWVnYsWMHI9r14sWLWLNmDYqLi0lkvZ8qGVFFD9s1KkltPITAlDJ4BCjBk0ZAHGOEcc6WXz3U/CVTeufNm4exY8cOqtbcJ598gmCVFnLjRESNmw/l+EYEpZab6zwqkxExdjY4YjmEEfFw5fuAKwlFYGQsUlJSIJPJEBcXhyNHjgCwbfvWrVuHwsJCPP744zhy5AiOHTuGmvp5kMgjEJxUQNI6E+o2YhSbh+FOznD18IFXmA7i6NHgSkLhIVOQY4gaN58BgGklJydj3LhxD+z6DUZ9mUDpajfCzdsfrnwRSmYtZ5SDsbw+lv/WHtSky0Bo0nLR2dmJV155hZSBSUtLswGY9wM1B8q+sV7+k1Nw/1P1n1wi4He/M2exPP/887/0ofym5WAEDtmTA2o6dM9qb2/HsGHDbIr6A3fdzy0jKIYiR4Pl0EDqq/OqrloFnl84RKpU6Oo299t5tde56gtquvJFyGl7xiYCc8eOHTh27BgmTJgAFouFiRMnArgL2UpLS0FRZhfYqqoqdHR0oKamhkCBP/zhD0hLS8OYMWMQGBiIGTNm2DifGgwGpKSkwGg0YtWqVejo6MDRo0eJ+67RaCSDPjoCk6IoTJkyBUePHkVnZyf27duHmJgYPP7443j//feRmpoKo9EIPz8/lJSUYNu2bYwIzA8++IAcv0qlQk1NDdrb27F//36sW7cOISEhpO5cfxpMsXLrJW7aWohUqeYIN0kwmUW3B9loMwjjnC3giuVwF/oh2pBB7nd3dzdKSkqg1+thNBqxZMkSfPHFF8jNzUVOTg7DRMjSFdoyeuTmzZuor68HRVEE8mzdupVE0tFKSEiwgcnWS09Pz5C2+SBknLOFEf1gPfCk/9+F64XAlDJGpJUDavYt62fbukZmeutdgyCJOhMuPCHcfQIg1eVBpEqFq4cP/BOKIFKlIqHBDP/109dBq9UiLS0NW7duReWU6RjF5sLVwwcSTTYDltH1K0XRaRDHGBE1bj4e27wDWVlZ0Gg0eOaZZ2AwGJCeno7AwEC0trZCo9EQ85vy8nJcunSp37IJXC4XRqMRgLlswyOPPAJ3d3fyLD+5/whiJqxAauMh6Go33gGYnjZQ000ogyg6DUXjK9DR0YF9+/bBx8cHAoGAtIFtbW04duwYHn30UWg0GtTV1eHq1av45ptviIN1bW0tOc7q6moEBAQgKysLQqEQKpUKISEhcHNzQ2JKGty8/eEVGoew3BlwE8rg5u2PUW48+CcWIb3VbBbC8wtH2uIjNqYfVVVVKCgowO7du3HkyBHU1NTYROicOHECRUVF2LRpE44ePYqOjg7EZxWTOoKWbdropccgDNeDIw5GYEoZlOMbEWyajIDwaIwfP/5XDTV/qZTen3/+GQaDAWfPnh3078c99qzN8USXLQFHLEfsxFYoCufCTSjDCCcX8ANViMqegmvXrtm0ddb///rrr6OpqQl5eXnQx8cjSEHBJyoJisK5NqnmyQsPQKLJJn2HEaNc4cITQj11DWIntt6BmguQ3mo72fpLQE1LKGkZKReaOc0MZ/kiuyZQ9PWxbAftQU1ZQiH8w1T4ziINHjC3JxqNxgZg5uXl3ZdhX3+meJbLf6Lr8/8P+k8oEXDjxg3cvn3bZl1lZSW0Wu191bh06P7lYAQO2ZMDajp0z/r666/h7u4OiURiU3+OzWYjMTHxnrftaLAcGozut/M6lEhNV74IJetfwOuvvw6FMhrBKi3GruwiERpzNhwE31OAkJAQ/PDDDwRq1tXVgaIozJo1i0T5nDp1CpGRkQgPD4darcZzzz1HUik//fRTPPbYY6AoChcvXgRgjlyoqqqyiVaxrHllmZp5/PhxeHh4wNfX1waqtbS0YMKECcjKysK//vUvxuDk0qVLMBgMaGlpITPSfD4fHh4edgGdRqMZ9L2ii5UPpTPb3yx9X9ElPL9w+Nyp4WntKG2pl156CRRldkweTPQIAPztb39De3s7GhoaCMC0hBx6vR5jxozp12n6n//855C2+SA0Z8NBBtSMmdCM4U7O8LuTbm4NNS1r4llDTXrd3/72N9TV1ZHIurlz59o1qgHMaVxVVVVITExEfHw8Kioq7KaTffjhh2hqakJWVhaJ9q2qqkJ3dzfjd8888wyJZNTr9cjOzsb8+fPx0UcfPZDrNVjRQL3oseeRufIMeHfczAsfe47U7qXbmJD0KRjp6gbPoBgC1DhiOdIWHyHPrqn5FMQROsTHx+OTTz4BAGRPbDADhbhcG+MzGmr6aXNhaj6FpPl7YRo/HVqtFiwWCywWC8HBweR9/eyzz0jbsnPnTuj1elAUBa1WC7FYjNWrV+PWrVvk/G7fvg1/f3/4+PiQsglPP/00uFwu/h97Zx7XxJ3//99q1RruQ+6bcAoh8EkggSTc9yVHUKyoiBS8UBQ8qIiieFRRvMWK1VpEELGgtrXdttu7Vm211u5q17o9cO1hvdb6tRVfvz9wxkwSLgVF/Twfjzx8OEwmM0nmk5nn533Ex8ez6zHnYVhJA541GIbBOgYaUlPP0hnyhExOpKNSqYSBgQE7BgLtaXulpaVwdnYGj8eDt7c3u/9OTk4QCARseQfVRkFMeYe9e/eCEIKKigrY8j0hnbKBff+HGltC19wBkvwqBBfvgr51u2BU/X1gpKZSqeREULe1tSEtLQ0xMTHssj/++EPrd8IpeCT0rV0QMnc3+1kxUbxeqTM549XLe15jj6+/8jil9DITlZELmxH2QgNC5+1hxze3mFzOeSPImIO4xQd6/Brdve5gHuIJy9lmWYFTN3HSz1UnWy9evAhCCKZPn96bb0mnqE8Oq0pNkr0MQw3N8ayhOeyDUuE7pgxbdzWwk6baJhjLXn4bRjYu8E6extYwz50yg1MGhoEpA6P+W5uRkYGMjIz7PqYnuevzk8DjMJ4cO3YMKSkp2LhxI5qamrB161akpaWBEIItW7Y89P2hcKGOgKINKjUpDwSTZu7l5YX169dj1apVbBfoL7744r63SwcsSnd40ItXbRdXnUnNVc0nMKtqD/St+HCPz9O4GXjW0BymlrY4++23rNScPHkyCCGcwv7MjbNQKGRvklWbRDCdYD/44AMAmulYt2/fxrVr1/Dee+9BIBDA2dkZa9asAQDs3r0bhBAMGzYMGRkZ+PDDD3HkyBF88sknIISwDY7WrFmDy5cvQygUYs6cOWya9KRJkxATE4PDhw+zwkMoFLINKtQfPaW3Zuk7urG08A6Goa0HW3agI6FdVFQEqVSKmzdvcpZ3FD2ijrYmEaNGjYJcLu9WqmR3t9kb/Oun3znp5l1JTeZGuyOpmZmZiZCQEKxYsQL79u3DqlWr4O/vj5EjR2p0rq6oqGC/d7W1taivr2e/gxs3bmTXu3LlCiIjIxEREYFNmzahubkZu3btQllZGWcfXn/9dTYKuba2Fvv378fWrVuRm5v70H4vOhLqBnelpqpQZ8YY16gJGMTTh75lew1ZbVIzcOom2PA9OQ32vOOy21M3J6yAvhUfdtJkDanpn7sK4fMbYepCMMzJG5s3b4aXlxckEgnbeEfb2HLp0iU0NzfDx8cHw4YNg1AoREZGBi5evMiOB2KxGKampmzZhJdffhkGBgacGmTMOBz2QsdS05bviY8+/pjzPubm5sLY2JgdA2/cuIHY2FgoFArMmDEDLi4u2Lx5M3sMxsbGCA0NZfdtzZo1EAqF+Oabb9jyDitXrgQhBFVVVSCEIC1/HiIW7IescBuGGlviWX1TSPKrWMk4e0Mj5/eBGZtVm3oxrFixAoQQDTkDtEfxXL16FZcvX8bzZRvvfmbL2c9KWxQvMzYxNUP7K/0xpZeZUFDt6FvZcgKSsQvayztYu0Lfis95MPVew0oaYOkTCn0rPkydvDBlyhTU1NTgp59+euD3InTeHo1lIXNq2XM3cmELhrn5w9DWA4t2vs3Z9uLFi0EI0ZjE6Us6ayIXsWA/DKzd8MwQHqxJDPzGlmPK0u0AOo7i11ZLsLtlYBiWLFnC/j68/vrrOHz48H1Fxj0pXZ9//PFHVFVVISMjg428Ly4ufuiTeL1FfxxP1GltbUVxcTHbpE0mkyErK+uhnpuUjqGOgKINKjUpD8zevXvh7++PoUOHshEcJ06ceKBt0gGL0h1u376N3bt3IyktA46evjB19IKllwzC5HyNi1dt0WJbdtT1SGouajjGXvR7pxfBLTYXZh4SGNi6szXynhmqh6K1ezSk5o8//sjuC9uh927dOoArNZnnHjjQHkXCSM2mpiZkZmbC398fhBC4u7uDx+PB2dmZLQMxevRoJCYmws/Pj3PT8d1337GRiarRlkz3c/UIzH/9619s1EhUVBQIIYiJicGcOXPQ2NiIa9eu3ddn1huz9J1dFHunzWpP/4zKZjswM98DInAhNAAAIABJREFU1XSiOXPmdDt65PLly1qPRb1JRG1tLQghHXYvV70x6+42ewtVCdeZ1IwZnc8+pyOpKRKJNBqp1NTUcGqGAsAHH3wAQghqamo09mfZsmUQi8VsdOf777/frVpVRUVFDySOe4OOhLq6uCpvOIayPUcRVX4QNuJY6AyzhZGDN/St+OCZ2GCwrhFcIsYh7IV2sek3thxeAiFqa2vZ1xJmzG6XDJnzYeTgBfPhQRpSUzFrB0R3o8FEYxYAaB8zmLFl7ty5HY4tQHvZBD8/P9jY2LDjCTMWMCUZmLIJb7/9NgwMDKBQKDTel9cOvw+jYZYYamCC8Dm72icwRuXDytpWYwwE2qWmmZkZu5/Md6C5uVljP+fOnQsdHR1O5KadnZ1GNOeCBQvY7yFT3sGX+EMSlQY9M1sMHPQswqZVwZ3IEBKTpCHGJsxfCy+BUOuEDTNGX7hwAUB7rc/169cjMTFRI4rdlu8J3+fKtApv9cm2mTNn9mupCfSflN6OJhSiyg/CO70Y+lZ82Ijj4DOqBOKcFQh4vhL+E1eykZLMupELWyCZtBbpk+cjPz8fAQEB8Pf312jypk5Xv1/GjgLYSRLhmTQVwsz58EothPnw9uZAZNwSRJW3l1exd/NGWHg4Nm3ahPDwcDg4OLCZHW1tbQ+tzmpXTeSEmfPbr3+MLNpLXXgGAOiZ1AQ6LwOjLjV///13zJ07F2FhYRCJRCDk/ht3PQnMnDkTycnJ2LRpE/bv38+W5wgJCcHPP//8qHfvvugv4wnl8YQ6Aoo2qNSk9EvogEXpir/++osVQDk5Odi+fTsaGxtRWVmJuLg4zrqdRYulTyrpUGoyF/mDdY2gZ2rFueg3cSHQt3aBS8Q4+IwqgUvEODwzVA8DBz8LSX4Vmt78B0dqqqbmqkpN5oJem9RkUnQTEhIQGhrK3vQ0NTXhww8/xI4dO+Du7g5nZ2f2BiMrK0tDat65cwfz5s0DIQRjxowBIe3dwY8cOQKhUIhRo0ZpRGDeuXOHbYJ06tQp/OMf/8CqVauQmZkJQgjCw8PvKxq7N2bpO7uxjChrho047m5jligMTynE+LmVqKqq4kSX9SR6RFuTCOb9VO1Ue/v2bcyYMQOEEEycOBHbt2/H/v37UV1djRkzZsDf37/H2+wNmO9T7oJ1nUpNo2GWKF2wgH0eIQSWlpacdHNdXV2Ym5trpJufPn0ahBDU19ezEwjW1tbQ1dVFamoqdu/ezWmc9Nlnn8HLywupqamIjY2Ft7c39PT0IBQKsWfPHs7+q6ab29jYwMDAABkZGRo1my9fvozKykokJSWxHYuLi4tx7tw5jffkflPYO/v+eiTcbRSUMoMrCu52PrYm0QgvbYIoexnsg1LxzFBdDBqqByMHb8gKt2HS4i0ghGD37t1sxGvSogYY2LpjmJs/DGw9NKSmnqUzFEU7Ic55EfpWfARlLwRwbyLk7NmzbM1YZmzx9fXldFNlyiasXbsW7u7uWLhwITsOyGQyJCcns2UTrl+/DmNjY42yM21tbZg6dSrs7Ozg7u7OfjfKyspgZ2enMQYC96Qmc6599NFHIITgtdde44yBzDHo6OggKiqK3be5c+fC3d0dBw8eZJe9+uqrHAmiWt7B1tYWAwYMgCI4GCYWNtC3dm3vkO1C4JE4BZELWyAcXQp9Kz5yF2zAsuXLOU2ACCFwdHRk5eysWbPg4eEBKysrTJ06FR9//DGOHDmCHTt2tKcp7qhDck4RjGxcoG/hBDvfUKxuOYl//niJbXYUGBgIKysrmJqa9uvrnf6S0tuZDLEQBGOYm79GkyZZ4TYNqan++3LhwgWEhoZq7YKsSleZBsNTZsCaRMPkbuOvYS5+4MuSEZi/mhMp+NVXX6GgoAAhISEwMzODhYUFqqurcevWLQCdd3buLc5euILoxdz9V5eaHTWRozw8Tp48qZEBwUSiq/9WPi70l/GE8nhCHQFFG1RqUvoldMCidMWuXbtYOade0Fv1ArCraDGRWIzMpY1dSs2hxpbs//UsnDDU2BL8iLGc9YYaW2KosSUk+VUoXF3Xq1LT2dkZiYmJnGM7duwYvLy8OFJz586dIITA1NQUSqUSu3btwoQJE9gITUYEL126FADYpiHbt2/Hm2++icOHD7O14v79738jPDwcEokEixcvRn19Perr6zFt2jQYGhoiODj4vj67vqiFqi42vVJnwsJbAQNbd5g6eUGpVGLt2rWc7XQ3ekS1SURgYCAUCgVGjRqFnTt3anQub2trQ1NTE7KzsyGXyyGVShEfH4/p06dzRFJPtvkgnL1wBTNW74aRjQtEY8qQ9uJhRE5ajoGDhsA+IAEZlW+h7OW34SUQws7OTqNZhqWlJSfd3NnZGRERERrp5kyETnJyMjuBEBAQACcnJ5iZmYHH47Fyiym9oKenBw8PDzbdPDU1FZaWlrC2tsb48eOxevVqbNy4kZNu/tJLL0EoFMLU1BR+fn4oLCzEq6++ijNnziAxMRFyuRyrVq3Cvn37UFNTg/j4eMhkMpw5c4Y9rgdJYe9MqIfPb4T5cFm7QAkeCcHIuXCLyYWhrQeM7L0gm76VK0ETp4BnYo1nntWBp1iOqqoq2NnZQSgU4vjx4+zrCTPnt3fwHjIURg5e8BlVguEjpsPI3gtDjS2hKNqJsBf2woTvB2cvEfueBQQEQC6XsxMZzNgyfPhweHp6orS0FDt37oRcLoezszNCQkIgl8s5Y5W2SComJT0xMRHbtm1jmwoRQtioxfuRmtevX0d0dDSCg4MxZ84cODk5YcKECewxGBkZwd/fn43SVR0zGZixVVtkV21tLZ555hkMGDAQzwzVhXtCPgQZc2Ejirlb77KQlZqu0RPgExTBaQIUHBwMHo+HF154AdeuXYNIJML8+fORkJCAxMRE9neIqeu5f/9+REZGQqlUQqlUQi6X4+bNmxpNmUQiEUxMTDpMe+9PPMqU3q4mxCx9Qu9KzWZ2WeSiA3CUKzlSk0kRV/19uXPnDlJTU7tsftcXnZtzc3M1ZGpfSs3Ool27kpqPomlLd+ns3H/SYMa++vr6R70rD8STUiKA8nChjoCiDSo1Kf0SOmBRuoKJctFW30yV2bNnQyKRcOrEcaLFBEL4jLoXrdktqWnpDJ6pDSwEwVAU7dAqNSNmbOhVqcnn85GYmMhp5HH06FFYWFhwpGZbWxt27twJExMTWFpaIiYmBsuWLWM7vC5YsICNwDx79ix+/PFHTJs2DcHBwaxw+vrrr9nXOHv2LFatWoURI0ZAIpEgODgYSUlJsLKywpgxY+7rs3vQWfq+uLF80lC9cVW/UWUiNWXxI3G7rY0Vkh1JTdV0cybtUD3dvLW1FW5ubrCzs2MnENLS0iCXy3HkyBFMnjwZHh4ebFTdli1b4O7uzkm1BoDz58+jtrYWxcXFCA4Ohrm5ORwcHDjp5n/99Rc+/fRTrFu3DtnZ2RCLxbC2toZQKNSItLx69SpiY2M53ewfJIW9K6EeVtIA1+gcmLqKYWDjBmMnHzjK0yGfuV1rvb2RM1fCyNgE1tbWkEqlMDc3h62tLU6ebC+7wIgcG3EsBusYQNfcgY0uNOH7QdfMnq1fKZuxDWNz8hAaGgojIyO4urri/fff1xhbhEIhJkyYgNGjRyM0NBQuLi4wMDBAXFycxvuXkJCAsWPHct+DjAy2mRYj7keOHIm6ujps3rz5vqUmAJw7dw4FBQUQiUTQ0dFBeHg4ewyOjo7w9vZmyzuoS81Lly6xY+t7772n8dm1tLSAp6OD//e3AXAISrsnvha2wMwzECZ8wkpN8cQXOZF8zOtZWlrCx8cHP/zwA0QiEUpLS7FlS3uE7dGjR3Hjxg2MGDGCnTgihOCVV17Bpk2bOJNKTJoz05CNmQhQKBRd/qY9rXSV+u2VWng3/TwWgpFz4ZU2C9Z+kWz9TEZq2gemgITEY9369di3bx/q6+vZz2XFihWd7kNfdG5+2FKzs0lF9d+K4OJXOFLzUTaB6oqnRWp+++23CA0NRWRkZIdlbCiUJxnqCCjaoFKT0i+hAxZFHfXGACYOnhDKo7uc0VUqlRr1zlQfNnxPeCZP65HU1Lfiw0GuZGtpmg8PgnPYc3AOGwM9S2dI8qtYkaYtmohBWxQUAA2pCdyLwMzPz8fevXs1IjDV61vdTwRmVVUV0tPTOdsKCwtDQUEBtm7ditdeew07d+5Eeno6CCGcjuv3w/3O0vfFjeWThuqNa0dS09Y/HmsPfdWl1Bw/fjxnWVlZGSfdHGiXmubm5nB0dGQnECZPngyhUIjvvvsOn332GQghaGpqAgAcP36clezXr1/Xegw3b96En58feDwe6uvrNSKyGb744gvo6OjAx8dHY+Li8uXLWLRoEcRiMRsBy/z/nXfe6XCbHdFToa760FZvzycwknMuffzxxwgICED43Xp79fX1UCSOZmsFqqbWsjU170pN1ciznowtPSmbAHTeyEPbeNdbY+CDlndIT0/HwGeewTNDeGxXdObhEjn+bkfsudC3am/mxEgcpgnQmjVrwOfz4e3tjQ8++ADTpk2DSCRCUVERnJ2dER8fj/j4eHZMTklJgb+/P3777Tdcv34dycnJMDExAZ/Px44dO7Bo0SIEBAQgJSUFQqGQbXakWpeWco+uxv3IhS3wSi2EmYcUBrbuMHcTIX5sAVIq9sPAig/PqDFY3XISOxuaMXPmTLYJSGhoKMaOHYt9+/axkeeXLl0CIe2Np1RJnthet9MhKJXz2kw9T+nk9ewy3+cWwD88mVPHW/X7zPAwpWZX0a7qvxWhJfXtNaojx2tI/v7G0yA1T58+jdDQUERERHCyDyiUpwnqCCjaoFKT0i+hAxaFoaNUKUNbD1h4yRFVfq/TsDZUo8W0PcKnr2OjLXsiNYWjSxE6tw7C0aVwDn0Opq5iDDW2xKChevDPXcWKtN66oWciMFNSUiCVSjUiMNWlprYITNV9+OWXXzQiMJVKJSoqKnDq1Cl2vZdffhm5ubmIjIxEQEAAoqKiMG3atEd6490bzYaeVM5euIIFez7v9EZVvabmh1/8s1OpOX/+fM6ysrIyjYYQra2tMDIy4qSYu7q6so2o/Pz8QAjBSy+9xG6rpKQEvr6+CAgIwOjRo7Fq1So2QpFh9uzZMDQ0hKenJ8LCwjBp0iS8+uqr+O2339h1Tpw4AV1dXRgZGXU6gXHx4kUA7ecGE00XFhbGprCrbrMjeirUVR/q9fZMnH3BlyVrnEuq9fYkEglGjBiBkVMXcDpnq0tN9cjmnowtQPfLJgCdN/LoS6nZk/1sevMfCE+fACtPCYzsPDDMyRsO7kIMeGYwjJ19NT4b5r0cnlJ4N1JzJdzj82DlKWG/P6qNiQ4ePIirV6+ioqICsbGxMDc3h4mJCbZu3crWKnZzc0NhYSG7T7/++itsbGygp6cHHR0dmJiYwN3dHZaWluDxeOzrME2ZKFwedoR+RkYG0tPTOcsSRqRD39oFRg7enAkGO2kyjOy92NR3fvhY6FvxMTYnT6OO98aNGznbfJhSU9tvJxOdLMmv0vitiCo/CDMPKYwdBcgqXobDhw932cztUfGkS83ffvsNoaGhiIqKwn/+859HvTsUyiODOgKKNqjUpPRL6IBFYegoVcrCOxiGth4In9+oEaWkSmFhIQghnM7TqqjfKKlLzajyg3AKyYS+Fb/zKJFFB+AWm8veEDxNIu1h0xvNhp40elInTV1qlr38dqdSU31ZR1LT0NAQfD6fM2kwadIkuLu7IyoqCvPmzcO2bdtQU1ODuXPnQiqV4rPPPkNtbS3i4+NhbGwMa2trZGZmoqmpCRUVFRCLxRg1ahQ+/vhjrFu3Dk5OThg2bBicnJywatUq1NbWIikpCTweD3FxcR1OXhw5coRtwgFoT2EPCgrq8oa4p0K9N8ULrT/WNdrOA9mMl+A7pgymrv4YMGgIPBKndCg1mahX+8AU6Fu5wDViLA4dOqTRBEhdth48eBCEtDc5AoC6ujqtafBMU6bOvqdMUyYKl4cdoV9ZWQlCCH755RcA7Y3IRCIRojPzoW/FR+DUje2//QubYWg/HPbSZESVH4R4wnLoW/GROX2RxjaXLVsGsVjMEfwPU2pqew+7kpqBUzdBGp2KIJmMFe/9EUZqHj16FPX19UhNTYVEIkFsbCy2bNmi0Wzn/PnzmDdvHiIjIyGRSJCYmIjVq1dzMgc6ititqqqCh4cHzM3NOWPB7t27QQjRmJzrLuoZSRmVb6Gy5QTOXriChoYGEEJw4MCB+9o2hfKkQB0BRRtUalL6JXTAogCdyyvvtFntaVFR2YhcdIAjr1RTSt99910QQlBaWqpxUQsAKUubORFQ3ZGa4aVNCC9t0tgnv6xF7Q0n0mZR0dDHPGizoSeNntRJU5eaiQvqekVqmpmZwc7OTmMC4e2338akSZMQEhKCgIAAxMbGIj8/H7W1taxoPHPmDObPnw97e3vo6urC398faWlp2LhxI6fL9v79+/Hcc8/BwMAAZmZmiIiIwLhx4+Dq6opp06bd9/v3r3/9C/7+/lqjBlXpqVDva/FC4aLtPGCEpZ6FE541NGNTyzuSmmEvNEDfygVOwaM0Ph+mCZC61Lx58yYUCgUmTJgAABg9ejQiIiI06raOGjXqvuu5Pu087Ah9psngwYMHAQCHDx8GIQTn//MfOA/3w/ARBYgqPwjp5HXQt+LDO70YUeUH4SBLg4O7AK0XLmit461ahgN4uFJTW7SrqtRU/1vM4sdnUpCRmtnZ2UhJSUFNTQ0aGhqQl5cHQgh27tzJrnvmzBnI5XIIBALY2Nhg9uzZKCkpASEEI0eOZEv1ANojdjMzM+Hp6QldXV12IgMAZsyYAYVCwal93h06m5RkfyumLmClLYXyNEMdAUUbVGpS+iV0wKIAnd/ERJQ1w0YcB30rPqxJFIanFGL83EpUVVVp3CAwDRsyMzOxdetW7N+/n40Ws3cXsNE53ZWaQQXVMLQfDqfgUWzHXPeESTByFMDQfjjKX3mwWpOUrnnQZkNPEj2tk6be0ZaJFtRWxkDbMgAaUhPoegLh+vXrrMS8evWq1nUqKipACME333wDoD3VWZ0///wTcrkcGRkZ7LLCwkKIRCJ88sknWt8jVdHa3W12RHeF+sMQL5R7dHUedCZvVKVm+PxGVmqqfj6qTYC01UZcvHgxWx+VEILKykr2b4ykqq2tBSEEGzZs0CquOsooADpO1X9a6MsIfW0Rcsv2fgqBb/t4BrR/viNGjAAAFBQUYFRWNla3nARJnw4DKz7iSnZidctJxCaO6LQMhnoZjv4Uqfk4T7owUlOpVLL1k4H2khVpaWmIiYlhl02cOBEikYg9H5nzeevWrRq/ax1F7Obm5oLH47GNy27fvg25XM6WnLh27Rqqq6u7lQ7fnd8Ucc6LSMqege+///7B3ywK5TGGOgKKNqjUpPRL6IBFAbpON4soa4ZX6kxYeCtgYOsOUycvKJVKrF27VmNbHUWLVW54qUeRmuUNxxBaUg/X6BxYCIJh5Chof21XMZxDR2PB9jeeCpHWX6ApuV1HMHUlNZkb1weVmkDnEwhSqZRNu6ytrUVcXBxefPFF1NXVcdLNMzMzWeE5evRo5ObmYvPmzdi/fz9qa2sxbtw4EEKwa9cu9nV/+eUXJCUlQSwWo6SkBLW1tWhsbMSGDRuQlZWF559/nl23u9vsiO4I9b4QL5TO6eo86K7UjCo/CLuAROhbuWB6cQmampqwdetWThMgbVLz5MmTIIRAoVCAEIJvv/2W/RsjqVSbHfn6+sLe3r7TpkyqPO1SE+j9CP2uIuSsfCPg7heI221tSExMxNKlSwG0j19SqRQ3b97EhAkTEBUVxW6zqzreR44cwU8//cSu319qagbkrYEgYw7MPANhYOMGUxeC9MnzNSafLl++jMrKSiQlJUEikSAsLAzFxcU4d+5cr+9vT2Ck5r59+zT+tmLFChBCcOPGDfz+++8ghGDSpEkatXtv3rwJmUzGmdzqKGL34MGD0NXVZTMETpw4AUIIdu/eDaDj30h1uivrQ+ftgbywBl9++1On26NQnnSoI6Bog0pNSr+EDlgU4OE1BujpjRIVaZT+RFfyvyupyUSj9YbUBLqfbr5w4UKkpKRAJpNBJpN1mG4+depUREdHQyKRICIiArm5uXjrLc0IouvXr2PTpk1QKpWQSqWQy+VISUlBaWkpPv300/vaZmd0NA4sajjWq+KF0j26Og96IjXDShoQP3Ya2yE7NTUVO3fuxJEjRzqUmgCQmpoKQgjGjBnDWa4qqZhmR+PGjUNQUFCnTZlUoVKz9yP0u/rt90icAn0rPqYt3w5CCN555x0AwNmzZ9n/BwQEcJqpdVXHW51H3f2cOS+sfCNg5iHF8BEFEGTMhY0oBl4CISdt+9dff0ViYiLkcjlWrVqFffv2oaamBvHx8ZDJZA+tI7e2yNoJ89fCSyDEkSNHNNZnmpVduHABp06dAiEEq1atwjvvvAMej4fs7Gx23VGjRsHR0RGEEBQXF+PGjRvw9/dHaWkpdu/eDSsrK4SGhuLYsWMwMzNDTEwM3nzzTYjFYujo6CAoKAgrVqzAd999x/5GMtHbDQ0NGvtW2XICjnIl9K1dEFy8q8PvIjNG5czXnLSnUJ4mqCOgaINKTUq/hA5YFODhNQagqcyUx5meyn/1B5XxvQsdTx4ND3oe9OXn0xuSikrNe/TGxGJ3IuQkk9ZC34oP8+EyeAv92AmXO3fuIDIyEkqlUkNy96QMB/BwpSagKXIZqWk+XMbJWllz4IRG2nZxcTHkcjnOnz/P2ebVq1cRGxuLvLy8PtlnBm2RtaFz69qlrDAC+lZ8zKra075eVRUrJhmp2draiuXLl4PH42HWrFk4duwYjIyMEBgYiDfffBOZmZkwMTHBoEGDYGNjA4VCgba2NmRnZyM6Ohp5eXng8XgQCAQQiUQYMmQIBg8eDDc3N0ilUvj4+KCoqAh8Ph/W1tZsuQE/Pz/o6+vDyMhI45hGLNkPA1t32EkSO/0uMlJTNkGzARWF8jRBHQFFG1RqUvoldMCiAA+/MQCNwKQ8jvRU/qvLG0rfQMeTB6cncqen50Hqi2/2+udz6dIlLFiwAKGhoQgKCkJ2djaOHj2q9Tg6OrZvvvkGkyZNQlBQEEJCQlBcXIzW1tY+kZqtra2orq5+aBF2/YnuXF9ElDXD0M4T+lZ8iEK54pFpLEMIwcWLFzl/624ZDuDhS031SRdGavqMKtGQ+qpp2//73/8gFosxd+5cjQZIly9fxqJFiyAWizn1LHubjiJrzb3kMLTzYCOx1x76CpmZmRCLxQgJCcHmzZtZqZmfnw9dXV3k5+fj2LFjsLGxgYmJCUJCQrB+/Xq4urpiyJAhsLS0hLW1Nb7++mts2bIFhBDw+XwMHjwYeXl5WLp0KWxtbTF48GA4OzvDwsKCjdgdN24cnJ2d4evri6KiIhw6dAiTJ08Gn8/H119/zTkmobK4/fs1YXm3xq37zUiiUJ4UqCOgaINKTUq/hA5YFKBvGwNQKE8KPZX/NFqQ8rjQE7nzsCfB1Pfvxo0bSElJgUgkQllZGfbu3YsVK1YgKCgII0eO7JbU/Oc//4mgoCDI5XKsW7cO9fX1mDVrFhISEhAeHt7rUlO9puDTRHcleHt9VT58U6Zynt/c3AxCCFJSUrRuvztlOICHn37OpG3HLTmEhKWvQ5xVBn0rPsKnr9OQ+qpp26dPn+6yAZI2wdub+97RZ+QanYOhxpbQtXCEJL8KofP2wMvHl30fmX9/+OEHyOVyeHl5QSQSoa6uDq6urtDT08OePXuwbds2uLi4wM7ODllZWdDT08PmzZvxxRdfwNPTE4aGhnBycsLVq1dx7Ngx+Pn5wd3dHb6+vpymQa+88goEAgG8vLzYEi0XL16EWCxGeXk557hsBHKYuhBELmzp1vfxcWreRKH0BdQRULRBpSalX0IHLApDbzcGoFCeNHoq/8v2HKUTAJTHgr/++osjgDrjUUyCqconJhrslVde4azz9ttvs8Kno+cyMF2Z1aO5mIg5KjV7j4dVs7s/0FlDJCZSk0nbVkU1bZupRVlcXNxpE6Tunq89pbNJC/GE5RhqbImhxpaQ5FfBb2w5bPierMQcO3YsCCHYXrcfNnxP+CQ+D2OH4TCwcoK+iRmMjE0gk8lACIGXlxcSEhLwyiuvwMzMDJmZmfjrr7/A5/PB4/EwYsQIAMBnn30GoVCIpKQkeHh4gMfjsQKzpaUFAoEAHh4enLrThYWFkMlkuHHjBgDgyy+/hA3fk61v/bAmYyiUxxnqCCjaoFKT0i+hAxaFgdano1C6hsp/CuXhnweqYlKpVEIul2uVOikpKV1KTaYr85QpUzSe/8svv/S61GSElfpDNWrw9ddfx9ixYyGTyRAUFIRx48bhjTfe6LV9eJQ8rJrd/YHOzgvVBlrq54Wq1Lxy5QrEYjHb7fth09nnFT6/EUONrTBY1wiS/Crww8bA2isQAFBQUAC5XA5bvidcosa316WcsQ2ywm2w8g3HwMFDMXAIDzr6Rli5ahViY2OxdOlStLS0wNHREQKBADdv3oSnpyf09PQwZswYpKWlwdPTEzweDxYWFuDxeDA0NMTWrVsB3JOa7u7uHKn58ccfgxDCNgQrLS2Ft9APwbM7bhDUF5MxFMrjDHUEFG1QqUnpl9ABi6IOrU9HoXQMlf+Ux4Vff/0VpaWlbN3JnJwcHD9+vFt1Jzdu3AhCCI4fP65126NHjwbfW8xpeBI6bw9co3MwzD0ABjZucPHxx6yiIpw7d47zXNWoRaZpiFQqRWRkJFasWKFRK/DshSuIGpUHIxsXxFe8DhN7T/gqYrT+Js2cObPLY/vqq69ACEFlZaXWYwsODu5VqXn27Fn2/ayoqMChQ4dw6NAhvPfeewDuRZ6OHDkSO3bswI4dO5DnXzjaAAAgAElEQVSRkQFCCCtvHmceRbmCR0FXEcyqUlNdmqlKTaA90lAkEuGTTz7R+lrd7fh+P3QVWWvlGwETvh+iyg9imJs/3KLGAQBqa2vh4O6D8NImWPtFwsTZl32OJL8K+lZ82IjjNLrct7S0YPjw4fDw8GC73EdERIAQgtmzZ2P16tVwc3PDqlWrcODAAbbTOdCx1Gxra0NiYiJGjx6Na9euITAwEIWFhXRSkkLpAdQRULRBpSalX0IHLAqFQuk5VP5T+jPXr19HcnIyRCIRFi1ahL1792LlypWQy+XIzMzsUvz9+OOPbM1Kdf7973+DEILly5ez50Hyor0wcw+AqZMXkrJnYv22V1BTU4P4+HjIZDJOgxxGamZnZyMqKgpbtmxBY2MjioqK4OPjg/DwcISGhiIwKAj+ESMQkLcGTiGZ0LfiI6r8IAxs3WHhHYyo8oOYs2EfCgoKEBoaCqlUCj6fD3t7e04U56OWmqrHrJ5+/v3330MsFiMzMxM3b95kl//xxx/IyMiAWCzGjz/+2Kv78rB5Wmp2dyVv1aWmqrxVl5q//PILkpKSIBaLUVJSgtraWjQ2NmLDhg3IysrC888/32fHkbC0c6npkTilveFO9jLoW/ERnL8CAPDWR8ehb8UHGV8BAxs3OAWP1JCarjETNbrct7S0wM/PDwEBAWyXe29vb0ycOBEA99xhIjC7kpoAsGPHDk6dzw8//JBOSlIoPYA6Aoo2qNSk9EvogEWhUCgUypMFExlYV1fHWf7uu+92u+5kbm4upy4dw+rVq0EIwenTp9llxcXFkMvlOH/+PGfdq1evIjY2Fnl5eewyRlJERETg999/Z5ffuHEDjo6O0NHRQUlJCcbPXQWXyPEwtPOEhZeclZrmw2UwtB8OUfYyNiJ048aNqK+vh5OTE3g8HiZNmoS2u2LiUaefqx6zutTcuXMnCCF4/fV7dSRbW1tBCMHUqVNBCMGuXbs63XZLSwsIITh27Fiv7nNv8jREyHWVZq8uNVXT7NWlJtA+MbFp0yYolUpIpVLI5XKkpKSgtLQUn376aZ8cQ3cEtGTSWlZM6lu7YOmejwEAq5q/hImzb/tyKz6Eo0s1pKbPqBc0utwz39/s7Gx2bJLL5RpSc//+/Zg4caKG1BQKhXB3d8eKFSs4x/L7779DIpGAEIK4uDh2PGCOk05KUiidQx0BRRtUalL6JXTAolAoFArlySI9PR0KhQJ//vmnxt9SU1O7JTUZ2dDc3Mwuu337NiIjI5GRkcEu+9///gexWIy5c+fi8uXLGo9FixZBLBazaeWMpFi/fj3n9TZv3gwHBwc4ODjg75/ei3oj45ZA34rPSk2PhMnQs+RDz8IJhrYeUMx6GWcvXGEbBVlZWXEEorZjy8nJ6dNGQardr+MrXkfEjA2w4Xtiyw6uZF66dCkIIZxIVkZqLlq0CIQQLFu2rNPXehyk5tMQIdedhkiqYrOrhkjaRGdf051SARFlzayYtPQJZUVgRuVbcFRksOeqav1KRmoKR5dqdLlnvr+VlZVsl/tly5axzZJefPFFODg4QCaTISsrS0NqEkIQEhKCsLAw1NbW4vDhwzh8+DAAoKSkBIQQvPTSSw/tPaRQnhSoI6Bog0pNSr+EDlgUCoVCoTzeqEu0B607CbSnQMvlcuTk5LDL3n//fRBC8Oqrr7LLTp8+rbURjvrj4sWLALiRV6oolUp4enrCz88PhWvqOCLFzEPKSs2wF/bC2FGAAYOGwNhRAMHIuUgYX4igoCCMHDkSAoEAhBDMmDGjw2M7ffo0AgMDIZfLsW7dOjQ0NGDWrFmIj49HeHj4fUvNjrpfq0qdqoP35F1FRcVTITUZnuQIue40RFKVml01RHoUUrO7TZ0YMemVOIl9bnzF6+zxmXlIO/z+M8sYqavt+/t///d/WLduHRISEiCRSJCYmIgNGzbg/PnzHKnJcPr0aUycOJHtrM6c7zNnzgSPx8PKlSsfwrtHoTxZUEdA0QaVmpR+CR2wKBQKhUJ5POlIohnYusNC0F53UlWiAd2XmgBYsfbDDz8AAIqKihAQEMBpVHLq1Ck2qurIkSMdPpg6l4zU3LKjTkPEOg33g5dAiIgZGzjHYx84gpWaUeUHIciYg8G6RtAZZgtDWw84iKNx9OhR9jiCg4ORnp7e6bGdPn0aeXl5CAoKQnBwMIqLi9Ha2oqEhIT7lpodpVmrSx0mzbo76eevvPJKp6/5OEnNJ5nuRDmqSs2uGiLdvn0bt27dwp07dx7SEXQv2lT1EbfkEPvcR9Xl/tixY6iursa1a9c4y3/77TcQQmBubq4hQSkUStdQR0DRBpWalH4JHbAoFAqFQnk86UiimQ8PgpG9FyLKXtOoVdjd9HMA+PLLL0EIwcaNG3H58mVIJBLMmjWLs86VK1cgFosxbdq0bu3zkc8/hy3fkxO1xYhYQ/vh0LfiQ3q37mBHUtNvbDn0rfjwTi/mRH0xqErNnnL79m3s3r0bY8aMgUwmg0wmg1KpxJo1azjr3bp1C9XV1UhNTYVUKoUkSA47SRICp27U+Dx0zOwwWNcIXmmz2GVnL1zB559/Dh6Px0nPb21thZ+fH0QiEadR0F9//YUtW7YgISEBUqkUaWlp2Lt3L5Wa/YTu1KNUlZr9MTr1QcTko+pyrx7ReurUKRw4cADjxo2DUCiEp6cnlZoUyn1AHQFFG1RqUvoldMCiUPqGK1euoKysDNHR0RCJRMjMzOyT19F2Q6utKQUT/UMv7imUJ4POJIp7fH679FMWcyRaTxoFMaSkpCAuLg61tbUghGi9XigsLIRIJMInn3yidRuqkZ2zqvZopKK2i1gZdIbZQc/SmW2mwjxU08+jyg8icOom6FvxwQ8boyFXLl68CEIIpk+f3uP39K+//sKUKVNACEFOTg62b9+OxsZGVFZWIi4ujl2vra0NeXl5IISgoKAA9fX1SM2fByNHAQxs3BDwfCVn//UsnfGswTAMc/OHIGMu/MaWY8rS7WhtbYWdnR3s7OwwatQo7Ny5E1VVVTAyMoKdnR22bt3Kvua8efNACEFeXh7q6upQXV2NyMhIjBkzhkrNfkJXDZEYqTmrqq79O5OaColEgtjYWGzZsoXTzEZb+vmtW7fw0ksvIT09HUFBQWzzoEWLFrGR0A/Cg4jJR9XlXv19Kisrg0gkQkJCAl5++WV63UOh3CfUEVC0QaUmpV9CBywKpW9YuHAhJBIJqqurcejQIXz00Ud98joPKjWrq6vx3nvv9cm+USiUvqMzARH2QgOGuflD38oFzqHPwWfkPCRmz4RcLkdmZmaPpGZNTQ0IIVAoFIiMjMTt27c11vnll1+QlJQEsViMkpIS1NbWorGxERs2bEBWVhaef/55AO3iQ1t9vajy9gZAQ40t8ayhOUdqqjcKiio/iMiFLRjm5t/eKKhoB0euLF68WKPBUXfZtWsXCCFYvny5RtqvqnBqbm4GIQRLlixhl2VUvgX5zO0wsHXHMPcARC5sYfdX34oPK99ImHkGYuCgZ/GswTBYegbg+PHjsLOzg5GREQQCAQIDAyESiWBiYgIHBwdMmDAB27dvZ5uoFBYWcvbjwoULCAoKolKzn9BVQyTh6FLY8j0xfvx4pKSkoKamBg0NDawg37lzJ7stbVKT+W7Pnz8fjY2NaGxsxNq1a5Genq6Rfn0/MGIycmEzvNOLYOEdDENbDxjaecLaLwqiCcs5x7NlRx0IIWzncUbqRpQ1w8o3Aga27ggqqOacy/aBI+ApVkAqlSI0NBTTpk3DyZPaozYvXLiAiooKtrZmREQE8vLy2HuW3NxcrfV7y8rKAGhe99y6dQthYWHIysrS+nqffPIJCCHYtm3bA7+XFMrjDnUEFG1QqUnpl9ABi0LpG6Kjo1FYWNjnr9PW1oZbt25xbnS1Sc07d+7g1q1bGkJC9QaAQqE8PnSVKho8+1U4BY+EkYM3DO084egfgy+++ALFxcUIDAzkbIuRmmfOnEF1dTVHpPz8888Qi8UghGikYKty/fp1bNq0CUqlElKplI0iKy0txaeffgqgXcR2JDXDXtgLfWs3DBg0BDaiGAhGzoVLVDYM7Txh4SXnSM2o8oPwn7gSBjZuMHbywcJllaivr0dBQQEIIZg0aRJnTOwumZmZCAwMxI0bNzpdj3mdn3/+mV3G1CN0Dn0O+lZ8BE7bzJGaTiGZUBTthL4VH55JUxFf8TpaW1thaWmJIUOGoKioCMA9EePt7Y3c3Fy0tLTA2toabm5uWuXPkiVLqNTsZ3TUEImRgEqlki03ALT/jqelpSEmJoZdpk1qMhKwL1ndcqK9EZC1CxzlSggy5sA7vQjWfpHQt+LDZ1QJosrvlbRg6u6+/fbbrNR1jc7hrMs8rEk0gpPHoLq6Gvv378eWLVsQGxuLgIAAje/2mTNnEBoaioCAACxevBgNDQ3YuXMn5syZg6VLlwIAPvvsMxQVFYEQgtraWhw6dAiHDh1it6VtMreqqkqjORdDcXEx/P398euvv/bV20uhPDZQR0DRBpWalH4JHbAolL5BJBI9MlmoTWp2BJWaFMrjSU+bejB1J5VKJdLS0rRus6/rM3YlYkPm1MIpeBSMHAUwtPWAlW8EAvLWwCkkU0NqRpUfhHTKBiiSRiMkJAQSiQQpKSmorq7udiquRtd4B08I5dFdpsampaUhODhY67F5pxdB34oPMnaxhtSMXHQAEQv2I3JhMzIq32LrZ+rq6sLPzw9tbW0aUhMA5HI59PT0cP78eY19YcoCUKnZ/2HOr3379mn8bcWKFSCEsEJdm9RMTExEXFwczp4922f7WFdXB1u+J/yyFnHOtchFB2AnSYSRvRdW7jvCNh+7efMmMjIyoFAo8MMPP+Af//hHe7Mv5UQNqfvVuf9qvN5vv/2GsLAwTrmIO3fuYNSoURCLxVpFfldp+gzapOYPP/wAkUiEZcuWcda9dOkSAgIC2MkFVXpyTUWhPClQR0DRBpWalH4JHbAolN6FiXhSf7S0tODIkSMoKSlBUlISG8mUm5uLDz/8UOu2Ll++jDVr1kAikUBHRwcikQjZ2dmctMr7TT9n1tH2aG1tZW+wzp07p7FfbW1tiI2NxYgRI7R2Zn2Q7sFdQWuDUijtdCUIw0ubOP/PqHyLram5atUqrdvsa6nZUxEbs7jzv689xO3s3l066hpvaOsBCy85oso1u8arkpqaipCQEM4yphxAZ1JTvR7hDz/8AEIIbG1t4ebmhq1bt2qVmlOmTIG5uTkmTpyoEYFKpWb/RF2YZ1S+hQnz18JLIMSRI0c01mfk3IULFzj/V5V177//PoKDg0EIQWJiIkpLS3Hw4EFO1OeDkpWVhdjYWBz7539QsftDjFjShKj5DRixpAkTXmjf/88++4zznPPnz0MmkyEjIwMhISFISUnpMtr5xo0buHLlCi5fvoyCggKEhYWxfztz5gybZt8VPZWaADB58mQoFArcvHmTXbZjxw4QQrTWBaZSk/I0Qh0BRRtUalL6JXTAolB6l5MnT+LQoUMghGDixIlsOtRPP/2E0tJS5OXlYcuWLWhqakJNTQ1SUlJACMHf//53znZ+/vlnxMfHQyQSIT09HY6OjliyZAnKyso4ae2MhFi9ejV7Y9sdqXnp0iWt+3no0CH88ccfOHfuXIfy44MPPtCo/6WKNqnZ0tKC2traTtfpDt2RmlR8Up50fv31V0SOfL49ovFuvTtJfhUnotHWPx6OciW802bBNXoC7Ny8oaenBwMDA8THx2Pr1q2ciMaOJmR6c4Lifrord5TK+yCNRjpq6MLUEAyf38hJsVXl0qVLMDMzg7W1NSf9/IXyZdC34sPQ1qM9/XzqpruSsxgDBw+FpSCEk35+9sIVtoafnZ2dRh1AVam5fPlyEEJo+vljQEfCnKmp2d4oaI+GMFeXcx3JumvXruHw4cNYunQpUlNTWcGp2oyrJ6jLV1OH4bDhe8JLIOxw4vPQoUMa29m3bx8IIQgICOgwkvTs2bOYObO9tq/6NkUiEbveW2+9BUIIXn311S73/36kJjO5w0wQ37lzByNGjEBiYqLWiVptZX4olCcd6ggo2qBSk9IvoQMWhdI3aEvr/uOPPzTWu3nzJlJSUqBUKjnLZ8yYAUII3nrrLY3oKdUL6/uVmp3tJ0NOTg5CQ0M1UjkLCwshkUjw+++/a33erVu38Oeff3KW5ebmIiEhgf2/mZkZ3N3dOeuoi09tUKlJedq5fv06kpOT4eXjC+fQ5yAYOReuURNgaD8cFt7BrNQUKGfDQhAMPQsnDBz0LAwMjRAXF4ctW7Zg2rRpGrUnT548iYqKChBCsHHjRnaSQz0q60F4kO7KvUVnXZq902ZB34oPl6hsRC46gKjye12aVWVHUFAQDA0NUVFRwS7LzMyElaMbBg7hwdRVzDYKspMmY7CuIYwcvCGb8RL0rfgYOXUB2traMGnSpG5JzSNHjtBGQY8JnXVAZ6SmJL9KQ5h3V2qqU19ff1+/dx3J1/ZGVxIEPF+JwspafPLppzhy5AjnoV5z8s6dO5g+fTorKN944w2N17t48SLkcjmio6Oxfft2vPvuu/j07rbz8/NByL1GZYcPH+5TqXn79m3ExsZi3LhxAIDPP/8chBBs3769O28dhfJUQB0BRRtUalL6JXTAolD6hq5qVf7xxx9s6tXSpUs5tbSuXr0KsViMCRMmAOg8JbQvpeYbb7yhEZXxyy+/QCwWY968eex2q6urNYruqy9Xl5pxcXHIycnhPEd9HW10R1ju3bsXdnZ2nHXee++9x0py0q70lI7YuHEjCCGoq6vjSAnR+KUddgl39BDihx9+4GyHafChOk5MnjwZPB5Pq5ToDToTitoeDxKN2RGdidWIsmbYiOOgb8WHNYnC8JRCjJ9biaqqKs7YtHLlSpiamkIgEGD69OnYvn077OzsYGNri7/97W+w8ou8+/43w9B+OMw8A6FvxYeZhxQmFtYYN24csrKykJ2d3S2pCQBz5swBIQR5eXnYs2cPqqurERkZiTFjxlCp+RC5c+cO9uzZg8zMTCgUCshkMiQlJeGFF17A56fPc+q92kmSYOQogIGtO8w8A2HrHw89S2dI8qvY7zcj5ZYtWwZ7e3tERkZCIpHAx8cHTk5OrKxra2vD1atXNfbn5MmTIOReB/Lu0nG0sgKG9sMRUdbcYbSyOjt37gQhBOvWrYNSqYRcLsf333/PWaeurr1J0ueff67x/LFjx3KkJpN+Xlpa2uVr34/UVH3e2bNnMW/ePAQEBOC3337T+ho0/ZzyNEIdAUUbVGpS+iV0wKJQHgxtdbMqW07ASyDUkIWtra0oLS1FaGio1pSu//63vYj+119/DUIIXnzxRQD3xOXRo0dRX1+P1NRUSCQSxMbGYvLkyfDz8+NIzZaWFlhYWEAoFEIikSAxMRFlZWUQCoWci/s7d+7A0dERXl5eGjdnly5dwp9//omIiAi4ubkhISEBFy5cQExMDPT09CAQCJCTk4NXX31V42I/ISGBTatn9l394efnh6amJgDtjQKqqqrg7OwMExMTtuHHpk2bNKJEuyM1Z86cCR6Px1mHSa19XOhKilOeXtLT06FQKPDnn3+y3YYZIWHmGQhdcwd4Jk1FUEE1Aqdugi3fE4vKy9nn19bWoqWlBf/9739BCMGMGTPYv/W11AQ6j2RTr5fZF3SVAh9R1gyv1Jmw8FbAwNYdpk5eUCqVWLt2LbuNDz74AH5+fpg6dSpSUlLg7u4OXV1djBw5EjweDyOUo7C65SSiZm2GgRUfkufmYezsFyELDoOOjg68vb2xefNmfP/9992Wmn/++Sc2bdqEuLg4SCQSpKamoqGhoc/roFK41NTUgBCCgoIC1NfXo6mpCZs2bUJWVhbmbm4Xgf4TV8LAxg3GjgK4J0yCIGMO7AISMdTYEoN4+gh4fjUbiczItcDAQBgbG6Oqqgp1dXXw9/cHj8dDXV0dgPa0c6lUitmzZ6OmpgbNzc146aWXEBcXB39/f3z1VffPl06jle/WhHWPz9c6uaCe5n7y5En4+/uzUd/fffcdZDIZMjMzOb/fDQ0NIIRo1BP9+OOP2esCBtVGQadOndLYf9Vo5V27doEQgm+++UZjvc6uF37++Wf4+/tj3rx57PvaEVRqUp5GqCOgaINKTUq/hA5YFMo9zpw5g+rq6i7TvYDO62YxjSGiM/PZulk3btxAbGwsFAoFNm/ejL///e9s6lVJSQkn0uDUqVNapWZ2djZSUlJQU1ODhoYG5OXlgc/nw8HBgZWajY2NcHBwwMCBAzFs2DD4+voiJiYG3t7eMDIywvr16wG0F/aPi4vDgAEDoKOjw25/9erVyMrKYiMsq6qqoKenB1NTUxgbG2PIkCEwNDRETEwMFAoFvLy84O7ujqioKFZ8Ojs7w9TUFDo6OoiMjMTatWuRlpaG8PBwNDU14dChQ/D398fo0aMBtKdWGhgYwMbGBoaGhhg8eDDMzc3B4/GQmJgI4J74TElJgZ6eHhwdHTsUnx1JTTc3N+Tl5SEiIgJSqRSxsbGYNm2a1jp1jxoqNSkMGh267T3hq4jhiAam7qRrcBp0h9nCyMYFOfPXYvvuJhBCOqxnGxwcjPT0dPZv+/fvh5+fH44ePdpnx6MuYjsSmvfTAKg79LRZUdySQxoTV8v2fgqB771IssWLF2PEiBFobW2FmZkZFAoFgHvRYEzDtZ5EzPdlwzXK/TN69GjOOaNKRuVbbHS0oa0HFLNe1qjZOmDQELjGTERUeXvNWOY7wjQAYq4D1q9fDz09PYwcORJAu9TesGEDxo0bh7CwMHZic/bs2fj66697dAydRStHLmyGnTT5XrTyiOnILlmD6upqzJgxA/7+/ux2rly5gtjYWERFRXFkJ1OvW7U8Q2trK2QyGaKjo1FTU4N9+/ahoqICMpkMI0eO1Jh0/Ne//oXg4GAEBASgoqICe/fuRW1tLUpKSrB06VJ2PSZSNT8/H83NzTh8+DArQruaBJ01axYrVLU1b2KgUpPyNEIdAUUbVGpS+iV0wKJQ7tGTiJeuoo2YbrdMtNH777/PKUyvyty5czk3M0z6OZOezeyXUqnkdDlta2tDYGAg9PX1Wanp6uoKPT09WFpaYvbs2cjLywMhhI0geu6553DmzBnI5XKYmppi8ODBMDQ0xPjx42Fvbw8rKyv4+/sjKSkJNTU1WLlyJZ555hno6uoiKCgIxsbGsLe3h5mZGSwtLTFw4EDweDyYmpqyTUgGDRoEPT09DB48GIMHD8azzz6LwYMHY9CgQWzHYDMzM7i5uaG2thYZGRnw8PCAiYkJeDwedHV1IRQKYWZmBl1dXcycORMrV66Eo6MjXFxcMGTIEBgYGGDo0KFwcXFBeHg4EhMTIZFIYG5uDjs7O/B4PNjZ2YEQAgMDA1hYWIDH40FHRweDBw+GtbU1goKC4OTkBFdXV/j7+yMkJAQKhQIBAQFwcXGBg4MDxGIxJk+erJG6y3DgwAFkZ2dDJpMhMDAQzz33nNYbH0ZQ/PjjjygqKkJwcDACAwORl5fHSd3vqis95emhs5p3FoJgRJVrduieOXMmPDw82Btwpjbd7t272XU6k5oPM+qvLxoAdYeeNivq6GHlGwF3v0DcbmtDYmIili5ditbWVjg6OsLJyQk3b97EhAkTEBUVxR7vgpffgpGNC7yTp7FR/WcvXKFS8zEiLy8PCoUCx48f1/hbfMXrCJy6CfpWfPDDxmh8Z4KLd0Hfig87aTKiyg8ivuJ1Vmpq67o9ffp0hIeH9/oxdHUORC5sgc+oElj5RsDQfjhM7D0RHx+P6dOno7GxEUB7NOW0adMgFou1ppSXl5eDEILDhw+zy06cOIHc3FwoFArI5XLk5+fjxIkTHWZS/PTTT1i0aBFiY2MREBCAyMhI5Ofn44MPPuCst2vXLiQnJyMgIIBzLnUlNT/99FMQQpCcnKy1QRDDg0rN06dPgxDCifZWZf369SCE4MsvvwTQHpVbWVnJXtdERkZi3rx5+M9//sN5XmfHR0Us5UGhjoCiDSo1Kf0SOmBRKPfo7g19d+rCMVKTSd366KOPQAjBa6+9xt3W2bOQSCQa0qqwsBCEELzzzjvsfu3btw8AN/Vq3Lhx4PF4WL58OYRCIYyMjDip321tbUhLS4NCoYCuri4Iae92LhKJkJaWBh6PByMjI2RlZUEgEMDe3h45OTnIyclhUyD19fWhp6eHyMhIGBsbY/ny5di7dy8qKythb2+PAQMGwNzcHHw+H2PHjoVQKERQUBB4PB7c3NwwdOhQ6OjowNXVFTU1NQCAYcOGwcjIiK3PyTQ7GDhwIAYMGIDs7GysXLkSNjY2cHNzg729PSZPnoyVK1fC2dkZ/v7+0NfXh66uLvT19bF06VLU1dUhPDwcRkZGGDJkCKZOnYpDhw5h2bJl8PHxAY/HQ3FxMfh8PsLDwxEbG4uXX34Zzz//PIyMjGBmZoYXXngBIpEI0dHRUCgUmD9/PqRSKZRKpUbnU6apSkFBAWpra1FfX4+CggK20YoqCQkJGDFiBCIjI7Fw4UI0NjZi48aNkMlkiIyMZOupdtWVnvLk8Ouvv7LlKIKCgpCTk4Pjx4+zN/jqQjO4+BXww8ZgsK4hBg4eCmMnIZxCMrF417vsNn19fcHj8VgR7unpyZ6HzA0w8xAIBODxeDAzM2PHvClTpmiknzPS5fvvv8fWrVvZG+3k5GTU19drPbaPP/4YY8eOhVQqRUREBBYvXoyrV68+cARyZ6U4tmzZonGOXr58GZWVlUhKSoJEIkFYWBhCUsZBNmOb1nHb97kF7SLHzhOGth6wFIRAOLpU67q2AQl4ZqguLOycoa+vj/z8fJw7dw7Dhw+HnZ0d3nnnHQQEBKDkhRfYz1K1+zmzHeHoUgwa8iwmTpzI2XcqNfsH6pHS0UXVcPWVwksgRExMDObMmRvjHscAACAASURBVIPGxkZcu3YNGZVvwW9sOfSt+PBOL9L6vTFy8IL58CCNSE1tE2d9VTalp9HK8RWv9/o+9AcY8bdjxw52mbaSQjNW74aXQPhAgjArKwsREREaTRRv376NqKgotlnkjRs3oFQqQQhBSUkJGhoasHr1akilUigUCnz77bfsc6nUpPQl1BFQtEGlJqVfQgcsSl9y+/Zt7N69G2PGjIFMJoNMJoNSqcSaNWs46926dQvV1dVITU2FVCpFaGgopk+frjWlqqObYm0Xd6oXdW+++SYyMzMhlUoRGRmJFStWcKIemZsH9Udubi5u3bqFsLAwZGVlAdBM3fKfuLL9RjW5QKvUXN1yEtevX0d0dDSCg4OxceNGNDU1obKyEnK5nG300Nrayl5QJy2sxzBXEYxsXeEji4SNnT2WLFmC8vJyFBYWsvvN1MBbuHAhPD094eTkxHZOZy5mV6xYAYFAAENDQzg4OICQ9q7Hp06dgqmpKQYMGABdXV0kJibC1tYWSUlJaGtrQ0FBAUxNTaGvr4+hQ4fC19cX8+fP57zvS5YswaBBg8Dj8eDj44Off/6ZranJ4/HA5/ORm5sLU1NTBAcHs8/T19fHs88+izfeeANtbW3Ytm0bhg4dir/97W8YOHAgdHV14evrC0IIFixYAEIItm7ditbWVvj5+UGpVMLT0xPDhg2DmZkZK1du3LgBGxsbDBw4kPNdSEhIAI/Hw+zZs0EIQUZGBpu2Pnr0aFbUiEQijQ6oTN1Q1S7QH3zwAQghrKRVZdmyZRCLxRxJnZCQAEIIDhw4wFmXacbE1BdloOnnTzZMB3ORSIRFixZh7969WLlyJeRyOTIzM+ElEHLGGNmMl2DkKICxkxDmw4Mw1MgCVr6RMHYUwMTZF5+cPIt3330XXl5ebIRyRUUFDhw4AH9/fwwfPhzffvv/2TvzsKau/P+PKxAg7HvYA4QtLCchCZBA2FGQHQXBAu5WEXdcERGXKoqOilSxpS0qglottNrF1l+n39bpMnadqTPttLY6ta1ra2sVeP/+SO8xl4QILi229/0893n0cnNzt5x7zut8Pu/Pv9HZ2Yn4+Hjk5OSguLgYQqEQy5cvp6mjc+bMAY/HY8FKBrqUlpaiuLgYzc3N2LdvHwoLC0EIwUsvvcQ6t5MnT0IqlSI5ORmNjY3Yt28fpk2bhuLi4vsGNfVZcRBC0NzcTLf97rvvkJ6eDqVSiY0bN+LgwYNoampCbEIyLN0CEFXeyLrGwvgJmig6eTqCc+drfBDl6Rp/wbTprG1Dxi6GqZ0rhhubgu8shKubB/Lz81FUVITw8HD4+/tTMDFp+Vb6ub6g5tARRlAk57DOlYOav68MWczELz8ESelaZJTNw7hx40AIQXx8PJY83qkFNRfcEWpqe2rqi8S/V6jZF9gaaLRyft2Ld30Mg1lz5syBQqHApUuX+rzfoYXLYWrnClNbAWLGFCEjIwMKhQI5OTk4duwYAE0BxaVLlyI+Ph4KhUJvdsezzz4Lb29vJCcnszI7ampqQAih3qkNDQ16+xbvvvsu7ZMy4qAmpwcpjhFw0icOanIalOIaLE4PSrdu3cKjjz4KQggmTpyIPXv2oL29HXV1dRg1ahTdrru7mw5IGeP97du3Q61WQy6X6/gc3Q3ULC0tRVJSEnbu3In29nbMnz8fhBCsW7eObvv+++/TyLvt27fT6DgGZNXX14MQgk8//VRnQOARlQ2+iy9iF7XohZrMgOCzzz5DeXk5jcwqKSnByZMn6aCmuvll1n7Vlfvgm1QGvosPho0wgqswECUlJWhs3k8jCdxlaRg2wgiJ46ZB6OsHkUikAzUbGxshFoupbyUhBBs3bqR/s7S0hK2tLaysrDBs2DCYm5vj888/x+nTpxEQEAA+n49hw4aBz+ejpKQE7e3t+P7773H16lUsXboURkZGMDExQWhoKACwoKZKpUJLSwtsbW0hk8no9TYyMsKIESMQHR0NV1dXmq5uYWEBJycn+Pr6oqamhhY7cnBwQEREBLy9vTFkyBAMHTqUpqEPHToURUVFdN9hYWEYOnQo9So9evQoKisrYW1tDW9vb5iamsLb2xsikQgSiQQikQjh4eHw8vICj8fT8ej85z//CUIIC/QsXLgQcrkc33zzDS5fvsxa3nrrLR1QmZaWRtNQtXX58mVNVF59fb+ec05/DGlXMNfWiRMnQAiBQBjAagucQtSw9SFQV+5D3NIDsPOLAN/ZB+6RWeDZusI3TEGBqHb6OaCJmpTJZIiPj8eOHTsQHh6OwMBAOrmhHd24YcMGTaGbzEwcPnwYx48fx+LFi/Vue/36dajVapSWltJ13d3dGD16NJRKJS5cuEDX9/T0YO7cufcNauqz4sjJyUFKSgpdt2DBAiiVSvz3v/9l7ePq1avwJ9EQSFLo9ZWWrQPfWYjAzHIdqOGT8Aj4Lj5QzW9G0qoOxC1t06TkCsNh4SoC31kIiToNv/zyC52gSk1NBSEEQeJQxCx8ul9Q04Uks1Lv/wxQ8+LFiyCEYMOGDaz1zPt2wYIFrPV79+4FIQTvv/8+enp6sGfPHkyePBlJSUmQyWRISUnBypUrWc8eAOTn5yM5ORldXV06x/DFF1+AEIJVWsW0gIEVtGImuWbOXWQ4/Xzhr+nn8jE0i+P3gJqGPDX1LZuOGvadPnr0KMu3dzDr4sWLOHbsGOrq6lh9ob7uNwM1R5iYw9LNH4UVNdi7dy/y8vIgkUjw4osvIi0tDUuWLEFbWxu2bt2qN7ujuroaZmZmCA4OZmV22Nvbw9PTk1a2Z6rH9+6HAKB95cuXLwPgoCanByuOEXDSJw5qchqU4hosTg9KTEXKdevW6XgVdXd349VXX0VjYyOOHDkCQghWr17N2ubLL7+EQqGgUYOM9A2KGxsb0dbW1ifUTEhIwKVLl1ifmTFjBmQyGSul11D6+dmzZyGRSLB27VpW6pa6ch8sBH5wj8q+p9QtQwOo0MLl4DsLIZ9Wj0k7XmP9LWDMTM1gPKsC5o5ecBB4Ytq0aTrXJzw8HOIwAt9QOawEPvBPnYT8uhdRtmwLgsShePXVVwEA8fHxMDU1RVVVFa5duwZCCEQiEUxNTSESiRAoDoUxzwzDjUxgbu+OkaYWGDJkCEx4PAQHBwNgQ82cnBwdqHn9+nUMGTIEQ4YMgZOTE/Xc/Mtf/kKBJY/Hg4uLC/XYHDFiBIYMGQJTU1MMHz4cxsbGMDIygkAgwNChQzF+/Hh6vnK5XAdqVlVVITw8HOvWrYOJiQksLS0hEAggFAqRnZ0NS0tLGBkZYfjw4ax0QkD/wIGJwjK07Nq1i26flpaGsrIyvfeeEIKVK1fqrOOg5h9X2hXMeys7OxtWAh+tKM3d4DsL4ZcyGerF+6FevB9R5Y1wj8yCpVsARppZwcTCFu+99x4WLFgAsVisM5j94IMPUF5ejtjYWBqx3djYqDNwbmxshFAoRFpaGrXFiI6OBiH98/z76KOPQAhhFfJgxBT0uB9Qk7Hi0Nb69etBCMH169fx448/QiqVorKyUmfS4fLly6hauRJuvkFIWHFYMzEVnQO+iy9iFj5NrzGzREyuA99ZiJBxS5C0qgPkkdW/AtDZcJNpIjnDsmYCuB15PWPGDI19hzyO1V7fCWpqw6M/A9QENMCxd+GdgoICSKVSxMbGst7/FRUVUKlU6OrqQldXF1QqFVauXInm5mYcPHgQ69evR2RkJEaNGkUhEQBqb8K857S1efNmEELw8ccf03WGLGbUi/frrHvrw89ACEFFRQU2HT19u1DQ/CfZ0cBxReA7CxFauJz6bT9IqNnd3Y1ffvlFx5ahPxY62sudfG4nT56MtLS0uz7O31JMv1ClUmH58uX4+eefDV4PBmoONzaDeOwSej2+++47g9kdQeJQlG94Gvl1L0Ix+TFYCXwgjkpEUEgYvvrqKwDA//73PwgEAjg7O9P7r1AoUFBQoPfYN2zYAEIIzWLioCanBymOEXDSJw5qchqU4hosTg9KBQUFiIyMpF6BvcV01hkPwt6RFYBmZpsQgk8++YSu0zcoJoTQKCB9UJOp+K2tp556CoTcrkoL3NlTc8aMGVCpVMhZd7vDG5g1B3xnISImbbjr1K07DTC0oWbvv2lDTb6zEHYiOVx9AlkVvRsaGmBl7wQzBw/4Jk8E31kIgXQU1Iv3033PXLsH13/6CXK5HFZWVqioqKBQ08PDAzweD3Yu7uA7+8AlPAkm1k5wCFLCxNoJQ4ePxLCRJrB1csX5//2PBTXHjRuHmpoa2NvbQyKRoKenBw0NDfjLX/4CIyMjnDp1ClKpFKGhobSIj7u7O3bt2oWUlBSIRCIEBATQFPlNmzbB19cXycnJEIlEiI2N7TfUJERTIZXH46G2thbnz5+HWq1GWloajh07BgsLCxgbG6OgoICmE37++ed6Bw45OTlQKpU4depUn8vXX39NtzcEKPp6pjmo+cdRfyqYM5o7dy4snIX0N85ANEOLhYsvAA1sj4uLYw1mz507h8bGRlqQytCzqA+wDMTzT19hIkZMe1JVVdUv/2J93nbMJIy+SsVMRLpYLO7TToQQAqFQCB6PB5FIhKU16xCsiMdInjmM+bawEvjAycMXRubWGG7Ew7ARRhhmZIKRZtbwTZ74a5uvaWvDi6vhnz4DzqHxsPEOhUwmQ2xsLFxcXGhBEO2o/oSqI/BPfxS2vlJYuIpgHxAJ8dhKVvueX/ciXn75ZRBCcODAAb3XZfHixZBKpfjf//7X57V7mMREzH377bcANNHrEomE3kMG4HR1dUGpVLLsV37++Wed/Z06dQqEEDz11FN03Y8//ojo6GjMmjWLte3NmzcRHx+PwsJC9jEZiGS09hTDTZ6OgDEzEVqwDEHZcxASmQhCCF5++WV0dXejYsNTsBD4wdorBP5pM1hWBgLpKGx+7jQt8PUgoaYhDSQS9U56mKCmPhm63wzUNLFypP66zOTD2LFjIZVKWZNDXd3dWNxwBHxnIcT5i+ikiYXADxFT6mDu6Im0kgp8f/Ei6urqaB+HyewYCNQ8f/58n1CT+R1wUJPT3YpjBJz0iYOanAaluAaL0/2SzqDdIwChyuQ+Z/iZznpOTg7La1FbLS0tIITgxRdvQ8G7gZqHDx/W2TczqNauYHqngTaTGlq6VAMXE6ufg72/HHZ+EUisfu6uU7fulAo2EKgZMm4JLN0DES6Vo76+Hm1tbfCXRGPoCCPY+kUgflk7XMKTwHf2Ad/FB7a+ETC2sIOrbDRkiZmwsrKCm5sbXn75ZTQ1NcHd3V1TadyMj2FGPPBdfBGQMQvGFnYw4tvC1M4NRubWGDbSBCbWThg9YRYLamZkZCAyMhKhoaEIDw9HbW0toqOjMWTIEBgbG+PWrVtYu3YtfH19wePxYGxsDDc3N+Tn51MPPj8/PwwdOhSjRo2igHH8+PEIDw+Hq6urDtRUKBQ6UHPRokUghCAyMhJmZmZ466230NPTg+zsbCiVSgCAh4cHLCwsANz2zKyqqtILNZlCTowX4Z3EQc0/p+62grl2pCbj0eeTWALZlDrIptRBWraO/ls2pQ7xs7fS9qm3/UTviJ27hZr9gS4M1OydVg9ofET7AzUNeRkybeG8+v2sa8Ycp1gsRnBwMPXhXbBggc5kw8aNGyESiZCUlISMjAzs3r0bcrkcwcHBOHjwIAghsHb1hXtUFnwSS+ARlQO+sxCW7oGIWfg0bWvF+Ytg7RUKYcIEyMZXoq2tDTNnzgSPx0NERARu3brFiur3VOZpoJYkBcF5CxAwZiZsvMPgFKKm7fvo2ufR1dWF5ORkvWDjypUrUCgUKC8v13v/HkYxbW1HRweA28/Q2bNnoVQqqbfg6dOn+wTm3d3duHbtGo3EjY2N1UldX716tQ4MZr6rd+SvIc/JwKwKuJBk2HiHwULgBxvvMAijM1ieywDw3CtvQJleCDvvEFi6iuASHIW8Gcvx0Rffsrb7LdPPtf/f1d2NLZ0fGOxn1D37LhobG5Gbm4uoqCgolUpkZWWhurqagry+Jg8eJphm6H5re2oyUJOZqJ48eTJSU1NZ+6rv+EAnItshMJpOQI3g8THMyAQCb3/w+XxYWVmxMjsMpZ9PmzYNhBCaeXT9+nUQQvDYY4/pbMu0ZQ/TfeA0uMQxAk76xEFNToNSXIPF6V6lbwCaWP0ceDYuMLawg5V7ELwCwpCeno6lS5fi4sWLtGgKIQSWlpa0KjcDja5fv46GhgYolUqYm5tDJBIhLS0Njz32GEJDQynsYTrohGiqdPN4PFok49y5c6zKljU1NUhNTYVMJkNSUhLGjRsHsVjMGlTfCWp2dXUhNTUVWfkar0zZ1E00DfFeUrfuZNo/EKgpn1aP6Dm7EZdThvj4eISES2Bm7w4jvi2iynciaVUHosobYekeCJ61M3g2Lhg6fCSGDBuBYSNN4O7phddeew3d3d3w8PD4NRXcFCbWTjC2sIeJtRNG8CwwbIQxbIThCMqei+HGphg20hhmDp6w9ZVC4OoOuVyOkSNHws7ODuIwghlrdiMotQS2wjAMG2mMv/zlLxg+YgS2bduGGzduoK6uDmZmZhgyZAhGjhyJ0tJSNDc3Izg4GCKRCEZGRvDx8cH06dPh5eUFuVwOc3Nz6qmpDTWVSiWGDh1KQffRo0ehVCphbW0NW1tbmJmZYe3atdTzlUn9Dg4OplDzu+++o4BIH9RkANLy5ct1UvsADcDRHpQMFGoqlUpUVFQYfG44DX71BeccAqNg5R6EhKpndaKhsrOzWZ6apvZuGGlmBWHCBLrONWI0PJV5CM6ZB3H+IiQXTodUKkViYiKN9OsLaqanpz8wqNnf9HNDbW1/rTh6R5BpQ836+npIpVKdyDzgdjufkZFBMwmYSYq8vDykpqaipuUk63tV85+EpXsgvNXjaeRswJhZSKg6wpq4euGFF+Dt7U0nhpi2nXlXuCsykLjyKN1vzIKnYOkWwIrUBIAdO3awIrIYMUXLHtY+m77o27Vtb0IcpmlLAaCmpgaZmZkAgPLyckydOhXA7edQO7vi1VdfRWlpKbVK0F6YzzH617/+BUIIGhoa6Lrp06dDqVTqZJT8UaqDG4KajM6cv4JNR99HdFk1LJyFSKjYhk1H38eZ81doEZtly5ahvb0d7e3t2LJlC3Jzc6k9S2dnJ3JychAfH0+9yDs7O1mZCoNdo1Z3Dqj/xdzv3hGqTNZNb6hpHxAJS/dAyKbUwW/UFJjaCuAcngQvoQ9qa2tZmR3Mb/+JJ55gHeM//vEPEEJ02u6UlBTk5uay+iE3btygFjkc1OR0t+IYASd94qAmp0EprsHidK/SNwANzCzHcBMzjDSzQlD2XISMW4K8GUtRXFyMTz/9FK+++iomTZoEQgjGjBkDoVCIlpYWnDlzBoDGvzIhIQHx8fHw9PTEpk2bsHLlSkRERMDBwQGzZ88GoDF87+zsBCEE6enpEAqFmDlzJjo7O/HTTz/hnXfeQVBQEIKDg5GQkIC//vWvOHToEHbs2AGxWAxzc3McP36cnstzzz13x5RIZmC1tPE5eCrzYCHwQ2zl3j47xP1J3RroAKo/HW9mcFx39DQFn0yhi6RVHYiesxueylyYOXhi2AgjGPFtYGrniqwplWhpaWHdH3sXD4zg8THS1BLDjHiwEPhBmPiIJtJISDS+msOGw8TKEcG5CxCmSkFMTIymmI+JKYQJjyB8wipIytbRKLUhQ4djuLEZXIUBtJDUmjVrYGxsTMGml5cX5s2bh7CwMAwfPhyOjo4Qi8Xw9fWFo6MjRo4cSQGmNtTMysrC0KFDIZPJIBQKUV1djfnz58Pe3h7Dhw/H0KFD4ePjg6ysLBw8eBBqtRrl5eXUw7O5uRm5ubk0nbAv36o1a9aAEIKCggI8/vjjOHz4MJqamlBZWQmFQqFT/XwgUHPGjBlQKBTYs2cPjh07huPHj7P8XzkNfhmylRCNnqapkJx3u0LyWx9+huLiYpibm4PHM4VLeBLk0+ox0swaQ4aPgIWrCFGzNRW7xXkLYe+vgImlA4Yb8WBmbg4vLy/MnTsXJ0+eBCEETz/9NG2vtBcrKys4OTnpPeZ7hZrd3d0YNWqU3kJB8+bNuyPUHKgVh/aEkTbUbGxsxJw5cyCRSHS8QJnv7j1JERQUBCcnJ9TV1eGdf37B8tVUznsSLiQFNkKiKRTkFgBbH4K4pQeQtKoD//zqIr7//nvk5+dDLBbDzc0NmzdvplH4PokltCI246nIwA8jc2sYW9hBPq0em46+j3PnzkEsFsPd3V2neE1ubi5SU1P1TqT0R79XBLih6NukVR1wDkuAKDwSXd3dSE9Pp1C8paUFCoUCP//8M8rKyljF1l599VUQQlBcXIzW1lacPHmSRuPGxcXpbW8nTJhAr99XX30FiUSC2tpane3+KNXB+wM1Gen7TarVar0TA731sKefp63puw+mD2pqR2pqnzfze+8NNd0VGeA7C6Gu3IeEqiOw8Q4D31kIT/9Q/PDDD6xjuX79OgWSy5YtQ1tbGzZv3ozIyEioVCr8+9//Zm3f3NwMQjTWOgcOHEBTUxOysrJQWlrKQU1O9ySOEXDSJw5qchqU4hosTveivgagjuIY8F18NSmTSaU0NZsZgPb09NDB8LPPPgtCCGtgcevWLXz++edQKBRIT0+nA7jDhw/DxsYGoaGhLMBDCIFEItGbfm5tba03TfiJJ56AmZkZK5rjlVdeASEEr7zySp/nfOHCBURERGBRZSU8RCHwiM4xCDR7p0jq00AHUAOJHOlvFKhsSh0CM8vhHKiAXC5Heno6du/eja6uLnjJU2HrK0XckgMQxk+ArQ+hnnBB2XMQkDFLE+k5whh8ZyGcAjQFgewFnjBz8KAVgm19pUhapUnFGm5iBuewBISMWwJZYiaUSiUUCgXs7OzA4/EQHh4OmUwGtVoNb29veHl5YezYsVCpVFAqlVCpVPD398esWbPA4/FY6VcrVqyAq6srwsPDwePxIBQK0dDQgK1bt8LS0hJDhw6FSCSiz8oTTzyByZMnw9jYGMOGDUNSUhJmzZpF0wkNmfG/9NJLmD59OmJjYyGTyZCamopp06ahpaXlniI1v/rqK8yaNQsxMTEURumDSpwGrwzZSmhXMPdWj0dQ9jw4uHnT6rheXl4YUzYXlu6BGG5ihhE8C1h7hWgmFOKKNNE+9m7g2bjAxcsP+fn52LFjB+Li4hAfH09/w1u2bMHMmTPh5+eH2tpadHZ2ori4GL6+vti+fTuef/55HD9+nLaP9wo1AQ1skkqlSE5ORmNjI/bv349p06ZhwoQJNDKaAShvv/02WltbkZ2dDblcDhGJgn/6o6xoxqRVmuIsvskTwXfxxbARRuA7C+ERlY2lj3eyjlMban777beIT0qFs6cfjM2t4EqSEJBUBFsnVwwbNgy2traoqanBlSua91JZWRl4PB614LBxFMDY0h4jzSwxbIQxzBw8wHfR2AKI8xdp0kldfOHup7lf1tbWsLa2phkD1dXV9B3pKkvTVEn/tcq6NtQ0sXKgUPPM+Su0vYmPj0d0dDSNImQitfS1Q/3V7wU17+Tf6J/+KPjOQsxat4f1Dj5z5gz9v0wmw7Jly+g+58+fT4Gntn766SdIpVK97S3z3J08eRJ//etfQQjbs5vR/a4O/nvpXqGmUqkEn8/Hzp07DX7Pwww178bTnLnfvc+b6W/1hpqSkjXgOwvhFTMOiSuP0kmtwOQJAHQzO65evYq6ujqkpaVBJpMhPj4elZWV+OKLL3SOv7u7Gzt37qSZSFlZWWhpacHbb7/NQU1O9ySOEXDSJw5qchqU4hosTveivjr+AkkKLN0DYR8QBb6zEC4kCYFZc1BSWYf6+nqkpaXRwXBXVxemTp0KQghmz56N1tZWOjiXy+V44403qFfWuXPn4OPjA4FAgPHjx2P//v1obm6GtbU1QkNDdQZ8zz77LHg8HiZOnKhT/Xbv3r2ws7NDZGQk3f6bb76BVCpFQUEBDh8+jOPHj+Pvf/+7znkzEUeEELR1voJNR99npdMxqVv3eh3vZWEiCe4UBdq7w64vjc5VkkKBZF+LC0mm24yufd7gQME/bQb4zkIEZc+l686cv4KXXnqJXldt3WnANJD0q23btun1/GPSye/Fv4zTH0v6ipAMRHeaUIhZ+Ay8YsbCyiMYJlaOGMnjY+3atViwYAEiIzVRazPX7MbQEUYYaWaF2EUt8E0ug72/HCN4fAw3MUOQTI2a1avx4YcfAgC+/vprKJVKTJo0CUVFRVAoFBCJRLCwsKC/g0uXLqGyshJxcXF0MogBGfcDagLA3/72NxQXF0OhUCAhIQE1NTW0qMXatWspQCktLUVWVhaamppw4MABeClG/9o2zKHXKXZRi6aatHsgnMMSYGLlCK/YcbD1lcLWM4gWQNKGmg0NDajv+ABxS9sgTJiA4cZmv3rZ8WBsYY/hxqYIjIihKec//fQTjh8/Dh8fH8jlcoSHhyMwMBAeohDY+yvgHTce0onrIZtSR4/LIyoHJmZ8ODg4IDQ0FI8++igOHToEkUgENzc3Cg/rOz7oE2omVj+HwOw5MHfyxvz6/QBuT6IsXLgQhBC0t7cDAJYvXw6pVIpvvvnmrp/J3wNq9qfStnz6FvCdhXAIjEZwaDitXN7T04PExES9bfmiRYv0FiPcunWr3jRdQPNeUKvVmDlzJpKSklBcXAwAOlHw97s6+G+l3un9CRXbIBAGYOeTmvfdQKHm448/DjMzMwiFQqSnp2P58uXo6OjAjRs3WJ99mKHm3XiaM/e793kz/a3eUDNpVQeECRPAdxbCMTgGTiFqmFg5wje+SG9mBydOg0EcI+CkTxzU5DQoxTVYnO5FfQ3aFY9ug413GMydvGHm4AFTO1fwbJxh7eGPvLw8bNmyhTUY/uWXX9DY2IisrCzI5XLExsZi9OjRGDVq4+nphwAAIABJREFUFCIiInTSJ/Py8pCRkQGZTIbRo0fDzc2NFsfQhprbt2+nkXq998FUwA0ICGCdU2dnJ/Ly8qhHl76B0Ztvvkk92Xp6eu75Og50ADWQyJGB+nXqS6NjIjX7CzXz6168Q5RaG+xE8l+j1AohHluJtJI5iIqKwtixYwcMNQeSfnXt2jWkp6dDIpGguroa7e3t2LBhA5RKJa16zunPJWYwf+rUKTz55JPIzs6GTCbDxo0bAWgqzPb25K2qqtKpPs14AT/yyCOIj4+HpasfbH2l8EkqpWnKvRfpxPVwjRiNEaYWGG5kgtGjRyMgIACjR4+m++XzLWBuZYuUhbvhFjEaVq6+GGnMQ4QiCp988onOhM306dORkpJCP28IZPyW+vjjj0GIxuOYueZ5eXksQDKqRuM/ZyMkWvAwG5bugVDOaWK3I0sOwM5Xwoq2Z4Bg/swVdDsGMPCdfaCY8VdWm1dYUUPfG4znYm8/UMZzsPfEVXpWHiuTgNHnn3/Ogodd3d1IL6nQm36etKoDwvhiuAoDcOrXCTTmHBoaGpCeno7CwkJcu3YNkZGRrMrfd6PfA2pqvwsSVx5BcO4COIWoYekWAEu3ADgERsM3aSL1FpWo02ifIDs7Gy4uLjA3N4e9vT1ee+01ut8XX3wRhBBYW1sjJycH+/btQ3l5OdLT0xEfH4/x48frzd4QCAQQCoXw9vZGdHQ0FAoF5s6dC0ATIVdfX4/MzEx4iEJg5REMhyAlfJMn6vZzZmyFmyIDPmIpZDIZMjIysH37dr0FXh60+krvl0+rp89bfccH+LuB6L3Dhw/rQM133nkHoaGhqK6uxpo1a5CdnU3tfrSzXx5mqDnQPlLamtsTv/2N1GQW8shqCCQpv06ymMNRJNWb2cGJ02AQxwg46RMHNTkNSnENFqd7kSFz9fjlhyApXQvf5DI4BseA7yyEjXcoPv/8cwCGq3ru3bsXhBBMnz4dhw4dwuuvv45Tp07h//7v//QOyvoaqDGVTdetW6dTAVd7Gai0CxDdL90pPW+gCxNJMNAoBH1pdP2JJNWGmgwAMLR97KIWeMWMg5WnGJau/vCQJuPtt9/W+1zcacA00PSrCxcuYNmyZYiNjUVUVBQmTpyI9957j0bIcfpziQFshYWFyMrKwu7du3Ho0CGcOHEC//nPf6BWq3U8eePi4pCYmMiKmisoKICtrS3WrFmj8QKcsAze6kLwXXzhKI6hRWWYRTR6OvjOQtj5RcDYygFW7oEomTwd1tbWrCJRDg4OsLKyQmxsLNavX48VK1ZAIBDQVOnw8HCdSRupVEo//1tDzVu3bqGrq4u1rru7m0a4f/rpp/Sa66s6zfhPxi9rR9yydvBdfOCpzGV5XDJLYPIESKVSCkbPnTuHIHEoCyYwgEEgHaXT5iWsOAyJTIH8/Hz09PSgoKAACoWC+jv3ljbIKS4uRnp6Outce3p6sHjxYp130qlTpxAkDkV4TCqsBD6QFFUhv+5FzN28HzyeKdzc3ChM0ra7ePLJJ+m+AgICIJVKkZGRgS+//JLu+6effkJjYyNycnKgUCgQExODmTNn4vTp0zrH3/u48vPzkZycrHO/AOCLL74AIUTH13OgYt4FCVVH4BqhicR1CU9CYOZshIxdDN/kibD1kcBNlg6+sxBhmTNo9kZ5eTkWLFgANzc32NraQi6Xs97ZR44cgZWVFQQCARISErB06VJcuHABaWlpfULNoKAgWFtbw9LSElu3bsXhw4fx3HPPAdAUDpJKpVi7di3a2tpQUrkBvskT4Rgcw/rthhVVge/igzBlMnbt2oWDBw+itrYWERERmDx5st7r+SDVV/9BG2omrerA8t0aD/JnnnlGZx9MOn5vqNm77WhtbdW5rlOmTHlooeb9LAplqK8UXbELYUVVcJNrnnNJ6ZpBa1vAiRPAMQJO+sVBTU6DUlyDxeleZMhcXSciqWwdrAQ+dEC1cuXKPqFmYWFhvyJgGPUFNfuKvLlXzZkzBwqFApcuXbpv++zq7saWTsNgc9KO1/p1rbWLE91L4Y3+7kMfUH0Yq8fm5eUhJyfn9z4MTr+x9FXDZlRUVITU1FQdT14mzbu6upqumzhxIkaNGkX/zwxwQwuWgu8sBHlkNX3eI2c1YATPAmb27gjMKAfPxpl6NvqFKXBeKwrUwcEBPB6PwgZmsiYnJwcikQhNTU0GJ2sMQc0HEWF17tw5pKamor6+HgcPHsTaTdsgUafBSuADH3Uh8uteRNmyLQgSh+pMKmkXNotZ8BQiZ+74NcpS/yIQBoAQQuHyuXPnIBAG6IWavslletu8MFUqFAoFAOA///kP9SStqalBa2srWltbUV9fj9zcXNZ7RjtCvK2tDU8//TTKyspQXFys9520aNEiiEQi2NraYsGCBWhsbIRSqYS1tXWfUPPSpUuQy+Xw9fWFlZUVSkpKcPnyZbrP69evY/z48VAoFKipqUFbWxuam5uRl5eHiIgIvPHGG6xj6H1cDKB69dVXde7j5s2bQQjBxx9/PNBHgCXmXRCUM0/js51YQn22mUXbQ1VStAKEEKxevZq1ny+//BIKhQJjxoxh9Q36ev/r80J+5513EBwcDHNzc5Y/J6DxNZRIJHeM1M2oaYenfyiKy6bo9FGY6NGOjo67vVwD1pnzVxC39AB8kyfCzi8CFgI/2HiHwVOZh9DxK1hQM2r2LpjweIiNjcVbb72F0tJSREZGIjo6Gp6enggNDaXPYXd3N1577TVW2/Hdd98hKCgIjo6OWL9+PT2GiooKqFQqtLe3gxCCzs5Ovcc6GHU/i0IZ6isx7ZqNdxgCsyr67G8xunjxIggh2LBhA2t9fX09CCFYsGABaz0TDPD++7dB6XPPPYfS0lJER0cjMjIS48eP/90j9jk9POIYASd94qAmp0EprsHidLcy1HlTL96vsy52UQsEwgAagbR+/XoQQmiRBm0NJAIG0JjZa0c2aX9mIJE3hnTx4kUcO3YMdXV1IITQ1NT7rb5SHc+cv9Iv8KmvOFF/o0ANVWof6D4Gc/VYfV6JjKfmg7qvnAavGKjZ0tLCWv/ZZ5+BEILNmzfrpHjrS/O+efMmTSHs6urCe2e+gnrxfgrV/FIm0+fdN7kMJlYOsBaGwcojGMONzTDc2AyeqrGIWfAU67doaWkJGxsb+v9//etfEIvFiIuLQ2BgIFpbWw2e37vvvvubQs0ffvgBy5YtQ1paGjz9Q2HhKoJjkBJB2XMpvGLA4rz6/az26sz5K3Twr5rfDMWj22hRINmUOp2lrfMVnDp1il73c+fOwUrg0wfUnKgXarqGxrIitL/99lts3LgRmZmZkMvliImJQV5eHmpra6l3KaCBPs3NzcjKyoJCoUBKSgrWrl2Lq1ev6n1P3bx5E5WVleDz+fDz80N2djZ27twJoVDYJ9QEgMzMTPB4PCQnJ+t4GW7evBlSqRTvvvuuzncVFBRgzJgxrPW9j+vHH39EdHS0ToXrmzdvIj4+HoWFhf255QbFvAscg2Ng6eqP+GXtBt8FPspMEEJw4cIFnX1VV1frFPcZKNR0cXGBQCDQ6RPcvHkTCoUChYWF+Prrr/s8HwYEnzhxQqdNuHTpEqKiorB06dK7uFJ3p7Vtb8IhMFpTTVuVD3F+JfxSJsHCVQRzR2+Y2buzClPxbexhY2MDV1dXlJWVYerUqfD29oaNjQ3s7e3pc3jt2jWIxWI4ODhg1qxZOHLkCHbt2gUvLy+Ympri9ddfp8fQ1NQEQghCQ0MhFovR0dHx0HhE3u+iUPejv8UoPz8fubm5rHUFBQWQSqWIjY1lQXUGLDP95traWhrt3NLSgtbWVpSXl4MQgu3bt9/FleL0ZxPHCDjpEwc1OQ1KcQ0Wp7uVoY6gtacYbvJ0BIyZidCCZQjKngOHwCgEiUPx8ssvAwBeeOEFWgyho6MDx48fx3/+8x8AA4+AmTFjBhQKBfbs2YNjx47h+PHj1Ph/IJE3hsREO6lUKixfvvyei4jciwyBT326Wxh6L/sYzNVjZ8yYgcWLF+OZZ55Ba2srqqurIZVKkZiYiO++++43Ow5Ov716F9LQjhr829/+xtqWKVwVFhamk96tneatDZoOHTqEgoIC6gXsKgygUYXe6vH0eWdSbeOWaLw2mWq4wXkL6DZnzl/BiRMnwOPx4OjoSL+jp6cHycnJMDExgZubm95q2NqTNZ988gkIIXj66ad1tnuQXniGBvfaYLH34D5/5goKNdVLWsF38YGbLL1fUODcuXOw6OVl1zv9XHtJWHEY1h6ByM/PfyDXoLd6R83qA2/anpp1dXVwcnKCq6urjodrT08PEhISaPRm74Up8KSdqq7v/bl69WpIpVLW/plo4N72AAMR81tjMjosXf3hGKS847tAHJmAmJgYvftsaWkBIQQvvnh7Eqw/UJMpBLVkyRLweLw+n/lDhw5BoVCAEILc3FysWrUKr7zyCmuCdd26dX22B8wybdq0u75uA1V4TrmmknZmOes6yqfVw9RWgBE8PgtqWrp4w83NDUqlEnK5HGPHjkVnZyeKiorA4/FolOnNmzexcOFC2NjYQCwWQy6XIzU1FcXFxQgICEBzczM9hhs3bqCiogLm5uZwdXUdFB6+/dX9Lgp1P/pbjJhJ9G+//RYAcPnyZUgkEmrT89FHH2m+s6sLSqWSeu7+v//3/0AIQVNTk84+165dC6lU+tBAZ06/nzhGwEmfOKjJaVCKa7A43a0MReIFZlXAhSTDxjuMpkJ5KMbgrbfeop/v7u7G1q1bMWrUKEilUtbAbqARMF999RVmzZqFmJgYOqjQ7rD1N/Lmj66BwtB72cdgrh67f/9+FBYWIjY2FhEREUhJSUFVVRXOnz//mx0Dp99O169fx/bt2yGNHwNrrxBYCNgFfBjANnXlDtoOnThxAgkJCTA1NUVISAhOnTqFyspKiEQiHDp0CPPmzUN0dDQCAgJohKdarYaFhQX1Ap4wYQJEIhEmLd8KvrMQXrEF9Hl3jRiNYUYmsBPJkLSqA3FLD8DOLwLmjp6w9hTD3NELlraOsLS0hLGxMezt7Vnn9Oyzz8LU1BRGRkYYM2aMwcmaGzduQKVSIT09HQcOHMDx48fpO/9BQc17sb1oaGiAqzAAqvnNSFrVAXdFBvjOPoiYtEEvFNAGuIYiNZlCQb3fVVYCH71g+H5cg94AvWLTXgSJQ/sFNVUqFUJCQuDh4YH58+fr7P/SpUt3hGuEELz33nv0M/ren4xNS0NDA103ffp0KJVKHTuG/qivojX9hZpJo9IRGxurd98DgZpnz56l15a5piEhIbC3t9eJytbWxYsXceTIEVRXV2P06NEghKCoqIhOXqxZs4YC3758urUjSR+0nIKiYekeiIQVh3Wupb1IjqEjjCDOW0R/CxbOQixevFhnPy+//DIIIawITH3WFT09PcjKykJmZiarUCJzXf773/8+0PN9ELqf0ZWM7kd/i4GTDGhmJhvOnj0LpVJJoeXp06dBCMHevXsBAAsXLoRcLsc333yjM9nx1ltvgRCCQ4cODeAK3dbvOaHP6bcVxwg46RMHNTkNSnENFqe71cPomcjpt9WDGChw4jRQnT17Fr6hcggTJiA4dz7EYytZBXxCxmk8L8OKVsJVGICCggKoVCosWbIE3t7eGDduHADQyLfCwkIUFRWhubkZbW1t+PuvVau9vb3h4OBAUwL//ve/gxCC2tpaBIlD4RNXSJ95QcRoDB1hxAKdEVPqYGxpj+HGZjCxcoS9TxgWL16MkSNHwsjIiPpGMsfh7++PESNGwMTEBKamprC2tkZeXh5KS0sxYcIEjB49GgqFAmq1Grm5ufT/hBAKMvVBzZ9//hlz5sxBRESEzsD35MmTmDZtGmJiYqBQKJCXl4enn35ax1tw5VMnIIwv1nj8uYpg7SmGkzgWgVlz9EJN7Uht5vxef++f2HT0fYypPgAHkRzWrn5IyJuEum270N7ejm3btqG4uBhTpkyhnzXkqclU3PZLnQzx2Ep4xYwD31kIcWTCXcG7vtQX1GOi5/jOQkxavhVd3d19Qs2AgABkZ2fDyckJfD4fL7zwgs73MJ57ZWVlBgvhXb16lX6mLwA4YcIEpKamoru7G1999RUkEglqa2vv6vz7Ovf+pJ9v6fyApsgaSj/X9vmMi4vTWxWeKSzYO/18IFGEPT091MOQ+QwDVo8fPz7QS3Nf1BuWW7qKdAoZMYtzWCKGjjBCcO58+luwEvjoTT9mrg1TNEl7Xe/rxVwDpu37+eefoVKpMHny5Ad78g9I9zO68l7U+95mrz0KN98gPFqh8c+sqalBZmYmAKC8vBxTp07FtWvXkJubCwsLC4SGhiIxMREikQjBwcGsyQ2xWAwejwc3NzcQQrBr1y76vfruM2PLcurUKTz55JPIzs6GTCbjLHr+ROIYASd94qAmp0EprsHiNFAxHZ2Eim0Dgpr98Ux8kFV6mePWruzJ6cFqsAwUOP259cnZ73Uqjyetul3AxzuuiEJNvrMQ4jCCf//73zqevAxsmzhxIm7dugWAHSUoFArh4OBAU1V7enqQlpYGoVAIQggLajqHJWDoCCM4BKkQv/wgklZ1wClEDVsfAnXlPiSuPEongiwsLGBiYkKLEp05cwbbt29HcHAwnJ2dMXPmTHR2dtJiL5MnT0ZFRQV27dqFw4cPY+fOnUhNTYVMJmMVkWC21YaaFy9eRHFxMZRKpU6RmT179lCI1tzcjPb2dixZsgQSiYTlIdjV1QWBOJoCxNCCZQjOXQBhwgS4RozWCzW13w/MddaOtv/hhx+wY8cO5OXlQaFQQKlUIisrC8uXL8ebb75JtzNU/TxgzEyQklo4iWM1oNUrBN7q8Xj7ky8G/lAZkKHJHO1q1Fs6P+gTajo5OcHd3R1xcXEghECtVusU7Onu7oZarR5QcbO+oCbzfjx58iStgn030YaGInSDmUJBSaW6hYKqn6PvgmeffZZOBmjr7NmzUCgUOkUES0tLERcXRy1nmGszffr0AUHNn3/+WW8U2rFjx1j2Dd9++y0UCgVycnLw448/6mx/69YtFki+X+oLllvogZoxC5+BOL8SZvbuGDbSGLKpm+lvQSAM0BuZrO/a9HW9rl69CoVCQSM+jxw5AkIIjh07dt/P+7fU/YiuvBsZmghxDkuAjTAc9R0fIC0tjRayamlpgUwmQ3Z2NmxsbODp6YkDBw5g06ZNsLa2Bp/PR3t7O53c6OjogEgkQmVlJU6dOsXyjTUENQsLC5GVlYXdu3fj0KFDOHHixAO9FpwGjzhGwEmfOKjJaVCKa7A4DVRMR6di094BQc3+eCZyUPOPqd9roMCJE8D2d01ceQRR5TvhlzIJkrL14DsL4RKexIKaMRnF9LPanrxjxoyBp6cnVqxYoTfNOyYmBhYWFiwv4KioKFhbW0MkEiEgqQhJqzqgXtIKC4EfrLxCwHcWwk4kg3dcEYytHOAQqIRjkAqS0rXIXH0IR48ehYmJCQQCAasoEVPFWSgU6gAKbbjD6Pvvv0dcXBxmz57NWq8NNT///HOkp6cjJSUFn376KWu7M2fOQCKR6FSkBm57IDPFas6cOQMLZyGNyvw9Ivm1AYE21HzQUeJ3SrvXhppJqzrw+nv/7DP9nFl37tw5ZGRkQKVSsVLJAWDDhg0GvS97F8LrC2reuHEDarUaM2fORFJSEoqLi3W26Y8MeSknVB2BQDpK85sjSQjMmgNSuBSZkxZCnZBMYfbZs2cxdepUEEIwe/ZstLa2YseOHYiLi4NcLmfZ2AC3vW/Hjx+P/fv3o7m5GcXFxSgtLR0Q1Pz000+hVCqxfPlyNDc348iRI9i+fTvUajWUSiULsnd2diIiIgKJiYnYsmULDh48iKeeegq1tbVITEx8IH2YvqCXQ6Bu+rmkdA0sXf3Bs3GGqZ0rLd6omt+MIHHoPUNNAKiqqoJcLsfly5dRUlKC+Ph4WrCL08BkaCLEP/1R8J2FkJSuhaswAK+88goATTvr5uYGHx8feHl5YdmyZXR/48ePB4/HY/2O9U2gMDIENTMyMu5rJDunh0ccI+CkTxzU5DQoxTVYnAYqpqNz6NhrA4Ka/QFYHNTkxInTvap3Cl/yqg6EjFsCx+AY8F18YWorwNARRjCxdgLfWahZrwU1QzOns/bHePKGhobC1NQUMplMryfvpEmTEBoayvICXrx4McLCwuDk5ISkcVM1EWt5C8B3FoKU1EJSsgYCSQrMHDwwZOgwDBk2AsONTWFsYQe+tR14PB6GDh0KBwcHSKVS+l2GoKa2rl+/jitXruDy5csoLy9HXFwc6+8M1HznnXcQGxuL/Px8muauLSYF95NPPtHxaPviiy9AyO2KuufPn4eVwAeusjSoK/fdt0j+gUg7SrwvqPkgosTvVCCtN9SseuKlO0JNQPMM5ubmIioqihWZev36dVpAr6KiAk899RQOHjyIHTt2YOrUqUhPT2cdX19QE7hdlIQQgsOHD9/V+Rvy2mbAZlD2XDgGq2DhKoKtVxDy8vKwZcsWVoTuL7/8gsbGRmRlZUEulyM2Nhbl5eW0MEpvtba2IiMjAzKZDKNHj0ZDQwO+/PLLAUHNK1euoK6uDoWFhVCr1VAoFEhLS8PKlSv1+kR+8sknWLx4MZKTkyGTyZCQkIDi4mJs375d72+ov7p27Rrq6uqQnp4OuVyOxMRETJ01F8q5e1jXknmuHYNjwLMVwNItAJau/rDyFMMrZiwkE3+dtCHJ9DMrnzgOT09PSKVSREZGIjo6GhMnTsTJkycHDDU//PBD+jwRQlBfX3/X5/xn1h0nQqZvAd9ZqKlw7+KD9z49C0CTCeDg4ABbW1uEh4ez7tGJEydga2sLJycnOrGh3a788MMPLABtCGoa8p/l9McWxwg46RMHNTkNSnENFqeBShsO3m/PRA5qcuLEaaBiUkb7SuELzl1Aq1+HjFuCgIxZMLUVwCexlFXAh4EEwRmz9H6PvrRobWlHPWpHS06dOhVRUVE4/Z9zSFrVAUdxDKy9Qlgp8eETVsHEygHmjl4wd/KGqZ0bQokUkyZNQmdnJ9o6X8HsjU9TUJtQsQ0CYQB2PrlP5zjOnDmDuXPnQqlU6hSNkUgkOsesUCggl8uRlZWlN50WAPU5NLQw6fEAkDtjGfguPuC7+MBRHAOfxBJETNqgk3Y8kEj+u9GZ81dQ9cRLsBL4IDhj1gOPEr8T1OsNNdNX7OsX1AQ0lY8LCwshl8up1QAA/PLLL2hubsb48eMRFRWFyMhIjBkzBgsXLmQV1AEMQ00GTiuVSr3Rvv3RvXht3+n39WfQ9evXkZeXB0IIlixZQtOJ3UViWLkHIXr247pQUxyLEaYWMOLbwj4gCg6BShjxbTHSzIr1mc3PnUZJSQl4PB5SUlLQ2tqKlpYWlJWVgRCCxx57bEBQEwAKCgpou/Lll1/+VpfpD6U7TYQkVB2BpVsA9QUu3XaCvgdM+LYwMeMjSByqA9JTU1PB4/EwatQoPP7442hqaoK7uztSUlKgUChYvzNDUPNvf/vbb3YtOA0ucYyAkz5xUJPToBTXYP3x1dPTg/3799PiF9HR0RgzZgyWLl3KSk378MMPMXv2bBqhkJ2djccff5zO5l65cgVVVVUICwsDj8dDcnIyJk2ahMAIFZJWadI6g3Pn02IAlm4BcAlPwqz1e/RGw+zbt49GYaSnp2PXrl04deoUq2M1efJkpKamoqGhAY888gji4+Mhk8mQlpaGxx57DNeuXWPtkxCC5cuXY+fOnUhLS6O+V21tbRzU5MTpIdedChdUP/UKhHFFsPUhsBD4wcY7DF6xBbDzV8DOLwKJK48iYMzMXythC2Fm746hI4ww0swatr5SCgl4VvZ6wc/69evB4/Gwfv16uk57MJiQkABnZ2coFArMnTsXgCZFUygUIiwsDCUlJfAKCMewEUYwc/AEmVBDB65R5TvBdxZCmDCBNRHUF6jVhmP1HbcjDr/55hsolUokJydjz549OHHiBN58802cOnUK06ZNAyGEdU6TJ09GSkoK5s6dC0IImpub9V77WbNmgRCC1157rc+CNJ999hnd/sz5K4hZ8BTEYyvhqRoLG+8w8J2FcFNkIHHl0buK5L9bGUq7vN96mAvoff3115BIJNSz7250J6hrKEKXg5pAQ0MDCCG0qjWjxDnbdaIumfbKwlUExaPb4Zs8Eba+UlgI/GBi5QgjM0uoZ9ZTiN/a2org4GD4+Piwfgs9PT0oLy9HWFgYwsLCBgQ1Dx48CEIIpk2b9mAuyJ9A/fnNuMnSwXcWQjR6Gms9z9YFw03MYO+vYL0HAI01hY+PD8aOHYvY2FiEh4eDz+dDpVKhpaWFFanZu+8NcIEAnDhGwEm/OKjJaVCKa7D++GpqagIhBOXl5WhtbcWhQ4ewY8cOFBcXU9+0N954AzKZDHFxcdi+fTtaW1vpIHb69Ono7u7GypUrIZfLMWPGDAiFQuzevZtGJv3r60uITiuAtasfvGPyoSheivHz1iJ3XJFev6+tW7dSD6ynn34aTU1NyMzMRFFRkQ7UjI+PR0JCAtasWYOWlha0tbVh5cqViIiIQGFhIS3YAWigZnR0NAghmDp1Kvbt24fGxkYkJibSfXMdNE6cHk4ZKlzw8v/9A1aeYlh7hUI0eipCxi2Bf9oMWHuKMdLMCjbeYRo/zdmNEKVNh7mzEFbuQTCxdoJjcAwkpWsoJLCycxow1CwsLISLiwuCg4Nx+PBhWkG4qqoK4eHhcHBwgEgkQmFhIawdnGH9q59m5Mwdmkmh6ufgGBwDC1cRlj7+HB2cagNN7VTu3hF/DATdt28fqyqxtiZMmKAXaqalpaGrqwtLly4FIQQ7duzQ+Szj3aidbn8naR974soj8FTmsYoDDTSSfzCq96ShrWcQ7EQyeKrG0vvlQpJh6yvVCyucAmQ6FaOZaMp3330XEyej2+TnAAAgAElEQVRORFRUFGJjY1FZWYnz58+zttWGTgcPHqSFlFJTU1FfX6+38M2FCxewatUqpKSkQCaTISUlBTU1NTSN+MyZM3Tb559/HiUlJXSyc9SoUZg/f75OOvbly5dRV1eHwIhYWAj8YO0phkdUNqIrduucc/yydvgmlcHGOwweohAUFhbipZde4qAmgLy8PCiVSh1vytG1z0MgSQHfWcjyx+Q7C+GpzNO5xrKyNSCE4PXXX6f7KC4uRmpqqo59xOXLl2mhn95+pXcS0yb/XpXg/wga6ESI9tLbT1W7LWUmsS5dugRAEwXMROT2FgOnOajJSVscI+CkTxzU5DQoxTVYf3wVFhYiNze3z793d3cjPT0dkZGROHv2LOtv1dXVtKOTnJyMOXPmsDo6zIC4tbUVhBC88MILrM8zEQAqlYoajZ89exZSqRRFRUWsjvvVq1eRmprK6ljdvHkT169fZ4FLRocPHwYhBC+//DJdJxKJ4OTkhDlz5rCqo54/fx5RUVFcB40Tp4dYhgoXkNjRtHK49qBPNf9J8GxcYGRuDYE0FeKxlfCOK8IInjmsPIL1pp87u7gOGGrGxMSguLiYVUkcAAVFTBVrlUqF8ePH4/X3/gk332D4JxTQ4llLGjugiI6BXC5HTU0N6nc+AXH+IvilToZDYBQ9zqRVHYic1QC+sxBBOfNY0Y4HDhyg0azaeuONN2iauLa0U+a7u7uxevVqEEJQV1fH2u6TTz6BRCLBlClT9BYDuXHjBr0nP/zwA27dusXytUxa1YHAzNnUS1QbaN5vX8v7JebeGVLvScOSxZvgnzYDTiFqRJU33hFqBkhVCA8PZ30PIQTjxo1DVFQU1q5di7a2NqxduxZSqRTJycn47rvv6LbM81dcXIz4+Hjs2LEDra2tqKiooBF02u/CCxcuIDk5GVKpFLW1tWhpaUFJSQk8PDxgYWGB6dNv+8k+//zzIERT7b6lpQWHDx/G448/jsmTJ+PkyZM0Apbxf1QqlVi0ogYh45YgMLMctr5SWLoF0OvAwG2X8ETwnYVwj8xC/c4nsHXrViiVSowfP/5PBzV7+//auAcgTJWiE7mcX/cifJPKfp0I2c5qr0Rp03VTliu2gRBCJ1cA0D6QoaWzs7Pfx97T04OCggIkJSXh5s2b9+2a/Nk00Ohm7cU/bQb4zkIEZlWw3gP/+Mc/QAjRmTBJSUlBbm4uq024ceMGtTzgoCYnbXGMgJM+cVCT06AU12D98TV16lSoVCpamba3Pv74YxBCUFNTo/O3//3vf7QAgUQiQVVVlV6oOZAIAKZS7rFjx3S+r6mpCeHh4X1Wcu3q6sK1a9dw+fJlOqDavHkz/buLiwucnJzw/vu6/mzMYJ3roHHi9HCqr8IFn332GawEPvBLmQz14v06i0CSCjMHD9j7K2DhKoKFQAQjcxuI8xbqQE1XYQDc3NwGDDU3btzIAoSMqqqqEBISgoKCApibm8PU1BRqtRrvvvsuAgICYG1tzdr+22+/xbx58+Dl5QUjnimGGZnAyNwGdiI5ZFoRjgkrDsPKPQh2fhEQ51cifMIqPLpmD86dO4fo6GgkJyejqakJBw8eRG1tLaKjozF27FiDUJMRUzBm9erVrMHvE088AUIIxowZg4aGBhw+fBhPPvkkqqqqoFKpaNv66quvIj4+HrW1tXjmmWewY08LxpTNg41HAOx8Jchac+SB+lreL/UHavaeNNRX9MMQ1FQnJOuFmvqi344fPw5CCFauXEnXMc9fZGQkvv76a9b2tbW1OmBr+fLlrAlI5j3q7+8Pe3t7LFy4kG47f/58KJVKvZOK2p9NSkqCUqmk0ZtMhG7ckgOw9SEQSFLo+YYWLgffWQifxBJWVNlHH30EiUTyp4GafdlKWLiK4Bgcg6RVHax04rqjp/uEmr0LYCWt6sCcTft0IJVCoUBGRkaf9hGnTp1iAfO+dO7cObzwwgv0WeIKydyb7uSpaWiJX9auKSDkLIRXzFiIx1YiY+ICREZGQqVS4d///jfru5j+97Rp03DgwAE0NTUhKysLpaWlHNTkpCOOEXDSJw5qchqU4hqsP550Kv/Ob4RvmAJB4lCkpKRg0aJFaG9vp36UzECpr46pu7s7rKys6EBLKBSCx+Nh06ZNdEDcOwIgICAA9vb2dBDP5/NhZ2eH7du304HWp59+StPNPvvsM2zduhWRkZHg8XiYN28egNsD7kOHDqGgoAAREREghEAkEsHGxgampqbw8vJCdXU1Ll++DDs7Ozg5OeGHH36gx3/w4EE8+uijCAkJgampKVxcXODg4MDyf+PEidPgU++2LLqsGgJhAPY9y54Qeemll2Dxq09mn4uLT5+p272jBvsqpqLPm5GBSgcOHNB7DosXL4aFhQUtpNPW1oYNGzZAqVTC29sbFhYWrO21rUDCs2dCnL+I+qkJpKNYfpQRkzbAKUQNC1eRpohEgAwAcPr0aUyePBkqlQpKpRLTpk3D6dOn9UI6fVATAHbs2AFCCJYtW4auri66/tSpU6ioqKD+xklJSSgrK0NTUxOuXr1Kr9OaNWuQl5cHlUqFyMhIZGZm4rHHHsOFCxcM3PHBpf5ATX2Thr1hVV9Qc0vnB0hLS8PEiRNZ0a+EEGRlZen9vqysLMTExFDYzDx/+iYlL1y4QCclAU0krlKpRGZmps62PT09yMjIgEqlovuurq6GVCrFK6+8gp6eHp3PnDt3DqGhofDw8EBlZSWdyPz+4kWsbf0b1Iv3w1s9HnwXH5oe6ybXPMu1e1/TidCdMWPGnwZq9lVksa904jPnr0AgTdWbfq4Pah469poOpBo3bpxBSN1fMbBLrVajrq6ONfHBaeC6U/XzOy1xSw6w/FTtfcJQWVmJL774Que7uru7sXPnTqSmpkImkyErKwstLS14++23OajJSUccI+CkTxzU5DQoxTVYfxz1NfOftKoD8csPQVK6Fhll8zBu3DgQQhAfH4/PP/+cQs29e/fq3S8hhELLSZMmYcWKFRAKhXj++efpgFg7AmDXrl0IDAyERCLBggULUFtbi/T0dJiYmCAmJgY1NTU6ULOwsBBFRUWorKyEl5cXTX2cPHkywsLCqLfnoUOHsH37dgQEBEAqlcLNzQ05OTmYMmUKioqK9ELNzMxMVFZWYsqUKfDy8oJCoYC5uTlUKpVOZAsnTncrbQA3qqYDGavaseqZ13Dqo8/x/fff4+rVq7h+/Tq+//571nLjxo3f+9AHnfpqy5goL/m0elYU0/Hjx2El8IFPYglkU+r6XHpDTUlRld5q2H1BzbNnz/YJNfsqpDFq1CjweDzs28euUn7ixAnY2tqyoGZvKxBtrzVv9Xi9IFZ7GUxFZ/4I0gc1+zNpeODAAaxve9Mg1GQAelpaml5PTabQVG8xBZ2YIn/M89fXpGRMTAxycnIAABcvXjS47zlz5rD2/dVXXyEzM5PaJ8yZMwfPPPMMvv/+ewAaqBkQoIls1pfKHCQOhUAYACuBDxIWtyC/7kUEK+Ihi4zW+/0bN278U0BNQxDLUDqxqzBAb6Gg3lBzS+cHetullpYWEEKwbds2vcelXTiSU//V1/tiIPr/7L15XFRl////+2YuDLuAygioMCAg+zUDDMywLyKLIJugiKiomCCkuIAImuCSqJVmaJioYyIgpmJlmS13JnkvmXeWln7uSrxLQ1wyN+D1+4P7XM6ZBVywEK/n43EePjycOTNz5sw153qe96Lt2v1RFvY7wOgumCNgaIJJTUaPhA1YvYcHvSh6peFrfPrpp/RCrLP0819++QWEEMyZM4duryn9nIsAuHPnjsb6nO3t7ViyZAmNGuHSzzmpOXXqVNy7d4/WJ1NuFCQUChEdHY22tjY66ff19cXx48fpa2pra0NeXp7G9PM//vgDwP308+PHj+Pbb7+Ft7c3L42UwXgUNAk4brLJLZYiR0ybNo2e78qLNhn2LKNtLFOWmspRTN999x0sRI60c3hXi/fM9bAQOWo99pzAUeXYsWMPLTUdHBygp6enseYcV8eQQ3UsVq615p+/g3YP1/a+lDtJMx6c5uZmLFmyBIGBgfD19UVGRgZOnDjBk5rK33P//O0QBU2EqS35X1McV5i7BSM8ZSbvpuGHX3yFtPxV0DMRoq+OPkxHOGGUZwCy5syjAikiIkJj+vncuXPx73//GzNmzICPjw8CAgKwYMECTJ8+HYaGhkhLSwNw//wbMWIEiouLcfr0aWRlZUEul0Mul8PCwgKRkZEAgN9++43uGwAOHDiAjIwMyGQy+Pj4wN7eHiKRiCe37t27hy+++AJZWVkYMWIEdHV1YWRkhNzcXJw7d45Kzfz8/E7TmrlI1HHjxiEgIEDj5/CsSM3O0o07SyeW+/lh8Rb13xllqcnJck3jUmtrK73+mjZtGrZu3Yr6+npUVFQgNzcXnp6ef+FR6dk0NTWhoqKCNtdUpjukpmr94cdZ2O8Ao7tgjoChCSY1GT0SNmD1Djq788+lKikvx0+do4JROTpINXKRi6rk6mJqk5pcBADXPVdVkDY3N9P6nFOnToVYLMbEiROxceNGEEJw9OhRXL9+Xa1RUGZmJoYOHYro6Gi0trbSSf/y5cuxaNEi3sXkyZMnO20U5OPjAzc3Nxw9ehQtLS1ITk7GxIkTn+wHw+j1aBJwIUvq1aIEF23ahwsXLjxSDbNnic7GMlWpyUUxtbe3Iyo2AYaW9vCdU6F5HFRqIOSTvQlOLm7YsWOHxteQkZGBoKAgekME6IiizMrK6lJqqkby6RiaQkfPQGP9SGdnZ57UVC0Foio/jIc7YfAoX63HZ+1+9VrCjM65efMm4uLiaM3ompoarFq1Cr6+vrwapNz3XJa7BcYjXDDQ2g32kTPgOr4ADlGzMHCEC0xs3PHSzqP0pmFMTAwIIfDw8IC9vT327t2L119/HWlpaThz5gxu374NiUSiUWqGhITQunivvfYaqqurkZ+fjyFDhsDIyAjTpk0DcP/8EwqFSElJQUBAAFatWoW6ujoUFxdDIBDAzs6O3hSUy+WIi4ujZWBycnKgUCiwe/duWFtbQ09PD6+99hrvGNXW1oIQgtjYWJSWlsLa2hoikQgTJ06k6efZ2dkPdLxzcnJACMGlS5fU/vaspJ931Rimq3TisxevYu3+k4he8jYMhSKQhDlq0ebabra0tbVh7969yMjIgFwuh1QqRWRkJObMmYPa2to/9Tg8TXR286o7pCYH99lyvx9J5YeRseGjh5Ka7HeA0V0wR8DQBJOajB4JG7B6B53d+R84wgVW3tFwjJkNt5TFcBqXB1efUBByv3M4V8eN6566/o23II9OgbGFLUxtxTC2sMUgixEIGR0Jb29v6OrqIigoCBEREYiKisJ///tfeHp6QkdHB88//zwcHR2xZcsWGgHg5uYGQgjs7OyQkJCA9evX0/qc+vr6GDlyJIyNjTFkyBAMHjwYmzdvBtAhNbnHDhs2DG5ubrCwsMDQoUMxaNAg6OnpQSaToaWlBdevX4dIJKK1Ni0tLTFr1iwUFhbCwsICZmZmEAgEMDU1hUAgACEE0dHRf+XHxnjKedhaWD29MUpPoLOxTJPU5CZwP/zwA+xcvWBoMRKioIlwSVqgtXN4+b6/w8/PD9HR0dizZw/ef/993m/gBx98AEIIJkyYgN27d6OqqgppaWm0mYImqVm/b59Gwd3fwATP6+ghbBm/8QegXWpypUBUz6+upCY7vx6eTZs2gRCC7du389Zz5wAhhPc5mLsGwtSWUEl+v77hNhgNGwWbwAn0puHIkSORkJBAb959/fXXvOfgIrc1SU0TExPY2dnhu+++o+vff/99mo3Apaxz55+uri5cXFx49e9KS0sxbNgw2NjY0EZ9RUVFGDlyJGxtbVFZWUm3bWhooGnmEokETU1NuHLlCm7cuAG5XI6IiAhcv34dd+/ehVwuR0JCAiZOnEijUsViMY4dO6bxGCtHfu7btw+EELUsiWepUZByWYkHWf6sdGJNpRAYHfxZUlMT7DqD8VfBHAFDE0xqMnokbMDqHXR2539UXC6GknCY2LjD0GIkTGzcIZKNpZMcjq+//hrZ2dkQOf8vOsBBCseY2XBNLoCBUIS+OvrQNbOEX8wEjBgxAiEhITA1NYWXlxeioqKwaNEiJCQkQFdXFwMGDICJiQnGjBmDOXPmYPPmzTyp2d7eDoVCAUNDQ/Tt2xeOjo7IysrCiy++CH19fYwaNQoXLlxAZmYmIiMjUVVVhSFDhkBPTw99+vSBs7Mztm/fjqFDh0IoFGLatGnYvHkzDAwMEBkZialTp8LCwgI6OjrQ09ODp6cn5s6dCzs7O4wdOxb29vZITEzU2CCDwXhQHrZrKYug6JrOxjJNUlM51e6/v/yCsVPnYpCDNwwtRv5PAsogCp4E6QsbELbsfnrmsWPHMHHiREilUhBC1MaC6upqjB07Fl5eXoiMjMSmTZvw448/apWa04pe1fiadc0s0affAIQU76PPz9FV+jlwP0LQf/7/0s+9YzQ+j/J+GQ9OYmIiLZ2iSlxcHAgh9Hsuy30TBkIRRo7OROCi3QhctBtGw0bBQjwaIyMyYSIi0Bs0nN40jIyMhJ+fHw4fPgypVIrQ0FBUVlbSqMvY2FgEBwerSU03NzcYGxvD3NwcK1asQG1tLVasWAFPT08EBATAxcVFTWoOHDgQ5ubm2LRpE6qrq2macUJCAjw8PFBdXQ2go3kQl0ZeUFCAbdu2oaioCB4eHggJCcG7774LQgj27t2L1NRUjBkzBlZWVpg9ezYUCgXS09NBCMGOHTvotmvWrEFMTAwkEgkKCgqgUChQW1uLDRs2IC0tDdOnT6fvrbW1ld4cmDt3Lvbs2YNXX30VcrkcEyZMeCakZleRmqpLd6YTd5ZGzaSmZjSVjVH+zeCkpmrph7y8PK3nsmrphwkTJqgJ0zlz5kAqleLatWtqN8yCCvfAyNIBFpIx7HeA8cRgjoChCSY1GT0SNmD1Drrrzn9nzTmeH6CHEX7J9MLp8uXLGDRoEAwNDbF161YA9yflCQkJtH4l0HEh7eLiAisrK8yZM4c+32uvvaY2iTl37hytd6ncmTcqKgqOjo4QiUQoLS2l269evZo2M3Jzc6N3zG/fvg07OzuYmJjw0uq5OmmhoaFMajIei79yctpb6Y6xTFMKn2p6ZnfSWSSNfeRMGAhFcE7M50XSfPTRR3RyzKGpFAhXa00UNFFroyBO1DK6RrU8gMkwR7j7jdZ4bnBNebjvOUlfzquVayAUYYDRIPQVGKBPfx306dsfffoL6E3DU6dOISwsDIQQeHt7w8nJCXZ2dvDz80NRURF+++03REVFqUlNR0dHWkZl6tSp8PX1hb+/P+bPn4+mpib4+/urSU0bGxvEx8cjISEB3t7eGD16NNauXYsffvhBTcRHR0dDKBTCwMAAAoEABgYGEAqFcHFxoefkli1bUF9fj+DgYBgYGMDR0REhISHIzMzE4cMd49iZM2fovm/cuIHXX38diYmJkEqlNM29qKgIX3zxBe+4/v7771i1ahVCQ0MhlUqRkpKCDz74gMqj3i41/8qbYZ1FHN65c0dj7d9nnbNnz9Jo69LSUohEIqSmpuLo0aMAOqSmaumHNWvWwNPTE8nJyWrd4VVLP1RXV9OyDBs3bqTbffbZZ7QciWrNTZekBTAQikDSl7PfAcYTgzkChiaY1GT0SNiA1TvoDrmibWLOSU0d4yG8FM6zF6/C2toahoaGNMqFm5S7u7vD2dmZRoc0NTVBKBTCysoK77zzDn1ObhJz4cIF/P7772hpaeHVu1SVmuHh4YiKioKvry8uXrwIADhy5Ag8PDwQFBSklgYUEBAAfX19/Pzzz3RdcXExrK2tNUZnMRgPQ09NI3yaeRpFcWeSIqhwD8xGesJAaAubwAlwTV6E6IwXIZfLkZKSwpNZgHopEG7C6+TiBp+IJCS+/N6fImp7G5oaeoUtOwhDS3sMcfZH2DL18gCc1OS+5x6TlsFAKIJt6GS1mrnKi/L3/NatW/j444+xZs0a+nkHBwfj/PnzdBvVLuuc1CwvL9f4XrRJTU0psE1NTWpSMz4+HnK5vNPGPpxUf+utt0AIwccff6y2b2WpyXhw/sp04q4am/V2HjRVXDWiVfm4qe6DEAKxWIzY2FjeNSXX+FI5K4qrt6tc+oFjxYoVtPQD0HE9HRUVhcTERLoNd8PO0i0ApiJ3JKx+l/0OMJ4YzBEwNMGkJqNHwgas3kF33PnXtg9OauqaWvCk5tr9HY15zMzMePv5/PPP4e7uDn19faSmpqK6uhpTp06FQCCAv78/7651YWEhzMzMaC0t5SU6OlpNak6dOhWffPIJJBIJQkNDUVFRgbKyMpiamsLf31/tYnPmzJkQCASIi4vD9u3bsWfPHshkMujr62Ps2LFMajIei6dRwPV0nsaU/q7OA//5O2Htnwzj4c4wsnLECM/R+Oc//4n8/I6uxqp8/fXXyMnJQUBAALy9vREXF4eKigqNKdKMB0OT0AxbdhCDR8lgNGwUQpbU02gnDi79nPt8fXPegIFQBFHIpEf+nnNSQ/l3SlVqurq6wtzcXGPzHa6D+eNIzby8PBBCeLUutcHVFuWyMZTh0s+Z1Hx4tJ2Pqkt3phN3lUatKf2cW/fzzz9j3rx58Pf3h4+PD2bMmMFLYb9z5w6CgoKQlpam8bmPHTsGQgjefPPNbns/2uiOTuWq8rcrqTl58mTe9SpwP3OJu7kPAPPnz4e3tzd++eUXehOfW44fP05LP3BwYvRf//oXXXfq1CkQQtQaejEY3Q1zBAxNMKnJ6JGwAat38Lh3/lvb2hBVpjnqjEpNM0ue1EwqPwx7e3sMGjRI7fV8+OGHGDRoEOzs7ODt7Y2IiAhYWVnxUmtOnz6N4cOHw8jICBs2bMDHH3+M48ePo7Gxkda7VJWa3AX3sWPHMGnSJEilUnh6esLc3By7du3SOFm0s7NDWloafH19ERgYSNMAVS9AGYyH5WkUcD2dp7EpwqNG7CYmJiI+Pv4vfvW9n87OKYeoWTAQiuA07kXeOaXcKIj7nocuPYAhzv4wtLSH75wKjfsLXPg2/Z5fuXJF7bVcvnwZhBDk5ubSdapSkxACNzc3SCQSXqMgAHj55ZcfW2pypQ+KiorUUmMB4MaNG1Sg37hxAzKZjDYK4rhz5w5tFMSk5sOjmk6sTWh2Zzqxahp1Q0MDGhoaaBq1NqkZGxuL0NBQlJSUoLa2Fhs3boRMJkNoaChu3rxJt+UaQGqSifn5+fD09MTly5e77f1oozua+ux972NYiBwhm7IUkaWHEJK7ARYiR7yx7W2NUnPx4sW4e/cu78aTpu9eYmKiRrGsvGzZsoVu39zcDC8vLxQVFdF1y5Ytg1gs5pVVYjCeBMwRMDTBpCajR8IGrN7D49z57+yxmppzcBNzbWJQ9WJO08VdeXk5TT1XRVO9S21F7Du7gFWdLGpbx2A8Ck+jgHsa+CuimB6HriI1g4v28v6fVH6YiqU1a9b81S+/19N5eYAamNl7/688QCpckhcianIefH19kZycDEL43c9luVsw0NoVhhYjIQqaCJekBXBJWoCREZkYPMoX1gEp9HseFBSEnJwcbN68Gfv27UNVVRWtN/3hhx/S16dJamZlZUEqlcLPzw+vvfYa9uzZg/z8fERHRyM4OJg233kUqQkAZWVltBbg5s2bUV9fj8rKSixcuBBSqZRX17K6uhqEEMTGxmLr1q3YsWMHJkyYwKRmN/Bn1//t7HpJm9QkhODAgQO89coNpTh++ukniMVirFixgrctJ+bmzZvXje9EO48jNVvb2pA0e4la7VxdM0s8318At9QiWIocUbRkCW0MpKenBysrK7XGQMrfPa4xkImJCfT19REWFoY1a9aolX2QyWRITU3F+fPnkZOTAz8/P1haWmLo0KH48ccfcfPmTTg4OEAkEkEqlSIiIgLbt29/EoeRwWCOgKERJjUZPRI2YPUeHvXOf1diRpvUTCo//FhS85VXXgEhhFfvEgBqa2s11rtkUpPRE3naBNzTwF8RxfQ4dBWxa+kZiRHyRDjHz4VL0gKEp2bREhp/RuTSs05X0jlggQLW/uNhPMIFRpYOGC4Jx4kTJ3i/Fcrf84AFCtiFT8EgB28YWoyE8XAnDB4lgyh4EhZsrKPP+9ZbbyEzMxOhoaHw8vJCWFgYsrOzeTX2AO2/SV9//TWmT58OHx8fBAQEYMGCBfjll18QGBiolpquTdZok5pAR2p5VlYWAgIC4OXlhYiICMycORMKhUKt1MGhQ4eQnJwMb29vhIeHo7y8HOfOnWNS8ynjUaRmWFiY2rYtLS0ghGD9+vW89bNmzYKfnx9u3bpF123btg2EEBw7dqyb3oV2HrdT+fqDX8N3TgXso7I6Sk0ET4J1QAoMhtrhuef7QtfUAn119GDjRGhjIGtra4SGhsLMzAxCoZBGPzc1NcHU1BSDBw+Gi4sLxGIxTExM0K9fPyQlJak1BgLuR8aGhIRg+fLlqK2tRXZ2NgQCAf3eGxgY4MUXX0R1dTUyMjJACKHNuxiM7oQ5AoYmmNRk9EjYgNX7eNg7/11NyLVJzbX7Tz6W1Dx58iQkEgmv3mVBQQECAwM11rtkUpPRE3naBNzTxJ8dxfSodHVjyCVxPoa4+MN4uDMMhtpBHhiC4uJi2uyM8WTpjoZePeV7fuXKFRBCUFZW9kSfh9E7OHvxKsr3f0XHUOU0alW0Sc0pU6Zo3DchBCUlJbx1XAQ61xCyvb0dsbGxiI6ORnt7eze9K+10lWLPRSdr6lQ+JmYcQkv2I2zZQXjPXA8DoQjmLoEd/7oGQMd4MCy9otBP1xDP9e2PzBdy6T6Li4vh5+cHQ0NDetOiqakJhoaG6N+/P5ydnTFv3jwUFRVh+PDhyMvLQ1lZGa8xEACMHj0aHh4eOHSIPwY5O823DJAAACAASURBVDvD2NgYQqEQQUFBaG1tBQDcvn0boaGhyMjIeOLHlvHswRwBQxNMajJ6JGzAYnQVxaJNap69ePWxpCbQcf4p17vMy8vDuXPnNO6XSU1GT+ZpEXCMJwOL2O25dGdDrz/ze64c7cbB1dTkJA2DoYnWtjaNYxIn69xSi7D+IF/Cd9YoSBOaooNbW1sRERGB9PR0AMCXX36ptdHUk6Kr9HOxWIy///3vvPWVlZWwEDnCM7OcHieByVDoDDTHqNgchCyph/EwJ5iN9ISO8RDoDDSHmcVwem1bXFyMhIQEGBoa0sZATU1N0NHRQb9+/bB8+XLaEKioqAiurq4IDQ3FsGHDsGDBAlr6wdjYGIGBgWqvu7CwEAKBAJaWlmrRnXl5eQgKCurGI8hgdMAcAUMTTGoyeiRswGI8bBQLm5gzGAwGn54SycdQ52lt6BUYGIhVq1ahpqYG27dvx6xZs0AIwYwZMzQ2+GEwOLTdZFGWmqrXct0hNYH7KeBnz57FokWL4OXlhd9++61b319ndCU1J0+ezFt39uJV5G+og4FQBJekBfQ49dMzgsBkKPzn70Dgot3wSFuGwaNkeK5vfzyvo4++A3Sxd+9eehxSU1NhaGjIu5nfr18/9OvXD25ubrx0eFtbW5iZmUFPTw8jRoygpR/c3d01Rl1+8skn0NXVhUgk4kV2AuxGPePJwRwBQxNMajJ6JGzAYjxsFEtU2SE2MWcwGAwNsIjdnsfT2tDrpZdeQlxcHGQyGby9vREXF4eNGzdqjOBkMDg6O999sjfBQCiCU/xctfO9u6Tmr7/+Ck9PTyxatAhSqRTz58/v9vfIoZpen1R+GLlrd8HJxU2r1Fy8eDEAfjSr37wqGAhFcIyZTaXm8wP0oDPQXK1p0HN9+6OfnjEMhSJep3JVqQkAI0aMgJGRkVpDIOVFuVmmtuP9t7/9DXp6ehozo5jUZDwpmCNgaIJJTUaPhA1YjKc1ioXBYDCeNq5evYri4mKEh4dDLBYjJSXloR7PRUEpR+vs378fhBC1lErGfVh5AMbTys2bN7Fp0yakp6cjODgYXl5eiIqKwurVq3H9+nW17Tu7plNOo3ZJWgiPScvwQllHanh3SU0AmDt3Lo1KbGxsfLwDoAFt6fXK0ajTil5VuwGv/JqVH69ZaupC18wKXtPLeYuuqQWGeoQheM6rcHFxofvTJDWdnJxgaGiI5ubmB3pf2o738uXLIRAINNbS/SukJhOpzwbMETA0waQmo0fCBizG0xrFwmAwGE8bJSUl8Pb2RkVFBRoaGvC3v/3toR7PpOajwcoDdC9ciq82qcXoPn766SeEhISgrKwMCoUCNTU1KCkpgaenJ1JTU3Hv3j3e9l1l33hOexnmroEwtLTvaILj6AWge6XmF198AUIIxo4d+0QaBHV2k0I5xV71JgX3mlWve1Wlpk/2JvTTNcQAo8HweWEjHGNmwzenAmHLDsJAKIJ1QArW7j/JOwaapGZkZCQMDQ1RVFSksWTEjRs3cOfOHfp/1eP9/vvvY8eOHXBzc8PAgQNpAyZlmNRkPCmYI2BogklNRo+EDVgMgEWxMBgMxp9BeHg48vLyHvnxTGo+Hqw8QPfApOafx71799TEJQDU19eDEIIPP/yQt/5h66RHlh5S2/fjwp0f27Zt6/Z9d3UjXjXFXvm7zZ2zqtGsqlIzZEk99AYPx/P9BRg4wgU6A4UQhUziSc1/fX8BHh4enUrNzMxM2Nvb067rmzdvRn19PW0MJJVKeWO5qtQkhEAqlSI2NhbOzs4P3BDzScOk5rMBcwQMTTCpyeiRsAGLAbAoFgaDwfgzEIvFjyWCmNRk/NlwHZ6VZU13Sk0mSB48xfynn36Cu7s71q1bhwMHDsDExATDhw9HYGAgFi9ejKtXrz50nfSk8sPd/n7y8vIglUpx5cqVbt93VyWTVFPsZyzdROc43DmreoxUpSYX0ao/xBrPPd8P/9//ew4DjAbBLaUQA4wGYYSjO6RSaZfp55mZmYiKisIHH3yArKwsBAQEwMvLizYGUigUnUZqcnTW/IhJTcaTgjkChiaY1GT0SNiAxVCGRbEwGAxG98NNAlUXbpL6+eefY/r06ZDL5ZBKpRg/fjx2796tlrr5MFLz+vXrKC8vR3R0NLy9vREaGopFixbhP//5D2+7+Ph4jB8/nrfus88+AyEEwcHBvNdw5swZEEKwdevWbjkujJ4Pk5pPHuUU8/INWzBpwcsYFZYGIws7WLkHYtKClxEVmwA3NzcIBAKYmJhAX18flpaWSE5OxtKlSyEWi5GTk/OX1Ulvbm7Ge++9h/LychBCsGbNmm7ZryoPIm2VU+yNLWxpgx3unFWNZtUkNcOWHYRjzGwITIToKzBAn3466NO3PwYI9GBlZQWFQkEjNU+fPg0HBwcMHDgQcrkceXl5aGpqolJTmQMHDiAjIwMymQw+Pj6YMGGCRlnJCc7z588jJycHfn5+8Pf3x6JFi9DS0gKgY+xPTk6GVCpFREQEtm/frrafX3/9FcuXL0d0dDSkUimCgoIwYcIEjVG0n3zyCWbOnAl/f39IpVIkJiZix44daqnzqt/ZjRs3ghCCf/zjHxo/swkTJiAgIIAncFtaWlBeXo6YmBh4e3sjKCgI+fn5OHfunNrjDx06hMmTJyMwMBBSqRRjxozBvHnz8H//938an4/RPTBHwNAEk5qMHgkbsBgMBoPBeLKcPHkSDQ0NIIRg2rRpaGhoQENDAy5cuIB9+/ZBLBYjKioKW7ZsgUKhQEZGBgghWLp0KW8/Dyo1b968icTERBBCUFBQgD179mDt2rWQSqXw8/PD999/T7ddtWoVxGIxr5lFeXk5JBIJCCH49ttv6fodO3aAEIJ///vfT+IwMXog7e3tuHPnDlpbW+k6JjW7l3v37uH2nTtqpYDcUgqhYzwYAhMhLCRjMD67BHYjR8LZ2Rl1dXW8z2D58uUghODjL0/9JXXSuXPCz88PRUVFuHXrVrfsV5XuSK9/0GhW3zkVsI/KgoFQhDETs7F5xx40NDTg6NGjAEDTygMCArBq1SrU1dVhzZo18PT0RHJyspoMLC0tBSEEOTk5UCgUqK6uRk5ODggh2LhxI2/bqKgoxMbGIiQkBMuXL0dtbS1WrVoFiUSCadOmYfv27RgzZgy2bNmC6upq+ptx+PD9yNvW1lbEx8dDJpNh/fr12LdvH3bt2oWysjK88MILvOfbunUrCCGYMmUKqqqqUFtbi4KCAojFYhQWFvK2Vf3O/vzzz1qzEH744QcQQrBy5Uq67vLly4iOjoZcLseaNWtQV1eHyspKREZGQiaT4cyZM3TbQ4cO0delUChQX1+PzZs3IzMzk81dnzDMETA0waQmo0fCBiwGg8FgMP4cVEXQjRs3IJfLER4eTqNvgI7J6KxZs9Rk5YNKzU2bNoEQgsrKSt7z/+Mf/wAhhJfi+PHHH4MQgnfffZeuS0pKwoIFC+Dr64uqqiq6Pjs7GwEBARqbXjCeHbjzqKSk5LH3xaRmB5zQDC15B0GFexC4aDf85lXheR096JpZIbRkP/zmVcFS5IhFixbh/PnzvPHkww8/BCEEn332Wa+uk94d6fUPE83qPXM9LESOGqMpCSEQi8VqUfKVlZUghOD48eN03aeffqpxTAaAFStWQCKRqNXXJITg0CG+lF29ejUIIRg9ejSuXbtG19++fRuhoaHIyMig686ePftAtU3Pnj0LsViM5cuXq/2tqqpKLQpT03c2MzMTMpkMN2/e5K1fu3YtCCH45ptv6Lr8/HzI5XK1SMtr164hIiICM2bMoOvmzZsHuVyusa4s48nCHAFDE0xqMnokbMBiMHonva3OnqY0LgbjaUNVan7wwQdaJ7qcOFq1ahVd96BSMzExEXK5nJfuxzFjxgwQQqhEvXHjBiQSCY0KbW5uBiEEBw4cwAsvvIBZs2YBAO7evQuZTIa5c+c+3kFg/Glw58aXX36JqqoqxMbGQiqVIj4+Hu+99x4A4NKlSygsLERwcDCkUilmzZqFn376ie5DU/r5Rx99BIFAgLi4OBw/fhwZGRnw8fHh1XZUpbm5GUuWLEFgYCB8fX2RkZGBEydOPJNS8+zFqyjf/xUt9RO/+n24ji/AEGd/GAy1g4FQRJe+OvoQmAxFaMk7NE16SenLWLRoEW884SIlDxw40KvrpHdHen1XzYZUpaaTi5tWqTl58mS19d988w0IIaiurqbr5s+fD29vb/zyyy9oaWnhLcePHwchBHv37qXbR0VFYfTo0Wr7PnLkiMbITqCjlmlQUBD9/8WLF0EIwezZs3mR+KqsX78ehBCcPn1a7bX95z//UXs+Td9ZbqxR7tDe2tqK0NBQJCUl0XW///47JBIJFi5cqPZcLS0tWLp0KSQSCW7fvg0A9P9HjhxRK8fCeLIwR8DQBJOajB4JG7AYjN4Jk5oMxl+LqrhIKj8MC5EjZr+4gG6zbds2EEJoOqMy165dAyEE2dnZdN2DSk2pVIqUlBSNr+vll19WSyFPT0/HmDFjANxP9/v1119RVVUFHx8f3Llzh0pW5Yk6o2fDnRuTJk1CYmIi3nrrLezatQuJiYkQi8U4fPgwoqKiUFBQgJqaGrz66qu0lh4XjfvZP7+FhcgRJGEOPY9z1uzAAB0deHl5ITAwEK+88grq6up4tR2VuXnzJuLi4miKak1NDVatWgVfX18kJyc/M1Kzta1NYxSlc0I+DIQiWEjGwHV8ASRTV8Frejk8p72MAUaD0E/PGBaSCDjEvIABRoMx3N4NaWlpGqWmsnzrjXXSH0ZIdpZe/6DRrLIXXoGFyBFvbHtbbR+EECxevFhtvaYbAVw5kM6WLVu20O2joqIwdepUtX1zn/O+ffvU/qZJNlZUVEAikUAikSA1NRUrV67EsWPHeIKQS4HvbFEuhaLpef744w/I5XLea/7kk09ACMHOnTvpOk74drX88ssvADpS22NjY0EIQVBQEPLy8rBz50789ttvau+f0b0wR8DQBJOajB4JG7AYjN4Jk5oMxl+DNnERtuwgDIQiWAekIDxlJggheOuttzrq4H38sdpE8fr1611Kzf3790MkEsHe3v6xpCbX6OE///kPiouLER8fDwD47rvvIBAIMG3aNLqNs7Nzt9RSZDx5uN+BpKQkXtTu5cuX4e3tDbFYrNb0aefOnSCE4PNjx7D+4Ncam6hIX9iI5/r2h6m5Jc6dP897PFfb8ccff6TruHIIqo1MuEjlZ0VqahsXhrj4w2ykJ0JL9vOFWt6b0DcXwczeG4McpNAX2qBPfwGGOvnQmx6dSc3eSnek1z9INCsXqWkgFMEttQjrD/KjW7XVldUkNePj4yGXy9HY2Kh1uXDhAt2+OzuhX7x4ETU1NSgsLERoaCgIIcjNzaU3LrKzs+nvkLbXptzAR9vzLF26FIQQGuk9b948eHl58aJET506BUII8vPzOz0WyuPVvXv38MUXX+DVV19FRkYGJBIJfH19e831bU+FOQKGJpjUZPRInuUB61lMeWJi6NmhtLQUVlZWPe6iT6FQPNKki527jKeFzibcnNS0DkiBpciRl36u+pv0z3/+s8v0c21Ss7P085kzO4TqlStX6LoTJ07QKEw/Pz+MGzcOTU1NaG9vh76+PiIiIpCeno6IiAitE3lGz4OTmnV1dWp/S05OhkQiUTtHvv32WxBCkL7gZYQt09wZmls3Qp6oJo6UaztydHY+xsXFPRPXYp1FGJq7Bv5Par5D14UuPYAR8kQ6Zigfd+ex2Wr7f5akZnem13PRrFFlmhsQKUtNVVH6MFIzLy8PhJBO08CV6U6pqUxraystXcD9ZnA3uk6dOvVAr03b8/zrX/+iqeotLS3w9vZWK1dy9epVSCQS3s26h+W7776Dp6enxuPD6D6eZUfA0A6TmoweybM8YD2u1GxqakJFRQWvS19Ph4mhZ4fx48dDIBDgxIkTqK6uxrhx4+Dt7Y2IiAi88cYbao0+/u///g+LFi1CaGgovL29ER0djbVr1+LGjRu87R63RpvqhfqBAweQkZEBmUwGHx8fTJgwQePFurZz9+LFi3jppZcQEREBLy8vhIWFobi4GP/9739527W3t2P37t1ISUmBn58fZDIZYmJiUFhYyJtk/Prrr1i+fDmio6MhlUoRFBSECRMmdFlon8EAuk6NVJaaBkIR/vX9BcjlcowePRrNzc1U+rS1tWH27NkghODEiRN0/6pSs62tDXV1dfDw8OBJzddff51GgirDTTpVJ4N37tyBj48PEhMTYWNjg5EjR9L9zZs3D7GxsZBIJCguLsadO3dY04YeimrJA9mUpbAQOaKm4YjatpmZmYiIiFBb39TUBCcXNyoxNUlNWe6b0Bs0DLahk9VSfJVrO3J0Fjn84osvPhNSs7NakE7j8v6Xfh4Bl+SFcIqfi6EeoTB3DdQoNUnCHLX9P0tSk6O70us7G7d9sjfBQCiCU/xctZT2h5GaH330EQghKCoq0tho7caNGzzp3x1S88aNGxrHaq7T+ZEjHePC6dOnIRaLMX36dI03Hm7fvs1rANTZ/CkuLg5jxoyBQqEAIUTj/DIvLw9isRjHjh3TuA/lazLlm28cd+/ehVwu59XqZHQ/z7IjYGiHSU1Gj+RZHrAeV2pqurDo6REsd+/e1XjBwuh9cFIzIyMDcXFxqKysxJ49e2iTEOWOxmfOnIFcLoe3tzfWrVuHPXv2oKCgAIQQJCcn448//qDbPm6NNuUL9dLSUhBCkJOTA4VCgerqalrbSbUIviap+cMPPyAwMBAhISF47bXXsHfvXrz++usICgpCaGgorckE3O9GmpOTg+rqarptWloavTHR2tqK+Ph4yGQyrF+/Hvv27cOuXbtQVlaGF154ods/I0bvo6smFvrm1jypuXb/Sezbtw9isRjR0dF48803oVAoMGXKFLU6ZkCH1PTw8OB1jdVUauLmzZu0htvixYtRU1ODdevWwcfHB35+fvj+++/VXjvXbd3W1hbu7u50f3V1dTRFuKGh4ckcOMZjoa3kgVtqEQyEInjPXK+WOqvtRlFTUxMsRI6dSk2PtKUd6ed2EoQt4zdj0XRt1J1S82ktrdJZ1+7Qkv1wGpeHQQ5SGFraw0REYBuSjqCCPRqlZuKsIrX9P4tSs7vobNwOWVIP42FOMBvpCZekhfCYtAwvlHWUbHgYqQkAZWVlIIQgJSUFmzdvRn19PSorK7Fw4UJIpVK17uePKzWPHj2K4OBglJaWYufOndi3bx/Ky8vh4+ODiIgI3k1rrhRKTEwMNm3ahPr6emzbtg3FxcXw8/Pjfd86mz9x11p+fn4IDQ1Fa2ur2jaXLl1CTEwMJBIJCgoKoFAoUFtbiw0bNiAtLQ3Tp0+n26ampiIzM5O+JoVCgfT0dBBCsGPHDo2vgdE9PMuOgKEdJjUZPZJnecDq6VKzra2NCUiGRrqKOoyKioKNjQ0EAgGMjY3h7u5OL7Db2trg4+MDAwMDNDY2Ytu2bRg+fDh0dXWRl5dHn+PixYsYO3YsDAwMMGLECBoBWVVVpVajrbW1FW+88QZMTEygq6sLW1tbTJ06lY4rO3fuhIuLC+zt7akcsbOzg0AgwLBhw+jF8rVr17B+/Xo4OjpCV1cXUqkUSUlJKC8v1zgBnzhxIiIiItTSuS5c6Ih+UxZCqampSEhI6PS4nj17FoQQFpX5DMEJksbGRlRWViImJgbe3t6IiYlBZWWlWkRNS0sLysvL6XZBQUHIz8+n9cY4ccGlLDrHz8PgUTL01TVEn346eO75vhjqEQajYU54rm9/xJXuQ2lpKSQSCXR1dfH888/D1dUVycnJWLlyJQgh0NPTg0wmQ3BwMBwcHCAQCFBTU0Nfv6WlJYyNjSEWi+Hl5YWYmBhMmTIF48aNg7W1NQYOHAgjIyMMHz4cM2fORFFREW3aMmLECFhaWmLkyJFwdHTEgAEDoKury2vYoKOjAx0dHRBCcOnSJfo7d+jQIUyaNAkymQy+vr4ICQlBcHAw/X96ejreffdd+t1tbm5GSUkJhEIhjI2NkZSUhMzMTBrRnZaWhi+//FLtM/r666+Rm5uL8PBweHt7IywsDNOnT38mr1u0oa3kgbLUVE2d7UxqGlvYPpTUTCo/TB+v6dooMTERIpEIhw8fVnu+h00/f1qlZmSp5vTmR1me5kY/PZHOhHPYsoPwnPYyzF0DYWhpDwOhCOaOXgAeXmoCHXVks7KyEBAQAC8vL0RERGDmzJlQKBTdHqnZ1NSEsrIyJCYmws/PDz4+PoiNjcXq1avx66+/qj2+sbERubm5CA4OppkvU6ZMQWVlJa5du6b1eZT59ddfIZFIQAjBunXrNG4DdESRvv7660hMTIRUKoVcLkdcXByKiorwxRdf0O3q6+sxe/ZsOv6HhIQgMzNT41jC6F6eZUfA0A6TmoweybMwYDU3N2PJkiUIDAyEr68vMjIycOLEiU4LaneVzsqlAKouhoaGvAucr776Crm5uQgMDISXlxfGjh2LjRs3qslK7rVcvXoVpaWlGD16NCQSCe2Iy104nTx5EpmZmZDJZAgKCkJZWRlu376N9vZ27NixA3FxcZBKpYiNjdUYUaNpEqM64exqgvkw74vxZOgq6vDo0aMIDQ2FQCBAQUEBGhoa0NDQgLNnzwLo6HQsEAiQlJSEyMhIDBs2DOHh4fjoo48A3I+ADAwMhLW1NXx8fGgEpJubG1xcXGiNtra2NmRnZ0MikcDBwQE2NjaoqqqikWZ1dXX49ttv4e7ujoULFyI4OBjx8fGIj4+Hvb09du7cifPnz6OlpQVTpkyBu7s7srKyYGNjg7lz56K8vBwpKSlq5+65c+foRXNLS4vakpWVhdGjR9PtZ8yYAT8/P/zjH//QelwvXrwIQghmz579wHWvGE83nCBJS0tDdHQ0tmzZAoVCgalTp6pNWC9fvozo6GjI5XKsWbMGdXV1qKysRGRkJGQyGc6cOUPFhffM9dA3t0Z/A1P06S+AqZ0Ew3zHwdwtGEZWjtA1s8JzfftjqHswsrOzsXv3bkRHR0NPTw8BAQH45JNP4O/vj7CwMFhbW2PUqFEwNTVFcnIy3n77bXz33XcAgCVLlkAgECAkJASVlZWoq6tDXFwcBAIBRo0ahbfffpuOD4mJifD394dYLMaCBQvg6emJkSNHIjw8HDExMdi1axdycnLg5eVFo6UbGhogEol4HW0JIYiMjKSR3Nu2bcOkSZNgbGwMY2NjTJ48Gdu2bUNSUhIIIZDL5QgODkZcXBzy8/MRFBQEBwcHmJmZQSgUoqKiApWVlQgJCYFUKuVFWP/444+QyWQ0ivWdd97Btm3bsHDhQmzYsOFPO096Mp2lzqpKTWUh1pnUNFSSmJ3V1OTWRZYeoo/XJF1ef/11CAQCxMbG8p7rURoFPa1Ssytx9qBLZ81vGI/Gwwpn5fOdweitPAuOgPHwMKnJ6JH09gHr5s2bNCKluLgYNTU1WLVqFXx9fZGcnKx2If2g6axnz56lnWBLS0upNLKzs6OT4IaGBkgkEiQlJdHJZmlpKS1urZySwUnN1NRUzJgxAwqFgjdx5dJVAgICUF5ejrq6OixevJjW51m1ahUSExOxbds2vP322zTtULXotzapqTzhrK6u1jrBfNj3xXgyqEYdqtZRSyo/DDd5OAbo6KCxsVHt8bNmzYJAIEB4eDi+/PJLEEKwZs0a+nflCMjx48fDx8cHQEcEpKOjI4RCId1vdXU1CCE0Iour0dbe3o6cnBz4+fnhhx9+oFELXPQBd45yi7u7OwQCAYYOHUrXbdmyhb4m1XNXeTKsbZFIJHT7U6dOISwsDIQQjB49GgsWLEBtbS2uX7/OOzYVFRWQSCSQSCRITU3FypUrcezYMbS3tz/OR9ZtqNZUZDwenCAZPXo0LxKlra2NlkLgRHh+fj7kcjkv9RvoiDCOiIjAjBkzeJGaAwzN0KffANhHZvEmxCR9OfrpGeO5vv3hNDqd7qe4uBi2trb03D158iT9bVi0aBFyc3Ph7e1Ny0E0NzfDwcEBgwYN4t2ASk1NhVwuByEEBw8epOtzc3NBCMHhw4fVopKVI1JVpZGq3HV2doZQKERKSgpu3bqFH3/8ERKJBImJiYiPj4dEIsHPP/+MP/74A0lJSTAzM4OzszONWsrMzKS/XcqlJk6ePKlWeuLtt9/W+FvGuE9nqbOapCaXKv44kZqq67qK1Lxx4wYMDQ0hFApRUlKCmpoarF69Wuu1WGdok5qa1veklOyuSlM8qNB8kOY3jIfjYYWz8vnOYPRWersjYDwaTGoyeiS9ZcC6efMmNm3ahPT0dJo2ERUVhbi4OLi7u2P79u0A7qeE5Obmwt7eHiYmJvDx8UFgYCAWL16MpKQkXjort9+EhAQYGRlh6NChiIqKwurVq/HJJ59oTT9vbm6Gr68vRCIRwsLCeKLv8OHDIITQQt3Lli1DcXExzM3NMWTIEHh4eKjJGYFAAEdHR/zzn/8E0JHuq1AoMHLkSOjq6sLU1BSTJ0+mn+Ply5fh7e2NwsJC3nHSJjU1pclommBy7ys7O1stLZN7X8qTaMaTgYs6/PLECa1ph4Od/PBc3/6Yu3632iSIk5obNmzA119/DUIIysvLAahHQI4bNw6enp40AjIiIgIGBgZ04piWloaIiAi0tLQgPT0d4eHhdNt33nkHhHQ0jFCVmvHx8ZDL5WhsbERjYyM+//xzODk5ISwsDAcOHEBjYyMuXLhAX7Pqufv++++DEIKVK1fSfWhalLl16xY+/vhjrFmzBikpKSCEIDg4GOfPn+dtd/HiRdTU1KCwsBChoaF0zNBU3P/PhknN7oUTIZWVlWp/++qrr0BIR/fx33//HRKJBAsXLtQYGbx06VJIJBKsqvuSSs3nB+hhgPFghCypV/t+Ckwt8Fzf/iiqfI8+X3FxMdzc3EAIIEKMgAAAIABJREFUQUZGBl1HCMGZM2ewc+dOEELwww8/AOi4oWBjYwM7OzscPXqUvpbJkyfDx8cHrq6u9Dfg2rVrkEgkmDJlCoDOo5K7kprDhw+Hubk5Dh3qiFbiSlIcOnQIBw8e5NU6O3jwIExNTWFtbY1bt24B6PguSyQS3Lp1C3K5HPPnz6f7Vv0/t7/XXnsNt2/ffoRPuPeTVH6YykuvGWv/V5vRG4aW9jC0tIdgoBDeM9cjYIECI/ySMcjWHVKpFI6OjggODlbb37Zt2yDQN4TOQHMYWTpgkIMUOgPN1aTm8/0FMLJyhN/cbQiIS4e/vz98fHwwbtw4jBo1il4bcWLR1dUV5ubm0NfXh66uLnR0dCASiRAVFYXhw4dj6dKlsLe3h66uLnx9fZGWlsZrNsTxV0vNR91nV03EVJdxq9/jNb95Y9vbT2WE6tPAwwpn5RqyDEZvpbc4Akb3wqQmo0fSWwasn376CSEhISgrK4NCoUBNTQ1KSkowcOBAmJmZ0a59nNRMT0+HqakpLC0tUVdXh6VLl8LZ2RmDBg3ipbOeOnUK/v7+KCoqQkhICNzc3FBSUgJPT0+MHj0aHh4eGqUmF71WVFQEV1dXHDhwgO7zypUr8PX1pbLkm2++QXFxMRwdHbF582Ya9dnQ0ID9+/fTNGIuMk853Tc6OhrW1tbIzc3lpfsCQHJyMiZOnMg7TtqkJjfBVEV1gsm9r48++khtUs+9L1WRynh8VCMxw+dVwM5dCqG1A0xEBMNlCXBNXoSgwj1qUtN75nq1dDVOau7btw9XrlwBIQRZWVkA+BGQ7u7u0NPTg7GxMV3H1erkJla+vr70b6ampjA0NFST8tu3b1eTmnl5eSCE8ITK3r17IZVKQQhBQkICli1bhiNHjqC1tVXt3P3uu+9ACEFZWdkjH9dPP/1Ua00sjtbWVixatOgvmUxqKpHxOFJTW2TWs4S27tA7atXlyfXr10EIQXZ2Nr755psuI4OdXNww9433qNTs03cAjKwcNU6KDS1G4rm+/fHdhfudXbnPm/vtUF5369YtKm24yNGVK1fS76NyvVpHR0cYGBhAIBDA0tISCxYswLp16+Dm5obVq1fT59MWlczdjNAmNYVCIczNzWmDLa75xZkzZ+j3csWKFQA6vqempqaws7Ojj1eO6I6KiuI1hVD9/927d5GdnQ1CCKRSKTIzM7Fx40aNjY6eVjqrv/cgRJYeolLT3C0Ig0fJMCouF84J+Rg8SgYDoS3IpJdgaifBCL8keKQUqDVw4+Cat02aOgPOCfPgkrQAVt7RMBCKYB+VpSY19YeMgImNO7LnLkRtbS02btwImUyG0NBQet3V3NyMhoYGEEIwbdo0en2TmppK6z2PGTMGaWlpGDNmDC1hkpaWRn8/lNEmNefOnQsbG5seKzUB7bVPHyTF/GlNu38aeFjhzGqaMp4FeosjYHQvTGoyeiS9ZcC6d+8e7t27pzZh1TezgI6eAbZVvwPg/uRBKpVi2rRpPGEwefJkCAQCODs708mhh4cHL3KSS2etr6+Hvb097OzsNEpNrsEDJ4UGDRrEm/x6eHhg6NChSE1NBcCfuCqzdOlSEEJgbW1NJ7nK6b7KTS6U031v3ryJzMxMREdH8/anTWpyE0xVVCeY3PvqbJk5c+ZDfXYM7WjraBu27CCCi/ZCnLECduFTMMTZHwZCEQZau0KW96aa1FS9COek5rvvvgsAmDp1KsRiMU6ePMmLgCwsLIS9vT0WLFhAIx/XrFkDe3t7OrGSSqUYO3YsGhsbMXbsWMhkMrVoyVOnTqlJzY8++ojKG+VJdXNzM9555x0UFBQgIiIChBBMnDgRU6ZM4Z277e3tSElJgVQqpbVCVVEWpleuXFH7++XLl2kUJtCRInnv3j217bio6iNHjjzMx/fYaJKaBQUFsLKyokJJmevXr6OiokLrpPdZlppddYcWZ6xQ6w6tLDW5czg/P1/t/D72xRfIK1fAa3o5jcqkUnPYKK1Ss2//AbzXqCw1OYmofA6oSo2ysjLY2NjAxsYG27Zt472mTz/9FJs2bUJ+fj5SUlLg6OgIfX19LFy4kPecmqKSY2Ji4OHh8cBSkxNhnUlNe3t7+njl81C1GYa25hinT5/G1q1bkZOTQ2+kVFVVPfgJ0IN5XKmpHKk52EnOiwwOWKCAocVIGAhtMSp2Di91lov8PX78OID7N3m4qGXl74ttSDoMhtrCb14VT2oOMDRDZvFrvNfz7rvvghCCvXv38tarnkfK53tBQQGAjms5rjZ3W1sbMjMzERAQwBuXtck9iUQCU1PTHi01W9va8EpD52JTW4o5k5pPlscRzgxGb6S3OAJG98KkJqNH0lsGLOUJa2jJOwgq3IPARbthIBTheR09jBydifUHv8ZPP/8MQjrqk7344os8YbBy5UoIBALMnDlTYxrrsWPHaIRiU1MT7O3tYWFhoVFqcpErdXV1mDlzJhwcHHDo0CG6r1deeQWOjo40qrKziKxXX32VNxlQTvfdtWsX3NzcaOohF2Fz/PjxTpsCdbWOQ3WCqfy+tKX7nj59+uE/QIZGHvQiO2zZQUimrISBUATrgBSELTuIIc58qamcLqUqNc+cOQO5XA5fX18UFBTA2toaAQEBIKSjyzkXcQOoT6zGjx8PuVyOe/fudVqjjZu0R0dH03OKO59SUlKwefNm1NfXo7KyEgsXLoRUKsWFCxewfv16EEIQFhamtu8ffvgBwcHB8Pb2xksvvYTq6mpUV1dj/fr1SEhI4E2gg4KCkJOTg82bN2Pfvn2oqqpCQkICCCH48MMPAQBHjx6Fq6srhEIhli1bhjlz5sDJyQn6+voYPHgw6uvrAQCXLl1CYWEhbao1a9Ys/PTTT2rv+8CBA8jIyIBMJoOPjw8mTJigcSLc2NiIgoICxMTE0C6gmZmZOHr0qFrzrQkTJkAgEGhseNSVHLl79+4z28yrq+7Qo2Jz1CasyunnV69ehUQiQXZ29gPtm0s/1zWz0ph+PshiBAQCAW8/Dys1FQoFbGxsYGtr26XoePfddyEQCODu7q51Gy4qWSQS8W5cqMqoztLPuYg8LrquoaEBpqamcHNzo49/FKmpzLVr1xAXFwcvLy/cvXu3022fBtrb23Hnzp1Hrkddvv8reh67ji9QO787zkNLOMbmYJCDN4bbuyI+Ph5btmwBIR21iwsLCzFs2DDo6elh8uTJOHXqFH5rbsaK6r8hcNFueGaWQ2egOYxHuMDIyhEGQhH+33N9YGQ6RE3AhYeHw9TUFCUlJZg3bx5NSzc1NcXs2bPpdpmZmRAIBGo3Rt3d3fHtt9+ipaUFL730EoRCIUJDQ+Hr6wtfX18EBARAJBI9ktS8fPkyPD09sWDBAo3Hsq6uDoQQjY0Wb9++jba2tm4RpWcvXsXa/Sd5dbDX7j/ZaQQgk5pPlscRzgxGb6S3OAJG98KkJqNH8rQOWKoRmVFlh+A6vqAjYm2oHQyEog6hOUAPffoNgLX/eIQtO4hl2z8EIR11IuPi4ngisba2FgKBAJMmTeI91969e5GSkgJPT0/ehbeDgwOEQqFGqalQKEAIwfvvv08jVzZt2kS3y8rKglwup7JIVWpycrKgoADt7e28SaVyuq+m1EPugvxJSE3l98V4snSWDhW4aLfauoAFChgIRbCSjkXYsoMwdwvGc337Q5yxghedA6hLTQA4f/487U5uYmICY2NjLFy4UK2Rzv79++Hq6soTK4QQbNiwQeO51NzczJNtSUlJSEpKon//4IMPkJWVBT8/P0gkEkRERGDmzJlQKBS4c+cO3nvvPRBCEBAQoPE8vXTpEtasWYPY2Fh4e3vD398fiYmJKC0t5TUXeeutt5CZmYnQ0FB4eXkhLCwM2dnZNEoJ6JCCaWlpMDY2xuDBg2FiYgIPDw+kpKQgOjoaYrEYhw8fRlRUFAoKClBTU9NlGmdOTg4UCgWqq6tp4xnlOrUAUFRUhBkzZuCNN97A3r17UVlZSccnTrhyPI7UfFZ5kO7QJiKCoII9NKpZuVEQd67n5eVBLBbj2LFjGvcduPBtntQcYGgGnYHmcBr3Il1fvPsE3tq9D+bm5o8tNS9duoSRI0fCyMgIn332Gd3PN998g4qKCnzzzTe0+dHly5cxaNAgDBo0CEeOHFGLSubO3a1bt8LOzg62trY0MllVaio3Crp9+zZtFJSUlITExETaKOjWrVtITk6GmZkZQkJC6OMfRmq2tLRo/ExfeOEFEEJw9eqzmQaqfA00ZnnD/Zqa08vVzu++AgP01zehaelrN76JxMREuLi4wNbWFs7OzigoKIBUKoWlpSV0dXV5JUecXNxgMHAQ+vTtDxNrV3hNWIiErEL07dsPurq6auNZVFQUjIyMYG1tjZKSErz11luIiIhAnz590L9/f6SlpeHEiROYP38+RCIRCCFIS0tDeno6hgwZgv79+9O0dCsrKxgbGyM4OBienp4QiUQwMjJCnz59EB4eDuD+uCcSiSAQCODg4EBf+44dO0AIwfjx4+n3aP78+fDy8qKR/Mrn48SJExEYGIgxY8YgMzMT33//PXJzcxEYGAhCCK5fv86TmnV1dUhMTIRUKkVERATWr1+vsZTPH3/8gYqKCsTHx0MqlcLf3x+zZ8/GV199pbbtvXv38MYbbyAqKgpSqRTx8fGoqalhUvNP4lGEM4PRG3laHQHjycKkJqNH8rQNWNpSCJ0T8mEgFMFCMgau4wsgmboKXtPLMcwnDs/17Q8ze2+aMuXk4ka7wCqLxBMnTsDY2Bj29vY0nXXXrl0gpKPe4N69e9HQ0ECjNh0dHWFubk4bIgD3J3+XLl2iF6O///47Jk2ahIiICLS1teHn/0WLcunkAH/i+vnnn8PT0xPTp0+nUSjKk0rldF8uFVg19fDy5ctPRGqqvi9V7t27x+sgzHh0OitcP3CEC6y8o+EYMxtuKYvhNC4Pg0f5wkAoAklfjrBlB+GRthQGQhGGy+LhPqEYnpOX0wYjXU2OHiYCsrW1lX6fpk2bhq1bt6K+vh4VFRXIzc2Fp6cnb9/Lly+nYu/QoUN4//330dzcTKNFi4qKUFVVhXfeeQcbN25EYGAg5HL5n9YYhzs2SUlJvKhGrvmWWCzG1q1beY/pKo1TmRUrVkAikeDChQvYvXs3UlJS4OvrC5lMhpiYGBQWFqK5uRm3bt2Cvb09jI2N6WMzMzNhZWWlViajuLiYvm5Ni/LjtX3/m5ubUVJSQqNP09LSeB21Odrb26FQKKhEjomJwdatW9HY2NjtaZ7dxYN0hzZ3DYTZSE84js3BhLkraHkS5XH60qVLiImJgUQiQUFBARQKBdIXroF95EyYuwbCQjyaJzX1h1jDYGhH6q9NYCpckhcianIefH19MWrUqMeWmgCwZMkSCAQCeHl54ZVXXkFdXR1GjBgBXV1dWFpaoqCggEYlu7i4QCKRQCwWY+LEiXByckJycjLi4+MRExOD8vJy+Pj4ICgoiMr8+vp62NraYtq0afQ5CSGIjIyksqiqqgrp6ekwNjaGsbExMjIyUFVVRbtay+Vy3nn3MFJzzZo1GDduHNatW4c9e/agtraW1rjlykZoorW1Fbt27cLEiRMhk8kgk8mQmJiIdevW8ba7c+cOKioqMG7cOEilUgQGBmLOnDn497//rbZP7nM5ffo0vTEpl8uRl5fHG59++uknEEJQUlKi8bXt3r0bhHR0oQc034xQXnf8+HFkZGTAx8cHAYGBCEuejsCCarXzWN/cBqLgNJi7BsLIyvF/iwOe69sf/fQHImRJPY1EVigUMDExwXPPPQczMzNMmDCBRolzDXsqKyvR2NiI7Oxs6OvrY+jQoQgICEB5eTnOnTsHQ0NDDBs2DBKJhPf+o6KiIBAIkJKSgps3byIuLg5isRgDBw6EkZER0tLSeF3PPTw84OzsTG822dra4tixY2hsbMTKlSthZmYGR0dHrFixAnV1dZg3bx4Vr/fu3cMff/yBhoYGuLq6wsjICOvXr6d1O48cOaImNbmxiitfwJ2P3A3o8vJyREVFISYmBgEBASguLkZtbS22bNmCW7duUamZlpaG4OBgvP7666iurqa/gzNnzuTd4Lp58yY9vi+99BJqampQVVWFxMREeHp64vPPP+edH9z5PWPGDLz99tuoqKhAaGgoJk6cyKQmg8H403jaHAHjz4FJTUaP5GkbsLSlEA5x8YfZSE+EluznrZe+sAHPD9BFf/2BsAlMhUP0bBiaDIKNjQ29oOb4+9//DicnJ7i6ulKZw0VFrlu3jidzzp8/D3d3dwwbNgzR0dHYs2cP3n//fdjZ2dFtGhoa4OnpidDQUGRmZsLa2hoFBQWIioqCvr4+L7qBm7h+++23kMvlSExM5EXIKU9yldN9O5NTT0Jqqr4vbhK9fft2lJaWIjQ0tEdKjaeRpPLDWkXMqLhcDCXhMLFxh6HFSJjYuMPKKxqemfejdEJL9sN+zAyY2ophMNQWxha2dNL8IBEfDxoBCXREee3duxcZGRmQy+WQSqWIjIzEnDlzUFtby9v2ypUrWLhwIYKCgiAWi+nruHr1KsrLy5Gamor/n70zj6uqzv+/lesFL6sIyL4oyM4B7r0sl30VRBBQwAUX3FLUXDHJJdHMMLXAZcREo0JB06TRmnKaqSla5tvqTFZTOWmjM+Y2llb4/P3B75zu4V4QtEyn83w8zuMB5577Ocs953POeX3e7/crPj4enU5HZmYmy5cv5/PPP//Zj29HiMdGLA1hyKhRowgPDzdK4f7b3/6GIAg0NDQAbZFAWq2Wf/3rX0aGWm+88QaCIEiRZmVlZTQ0NLBv3z5qamooLCzk7bff5ty5cyQkJKBSqaSI7jfeeEMyDnv88celF/f33nuPr776SoqanT9/vsxwTKSj6z8xMZGcnBwWLFhAQ0MDtbW1JCUlodPp+Ne//iVbXiwHMHbsWHbv3s2OHTvIycmRTD1ux+u/s2vJMMLNb0QZA3w02Lj6kpWVxfbt241Sgi9dukRNTY0UnWXr4Y+drw6P2NFElD4iEzXVjl74j5yHR+zotrRdZ1/cwlN56623iI2N/VlEzYMHD+Ln50dJSQmpqaloNBrc3d3p06cPTk5OhIaGyqKSz549y7p160hOTsbJyQk7OzsGDhyIr68vI0aM4OGHH+b06dM0NzeTn5+PVqtFpVIRGhoqrVPcvubmZsaNG0dkZCSRkZEkJiaSmJgo/T9u3Dief/55o/OuO6Lm22+/TXl5OVlZWURGRqLX6yUhtSM39B9++EG6viZNmsSOHTtobGykqqqKjIwMabnW1lamTp0quw7FgRStVktLS4usXUFoK5URFxfH2rVraWpq4pFHHiEiIoJRo0bJhKzJkycTHR0tK90hUlxcTHx8vNSPdCZqjh8/nvj4eOlem1Y8A7WjNy7aLNl5HDT6fnqpLDAb4Myg0BT8RswmaFQ5jiHJ3HV3T9SOXlLqrBhF7u7uTu/evZk4cSJlZWXY2dnh7OzM66+/LvVnjY2NDBw4ECsrK9avX8+WLVvIz8+noKAAtVpNUFAQgiCvn5mZmYlarWbZsmVs3rxZKkcQHByMg4MDGzZskBnS+fn54eDgwObNm42yVh5++GFUKhX33nsvV65c4fz58zz11FO4urri4+MjDdRB5+nnhqLmtWvXyMnJYcSIEVy7dk06H8VyKJ9//jmZmZkIgmB0/zJsMzIykq+++kr2mXhsDV3bH330UcLDw42i67///nsKCwsZPny4NO/NN99EEATmzp0rO59OnTolPY8qoqaCgsKt4E7TCBRuDYqoqXBbcid1WJ2lEIpRNsnLD/wk6qx4DveYfMwHumPp6oeVeyBqRy96q9SUl5cbPTyLD6q7d++WxBxbW1tsbGzIy8uTxJxr165JI+kTJ05kzJgxkmOzhYWFLIrt2LFjlJeXk5ycjFqtxtnZGQcHByIiImRiwbJlywgMDCQlJYXU1FS+/vpr2b4bvuQapvuaesk1lVIl8nOImob7Jb5EJyUlMXbsWKqrq41EEIUbY1jl812up9mVybCmpkIb7ctYFFS9wMSlG/EPDDYSNKBjU632okR+fn6HUZPiFBERQV5envT9iooKKcVRnMQUZcP+4GbSzzu6/k1957333jNKlf/yyy8JCwtj/PjxslqGly5dIiMj47YVNTu7lkRRU6w9m7LyEMMqn/9Z2jY1GbYt9t9vvfUWDQ0N5ObmotVqSU9PZ8uWLTJRA+Dzzz+X7idarZasrCzWr1/PpUuXpGXEWsztp/a/+7vvviul1Wo0GrKzs6murv6fqLkqphw/9NBDXLt2TfaZ4TEVy7ysWrVKtsyXX36JTqdj+PDhsuUFQSAsLMxIVKqtrZVFahu2feDAAdmyn376KYLQVqdVpDNRU6fT8cUXXwA/PQN5JY5F7ehFzH07pPPKRZfN3b364KzJJHnFc9L8kKIKeqvU+Ie0mRwaRpEXFRWhVqul9U6ePBmVSsXkyZMJDQ1l48aNxMTEYG9vT3BwMMHBwYSEhBASEoK1tTX33HMP5ubmCEJbXU6RzMxMbGxsWLZsGfn5+cTExHD16lViYmKws7OTIljFEhv+/v44ODhQU1Mjey47c+YMUVFR9O7dGxsbGyk63bDsjmE/2FVRE356jnrzzTcpLS0lIyMDvV4vPe9kZmYSHx9vdA0atvnggw8afXb69GlZFPG1a9dISkqipKTEaIDr3Llz0vX65ZdfAj+ZMb73nvH9WsxyUERNBQWFW8GdpBEo3DoUUVPhtuRO6rA6SyH0z537/9PP0wkctRj/kfMYFJqMQ1C8zDxFP78OC0cvky/9poq/iwYI06ZNY+/evezevZuJEydKUUmGAiYY1x6TbX9VlfSCKRqOGDJ+/HgpKtQwykqcRLGyu+m+CncmnUWX3cik1IP6ic5c5UWRa96GZ4wMAbpihAQwcuRIYmJiOjTTamlpYcyYMej1el599VXS09PR6/Vs3ryZP/zhD7z++uu0tLQQHR2NSqWSpXb+EqJmeHi4yTpwMTExLFy4UPpf7A9N1dQVHeJvR1GzK5GahqKmYf3Zm2nb1GTYtihqTpgwgZycHGpra9mzZ48UPWjo7i2WZ4iMjJRSsZcsWYIgCIwaNYpvv/0WgOPHj1NdXY0gCFRWVkr3j6NHj0ptNTc3SzUwa2traWpqorKykoiICEpLS2/YsOZ2obCwkMjISJNRkoaINVNPnz5t9NmKFSsQBEFmfCcIAiUlJUbLfvTRR7JIbWhLOY6Ojpal7QOsX7/eqN3ORM3y8nJpnvgMJIxfhdrRi/BJa6XzytLVj3t69SV80sNG53cvlRpLVz82HHqf+QsWSFHkeXl5qNVqHn30USmKfNCgQbi6ukp1LD09PXF1dcXJyYmAgAAOHTpES0sLGzZswNzcnKCgIFpaWqSIxeOnzjM0XE9vMzXeCUXYuA4lRJ/G8VPnmTFjBmZmZgwfPpzDhw+Tm5tLSEgIoaGh+Pn5odVqSUlJwdPTk+rqahISEqSoYwcHB7y9vYmPj5eMiIYMGSIT+Lojal64cAGdTkd5ebnUBwqCwOHDh4E2UXPs2LEmzxuxzfr6epOfx8bGMnLkSKAtM+F6A1yCIPDXv/4VgJkzZyIIgmygQkQUYhVRU0FB4VZwJ2kECrcORdRUuC25kzqszl4ek5cfxD93Lna+OiycfbDxEvBOGk/Ckj1GoqZhGq4hpkTN1tZW6urqyMnJQafTkZaWxpo1a7hw4UK3Rc0vvvgCQWirLya+gBoipjt1NBk+yHYn3VfhzqQzEb+7k6Gjs0LnrvKGIlf749ZVUXPu3LkIgiANRIBxVGjq/K0MDtHh7uGFWq0mNzeXxsZGmRGFr69vt0XNwMBAXFxcTPZxHYmapqJPoa1PmjJlivS/mFr58ccfGy179OjR21bU7EpNTUNRsztRzd29Tg3bFkXN/Px8WSp1a2srI0eOJC0tTZo3efJkwsLC+L//+z/Z+rdt22YkiHXmznz27FmioqKYNWuWURTaCy+8gCAIHDp0qMv7fzvQ/tqycRtKcEzqdQdyRo4cSWxsrMnPRAFJrHsJbff3pUuXGi3b0WDC8uXLEQSBf/7zn0DbgGRycjKjRo267vfFeYaR0uIzkFjaIKT4Aem8MrN1omdfc9l53F7UTFl5iODoFOmZQoy2dHFxkT1rlJaWMmDAAAYOHIiZmRn29vbY2tqydetWKZL3448/xsLCgujo6LZ9Mxgosh0cTi+VGo+4QiycfbAPiCVl5SGW73yBAQMG4OrqiiAI2NnZERgYiCAIzJs3j/Lycjw8PDAzM6OwsJDNmzfj6emJi4sLL730EgcOHGDFihWEhYXRq1cv1Gq1zLSrM1GzsLBQJmpCW4aMVqtlzJgxODk5kZiYKO1fR1kqhm0+9dRTJj+PjY2VovDPnj0rZfV0Nsgl1iJXRE0FBYXbhTtJI1C4dSiipsJtyZ3UYf1c6bi/VhruV199RVhYGKtXr/5V1q9wZ9FZuYXuCprtIw5/y1zvuLYXuQyFka6Kmi+//DKC0GYy8/0PPxiJqAn37yXpgf0kVuxjSMZULGwGEh0djSAIJCYmcuDAAfz8/LCxsbklomZXy0+IoqZopGbI7SxqdsX93FAM6k5Uc3evU8O2O6vfunbtWgRB4PLly1K01/Tp042W++6774iOjqagoECa15mo2dDQgCAIvPzyy0apsN988w1RUVHcf//9Xd7/X5OOIq4tnX2x948hZeUhNhzquP/Lzc0lLi7O5GcdiZqmBi07EjXfeecdBEGgpqYGaHveMhXhdz2jIBHxGUgUNYOLKkzuc2fnt93QSMI0OlpaWsjOziYqKspIYBPPH8PsEbE/E4Xwjz/+WNq+S5cu8cj+d6R12g4OZ5CQSsrKQwz0i8bS1Y+kB/aTsvIQzl5DpWMopp/HxMRI6dqG6eefffaZ7Pj2L4gbAAAgAElEQVSJnD59WnI6X79+vTQ/IiKiQ1Fz0qRJCIIgMzL84IMPpHR2CwsLNmzYIH3WFVGzK+nnra2txMfHS5Gb10NJP1dQULhduJM0AoVbhyJqKtyW3Ekd1s+VjvtrpeGuW7euQ0FAQcEUnUUUGk4r97zN+oPvyWpDrj/4npJyboLrRda1FwEMB0G6KmoCkulEaGw6Q4fPZKBfDH0t7XCPycPC2Qf9/DpJ4LTxCsUrIIy5c+fi4eGBRqPB3NwcV1fXbomap06dkqK7TKUQdyZqmhJs2r/Y36np59D1a+lGopq72vak6qNdrt8q1to7deqUJL488sgjJtc/evRoIiMjpf87EzVF0aSzadq0ad0+Br8GHRoHBsRi6exL4tLGTn/TrqSff/TRR9K87oqaACNGjCAjI4PW1lbmz5+PRqPhm2++ue73Tc1rH6lpKGq23+eO+jNXXTZOXkM5e/bsdfszsczNjh07pP6ssLCQbdu2UVFRgaurK2lpaYQIEVJ/1l7U9M2c0WaYlXsfKSsPoXb0YuZ9i2RGQTNmzECn07Fjxw6Ki4vx9vbm22+/pbW1lby8PCIiIqiqqmL//v1SWnpiYiIqlYqVK1dK2x0dHY2VlZVJUVOsg96+79Lr9ahUKiwsLKS6ltA1UbMzoyDDa0989jM1eAHIIvpFZ3bFKEhBQeHX5k7SCBRuHYqoqXBbcid1WD9HOu6tTsP99ttvOXLkCFu3biU8PJz77rvvlq5f4c7mx9ZWNjZ3LpgokZjd43qDI+1FAMMaiN0RNQGeeOZZnMIzsHILoE9/G3r2UeEUnk5A3nxiFz4prTN6znZctFkIEVrMzMxwd3dn8ODBhIWFGYmaEyZMQKVS8cc//tFoO86fP48gyE1IDLlZUfOLL74gLCyMkpKSO8ooCH7Za6krbXd2rpmq3yqKmidPnuT9999HEASqqqpMrr87oqYoTjU1NXWYCmtY7/F2pbMI2YCR81A7euGdMkEyzREHeAyNg5599lkEoa32qCEnTpxAp9ORlZVlZBTUXVFTNBE6fPgwGo2G+fPnd+n7puaJz0CmRE1T+yyeY/0dPKX+LKxkNVZO3lRUVDB58mSj/uDSpUt8/vnnCILAxo0biY6OJj09nYsXL/Liiy8yffp09Ho9NjY2qNVq9Ho9xfNWS5GY7UXNhPv3MsBHi9rRG8/4IvpZ2eMdpCUqKopRo0ZJ6fmzZs0iNjZWMkcT+7xXX30VZ2dn3N3d8fLyIiYmhqlTpxIQEIC5uTm///3vpW0fM2YMKpWKRYsW8fzzz3PkyBFeeuklBEFg7969JCcnExMTQ01NDY2NjSxfvpygoCAsLS1xdXWVHYeuiJpjx44lMTGRzZs309DQIInApaWlsvPm8uXLUh32OXPmsGvXLhYvXoyLiwu5ublkZWXJ2l+0aBGCIDB16lSeeeYZtm7dioeHB9bW1oqoqaCgcMu4kzQChVuHImoq3JbcSR3Wzabj/hrij/hiEhUVxZw5c2Qj8goKXeX4qfNKJObPxM24VXcXw4EYj7hC1I5e0v/W7oG4aLMYOnwmwYVL8c+dS1BkspRuKQht5hZBQUFERESwaNEi4CdX8mnTpnHgwAEqKioYOnQozc3NAKSnp9O/f38mTZrEkSNHOHLkiNQPRUdHExUVxYQJE4iMjCQ+Pp6QkBBSU1O5evUqP/zwg7Tt//73v/H29sbBwYGoqCgmTZrEO++8Q0pKCiqVirFjx/Lkk0/yxBNPkJOTw7hx4xAEgeeee+7mfqBfmF/yWjLV9sTqo10S0NsPuBmKmp2ln1+5coWYmBjy8/OleWLasylRU0yrNhVteyfR2SBn0rIDOIVnoHb0YpCQgl/OXEoWV7FhwwaZiPfjjz9KpkyzZ8+moaGBmpoaEhIS0Gq1MjdzuDFR8/Tp04SHh6PX6xEEweSzVldFTfEZyJSoaWqfg0YvYUh6KbaDw2XHZ0jKeFnU5f79+6mtrWXx4sXodDrZIIpYrmDEiBHs2LGD3bt3U1xczJgxY6Ttu95AUdyiejxiR2PlHoilsy9u4am89dZbslRzkfbzzp8/T1VVFUVFRcTHx6PT6cjMzGT58uV8/vnnsu9+8803LF68mISEBMLCwowEwL///e9MnTqVyMhI9Ho9c+fOpba2FltbWzQajaytroiaBw8epLGxkby8PLRaLWlpaaxfv95kzfSrV69SV1dHcXExUVFR+Pj4YGFhwbhx42QlDgC+//57ampqyMjIQKvVkpubS15eHp6enoqoqaCgcMu4kzQChVuHImoq3JbcaR1WV9P8Mlc/r4g/Cgq/IGI9wDvtBetm3Kqh85fdztbVXtT0y5nDICEVG88QLJyGYOMZgld0Nm+88YaRY+/ChQvRaDTSoMju3bvJzs5Go9FgbW2Nm5ubZHBx9OhRbG1t8fLyktI7RYHE29sbGxsbNm7cSFNTEytWrMDW1hY3NzfZdl+6dIns7GwsLCykKKd169YRExPD6NGjcXNzIzs7G61WS1ZWFjt27JBqarZ/Qf8tczP1Ww1FTYBJkyYRFhZmVGtv+/btCILAli1bpHnHjh1DEAR2795ttE1nzpxBp9MxcuRI/vvf/xp9/sMPP8jqDt6uXO86Tlp2AP/c+7AP0GPh7IOthz/5+fls3LhR1s7Vq1fZunUrOTk5aLVa4uLiKCsr48MPPzRa542ImgD33nsvgiCQnJxssixEV0VNaHsGMiVqmtpnS1c/BvpFMyRjilGfJkZdxsXFodFoSE9PZ9q0adTX10t9icjzzz/PqFGj0Gq1pKamUlVVJdW73Lp16y0dKPo5uXbtGoWFhaSkpMgiz28Fra2tXL161cisqyNMCcAKCgoKvyR3mkagcGtQRE2F25I7rcNS0nEVFG4P7lRR82bcqsG0qHnt2jWeeeYZCgsL0ev1REdHM3z4cLziRhG/+GmToqY4xZc/w+DUSQzw0WDp7ENCQgJjx47F399firQT66zV1dXx3HPPMWHCBKKjowkJCcHa2pqJEydK2yKKIQEBAZSWlvLJJ59QUlKCubk5/fv3Z/z48XzyySfS8qL5REBAgCTYVFdXIwgC7u7uLFu2jGPHjjF9+nQp5dPOzk4WzQVt9TZDQkKYO3cuycnJ6HQ6iouLefnll40Eut8KN1O/tf0x+/jjj4mJiSEqKooNGzawd+9e7r//fgRBoKCggMuXL0vfvXLlCnq9nqysLPbs2cORI0dk9/jm5mYiIiJITk6WBO5du3ZRWVlJcnLybVtCwJA7VUi7WW601EFnfdrNciMDRTcr0nVWYsEU3333nfT3yZMn+f3vf09FRYVJ46b2dGamdqvo6HjdqfdhBQWF2587TSNQuDUooqbCbcmd2mEp6bgKCr8ud+rL1M24VYNpUVOsm1dWVkZDQwP79u2jpqYGVyGJqLKtHYqacYvqGTAkAktXPwanTiRy/APU1tYSHR2Nubk5mzdvBtpE05ycHHx9fQkNDaWsrIz6+npGjx6NnZ0d/v7+VFdXA3JRMzs7m7i4OGbPno2HhwdJSUlERUURExMjCZt/+MMfEASBIUOGSKJmXl4eer2e0NBQCgsLiYuLY+3atTQ1NeHn54dKpWLUqFFSlNGlS5dIT0/H0dGR0NBQFixYQENDA4899hh6vV6qJ/dbEzVvpn6rKSH4H//4B4sXLyYxMRGNRkNmZiZVVVVcvHjRaN1/+ctfGDNmDDqdDkEQjESZY8eOUV5eTmpqKhqNhqSkJMaOHUt1dTX/+te/frmD8jNxsxHXdzqGz0AZq5pvqk+7WW5koGj06NGoVCpaWlqora1l+PDhaLVahg8fTm1trSyC8csvv2Tt2rXk5+ej1+vR6XQkJSXh7u7Os88+K9sW8b7U0tLCzp07yc3NRaPRSCZbH330EUVFRVhaWmJhYYGbmxtjxowxWTZDvAYLCwsJDAwkKysLrVZLdnY2DQ0NJo/FBx98wOzZs6VU+dzcXLZt22YU/drR/fPs2bM88MADxMfHS6VCOkrV76wdBQUFhZvlTtUIFH5ZFFFT4bZE6bAUFBRuhDv5ZepmnLBNiZpFRUXk5eUZLdtZTc2UlYdwi8rF0tWPmLm1pKw8ROqDbeLLjNXbMe/fn9TUVKmtiooKVCoVS5cuBdoij/R6PaWlpaxZs4bw8HBOnjwpEzUFQeCJJ56Q5lVXV/Pee+8RFhbGlClTgJ8injw9PSVRU6fTUVhYiCAIhIWFyX7j7OxszMzMcHFx4aGHHqKmpob09HQ8PT3x9PQ0MrM5duyYVN/utyZq/lajCW8FNxtx/b/GzfRpN8uNDBSJoubYsWPJysrid7/7HfX19UyaNMkozX///v2MHDmSjRs3snfvXurr68nLy0OlUjF+/HjZtoj3paKiInJycti+fTv79u3j5ZdfBqCmpkYS75uamqirq5MGXXbt2iVrSxQ1x48fT1FREXV1dTz99NMUFRUhCAIvvviibPnXXnsNjUZDQkIC1dXVNDQ0MGvWLKkerqFQa+r+efnyZXJycggLC2PZsmXs3buXtWvXykyV2nMn34cVFBRubxSNQMEUiqipcFuidFgKCgo3gvgy9dZbb9HQ0EBubi5arZb09HS2bNliVCvs888/p7y8nOTkZKkW4/r167l06ZLJdk29pJmKXrtw4QIbNmxgxIgR6HQ64uLiKCgoMOkU/e677zJnzhzi4uNxHRLAAB8tPpnTZc694lS++VmmTZtGVFQUcXFxLFiwgJMnT5oUNadOnYper+edd96RzTd82W8vaiYsbUQ9yBv3mDziy5+RTWElq+nT3xpbBxcu/3/TidTUVPr27UtZWRnnzp2jvr6e4OBgGhsb2blzJy4uLtTX18tEzZiYGK5evWpUn2/69OkIgsC5c+c6FDXFF/eSkhLZPpWUlGBtbY1arZbciEtLS8nNzUUQBJNmaGJNwd+aqPlbjyb8JbnZiOv/NX7t0jzdFVVFUTMtLU1Ww7W1tZWysjIEQZD6U1PGO2+//TYODg54e3vzn//8R5ov3j+ys7NlJRlETLXV2tpKaWkpcXFxMrM08X7TXpC8fPky8fHxTJgwQdZGVlYWkZGRnDhxQtb+ihUrjFLlTd3nNm/ebFJcffHFF6X6yO1RRE0F+KlGq4LCz4miESiYQhE1FW5LlA5LQUHhRhBfpiZMmEBOTg6zZs3Cw8NDErfq6uqkZcV6gJGRkTz66KPs2bOHJUuWIAgCo0aNkr1odlfUnD59OuHh4axZs4ampiYaGhqoqqqisLBQ9t3m5mbCw8MpKCigtraWpqYm5i6uwGWwPx7adDIefE4qY/H7V96U0rQ3bdpEQ0MD8+bNIzMzk8TERAqKx1N18F2p/EXq/K0MDtHhHxhMWloaixYtorGxkYsXL0ov++1FzciZNagdvUxOZrZO3N2rD/2sHXjwyaMAODg40K9fP8zMzAgKCsLGxob+/fsTEhKCi4sLKpWKdevWyURN8Ri0FzUfeeQRBEHggw8+MClqGqafi5GhIrm5uQQGBhqZmOTm5hIXF2fyXBHX91sTNZVowl+WXzM68Xbl1yrN05GoGr/4aTziCrFyD8R9aAglJSW89dZbkqhZW1sra+fUqVPce++9qNVqnJ2dSUlJYdmyZXz99ddAm7HThQsXOHr0KF5eXnh6evKnP/0JaBM6xXnt62Sauq9cvHiRTZs2kZ2djZeXF+bm5qSkpLBixQrJQEoQBIYPH25UvmH27NloNBop1Tw4OBhLS0uys7ONxKWHH34YlUrFxIkT2bZtG1lZWQwZMgQLCwvWrFkjLZefn09MTAzvvvsuK1asICcnh6ioKKKionB2dsbT09PouCui5q2nO88oNzLoGh8fj0ajITs7m+rqaqPzSSxFcP78eSorK0lLSyM8PJyjR48C8P777zNnzhxSU1PRarWkpKQwZcoU5T1PodsoGoGCKRRRU+G2ROmwFBQUbgTxwT4/P58rV65I/7/55puMHDmStLQ0adnJkycTFhbG//3f/8na2LZtm5E41p0XhkuXLhEWFsbq1as73dazZ88SFRXFrFmzjCJIX3jhBQRB4NChQ0bb294Bec1DD+HsNZRBQqrRy3tixT7CJqwhe+I8ybU8MTGRTz79lI3N7xuJmrp7H0ft6IVbVC6aKVWyyT9nDma2TgxOnUjSA/s5fuo89vb22NjY4OPjw+TJk/Hx8WHu3Lm0tLSwePFifHx8ePvtt7skaq5bt46QkBA+/PBDk6Lm448/LjMKEnn55ZcRBKFDUTM+Pt7k8f+tippKNOEvy81EJ3bXqMZUhLaCMYaiatqyfQwKiMLRwxf9yMnoxi3FJ3UCtm5+uA8NoW+/fpIQA/Dpp58SHx9PfHw8zs7OZGRkUFNTQ1xcHD4+PqSkpEgRiz4+PqhUKjw9PaW+21DUfPXVV2XbJd5Xjh49ypo1a0hNTcXR0RGVSoW9vT0eHh54eHgwf/588vLyuHjxoqymZntRc+LEiZiZmUmp5kuWLGHAgAG4u7sbRXZu3boVc3Nz3NzcGDt2LHV1dcyfPx9ra2t8fX2lNHax7IepFHlfX19UKpVRFKciat56uvOMcjODrpWVlQQHB2NrayvV14af+q6ioiKmTp1KfX09Tz/9NH//+9/58ssviY6OJisri+3bt3PgwAF27tzJ4sWLefzxx3/ZA6PwP4eiESiYQhE1FW5LlA5LQUHhRhAf7JuammT/v/3226xduxZBELh8+TLffPONlMLXnu+++47o6GgKCgqM2u3KC8P3338vpUp/9dVXHW5rQ0MDgiDw8ssvc+7cOdn0zTffEBUVxf333w8gbe+9995r1M6q+j+idvTC2jMEtaMXmqnr8c+di52vFgtnH+yGRhI6dgUbm9/n4MGD2Nvb4+7ujk6nIyAoBHtX77aX/QcPEVf+DH0t7TAb4IKNZwgWTkOw8RLwjC8idNyDqB29CC6qQD+/DievodjZ2aFSqbC0tESlUqFSqTh06BClpaXSi74oZqpUKuzs7IiJieH1118nICAALy8vpk2bxujRoxk4cCB2dnZS+nlwcDA2NjYMGTIErVaLXq/H09OTfv36ERcXR2NjI+vWrSMmJobY2FisrKzo378/Hh4eZGRkMH/+fMaPHy+ln7ePThk0aBBWVlY88MADRse0q9Ep3Yl4uZ1Qogl/Xk6ePMnWrVv5+OOPpXk3Ep2oiJq/PNXV1Th7DcU/9z7ZuS6MX0U/awfu7tWHmWt2SKLzmDFjSE9P54svvkAQBGbNmgXAlClTMDc3JyEhgebmZl577TV27tyJm5sbnp6eUlq3oajZ/v4h3lfS0tLQaDSsX7+eoKAg8vLyaGlpoaqqyui+I95viouLZaJma2srgwcPxszMTEo1P3LkCIIgkJeXZ5RqLoqaHh4ekth58OBBQkJCCAsLk9LYRVHTVIr83LlzsbW1NUqRV0TNW09Xn1F+jkHXp59+GpVKxcyZM6V5Yt9VXl7OtWvXjJYXszAUFG4WRSNQMIUiaircligdloKCwvU4fuq8LN26oOoFJi7diH9gMC0tLYD8QV98sD916hQffPABgiBI7rPtGT16NJGRkdL/3U0/37dvn+TwnJeXx8qVK3nppZf48ccfpWUeeughmfBnapo2bRrQlrolCIKRWCZG3Vm5+UuipkNwAgP9ovEZNo2AvAUM9ItG7eiNMO5BomITsLe3Z9iwYWzatAknJyesrKxobW2loOoFkpcfoE9/G/r0t8YjdhRBo5fgnVyCpbMvls6+9Lf3IGDkfBIrmoiZvIrQ0FAsLS2JiorCy8uLjIwMzp49yxtvvMH8+fMJCQmhrq6OXbt24eXlhbe3t2S4ERAQgLW1NUOHDmXp0qV4enqSkpICtLmfW1hY0LdvX5KTk2lqaqK2tpakpCR69erFoEGDiIqKYtKkSTz22GMMHDgQW1tbKSJp27ZtlJaWsnLlSum4GUanbNy4EQ8PD5ycnBgxYoTsmHYUnRIREUFpaansN+xqxMvtxq9d6/B/DTGy2FA0MsRUH2GqT1FEzV+e4OgULF39TNYstnAawt29+uA3ooyNze/z2WefIQgCjz76KH/6058ICgpi+fLlnDhxguDgYEmQFHn77bfx8PDolqjp7++Pj4+PFPWWlZVFRkYGx48fZ+PGjV0WNT/66CMcHBxwdHSUzRMEgYULFyIIAnPmzJE+W7duHSqVyuTgXWFhIYmJicBP6eeGAzpXrlzh/PnzDBs2DFdXVwRB4NNPPzVqRxE1bx1dfUb5OQZdP/roI8zMzEhPT5eWF/suw4EdkUOHDiEIAo899hhXrlz5eXZY4TeLohEomEIRNRVuS5QOS0FBoSN+bG3tMNIsuKgCtaMX8zY8w4+trTLjoNLSUiwtLQkNDSU6OhoXFxfWrVsna1s0Dho4cCDm5uaScdCePXtkLwyGLxDV1dUywUJ8gfjwww85cOAAK1asICUlBScnJ5ydndFqtcTFxREQEICTkxNNTU20tLRI0+7du6VU8cDAQLKzs1myZAkhISFGoqZYH9FQ1BzoH0PSA/uxdg/ERZvF4NRJqGwG0c9yIM6eQxEEgT/84Q8A5OTkoFKpeOONNyRX7Jh5TzDAR9NmGKQvICBvPt5J4+lrMQALZ1+cwtJIWdnmip2ZmUl4eDienp5YW1sze/Zs9u/fT21tLWlpaZiZmcmMijIzM8nOzkYQBBwcHBg6dCiVlZVSrVDxhWjBggXExMTg7+8vSzW/cOECarVaJvzMnz8fW1tb0tPTjdLPf/jhB8aNG0dwcDD29vYUFhby2GOPodfrJXfhU6dOSct3pyRAVyNebmd+rVqHdwqmIjBNoYiaty+Gg18Zq5qxcPbBPiDW5P1jgI+Wu3v1wcZLIGzCQ7h5eOLp6YkgCFJUuq+vLyEhIahUKhwcHAgPD5fW9eqrr2JpaXlDomZNTQ3Q9vwbGxsr1Sh2cHBgw4YNkhjUkah55MgRHBwccHd3lwaODI2CtFoteXl50vLDhw9HpVKxfft22fYIgiBF2kObM7sgCGzevFlKkRcEAW9vbyk6XxAEWT+viJq/LJ0N6HZl4PVmB13FzAu9Xi8tL/Zd3333ndH6v//+e2bNmoUgCOh0OkpLS6muruaTTz75BY6Owv86ikagYApF1FS4LVE6LAUFhY7oLHVWFDW10zZI6daC0GYcFBwcjKurK1u2bKGkpASVSkVCQoLUrmgcpNVq8fDwQKvVSsZBCQkJhISE8NJLLwHyl7by8nKToqahgDFt2jRcXFwYNGgQixcvpqGhgeLiYqysrDhy5Ii0XEdRgqGhodja2hqlyxdUvUDconpZ+nnQ6CWkrDyEX84cBgmp2HiG0Ktff+7po8IzMos33nhD+v69996LSqWioaFB5oqdcP9efIZNZ4CPFvUgb9TOPvRSqbFw8iGi9BHJFTszM5PJkydL9eb0ej0ajYb09HT0ej3u7u58/vnn0vpEEWbfvn1Srbfo6GhmzpwpCUf//e9/CQ8PZ/HixQQFBbFo0SIpQuTrr7+WopHEl3zxtxwzZgyhoaEyURPajDdWrVqFhYUFtra25OTk8PLLL7N+/XopNV2kOyUBuhrxonDncj2xEn663ttPhoLTrFmzsLGxITw8nKioKMaPHy+JAF0RNY8dO8b06dOJiooiLi6OBQsWcPLkyf9ZUdPUce/Kb2FIR4NfXRE1HYLisXT1w9zCmoEDBxIeHo6Pjw8TJ06UBp/y8/Px8fFhypQp7Nu3j23bthEdHY21tbVM1HznnXc6FDX379+PIAgkJyej1Wqpqqpi//79VFVVERQUJBn9+Pr6kpWVxdmzZ9m6dSt+fn5ERESQlJQktWVK1AR47bXX0Gg0WFpaEhISQkNDA2VlZbi4uDBgwAD++c9/Sm2YEjUvXbrE8OHDsba2ZtCgQYwfP57JkycTEBBAUlISTk5ORuexImp2HfFYtbS0UFtby/Dhw9FqtQwfPpza2lrZ4NqPra2sfuZVBqdOYoCPBgunIVi7B+IWlcvQ4bNkA7qAZCwVHByMmZkZkZGRzJ49mw8//JCzZ89Kg67Dhg1DpVIREBDA66+/zqRJk3B1dcXc3JycnByam5tlA6+HDh3Cx8eH5cuXS9sm9l2vvPIK06ZNIzY2Fp1OR35+Prt376a1tZVjx46xY8cOysrKiIqKQhDk5o0KCl1B0QgUTKGImgoS165d48knn6SoqIjBgwdLhcrj4uLYt2+fUY0UkS+++ILCwkJsbW3p27cvgYGBbNu27aa2RemwFBQUTHE9kxNDUTNl5SG27Gyr5ZSfny8ZzZw8eZLW1lbc3NxQq9W8916bu7NoxPPAAw8gCAJbtmwB2oyDAgICcHFxobKyEvjpReS5556TIh5EEfPxxx8nNDTUyDiopKQEQRDYvXs3AGfOnEGn0zFy5Ej++9//GkUJ/vDDD1y4cAFoixK0tbXFy8uLDz/8UIrUSFl5CO/kEnlNzSlVRsdlkJCKrbfAsMrnZcfT0KxHbC9swmocQ5KwcBpi5IAuRmmmrDzEsideJCIigpCQEARBMHL2NSXuiiKMKFDs2bPH6DcWUyZNTQMGDMDe3h43Nze2bt3KihUrCAoKYsCAAQQFBZGQkMDcuXN58skn+c9//iNrt310ilarxd/fn++//15apjslAUy1aSriReHOpStC2vHjx6Vo7crKSpqbm2lubpbMZjZv3oyLiwtWVlY8+uij7Ny5k4KCAjw9PXF1db2uqPm3v/1NimTetGkTDQ0NzJs3j8zMTBITExVRswM6Gvwa6Bd93fRzzZQqPOJG07NPP/r06YOPjw/bt2+XXdcXLlygsrKS9PR0dDodubm5LF++HB8fH5mo+emnn+Ll5YWbm5uRyPfYY48hCAKHDx+mvLyc5ORkqYblgQMHpPvMmjVrpH5669atUmR8dHS01JZh+vnVq1dlNS6PHj2KnZ0dgwYNQqvVkpOTQ3FxscUjbeMAACAASURBVOw+BaZFTYA33ngDBwcHBg8eTGRkJBMmTOCtt95i2bJlODs7K6LmTSAeq7Fjx5KVlcXvfvc76uvrmTRpkkycBlhV/woDhkRg6erH4NSJBI1egt+IMmwHh2M+0A0zOxeEkko2Nr9Pa2srU6dORRAEwsLCcHd3p7Kykvj4eLRarVSiB9re/5ydnbGyssLX15c1a9ZQVlbGoEGDGDx4MKmpqfz73/+Wlm9v8gdtfZdYimDixInU1dXR2NjIkiVLCAsLkwYDRS5cuEBOTg4ajUZ2D1ZQuB6KRqBgCkXUVJD47rvv6NGjB0OHDmXhwoVs376dhx56CG9vb3r06GHSUOOf//wn9vb29OvXj/LycrZt28awYcPo0aMHS5cuveFtUTosBQUFU4jCW1dFzUlL22qSNTU1GYls8+fPx9zcHK1Wy+rVq/Hw8CA0NBRBECgoKODy5cvAT8ZB3t7ehIWFsXLlShYvXoyzszNhYWGMGzdO1u7KlSsxNzdnzpw51NXV0dTUhLu7OwMHDiQiIkL2Etnc3ExERATJycmUlJTg6enJ4sWLWbp0KXFxcTz11FNSlGBISAiDnJzw8AvFJ2MqgQWLcY3MwXZwONYeQZKoKe67kag5OJyCqhdkx9Pw5eT4qfOETVjdVpczKJ7AgkWETXxIcj+3dg+UOaxv2fk0FhYWODg4UFVVZZSu3RVR05RAIdY7XbBggSw6pKWlhVWrVpGamkpoaCjh4eGkpaWxbNkyTpw4weuvv86mTZuYMGGCFBH39ttvy9LhxOiUe++9FwsLCwYOHMiYMWOkqM/Vq1dL50v7dYvTsWPHZNvbPuJFEARZmwp3Jl2JwBQNpcLCwjAzM0Oj0cgMpb788kvCw8MJDw+XCUjffvst0dHRqFQqmpubpfYeeOAB3N3dKSwsRK/XS2UyHBwceO2112TbJxqf/VZEzdbWVq5evWrUz5iis8Ev38wZqB29OjUK0k7bgHbaBtSOXuj1enQ6HcePHze5LsNIb1Pb/e2336LRaGSmKtBm/paUlCQT/1pbW6WBLEPee+89BEFg7dq1QJsQZmtrKxM1DVPN20eOP/jggwiCwIEDB6R5pvpnkfbiulhbVEyRFzlz5gzx8fGKqHkTGJpFGf72ra2tlJWVSan9x0+dxy0qF0tXP2Lm1srO3YQle7ByC6CXSo1X4jhSVh5i8xNPIQgC8+fPlw28fvzxx2g0GoYPHy67lsRyAgsXLgR+GnSNjo4mJCREFpV58uRJQkND2bBhgzRv5syZqFQqVq1aZbSPmzdvNipRAG2ZIoIgcP68Uu5EoesoGoGCKRRRU0Hihx9+kOqsGfLf//5XEjY/+ugj2Wdjx46lR48ektOwSFZWFvfcc0+HD4HXQ+mwFBQUTGGYIt0VUTN87DLJOKj9S9zWrVvx9/dn5syZaDQazMzM8PX1paqqiosXL8rWO3r0aCIiIqioqCAuLo4hQ4ZgY2NDbW2tUbsbNmyQDGji4+OlFwonJycCAgKMIvqOHTtGeXk53t7emJmZ0b9/f6ytrXFxcSEwMFAmqITEpOIUloaly1Cs3Pxxi8pFP7+uTdjsgqi5/uB7sv1qH3ERnzseC2cfEiv2yb6fWNGEepC3JGqKrthZWVkdiio3KmqeP3+e8PBwyWX4Rvj73/8uGfusWLGCuXPnSgLz2rVr0el0Uiq54XbU19cjCIKsJEB3uHbtGhs2bOhWRJnC7cn1IjANS0VUVFTg4eHBmDFjZIZSdXV1CIIg1ZMzvBYqKipQqVSsXLlSmifWOSwrK6OhoYFdu3bh4uLCkCFDjOp6njlz5o4UNUVxsjO6G5XZns4GvxLu39tWVsPRG8/4IgJHLcY7ZQKWLkOxdBkqEzWtnLzZunUriYmJ+Pv74+joyMKFC2loaGDDhg3k5eWxbNkySZjavXu3tN1i//fll1+Sm5srDQCFh4dTWlpKSkoKEyZMkMS/jz76iCVLlkhp3l5eXsTFxTFz5kwyMjKIiIjg/ffflwRHW1tbLCwspHtDaWmplGrev39/MjIypFRzQRCYPn06f/3rX7nvvvtISkrC3d0dtVrNjBkz+Oyzz6Rj949//IPo6GjUajVarZakpCRKSkqIjo6WpchXV1eTkJAg1SZWRM0bQzxWtbW1Rp+9++67kpi9es/rbXWuY/KIL3/GaPKML6a3mSX9HTzxTCjGV4jB2dmZqKgo2cDrxx9/LA2UrFmzhgMHDlBdXU3//v2xsbExOehqZ2eHl5cXe/fuZdeuXSxatIj+/fszY8YMadnU1FRUKhXHjh0zKt2yZMkSLC0tGTlyJHv27KGxsVEq22NoXqWg0BUUjUDBFIqoqdAl5s6dS48ePXj66aeleZcvX6Zfv364u7sbLX/06FF69OghS5voDkqHpaCgYArRzKarU3vjIEMMRbeO3MVF2ruhP/fccx2+tLU3DhK5XkTf9aIE9za/ROSszV0WdE2Jmu0NYNqLmgsWLsTdN5jEpY2y7/tkTEXt6MUgIVXmil1QUCBzzzVEfME3jGzsiqgJbfecsLAw/vKXv5j83DA66ptvvjH6/PvvvycmJoaCggKOHDnC2LFj0ev1Uh26BQsW8Mknn3D48OFOSwK0x7AkwHfffWfSFKF9mwp3LqbO0+OnzvNg/SvYuvnhphtO/rrDzFn/FP6BwRw8eFBmKCVe0ytXrjTqE2pqalCpVLIIvoCAACwtLaX/O+qXLl++zObNmxk4cCCOjo5oNBoyMzN5+OGHjQZkAP785z8zY8YMaZAlKyuLZcuWcfr0adly7777riR6abVa0tPTWbhwoUz0grY6jVOmTCEmJgadTsfo0aN55plnjMoUiQLc+fPnqaysJC0tjfDwcEkYBnj66afJyclBq9VK6bctLS1dSj83nHf48GEKCwvR6XQMHByKd3KJyRTzmPt24BSWTl+LAfTsY0ZvcyvshkYywEdL7/7WMlHTyWsoBw8e5MyZM8yZMwdLS0uGDBlCbGws+fn5VFZW8sEHH3Qqak6YMIGioiIKCgoICAjAxsYGKysrVq1aJRP/ampqKC4upqCggLi4OHx9fbG1tUWtVjNs2DA+/PBDoC1qs7KyEltbW/z9/SWxXayV/P7772NnZ4erq6uUar5161YaGxsJDw8nKSmJjRs3Mm3aNFxdXSkuLpbMz86fP09ycjIeHh64uLhw4MABdu/ezbJly5g3b16nKfKKqPnTfr/55pvU1dUxYsQI6X5y+PBhjp86z4rdL+ObVIiNZzA2rkPxEaIZ7DNUdk1A2zPGmDFjMDc3x8HBAQdfDf2sHYxKwvTso6KXSo35QDd6qSzoo7bhnj4q7u7ZCxsbG1577TXZs8758+cpLi7G2tqaoKAgdDodmZmZODg4MGnSJKN9OnbsGBEREZJBX1JSEiNHjjQyWoyIiJBMo9pPvr6+2NvbM2TIECIjI9Hr9YwePZq6ujolo0Gh2ygagYIpFFFToUsUFBTQo0cPySQD2mrs9OjRg6KiIqPlr1y5wl133UV6evoNrU/psBQUFExxvUjN6xkHGWL4oP/NN99I0SztuXLlCjExMeTn50vz/vSnPyEIgqxPFGlvHGQKUxF914sS7G7qfXtR0y9Cb9Rme1FTFGSG5xYwdsFatGPKcdMNx3GoFu8gDQXF42XfX7VqFYIgUF1dzfPPP8+RI0ckwVFMmZw2bRoHDhzgyJEjfPDBB8D1I7HOnDnD8OHDCQ8PZ8mSJdTX19PY2Mjjjz/O2LFjmTJlirRsUVERpaWlbN68mf3791NfX8/48eNlwqJoAlVRUUFdXZ0UnRIfH09MTEyHJQE2btxIU1MTu3btorKykuTkZGmbu9Omwp2J4XlqaDwTWLAItaMXYSWriS9/hrAJq+lv787YBQ/x7//8R4oCrqys7JaoKQgC5ubmUppmR6LmiRMnpGi7+Ph49u7dy/Lly4mIiKCoqEhWT3Hbtm0IgkBWVhY1NTXs27ePzZs3U1xcLEsHPXDggEz02rdvH9u3b6e0tFQSvQCeffZZwsLCyMzMlOr/iRGHK1askG2nKGoWFRUxdepU6uvrefrpp/n73/8OwKZNmxCENifv3bt3U1tby4gRIxgzZky3RM0JEyaQkpLCli1baGxsxCN6JGpHL7yTS2T9YOyCXVi7B2LhNITBKRMJHLUYz/hirNwDsfNti94U+1DttA2SUN3R+kVMiXji/WX69OmyNN/Lly8THx/PhAkTZG18++23Ru22trZSWlpKXFyc7De9nmgoCPJajOJgTWZmpslBIHH7XnnllZuKVP+tI/4u48aNIz8/nyeeeIKnnnqKvLw8nL39EMY9iO3gcNz1BQSOWoxPxlRUtk707GvOvZXbpcFCsd+YNm0a7u7upKWl4RgUx929+mDtESSVhNFMqZKyNtSDBjNISCEgfyE+mdPppeqPlZWVVEbHEPFZ44UXfipHIwgC8+bNM7lfc+fORRB+MtUzVVNTjEb/4x//2GHplvaDIwoKN4KiESiYQhE1Fa7LO++8Q8+ePfHy8pIVc25sbKRHjx5S/ZX2DBgwgICAgOu2/8UXX/DKK6/Ipk2bNikdloKCghHXE/auJ/QZRiq2T4+eNGkSYWFhknGQyPbt2xGEn4yDoK1WnpiWasgXX3xhZBzU1Yi+60UJ5j38exKW7LkhUVOXOpJhw4YZtWnq5eTAgQMUFBSg0+lISkri/vvv5/Tp0yadlr/55hsWL15MQkICYWFhRi/au3fvJjs7G41GI3vR7kp66aVLl6ipqSE/Px+dTkdMTAw5OTlUVFTw+uuvS8vt37+fmTNnkpqaKqVLlpaWyl7Yzp8/T1VVFUVFRVK0WmZmJsuXL5e5s4uIJQFSU1PRaDQkJSUxduxYqqur+de//nVDbSrc/ogGXAVVLzCs8nmS5jyOk9dQtux8mg2H3scjrlASy8RIqd7mVtzdsxd39+pDP2sHnL2GSoJE+/TzmpoaqV6ms7Mz99xzD3q9XhILRo0aRZ8+fbC0tMTS0hIHBwfMzc1JTU2VbeeRI0cICAjAw8NDdk2KbtqFhYWEh4dLIlVxcTGPP/44eXl5kulQTk4Oy5Yt4+rVq10WvS5dukRMTAypqamcO3dO+vzHH39kxowZRte/KGqWl5cbRXGeOHGC8PBwxowZI0tHv3DhAunp6d0SNZOSkmTbXVD1As4Rw7BwGkJiRZPUD7rrR7WJ0RMfkvWPAXnzUTt6YTs4XJo3f8MzsvXdqKhpKtp89uzZJCYmGs0XuXLlCufPn+fcuXPU1tYiCAKffvppp+szpL2oKYpY+/fv73Cd0Pa8LwgCDzzwAJcuXep0WQVjxN+loKBAdk6vqn/l/xvveeM3Yrbs3HPRjeDuXn1w1xewsfl9acC0trZWln4+YtV++qht6G1miX5+nfR928HhqB29CCl+QNauo58OlUrFE088YbSdK1asQBAEWUkxQRDIyckxuV85OTno9XqpHzD13LBu3ToEQZAGLhUUfikUUVPBFIqo+T/IvHnzujw1NjZ22tapU6dwcXGhT58+UmqLyK5du+jRowcVFRUmv+vs7Iynp+d1t3fZsmX06NHD5KR0WAoKCoZcz/38ekKfYU3J9qLmxx9/jE6nw9nZGR8fHzw8PPDz88PW1hYHBwejiIeysjLJOKipqYmNGzcSHx9vZBz0c0UJ2nqFEFxU0a39X3/wPaOUcwWF3xonT55k69atRnUpRQyjMA0n0SxGvO5EUdMraRxqRy+CRi9hUGgK/azsMbN1wiO+CM2UKvY2v8SxY8dkRkEuLi4EBARQVlbG7t278fX1pXfv3sTHx0vblZGRgZWVFXPmzGH8+PFotVr69OnD3Xffzfz583/a3h9/ZPDgwVhbWzNp0iQuXrzIuXPnOHnyJMHBwbi5uVFWVsYjjzyCIAiSC/LSpUtpbGyksbGRjRs3kpeXx8WLF7sser344osd1v8TBTHRzAZ+EjVNHXdR8D18+LDRZ6KQ11VR87HHHpN9v+rgu/jn3ofa0YvoOdtJWXmI5OUHsXT1w25opNHvnPTAfixd/SRRM3P188ypeupnidQ8ceKE0fKmXO7PnTvHmjVrSE1NNZnCaxhV211RU3RP/9vf/mZyeUNEwUuj0VBSUsL69euNBvp+i1wvtRzaBvHs7e0JCAhAp9MxY8YMXnnrQ1JWHsLeP4b+jl4MHT6TQUIqNp4hWDgNwWyAM3fdfQ+qAS4kLNlD6YzZaLVaTp06ha2tLQMHDmTnzp1EJI2gl0pNj7vuwsLFVxI2bQeHY+MZQsrKQ8Qvflo6p4vvW41KpTIazDxx4oRUgsIwglg8z9pH6R45csTofDIlah47doywsDCmTJlismbulStXTEaNKih0F0XUVDCFImr+D9KRQGhqmjp1aoftfP311/j6+tKrVy+effZZo8+VSE0FBYVfA1PiQ1dFTUP3b1NGNrNnz8bR0REfHx+p/pNGoyEtLc1oO86dOycZB+l0OsaPH29Uvwp+vijB0NyZxC7c3eV9b+90rqDwW+V6kcEd9SkdiZpiZF/ouJV4xBXS38ETK1d/BgyJILBgMVNXbJaeXzZv3oyLiwu9e/cmKCiIuro6Ro0ahaenJ66urjJhasmSJUZi10Mbarj7nnu4+55e+GZMQTduKbEjxuHgOIiePXtiZWUlE7/c3d1xcHDglVdekSJEY2JiOjXe6qrotXPnTgRBMKr/B20RlmJUqogo3pmKVBdTbE0JnkePHu2WqNlejD1+6rxR3x+3+CnUjl64RuaY/K3tA2JlkZribz+5YhM/trZKoq2pc0iMkDUlanbFXfzatWsUFxej0WhYv349R44c4S9/+QstLS1UVVUZtd1dUVOs7doVURPg888/p76+ngULFhAbG4sgCDz00ENd+u7/KqZSy9dXbycoKhkr58FETFiFlfNg+lvZcl/5A2zatAmdTkdQVDLJyw+2CZleoVi5+uMZX4R/7lyCRi9hoF80Pe66i559zbDxEnDyGoq7uzu2trbcfffd9O3bF3NzcwbaO9DX0o67e/bmrnt6YjbAGf+R81A7emHh5INDUDxOYWnS+fu3f56VBmRnz55NQ0MDNTU1JCQkoNVqjQJVBEFg9OjRREVFsWbNGhobG1mzZo00yGpYf9eUqAnwxBNPtJWvGT5cKgezc+dOli1bhl6v/83VWFX4ZVBETQVTKKKmgklOnjzJkCFD6N27d4cvAUpNTQUFhV+DH1tb2djcdWHTcBpW+XynbaempjJ37lzZvNLSUjIzM3/JXeoS3U29b+90rqDwW6UzUbOz6O/IWZtRO3rhP3KeTNSMW1SPhbMPdkMjcYvJR+3oRcTkdTgExWPh7IPlIC9ZyvjMmTPp06cP5ubmBAUFMW7cOEnYMnzRX7hwoSR2Xf72W9Y0vEbU7G306W/N3T17o3b0wsrNH9vB4ZgNcOaenr3w8PDgz3/+My0tLfzlL3/BysoKLy8vWltbJVEzLS2NjIwMjh8/bvL4dFX0EkWLP/7xj0afXbx4sUNR0xQ/p6hp6nedXLHJtKgZldstUTO4qIKNze/z6aefIggCTz75pNG6HnvssZsSNY8fP44gCGzevNlo2Y0bNxq13ZlRHRiLmk899RSCIJgMULge3333HZMnT+5wX34rGKaWf/vdd9JASNyieim13FmTJZ1zGw69z65du7By8iaitEoy60us2Cc77/xGzOGue3rR29yKQaHJ9FVb079/f6Kjo7G3t8fHx4edO3fS0tLC3Kp6wkpWY+ero2dfc8zsXOnZz5y+lnZ4xI4movQRUlYekuqHh4aGkpmZKRlxxcXFUVZWJplOGSKeM++88w6TJk0iKiqK2NhYFi5caPS7dyRqArS0tDBnzhwSExPRaDSkpKQwceJEamtrJZM9BYWbQdEIFEyhiJoKRnz11Vd4e3vTt29ffv/733e4nOJ+rqCg8Gty/NR5Mld3zw39etGLYWFhRv3W7SBqfvvtt91OvVfSzhUUfhKX2k/iNT115RZcI0dgOzgcC2cfrNwDcdFkoZvxGEkP7JdFYNoHxqGyGUTKykOEjFmGetBg+lnZ00dtS9DoJfjn3odX4jhsPIMZkTcKJ6+hCHllBGTPQj3QBQ9/Af/AYNLS0hg5ciQeHh6y5xy9Xk9kZCRDhw7F1t6ZvpZ29Oxrxt29+qCycZQEOvvAWAYMicBFOxwPvxAprfPQoUOoVCpp38Qovy1btkgRd1lZWVRUVHDo0CHJebiroldn6ed//etfO0w/N8XPmX5uMnry2Wdx9hoqHbNO08+XPStLPzcVpfv+Z1+j0Whkxk7QVlc4KSnppkTNzz77TKq5asiZM2eIj483avull15CEEwb1UHHRkFZWVmyWqgiYhryhQsXZCnJIqIAfezYMZPr+y0gippNTU1Gkd32/jGoB3kTOGqJTEhfsuUAFo5eBBYskkRN8TvJyw+ScP8efDKmcVfP3vS1GIBbVC7uUSMQhDZTHkEQKCkpkbZBHNCNnFmD+v+3azs4nEFCqtTuxub3JcOh9udBZ3RnWQWFXxNFI1AwhSJqKsg4ceIEnp6e9OvXjxdffPG6yxcXF9OjRw+amppk87Oysrjnnnskh8vuonRYCgoKXeHnil4UXzLbTwcPHuxQ1Pzggw+YPXu2lFKem5vLtm3bTNaTOn36NCtXriQtLU1KZ3/wwQc5c+aMbDnDl/R9+/YxevRodDod9913H9D11Pv2Tu8KCr9Vjh8/TnV1NYLQZuzV3NxMc3OzlELtoU3HRZfN0OxZBBfej2/Wvdh6C1g4DUE34zFZBGZvcyt69lHJIjktXYZyTx8VFk5DsPYIxj5Aj417AP0dPCVBbOjwmVJ9x7AJa8ieOI+YmBhUKhXh4eH84x//4Nq1a2i1WgYMGICbhxcqWyfUgwYz0C9aFgGWsvIQDkHxDBgSQfjEtagdvXjsd3Vcu3aNqKgoVCqV5GJ87NgxBEFg/PjxnD59miNHjrB69Wpyc3MlYffs2bNdFr1Eo6C0tDRZ1FVrayszZ85EEATeeustaX5nouaXX35JWFiYkVHQxYsXu20U1Fmdy32H/8j6g+9RUPUCnrGjsHLy5t7VO1j2zFvS72jKKKi9qLn+/7F373FRlvn/x3crs1BBFEWQgwoCAqJ4McDADMhZjooCioqGiodWCUs8lXkKj2FqmaLhV3NJMRUPYGkHq9227Ff71frWt9pq18o2O6l8U7OE1+8Pdu4YZjiZB6rP8/G4Hz6855p77rmZuWDec12f6+BJVqxYgVKKwsJC9u7dS0lJCfHx8drq71cbatbU1DBy5EhCQ0MpLi6moqKCDRs2EB0dTU5OjsWxv/zyS3Q6HdnZ2VRUVHDkyBHeeOMN7XZrAdX+/fvR6XTExcWxfv169u3bx9atW5k6daq2un1ZWRlJSUmsWrWKnTt3sm/fPoqKirTHshZ4/lY1XDTMMGExLp6+PFZ2yOL3bU+VgENfZVHyIGLWdjr37KvV0XTw0hGUuwznwNj/jO705I7O3fnDH//I7R3tcQkawuBpq1BKsWDBApSqq4Nb3//93//x4vG3//OFyT109w6mT2ii1frZEmqK3yLJCIQ1EmoKTXV1NX369OEPf/gDkyZNYseOHRZbw2Lhp06dwtHRERsbG+bPn8+WLVtISUnhD3/4A/Pmzbvqc5EOSwjREtdq9OLJkyepqqpCKcWkSZO04OPzzz+3Gmq++uqrhISEEB0dzYYNGygvL9emek6bNs3sw9+ZM2dISEhAp9NRVFTE008/rX1QTExM5Ouvv9bamj6kjx49mvj4eDZt2kRFRQWHDh0CWjb1vv5IDSFE0+HXkEUVFu+hwXOfokvvANxC08z2m6afN7Zv8JwyegREYu/uT8jk4mbfp6aVjhcuXGg2BbnhlzXeSZPNwhL/4TOxdfbEJWhI3ZRqnwHk5OTQrVs3unfvbhZObNq0yaLO3ebNm4mIiKBfv37aFNKWhF6mdkFBQaSmpvLEE09QVlbGhAkTUEqxePFis2vbVKgJsHbtWpSqW519x44dbN26lWHDhjF27NhrFmrWDwNPnz5NVFQUoaGhDEidzICR8/CIGoN97wC69wulm3dwo6FmVvFRfvjhB1auXElcXByhoaGMHDmSqqqqJhcKakmoCXV17OfNm0dcXBx6vZ7s7GwOHDjQaP3MqqoqMjMzCQ0NRSlFXl6edltjAdVbb71Ffn6+dg0SExOZO3cuH3/8MVC3qN2iRYtIT0/HYDBgMBgYMWIEGzZs+N1MHW5s0bCGgaVFqOmlsxpqdnX10kJN2/8EmU4DogjImkPQhBX0jhzFH29txx2du9NTJbDm4EmtHESXLl1ISUmhoqKC0tJS5s6di16v1+q7lpSUkJKSYvazr09CTfFbJBmBsEZCTaH55z//2ezCQtZ+4X3yySeMGjWKrl270r59e/r378+mTZuora296nORDksI0VLXcvSitT/sG4aaNTU1pKamEhYWZrGyrWnl2Pofsk0jLhqW86isrLR4PNOH9MjISL755ptGz/PDL85po4+Siw6TVXxUVjoXohFNhV9ZxUe1PiLmgT1EzS8nat4u3EJT6dI7oMWhpuGezTj0DcKhr8Jwz2aL/idq3i6Lfa+/UzftuKCgwGwKcv1zGjynDPveAWZhSdyig/gPn0n3fnru7OLEbe1tiImJYeDAgXh7e5v1KTU1NRw6dIjJkycTERGhjcicNm0aAQEBZtPFmwu9TF599VXy8vIwGo3o9XpGjhzJzp07LUbyNRdq1tbWUlZWxrBhwwgJCSE1NZUtW7Zw/Pjx6xJqQt3fugUFBXTp5Udndz9cQ1IwFGzBKWAwjn7hjf7+aK4es/htaOzviasNNeuP1LzTvgd2rj5mdTX9hhXwx9tu5/ZOXeipErTf4c899xzdunXD3d2dkJAQEhMTmTp1KmVlZfzzn/+UUFP8bklGIKyRUFO0+P/NvAAAIABJREFUSdJhCSFa6lqOXmxJqPnuu++ilGLp0qUW9//3v/+thRRQFygYjUaGDRtm0ba2tpahQ4cSERGhhQGmD+kPP/xway6BEOI/Gk4bzSo+SsGap/APGGg1/Jq76QDuYcPo7O6HrbNng61vi0NNe3d/7HsHEDn7z1b7oLqRn6n4pk1nYPYDdasfh8WhlOL55583m4LcL3ESA7PvxydlGl16B+A0IKrRQCVq3i46u/qglCIpKckiWKyurkav1zN79mxKS0s5cOAAW7ZsISkpieDgYN5++/dZqqJ+cBy36AD2vfxxC0lt9HdIc/WYxa9fUzM/WhJqNtwfMWs7ds6eZE1/kPgllfQyZNDZtR8xD+wxa+eTNAVbZ0/0CSPMzqexoLGphXqE+K2TjEBYI6GmaJOkwxJCtFZrRy9aCz9cPH2Zfu8cs3YNQ80jR46glKKsrMzqcSMjI8nIyADQiv2bamI2NHPmTG1RAPg51Ny9e3ern78Qv2eNTRutP5V40oL1Zl9ufPnllwSF6OnqOQi/YfcQdNcygvMeJmRyMS66xCanmjfc1zfuLux61v0bt9iy7p5fegE9VQJdPQKxc/Gmq0cgnoahvP7669r5mKYgO3oNws7Vhx79Ixk4ekGTgUr8kkr6xWSjlGLLli0W1+XHH3/kscceY/z48URHR2sjMGfPnm11FeTfukuXLgHm9ZhNNTX7Z8xqNNRqrB6z+O1oqkb31Yaa9i592bhxI+uq3kaNW1o3/TxgMAGZs+mfWYhbaCrdvIPxGhDCpEmTzM5HQk0hLElGIKyRUFO0SdJhCSGul6bCD1tnT/oMzmZt5c8jOxsLNZ966imrx68fan7zzTcopbSFOxpqLNS0NqJMCNG4pspQ1K+PWL8Mxc6dO+u+dFjzlMV9nAZGWwSYQ0ZPxT9goNmXJ77xY3Hx9OXDL87hm1w34sojajRxiw42OXq8qSnNrV0ALX7UVHQ6HWfOnLlRl/tXKzMzkyVLlvDIxq30zyikl2EEts6eOPqFE7Ngb6PXWEp7/PbVH717rUJNF09fLXz88ItzTLh/Ha4DIuns1g/HvoHEZuXx2tv/sDqNXEJNISxJRiCskVBTtEnSYQkhrpemwg9TqBm/5OcanK2Zfv7ll1+ilOKee+4Bfp5+np6ebtG2qennEmoK0XLNLRgWNmMjts6e+I+4zyyg2r17N0op/vbaa2YlLIInrdamoJv2rat6mwUPPmhRI7J+3cis4qP4Dp2BrbMnvY0ZxC480OR5ZRUf5dixYxbhRGsWQBs89ykCVTCzZs26MRf7V27Dhg1kZmZiNBpx9+5PN+9g+sbnEjW/vNFr3JJ6zOLXL7nocOu+TGjBJmG4ENeWZATCGgk1RZskHZYQ4npoLiyoH2qaPpA0tVDQ559/bnb8pUuXopTiwIED2j7TQkFHjhwxa2tabf3BBx/U9kmoKUTrNTeyMfbBCuzd/enmHUxA1lymLN7Iyy+/zOnTpzEYDCQkJFBaWsqjTzxJ0tgZOPT2x6l/BPYufc1KWFhb+Kb+PtN5mKYzu4WmEfug5erqpm3NwZONLqbT3AJo+j89RuCYBwmOSUOn0/Hee+9d/wv9G3Mt6zGLX7+mRmpezSZhuBDXnmQEwhoJNUWbJB2WEOJ6aC78aBhqrjl40iLUhLrVf0NCQoiJieHxxx+nvLyc/Px8lFJMmzbNbLGOM2fOkJCQgE6nY9myZTz99NMsW7YMnU5HYmIiX331ldZWQk0hWq8lYUTwpNU4DYjCztUHe5e+2nv6xIkT5OXlERERgdFoZOrUqZw4caLZANPavvpfmgwYNR/bnn1x0SU2Oq35wy/ONRpqNhe49RmcjWtfP5KTk6W/+IVaW49Z/Da1uuyDhOFC3HCSEQhrJNQUbZJ0WEKI66G58KNhqJlVfNRqqAnw9ttvk5+fz+DBgwkNDSU9PZ2SkhIuX75s0fbMmTMsWbKEhIQEgoODSUhIYMmSJRY18CTUFKL1WjtttLFaltdC/RGWcYsPEZA5mx79I7F396ezmy/dfELoHTGSZbv+QkpKCkopi63+dPT//exbxty3HLfAKOzd+uHQ25+QuHTK9lVpbWpqakhOTiY1NZXa2lqLc/roo49QSrF8+XKz/SdOnKCgoICoqChCQkIYOnQoGzZssOjDTMHrhQsXKC4uJiEhgdDQUDIzMzl6VFYFF9fWd999x4oVK0hOTiYkJISEhASWLl3KN998Y9H20qVLrF+/npSUFEJDQ0lJSWH9+vXaglCt0ZqyD/FLKnn+7c8lDBfiBpOMQFgjoaZok6TDEkJcD20p/BBCXButnTaaVXz9grj6Iyz9huX/Zxp6KgFZcxgwaj79Uu5GF53Ce//7vxw7doxJkyahlKKqqkrbPvzwQ6AurJwxYwY6nY558+ZRXl5OWVkZEyZMQCnF3r17tcfduHEjSinefPNNi3Nas2YNSineffddbV9VVRU6nY6srCxKS0vZu3cvRUVFBAcHk5eXx5UrV7S2plAzNzeXadOmUVZWxo4dO0hLS7M4rhC/xHfffUdqaipBQUEsXLiQvXv3sn79egwGA6mpqdqielD3/sjLy0MpxYIFC6ioqGDlypXodDomT55sNmOipZor+yBTy4W4uSQjENZIqCnaJOmwhBDXQ1sKP4QQ10Zrp42uOXjyup/Th1+cY1BkEi4BxiZHcTU2/RygvLwcpRTPPPOM2f7a2lry8/OJiIjgwoULAHz++ecEBQWZ1egFuHLlCnFxcWRmZmr7vv32W8LDw5kxY4ZF8HP06FGUUlRWVlqc4+LFi83anj59mpCQEO6///4WXhUhmlZcXIxSiq1bt5rt//vf/05QUBAPPfSQtu/AgQMopVi1apVZ2x07dljUtm4pqbMqRNsmGYGwRkJN0SZJhyWEuB7aYvghhPhlWjtt9EZND50yZQoRERG89dZbjbZpKtTMyckhMTGRs2fPWmymQOf111/X2ufl5REeHq4FnVD395RSih07dmj7TGHpiy++aHHc7777jvDwcLOg0nSO//rXvyzOMTMzk5ycnFZdFyEaM2rUKJRSVqeap6enYzQatfIIplGaX3zxhVm7H374gbCwMPLy8q76PKTOqhBtk2QEwhoJNUWbJB2WEOJ6aKvhhxDil2kL00Y//OIcxQdPaEFIwqwSvAL1+AcMZMiQIcyZM4c9e/ZQXV2t3aepUDM8PNxqzc36W1XVz7U1Dx06hFKK/fv3a/tmzZpFcHCw2bTdFStWNHvcqVOnWpxj/SnpJnl5eaSmpv6i6yaEyfDhw1FK8f3331vclp2drZU7qK2txWAwMGTIEKvHyc3NxWAwWK0xK4T49ZKMQFgjoaZok6TDEkJcL20h/BBCXFs3c9rolZqaRvuVmAX7CMpdztAJ92mj0GJiYvjkk0+ApkNNvV7P0KFDOX78eKPb119/rbW/ePEiRqORiRMnAnDu3DlCQ0O59957zY67bNkyrSZnY8d97733tPZNnWNjC6kJcTUKCwtRSnHs2DGz/V999RV6vR6lFC+88ALnzp1DKcW4ceOsHmfOnDkopTh//vwNOGshxI0iGYGwRkJN0SZJhyWEuF6uRfhx7tw5Fi5cSEJCAkFBQWRnZ9/AZyDE79ebb76JUoqDBw9avf1mTBttzRclr7zyCkopFi5cCMCiRYsaDQxHjRqF0Wjkp59+avG5LFmyBKUUp06dYufOnSileOmll8zalJWVoZTiyJEjLTqmhJriRjlx4gQ6nY74+HiOHDnCF198wVtvvUVOTg6hoaHa6OQvv/wSpRSTJk2yepwFCxaglOLMmTM3+BkIIa4nyQiENRJqijZJOiwhxPX2S8KPRYsWERoaSklJCVVVVfz1r3+9rudaUlJiMXJFiMacPn2akpISPvjgg5t9Ktdcc6HmjdZUSYuoebss9r3+zscopSgoKABg5cqVKKU4d86y3zGFj4899pjVx64/pdzkxIkTKKXYsGED2dnZxMXFWYSiplFvI0aMsDrN96effjIb4SahprheGpZsyCo+yrSHthARHaeVQggKCmLOnDla2YSXX35ZRmoK8TslGYGwRkJN0SZJhyWEaMsSEhKYOXPmDXu8+iO7hGhOU8Hfrz3wbGuhZlOLj3XpHYBbaCq+adMZmP0A/sNnMiCsLqx5/vnnAXjmmWdQSjF79mwqKys5cuQIH330EVC3cnlBQYE2Im3r1q1UVFRQUlJCQUEBwcHBVs8pPT2diIgIlFKsWbPGapuqqiqCg4OJi4tj3bp17N27lyeffJKioiLi4uLMrq+EmuJaa6pkQ/ySSuIWHeT+zZW88f/+nzba0hRUnjp1itraWsLDw6WmphC/M5IRCGsk1BRtknRYQoi2LCgo6IaGjBJqitZoKvi70aHgxYsXr+nx2lqomVV8tNFgxi+9gJ4qga4egdi5eNPVIxBPw1CzFctrampYv349SUlJ6HQ6lFKUlJSY3b5v3z5yc3MxGo3o9XqSk5O555572LNnj9Vz2rp1qzbKzRSQWvPee+8xb948EhISCAkJITY2lpycHDZs2MCXX36ptZNQU1xrra1tffnyZaKjo0lPT9eOcT1XPxdCtE2SEQhrJNQUbZJ0WEKItsj04b7hZgpYPvroI+bNm0dcXBwhISEkJSWxcuVKq1PgLl68SElJCSNGjECv1xMZGcn06dM5ceKE1sYU4FjbTp8+fcOet/j1KCkpsfp6MQVPb775Jp6enkRFRWEwGAgPD2f8+PE888wzFsdqKrBKSUmxCA1M4ftbb73FlClTMBqNDB48WLv9ypUrlJWVkZ2dTVhYGHq9nokTJzb6u37nzp2kp6cTGhpKamoqW7Zs4fjx420q1EwuOtyicMa0JRcdvtmnLMRN1VTJBmvbh1+cY82aNSilqKys1I5TUVGBUopVq1aZHf/Pf/4zSin2799/o5+aEOI6k4xAWCOhpmiTpMMSQrRFJ0+epKqqSpsOWlVVRVVVFZ9//jlvvPEGYWFhpKamUlJSwr59+1izZg3h4eEWtesuXLjAmDFj0Ov1LF26lKeffprt27eTmZlJcHAwr776KlBXM8/a41VVVV3zEXDit+HDDz9kw4YNKKUoKirSXi/Hjh2jpKQENzc3bGxssLe3p1evXvTq1QsnJyeUUmzevJnDhw8zbtw4DAYDjo6OuLi4WA083dzccHNzM9unlCIrKwt7e3uCg4PZu3cvpaWl2m3BwcH4+voSGBiIj48P/fr1Y8KECdpK3PWtX78epRRjxoxhx44dlJaWMmzYMMaOHdumQs2mRmpa27KKj97sUxbipmqqZEP8kkq6+4bhnTSZAaPm0z+jkND4ESilWLFihdlxampqmDRpEkopHnzwQfbv38+qVavQ6XRMmjSJmiYW+xNC/DpJRiCskVBTtEnSYQkh2rKG08EvX77MkCFDyM7O5tKlS2ZtT548iU6nY/Pmzdq+Rx55BJ1Ox1tvvWXW9scffyQ7O5u0tLQmH0+IpjQ2Rfull17C3d2dLl26sHjxYi3wfPbZZ8nKysLd3Z3+/fszcuRItm3bRmRkpFngWV9joaZSivDwcItRnH369MHe3h4/Pz9WrlypBZ61tbXk5+cTERHBhQsXAPj000/R6XSMHTuWy5cva8c4f/48iYmJbSrUbC6gabitOXjyZp+yEDdVc18E9BmcTTefEOxcfbB396dPaCLPPfec1WNduHCBdevWkZycTEhICMnJyaxbt07rS4QQvy2SEQhrJNQUbZJ0WEKItqxhyPiXv/wFpRQ7d+7k7NmzFtvw4cPJzc0FoLa2ltjYWO666y6rbU3Th0+dOtXo4wnRlMZCze3bt+Pj44Onp6fFbVu3bsXGxga9Xq8F83l5eSQmJpKVlYVOp+Ozzz7T2jcWamZnZ1udmt6lSxdsbW159tlnLV7zBw4cQCml1Zrcvn07SimeffZZi+dWWlrapkLNq5lKK8TvmZRsEEJcLckIhDUSaoo2STosIURb8eEX5yg+eIKs4qMkFx0mq/goLp6+TL93jtbGFMI0tZlGX3733XfNtlVK8fe//107voSaoikNX6OxBY/h4unLpm07zdotW7YMHx8f/Pz8LELBFStWYGNjw1133aXtM9XUrKysRCnFjh07tNsaCzXnzJljNdTs0KED9vb2Tb7mq6qqACgqKkIpZXWF9mPHjrWpUBNav+iJEL9nUrJBCHG1JCMQ1kioKdok6bCEEDfblZqaRsMKW2dP+gzOZm3l21ypqWHbtm3aFN3jx49b3UwLAH377bcopZgwYUKjbY8fP262uJCEmsKaxl6joVPXYuvsycDRC1i8+00ePlAXeHrHjadTd1d6uHlYBJ4zZ87ExsaGe++9V9s3efJkUlJSeP/991FKsXz5cu02V1dXq6HmwoULGw01PT09m3zNf/3118CvL9S8UlPDuqqmg811VXV9hRC/d1KyQQhxtSQjENZIqCnaJOmwhBA3W1Ojr0yhpimsePHFF1FKsW3btmaPW1NTQ1RUFCNGjGjxuUioKaxp7DVaP9Ssv99/+Ew6OLhwZxcnBo5eoIXyAOPGjcPGxoaVK1dqxy8sLMRoNFqEmj/88APdunVrNNRMTEy0CDXt7e1xc3Pjp59+avZ5/Zqmn9f34RfnWHPwpNmo7jUHT8qUcyHqkZINQoirJRmBsEZCTdEmSYclhLiZmvvQVT/UjF9SyTuffEl8fDyxsbGcOXPG4ni1tbV899132v9Xr15tdcVnk2+//dbs/0ajkYKCgmv7JMWvWlOv0bAZG7F19sR/xH1m+433bqVDN1duu7MjA0bO10L5S5cuERwcjI2NDU8++aT2GKZV1E3/mm4rKSnB0dGRHj16mJ2TUor7778fnU5nEWr27t0bJycnHnvsMavPp/5r/tSpUwQFBVksFFRdXd3mFgoSQrSelGwQQlwNyQiENRJqijZJOiwhxM3U3PS4hqHmmoMneeONNzAYDBiNRlavXs2ePXsoKytj9erVpKSkUFJSoh3/woUL5OTkoJSioKCAJ598kr179/L4448zZcoUUlNTzc7n7rvvRq/Xs3XrVp599lmOHDnCxYsXb/RlEW1IU6/R2AcrsHf3p5t3MAFZcxk0bglBE1YQv6SSPoNHcUu79ti5eOM/fCb+w2eSlDac/v3706tXL7Kzs/nhhx8A+PLLLwkJCcHR0ZHevXvz+OOPU1hYyLBhw/D29sbBwYG33/45dFBKkZKSglLKItRUShESEoJSikmTJrF161YqKiooKSmhoKCA4OBgs/Zr165FKcWYMWPYsWMHW7duZdiwYYwdO1ZCTSF+5aRkgxDiakhGIKyRUFO0SdJhCSFupuYWMmgYapoWMsjOzsbLy4vk5GRCQkKIiopi1KhRFBcX8/HHH5s9xuXLl9m+fTtjxowhPDycsLAw0tLSmD17NkePmi+M8NlnnzFjxgwiIyO1RVVOnz59w66HaHuae40GT1qN04Ao7Fx9sHX2xMFLpwWeHbu7097WAZuuPenQzRXvwDAOHz7Mxo0bUUoxatQotm/fzvbt24mNjaVr16707t2bqKgoFixYwDfffENcXBzdu3cnLi6O0tJSysvLcXR0xMfHh5iYGKuh5oMPPsi+ffvIzc3FaDSi1+tJTk7mnnvuYc+ePWbta2trKSsrY9iwYYSEhJCamsqWLVs4fvy4hJriulq4cCFKqZt9Gr8LUrJBCNEakhEIayTUFG2SdFhCiJspuehwq2p+JRcdBn5eLVqI6621r9GmAk8n3xDtuFVVVYwbN46wsDDCwsIYN24chw8ftnoOx48fZ9y4cYSGhpoFntYWCpK6sOLXQkJNIYRomyQjENZIqCnaJOmwhBA3U3Oj4BpuppGaEmqKG6W1r9GWhPJCCPjpp5/MarkKIYRoGyQjENZIqCnaJOmwhBA3U3M1NRtuaw6eBH5/oabU9bx5WvsabUkoL8Tv2aVLl272KQghhGiCZATCGgk1RZskHZYQ4maytrJ03OJDBGTOpkf/SOzd/ens5ks3nxB6R4xk++6DKKWIj48nJSWFb7/9lkWLFhETE4NerycnJ4c33njD6mMdPnyYcePGYTAYCA8PZ/z48TzzzDNW237xxRcsXbqUxMREQkJCiI+PZ+HChfz73/82a1dbW8uuXbvIzs4mIiICg8FAWloa999/v9kq0xcuXGDjxo2MHz+emJgYQkJCSElJYdWqVVRXV2vtTp8+jVKKkpISXnzxRcaPH094eDjZ2dlA3WrYSin++c9/sn79epKSktDr9YwZM4bXX38dgE8++YSZM2cyePBgjEYjhYWFFqu8t/S8RdOrn7d2M4Xyou2q/x68Fn5NU6xb2i+0tH88eLCuvz5+/Djbtm1j+PDhhISE8PDDDwONX5uzZ89SXFxMWloaoaGhREdHU1hYaFEvGer69bvuuouoqCj0ej1JSUnMmjWLf/7zn9f24gghxO+IZATCGgk1RZskHZYQ4lowfXh98803W33ftZXmK7P6DcvH1tkTt9BUArLmMGDUfPql3I0uOoW9e/dqoWZMTAzp6ekUFhZSXl5OaWkpsbGx6PV6vvzyS7PHMC3MMnLkSLZt28a2bdvIyspCKcXmzZvN2n700UdERUURGxvLo48+yr59+3j88ceJjo4mLi7O7NilpaUopcjPz6e8vFxrm5OTwwcffKC1+/TTT4mNjWXZsmWUlZXx9NNPs2jRIoKDgxk9ejQ//fQT8HOgYgoV1q1bR0VFBbt27QJ+DjXHjRtHbm4uZWVlPPnkk1q48MorrxAdHU1RURF79uxhxYoV6HQ6ZsyYYfYcW3reok7D1+jVbrIoR9vTMMD8PYeaLekXWtM/mn4vjB49mvT0dJ544gn27dvHiy++CFi/Nl9//TWpqakYjUYefvhh9u7dS2lpKcnJyRgMBrP+6fDhwyilmDBhAmVlZVRUVLB582by8vLk71ohhPgFJCMQ1kioKdok6bCEENfCLwk1r9TUsK7q59CoR0Akjn7hZmHQuqq3uVJTw5tvvqmFmtaCh5MnT6KUYsOGDdq+U6dOodPpyM7ONpv2ePHiRbKystDpdHz22Wfa/rFjx5KYmGgxYvHzzz/HaDSyePFibd/o0aPJyMho9jn+9NNPWnBZX0VFBUopnn/+eeDnQCU4OJh//OMfFu1Noeb06dOpqanR9v/v//4vSimCgoJ49tlnze6zatUqlFKcOnWq1ect6jR8jV7Ntq7q7Zv9NIQV1zvU/DXVjWxJv9Ca/tH0e2Ho0KFcuHDB4ljWQs3CwkKMRqPFSMvz58+TmJjIlClTtH2zZs3CaDRa7VuFEEJcPckIhDUSaoo2STosIcS18EtCTZMPvzjHmoMn6aNPpksvf+JmbmDNwZNmo9vqh5o6nc5qbTaj0cjs2bO1/2/fvh2llNWVpSsrK1FKsWPHDgA+/vhjlFI88sgjnD171mKbNm0aQ4YM0e4/ZcoUIiIieOutt1r8PK9cuUJ1dTVnz57VApRHHnkE+DlQuffee63e1xRqvvbaa1afd/1zM3nhhRdQSvHKK6/8ovMWP79Gs4qPklx0mKziozx84ARLdr/ZbKB5pV4ILdqO6xVq/hrrRjbXL7S2fzT9XigrK7N6vIah5vfff49Op2Pu3LlWj7948WJ0Oh0//PADgPb/F154gdra2mt4JYQQ4vdNMgJhjYSaok2SDksIcS38klDzwy/OUXzwhBYUJcwqwStQj3/AQIYMGcKcOXPYs2cP1dXVZqFmYmIitbW1bN26lby8POLj4wkJCaFbt24opThz5gwAy5YtQymlTVs8ceIE9957L7GxsQwYMABbW1siIiL4+OOPee6551BKoZTC39+fHj160KlTJzp06ICtrS09e/Zk0KBB2rm/8847xMbG4u7ujqOjIz179qRfv35ExQ0hYfQ0Rqys0sKvu+atIWVYBsHBwdpjmDbT6CZToLJu3Tqr18oUatYfWWqSkpLCxIkTLfabrtmhQ4fMzts02rXhNRZXx1rg2TCUFzdGdXU1xcXFpKamEhoaSlxcHPPmzeNf//qXRdumQs0XXniBMWPGoNfriY2NZenSpZw7Z/7zvN51I03v34MHD/Lss8+SnZ2NXq8nLi6OlStXagHf1WhN3wuY9Y+NbTqdzuLa/PWvf7X6+A2vzbvvvtvs8ZVS2hT3zz77jGHDhqGUIjo6mpkzZ/LnP/+Zb7755qqviRBCCMkIhHUSaoo2STosIcS1UP+DfWlpqfZBPS0tjdLSUrOp0qdOnWLlypVkZGTg4a+wc/XB0d9I/xH3EbfoIPFLKolZsI+g3OUMnXAf6enpODk5YW9vj4+PDw4ODoSGhuLl5cWgQYOIiIhg0aJFbN++nb179+Lj44OjoyNJSUmcP3+eoqIiLdQ8cOAAOp2O2NhY1q1bx6OPPoq7uzs6nY7KykqOHDmCUoo//elPBAQEYDQamTt3LitXrqSgoICAgACioqL4/vvvteezcOFCvLy8iI2NJTw8nK49XLDp6kzXvoro+3cTv6SS/hmF2Dp74qJLYsL8R3jp5Zc5fvw4f/vb31BKsXDhQqD5UWKmUPP06dMWt6WkpJCXl2exv34oUt+lS5d46aWXePjhh8nOzkYpRUxMDJ988snVvASEaBMuXLhAZmYmSinmz5/P7t27WbNmDXq9noiICIuyDo2FmmPHjsVgMLB27Vp2797NAw88gFKKzMxMLl68qLW/3nUjTe/f3Nxc4uPj2bRpE3v27GHWrFkopVixYkWrr9GVmppG68TW73tHjRpl1i+Y+scVK1Zw/PjxRreG16axL7saXpt33nkHpRSFhYVNHr/+dP6ffvqJ1157jfXr15Obm4tOpyM8PPwXzRoQQojfO8kIhDUSaoo2STosIcS1YPrwmpOTQ2pqKlu2bKGsrIyJEyeahXZQV0dyxIgRpE+eQ8DIufTPmIWLLglbZ0/6xt1l9gE7+v6n6R/0u0tzAAAgAElEQVQahbe3N87OzsTGxuLi4kLnzp1xdnZGKWUxzTMlJYWhQ4eilOLJJ5/Upp/v3LkTvV5PSkoK3333HQBVVVVau5qaGt5//30CAwPx8vKyqMEJdTU7dTqd2eJCUVFR2kI8ayvfRjdhBbbOnvQZnG1WJ7Sbd7AW2prqK37yySc3LdRs6JVXXrH4WQnxa2NaFKy0tNRs/1tvvYVSyup7pD7TezAoKIiTJ81Xq/+v//ovi/fn9a4baXr/xsbGav2Wyd13301ISIhZyNoSLV34al3V22b9wvvvv49SimXLlrXocVobap47d87qwmat8f777xMcHNzsz1kIIUTjJCMQ1kioKdok6bCEENeC6cPrkCFDOH/+vLa/pqaG/Px8lFJanbaLFy/y4RfnLD5A94kciW3PvoQXbNb2+aRMw9bZkyWr1mqrgpsCBzs7O7MPxDU1NVRXV5OQkMC4ceMYPHgwhYWF2kJBer2eQYMGUVFRAdSNVBw5cqTZQkG1tbXExsbSoUMH1qxZY7WuW0pKCrm5uQB89913pKamkpSUxNG/vkX8kkoGzymrW71dP1R7Hk4Dov4Tah7Q9n1w+izz5s27KaFmw3AE6kaPKaUoKCho8mctRFuWmZmJ0Wi0ujjPlClTUEpx9uzZRu9veg9OmzbN4rbLly9jNBrJysrS9l3vupGm9++jjz5qcewnn3wSpZTFlPWmWOt7TVvUvF0W+15/52OtX6itrSU7Oxtvb2/8/f2thpX1FxBqbagJMHPmTIKCgvjb3/5m9T71j2+tH/vxxx8tfkZCCCFaRzICYY2EmqJNkg5LCHEtmD68NhwdBXU1LJVSrFy5UttXfPAE8UsqiX2wguj5u4mat4vAsQuxdfakk5MHbqGp+KZNx87VB5uuPXH0DcPepS/Dp87HP2Ag8fHx9OjRA6UUx44dIzc3l9DQUJRS2NnZ4eDggFJKG/G0ceNGevbsib29PcuXL2f79u2MHDkSpZTZqEuA1atXa3U0nZ2d6dOnD3369MHV1RV7e3ucnJxIS0sDIDo6mhEjRuDl5UXXHi506tGHDt1cuLOLE4FjF2nBgP/wmf+Zfp5IwMi5+I+4j+DYYeTk5NyUUDM6Opr8/Hw2b97M/v372b59OxkZGSj180rsQvwaNKwL2dXdl8CIIVZrma5evRqlFP/zP//T6PFM70FTTcyGTDUtTa533UjT+9f0ZUx9psc2fWF07NixZhc4MvW91rYuvQO0vndg9gP4D5/JgLA4s37ho48+IiAggA4dOjB16lTKy8spLy9n7dq1ZGRkmI30vppQ86uvviItLQ2dTsf8+fMpKytjz549PPbYY+Tk5DB58mSt7ejRo8nLy2Pjxo1UVFRQVlbG+PHjUernxd+EEEK0nmQEwhoJNUWbJB2WEKK1GoYIWcVHmfDAOvwDBnLs2DGL9tXV1SiltCmFly5dIjD9T3TzDsbW2dNicwsdSk+VQFePQG69/Q5u72iPW0gqwXnFhE5di62zJ96Benr37o2Xl5c27b28vJyXX36Z8PBwhg4dSnR0tFnIN378eLp27crAgQMJCwtj3LhxVldE37ZtGwMGDCAjI4PIyEj8/f0JDAwkJiaGqVOn8tRTT3HixAmgbjpqXl4eUVFRdOrmik0XJ+6074GNgwvdvIOJmruT+CWVxC06iP/wmXTvp8fO1Yeunor+SRM4f/78TQk1TecdFxdHSEgI8fHxzJgxg9dff73xH7wQbUhjdSHtXH3o0T+S+CWVrK00X3W+NaFmcXGx1dtHjRpFWFiY9v/rXTeyqfIRDR+7sUWJ6ssqPtpoqOmXXqD1vXYu3nT1CMTTMNSiX/jyyy9ZsWIFQ4cOJTQ0lMjISDIzMykqKuKdd9656mtj8n//9388/vjjZGZmotfrMRqNhIaGMmzYMF577TWtXUVFBdOnTychIYHQ0FBiY2PJy8vj6NGjTV4DIYQQTZOMQFgjoaZok6TDEkK0VFOLSwwcvQBbZ0+mL99qFiKAZah53333YdezL54xOQSOXUjwpNWETC7GL71uNOPA0QvMA4qASO3/plBz4OgFDE4fh6OjI3q93qL25cWLF9HpdGYh31NPPYVSiv379zf5PF988UWUUmzbtq1V1ye56LB2ngFZc7B19sQ3bXqjAUJykWWgKoRomcb6Ikc/A53d/Yh9sMKsfi3A1KlTUUpZnbZscrXTz69X3chrHWrW76dastXvp1pbu/NaysvLIyUl5aY9vhBC/J5IRiCskVBTtEnSYQkhWqqpxSVMoabfsHyzEAHMp59XV1cTFBSEb9wYi2MEjJxrEWo6+oVj7+5P7ML9FqFmd98wHLp1JywszGKBjvXr11ssCvLVV1+h1+tJTU21WlPPtEL7pUuXiI+PJzY2ljNnzli0q62t1UKRmpoarYZo/RFQ+rsftbrwUf0tq1hGEwlxNZqqC9kv5e66vii9QNv34Rfn+O///u/rulDQ9aobaQo1Dxw4wK5du8jOziYiIgKDwUBwcDA9evTghRdeICUlxeo09vrnWl1dzYC0yXTzDtZGYvY2ZmK8d6vZNYyYtV37UmbwtFWMHz+e8PBwsrOzm3zOV65coaysjOzsbMLCwjAYDEycONHq35hvv/02BQUF2ijL+Ph4Jk+e3OjfoxJqCiHEjSMZgbBGQk3RJkmHJYRoiaZChPqhZldPRfT83Vo9u/oLBb355ptcuHCBoKAg4kZONrt/zAN76N4v1CLU9Emeiq2zJ/0zC81CTc+YHGydPXFwdkMpxZgxY9i1axc7d+4kPz+f1NRUYmJiLAKM/fv3o9PpiIuLY/369ezbt4+tW7cydepUKisrtXZvvPEGBoMBo9HI6tWr2bNnD2VlZaxevZqUlBQtKKiurkav1zN79myyZixi4OgF+A6dgUPfIGx7eqH/02ONXrM1B80DEyFEyzRVFzLmgT04+hmwdfakT+RIAkbOZejEQsLCwoiIiOAf//hHk8c2hZpjx47FYDCwdu1ann76aRYsWIBSihEjRph9iXK960aaQs0ZM2aglCI/P5/y8nL27dvH1KlT6dKlC3v37uXYsWNMmjQJpRRVVVXa9uGHHwJw4cIFMjMzcfH0pZcxA9eQVDo5eXDr7XdyW3sbHP0MBE1YoYWanZw8aN+pCzad7Fi7di0VFRXs2rVLe87+/v7069eP5cuXA3V9/YwZM/Dz80On0+Hn54eHhwdubm64urpq9wU4deoUrq6u2NnZsWHDBiZMmIC/vz/Ozs4EBgZaTB9vrO6oafTq5cuX2bJlCxkZGYSHh2M0GklPT2fx4sVWF4wSQgjRNMkIhDUSaoo2STosIURLNBUi1A81Tat8Z01fSFlZmfYhe8GCBdqxZsyYgf+AQDyixzBg1Hx806bj4KXDaUCURagZff/u/9Te7ItH1Bj6xt1Fe9uudOjmRo/+kdi79OXAgQNkZWWh1+uJjY3l/vvv58yZM43WmHzrrbfIz88nKiqK0NBQEhMTmTt3rsUKwqdOnWLx4sUkJycTEhJCVFQUo0aNori4WGv7448/8thjjzF+/HhCDRHYuXjj0FfRyzCCsOkbmrxm1hYyEUI0r6m6kPFLKomevxuvhIk4eOmwc/Gme99A5s6dy7/+9a9mj12/ru0LL7zAmDFj0Ov1xMTEsHjxYoup69eybmR6ejoLFiwwqxtpCjUjIiLIyMho8rGbmn6+ceNGlFI8tHodbiGp2PbsS29jJn1jx3NnZ0dsuvbE1tmTAaPmayM17+jcnb7e/Sye28GDB3FxcaFfv368++67AJSXl+Pp6YmXlxdZWVmUlpayd+9eHnroIRwdHenRowfV1dUA7Ny5EycnJ3x9fcnNzWXatGmUlZWxY8cO0tLSUEppxwWoqqpixIgRxMTEmAW2n3/+OQBLly5FKcUDDzzAnj172LNnD+vWrSMjI0N7TCGEEC0nGYGwRkJN0SZJhyWEaInmQgRTqBkyuRi/Yfk4++kJDQ0lNTWVJ554gitXrmjHOn/+PEVFRfRTBuxcfejuG4b/8JmETC62CDXjl1QSOfvP9IkciX2v/nR286XnoHhCp62jV/hw7N363cSrYqmpKfr1t4ZT9IUQLfdL6kI2xlrtyqbqWbaEKXT8f//v/1FeXs7w4cO1L1I2bdqklbwwOXv2LMXFxaSlpREaGkp0dDSFhYV8/PHHTJkyhYiICN544w2MRiMzZ840u295eTlOTk506dLFbP9LL72EUgqj0YjRaKSsrIzuLr1w6Kvo0mcgdq4+3GHrQDsbW7r71pX7CL9nM7bOnuiHZBAUFMSDDz5odsyKigo6depEbGysti8rKwt7e3smT57Mt99+y9mzZ7Vt8eLF2NjYaIsvVVZW4uTkhKurq9kXXlAXKoeEhHD//feb7W9q+nlUVFSLa5QKIYRonmQEwhoJNUWbJB2WEKIlrkeIcKWmhnVVLQsBrW2OfgZcAgw34Nm3XEue07qqty0WU7KmsZGmQvzeNfclS8OtJfVrWxpqVldXU1JS0ujIzPpMoWZubi7p6emUlpaye/dupkyZglKK7du3a22//vprUlNTMRqNPPzwwzz6xJNkzViEU78Q7N39MExcglegHv+Agbi7u+Pq6sru3bu1kYj33Xcfzs7O2NjYcO7cz6PAV65ciVIKnU5HdnY2ycnJ2NrZ0T8shn4p0/DPKKSbTyjtbGxxDoyt+2JpzIO4evryyNq15OXlER4ebjblftmyZdjY2LBkyRJtn7e3NzY2Nnh5eTFgwACLrUOHDowcORKoG+EeHByMjY0NgwYNIi8vjw0bNmilATIzM8nJyTG7lk2FmqmpqSQlJWlT7YUQQvwykhEIayTUFG2SdFhCiJa4HiGCyYdfnGPNwZNkFR8lYamVGnkL9lnsC7prGbbOnqTl3nsdn/XVq/+ckosOk1V8lDUHT7ZqyrmEmkJY11w5jIZbS+rXWgswa2pquHz5stmIStP09I0bN/LUU09ptTcNBgOZmZk88sgjWts1a9ZgY2NDeHg4Bw8eJDs7WyuT4e/vT3x8vNa2sLAQT09P/P39Wbj1CL5p0/9TesOT2zt0pkufgcQs2EdQ7nLU4CTs7e3x9fUlJiaGjz76iMGDBxMZGYmNjY1ZTcqE5DQGGhPo6u6Lc0AkNl0cadf+Dnz8+uMfMBAXT1/utHPg1nbtsXV0x8XTl1XrN2lT8A8dOoRSiv3792vHTE9Px8bGhhdeeEHb5+bmhp2dHT4+Po1ud911l9Z+4cKF+Pn58cQTT5Cfn094eLgW9Obl5ZGammr282kq1Hz55ZeJjIxEKUVqaioLFiygsrKSH374odmfuxBCCEuSEQhrJNQUbZJ0WEKIlrgeIYI11hYkcg1Oprcxk/4j7iMgaw4eUWOw7dmXrh6BvP7Ox80f9AZoqpbd1bp8+TI//vjjNT1mc5qrDyhEW9DcwmUNt5Z8mdDSqeanT59m0KBBDB48GKUUEydOZOvWrezZs4fi4mKSkpK0tqZQMyoqivj4eDZt2sSePXuYNWsWPXv2pGfPnly4cIHvv/8enU7HkCFDcO7tjaO/EUd/A/1SpuE7dAYdHd25pV17AscuIn5JJYaCLbh6+lJYWIhSimnTpqGUYsqUKXTu3JmHHnqIKzU1LP3zMWydPfFKmIijn4HO7n7cae/IbXd0wDMmh3tW7+Bvr71Geno6Pj4+PPfccxw/fpx33nlHCzUvXryI0Whk4sSJAJw7dw5vb2+6d+9u1k8EBATQsWNHdu/ezfHjx61u7733ntZ+4cKF9OvXT7vm58+fJz09nZCQECZOnGgRYDa3+nl1dTVHjhxh2bJlDB8+XAs4668kL4QQomUkIxDWSKgp2iTpsIQQLXE9QoTGNKxLGZA5mx4Bkdj36o9tTy+6eir6DM5myY4Xmj/YDXKtQk3TyLCbRUJN8WtRv5+IW3SA/hmz6NE/ks6u/bTau0ETVlitX7tz507S09O1ur9btmzh+PHjzU4/N70/evXqhY2NDT179mTQoEHae//DL86xev/fiZ7+CG66RDp06cEf//hH7Drb88QTT1BbW6sdOzIyknbt2uHv78/rr7+Os7Mz7dvfwR/++Eduu6MDnZw8sXWu2zo59eGWdnfg6G/UnnNXj0DShmehlCIuLo7w8HCWLVtGz549GTJkCGsr3yZwzIPYOnuim7iSfil3a8e7vYMdnZw86OzuR6AxAXd3d0aPHq2dW/3FkgCWLFmCUopTp06xc+dObUGg+v3E3XffjY2NDX/605+s/rzqh4tnz561CDUB/vSnP6GUYvz48RYB5uTJk5sMNRvauHEjNjY2jBkzRtvXmtIBQgjxeyYZgbBGQk3RJkmHJYRoqRu1CM61rEsJdR+mlVKsXr3a/PmsXYtSisLCQrP9Tz31FEopTp78ebTpoUOHyM3NxWAwEBYWxpgxY8zCD1Ooefz4cebPn09aWpq2onFeXh5/+ctfLM7LdJ9z585RVFTEkCFD0Ol0HDt2DLA+/dy077PPPmPWrFlERkYSFhbGlClT+OCDDywe48cff2TDhg0kJSWh1+vJyMhg7969jYaXEmqKXwtTPxG36KDZat4BWXPonzGLnoPicPX05emnnza73/r161FKMWbMGHbs2EFpaSnDhg1j7NixzYaan3/+OWVlZdjb2+Ps7MzevXupqqri4KFDWv84MPsBbJ374uClw9HPwB9vvY2O3d1x9fRl4aJF2rFzc3Np164d3t7eJCUl4eDgQA93T9p36oJHTA4hk4vNtts72NHetiu+adMZmP0ADt7B3NnRlsDAQJKSkpgxYwbPPPMMXl5eOHTrjl96AT36R9LRsRcxD+wh5oE9OPoZuLOzI7d3tKebTyiOfgZu79iZDh07EhAQwDPPPMO3335rEWqeOHECpRQbNmwgOzubgQMHMmjQILN+4t///jdOTk507tyZ8ePHs3XrVioqKigpKaGgoACdTsf58+cBePjhh/Hx8cHR0ZE+ffowd+5c5s2bh1KKgoICq6MyCwoKiIiIMAuGoe6LINNx63vuueewsbFh+PDh2r6Gz0sIIYR1khEIayTUFG2SdFhCiJa61mFjc65FXUqTrKwsMjIyzPZlZ2ej0+kYPHiwWc0804dn04rtRUVFKKXIz8+nrKyM8vJy8vPztQ/58HNAuWDBAqZMmcKmTZvYt28fpaWlpKeno5Ti+eefN3t8031Gjx7NlClTKCsrY+fOnbz//vtA46HmsGHDiIuLY9GiRezZs4cNGzZgMBiIi4szW8wDYPbs2dr01J07d1JSUkJ8fDw5OTkSaorfhLWb/gsXT1+MeUVm/cQHp8+Sn59PRESE9r749NNP0el0jB071mxE9Pnz50lMTGw01Ny0bSfFB0+QVXyUmDk7uPX2O3Dx9NX6IlOgGX3/03R296Or5yCi5u2ib9xd3NKuPX3j7sI1OBlXT1/tvXX33Xdz22234enpycyZM9HpdHTzHICtsycR9/2XRd/azTuEdja2dPUIxM7Fm049+tC+ox3r168nNDSUP//5z9TU1LBq1SrusOnInV2cuLX9nXR266cdI3r+bvrG53JHZ0dubdee9p264NA3iJS7ZuLt7U3v3r0JDg62Gv6lp6cTERGhTbm31k8cOnSIvn374uzsTJ8+fbRFg/R6PQEBAdq1ffPNNzEYDHTs2JEOHTrg5+fHqFGj2L59Oz/88IPVULO0tBSlFEVFRVRVVXHkyBFOnz5NdXU1er2e2bNnU1payoEDB9iyZQtJSUnodDr++7//WzuGhJpCCNEykhEIayTUFG2SdFhCiNa6lmHjjVJcXIxSiq+++gqom/4YFBSkBYv/8z//A8CVK1cwGo3MnDkTgFdeeYVBgwYxZcoUsrOziYiIwGAwEBAQQKdOnfD39+f06dPacS5evGj2uGfPnmXFihX06NGDLl26EB0dTWFhIR9//LF2n3nz5mmjj+qPCLW3t8fT09MsZElJSaFr1674+fmZBZjPPPMMSil27NhBaGgoM2bM4PXXX9dGov7jH/9g3rx5xMXFMWjQIOzt7enZsycvvfSS2fk2FmpeuXKFsrIysrOzCQsLw2AwMHHiRKu/O95++20KCgpISEggNDSU+Ph4Jk+ebNa2traWXbt2mV3TtLQ07r//fqmBJ1olJyeHxMREzp49a7EdOHAApRSvv/46ANu3b0cpRVVVlcUiP0FBQbi4uJi93/766qvYd3PCztUHO1cf7HsH0HNQPLfcdju2zn2JX1LJ4t1vEr+kEltnT5wGRNHBwQX7Xv519Su7OHFLu/Y4B8bRoZsrHRxcSExNZ/jw4XTv3p1bbrkFDw8PPvjgAyZPnsxtd3Tg1nbt6eTkQVePQPoMziaycAfxSypxDx+OrbMncYsPEZA5m24+em69/Q4cHByws7Nj2rRp2nvHXcXW1c5sb0Pf+Fx6GUZg3zuAzq79cAqIImTKGgaMmo9zYGxdCOveT+ujIiMjMRgMhIeHM378eJ555hkAtm7dilIKpRQjR44kJSWFb7/9lkWLFhETE4NerycnJ4fy8nLmzZtHQkICISEhxMbGkpOTQ25uLomJidqU/9TUVHx8fKzWMZ00aRKBgYFm/c1dd93FpEmTiIuLQ6fTafcbNGgQiYmJDBs2jJ49e9KpUyfs7e0JCgrixRdf1I5p6tusbSaffPIJ8+bN084zNjaW3NxcDhw4cN1ev0II0RZJRiCskVBTtEnSYQkhfg9eeeUVlFJUVlYCcOTIEZRSfPrppxiNRkpLS4Gfp1k+9dRTQN1Ixz59+hAQEMCUKVPYunUrO3bsICMjA1tbW7y8vNi3b5/VmpqffvopQ4YMQa/Xk5iYSJ8+fXj88cdJTk7GYDAwffp0lFLatPGGI0IHDRqEn5+f2YjQlJQUBg4caBEEnD17FqUU48aNQynFc889x/Lly1FKsXPnTsLCwkhNTaWkpIR9+/aRlJREhw4diI6O5vvvv9eOYy3UrKmpYcaMGeh0OubNm0d5eTllZWVMmDABpRR79+7V2p46dQqDwUBqaipPPPEEBw4cYNu2bcydO5fHHntMa2cadZWfn095eTn79u3j8ccfJycnx+o0eiFMPvzinDZqMrnoMA69/HDx9MU/YGCjoVVVVRVQ9x4bNGgQY8aMsVjkZ9q0adja2mrvq5qaGgLCYrmlXXscvIIJyJqDT8o07Fz78Yc/3kL7Tl2IeWCPNgrS1tkT255e3Hr7HfQMGsKAUfNx9DdqoWanHn247c6OdO3hwhNPPMGQIUO49dZb8fDw4N133yU8PJzbbr+DP956Gw59g3AOjKVjd3c6OLjg6BdOJycPbJ098RuWj62zJ26hqXRx9cbDwwMfHx/Gjh2rvXf8UqfRzsaWW2+/k85uvrjphxKQNYd+KXdzh1032tl0wj0snQGj5hOQNQf3kBTc3Nywt7fHzc1Nq5nZu3dvvLy82Lx5s3b9Dx48iIODA56enqSnp1NYWEh5eTmbN2/GycmJjh078uqrr2rtlVIMGTKEfv364eHhgZeXF97e3vTt21db0KfhivMpKSk4ODjg4uKCl5cX4eHhxMbGWvQ3pnYpKSm4uLjg4eGBh4cHDz30EAMHDsTe3p6NGzcCP5cOMIWySUlJ9O/fHx8fHzIzMykpKSE2NpbY2Fgef/xxDhw4wODBg/Hy8mL27NkW4e0bb7xh9fV54sQJ7r33XmJjYwkNDSUxMZHZs2fz8cfmi9p99NFH2hdNISEhJCUlsXLlSoup9JcvX2bLli1kZGQQHh6O0WgkPT2dxYsX39T6y0KI3zbJCIQ1EmqKNkk6LCHEb03D0COr+CjLn36NgMC66eEAS5cuZdiwYQDk5+czZcoUAEpKSlBKaR9AMzMz6dKlC507dzYLSdzc3LCxsaF///5s2bJFCzVPnz7NggULiIqKwtHRkY4dO+Lv76/d79///rfZVFelFJcuXdJCV1O4Cj9PP1++fDk6nY7Tp0+TkpLCuHHjMBgMFlPTlVL079+fqKgoLl++zPTp0wkMDCQuLo7s7GwuXbqktS0rK6Nfv374+vpaBBYNQ83y8nKUUtqILZPa2lqL6b07d+5EKcU777zT5M9o9OjRFuUAhGjKlZoaq3V97Vx96OYTSsjkYmYWl/G3116zWHX766+/BupCzV69euHn58eKFSvM6jMeO3aMQYMGaQHbxv96ig7dXGnfqQsDRy/QHi948hpuubUdt9x2O55xdxG3+JAWat7RuTs2XXsSlLuc+CWVeA+ZZB5q3tGBPvpkoG76ebt27fDw8GDs2LEkJiaSlDODO+y64eClw87VB1sXL9rd2Ql7d3+cA+OwdfakR0Akjn7hxC+pJHlcXRmM+fPnm12r2Hse/U+oeQceUWPNrlf/rNm079iF2zt0xs7lP6NP+4dja2uLvb29FlKWlZUxbtw47O3t8fDw4LPPPtOOr5TCxsaGgoICbV9xcTG+vr706dNH+xIGoH///nTp0oVu3brx0EMP8fTTT7N8+XIGDRqEg4MDAwYMMAs1R40ahY2NDUOHDrUo9zF48GCz/iYlJQU7Ozs6depE3v9n797jqqry/49vs1QOCHhXBEQBRQQEt9wvggpeuHhFxdTKItRR0/FSWg6K6eg3NXUmb2lKZWleSr7YTJbTZR4zZep3tCZnsl9mTVnTTKnNlHmB9+8P5uzheA6GmXrQ1/PxWH+42WeftcG9lPdZa30KC7V9+3Y9/vjjOnPmjJYsWSKbzaYHHnjAuvZnn32mdu3aKTAwUGPHjlVpaam2b9+u2bNnq1OnTmrdurVeeukl6/zCwkL16tXLIbzdsGGDevfurcTERH3xxRcO3/ddu3YpNjZWvXv31ooVK7Rz506tX79ehYWF1gdqkvT22287fdC0bNkyJScna8iQIQ4fNM2fP1+maeqhhx7S9u3btX37dq1YsUJDhw7VN99884PPDQD8GGQEcIVQE26JAXQQr04AACAASURBVAvAjaKm0MPe/GJ6K6xbki5UVCg3N1cLFy6UVBXwxcfH68yZMxo7dqyysrKsaw4ZMkStW7dWTEyMSktLrZDkgQceUFhYmMrLy/Xpp5+quLhYMTEx6tevn9LS0rR8+XJ16tRJo0eP1iuvvKKf//zn6tq1q44cOaKTJ09q3rx58vPzU0xMjKSqGaEJCQn64osvrKWzffr00ZgxY6xl5Dt37rSCzuLiYnXv3t0haOjSpYvatGmjxYsXS5ImTpyoTp06KSYmRs8++6zDstx169apa9euysjI0F133WVdw1WoeTnLe8vLy2Wapn71q1/p+++/r/FnVVRUpLS0NB08ePAn+MnjZlDTs906Mk2+7bqod/GuHyxUVlpaqiZNmig8PNxp/1n77GF7wJaaWyDPFgHyahXkEGr2mPGkGng1Uf0GjeTZIlBtzSx1GTRVHk1ay6NpG93a0KYuAycrq6RcCeOWy9svRO3ThsuzRYA8fFsprE/V81ZWVqY2bdqoQ4cOMk1Tjz76qGbNW6jGrdsraeIqZczaooxZW+Qf21/NQkx1SC+Qt1+I/Lv3VZN2EUoYt7zGLT+Wlh1SW7OPvP1C1GPm007fs5Ceo+TtF6KkSauVVVKu5P7DZbPZVFJS4nCdyspK5ebmysvLS+vXr7eO33XXXWrSpIlSUlL0ySef6LXXXrPC1dTUVM2cOdM6114pfsGCBQ7Xfumll9SuXTu1adPG+p6/8cYbatq0qSIiIpzGml/84hcKDQ1VZGSkNd7k5OTIZrMpPT3d6Xvw6quvymazOXz48/vf/94KTC82b9486/x//etfkqpCTVd7cB4+fNhhBr0kffnll0pMTFROTo6+/vprp+vb920+e/as+vbt6/RBk/26sbGxDh80ZWRkaNKkSU7XA4CriYwArhBqwi0xYAG4UfxQdfbOuT+TR9M2atm2ncLCwjRz5kwNHjxYXbt2lb+/v/bu3avIyEhFRXdTSGSsmrULl61ZGzVq3FTBXUxFREWrb9++uv/++1VUVKSYmBh9+OGHevTRRxUSEqJGjRqpSZMmeuCBB/Tee+85zOxs3bq1PDw81KpVK3l7e8vT01MNGjRQy5Yt9fnnnys/P986t1u3bmrfvr1uu+023XrrrfLy8pKPj4/69++vrKwsFRYW6uDBgzJNU6tWrbLu39/fX23atNFf/vIXSdIvf/lLBQUFKTw83Gk5rp+fn2w2mzp37qy8vDzrGq5CzeTk5BqX9V68vPfcuXOaNGmSTNNUYmKiCgsL9dhjj+mDDz5w+Fm9++67ysrKspam3n///dq+fTszj+DS0ROnanyuI4dOl7dfiMKyx1nHqod9b7/3kTVzu+eMTarfoJGatGijPx//0jrnm2++cSoU5B+VYi35rh5qZszeKg/fVmrYuJmCkoeodWSafALCVL9BI9ma+cmjSWs1CzHVc/Zz1ULNYbrN00e2Zm3Ve0rVNgz2UDMgIMBhBvhtDRvJq1VQ1XJ2e2sbaoWaiT/7tZoFxyggJLzGZ+foiVNqa/ZRk6CIS37Puo0pqRobI6Lk7e2t/fv3O4WJq1atks1m0/jx463rFxYWWntvDhs2TOnp6Ro0aJC+/fZb5eTk6N5777XO9fPzk6+vr8ttJVJTU+Xl5aUXXnhBUtWHO40bN1ZUVJS6du3q0MLCwmSz2dShQwdrvMnJyVHjxo314IMPOl374MGDstlsuv32261j9uBy7ty5Tvd5/Phx+fn5KSAgQPHx8brzzjuVkJCgLl26OIWP9r5XD2/tS9uff/75mv4aS6oKVu3bgrj6oGjw4MEOHzTl5uaqf//+Onr06CWvCwA/JTICuEKoCbfEgAXgRnCp0MPeEsavqJpJ1chLPk2aKCcnR+vXr9eOHTuspY0NGnrIq1WQwnLGK2rY/WrZOVG3/KdwR7c7HtaAsdM0YsQIBQYGqnHjxsrNzdWwYcM0cOBAtW7d2lqq+Ytf/MIq0rNt2zaFhobKZrMpOjpa06dP1+LFi5WUlCQvLy9lZmYqOztbqamp2rdvnx588EGFhYWpTZs26t69uxYvXqyZM2dqyJAhSk9PV2FhoSorKzVgwABlZ2eroqJCFy5csAoX2b355psKCgpSq1attHbtWmuW6YsvvmiFBJs2bdKhQ4es17gKNRMTEzVgwACnJb2ulvfaHTlyRE888YQmT55shaKlpaUO55w5c0avvfaalixZooKCApmmqV69eunYsWNX6W8J6qqlZYdqfK4z5+5SYOIAefuFVM2aHHif7pr9qFavXq0eA0bJu21Hh/Mb+bbSrY281CYqXaOmLdT69es1cOBAjRo1yiHUbN0lyQoVq4ea9qXm9Rt4KCh1qLqNKVG3MSXy9gtRh/QCRRc8JG+/ULXoFKfwAZMVOXS6mnaI1i23NZR/975aVnbYuq/i4mKFhobKNE0tWrRI+/bt0x/ffFM/X7ZZ8fcudWjV33/J8/u193e/u+Szk9hniJoERV4y1DTHzFff+eWyNWmp2xo2Uminzk4fWHTp0kU2m0133HGHdW17dXL72BkfH2+FbvbZ5HZ+fn5q2bKly1AzPz9fNptNmzdvtv7s6ekpHx8fhYWFuWyzZ8+2xpucnBw1bdpUxcXFTtd2FWrefffdstlsCgwMrPEDmqlTp2rz5s2aMWOG2rRpI29vby1atMjp+heHt/Y9jO0fKtXEXqzqUq36B02vv/66evToIdM0lZubqzlz5qi8vPySM+EB4EqREcAVQk24JQYsADeCS4Ue9ta7eJc8mwfoltsayrd5K4flp7NmzVIjm5fq39ZI8eOWO7yuaYeuVa9p10XheRN190PL1adPH916663y8PDQsWPHrOXnmZmZatmypQICAhQUFKSUlBSlpqaqffv28vb2tqqsS1WBRmRkpFJTU5WYmCjTNPXVV19Z+03m5ORo4MCBDkFL9cBg/fr1Mk1T+/bt0+uvvy6bzWZdxx5KDhs2TDabTRkZGdqyZYvWrl2rrKwsq6DQxcu/XYWaI0aMUGpqqs6fP/+jfjanT5/WoEGDFB8fr3PnztV4nn1fUVcBBW5uw5buueSznTm37KJq3uEKj01TYEKeug6f5bRc3dbMTy06xcrHv5Mi4nro8ccf1759+xyetdDUgS6Xn2eVlCsgLke32bytmZz21iG9oGrfzXseUVuzj3zbdZFPQJh8A8Pl0aSV4u9d5jCLtLi42CoGZt8Ow+7oiVNaVnbYYW/gZWWHXS45d/Xs3HPPPQoICa/V8vOqD3s81bHvPU77ki5btkxhYWEOS60LCwuVnZ2t++67zwri7HvuXhxq2j9Y+e1vf+vU78zMTIdQc8iQIWrRooWio6P1hz/8weUHKJ9++qn1enuhoNqGmmPHjpXNZtO0adNq/ICmekGfsWPHWjNpP/vsM4frX3yfCxcurFWouWnTJpmmqXXr1tXYh+ofNElVM4lfeuklLVy40CqulJuba1W7B4CfGhkBXCHUhFtiwAJwI/ih0MPemneM1S23NVS77pkOr//Fw/+jW25rKM8WAU6vSZq0RrZmfvJqFaQmQZHy8e+kDiGhuvXWW2Waps6ePWsVCvrwww+Vl5enxo0by9fXV82aNdO8efMUGBgof39/a0/NkydPavLkyeratavGjx+vuLg4mWZVIaN7771XaWlpSk1NtULNrVu36uzZsw6/SH/xxReKjY3Vgw8+qGnTpsnT01NDhgxxCCVPnz6t4OBgeXp6qkuXLho6dKh27typLVu2WAV9qu//5irUtC+rrF69vLrqv1ifPHnS5Tk/+9nPZJqmTp2qCmRc7Tn3j3/8Q6ZpOhQfASQpe8GLtXq+7a3/w7trXq4+ZJq8/UIUmnWXVeTHHhRWLxx01+xH5e0XopBeYxxenzZtY1Vxok5xypxb5jB70x5qXtyiR86Rt1+Ipi/f4nRvlZWVKigoUGJiYo1LjKs/Y7V9duz7QU59YI4VjvadX6606ZvkG9BZLcLirf636BSn+g0aqVVEmnr/4nlrX9IzZ85o+PDhio2Nddi/t7CwUNHRVdXmV65cqfz8fKWmpurjjz92CvsiIyPl6+urUaNGOVTr/uabb6xiavbl51OnTlX79u3VtWvXWo03lxtqzp8/XzabTVOnTnU6//Tp09a+l9Xvs1OnTjJNU0eOHHH42sX3+cwzz8g0TeteavK73/1Opmlq06ZNlzzvUuzF2y7e6xMAfipkBHCFUBNuiQELwI2gtqGHPVxIvPcRh9ffO2+VvP1CFDl0utNrmraPUsPGzdS4TbCiCx5SxOCp8u/QWTabzfrF1B5qStL7778v0zT14IMPKi8vTx07dlTr1q3Vvn17dejQQQEBAWratKmaN29uzXKKjY21Zvr069dP4eHhCg4OtgJJPz8/l8s3J0yYoMTERMXHx2vGjBmqqKjQ2bNnHX45Ly0tlZeXl8LDw/XII49o+/btGjFihNq2bas+ffo4/GLsKtS8cOGCpkyZItM0dc899+iJJ57Q888/r7Vr12rKlCmKi4uzzl2yZIkGDx6sRx99VM8995y2b9+uWbNmOQUuPXv21OTJk7Vu3Tq98MILKi0t1dChQ2Wapl555ZUr/NuAG01tP7Swt5yFNY8HvYt3yT+2/3+Xqw+aqjsfWKrly5crJyfHes+//O0r+XfvK2+/EAUm5Clq2P3qnDNBTdtHyce/k+IKHZeE+3XofMlQMyAkXPveftvl/f2///f/1KtXLyUkJGj+/PnaunWrtm7dquXLl2vo0KEOoV1tnx175e6cnBxNmTJFy9dsVOfcCWraoau823ZU3D2POCxHb+TTQo18mqt1ZJoiBk/V4hWrNXz4cKuIUXWDBw+Wr6+vxo8fr4qKCh07dkwpKSkqKChQ//79HcI+0zQVEBCg0NBQ3X777Xrqqaf0xBNPKCkpSU2bNnUoFGQP/OLj49WtWzen8WbChAnq3r27de3LDTWPHDkiX19f+fn5qbS0VC+99JJV7Xzz5s3q06ePHn74YT377LPauXOnunfvLh8fHxUUFDgFnheHmvZCQbm5uS4/3LG//syZM8rKylLv3r3197//3em8yspKK7iuqKjQ6dOnnc6xFyqyF4UDgJ8aGQFcIdSEW2LAAnAjqG3oYQ81U362Qheq/ZKadu/C/4SaM5xe02XQFDXwaqIGnr7y8e+kZsExahFStSelPWisHmr+9a9/lWma+uUvf6l//etfmjhxopo0aaLAwEBrZtLYsWO1fv16hyWHkvTyyy9r/PjxSk1NVefOnRUUFKSGDRuqVatWysjIcNpv8re//a0VjL7xxhtO35czZ87owIEDioyM1MiRI5Wdna1u3brJx8dHgYGBWrp0qcNyS1ehplT1y/XOnTt11113Wcvl7ctPt2/fbp134MABzZo1S7m5uUpKSlJaWppGjBih0tJShz3gNm7cqMLCQmVmZio+Pl5ZWVmaNGmSVdUYqK4220vUNtS0B5sRg39uFflp3iFC+fn5WrFihcP7Lnn+oMLzJqpl50T5+HdSk6BIBSbkKmniYw7XW7H7HZmmqYk/v9/lkvE1m551+VxV9+WXX2rJkiUaOHCgEhIS1KNHD+Xn52vBggV69913rfNq++zY9708ceKEZs6cqZDIWPkEhKltt0zFFz3q0H/7vqQeTdtUtSZt1KJtkBISEjRw4ECHDy5OnTqlgIAAtWjRwmHW5O7du2Wapjp16uQUao4YMUIdO3ZUeHi4QkNDFRYWpvbt2ysuLk5RUVFWqCn9dxl3amqqkpKS1LlzZ+sDnjZt2jhUBr/cUFOSHn74YTVv3lxNmzZVYGCggoODtWnTJk2cOFHt2rVTenq6UlJSlJKSoqCgIEVERLgMFi8ONSXphRdeUGxsrDIzM7Vy5Urt3LlTTzzxhMaNG6fy8nLrvLffftvamsT+QdPmzZv1yCOPKCcnx/qg6ZtvvlFiYqJmzpypDRs2aNeuXXr88cfVv39/xcXF6Z133nHqFwD8FMgI4AqhJtwSAxaAG0FtQw97qJkwbrm1xFKS0u5bU7XUtOcop9f0mPmUNVvLmtk0oKrC94svvujUlxdffFGmaeqpp56SJL311luy2Wzq16+fQ/i5fPlyq5hQdfZljIcPH9aBAwesgDQkJEQRERFKTExUZmamFi9e7FQs4uJQ8vbbb1fz5s3Vrl07BQcHKyAgQF5eXvL19XUIQQ4dOqQpU6YoIyND8fHxGjBggB577DGH5aLA9VKbQmC1XX7uqmUvcH6OJelCRYVW7H7nkq9dsfsdhw9I3IU91LT7MfuSXvzBRWVlpSZNmqTY2Fi97WLWaUlJiUzTtGY/SrL2+jx48KDuvvtuJScnq0ePHpo5c6bTPpV29g930tPTFR8fr379+mncuHHavHmzw5jkKli0++yzz2pcor1v3z5NmTJFvXr1soLhsWPHasOGDQ4B5sXfw+pqeu+DBw9q8uTJysjIUEJCgvr166cHHnjA4cMjSfr44481b948ZWdnKz4+XhkZGRoxYoTDB03nzp3Tr3/9a91xxx3q2bOndb2ZM2c67M8MAD81MgK4QqgJt8SABeBGUNvQo3qomVXy37308h/5rVp0ipNvQGelTd/k8Bp7UY3qxULMoVUFMgoKChyCxe+//14FBQUOe9BVVlYqMDBQTZs21cSJE61Q035eenq6Q/XwcePGKS0tTRcuXLBCzYKCAnl7e6tnz57avn27pk+fblVMru7iUPO5555TSkqKGjduLH9/f0VFRSk3N9dhttPu3bsVGxurYcOGacOGDdqxY4cWLFiguLg4FRYW6sKFC1fnhwZchuXllw4Xq4eMl7tcfdjSPZd878sp2uMuLg7kLndf0pqC3stF8S8AqHvICOAKoSbcEgMWgBtFbUKPi0PNZWWHJVXN9Iy75xH5+HdS0w5d1TlngqKG3a/AhFx5+4XIP7a/Q1GQ/AlzZJqmRo8ebS2vLi0t1YgRI2SaplatWuXQt1mzZqlx48Zq3bq1/Pz89MQTT6hDhw7q06ePmjRpovHjx0uq2r/Sx8dH0dHRWrdunZYsWaKgoCC1bNlSXbt2ddgzb8KECYqPj9d3331nHXO1fNwejFZf4mn31VdfKTk5WZMmTXLaM27Pnj0yTdNh2SRwvVzOrMnLXa5uHwduJJc7U/Nyg97aItQEgLqHjACuEGrCLTFgAbhRXKiosPbSy3jgWXn7hahj1liHX9TbdsvSLbc1VJuuPR1+cV/22Hp5+4UoavgsBSbkyrddF3n4tlLDxk3l0aS1mgRFKDAhz9pLr+R/llvVzh999FF1795dzZs3V7NmzdSpUyfdcccd+s1vfmP17Y033lDXrl0VHR0tX19fhYWFycvLS9nZ2QoKClJJSYmkqmXgQUFBysjIUGZmpiIiIuTt7a20tDSnPfOefPJJqw92lxtq2qvo/u53v7Oqstvb119/reTkZD344IM/6c8JuBK1mTV5ucvV3XnG5Y91cah5vYJeQk0AqHvICOAKoSbcEgMWgBtJ9SWWrSJS1apLssMv6q0je8i7baiaBEUqc26ZtcRyypQpCo4wlTl3lzLnllWrepyrqGH3KyxnvJr8p+rxz5dtdnjP1atXyzRNDR8+XJs2bdKmTZvUL3eQ/EPCZeZPUfaCFzX4l2UK7Bih2Pgkmaap+fPna+DAgZKkyZMnq6ioSJK0du1ah6DSHkg+//zzTvdqDzAPHjzodKy2oeaiRYusQkM1tXHjxl3hTwW49i5nufrN4HoFvYSaAFD3kBHAFUJNuCUGLAA3kupLLDv2uVvefiFKv39z1ezNWVvk7ReqDukF8vYLUdLExzRs6R5duHBBqampum/KFK3Y/Y61RD2k12iHX/JTf/6EgsK6Kjc311qq/fHHHys2NlYFBQU6c+aMLlRUaHn5O+o1Z4daRaTKu22o0qZV7dHpF9NbHk1aKyAkXDk5OVq4cKEkafPmzUpMTNSZM2c0duxYZWVlWfdzqUDSVYB5uaGmvdLwjh07HCqxV29Hjhz5yX4+wLVSl4v8XC0EvQCA2iAjgCuEmnBLDFgAbiTVl1jGjl0kb78QxdxerKyScnUbUyJvvxClTdso33Zd1GXgZC0rO6xDhw7JNE0988wzkqQxdxfJPyRceXO3Oi1vnTdvnkzTtIK+0tJShyro1UODmNuL5e0Xoogh05RVUq7OuT9TA6+msjVrq4CQcO3du1eSdPToUZmmqb179yo+Pl4PPfSQdT8/Rah58ODBGq+xefNmp2rFwI2kLhb5uVoIegEAtUFGAFcINeGWGLAA3CiOnjil4i37rV/Oez20Xd5tO6pDjxHKKqmqYt6yc4KySsoVmJAr/+59dfTEKacl30OGDFGPHj1cvoc9BNyzp2ovTvtMx/fff99peWfy5DXy9gtRaO87lFVSroTxK9TAq6lubeQl77ah+r/3P5FUVR09MzNT+fn5TuHjTxFqHjlyRKZp6qmnnnK6xpdffqnExEQNGTJE//73v52+fv78eZ0+fboW330AdQVBLwDgUsgI4AqhJtwSAxaAus6+5NvVrCO/mN5qFtJNWSXlatEpTiG9xyirpFyRQ6crKKyryyXfgwcPVnp6usv3ujjUXLBggRVqXlyI4+JQs3fxLjXyafGfQkUZDoU4Zs+ebe1h+cUXX1jHf4pQ8/vvv1daWppyc3P13HPP6aWXXnIY83fv3q24uDhlZmZqxYoV2rFjh5588kktWLBAmZmZLt8bAAAANyYyArhCqAm3xIAFoK671D5xnXN/Jm+/EHW/65fy9guReecCZZWU68F1/1vjku/JkyfLNE39/e9/d3ov+/Lz9957T5Lj8vPq+3lmlZQrZtR/lp8P/rl1zLttR91yW0OFZY+zKq9L0q5du2SapgYNGuTwfj9FqClJf/zjHzVq1CglJibKNE2HqshS1WzOWbNmqU+fPoqPj1fv3r01evRoPfbYYw4hKwAAAG5sZARwhVATbokBC0Bd9kMVfRPGr5C3X4hadUmRd9tQPfDEqzp64tQll3y/8MILMk1TCxYscHivTz75RImJiTUWCuo7b9d/l77P2anWFxUKyiopt4oUZZWUW5XXAQAAAHdBRgBXCDXhlhiwANRlFy/5vrj1Lt4l38BwefuF1HrJ94ULF1RUVCTTNHXfffdp69atWrVqlXr27KmEhAS99dZbDn1YvXq1TNNUQHS6IgZPVcTgqVWBpl+IwvMmOvSneqhZfaYmAAAA4A7ICOAKoSbcEgMWgLrs4iXfrlpgfK68/UJqveRbks6ePau1a9dq0KBBSkhIUHp6uiZPnqw///nPLvuxe/dudc/IkW9AZ/kGdFab6J6KGTXXqS/VQ83qASsAAADgDsgI4AqhJtwSAxaAuix7wYs/GGpWb1dzyfcPLYW/uFFpGAAAAO6GjACuEGrCLTFgAajLajNTs3q72ku+L1W0qHpbsfudq9oPAAAA4McgI4ArhJpwSwxYAOqyH9pT8+J2tZd8X6io0Irdlw42V+x+Rxf+U2gIAAAAcCdkBHCFUBNuiQELQF3mrku+j544pWVlhzVs6R5lL3hRw5bu0bKywyw5B3BJBw4ckGmaKisrq9X5a9eulWma+uyzz65yzwAANwsyArhCqAm3xIAFoK5jyTeAG4W7h5qbN2+udd8AAHUTGQFcIdSEW2LAAlDXseQbwI2ioqJCZ8+eVUUtx6trHWrm5OSosLDwmrwXAOD6ICOAK4SacEsMWABuFCz5BnCzIdQEAPzUyAjgCqEm3BIDFgAAwNWzb98+maaptWvXuvz6smXLZJqm/vznP9e4/Pzbb7/VI488oqysLCUmJmrkyJF6+eWXaww1T548qaVLlyovL08JCQnq2bOnZsyYoQ8//NDp/c+ePau1a9dq8ODBSkxMVEZGhu677z79+c9/ts757LPPZJqmy3bgwAFJ0scff6zFixcrPz9faWlpSkxM1LBhw/T00087zTwtKyuTaZrat2+fNmzYYPUzLy9PGzZscDlT9XLuCQDw45ERwBVCTbglBiwAAICrp7KyUjk5OcrNzVVlZaXD1y5cuKDMzEzl5+dLcr2n5oULFzR27FiZpqlp06Zp69atWrlypVJTU3X77bc7hZr/+Mc/lJubq9TUVC1ZskQ7duzQhg0blJ2drZSUFL3//vvWuRUVFSoqKpJpmpo8ebK2bt2qxx57TBkZGUpISNC+ffskSd999512796tXr16aciQIdq9e7fVvvrqK0nS888/ryFDhmjFihXatm2bNm/erPHjx8s0TS1evNjhvu2h5ujRo5Wbm6vHH39cmzdv1t133y3TNFVcXOxw/uXcEwDgypARwBVCTbglBiwAAICra82aNTJNU/v373c4/vrrr8s0TT355JOSXIeau3btcggGKysrtWXLFvXv319eXl7y8vJSVlaWHnzwQX311VeaMWOGUlNTtW/fPi1YsEA5OTlKSEhQenq6AgIClJeX53Dt6Oho9evXz2EGZFFRkWJiYpSXl2fNmjxw4IB8fHyUlZWl3/72tyooKFBiYqIyMzO1ePFinTx50um+v/vuO/Xv319NmjRR9+7d1aNHD02cOFErVqyQaZrq27evTp8+LUn6wx/+oHvvvVcBAQHy9PRUUlKSJk2apMOHD1v39NFHHzlc//Tp0+rXr5+Kioqu/IcEAJBERgDXCDXhlhiwAAAArq7PPvtM3bt315w5cxyOz5gxQ3FxcfrnP/8pyXWoOXnyZJmmqS+//FKStGHDBmtmZVZWloKDg7Vw4UKNHj1af/rTnxQbG6t7771XKSkpMk1Ts2fP1saNG7Vq1SqlpKTI399f33//vSSpsLBQPj4+io+Pd5oBGRgYqC5duujIkSNW33x8fNSxY0dlZWVpzZo12r59u6ZPny7TNLVo0SKrz2fPntXnn3+u/Px8hYWFyc/PTyUlJSotLVV+fr5CQ0PVqVMnbdiwQZJ08OBBxcbGCVJOSAAAIABJREFUavjw4Zo/f76Cg4M1dOhQTZ48WU8++aRiY2P1wAMP6OTJk05t3rx5io2Nte4JAHBlyAjgCqEm3BIDFgAAwE/n6IlTWlp2yKFo2dKyQxo+6k4lJyfr22+/lSSdOnVKCQkJmjp1qvVaV6Hm4MGDlZ6ebv155MiRGjp0qCRpyZIlDsvP33vvPZmmqSZNmshmsyk8PNzlPphffPGFJKljx47y8fFxOQOya9euat68ufbs2WP1zcfHR23bttXXX3/tcP6ECRMUGxurpUuXKjc3V6Zpyt/fXzabTZ07d5ZpmiovL5cknTt3TmlpafLx8dGrr74qSVq6dKlM09RXX32lb775RqZpatKkSQ739EPNfk8AgCtDRgBXCDXhlhiwAAAArtyFigotL39HWSXlLlvM7cUKCAnXzp07JUnPPvusTNO0gj2pdqFmUVGR0tLSdPDgQSvUXLVqlQoKCmSapmw2mxo0aKCoqCjt2bNH+/bt0759+7R7926NGzdOycnJiouLU0ZGhho0aKCWLVs6zHw8fvy4Hn74YbVp00a33HKLoqKiNGPGDL3wwgvy8fFRUlKSU1+nT5+uhg0bymazKTg4WHfeeadM01R2drZWrVql6OhoPfPMMzpx4oQeffRRdejQQbfccovCw8M1ceJEzZkzR6ZpauvWrTp58qRDqPnuu+/KNE3NmDHDuhdX7ezZs1f/hwwANwEyArhCqAm3xIAFAABw5S4VaGaVlKvXnJ1q0i5C8ZmDJFXNuOzdu7fOnz9vXcNVqDnm7iL5h4Qrb95zyl7wovpMX6uOMYmKiIpWYGCgvL29FRgYqHHjxmnjxo3y8/OTl5eXQwGd999/XxkZGYqPj9f8+fP13HPPaeHChfLw8NBtt92mqKgomaaprl27ysfHR15eXvL29laDBg00c+ZMZWdnKzo6Wo0bN1ZmZqZDX++66y5FRUWpQYMG6tWrl6ZPn67o6Gi1bdtWpmmqQ4cOstls6tChg5o2bSpPT081bdpUDRo00MCBA5Wfny/TNNWnTx+ZpqmYmBi1aNFCQ4cO1aeffqpTp04pNjbWCjkBAFcXGQFcIdSEW2LAAgAAN7vCwkLl5OT86NcfPXHqkoGmvYX0HCVvvxBt2lpV/Gfp0qUO16keatpnfkYXPCRvvxCFZt7pEJB2GThFvs1bqUGDBvL29lavXr107NgxDR48WDabzaogXllZqREjRig2NlaHDx+2qpW/++67Cg4OVqtWrTR+/Hjt27dPo0aNUnR0tB5//HFFRkYqNTVVZ86c0enTp5WUlKQGDRooJSXFoa+9e/fWxo0bZbPZdM8990iSxo4dK09PT40cOVI9evRQWFiY8vLyFB4ertLSUi1ZskRhYWHq3bu3/vnPf6qgoEC5ubk6cOCAMjIy1KJFC0VERCguLk6/+c1vNHXqVHXv3l1//OMfXX7/7fcEALhyZARwhVATbokBCwAA3OyuNNRcWnaoVqFm4oRfydsvRB26VO0D+cEHHzhcZ8eOHQoMDNTGjRutmZ+Zc3fJL6a3vP1C1C5pkKKGPaCw/kXybddFbaLS5endROHh4ercubOKi4v15ptvysfHR35+fpo9e7aWLFmiDh06qG/fvho9erTuvfdeSVV7enbv3l0REREyTVMTJkxQcHCwsrKylJaWptjYWL388svWsvSioiLddtttCg4O1mOPPaYVK1YoNDRUixYtUllZmVq0aKHw8HCVlJRo0qRJatiwoVq0aKHRo0dbs0DvvPNOnTx5Us8884yio6M1fPhwq1/t27fXiBEjZJqm5syZoxMnTigjI0M5OTn68ssvlZeXp9jYWM2ePVubN2/W9u3b9etf/9rhngAAV46MAK4QasItMWABAICb3ZWGmsOW7qlVqJlVUq6W4Ulq4h+qUaNGOV1n2bJlstlsmjV3ocNrej60XaGZd6pZcIy824aqdWQPmXc8rPC8ifJsESD/0Eg18vBQu3btNHPmTCUkJCggIEBZWVkKDw+Xl5eXVX39D3/4g/V+U6dOVbdu3TRz5kz17t1bnp6e8vLyUsuWLRUeHq6uXbtahXg6d+4sDw8PZWdnq2fPngoPD5fNZtOSJUtUVlam6OhoTZgwQf369VNYWJg8PDzUpk0bLVq0SNHR0QoODrauFRwcLA8PD4WFhaldu3by9vaWp6en0tLStH79el24cEGVlZUaPHiwUlNTJUn/+te/tGrVKuXn5ysxMVGpqakaNGiQ5syZozfffPNH/+wAAI7ICOAKoSbcEgMWAAC42V1pqJm94MVah5pZJeXKXvCiy+uUlZXJNE1NWfZMja9t2j5KgQm5Cs+bqOiChxQxeKpadk6UrVlbJfUdqhEjRqhLly7y9fW1Zkd26NBBEyZM0OzZs7Vw4ULr/arPgLznnnvUvn17DRgwQNOnT1e/fv00cOBAqxDPpk2bFBYWph07dkhyXCpv7/eBAwes+4iJiVH//v1lmqbGjRunoKAg9ezZ0wpdvby8tGnTJu3bt08jR45Unz599Mgjj2jHjh3aunWrfvazn8k0TS1evPhH/1wAAJePjACuEGrCLTFgAQCAG1llZaW2bNmigoICpaWlKSUlRXl5eXrwwQetvRjtoeZXX32luXPnqlevXkpMTNTo0aP19ttvu7zuiy++qDFjxiglJUXNg7rIL7qXuo2e53rZ+c9+rcCEPDVpHyWfgDC1jUzRunXrHCp2FxcXWzMZm/iHytsvRN5+IWpr9nG4VpdBU9TW7KNmwTHy8e+kZsExCozPVVzhUmWVlGvF7nf0xhtvKCoqSunp6UpLS5Onp6fat2+vcePG6Y033nC4D/sMyIEDB8rT01N+fn4uZ0BeXMToh0JN0zT15ptvqrS0VCNHjpSPj4+aNm2qvLw8DR48WKGhodb5e/fu1c9//nP169dPiYmJysjI0JgxY7Rjxw5VVFT8dH8ZAAA/iIwArhBqwi0xYAEAgBvZhg0bZJqmJk+erK1bt2rnzp1atWqVRo8ebVUHLywsVK9evTRo0CDNmDFDW7du1YYNG9S7d28lJibqiy++cLjm6tWrZZqmhg8frk2bNmnEfSVqFZEqb78QhedNdAgh4+55RD7+ndS0fZTCcsYratj9SskpkGmaGj9+vBXaHT58WAsWLJBpmuqSO0Exo4oVM6rYCitrahmztjgde+vdD6tmfE6Z4lAo6N1333X6/lQPDS+nII+rSu12F4eckvTII4/INE3t2LHD5dcp9gMA7oGMAK4QasItMWABAIAb2ciRIzV06NBLnlNYWCjTNLV27VqH44cPH5ZpmnrsscesYx9//LFiY2NVUFCgM2fOSKqqft5rzo6qYLNtqNKmbfpPkZ8ytegUJ9+AzkqbttEKHY+eOKV58+Y5hYL2sK/3lF/Xeim7q+XoXZMyZZqmXnnlFUnSX//6V/Xo0UPx8fFasGCBtm3bps2bN19yOfoPFeS53FDz22+/tYoG5eXlKSgoSP/zP/+jVatWqaioSLm5ubX5cQIArjIyArhCqAm3xIAFAABuZEVFRUpLS9PBgwdrPKewsFCxsbFWSFldamqqZs6caf25tLRUpmnqxRcd98VcXv6OYm4vlrdfiCKGTFNWSbmSJq6St1+IQnqOskLIFbvfkSR9/vnn1mxKu9rsqXlxc7UcPSRlgN566y2H/n366aeaN2+e+vXrp/j4eGVmZl5yOfoPFeS53FBTks6ePavS0lLdfvvtSk5OVlJSkvLy8jRz5kzt2bOnxp8PAODaISOAK4SacEsMWAAA4EZy9MQpLS07pGFL9yh7wYvqM32tOsYkKiIqWn379tX999+v7du365tvvrFeU1hYqH79+rm8Xk5OjsMMxYULF8o0TWvput2FigrNXrtL3n4hCu19h7JKytVtTIm8/UIUOXS6FWheqLbcu0ePHg6zSO1h4M7fvnZZhYdqW4gIAIAfQkYAVwg14ZYYsAAAwI3gQkWFlpe/4zLk6zVnp7rf9UsNGDtNI0aMkGma6tWrl44dOybp0tXPc3JyVFhYaP3Zvu/lxaGmVLXMOyIqWtljJmvY0j2Ku/NhNfEP1ahpi3T0xCmn82sKNQ8cOFDjvdSmDVvKrEcAwI9DRgBXCDXhlhiwAADAjaC2IaC9OrhpmiouLpZ0eaFmTcvPJWn37t0yTVNPPvmkJOm9996TaZqaP3++07lffPGFTNPUfffdZx373//9XyvUvFBRoRW7f1ywuazs8JV8KwEANzEyArhCqAm3xIAFAADquqMnTv3o6uDS5YWa1QsFff/999bxM2fOaPjw4YqNjdXf/vY3SVWVxXNzc5WUlKRPP/3U4brz58+XaZratWuXdWzv3r0yTVN79+51uLfiLfsvK9R0NSsUAIDaICOAK4SacEsMWAAAoK5bWnboiqqDX06oKUmrV6+WaZoaMWKESktLVVpaquHDh8s0Ta1bt87h3D/84Q+Kj49Xr169tGrVKm3dulWTJ0+WaZoaP368KqrtsfnFF19Ygenzzz+vl156SW+//baky5uJCgDAj0VGAFcINeGWGLAAAEBdN2zpniuqDn65oaZUtdR8zJgxSkpKUlJSksaMGeNySbokvfPOO5o8ebLS09OVkJCgQYMGae3atTp79qzL6+bn5yshIUGmaVrvXZvl6BcXIgIA4HKREcAVQk24JQYsAABQ12UvePGmqQ5+9MQpLSs7bFV3H7Z0j5aVHWbJOQDgJ0FGAFcINeGWGLAAAEBdd6mZmlQHBwCg9sgI4AqhJtwSAxYAAKjrLrWnJtXBAQCoPTICuEKoCbfEgAUAAOq6S1U/pzo4AAC1R0YAVwg14ZYYsAAAwI2A6uAAAFw5MgK4QqgJt8SABQAAbgRUBwcA4MqREcAVQk24JQYsAABwI6E6OAAAPx4ZAVwh1IRbYsACAAAAAAASGQFcI9SEW2LAAgAAAAAAEhkBXCPUhFtiwAIAAAAAABIZAVwj1IRbYsACAAAAAAASGQFcI9SEW2LAAgAAAAAAEhkBXCPUhFtiwAIAAAAAABIZAVwj1MQllZeXyzAMGYahV1991eU5hw8fVk5Ojnx9fWWz2RQfH68dO3Zc0fsyYAEAAAAAAImMAK4RaqJGp0+flr+/v7y8vGoMNQ8dOiQvLy81a9ZM8+fP1+rVq5WcnCzDMLR+/fof/d4MWAAAAAAAQCIjgGuEmqhRUVGRAgICNG3atBpDzdTUVNWrV0/79++3jp07d04xMTHy9vbWyZMnf9R7M2ABAAAAAACJjACuEWrCpddee0316tVTWVmZiouLXYaaH330kQzDUHp6utPrN27cKMMwtHHjxh/1/gxYAAAAAABAIiOAa4SacPLdd98pJCREQ4cOlaQaQ80tW7bIMAzNnj3b6Rrvv/++DMPQ+PHjf1QfGLAAAAAAAIBERgDXCDXhZPr06fL19dWJEyck1RxqLlmyRIZhaNWqVU7X+Pbbb2UYhnJzc3/w/Y4fP67XX3/doa1cuZIBCwAAAAAAEGrCJULNG9C0adNq3bZv3+7w2v3796t+/fpau3atdaymULOkpESGYWjDhg1OfaioqJBhGOrVq9cP9td+fVeNAQsAAAAAgJsboSZcIdS8AdUUELpqRUVF1uvOnTunyMhIpaSkqLKy0jrOTE0AAAAAAHC9EGrCFUJNWJYtW2YVB/rggw+sNmnSJBmGoaeffloffPCBzp49K4k9NQEAAAAAwNVHRgBXCDVhue+++2o1u/NPf/qTJOnYsWMyDEMZGRlO16L6OQAAAAAA+CmQEcAVQk1YDh06pG3btjm1/Px8GYahuXPnatu2bTp16pT1muTkZNWrV08HDhywjp0/f17dunVT48aN9fXXX/+ovjBgAQAAAAAAiYwArhFq4gfVtKemJB08eFCenp5q1qyZHn74Ya1Zs0bJyckyDMOh2NDlYsACAAAAAAASGQFcI9TED7pUqClVzfDMzs6Wj4+PPDw8FBcXp23btl3RezJgAQAAAAAAiYwArhFqwi0xYAEAAAAAAImMAK4RasItMWABAAAAAACJjACuEWrCLTFgAQAAAAAAiYwArhFqwi0xYAEAAAAAAImMAK4RasItMWABAAAAAACJjACuEWrCLTFgAQAAAAAAiYwArhFqwi0xYAEAAAAAAImMAK4RasItMWABAAAAAACJjACuEWrCLTFgAQAAAAAAiYwArhFqwi0xYAEAAAAAAImMAK4RasItMWABAAAAAACJjACuEWrCLTFgAQAAAAAAiYwArhFqwi0xYAEAAAAAAImMAK4RasItMWABAAAAAACJjACuEWrCLTFgAQAAAAAAiYwArhFqwi0xYAEAAAAAAImMAK4RasItMWABAAAAAACJjACuEWrCLTFgAQAAAAAAiYwArhFqwi0xYAEAAAAAAImMAK4RasItMWABAAAAAACJjACuEWrCLTFgAQAAAAAAiYwArhFqwi0xYAEAAAAAAImMAK4RasItMWABAAAAAACJjACuEWrCLZWXl8swDK1cuVKvv/46jUaj0Wg0Go1Go9FotJu0rVy5UoZhqLy8/HrHFXAjhJpwS/YBi0aj0Wg0Go1Go9FoNBrNMKomPgF2hJpwS8ePH9fKlStVXl5+3T8RorlXswfezOKl0X584zmi0a688RzRaFfeeI5otCtrN9MzVF5erpUrV+r48ePXO66AGyHUBFCnvP46e6kAV4rnCLhyPEfAleM5Aq4MzxBudoSaAOoU/uEGrhzPEXDleI6AK8dzBFwZniHc7Ag1AdQp/MMNXDmeI+DK8RwBV47nCLgyPEO42RFqAqhT+IcbuHI8R8CV4zkCrhzPEXBleIZwsyPUBFCnHD9+XMXFxWwQDVwBniPgyvEcAVeO5wi4MjxDuNkRagIAAAAAAACoUwg1AQAAAAAAANQphJoAAAAAAAAA6hRCTQAAAAAAAAB1CqEmAAAAAAAAgDqFUBMAAAAAAABAnUKoCQAAAAAAAKBOIdQEUGeVl5fLMAwZhqFXX33V5TmHDx9WTk6OfH19ZbPZFB8frx07dlzbjgJuorKyUk8//bRGjhypjh07ymazqXXr1kpPT9fOnTtVWVnp8nXHjx9XQUGBmjdvrkaNGikqKkrr1q27xr0H3MOOHTsUHx8vm80mX19f5eTk6PDhw9e7W4BbOXr0qIqLi5WUlKRWrVrJZrOpc+fOmjRpkk6cOOHyNevWrVNUVJQaNWqk5s2bq6CgQMePH7/GPQfcW0VFheLj42UYhnr06OH09fPnz2vRokXq2LGjGjRooDZt2mjcuHH65z//ee07C1wDhJoA6qTTp0/L399fXl5eNYaahw4dkpeXl5o1a6b58+dr9erVSk5OlmEYWr9+/bXvNHCdnTlzRoZhKDw8XDNnztT69eu1aNEihYaGyjAMjR8/3uk1f/vb39S6dWt5eHho1qxZWrdunbKzs2UYhh566KHrcBfA9bN+/XoZhqGIiAitXLlSjzzyiAIDA+Xl5aVDhw5d7+4BbuP++++Xh4eHhg4dqkcffVRr167VXXfdpfr166tp06b6y1/+4nD+Qw89JMMwlJycrNWrV2v+/Plq1qyZ2rRpo7/97W/X6S4A97N06VLr9x9XoeaoUaNkGIZycnK0bt06zZo1Sx4eHgoPD9c333xz7TsMXGWEmgDqpKKiIgUEBGjatGk1hpqpqamqV6+e9u/fbx07d+6cYmJi5O3trZMnT17DHgPX3/nz5/XKK684Hf/3v/9tBZvvvfeew9dGjx4twzCcZjjn5uaqfv36Onr06FXtM+Auvv76a3l7e8vf31+nT5+2jn/88cfy9PRUamrqdewd4F7279+vr7/+2un42rVrZRiG8vPzrWPvv/++6tevr27duun8+fMO16hXr55Gjx59TfoMuLsPP/xQNptNy5cvdxlq7t27V4ZhKC8vz+H49u3bZRiG5syZcw17C1wbhJoA6pzXXntN9erVU1lZmYqLi12Gmh999JEMw1B6errT6zdu3CjDMLRx48Zr02GgDpg6daoMw9Czzz5rHfv222/l4eGh9u3bO53/6quvyjAMFRcXX8NeAteP/d+OuXPnOn3tjjvukGEY+uijj659x4A65PTp0zIMQ506dbKO2f8vt2nTJqfze/ToIQ8PD3333XfXspuAW+rZs6diY2NVUVHhMtS0/1v02muvOb02KChI7dq1uzYdBa4hQk0Adcp3332nkJAQDR06VJJqDDW3bNkiwzA0e/Zsp2u8//77NS61BW5Ww4YNk2EY2rt3r3XsrbfekmEYGjlypNP533//verVq6d+/fpdy24C1824ceNkGIb27Nnj9DX77LOtW7deh54BdceRI0dkGIbDzOa+ffvKMAyXM/9nzZolwzC0b9++a9lNwO2sW7dOt956q7XViatQMywsTLfccou+//57p9cXFBTIMAz9/e9/vxbdBa4ZQk0Adcr06dPl6+trbTJfU6i5ZMkSGYahVatWOV3j22+/lWEYys3NvRZdBtzewYMHdeuttyokJETnzp2zjtuXK82cOdPl61q0aKHIyMhr1U3gusrJyZFhGDpy5IjT13bv3i3DMLR06dLr0DOg7hg8eLDTapmIiAgZhuFyNuZjjz3mcgsU4Gby2WefycfHR/fff791zFWo6eXlpZYtW7q8xowZM2QYhg4ePHg1uwpcc4SaAK6padOm1bpt377d4bX79+9X/fr1tXbtWutYTaFmSUmJDMPQhg0bnPpgX7LRq1evq3KPwNV2Jc/RxU6cOKHAwEA1bNhQb731lsPXnnzyyUvuwRQQEKDg4OCf7L4Ad9azZ08ZhqEPP/zQ6Wv2fczmz59/HXoG1A0LFiyQYRgaOHCgKisrreMdOnSQYRiqqKhwes2GDRtkGIaeeuqpa9lVwK0MGDBAHTp0cAj+XYWat9xyiwICAlxeY86cOTIMQ7///e+vZleBa45QE8A1ZRhGrVtRUZH1unPnzikyMlIpKSkO/xFmpiZuRj/2ObrY559/rs6dO+u2227TCy+84PR1ZmoC/8VMTeDHsxc2SU9P17fffuvwNWZqAjV79tlnZRiGXn75ZYfjzNQEqhBqAqgTli1bZhUH+uCDD6w2adIkGYahp59+Wh988IHOnj0riT01gR/y2WefqVOnTmrQoIHKyspcnsOemsB/sacm8OMsXbrUWiFzcaApsacmUJPvv/9eLVq0UFZWlsPvPx988IEMw1BcXJw++OADff7555LYUxM3J0JNAHXCfffdV6tZaX/6058kSceOHZNhGMrIyHC6FtXPcbP79NNPFRoaqkaNGuk3v/lNjedR/Rz4ryeeeEKGYWjevHlOX7NXnD127Nh16BngvhYvXizDMNS3b1+dOXPG5Tm/+MUvZBiGSktLnb5mr37uKgwFbnQnT56s1e8/AwYMkCSNGTNGhmHo9ddfd7oW1c9xoyLUBFAnHDp0SNu2bXNq+fn5MgxDc+fO1bZt23Tq1CnrNcnJyapXr54OHDhgHTt//ry6deumxo0b6+uvv74etwJcV5988omCg4Pl4eHhtJTJldtvv93l0r/c3FzVr19ff/3rX69WVwG38vXXX6tx48by9/fX6dOnreMff/yxPD09lZKSch17B7ifhQsXyjAM5eTkuJw5ZvfXv/5V9evXV7du3XT+/Hnr+P79+1WvXj2NGjXqWnQXcDvnzp1z+fvPtm3bZBiGwsPDtW3bNv3xj3+UJL388ssyDEN5eXkO19mxY4cMw9BDDz10PW4DuKoINQHUaTXtqSlVVXT29PRUs2bN9PDDD2vNmjVKTk6WYRgOxYaAm8U333xjFWS455579NRTTzm1w4cPO7zm448/VqtWrWSz2TR79mw9/vjj1t6Cs2bNuk53Alwf9mXmERER+tWvfqUlS5aoXbt28vT01P/93/9d7+4BbsO+F2arVq30xBNPuPz3pjr7MvPk5GStWbNGDz/8sJo1a6ZWrVrpk08+uU53AbgvV3tqSv9dZp6Tk6PHH39cs2fPloeHh8LCwhw+kANuFISaAOq0S4WaUtUMz+zsbPn4+MjDw0NxcXHatm3bte0k4CY++uijH1zC5Go5+bFjxzRixAg1a9ZMDRs2VGRkpNasWeNQtAu4WWzbtk1xcXHy8PCQj4+PsrOzdejQoevdLcCt2LdkuFSrrrKyUmvWrFFkZKQaNmyoZs2aacSIEWzpANSgplDz3LlzWrhwoUJDQ9WgQQO1bt1a9957r7788str30ngGiDUBAAAAAAAAFCnEGoCAAAAAAAAqFMINQEAAAAAAADUKYSaAAAAAAAAAOoUQk0AAAAAAAAAdQqhJgAAAAAAAIA6hVATAAAAAAAAQJ1CqAkAAAAAAACgTiHUBAAAAAAAAFCnEGoCAAAAAAAAqFMINQEAAAAAAADUKYSaAAAAAAAAAOoUQk0AAAAAAAAAdQqhJgAAAAAAAIA6hVATAAAAAAAAQJ1CqAkAAAAAAACgTiHUBAAAAAAAAFCnEGoCAAAAAAAAqFMINQEAAAAAAADUKYSaAAAAAAAAAOoUQk0AAAAAAAAAdQqhJgAAAAAAAIA6hVATAAAAAAAAQJ1CqAkAAAAAAACgTiHUBAAAAAAAAFCnEGoCAAAAAAAAqFMINQEAAAAAAADUKYSaAAAAAAAAAOoUQk0AAAAAAAAAdQqhJgAAAAAAAIA6hVATAAAAAAAAQJ1CqAkAAAAAAACgTiHUBAAAAAAAAFCnEGoCAAAAAAAAqFMINQEAAAAAAADUKYSaAAAAAAAAAOoUQk0AAAAAAAAAdQqhJgAAAAAAAIA6hVATAAAAAAAAQJ1CqAkAAAAAAACgTiHUBAAAAAAAAFCnEGoCAAAAAAAAqFMINQEAAP5/O3ZAAgAAACDo/+t2BDpDAABgRWoCAAAAACtSEwAAAABYkZoAAAAAwIrUBAAAAABWpCYAAAAAsCI1AQAAAIAVqQkAAAAArEhNAAAAAGBFagKF+HG7AAAB/0lEQVQAAAAAK1ITAAAAAFiRmgAAAADAitQEAAAAAFakJgAAAACwIjUBAAAAgBWpCQAAAACsSE0AAAAAYEVqAgAAAAArUhMAAAAAWJGaAAAAAMCK1AQAAAAAVqQmAAAAALAiNQEAAACAFakJAAAAAKxITQAAAABgRWoCAAAAACtSEwAAAABYkZoAAAAAwIrUBAAAAABWpCYAAAAAsCI1AQAAAIAVqQkAAAAArEhNAAAAAGBFagIAAAAAK1ITAAAAAFiRmgAAAADAitQEAAAAAFakJgAAAACwIjUBAAAAgBWpCQAAAACsSE0AAAAAYEVqAgAAAAArUhMAAAAAWJGaAAAAAMCK1AQAAAAAVqQmAAAAALAiNQEAAACAFakJAAAAAKxITQAAAABgRWoCAAAAACtSEwAAAABYkZoAAAAAwIrUBAAAAABWpCYAAAAAsCI1AQAAAIAVqQkAAAAArEhNAAAAAGBFagIAAAAAK1ITAAAAAFiRmgAAAADAitQEAAAAAFakJgAAAACwIjUBAAAAgBWpCQAAAACsSE0AAAAAYEVqAgAAAAArUhMAAAAAWJGaAAAAAMCK1AQAAAAAVqQmAAAAALAiNQEAAACAFakJAAAAAKxITQAAAABgRWoCAAAAACtSEwAAAABYkZoAAAAAwIrUBAAAAABWpCYAAAAAsBJHHPackPKIMwAAAABJRU5ErkJggg==\" width=\"999.75\">"
      ],
      "text/plain": [
       "<IPython.core.display.HTML object>"
      ]
     },
     "metadata": {},
     "output_type": "display_data"
    }
   ],
   "source": [
    "fig, ax = plt.subplots(figsize=(10, 10))\n",
    "for idx in range(viz_words):\n",
    "    plt.scatter(*embed_tsne[idx, :], color = 'steelblue')\n",
    "    plt.annotate(int_to_vocab[idx], (embed_tsne[idx, 0], embed_tsne[idx, 1]), alpha=0.8)"
   ]
  },
  {
   "cell_type": "code",
   "execution_count": null,
   "metadata": {
    "collapsed": true
   },
   "outputs": [],
   "source": []
  },
  {
   "cell_type": "markdown",
   "metadata": {},
   "source": [
    "### model_inputs()\n",
    "To create TF Placeholders for the Neural Network:"
   ]
  },
  {
   "cell_type": "code",
   "execution_count": 5,
   "metadata": {},
   "outputs": [],
   "source": [
    "def model_inputs():\n",
    "    input_data = tf.placeholder(tf.int32, [None, None], name='input')\n",
    "    targets = tf.placeholder(tf.int32, [None, None], name='targets')\n",
    "    lr = tf.placeholder(tf.float32, name='learning_rate')\n",
    "    keep_prob = tf.placeholder(tf.float32, name='keep_prob') # new\n",
    "\n",
    "    summary_length = tf.placeholder(tf.int32, (None,), name='summary_length')\n",
    "    max_summary_length = tf.reduce_max(summary_length, name='max_dec_len')\n",
    "    text_length = tf.placeholder(tf.int32, (None,), name='text_length')\n",
    "    \n",
    "    return input_data, targets, lr, keep_prob, summary_length, max_summary_length, text_length\n",
    "\n",
    "\n",
    "# problem_unittests.test_model_inputs(model_inputs)"
   ]
  },
  {
   "cell_type": "markdown",
   "metadata": {},
   "source": [
    "### process_decoding_input() \n",
    "\n",
    "To remove the last word id from each batch in target_data and concat the GO ID to the beginning of each batch"
   ]
  },
  {
   "cell_type": "code",
   "execution_count": 6,
   "metadata": {},
   "outputs": [],
   "source": [
    "def process_decoding_input(target_data, vocab_to_int, batch_size):\n",
    "    ending = tf.strided_slice(target_data, [0, 0], [batch_size, -1], [1, 1])\n",
    "    dec_input = tf.concat([tf.fill([batch_size, 1], vocab_to_int['<GO>']), ending], 1)\n",
    "\n",
    "    return dec_input"
   ]
  },
  {
   "cell_type": "markdown",
   "metadata": {},
   "source": [
    "### encoding_layer() \n",
    "To create an encoder RNN"
   ]
  },
  {
   "cell_type": "code",
   "execution_count": 7,
   "metadata": {},
   "outputs": [],
   "source": [
    "# bi-direction\n",
    "def encoding_layer(rnn_size, sequence_length, num_layers, rnn_inputs, keep_prob):\n",
    "    for layer in range(num_layers):\n",
    "        with tf.variable_scope('encoder_{}'.format(layer)):\n",
    "            cell_fw = tf.contrib.rnn.LSTMCell(rnn_size, initializer=tf.random_uniform_initializer(-0.1, 0.1, seed=52))\n",
    "            cell_fw = tf.contrib.rnn.DropoutWrapper(cell_fw, input_keep_prob = keep_prob)\n",
    "\n",
    "            cell_bw = tf.contrib.rnn.LSTMCell(rnn_size, initializer=tf.random_uniform_initializer(-0.1, 0.1, seed=52))\n",
    "            cell_bw = tf.contrib.rnn.DropoutWrapper(cell_bw, input_keep_prob = keep_prob)\n",
    "\n",
    "            enc_output, enc_state = tf.nn.bidirectional_dynamic_rnn(cell_fw, \n",
    "                                                                    cell_bw, \n",
    "                                                                    rnn_inputs,\n",
    "                                                                    sequence_length,\n",
    "                                                                    dtype=tf.float32)\n",
    "            enc_output = tf.concat(enc_output,2)\n",
    "            # original code is missing this line below, that is how we connect layers \n",
    "            # by feeding the current layer's output to next layer's input\n",
    "            rnn_inputs = enc_output\n",
    "            \n",
    "    return enc_output, enc_state"
   ]
  },
  {
   "cell_type": "markdown",
   "metadata": {},
   "source": [
    "### decoding_layer() \n"
   ]
  },
  {
   "cell_type": "code",
   "execution_count": 8,
   "metadata": {},
   "outputs": [],
   "source": [
    "def training_decoding_layer(dec_embed_input, summary_length, dec_cell, output_layer, vocab_size, \n",
    "                            max_summary_length, batch_size):\n",
    "    \n",
    "    training_helper = tf.contrib.seq2seq.TrainingHelper(inputs=dec_embed_input,\n",
    "                                                        sequence_length=summary_length,\n",
    "                                                        time_major=False)\n",
    "\n",
    "    training_decoder = tf.contrib.seq2seq.BasicDecoder(cell=dec_cell,\n",
    "                                                       helper=training_helper,\n",
    "                                                       initial_state=dec_cell.zero_state(dtype=tf.float32, batch_size=batch_size),\n",
    "                                                       output_layer = output_layer)\n",
    "\n",
    "    training_logits = tf.contrib.seq2seq.dynamic_decode(training_decoder, \n",
    "                                                        output_time_major=False, \n",
    "                                                        impute_finished=True, \n",
    "                                                        maximum_iterations=max_summary_length)\n",
    "    \n",
    "    return training_logits"
   ]
  },
  {
   "cell_type": "code",
   "execution_count": 9,
   "metadata": {},
   "outputs": [],
   "source": [
    "def inference_decoding_layer(embeddings, start_token, end_token, dec_cell, output_layer,\n",
    "                             max_summary_length, batch_size):\n",
    "    '''Create the inference logits'''\n",
    "    \n",
    "    start_tokens = tf.tile(tf.constant([start_token], dtype=tf.int32), [batch_size], name='start_tokens')\n",
    "    \n",
    "    inference_helper = tf.contrib.seq2seq.GreedyEmbeddingHelper(embeddings,start_tokens, end_token)\n",
    "                \n",
    "    inference_decoder = tf.contrib.seq2seq.BasicDecoder(dec_cell,\n",
    "                                                        inference_helper,\n",
    "                                                        dec_cell.zero_state(dtype=tf.float32, batch_size=batch_size),\n",
    "                                                        output_layer)\n",
    "                \n",
    "    inference_logits = tf.contrib.seq2seq.dynamic_decode(inference_decoder,\n",
    "                                                         output_time_major=False,\n",
    "                                                         impute_finished=True,\n",
    "                                                         maximum_iterations=max_summary_length)\n",
    "    \n",
    "    return inference_logits"
   ]
  },
  {
   "cell_type": "markdown",
   "metadata": {},
   "source": [
    "Attention:\n",
    "Using Bhadanau, since trains faster than Luong.\n",
    "\n",
    "AttentionWrapper: \n",
    "applies the attention mechanism to our decoding cell.\n",
    "\n",
    "parameters\n",
    "\n",
    "- dec_embed_input: output of embedding_lookup for a batch of inputs\n",
    "- embeddings: the CN's word_embedding_matrix\n",
    "- enc_output: encoder layer output, containing the forward and the backward rnn output\n",
    "- enc_state: encoder layer state, a tuple containing the forward and the backward final states of bidirectional rnn.\n",
    "- vocab_size: vocabulary size i.e. len(vocab_to_int)+1\n",
    "- text_length: the actual lengths for each of the input text sequences in the batch\n",
    "- summary_length: the actual lengths for each of the input summary sequences in the batch\n",
    "- max_summary_length: the maximum length of a summary in a batch\n",
    "- rnn_size: The number of units in the LSTM cell\n",
    "- vocab_to_int: vocab_to_int the dictionary\n",
    "- keep_prob: RNN dropout input keep probability\n",
    "- batch_size: number of input sequences in a batch\n",
    "- num_layers: number of decoder RNN layer"
   ]
  },
  {
   "cell_type": "code",
   "execution_count": 10,
   "metadata": {},
   "outputs": [],
   "source": [
    "### TODO TEST L.RELU ACTIVATION\n",
    "\n",
    "def lstm_cell(lstm_size, keep_prob):\n",
    "    cell = tf.contrib.rnn.BasicLSTMCell(lstm_size, activation=tf.nn.leaky_relu)\n",
    "    \n",
    "    return tf.contrib.rnn.DropoutWrapper(cell, input_keep_prob = keep_prob)\n",
    "\n",
    "\n",
    "def decoding_layer(dec_embed_input, embeddings, enc_output, \n",
    "                   enc_state, vocab_size, text_length, \n",
    "                   summary_length, max_summary_length, rnn_size, \n",
    "                   vocab_to_int, keep_prob, batch_size, num_layers):\n",
    "    '''Create the decoding cell and attention for the training and inference decoding layers'''\n",
    "    \n",
    "    dec_cell = tf.contrib.rnn.MultiRNNCell([lstm_cell(rnn_size, keep_prob) for _ in range(num_layers)])\n",
    "    \n",
    "    output_layer = Dense(vocab_size, kernel_initializer=tf.truncated_normal_initializer(mean=0.0, stddev=0.1))\n",
    "    \n",
    "    attn_mech = tf.contrib.seq2seq.BahdanauAttention(rnn_size,\n",
    "                                                     enc_output,\n",
    "                                                     text_length,\n",
    "                                                     normalize=False,\n",
    "                                                     name='BahdanauAttention')\n",
    "    \n",
    "    dec_cell = tf.contrib.seq2seq.AttentionWrapper(dec_cell, attn_mech, rnn_size)\n",
    "    \n",
    "    with tf.variable_scope(\"decode\"):\n",
    "        training_logits = training_decoding_layer(dec_embed_input, summary_length, dec_cell,\n",
    "                                                  output_layer, vocab_size, max_summary_length, batch_size)\n",
    "        \n",
    "    with tf.variable_scope(\"decode\", reuse=True):\n",
    "        inference_logits = inference_decoding_layer(embeddings,\n",
    "                                                    vocab_to_int['<GO>'],\n",
    "                                                    vocab_to_int['<EOS>'],\n",
    "                                                    dec_cell,\n",
    "                                                    output_layer,\n",
    "                                                    max_summary_length,\n",
    "                                                    batch_size)\n",
    "        \n",
    "    return training_logits, inference_logits"
   ]
  },
  {
   "cell_type": "markdown",
   "metadata": {},
   "source": [
    "### Seq2seq model\n",
    "\n",
    "merge encoder with decoder:"
   ]
  },
  {
   "cell_type": "code",
   "execution_count": 11,
   "metadata": {},
   "outputs": [],
   "source": [
    "def seq2seq_model(input_data, target_data, keep_prob, text_length, summary_length, max_summary_length, \n",
    "                  vocab_size, rnn_size, num_layers, vocab_to_int, batch_size):\n",
    "    \n",
    "    # Use Numberbatch's embeddings and the newly created ones as our embeddings\n",
    "    embeddings = word_embedding_matrix\n",
    "    \n",
    "    # TODO: create own embedding matrix? \n",
    "    # dec_embeddings = tf.Variable(tf.random_uniform([target_vocab_size, 300]))\n",
    "\n",
    "    enc_embed_input = tf.nn.embedding_lookup(embeddings, input_data)\n",
    "    \n",
    "    enc_output, enc_state = encoding_layer(rnn_size, text_length, num_layers, enc_embed_input, keep_prob)\n",
    "    \n",
    "    dec_input = process_decoding_input(target_data, vocab_to_int, batch_size) #shape=(batch_size, senquence length) each seq start with index of<GO>\n",
    "    \n",
    "    dec_embed_input = tf.nn.embedding_lookup(embeddings, dec_input)\n",
    "    \n",
    "    training_logits, inference_logits  = decoding_layer(dec_embed_input, \n",
    "                                                        embeddings,\n",
    "                                                        enc_output,\n",
    "                                                        enc_state, \n",
    "                                                        vocab_size, \n",
    "                                                        text_length, \n",
    "                                                        summary_length, \n",
    "                                                        max_summary_length,\n",
    "                                                        rnn_size, \n",
    "                                                        vocab_to_int, \n",
    "                                                        keep_prob, \n",
    "                                                        batch_size,\n",
    "                                                        num_layers)\n",
    "    \n",
    "    return training_logits, inference_logits"
   ]
  },
  {
   "cell_type": "markdown",
   "metadata": {},
   "source": [
    "### Get batches"
   ]
  },
  {
   "cell_type": "code",
   "execution_count": 12,
   "metadata": {},
   "outputs": [],
   "source": [
    "# Pad articles/abstracts with <PAD> so that each articles/abstracts of a batch has the same length\n",
    "\n",
    "def pad_batch(article_batch):\n",
    "    \n",
    "    max_article = max([len(a) for a in article_batch])\n",
    "    \n",
    "    return [a + [vocab_to_int['<PAD>']] * (max_article - len(a)) for a in article_batch]"
   ]
  },
  {
   "cell_type": "code",
   "execution_count": 13,
   "metadata": {},
   "outputs": [],
   "source": [
    "# Batch targets, sources, and the lengths of their articles/abstracts together\n",
    "\n",
    "def get_batches(summaries, texts, batch_size):\n",
    "    for batch_i in range(0, len(texts)//batch_size):\n",
    "        start_i = batch_i * batch_size\n",
    "        summaries_batch = summaries[start_i:start_i + batch_size]\n",
    "        texts_batch = texts[start_i:start_i + batch_size]\n",
    "        pad_summaries_batch = np.array(pad_batch(summaries_batch))\n",
    "        pad_texts_batch = np.array(pad_batch(texts_batch))\n",
    "        \n",
    "        # Need the lengths for the _lengths parameters\n",
    "        pad_summaries_lengths = []\n",
    "        for summary in pad_summaries_batch:\n",
    "            pad_summaries_lengths.append(len(summary))\n",
    "        \n",
    "        pad_texts_lengths = []\n",
    "        for text in pad_texts_batch:\n",
    "            pad_texts_lengths.append(len(text))\n",
    "        \n",
    "        yield pad_summaries_batch, pad_texts_batch, pad_summaries_lengths, pad_texts_lengths"
   ]
  },
  {
   "cell_type": "markdown",
   "metadata": {},
   "source": [
    "### Hyperparameters\n"
   ]
  },
  {
   "cell_type": "code",
   "execution_count": 16,
   "metadata": {},
   "outputs": [],
   "source": [
    "# Number of Epochs\n",
    "epochs = 10\n",
    "\n",
    "# Batch Size\n",
    "batch_size = 8\n",
    "\n",
    "# RNN Size\n",
    "rnn_size = 512\n",
    "\n",
    "# Number of Layers\n",
    "num_layers = 3\n",
    "\n",
    "\n",
    "keep_probability = 0.7\n",
    "\n",
    "# Learning Rate\n",
    "learning_rate = 0.001\n",
    "learning_rate_decay = 0.95\n",
    "min_learning_rate = 0.0005\n",
    "\n",
    "display_step = 128 # Check training loss after every n batches\n",
    "stop_early = 0 \n",
    "stop = 3 # If the update loss does not decrease in 3 consecutive update checks, stop training\n",
    "per_epoch = 32 # Make n update checks per epoch \n",
    "update_check = (len(sorted_texts)//batch_size//per_epoch)-1\n",
    "\n",
    "update_loss = 0 \n",
    "batch_loss = 0\n",
    "summary_update_loss = [] # Record the update losses for saving improvements in the model"
   ]
  },
  {
   "cell_type": "code",
   "execution_count": 15,
   "metadata": {
    "scrolled": true
   },
   "outputs": [
    {
     "name": "stdout",
     "output_type": "stream",
     "text": [
      "WARNING:tensorflow:From /home/jermyn/anaconda3/envs/tf/lib/python3.6/site-packages/tensorflow/python/ops/rnn.py:417: calling reverse_sequence (from tensorflow.python.ops.array_ops) with seq_dim is deprecated and will be removed in a future version.\n",
      "Instructions for updating:\n",
      "seq_dim is deprecated, use seq_axis instead\n",
      "WARNING:tensorflow:From /home/jermyn/anaconda3/envs/tf/lib/python3.6/site-packages/tensorflow/python/util/deprecation.py:432: calling reverse_sequence (from tensorflow.python.ops.array_ops) with batch_dim is deprecated and will be removed in a future version.\n",
      "Instructions for updating:\n",
      "batch_dim is deprecated, use batch_axis instead\n",
      "Graph is built!\n",
      "./graph\n"
     ]
    }
   ],
   "source": [
    "# TODO WARNINGS\n",
    "\n",
    "# Build the graph\n",
    "\n",
    "train_graph = tf.Graph()\n",
    "# Set the graph to default to ensure that it is ready for training\n",
    "with train_graph.as_default():\n",
    "    \n",
    "    # Load the model inputs    \n",
    "    input_data, targets, lr, keep_prob, summary_length, max_summary_length, text_length = model_inputs()\n",
    "\n",
    "    # Create the training and inference logits\n",
    "    # \n",
    "    training_logits, inference_logits = seq2seq_model(tf.reverse(input_data, [-1]),\n",
    "                                                      targets, \n",
    "                                                      keep_prob,   \n",
    "                                                      text_length,\n",
    "                                                      summary_length,\n",
    "                                                      max_summary_length,\n",
    "                                                      len(vocab_to_int)+1,\n",
    "                                                      rnn_size, \n",
    "                                                      num_layers, \n",
    "                                                      vocab_to_int,\n",
    "                                                      batch_size)\n",
    "    \n",
    "    # Create tensors for the training logits and inference logits\n",
    "    training_logits = tf.identity(training_logits[0].rnn_output, 'logits')\n",
    "    inference_logits = tf.identity(inference_logits[0].sample_id, name='predictions')\n",
    "    \n",
    "    # Create the weights for sequence_loss, the sould be all True across since each batch is padded\n",
    "    masks = tf.sequence_mask(summary_length, max_summary_length, dtype=tf.float32, name='masks')\n",
    "\n",
    "    with tf.name_scope(\"optimization\"):\n",
    "        # Loss function\n",
    "        cost = tf.contrib.seq2seq.sequence_loss(training_logits, targets, masks)\n",
    "\n",
    "        # Optimizer\n",
    "        optimizer = tf.train.AdamOptimizer(learning_rate)\n",
    "\n",
    "        # Gradient Clipping\n",
    "        gradients = optimizer.compute_gradients(cost)\n",
    "        capped_gradients = [(tf.clip_by_value(grad, -5., 5.), var) for grad, var in gradients if grad is not None]\n",
    "        train_op = optimizer.apply_gradients(capped_gradients)\n",
    "        \n",
    "print(\"Graph is built!\")\n",
    "graph_location = \"./graph\"\n",
    "print(graph_location)\n",
    "\n",
    "train_writer = tf.summary.FileWriter(graph_location)\n",
    "train_writer.add_graph(train_graph)"
   ]
  },
  {
   "cell_type": "markdown",
   "metadata": {},
   "source": [
    "### Train!"
   ]
  },
  {
   "cell_type": "raw",
   "metadata": {},
   "source": [
    "\"\"\"\n",
    "# OLD\n",
    "train_source = int_texts[batch_size:]\n",
    "train_target = int_summaries[batch_size:]\n",
    "valid_source = int_texts[:batch_size]\n",
    "valid_target = int_summaries[:batch_size]\n",
    "\"\"\"\n",
    "\n",
    "\"\"\"\n",
    "# Subset the data for training ?\n",
    "start = 200000\n",
    "end = start + 50000\n",
    "sorted_summaries_short = sorted_summaries[start:end]\n",
    "sorted_texts_short = sorted_texts[start:end]\n",
    "print(\"The shortest text length:\", len(sorted_texts_short[0]))\n",
    "print(\"The longest text length:\",len(sorted_texts_short[-1]))\n",
    "\"\"\""
   ]
  },
  {
   "cell_type": "code",
   "execution_count": null,
   "metadata": {
    "scrolled": true
   },
   "outputs": [],
   "source": [
    "# TODO\n",
    "# Train the Model - NEW\n",
    "\n",
    "checkpoint = \"./best_model.ckpt\" \n",
    "\n",
    "with tf.Session(graph=train_graph) as sess:\n",
    "    sess.run(tf.global_variables_initializer())\n",
    "    \n",
    "    # If we want to continue training a previous session\n",
    "    #loader = tf.train.import_meta_graph(\"./\" + checkpoint + '.meta')\n",
    "    #loader.restore(sess, checkpoint)\n",
    "    \n",
    "    for epoch_i in range(1, epochs+1):\n",
    "        update_loss = 0\n",
    "        batch_loss = 0\n",
    "        for batch_i, (summaries_batch, texts_batch, summaries_lengths, texts_lengths)\\\n",
    "        in enumerate(get_batches(sorted_summaries, sorted_texts, batch_size)):\n",
    "            start_time = time.time()\n",
    "            # training step\n",
    "            _, loss = sess.run([train_op, cost], {input_data: texts_batch, \n",
    "                                                  targets: summaries_batch, \n",
    "                                                  lr: learning_rate, \n",
    "                                                  summary_length: summaries_lengths, \n",
    "                                                  text_length: texts_lengths, \n",
    "                                                  keep_prob: keep_probability})\n",
    "\n",
    "            batch_loss += loss\n",
    "            update_loss += loss\n",
    "            end_time = time.time()\n",
    "            batch_time = end_time - start_time\n",
    "\n",
    "            if batch_i % display_step == 0 and batch_i > 0:\n",
    "                print('Epoch {:>3}/{} Batch {:>4}/{} - Loss: {:>6.3f}, Seconds: {:>4.2f}'\n",
    "                      .format(epoch_i,\n",
    "                              epochs, \n",
    "                              batch_i, \n",
    "                              len(sorted_texts) // batch_size, \n",
    "                              batch_loss / display_step, \n",
    "                              batch_time*display_step))\n",
    "                batch_loss = 0\n",
    "\n",
    "            if batch_i % update_check == 0 and batch_i > 0:\n",
    "                print(\"Average loss for this update:\", round(update_loss/update_check,3))\n",
    "                summary_update_loss.append(update_loss)\n",
    "                \n",
    "                # If the update loss is at a new minimum, save the model\n",
    "                if update_loss <= min(summary_update_loss):\n",
    "                    print('New Minimum!') \n",
    "                    stop_early = 0\n",
    "                    saver = tf.train.Saver() \n",
    "                    saver.save(sess, checkpoint)\n",
    "\n",
    "                else:\n",
    "                    print(\"No Improvement.\")\n",
    "                    stop_early += 1\n",
    "                    if stop_early == stop:\n",
    "                        break\n",
    "                update_loss = 0\n",
    "            \n",
    "                    \n",
    "        # Reduce learning rate, but not below its minimum value\n",
    "        learning_rate *= learning_rate_decay\n",
    "        if learning_rate < min_learning_rate:\n",
    "            learning_rate = min_learning_rate\n",
    "        \n",
    "        if stop_early == stop:\n",
    "            print(\"Stopping Training...\")\n",
    "            break"
   ]
  },
  {
   "cell_type": "code",
   "execution_count": null,
   "metadata": {},
   "outputs": [],
   "source": [
    "# OLD\n",
    "# TODO early stop\n",
    "# TODO use this better ?\n",
    "\n",
    "\n",
    "(valid_targets_batch, valid_sources_batch, \n",
    " valid_targets_lengths, valid_sources_lengths) = next(get_batches(sorted_summaries,\n",
    "                                                                  sorted_texts,\n",
    "                                                                  batch_size))\n",
    "#                                                                   source_vocab_to_int['<PAD>'],\n",
    "#                                                                   target_vocab_to_int['<PAD>']))\n",
    "\n",
    "display_step = 10 # Check training loss after every n batches\n",
    "\n",
    "checkpoint = \"best_model.ckpt\" \n",
    "with tf.Session(graph=train_graph) as sess:\n",
    "    sess.run(tf.global_variables_initializer())\n",
    "        \n",
    "    for epoch_i in range(1, epochs+1):\n",
    "        for batch_i, (targets_batch, sources_batch, targets_lengths, sources_lengths) in\\\n",
    "        enumerate(get_batches(sorted_summaries, sorted_texts, batch_size)):\n",
    "#                               source_vocab_to_int['<PAD>'],target_vocab_to_int['<PAD>'])):\n",
    "            \n",
    "            # Training step\n",
    "            _, loss = sess.run([train_op, cost], {input_data: sources_batch, \n",
    "                                                  targets: targets_batch, \n",
    "                                                  lr: learning_rate, \n",
    "                                                  summary_length: targets_lengths, \n",
    "                                                  text_length: sources_lengths, \n",
    "                                                  keep_prob: keep_probability})\n",
    "\n",
    "            # Debug message updating us on the status of the training\n",
    "            if batch_i % display_step == 0 and batch_i > 0:\n",
    "                \n",
    "                # Calculate validation cost\n",
    "                validation_loss = sess.run([cost], {input_data: valid_sources_batch, \n",
    "                                                    targets: valid_targets_batch,\n",
    "                                                    lr: learning_rate,\n",
    "                                                    summary_length: valid_targets_lengths,\n",
    "                                                    text_length: valid_sources_lengths})\n",
    "                \n",
    "                print('Epoch {:>3}/{} Batch {:>4}/{} - Loss: {:>6.3f}  - Validation loss: {:>6.3f}'\n",
    "                      .format(epoch_i,\n",
    "                              epochs, \n",
    "                              batch_i, \n",
    "                              len(train_source) // batch_size, \n",
    "                              loss, \n",
    "                              validation_loss[0]))\n",
    "\n",
    "    \n",
    "    # Save Model\n",
    "    saver = tf.train.Saver()\n",
    "    saver.save(sess, checkpoint)\n",
    "    print('Model Trained and Saved')"
   ]
  },
  {
   "cell_type": "markdown",
   "metadata": {},
   "source": [
    "### Prediction!"
   ]
  },
  {
   "cell_type": "code",
   "execution_count": 7,
   "metadata": {
    "collapsed": true
   },
   "outputs": [],
   "source": [
    "def text_to_seq(text):\n",
    "    \n",
    "    return [vocab_to_int.get(word, vocab_to_int['<UNK>']) for word in text.split()]"
   ]
  },
  {
   "cell_type": "code",
   "execution_count": 14,
   "metadata": {
    "collapsed": true
   },
   "outputs": [],
   "source": [
    "input_sentences=[\"SINGAPORE: Keppel Offshore & Marine’s (Keppel O&M) involvement in an international corruption scandal came to light last month as Singapore’s largest oil rig builder said it would pay a hefty fine as part of a global resolution with authorities in three countries. The settlement, reached with criminal authorities in the United States, Brazil and Singapore, is unprecedented for a local company. So is the penalty, totalling US$422 million (S$567 million), which is believed to be a record involving a Singapore-listed entity. The corrupt payments of US$55 million made between 2001 and 2014 also surpassed the bribes unearthed in a corruption bust at shipbuilder Singapore Technologies Marine (ST Marine) in 2014. Then, at least S$24.9 million in bribes were falsely claimed as entertainment expenses and made to employees of ST Marine's customers in return for ship repair contracts. Seven former ST Marine executives were convicted last year for their part in the graft scandal. The latest bribery scandal involving Keppel O&M, a unit of conglomerate Keppel Corporation, has raised questions about its corporate governance and caused turbulence, albeit temporarily, in the shares of mainboard-listed Keppel. State investment firm Temasek Holdings holds a 20.43 per cent stake in Keppel as of Aug 15, 2017.\", \n",
    "                 \"david nalbandian battled back to stun world no. 1 roger federer with a 1-6 6-3 6-3 victory in the final of the madrid masters on sunday . david nalbandian celebrates after upsetting roger federer in the madrid masters final . the argentine , ranked 25th in the world , repeated his 2005 upset win over the swiss star in that year 's season-ending masters cup -- also an indoor event . defending champion federer , playing in his first tournament since winning the u.s. open six weeks ago , made 38 unforced errors . nalbandian became only the third player -- and the second this year after novak djokovic in montreal in august -- to beat the world 's top-three players en route to winning a title . german legend boris becker was the first to perform the feat 13 years ago . nalbandian ousted second-ranked rafael nadal in the quarterfinals and then serbian djokovic in saturday 's semis . the 25-year-old , who lost in the madrid final in 2004 , claimed his first triumph on the atp tour since may , 2006 , on clay in portugal . he spent a year without a coach , but has revived his career since teaming up with hernan gumy . `` i 'm extremely contented to beat the world number one , '' nalbandian said . `` roger and i have a long history and i think that influenced the match . `` it was an extremely hard first set . but i tightened the teeth and i began to play more strongly . things came out fine , i played incredible , and that of course that helps . '' federer added : `` he served well , i was quite surprised with how well he served . `` he came back strong and played well in the end . `` he was a better player all in all . i was struggling after the first set to play aggressively , for some reason . he played tough and did n't miss any more . i could n't play way i wanted to . it was a pity , he played a great tournament .\"]\n",
    "\n",
    "generate_summary_length = [50,45] # 2 inputs\n",
    "\n",
    "texts = [text_to_seq(article) for article in input_sentences]"
   ]
  },
  {
   "cell_type": "code",
   "execution_count": 15,
   "metadata": {},
   "outputs": [
    {
     "name": "stdout",
     "output_type": "stream",
     "text": [
      "INFO:tensorflow:Restoring parameters from ./best_model.ckpt\n",
      "- Article:\n",
      " SINGAPORE: Keppel Offshore & Marine’s (Keppel O&M) involvement in an international corruption scandal came to light last month as Singapore’s largest oil rig builder said it would pay a hefty fine as part of a global resolution with authorities in three countries. The settlement, reached with criminal authorities in the United States, Brazil and Singapore, is unprecedented for a local company. So is the penalty, totalling US$422 million (S$567 million), which is believed to be a record involving a Singapore-listed entity. The corrupt payments of US$55 million made between 2001 and 2014 also surpassed the bribes unearthed in a corruption bust at shipbuilder Singapore Technologies Marine (ST Marine) in 2014. Then, at least S$24.9 million in bribes were falsely claimed as entertainment expenses and made to employees of ST Marine's customers in return for ship repair contracts. Seven former ST Marine executives were convicted last year for their part in the graft scandal. The latest bribery scandal involving Keppel O&M, a unit of conglomerate Keppel Corporation, has raised questions about its corporate governance and caused turbulence, albeit temporarily, in the shares of mainboard-listed Keppel. State investment firm Temasek Holdings holds a 20.43 per cent stake in Keppel as of Aug 15, 2017.\n",
      "- Abstract:\n",
      " the : the the the to to the the . the is to to to the . the the the to to to the .\n",
      "\n",
      "\n",
      "- Article:\n",
      " david nalbandian battled back to stun world no. 1 roger federer with a 1-6 6-3 6-3 victory in the final of the madrid masters on sunday . david nalbandian celebrates after upsetting roger federer in the madrid masters final . the argentine , ranked 25th in the world , repeated his 2005 upset win over the swiss star in that year 's season-ending masters cup -- also an indoor event . defending champion federer , playing in his first tournament since winning the u.s. open six weeks ago , made 38 unforced errors . nalbandian became only the third player -- and the second this year after novak djokovic in montreal in august -- to beat the world 's top-three players en route to winning a title . german legend boris becker was the first to perform the feat 13 years ago . nalbandian ousted second-ranked rafael nadal in the quarterfinals and then serbian djokovic in saturday 's semis . the 25-year-old , who lost in the madrid final in 2004 , claimed his first triumph on the atp tour since may , 2006 , on clay in portugal . he spent a year without a coach , but has revived his career since teaming up with hernan gumy . `` i 'm extremely contented to beat the world number one , '' nalbandian said . `` roger and i have a long history and i think that influenced the match . `` it was an extremely hard first set . but i tightened the teeth and i began to play more strongly . things came out fine , i played incredible , and that of course that helps . '' federer added : `` he served well , i was quite surprised with how well he served . `` he came back strong and played well in the end . `` he was a better player all in all . i was struggling after the first set to play aggressively , for some reason . he played tough and did n't miss any more . i could n't play way i wanted to . it was a pity , he played a great tournament .\n",
      "- Abstract:\n",
      " the : the the to to to to . the is to to to to . the the is to to to to .\n",
      "\n",
      "\n"
     ]
    }
   ],
   "source": [
    "checkpoint = \"./best_model.ckpt\"\n",
    "\n",
    "if type(generate_summary_length) is list:\n",
    "    if len(input_sentences) != len(generate_summary_length):\n",
    "        raise Exception(\"[Error] makeSummaries parameter generate_summary_length must be same length as input_sentences or an integer\")\n",
    "    generate_summary_length_list = generate_summary_length\n",
    "else:\n",
    "    generate_summary_length_list = [generate_summary_length] * len(texts)\n",
    "\n",
    "loaded_graph = tf.Graph()\n",
    "\n",
    "with tf.Session(graph=loaded_graph) as sess:\n",
    "    # Load saved model\n",
    "    loader = tf.train.import_meta_graph(checkpoint + '.meta')\n",
    "    loader.restore(sess, checkpoint)\n",
    "    input_data = loaded_graph.get_tensor_by_name('input:0')\n",
    "    logits = loaded_graph.get_tensor_by_name('predictions:0')\n",
    "    text_length = loaded_graph.get_tensor_by_name('text_length:0')\n",
    "    summary_length = loaded_graph.get_tensor_by_name('summary_length:0')\n",
    "    keep_prob = loaded_graph.get_tensor_by_name('keep_prob:0')\n",
    "    \n",
    "    # Multiply by batch_size to match the model's input parameters\n",
    "    for i, text in enumerate(texts):\n",
    "        generate_summary_length = generate_summary_length_list[i]\n",
    "        answer_logits = sess.run(logits, {input_data: [text]*batch_size, \n",
    "                                          summary_length: [generate_summary_length], #summary_length: [np.random.randint(5,8)], \n",
    "                                          text_length: [len(text)]*batch_size,\n",
    "                                          keep_prob: 1.0})[0] \n",
    "        # Remove the padding from the summaries\n",
    "        pad = vocab_to_int[\"<PAD>\"] \n",
    "        print('- Article:\\n\\r {}'.format(input_sentences[i]))\n",
    "        print('- Abstract:\\n\\r {}\\n\\r\\n\\r'.format(\" \".join([int_to_vocab[i] for i in answer_logits if i != pad])))"
   ]
  },
  {
   "cell_type": "code",
   "execution_count": null,
   "metadata": {
    "collapsed": true
   },
   "outputs": [],
   "source": []
  },
  {
   "cell_type": "code",
   "execution_count": null,
   "metadata": {
    "collapsed": true
   },
   "outputs": [],
   "source": []
  },
  {
   "cell_type": "code",
   "execution_count": null,
   "metadata": {
    "collapsed": true
   },
   "outputs": [],
   "source": []
  }
 ],
 "metadata": {
  "anaconda-cloud": {},
  "kernelspec": {
   "display_name": "Python 3",
   "language": "python",
   "name": "python3"
  },
  "language_info": {
   "codemirror_mode": {
    "name": "ipython",
    "version": 3
   },
   "file_extension": ".py",
   "mimetype": "text/x-python",
   "name": "python",
   "nbconvert_exporter": "python",
   "pygments_lexer": "ipython3",
   "version": "3.6.6"
  }
 },
 "nbformat": 4,
 "nbformat_minor": 2
}
