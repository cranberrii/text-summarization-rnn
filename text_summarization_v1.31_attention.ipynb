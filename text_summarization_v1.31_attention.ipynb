{
 "cells": [
  {
   "cell_type": "raw",
   "metadata": {},
   "source": [
    "# https://github.com/udacity/deep-learning/blob/master/seq2seq/sequence_to_sequence_implementation.ipynb\n",
    "# https://github.com/Currie32/Text-Summarization-with-Amazon-Reviews/blob/master/summarize_reviews.ipynb\n",
    "# https://github.com/Tony607/Summarizing_Text_Amazon_Reviews/blob/master/summarize_reviews.ipynb"
   ]
  },
  {
   "cell_type": "code",
   "execution_count": 1,
   "metadata": {},
   "outputs": [],
   "source": [
    "import numpy as np\n",
    "import sys\n",
    "import os\n",
    "from os import listdir\n",
    "import re\n",
    "import pandas as pd\n",
    "import glob\n",
    "import unicodedata\n",
    "import string\n",
    "import datetime\n",
    "import time\n",
    "from tqdm import tqdm\n",
    "\n",
    "import copy\n",
    "import pickle\n",
    "\n",
    "from collections import Counter\n",
    "\n",
    "import tensorflow as tf"
   ]
  },
  {
   "cell_type": "code",
   "execution_count": 2,
   "metadata": {},
   "outputs": [
    {
     "name": "stderr",
     "output_type": "stream",
     "text": [
      "\r",
      "  0%|                                                                                          | 0/314 [00:00<?, ?it/s]"
     ]
    },
    {
     "name": "stdout",
     "output_type": "stream",
     "text": [
      "train_000.bin\n"
     ]
    },
    {
     "name": "stderr",
     "output_type": "stream",
     "text": [
      "\r",
      "  4%|███▎                                                                             | 13/314 [00:00<00:05, 59.07it/s]"
     ]
    },
    {
     "name": "stdout",
     "output_type": "stream",
     "text": [
      "train_001.bin\n",
      "train_002.bin\n"
     ]
    },
    {
     "name": "stderr",
     "output_type": "stream",
     "text": [
      "\r",
      "  5%|███▊                                                                             | 15/314 [00:00<00:23, 12.66it/s]"
     ]
    },
    {
     "name": "stdout",
     "output_type": "stream",
     "text": [
      "train_003.bin\n",
      "train_004.bin\n"
     ]
    },
    {
     "name": "stderr",
     "output_type": "stream",
     "text": [
      "\r",
      "  5%|████▍                                                                            | 17/314 [00:01<00:38,  7.79it/s]"
     ]
    },
    {
     "name": "stdout",
     "output_type": "stream",
     "text": [
      "train_005.bin\n",
      "train_006.bin\n"
     ]
    },
    {
     "name": "stderr",
     "output_type": "stream",
     "text": [
      "\r",
      "  6%|████▉                                                                            | 19/314 [00:01<00:46,  6.34it/s]"
     ]
    },
    {
     "name": "stdout",
     "output_type": "stream",
     "text": [
      "train_007.bin\n"
     ]
    },
    {
     "name": "stderr",
     "output_type": "stream",
     "text": [
      "\r",
      "  6%|█████▏                                                                           | 20/314 [00:01<00:53,  5.54it/s]"
     ]
    },
    {
     "name": "stdout",
     "output_type": "stream",
     "text": [
      "train_008.bin\n"
     ]
    },
    {
     "name": "stderr",
     "output_type": "stream",
     "text": [
      "\r",
      "  7%|█████▍                                                                           | 21/314 [00:02<01:00,  4.86it/s]"
     ]
    },
    {
     "name": "stdout",
     "output_type": "stream",
     "text": [
      "train_009.bin\n"
     ]
    },
    {
     "name": "stderr",
     "output_type": "stream",
     "text": [
      "\r",
      "  7%|█████▋                                                                           | 22/314 [00:02<01:06,  4.42it/s]"
     ]
    },
    {
     "name": "stdout",
     "output_type": "stream",
     "text": [
      "train_010.bin\n"
     ]
    },
    {
     "name": "stderr",
     "output_type": "stream",
     "text": [
      "\r",
      "  7%|█████▉                                                                           | 23/314 [00:02<01:05,  4.45it/s]"
     ]
    },
    {
     "name": "stdout",
     "output_type": "stream",
     "text": [
      "train_011.bin\n"
     ]
    },
    {
     "name": "stderr",
     "output_type": "stream",
     "text": [
      "\r",
      "  8%|██████▏                                                                          | 24/314 [00:02<01:05,  4.46it/s]"
     ]
    },
    {
     "name": "stdout",
     "output_type": "stream",
     "text": [
      "train_012.bin\n"
     ]
    },
    {
     "name": "stderr",
     "output_type": "stream",
     "text": [
      "\r",
      "  8%|██████▍                                                                          | 25/314 [00:03<01:03,  4.52it/s]"
     ]
    },
    {
     "name": "stdout",
     "output_type": "stream",
     "text": [
      "train_013.bin\n"
     ]
    },
    {
     "name": "stderr",
     "output_type": "stream",
     "text": [
      "\r",
      "  8%|██████▋                                                                          | 26/314 [00:03<01:05,  4.38it/s]"
     ]
    },
    {
     "name": "stdout",
     "output_type": "stream",
     "text": [
      "train_014.bin\n"
     ]
    },
    {
     "name": "stderr",
     "output_type": "stream",
     "text": [
      "\r",
      "  9%|██████▉                                                                          | 27/314 [00:03<01:10,  4.05it/s]"
     ]
    },
    {
     "name": "stdout",
     "output_type": "stream",
     "text": [
      "train_015.bin\n"
     ]
    },
    {
     "name": "stderr",
     "output_type": "stream",
     "text": [
      "\r",
      "  9%|███████▏                                                                         | 28/314 [00:03<01:07,  4.22it/s]"
     ]
    },
    {
     "name": "stdout",
     "output_type": "stream",
     "text": [
      "train_016.bin\n"
     ]
    },
    {
     "name": "stderr",
     "output_type": "stream",
     "text": [
      "\r",
      "  9%|███████▍                                                                         | 29/314 [00:03<01:04,  4.41it/s]"
     ]
    },
    {
     "name": "stdout",
     "output_type": "stream",
     "text": [
      "train_017.bin\n"
     ]
    },
    {
     "name": "stderr",
     "output_type": "stream",
     "text": [
      "\r",
      " 10%|███████▋                                                                         | 30/314 [00:04<01:02,  4.57it/s]"
     ]
    },
    {
     "name": "stdout",
     "output_type": "stream",
     "text": [
      "train_018.bin\n"
     ]
    },
    {
     "name": "stderr",
     "output_type": "stream",
     "text": [
      "\r",
      " 10%|███████▉                                                                         | 31/314 [00:04<01:01,  4.59it/s]"
     ]
    },
    {
     "name": "stdout",
     "output_type": "stream",
     "text": [
      "train_019.bin\n"
     ]
    },
    {
     "name": "stderr",
     "output_type": "stream",
     "text": [
      "\r",
      " 10%|████████▎                                                                        | 32/314 [00:04<01:01,  4.59it/s]"
     ]
    },
    {
     "name": "stdout",
     "output_type": "stream",
     "text": [
      "train_020.bin\n"
     ]
    },
    {
     "name": "stderr",
     "output_type": "stream",
     "text": [
      "\r",
      " 11%|████████▌                                                                        | 33/314 [00:04<01:01,  4.57it/s]"
     ]
    },
    {
     "name": "stdout",
     "output_type": "stream",
     "text": [
      "train_021.bin\n"
     ]
    },
    {
     "name": "stderr",
     "output_type": "stream",
     "text": [
      "\r",
      " 11%|████████▊                                                                        | 34/314 [00:05<01:02,  4.49it/s]"
     ]
    },
    {
     "name": "stdout",
     "output_type": "stream",
     "text": [
      "train_022.bin\n"
     ]
    },
    {
     "name": "stderr",
     "output_type": "stream",
     "text": [
      "\r",
      " 11%|█████████                                                                        | 35/314 [00:05<01:01,  4.55it/s]"
     ]
    },
    {
     "name": "stdout",
     "output_type": "stream",
     "text": [
      "train_023.bin\n"
     ]
    },
    {
     "name": "stderr",
     "output_type": "stream",
     "text": [
      "\r",
      " 11%|█████████▎                                                                       | 36/314 [00:05<01:04,  4.34it/s]"
     ]
    },
    {
     "name": "stdout",
     "output_type": "stream",
     "text": [
      "train_024.bin\n"
     ]
    },
    {
     "name": "stderr",
     "output_type": "stream",
     "text": [
      "\r",
      " 12%|█████████▌                                                                       | 37/314 [00:05<01:02,  4.41it/s]"
     ]
    },
    {
     "name": "stdout",
     "output_type": "stream",
     "text": [
      "train_025.bin\n"
     ]
    },
    {
     "name": "stderr",
     "output_type": "stream",
     "text": [
      "\r",
      " 12%|█████████▊                                                                       | 38/314 [00:05<01:01,  4.48it/s]"
     ]
    },
    {
     "name": "stdout",
     "output_type": "stream",
     "text": [
      "train_026.bin\n"
     ]
    },
    {
     "name": "stderr",
     "output_type": "stream",
     "text": [
      "\r",
      " 12%|██████████                                                                       | 39/314 [00:06<01:01,  4.44it/s]"
     ]
    },
    {
     "name": "stdout",
     "output_type": "stream",
     "text": [
      "train_027.bin\n"
     ]
    },
    {
     "name": "stderr",
     "output_type": "stream",
     "text": [
      "\r",
      " 13%|██████████▎                                                                      | 40/314 [00:06<01:01,  4.42it/s]"
     ]
    },
    {
     "name": "stdout",
     "output_type": "stream",
     "text": [
      "train_028.bin\n"
     ]
    },
    {
     "name": "stderr",
     "output_type": "stream",
     "text": [
      "\r",
      " 13%|██████████▌                                                                      | 41/314 [00:06<01:03,  4.32it/s]"
     ]
    },
    {
     "name": "stdout",
     "output_type": "stream",
     "text": [
      "train_029.bin\n"
     ]
    },
    {
     "name": "stderr",
     "output_type": "stream",
     "text": [
      "\r",
      " 13%|██████████▊                                                                      | 42/314 [00:06<01:03,  4.31it/s]"
     ]
    },
    {
     "name": "stdout",
     "output_type": "stream",
     "text": [
      "train_030.bin\n"
     ]
    },
    {
     "name": "stderr",
     "output_type": "stream",
     "text": [
      "\r",
      " 14%|███████████                                                                      | 43/314 [00:07<01:04,  4.23it/s]"
     ]
    },
    {
     "name": "stdout",
     "output_type": "stream",
     "text": [
      "train_031.bin\n"
     ]
    },
    {
     "name": "stderr",
     "output_type": "stream",
     "text": [
      "\r",
      " 14%|███████████▎                                                                     | 44/314 [00:07<01:03,  4.22it/s]"
     ]
    },
    {
     "name": "stdout",
     "output_type": "stream",
     "text": [
      "train_032.bin\n"
     ]
    },
    {
     "name": "stderr",
     "output_type": "stream",
     "text": [
      "\r",
      " 14%|███████████▌                                                                     | 45/314 [00:07<01:04,  4.20it/s]"
     ]
    },
    {
     "name": "stdout",
     "output_type": "stream",
     "text": [
      "train_033.bin\n"
     ]
    },
    {
     "name": "stderr",
     "output_type": "stream",
     "text": [
      "\r",
      " 15%|███████████▊                                                                     | 46/314 [00:07<01:03,  4.23it/s]"
     ]
    },
    {
     "name": "stdout",
     "output_type": "stream",
     "text": [
      "train_034.bin\n"
     ]
    },
    {
     "name": "stderr",
     "output_type": "stream",
     "text": [
      "\r",
      " 15%|████████████                                                                     | 47/314 [00:08<01:06,  4.03it/s]"
     ]
    },
    {
     "name": "stdout",
     "output_type": "stream",
     "text": [
      "train_035.bin\n"
     ]
    },
    {
     "name": "stderr",
     "output_type": "stream",
     "text": [
      "\r",
      " 15%|████████████▍                                                                    | 48/314 [00:08<01:05,  4.08it/s]"
     ]
    },
    {
     "name": "stdout",
     "output_type": "stream",
     "text": [
      "train_036.bin\n"
     ]
    },
    {
     "name": "stderr",
     "output_type": "stream",
     "text": [
      "\r",
      " 16%|████████████▋                                                                    | 49/314 [00:08<01:06,  4.01it/s]"
     ]
    },
    {
     "name": "stdout",
     "output_type": "stream",
     "text": [
      "train_037.bin\n"
     ]
    },
    {
     "name": "stderr",
     "output_type": "stream",
     "text": [
      "\r",
      " 16%|████████████▉                                                                    | 50/314 [00:08<01:07,  3.93it/s]"
     ]
    },
    {
     "name": "stdout",
     "output_type": "stream",
     "text": [
      "train_038.bin\n"
     ]
    },
    {
     "name": "stderr",
     "output_type": "stream",
     "text": [
      "\r",
      " 16%|█████████████▏                                                                   | 51/314 [00:09<01:16,  3.45it/s]"
     ]
    },
    {
     "name": "stdout",
     "output_type": "stream",
     "text": [
      "train_039.bin\n"
     ]
    },
    {
     "name": "stderr",
     "output_type": "stream",
     "text": [
      "\r",
      " 17%|█████████████▍                                                                   | 52/314 [00:09<01:10,  3.69it/s]"
     ]
    },
    {
     "name": "stdout",
     "output_type": "stream",
     "text": [
      "train_040.bin\n"
     ]
    },
    {
     "name": "stderr",
     "output_type": "stream",
     "text": [
      "\r",
      " 17%|█████████████▋                                                                   | 53/314 [00:09<01:10,  3.71it/s]"
     ]
    },
    {
     "name": "stdout",
     "output_type": "stream",
     "text": [
      "train_041.bin\n"
     ]
    },
    {
     "name": "stderr",
     "output_type": "stream",
     "text": [
      "\r",
      " 17%|█████████████▉                                                                   | 54/314 [00:10<01:11,  3.66it/s]"
     ]
    },
    {
     "name": "stdout",
     "output_type": "stream",
     "text": [
      "train_042.bin\n"
     ]
    },
    {
     "name": "stderr",
     "output_type": "stream",
     "text": [
      "\r",
      " 18%|██████████████▏                                                                  | 55/314 [00:10<01:06,  3.88it/s]"
     ]
    },
    {
     "name": "stdout",
     "output_type": "stream",
     "text": [
      "train_043.bin\n"
     ]
    },
    {
     "name": "stderr",
     "output_type": "stream",
     "text": [
      "\r",
      " 18%|██████████████▍                                                                  | 56/314 [00:10<01:04,  3.97it/s]"
     ]
    },
    {
     "name": "stdout",
     "output_type": "stream",
     "text": [
      "train_044.bin\n"
     ]
    },
    {
     "name": "stderr",
     "output_type": "stream",
     "text": [
      "\r",
      " 18%|██████████████▋                                                                  | 57/314 [00:10<01:02,  4.11it/s]"
     ]
    },
    {
     "name": "stdout",
     "output_type": "stream",
     "text": [
      "train_045.bin\n"
     ]
    },
    {
     "name": "stderr",
     "output_type": "stream",
     "text": [
      "\r",
      " 18%|██████████████▉                                                                  | 58/314 [00:11<01:07,  3.78it/s]"
     ]
    },
    {
     "name": "stdout",
     "output_type": "stream",
     "text": [
      "train_046.bin\n"
     ]
    },
    {
     "name": "stderr",
     "output_type": "stream",
     "text": [
      "\r",
      " 19%|███████████████▏                                                                 | 59/314 [00:11<01:06,  3.82it/s]"
     ]
    },
    {
     "name": "stdout",
     "output_type": "stream",
     "text": [
      "train_047.bin\n"
     ]
    },
    {
     "name": "stderr",
     "output_type": "stream",
     "text": [
      "\r",
      " 19%|███████████████▍                                                                 | 60/314 [00:11<01:05,  3.87it/s]"
     ]
    },
    {
     "name": "stdout",
     "output_type": "stream",
     "text": [
      "train_048.bin\n"
     ]
    },
    {
     "name": "stderr",
     "output_type": "stream",
     "text": [
      "\r",
      " 19%|███████████████▋                                                                 | 61/314 [00:11<01:03,  3.98it/s]"
     ]
    },
    {
     "name": "stdout",
     "output_type": "stream",
     "text": [
      "train_049.bin\n"
     ]
    },
    {
     "name": "stderr",
     "output_type": "stream",
     "text": [
      "\r",
      " 20%|███████████████▉                                                                 | 62/314 [00:12<01:06,  3.79it/s]"
     ]
    },
    {
     "name": "stdout",
     "output_type": "stream",
     "text": [
      "train_050.bin\n"
     ]
    },
    {
     "name": "stderr",
     "output_type": "stream",
     "text": [
      "\r",
      " 20%|████████████████▎                                                                | 63/314 [00:12<01:04,  3.92it/s]"
     ]
    },
    {
     "name": "stdout",
     "output_type": "stream",
     "text": [
      "train_051.bin\n"
     ]
    },
    {
     "name": "stderr",
     "output_type": "stream",
     "text": [
      "\r",
      " 20%|████████████████▌                                                                | 64/314 [00:12<01:01,  4.03it/s]"
     ]
    },
    {
     "name": "stdout",
     "output_type": "stream",
     "text": [
      "train_052.bin\n"
     ]
    },
    {
     "name": "stderr",
     "output_type": "stream",
     "text": [
      "\r",
      " 21%|████████████████▊                                                                | 65/314 [00:12<01:03,  3.94it/s]"
     ]
    },
    {
     "name": "stdout",
     "output_type": "stream",
     "text": [
      "train_053.bin\n"
     ]
    },
    {
     "name": "stderr",
     "output_type": "stream",
     "text": [
      "\r",
      " 21%|█████████████████                                                                | 66/314 [00:13<01:01,  4.00it/s]"
     ]
    },
    {
     "name": "stdout",
     "output_type": "stream",
     "text": [
      "train_054.bin\n"
     ]
    },
    {
     "name": "stderr",
     "output_type": "stream",
     "text": [
      "\r",
      " 21%|█████████████████▎                                                               | 67/314 [00:13<01:02,  3.97it/s]"
     ]
    },
    {
     "name": "stdout",
     "output_type": "stream",
     "text": [
      "train_055.bin\n"
     ]
    },
    {
     "name": "stderr",
     "output_type": "stream",
     "text": [
      "\r",
      " 22%|█████████████████▌                                                               | 68/314 [00:13<01:02,  3.96it/s]"
     ]
    },
    {
     "name": "stdout",
     "output_type": "stream",
     "text": [
      "train_056.bin\n"
     ]
    },
    {
     "name": "stderr",
     "output_type": "stream",
     "text": [
      "\r",
      " 22%|█████████████████▊                                                               | 69/314 [00:13<01:00,  4.04it/s]"
     ]
    },
    {
     "name": "stdout",
     "output_type": "stream",
     "text": [
      "train_057.bin\n"
     ]
    },
    {
     "name": "stderr",
     "output_type": "stream",
     "text": [
      "\r",
      " 22%|██████████████████                                                               | 70/314 [00:14<00:59,  4.09it/s]"
     ]
    },
    {
     "name": "stdout",
     "output_type": "stream",
     "text": [
      "train_058.bin\n"
     ]
    },
    {
     "name": "stderr",
     "output_type": "stream",
     "text": [
      "\r",
      " 23%|██████████████████▎                                                              | 71/314 [00:14<00:58,  4.13it/s]"
     ]
    },
    {
     "name": "stdout",
     "output_type": "stream",
     "text": [
      "train_059.bin\n"
     ]
    },
    {
     "name": "stderr",
     "output_type": "stream",
     "text": [
      "\r",
      " 23%|██████████████████▌                                                              | 72/314 [00:14<00:58,  4.12it/s]"
     ]
    },
    {
     "name": "stdout",
     "output_type": "stream",
     "text": [
      "train_060.bin\n"
     ]
    },
    {
     "name": "stderr",
     "output_type": "stream",
     "text": [
      "\r",
      " 23%|██████████████████▊                                                              | 73/314 [00:14<00:58,  4.14it/s]"
     ]
    },
    {
     "name": "stdout",
     "output_type": "stream",
     "text": [
      "train_061.bin\n"
     ]
    },
    {
     "name": "stderr",
     "output_type": "stream",
     "text": [
      "\r",
      " 24%|███████████████████                                                              | 74/314 [00:15<00:58,  4.11it/s]"
     ]
    },
    {
     "name": "stdout",
     "output_type": "stream",
     "text": [
      "train_062.bin\n"
     ]
    },
    {
     "name": "stderr",
     "output_type": "stream",
     "text": [
      "\r",
      " 24%|███████████████████▎                                                             | 75/314 [00:15<00:58,  4.06it/s]"
     ]
    },
    {
     "name": "stdout",
     "output_type": "stream",
     "text": [
      "train_063.bin\n"
     ]
    },
    {
     "name": "stderr",
     "output_type": "stream",
     "text": [
      "\r",
      " 24%|███████████████████▌                                                             | 76/314 [00:15<00:59,  4.00it/s]"
     ]
    },
    {
     "name": "stdout",
     "output_type": "stream",
     "text": [
      "train_064.bin\n"
     ]
    },
    {
     "name": "stderr",
     "output_type": "stream",
     "text": [
      "\r",
      " 25%|███████████████████▊                                                             | 77/314 [00:15<00:59,  3.99it/s]"
     ]
    },
    {
     "name": "stdout",
     "output_type": "stream",
     "text": [
      "train_065.bin\n"
     ]
    },
    {
     "name": "stderr",
     "output_type": "stream",
     "text": [
      "\r",
      " 25%|████████████████████                                                             | 78/314 [00:16<01:00,  3.88it/s]"
     ]
    },
    {
     "name": "stdout",
     "output_type": "stream",
     "text": [
      "train_066.bin\n"
     ]
    },
    {
     "name": "stderr",
     "output_type": "stream",
     "text": [
      "\r",
      " 25%|████████████████████▍                                                            | 79/314 [00:16<01:00,  3.90it/s]"
     ]
    },
    {
     "name": "stdout",
     "output_type": "stream",
     "text": [
      "train_067.bin\n"
     ]
    },
    {
     "name": "stderr",
     "output_type": "stream",
     "text": [
      "\r",
      " 25%|████████████████████▋                                                            | 80/314 [00:16<00:58,  3.98it/s]"
     ]
    },
    {
     "name": "stdout",
     "output_type": "stream",
     "text": [
      "train_068.bin\n"
     ]
    },
    {
     "name": "stderr",
     "output_type": "stream",
     "text": [
      "\r",
      " 26%|████████████████████▉                                                            | 81/314 [00:16<00:57,  4.02it/s]"
     ]
    },
    {
     "name": "stdout",
     "output_type": "stream",
     "text": [
      "train_069.bin\n"
     ]
    },
    {
     "name": "stderr",
     "output_type": "stream",
     "text": [
      "\r",
      " 26%|█████████████████████▏                                                           | 82/314 [00:17<00:56,  4.09it/s]"
     ]
    },
    {
     "name": "stdout",
     "output_type": "stream",
     "text": [
      "train_070.bin\n"
     ]
    },
    {
     "name": "stderr",
     "output_type": "stream",
     "text": [
      "\r",
      " 26%|█████████████████████▍                                                           | 83/314 [00:17<00:59,  3.87it/s]"
     ]
    },
    {
     "name": "stdout",
     "output_type": "stream",
     "text": [
      "train_071.bin\n"
     ]
    },
    {
     "name": "stderr",
     "output_type": "stream",
     "text": [
      "\r",
      " 27%|█████████████████████▋                                                           | 84/314 [00:17<00:58,  3.93it/s]"
     ]
    },
    {
     "name": "stdout",
     "output_type": "stream",
     "text": [
      "train_072.bin\n"
     ]
    },
    {
     "name": "stderr",
     "output_type": "stream",
     "text": [
      "\r",
      " 27%|█████████████████████▉                                                           | 85/314 [00:17<00:56,  4.02it/s]"
     ]
    },
    {
     "name": "stdout",
     "output_type": "stream",
     "text": [
      "train_073.bin\n"
     ]
    },
    {
     "name": "stderr",
     "output_type": "stream",
     "text": [
      "\r",
      " 27%|██████████████████████▏                                                          | 86/314 [00:18<00:56,  4.03it/s]"
     ]
    },
    {
     "name": "stdout",
     "output_type": "stream",
     "text": [
      "train_074.bin\n"
     ]
    },
    {
     "name": "stderr",
     "output_type": "stream",
     "text": [
      "\r",
      " 28%|██████████████████████▍                                                          | 87/314 [00:18<00:56,  3.99it/s]"
     ]
    },
    {
     "name": "stdout",
     "output_type": "stream",
     "text": [
      "train_075.bin\n"
     ]
    },
    {
     "name": "stderr",
     "output_type": "stream",
     "text": [
      "\r",
      " 28%|██████████████████████▋                                                          | 88/314 [00:18<00:56,  4.03it/s]"
     ]
    },
    {
     "name": "stdout",
     "output_type": "stream",
     "text": [
      "train_076.bin\n"
     ]
    },
    {
     "name": "stderr",
     "output_type": "stream",
     "text": [
      "\r",
      " 28%|██████████████████████▉                                                          | 89/314 [00:18<00:56,  4.00it/s]"
     ]
    },
    {
     "name": "stdout",
     "output_type": "stream",
     "text": [
      "train_077.bin\n"
     ]
    },
    {
     "name": "stderr",
     "output_type": "stream",
     "text": [
      "\r",
      " 29%|███████████████████████▏                                                         | 90/314 [00:19<00:56,  3.95it/s]"
     ]
    },
    {
     "name": "stdout",
     "output_type": "stream",
     "text": [
      "train_078.bin\n"
     ]
    },
    {
     "name": "stderr",
     "output_type": "stream",
     "text": [
      "\r",
      " 29%|███████████████████████▍                                                         | 91/314 [00:19<00:58,  3.84it/s]"
     ]
    },
    {
     "name": "stdout",
     "output_type": "stream",
     "text": [
      "train_079.bin\n"
     ]
    },
    {
     "name": "stderr",
     "output_type": "stream",
     "text": [
      "\r",
      " 29%|███████████████████████▋                                                         | 92/314 [00:19<00:57,  3.84it/s]"
     ]
    },
    {
     "name": "stdout",
     "output_type": "stream",
     "text": [
      "train_080.bin\n"
     ]
    },
    {
     "name": "stderr",
     "output_type": "stream",
     "text": [
      "\r",
      " 30%|███████████████████████▉                                                         | 93/314 [00:19<00:57,  3.84it/s]"
     ]
    },
    {
     "name": "stdout",
     "output_type": "stream",
     "text": [
      "train_081.bin\n"
     ]
    },
    {
     "name": "stderr",
     "output_type": "stream",
     "text": [
      "\r",
      " 30%|████████████████████████▏                                                        | 94/314 [00:20<01:03,  3.49it/s]"
     ]
    },
    {
     "name": "stdout",
     "output_type": "stream",
     "text": [
      "train_082.bin\n"
     ]
    },
    {
     "name": "stderr",
     "output_type": "stream",
     "text": [
      "\r",
      " 30%|████████████████████████▌                                                        | 95/314 [00:20<01:06,  3.28it/s]"
     ]
    },
    {
     "name": "stdout",
     "output_type": "stream",
     "text": [
      "train_083.bin\n"
     ]
    },
    {
     "name": "stderr",
     "output_type": "stream",
     "text": [
      "\r",
      " 31%|████████████████████████▊                                                        | 96/314 [00:20<01:10,  3.09it/s]"
     ]
    },
    {
     "name": "stdout",
     "output_type": "stream",
     "text": [
      "train_084.bin\n"
     ]
    },
    {
     "name": "stderr",
     "output_type": "stream",
     "text": [
      "\r",
      " 31%|█████████████████████████                                                        | 97/314 [00:21<01:13,  2.93it/s]"
     ]
    },
    {
     "name": "stdout",
     "output_type": "stream",
     "text": [
      "train_085.bin\n"
     ]
    },
    {
     "name": "stderr",
     "output_type": "stream",
     "text": [
      "\r",
      " 31%|█████████████████████████▎                                                       | 98/314 [00:21<01:09,  3.09it/s]"
     ]
    },
    {
     "name": "stdout",
     "output_type": "stream",
     "text": [
      "train_086.bin\n"
     ]
    },
    {
     "name": "stderr",
     "output_type": "stream",
     "text": [
      "\r",
      " 32%|█████████████████████████▌                                                       | 99/314 [00:21<01:04,  3.32it/s]"
     ]
    },
    {
     "name": "stdout",
     "output_type": "stream",
     "text": [
      "train_087.bin\n"
     ]
    },
    {
     "name": "stderr",
     "output_type": "stream",
     "text": [
      "\r",
      " 32%|█████████████████████████▍                                                      | 100/314 [00:22<01:01,  3.49it/s]"
     ]
    },
    {
     "name": "stdout",
     "output_type": "stream",
     "text": [
      "train_088.bin\n"
     ]
    },
    {
     "name": "stderr",
     "output_type": "stream",
     "text": [
      "\r",
      " 32%|█████████████████████████▋                                                      | 101/314 [00:22<01:07,  3.15it/s]"
     ]
    },
    {
     "name": "stdout",
     "output_type": "stream",
     "text": [
      "train_089.bin\n"
     ]
    },
    {
     "name": "stderr",
     "output_type": "stream",
     "text": [
      "\r",
      " 32%|█████████████████████████▉                                                      | 102/314 [00:22<01:05,  3.24it/s]"
     ]
    },
    {
     "name": "stdout",
     "output_type": "stream",
     "text": [
      "train_090.bin\n"
     ]
    },
    {
     "name": "stderr",
     "output_type": "stream",
     "text": [
      "\r",
      " 33%|██████████████████████████▏                                                     | 103/314 [00:23<01:01,  3.41it/s]"
     ]
    },
    {
     "name": "stdout",
     "output_type": "stream",
     "text": [
      "train_091.bin\n"
     ]
    },
    {
     "name": "stderr",
     "output_type": "stream",
     "text": [
      "\r",
      " 33%|██████████████████████████▍                                                     | 104/314 [00:23<00:58,  3.60it/s]"
     ]
    },
    {
     "name": "stdout",
     "output_type": "stream",
     "text": [
      "train_092.bin\n"
     ]
    },
    {
     "name": "stderr",
     "output_type": "stream",
     "text": [
      "\r",
      " 33%|██████████████████████████▊                                                     | 105/314 [00:23<01:00,  3.44it/s]"
     ]
    },
    {
     "name": "stdout",
     "output_type": "stream",
     "text": [
      "train_093.bin\n"
     ]
    },
    {
     "name": "stderr",
     "output_type": "stream",
     "text": [
      "\r",
      " 34%|███████████████████████████                                                     | 106/314 [00:23<01:01,  3.39it/s]"
     ]
    },
    {
     "name": "stdout",
     "output_type": "stream",
     "text": [
      "train_094.bin\n"
     ]
    },
    {
     "name": "stderr",
     "output_type": "stream",
     "text": [
      "\r",
      " 34%|███████████████████████████▎                                                    | 107/314 [00:24<01:10,  2.92it/s]"
     ]
    },
    {
     "name": "stdout",
     "output_type": "stream",
     "text": [
      "train_095.bin\n"
     ]
    },
    {
     "name": "stderr",
     "output_type": "stream",
     "text": [
      "\r",
      " 34%|███████████████████████████▌                                                    | 108/314 [00:24<01:14,  2.76it/s]"
     ]
    },
    {
     "name": "stdout",
     "output_type": "stream",
     "text": [
      "train_096.bin\n"
     ]
    },
    {
     "name": "stderr",
     "output_type": "stream",
     "text": [
      "\r",
      " 35%|███████████████████████████▊                                                    | 109/314 [00:25<01:11,  2.85it/s]"
     ]
    },
    {
     "name": "stdout",
     "output_type": "stream",
     "text": [
      "train_097.bin\n"
     ]
    },
    {
     "name": "stderr",
     "output_type": "stream",
     "text": [
      "\r",
      " 35%|████████████████████████████                                                    | 110/314 [00:25<01:09,  2.94it/s]"
     ]
    },
    {
     "name": "stdout",
     "output_type": "stream",
     "text": [
      "train_098.bin\n"
     ]
    },
    {
     "name": "stderr",
     "output_type": "stream",
     "text": [
      "\r",
      " 35%|████████████████████████████▎                                                   | 111/314 [00:25<01:10,  2.87it/s]"
     ]
    },
    {
     "name": "stdout",
     "output_type": "stream",
     "text": [
      "train_099.bin\n"
     ]
    },
    {
     "name": "stderr",
     "output_type": "stream",
     "text": [
      "100%|████████████████████████████████████████████████████████████████████████████████| 314/314 [00:26<00:00, 12.05it/s]\n"
     ]
    },
    {
     "name": "stdout",
     "output_type": "stream",
     "text": [
      "done!\n"
     ]
    }
   ],
   "source": [
    "path = \"./data/finished_files/chunked/\" \n",
    "\n",
    "train_raw_all = []\n",
    "\n",
    "for filename in tqdm(listdir(path)):\n",
    "    if 'train_0' in filename:\n",
    "        print(filename)\n",
    "        path_file = path + '\\\\' + filename\n",
    "        with open(path_file, 'r', encoding='utf-8',errors='ignore') as binary_file:\n",
    "            raw_text = binary_file.read()\n",
    "            raw_text = raw_text.replace('<s>', '')\n",
    "            raw_text = raw_text.replace('</s>', '')\n",
    "            raw_text = raw_text.replace('\\n', '')\n",
    "            raw_text = raw_text.replace('-lrb- ', '')\n",
    "            raw_text = raw_text.replace('-rrb- ', '')\n",
    "            raw_text = raw_text.replace('\\x12', '')\n",
    "            raw_text = raw_text.replace('\\x17', '')\n",
    "            raw_text = raw_text.replace('\\x01', '')\n",
    "            raw_text = raw_text.replace('\\x02', '')\n",
    "            raw_text = raw_text.replace('\\x03', '')\n",
    "            raw_text = raw_text.replace('\\x00', '')\n",
    "            raw_text = raw_text.replace('\\x11', '')\n",
    "            raw_text = raw_text.replace('\\x14', '')\n",
    "            raw_text = raw_text.replace('\\x15', '')\n",
    "            abstract = raw_text.split('\\x08abstract') # .decode('utf-8', 'ignore')ISO-8859-1 \n",
    "            x = [a.split('\\x07article') for a in abstract]\n",
    "            train_raw_all.extend(x[1:])\n",
    "   \n",
    "        \n",
    "# df = pd.DataFrame(data=train_raw_all, columns=['abstract','article']) # df = df.ix[1:]\n",
    "# s = {'<s>':'', '</s>':''}\n",
    "# df['abstract'] = df['abstract'].replace(s)\n",
    "\n",
    "#df['abstract'] = df['abstract'].apply(lambda x: x.split('<s>',1)[-1])\n",
    "#df['article'] = df['article'].apply(lambda x: x.split('-rrb-',1)[-1])\n",
    "\n",
    "print('done!')"
   ]
  },
  {
   "cell_type": "code",
   "execution_count": 3,
   "metadata": {
    "scrolled": true
   },
   "outputs": [
    {
     "data": {
      "text/plain": [
       "[' adama amanda ndiaye is best known as the creator of fashion label , adama paris .   the senegalese designer wants to reinvent how african fashion is showcased .   tired of seeing a lack of black models on the catwalk , she launched black fashion week . \\x1f',\n",
       " \"\\x1f\\x1f\\x1fdakar , senegal cnn -- wearing a stylish red dress and a beaming smile , celebrated fashion designer adama paris sits comfortably inside her spacious living room in dakar , the vibrant seaside capital of senegal , as we discuss her inspirations . `` my designing process starts always with me , '' explains paris . `` with what i want to wear ; with what is in my closet -- my style is multi-cultural , it 's eclectic , it 's the mix of my travels , it 's bold , it 's rocky , '' she adds . `` it 's african . '' indeed , for more than a decade the senegalese designer has been putting african fashion to global runways and clothing stores -- from new york and london to paris and tokyo . but besides spreading her stylish vision around the world , paris is also bringing attention closer to home -- 12 years ago she founded dakar fashion week , a popular event allowing designers from all over west africa and beyond to showcase their colorful creations to fashion lovers and international media . `` the fashion scene in senegal is so bold , '' says paris , whose real name is adama amanda ndiaye . `` i have seen it grow like a baby and i am so proud to be a part of this . '' black fashion week . following the initial success of the dakar fashion week , paris began receiving invitations to attend big designers ' shows in fashion capitals like london and new york . but whilst there , she quickly started feeling like an outsider . `` i was really frustrated , '' she says . `` when i looked around there were so few black models and i felt like i was n't belonging there . '' that frustration was behind paris ' decision to start black fashion week in 2010 to help promote the talented black designers and models that she felt were being ignored by the industry . paris held the inaugural event in the czech republic , followed by editions in paris , montreal , geneva and bahia . `` i thought it was right ... to try to do something to help my own people and to get more exposure , '' she says . `` it was not saying them they were wrong , it was saying , ` ok , we are here , ' '' adds paris . `` it was also a statement -lsb- to -rsb- the fashion industry , ` stop this discrimination , black is beautiful . ' i am sick and tired of seeing only skinny blonde girls and not black women in the runway . '' from the runway to the tv screen . the daughter of diplomats , paris spent much of her childhood traveling and soaking up other cultures before finally settling in france where she attended college . she first made a name for herself in the french capital but decided to bring her fashion home to senegal in 2001 . now , with a thriving label and flourishing annual events under her belt , the fashion entrepreneur is taking on her next business venture -- tv . a two-year project in the making , paris has had her heart set on creating a new avenue to promote local fashion talent . starting with a reality show she describes as the `` equivalent of america 's next top model , '' paris wants to provide new opportunities for aspiring young models from the continent . `` we wanted really young girls and give them -lsb- an -rsb- opportunity to go outside senegal to model in africa -- south africa , angola -lsb- and -rsb- also in europe . this is going to be a big deal because it is probably going to start their career . '' her other goal is to introduce viewers to alternative fashion designers . while there are currently channels devoted to fashion , paris explains that they do n't show enough african inspiration and when they do , coverage tends to focus on designers from south africa . `` i want them to see us in nigeria , ghana , dakar . that was the purpose of this channel , '' she says . `` i want people to see we have great designers . and that 's what i 'm going to show -- africans wearing african clothes , '' adds paris . fashion made in africa by africans . '' read this : dakar , the ` capital of franco-african fashion ' read this : teen rapper fights sexual harassment .+\"]"
      ]
     },
     "execution_count": 3,
     "metadata": {},
     "output_type": "execute_result"
    }
   ],
   "source": [
    "(train_raw_all[51050])"
   ]
  },
  {
   "cell_type": "code",
   "execution_count": 4,
   "metadata": {},
   "outputs": [
    {
     "data": {
      "text/plain": [
       "\" mentally ill inmates in miami are housed on the `` forgotten floor ''   judge steven leifman says most are there as a result of `` avoidable felonies ''   while cnn tours facility , patient shouts : `` i am the son of the president ''   leifman says the system is unjust and he 's fighting for change .   <END>  harry potter star daniel radcliffe gets # 20m fortune as he turns 18 monday .   young actor says he has no plans to fritter his cash away .   radcliffe 's earnings from first five potter films have been held in trust fund .  <END>  new : `` i thought i was going to die , '' driver says .   man says pickup truck was folded in half ; he just has cut on face .   driver : `` i probably had a 30 - , 35-foot free fall ''   minnesota bridge collapsed during rush hour wednesday .   <END>  parents beam with pride , ca n't stop from smiling from outpouring of support .   mom : `` i was so happy i did n't know what to do ''   burn center in u.s. has offered to provide treatment for reconstructive surgeries .   dad says , `` anything for youssif ''   <END>  five small polyps found during procedure ; `` none worrisome , '' spokesman says .   president reclaims powers transferred to vice \""
      ]
     },
     "execution_count": 4,
     "metadata": {},
     "output_type": "execute_result"
    }
   ],
   "source": [
    "source_text = (' <END> ').join([a[1] for a in train_raw_all])\n",
    "target_text = (' <END> ').join([a[0] for a in train_raw_all])\n",
    "\n",
    "(target_text[:1200])"
   ]
  },
  {
   "cell_type": "code",
   "execution_count": 156,
   "metadata": {
    "collapsed": true,
    "scrolled": true
   },
   "outputs": [],
   "source": [
    "# df = df[['abstract', 'article']]\n",
    "# df['abstract'] = df['abstract'].apply(lambda x: x.strip(' '))\n",
    "\n",
    "# source_text = (df['article'])\n",
    "# target_text = str(df['abstract'].apply(lambda x: str(x)))"
   ]
  },
  {
   "cell_type": "code",
   "execution_count": 9,
   "metadata": {},
   "outputs": [
    {
     "name": "stdout",
     "output_type": "stream",
     "text": [
      "Total no. of abstracts/articles: 100000\n"
     ]
    }
   ],
   "source": [
    "print('Total no. of abstracts/articles: {}'.format(len(source_text.split('<END>'))))"
   ]
  },
  {
   "cell_type": "raw",
   "metadata": {
    "collapsed": true
   },
   "source": [
    "print('Approximate number of unique words in all articles: {}'.format(len({word:None for word in str(source_text).split()})))\n",
    "print('Approximate number of unique words in all abtracts: {}'.format(len({word:None for word in str(target_text).split()})))"
   ]
  },
  {
   "cell_type": "code",
   "execution_count": 5,
   "metadata": {},
   "outputs": [
    {
     "name": "stdout",
     "output_type": "stream",
     "text": [
      "Average number of words in an article: 769.65898\n",
      "Average number of words in an abstract: 49.16379\n"
     ]
    }
   ],
   "source": [
    "arti = source_text.split(' <END> ')\n",
    "abst = target_text.split(' <END> ')\n",
    "\n",
    "word_counts1 = [len(a.split()) for a in arti]\n",
    "word_counts2 = [len(a.split()) for a in abst]\n",
    "\n",
    "print('Average number of words in an article: {}'.format(np.average(word_counts1)))\n",
    "print('Average number of words in an abstract: {}'.format(np.average(word_counts2)))"
   ]
  },
  {
   "cell_type": "raw",
   "metadata": {
    "collapsed": true
   },
   "source": [
    "arti = source_text.split(' <END> ')\n",
    "abst = target_text.split(' <END> ')"
   ]
  },
  {
   "cell_type": "code",
   "execution_count": 14,
   "metadata": {},
   "outputs": [
    {
     "data": {
      "text/plain": [
       "\" new : briant rodriguez found wandering streets in mexicali , police say .   new : boy 's tearful reunion with mother `` a beautiful thing , '' police official says .   boy had been missing since may 3 , when armed men burst into his family 's home .   suspects still on the loose as of saturday evening , according to authorities . \""
      ]
     },
     "execution_count": 14,
     "metadata": {},
     "output_type": "execute_result"
    }
   ],
   "source": [
    "(abst[5050])"
   ]
  },
  {
   "cell_type": "code",
   "execution_count": 6,
   "metadata": {
    "collapsed": true
   },
   "outputs": [],
   "source": [
    "def count_words(count_dict, text):\n",
    "    '''Count the number of occurrences of each word in a set of text'''\n",
    "    for sentence in text:\n",
    "        for word in sentence.split():\n",
    "            if word not in count_dict:\n",
    "                count_dict[word] = 1\n",
    "            else:\n",
    "                count_dict[word] += 1"
   ]
  },
  {
   "cell_type": "code",
   "execution_count": 7,
   "metadata": {},
   "outputs": [
    {
     "name": "stderr",
     "output_type": "stream",
     "text": [
      "0it [00:00, ?it/s]\n",
      "  0%|                                                                                       | 0/100000 [00:00<?, ?it/s]\n"
     ]
    },
    {
     "name": "stdout",
     "output_type": "stream",
     "text": [
      "Size of Vocabulary: 393304\n"
     ]
    }
   ],
   "source": [
    "# Find the number of times each word was used and the size of the vocabulary\n",
    "word_counts = {}\n",
    "\n",
    "tqdm(count_words(word_counts, arti))\n",
    "tqdm(count_words(word_counts, abst), total=len(abst))\n",
    "\n",
    "print(\"Size of Vocabulary:\", len(word_counts))"
   ]
  },
  {
   "cell_type": "code",
   "execution_count": 8,
   "metadata": {},
   "outputs": [
    {
     "name": "stderr",
     "output_type": "stream",
     "text": [
      "417195it [00:47, 8730.32it/s]\n"
     ]
    },
    {
     "name": "stdout",
     "output_type": "stream",
     "text": [
      "Word embeddings: 417195\n"
     ]
    }
   ],
   "source": [
    "# Load Conceptnet Numberbatch's (CN) embeddings, similar to GloVe, but probably better \n",
    "# (https://github.com/commonsense/conceptnet-numberbatch)\n",
    "\n",
    "embeddings_index = {}\n",
    "with open('./data/numberbatch-en.txt', encoding='utf-8') as f:\n",
    "    for line in tqdm(f):\n",
    "        values = line.split(' ')\n",
    "        word = values[0]\n",
    "        embedding = np.asarray(values[1:], dtype='float32')\n",
    "        embeddings_index[word] = embedding\n",
    "\n",
    "print('Word embeddings:', len(embeddings_index))"
   ]
  },
  {
   "cell_type": "code",
   "execution_count": 9,
   "metadata": {},
   "outputs": [
    {
     "name": "stderr",
     "output_type": "stream",
     "text": [
      "100%|█████████████████████████████████████████████████████████████████████| 393304/393304 [00:00<00:00, 1403428.81it/s]\n"
     ]
    },
    {
     "name": "stdout",
     "output_type": "stream",
     "text": [
      "Number of words missing from CN: 3906\n",
      "Percent of words that are missing from total vocabulary: 0.9900000000000001%\n"
     ]
    }
   ],
   "source": [
    "# Find the number of words that are missing from CN, and are used more than our threshold.\n",
    "\n",
    "missing_words = 0\n",
    "threshold = 70 \n",
    "# 70 = 1% missing\n",
    "# 10 = x% missing\n",
    "\n",
    "for word, count in tqdm(word_counts.items(), total=len(word_counts)):\n",
    "    if count > threshold:\n",
    "        if word not in embeddings_index:\n",
    "            missing_words += 1\n",
    "            \n",
    "missing_ratio = round(missing_words/len(word_counts),4)*100\n",
    "\n",
    "print(\"Number of words missing from CN:\", missing_words)\n",
    "print(\"Percent of words that are missing from total vocabulary: {}%\".format(missing_ratio))"
   ]
  },
  {
   "cell_type": "code",
   "execution_count": 10,
   "metadata": {},
   "outputs": [
    {
     "name": "stdout",
     "output_type": "stream",
     "text": [
      "Total number of unique words: 393304\n",
      "Number of words we will use: 104254\n",
      "Percent of words we will use: 26.51%\n"
     ]
    }
   ],
   "source": [
    "# Limit the vocab that we will use to words that appear ≥ threshold or are in GloVe\n",
    "\n",
    "#dictionary to convert words to integers\n",
    "vocab_to_int = {} \n",
    "\n",
    "value = 0\n",
    "for word, count in word_counts.items():\n",
    "    if (count >= threshold or word in embeddings_index):\n",
    "        vocab_to_int[word] = value\n",
    "        value += 1\n",
    "\n",
    "# Special tokens that will be added to our vocab\n",
    "codes = [\"<UNK>\", \"<PAD>\", \"<EOS>\", \"<GO>\"]   \n",
    "\n",
    "# Add codes to vocab\n",
    "for code in codes:\n",
    "    vocab_to_int[code] = len(vocab_to_int)\n",
    "\n",
    "# Dictionary to convert integers to words\n",
    "int_to_vocab = {}\n",
    "for word, value in vocab_to_int.items():\n",
    "    int_to_vocab[value] = word\n",
    "\n",
    "usage_ratio = round(len(vocab_to_int) / len(word_counts),4)*100\n",
    "\n",
    "print(\"Total number of unique words:\", len(word_counts))\n",
    "print(\"Number of words we will use:\", len(vocab_to_int))\n",
    "print(\"Percent of words we will use: {}%\".format(usage_ratio))\n",
    "\n",
    "# TH = 10, words_use = 33.11%\n",
    "# TH = 70, words_use = 26.51%"
   ]
  },
  {
   "cell_type": "code",
   "execution_count": 11,
   "metadata": {},
   "outputs": [
    {
     "name": "stdout",
     "output_type": "stream",
     "text": [
      "(104254, 300)\n"
     ]
    }
   ],
   "source": [
    "# Need to use 300 for embedding dimensions to match CN's vectors.\n",
    "\n",
    "embedding_dim = 300\n",
    "nb_words = len(vocab_to_int)\n",
    "\n",
    "# Create matrix with default values of zero\n",
    "word_embedding_matrix = np.zeros((nb_words, embedding_dim), dtype=np.float32)\n",
    "for word, i in vocab_to_int.items():\n",
    "    if word in embeddings_index:\n",
    "        word_embedding_matrix[i] = embeddings_index[word]\n",
    "    else:\n",
    "        # If word not in CN, create a random embedding for it\n",
    "        new_embedding = np.array(np.random.uniform(-1.0, 1.0, embedding_dim))\n",
    "        embeddings_index[word] = new_embedding\n",
    "        word_embedding_matrix[i] = new_embedding\n",
    "\n",
    "# Check if value matches len(vocab_to_int)\n",
    "print((word_embedding_matrix).shape)"
   ]
  },
  {
   "cell_type": "code",
   "execution_count": 12,
   "metadata": {},
   "outputs": [
    {
     "data": {
      "text/plain": [
       "numpy.ndarray"
      ]
     },
     "execution_count": 12,
     "metadata": {},
     "output_type": "execute_result"
    }
   ],
   "source": [
    "type(word_embedding_matrix)"
   ]
  },
  {
   "cell_type": "code",
   "execution_count": 14,
   "metadata": {
    "collapsed": true
   },
   "outputs": [],
   "source": [
    "def convert_to_ints(text, word_count, unk_count, eos=False):\n",
    "    '''Convert words in text to an integer.\n",
    "       If word is not in vocab_to_int, use UNK's integer.\n",
    "       Total the number of words and UNKs.\n",
    "       Add EOS token to the end of texts'''\n",
    "    ints = []\n",
    "    for sentence in tqdm(text, total=len(text)):\n",
    "        sentence_ints = []\n",
    "        for word in sentence.split():\n",
    "            word_count += 1\n",
    "            if word in vocab_to_int:\n",
    "                sentence_ints.append(vocab_to_int[word])\n",
    "            else:\n",
    "                sentence_ints.append(vocab_to_int[\"<UNK>\"])\n",
    "                unk_count += 1\n",
    "        if eos:\n",
    "            sentence_ints.append(vocab_to_int[\"<EOS>\"])\n",
    "        ints.append(sentence_ints)\n",
    "    return ints, word_count, unk_count"
   ]
  },
  {
   "cell_type": "code",
   "execution_count": 15,
   "metadata": {},
   "outputs": [
    {
     "name": "stderr",
     "output_type": "stream",
     "text": [
      "100%|███████████████████████████████████████████████████████████████████████| 100000/100000 [00:02<00:00, 37458.37it/s]\n",
      "100%|████████████████████████████████████████████████████████████████████████| 100000/100000 [00:35<00:00, 2846.39it/s]\n"
     ]
    },
    {
     "name": "stdout",
     "output_type": "stream",
     "text": [
      "Total number of words in ALL: 81882277\n",
      "Total number of UNKs in ALL: 1100580\n",
      "Percent of words that are UNK: 1.34%\n"
     ]
    }
   ],
   "source": [
    "# Apply convert_to_ints to clean_summaries and clean_texts\n",
    "word_count = 0\n",
    "unk_count = 0\n",
    "\n",
    "int_summaries, word_count, unk_count = convert_to_ints(abst, word_count, unk_count) # TODO why no '<EOS>' to abstracts?\n",
    "int_texts, word_count, unk_count = convert_to_ints(arti, word_count, unk_count, eos=True)\n",
    "\n",
    "unk_percent = round(unk_count/word_count,4)*100\n",
    "\n",
    "print(\"Total number of words in ALL:\", word_count)\n",
    "print(\"Total number of UNKs in ALL:\", unk_count)\n",
    "print(\"Percent of words that are UNK: {}%\".format(unk_percent))\n",
    "\n",
    "# TH = 10, unk = 0.67%\n",
    "# TH = 70, unk = 1.34%"
   ]
  },
  {
   "cell_type": "code",
   "execution_count": 48,
   "metadata": {},
   "outputs": [
    {
     "data": {
      "text/plain": [
       "list"
      ]
     },
     "execution_count": 48,
     "metadata": {},
     "output_type": "execute_result"
    }
   ],
   "source": [
    "type(int_summaries)"
   ]
  },
  {
   "cell_type": "code",
   "execution_count": 16,
   "metadata": {
    "collapsed": true
   },
   "outputs": [],
   "source": [
    "def create_lengths(text):\n",
    "    '''Create a data frame of the sentence lengths from a text'''\n",
    "    lengths = []\n",
    "    for sentence in text:\n",
    "        lengths.append(len(sentence))\n",
    "    return pd.DataFrame(lengths, columns=['counts'])"
   ]
  },
  {
   "cell_type": "code",
   "execution_count": 17,
   "metadata": {},
   "outputs": [
    {
     "name": "stdout",
     "output_type": "stream",
     "text": [
      "Summaries:\n",
      "              counts\n",
      "count  100000.000000\n",
      "mean       49.163790\n",
      "std        12.918401\n",
      "min         5.000000\n",
      "25%        40.000000\n",
      "50%        49.000000\n",
      "75%        58.000000\n",
      "max       366.000000\n",
      "\n",
      "Texts:\n",
      "              counts\n",
      "count  100000.000000\n",
      "mean      770.658980\n",
      "std       397.170022\n",
      "min         2.000000\n",
      "25%       459.000000\n",
      "50%       713.000000\n",
      "75%      1015.000000\n",
      "max      2176.000000\n"
     ]
    }
   ],
   "source": [
    "lengths_summaries = create_lengths(int_summaries)\n",
    "lengths_texts = create_lengths(int_texts)\n",
    "\n",
    "print(\"Summaries:\")\n",
    "print(lengths_summaries.describe())\n",
    "print()\n",
    "print(\"Texts:\")\n",
    "print(lengths_texts.describe())"
   ]
  },
  {
   "cell_type": "code",
   "execution_count": 18,
   "metadata": {},
   "outputs": [
    {
     "name": "stdout",
     "output_type": "stream",
     "text": [
      "1323.0\n",
      "1528.0\n",
      "1886.01\n"
     ]
    }
   ],
   "source": [
    "# Inspect the length of texts\n",
    "print(np.percentile(lengths_texts.counts, 90))\n",
    "print(np.percentile(lengths_texts.counts, 95))\n",
    "print(np.percentile(lengths_texts.counts, 99))"
   ]
  },
  {
   "cell_type": "code",
   "execution_count": 19,
   "metadata": {},
   "outputs": [
    {
     "name": "stdout",
     "output_type": "stream",
     "text": [
      "65.0\n",
      "68.0\n",
      "77.0\n"
     ]
    }
   ],
   "source": [
    "# Inspect the length of summaries\n",
    "print(np.percentile(lengths_summaries.counts, 90))\n",
    "print(np.percentile(lengths_summaries.counts, 95))\n",
    "print(np.percentile(lengths_summaries.counts, 99))"
   ]
  },
  {
   "cell_type": "code",
   "execution_count": 20,
   "metadata": {
    "collapsed": true
   },
   "outputs": [],
   "source": [
    "def unk_counter(sentence):\n",
    "    # Counts the number of time UNK appears in a sentence.\n",
    "    unk_count = 0\n",
    "    for word in sentence:\n",
    "        if word == vocab_to_int[\"<UNK>\"]:\n",
    "            unk_count += 1\n",
    "    return unk_count"
   ]
  },
  {
   "cell_type": "code",
   "execution_count": 21,
   "metadata": {
    "scrolled": true
   },
   "outputs": [
    {
     "name": "stderr",
     "output_type": "stream",
     "text": [
      "100%|████████████████████████████████████████████████████████████████████████████| 1321/1321 [1:39:26<00:00,  4.09s/it]\n"
     ]
    },
    {
     "name": "stdout",
     "output_type": "stream",
     "text": [
      "57814\n",
      "57814\n"
     ]
    }
   ],
   "source": [
    "# TODO: too long!\n",
    "\n",
    "# Sort the summaries and texts by the length of the texts, shortest to longest\n",
    "# Limit the length of summaries and texts based on the min and max ranges.\n",
    "# Remove reviews that include too many UNKs\n",
    "\n",
    "sorted_summaries = []\n",
    "sorted_texts = []\n",
    "max_text_length = 1323\n",
    "max_summary_length = 65\n",
    "min_length = 5 # for both arti & abst\n",
    "unk_text_limit = 13\n",
    "unk_summary_limit = 1\n",
    "\n",
    "for length in tqdm(range(min(lengths_texts.counts), max_text_length)): \n",
    "    for count, words in (enumerate(int_summaries)):\n",
    "        if (len(int_summaries[count]) >= min_length and\n",
    "            len(int_summaries[count]) <= max_summary_length and\n",
    "            len(int_texts[count]) >= min_length and\n",
    "            unk_counter(int_summaries[count]) <= unk_summary_limit and\n",
    "            unk_counter(int_texts[count]) <= unk_text_limit and\n",
    "            length == len(int_texts[count])\n",
    "           ):\n",
    "            sorted_summaries.append(int_summaries[count])\n",
    "            sorted_texts.append(int_texts[count])\n",
    "        \n",
    "# Compare lengths to ensure they match\n",
    "print(len(sorted_summaries))\n",
    "print(len(sorted_texts))"
   ]
  },
  {
   "cell_type": "code",
   "execution_count": 24,
   "metadata": {
    "collapsed": true
   },
   "outputs": [
    {
     "data": {
      "text/plain": [
       "[3703,\n",
       " 19313,\n",
       " 56,\n",
       " 219,\n",
       " 33,\n",
       " 7,\n",
       " 720,\n",
       " 2616,\n",
       " 4,\n",
       " 7,\n",
       " 2509,\n",
       " 39980,\n",
       " 2749,\n",
       " 22,\n",
       " 104250,\n",
       " 1,\n",
       " 1826,\n",
       " 131,\n",
       " 1938,\n",
       " 1791,\n",
       " 11031,\n",
       " 68,\n",
       " 7678,\n",
       " 41,\n",
       " 7,\n",
       " 2013,\n",
       " 1,\n",
       " 446,\n",
       " 7599,\n",
       " 22,\n",
       " 5441,\n",
       " 10,\n",
       " 7678,\n",
       " 2552,\n",
       " 150,\n",
       " 253,\n",
       " 3445,\n",
       " 41405,\n",
       " 35,\n",
       " 453,\n",
       " 131,\n",
       " 4467,\n",
       " 68,\n",
       " 3896,\n",
       " 1946,\n",
       " 22,\n",
       " 103500]"
      ]
     },
     "execution_count": 24,
     "metadata": {},
     "output_type": "execute_result"
    }
   ],
   "source": [
    "sorted_summaries[1342]"
   ]
  },
  {
   "cell_type": "raw",
   "metadata": {
    "collapsed": true
   },
   "source": [
    "# preprocess & save data \n",
    "\n",
    "# source_vocab_to_int, source_int_to_vocab = create_lookup_tables(source_text)\n",
    "# target_vocab_to_int, target_int_to_vocab = create_lookup_tables(target_text)\n",
    "\n",
    "# source_text_, target_text_ = text_to_ids(source_text, target_text, source_vocab_to_int, target_vocab_to_int)\n",
    "\"\"\"\n",
    "with open('news_summary.p', 'wb') as out_file:\n",
    "    pickle.dump((\n",
    "        (source_vocab_ids, target_vocab_ids),\n",
    "        (source_vocab_to_int, target_vocab_to_int),\n",
    "        (source_int_to_vocab, target_int_to_vocab)), out_file)\n",
    "\"\"\" \n",
    "\n",
    "\n",
    "with open('data/news_summary_2.p', 'wb') as out_file:\n",
    "    pickle.dump((\n",
    "        (int_texts, int_summaries),\n",
    "        (sorted_texts, sorted_summaries),\n",
    "        (vocab_to_int, int_to_vocab), \n",
    "        word_embedding_matrix), out_file)"
   ]
  },
  {
   "cell_type": "markdown",
   "metadata": {},
   "source": [
    "## CHECKPOINT 1 "
   ]
  },
  {
   "cell_type": "code",
   "execution_count": 2,
   "metadata": {},
   "outputs": [
    {
     "name": "stdout",
     "output_type": "stream",
     "text": [
      "TensorFlow Version: 1.4.0\n"
     ]
    },
    {
     "name": "stderr",
     "output_type": "stream",
     "text": [
      "C:\\Users\\Jermyn Bek\\Anaconda3\\lib\\site-packages\\ipykernel_launcher.py:15: UserWarning: No GPU found. Please use a GPU to train your neural network.\n",
      "  from ipykernel import kernelapp as app\n"
     ]
    }
   ],
   "source": [
    "\"\"\"\n",
    "CHECK TENSORFLOW & GPU\n",
    "\"\"\"\n",
    "from distutils.version import LooseVersion\n",
    "import warnings\n",
    "import tensorflow as tf\n",
    "from tensorflow.python.layers.core import Dense\n",
    "\n",
    "# Check TensorFlow Version\n",
    "# assert LooseVersion(tf.__version__) in [LooseVersion('1.0.0'), LooseVersion('1.0.1')], 'This project requires TensorFlow version 1.0  You are using {}'.format(tf.__version__)\n",
    "print('TensorFlow Version: {}'.format(tf.__version__))\n",
    "\n",
    "# Check for a GPU\n",
    "if not tf.test.gpu_device_name():\n",
    "    warnings.warn('No GPU found. Please use a GPU to train your neural network.')\n",
    "else:\n",
    "    print('Default GPU Device: {}'.format(tf.test.gpu_device_name()))"
   ]
  },
  {
   "cell_type": "code",
   "execution_count": 3,
   "metadata": {},
   "outputs": [],
   "source": [
    "def load_preprocess():\n",
    "    \"\"\"\n",
    "    Load the Preprocessed Training data and return them in batches of <batch_size> or less\n",
    "    \"\"\"\n",
    "    with open('data/news_summary_2.p', mode='rb') as in_file:\n",
    "        return pickle.load(in_file)\n",
    "\n",
    "(int_texts, int_summaries), (sorted_texts, sorted_summaries), (vocab_to_int, int_to_vocab), word_embedding_matrix = load_preprocess()"
   ]
  },
  {
   "cell_type": "code",
   "execution_count": 4,
   "metadata": {},
   "outputs": [
    {
     "data": {
      "text/plain": [
       "57814"
      ]
     },
     "execution_count": 4,
     "metadata": {},
     "output_type": "execute_result"
    }
   ],
   "source": [
    "len(sorted_texts)"
   ]
  },
  {
   "cell_type": "code",
   "execution_count": 4,
   "metadata": {
    "collapsed": true
   },
   "outputs": [
    {
     "name": "stdout",
     "output_type": "stream",
     "text": [
      "Example source sequence\n",
      "[339, 10, 340, 50, 341, 51, 52, 342, 343, 344, 345, 346, 347, 348, 70, 29, 349, 350, 351, 294, 50, 352, 114363, 294, 51, 353, 132, 88, 354, 355, 41, 356, 10, 121, 88, 357, 7, 332, 95, 96, 358, 29, 359, 41, 360, 22, 345, 346, 132, 342, 343, 4, 42, 342, 343, 18, 7, 361, 33, 7, 362, 45, 70, 7, 363, 33, 364, 365, 366, 7, 367, 10, 7, 368, 369, 84, 88, 248, 181, 370, 70, 371, 246, 372, 373, 41, 374, 375, 10, 376, 18, 377, 378, 22, 42, 212, 97, 96, 379, 70, 197, 222, 33, 380, 94, 308, 10, 132, 381, 132, 67, 382, 355, 10, 383, 384, 177, 29, 385, 386, 387, 388, 77, 389, 390, 10, 45, 88, 99, 38, 391, 392, 393, 258, 394, 22, 42, 212, 97, 96, 395, 212, 396, 197, 397, 398, 22, 42, 7, 251, 212, 172, 399, 35, 251, 80, 400, 185, 401, 402, 52, 403, 18, 404, 18, 405, 22, 45, 153, 355, 10, 346, 237, 197, 406, 70, 407, 4, 29, 408, 10, 384, 29, 376, 4, 29, 409, 77, 194, 7, 410, 411, 42, 412, 3, 325, 413, 10, 45, 414, 415, 416, 417, 246, 297, 222, 418, 41, 7, 419, 420, 421, 422, 22, 423, 33, 256, 88, 396, 424, 246, 425, 426, 35, 427, 428, 22, 246, 429, 18, 430, 265, 181, 431, 41, 246, 370, 22, 42, 212, 396, 432, 180, 273, 433, 33, 434, 10, 45, 88, 435, 4, 38, 436, 22, 42, 437, 438, 33, 216, 237, 197, 439, 185, 155, 22, 45, 346, 1, 440, 91, 7, 154, 441, 343, 442, 180, 298, 443, 4, 29, 444, 445, 446, 88, 248, 122, 298, 406, 70, 447, 22, 448, 246, 449, 450, 18, 451, 10, 7, 369, 84, 88, 58, 452, 246, 165, 453, 41, 7, 454, 22, 42, 94, 35, 455, 456, 70, 457, 151, 458, 344, 459, 460, 7, 461, 10, 152, 45, 88, 99, 462, 463, 394, 22, 42, 121, 212, 464, 465, 156, 122, 70, 150, 80, 228, 127, 155, 309, 197, 466, 467, 134, 267, 22, 45, 246, 468, 469, 132, 7, 470, 471, 4, 42, 342, 343, 18, 7, 361, 33, 7, 362, 45, 58, 472, 473, 41, 474, 475, 33, 7, 476, 18, 88, 237, 477, 7, 478, 4, 7, 463, 205, 442, 22, 479, 480, 481, 482, 483, 33, 343, 1, 468, 45, 271, 58, 484, 485, 343, 10, 486, 22, 7, 487, 248, 488, 29, 489, 418, 490, 42, 491, 470, 492, 10, 45, 185, 493, 494, 495, 18, 246, 214, 10, 496, 134, 497, 254, 258, 498, 22, 88, 237, 178, 71, 4, 42, 499, 500, 10, 45, 38, 391, 411, 185, 501, 500, 308, 502, 38, 503, 22, 393, 258, 498, 10, 88, 504, 246, 505, 506, 507, 29, 508, 509, 4, 510, 511, 1, 42, 512, 22, 45, 513, 10, 88, 58, 514, 134, 136, 515, 516, 517, 518, 80, 88, 1, 519, 38, 520, 3, 42, 212, 268, 395, 212, 521, 522, 70, 197, 108, 433, 33, 523, 524, 10, 45, 88, 99, 341, 22, 337, 70, 29, 338, 22, 525, 526, 341, 22, 187, 527, 528, 529, 530, 122, 197, 531, 10, 532, 10, 533, 10, 77, 534, 114363, 114365]\n",
      "\n",
      "\n",
      "Example target sequence\n",
      "[114047, 342, 343, 344, 345, 346, 2328, 350, 80398, 353, 132, 88, 354, 355, 356, 22, 114048, 114047, 368, 369, 84, 88, 248, 181, 370, 70, 371, 246, 372, 373, 22, 114048, 114047, 346, 1, 440, 91, 154, 441, 343, 442, 180, 298, 443, 4, 444, 445, 22, 114048]\n"
     ]
    }
   ],
   "source": [
    "print(\"Example source sequence\")\n",
    "print(int_texts[1])\n",
    "print(\"\\n\")\n",
    "print(\"Example target sequence\")\n",
    "print(int_summaries[1])"
   ]
  },
  {
   "cell_type": "code",
   "execution_count": null,
   "metadata": {},
   "outputs": [],
   "source": [
    "# TODO remove 're, 'll ?"
   ]
  },
  {
   "cell_type": "code",
   "execution_count": 4,
   "metadata": {},
   "outputs": [],
   "source": [
    "# TSNE \n",
    "%matplotlib notebook\n",
    "%config InlineBackend.figure_format = 'retina'\n",
    "\n",
    "import matplotlib.pyplot as plt\n",
    "from sklearn.manifold import TSNE"
   ]
  },
  {
   "cell_type": "code",
   "execution_count": 9,
   "metadata": {},
   "outputs": [],
   "source": [
    "viz_words = 500 \n",
    "tsne = TSNE()\n",
    "\n",
    "embed_tsne = tsne.fit_transform(word_embedding_matrix[:viz_words, :])"
   ]
  },
  {
   "cell_type": "code",
   "execution_count": 10,
   "metadata": {},
   "outputs": [
    {
     "data": {
      "application/javascript": [
       "/* Put everything inside the global mpl namespace */\n",
       "window.mpl = {};\n",
       "\n",
       "\n",
       "mpl.get_websocket_type = function() {\n",
       "    if (typeof(WebSocket) !== 'undefined') {\n",
       "        return WebSocket;\n",
       "    } else if (typeof(MozWebSocket) !== 'undefined') {\n",
       "        return MozWebSocket;\n",
       "    } else {\n",
       "        alert('Your browser does not have WebSocket support.' +\n",
       "              'Please try Chrome, Safari or Firefox ≥ 6. ' +\n",
       "              'Firefox 4 and 5 are also supported but you ' +\n",
       "              'have to enable WebSockets in about:config.');\n",
       "    };\n",
       "}\n",
       "\n",
       "mpl.figure = function(figure_id, websocket, ondownload, parent_element) {\n",
       "    this.id = figure_id;\n",
       "\n",
       "    this.ws = websocket;\n",
       "\n",
       "    this.supports_binary = (this.ws.binaryType != undefined);\n",
       "\n",
       "    if (!this.supports_binary) {\n",
       "        var warnings = document.getElementById(\"mpl-warnings\");\n",
       "        if (warnings) {\n",
       "            warnings.style.display = 'block';\n",
       "            warnings.textContent = (\n",
       "                \"This browser does not support binary websocket messages. \" +\n",
       "                    \"Performance may be slow.\");\n",
       "        }\n",
       "    }\n",
       "\n",
       "    this.imageObj = new Image();\n",
       "\n",
       "    this.context = undefined;\n",
       "    this.message = undefined;\n",
       "    this.canvas = undefined;\n",
       "    this.rubberband_canvas = undefined;\n",
       "    this.rubberband_context = undefined;\n",
       "    this.format_dropdown = undefined;\n",
       "\n",
       "    this.image_mode = 'full';\n",
       "\n",
       "    this.root = $('<div/>');\n",
       "    this._root_extra_style(this.root)\n",
       "    this.root.attr('style', 'display: inline-block');\n",
       "\n",
       "    $(parent_element).append(this.root);\n",
       "\n",
       "    this._init_header(this);\n",
       "    this._init_canvas(this);\n",
       "    this._init_toolbar(this);\n",
       "\n",
       "    var fig = this;\n",
       "\n",
       "    this.waiting = false;\n",
       "\n",
       "    this.ws.onopen =  function () {\n",
       "            fig.send_message(\"supports_binary\", {value: fig.supports_binary});\n",
       "            fig.send_message(\"send_image_mode\", {});\n",
       "            if (mpl.ratio != 1) {\n",
       "                fig.send_message(\"set_dpi_ratio\", {'dpi_ratio': mpl.ratio});\n",
       "            }\n",
       "            fig.send_message(\"refresh\", {});\n",
       "        }\n",
       "\n",
       "    this.imageObj.onload = function() {\n",
       "            if (fig.image_mode == 'full') {\n",
       "                // Full images could contain transparency (where diff images\n",
       "                // almost always do), so we need to clear the canvas so that\n",
       "                // there is no ghosting.\n",
       "                fig.context.clearRect(0, 0, fig.canvas.width, fig.canvas.height);\n",
       "            }\n",
       "            fig.context.drawImage(fig.imageObj, 0, 0);\n",
       "        };\n",
       "\n",
       "    this.imageObj.onunload = function() {\n",
       "        this.ws.close();\n",
       "    }\n",
       "\n",
       "    this.ws.onmessage = this._make_on_message_function(this);\n",
       "\n",
       "    this.ondownload = ondownload;\n",
       "}\n",
       "\n",
       "mpl.figure.prototype._init_header = function() {\n",
       "    var titlebar = $(\n",
       "        '<div class=\"ui-dialog-titlebar ui-widget-header ui-corner-all ' +\n",
       "        'ui-helper-clearfix\"/>');\n",
       "    var titletext = $(\n",
       "        '<div class=\"ui-dialog-title\" style=\"width: 100%; ' +\n",
       "        'text-align: center; padding: 3px;\"/>');\n",
       "    titlebar.append(titletext)\n",
       "    this.root.append(titlebar);\n",
       "    this.header = titletext[0];\n",
       "}\n",
       "\n",
       "\n",
       "\n",
       "mpl.figure.prototype._canvas_extra_style = function(canvas_div) {\n",
       "\n",
       "}\n",
       "\n",
       "\n",
       "mpl.figure.prototype._root_extra_style = function(canvas_div) {\n",
       "\n",
       "}\n",
       "\n",
       "mpl.figure.prototype._init_canvas = function() {\n",
       "    var fig = this;\n",
       "\n",
       "    var canvas_div = $('<div/>');\n",
       "\n",
       "    canvas_div.attr('style', 'position: relative; clear: both; outline: 0');\n",
       "\n",
       "    function canvas_keyboard_event(event) {\n",
       "        return fig.key_event(event, event['data']);\n",
       "    }\n",
       "\n",
       "    canvas_div.keydown('key_press', canvas_keyboard_event);\n",
       "    canvas_div.keyup('key_release', canvas_keyboard_event);\n",
       "    this.canvas_div = canvas_div\n",
       "    this._canvas_extra_style(canvas_div)\n",
       "    this.root.append(canvas_div);\n",
       "\n",
       "    var canvas = $('<canvas/>');\n",
       "    canvas.addClass('mpl-canvas');\n",
       "    canvas.attr('style', \"left: 0; top: 0; z-index: 0; outline: 0\")\n",
       "\n",
       "    this.canvas = canvas[0];\n",
       "    this.context = canvas[0].getContext(\"2d\");\n",
       "\n",
       "    var backingStore = this.context.backingStorePixelRatio ||\n",
       "\tthis.context.webkitBackingStorePixelRatio ||\n",
       "\tthis.context.mozBackingStorePixelRatio ||\n",
       "\tthis.context.msBackingStorePixelRatio ||\n",
       "\tthis.context.oBackingStorePixelRatio ||\n",
       "\tthis.context.backingStorePixelRatio || 1;\n",
       "\n",
       "    mpl.ratio = (window.devicePixelRatio || 1) / backingStore;\n",
       "\n",
       "    var rubberband = $('<canvas/>');\n",
       "    rubberband.attr('style', \"position: absolute; left: 0; top: 0; z-index: 1;\")\n",
       "\n",
       "    var pass_mouse_events = true;\n",
       "\n",
       "    canvas_div.resizable({\n",
       "        start: function(event, ui) {\n",
       "            pass_mouse_events = false;\n",
       "        },\n",
       "        resize: function(event, ui) {\n",
       "            fig.request_resize(ui.size.width, ui.size.height);\n",
       "        },\n",
       "        stop: function(event, ui) {\n",
       "            pass_mouse_events = true;\n",
       "            fig.request_resize(ui.size.width, ui.size.height);\n",
       "        },\n",
       "    });\n",
       "\n",
       "    function mouse_event_fn(event) {\n",
       "        if (pass_mouse_events)\n",
       "            return fig.mouse_event(event, event['data']);\n",
       "    }\n",
       "\n",
       "    rubberband.mousedown('button_press', mouse_event_fn);\n",
       "    rubberband.mouseup('button_release', mouse_event_fn);\n",
       "    // Throttle sequential mouse events to 1 every 20ms.\n",
       "    rubberband.mousemove('motion_notify', mouse_event_fn);\n",
       "\n",
       "    rubberband.mouseenter('figure_enter', mouse_event_fn);\n",
       "    rubberband.mouseleave('figure_leave', mouse_event_fn);\n",
       "\n",
       "    canvas_div.on(\"wheel\", function (event) {\n",
       "        event = event.originalEvent;\n",
       "        event['data'] = 'scroll'\n",
       "        if (event.deltaY < 0) {\n",
       "            event.step = 1;\n",
       "        } else {\n",
       "            event.step = -1;\n",
       "        }\n",
       "        mouse_event_fn(event);\n",
       "    });\n",
       "\n",
       "    canvas_div.append(canvas);\n",
       "    canvas_div.append(rubberband);\n",
       "\n",
       "    this.rubberband = rubberband;\n",
       "    this.rubberband_canvas = rubberband[0];\n",
       "    this.rubberband_context = rubberband[0].getContext(\"2d\");\n",
       "    this.rubberband_context.strokeStyle = \"#000000\";\n",
       "\n",
       "    this._resize_canvas = function(width, height) {\n",
       "        // Keep the size of the canvas, canvas container, and rubber band\n",
       "        // canvas in synch.\n",
       "        canvas_div.css('width', width)\n",
       "        canvas_div.css('height', height)\n",
       "\n",
       "        canvas.attr('width', width * mpl.ratio);\n",
       "        canvas.attr('height', height * mpl.ratio);\n",
       "        canvas.attr('style', 'width: ' + width + 'px; height: ' + height + 'px;');\n",
       "\n",
       "        rubberband.attr('width', width);\n",
       "        rubberband.attr('height', height);\n",
       "    }\n",
       "\n",
       "    // Set the figure to an initial 600x600px, this will subsequently be updated\n",
       "    // upon first draw.\n",
       "    this._resize_canvas(600, 600);\n",
       "\n",
       "    // Disable right mouse context menu.\n",
       "    $(this.rubberband_canvas).bind(\"contextmenu\",function(e){\n",
       "        return false;\n",
       "    });\n",
       "\n",
       "    function set_focus () {\n",
       "        canvas.focus();\n",
       "        canvas_div.focus();\n",
       "    }\n",
       "\n",
       "    window.setTimeout(set_focus, 100);\n",
       "}\n",
       "\n",
       "mpl.figure.prototype._init_toolbar = function() {\n",
       "    var fig = this;\n",
       "\n",
       "    var nav_element = $('<div/>')\n",
       "    nav_element.attr('style', 'width: 100%');\n",
       "    this.root.append(nav_element);\n",
       "\n",
       "    // Define a callback function for later on.\n",
       "    function toolbar_event(event) {\n",
       "        return fig.toolbar_button_onclick(event['data']);\n",
       "    }\n",
       "    function toolbar_mouse_event(event) {\n",
       "        return fig.toolbar_button_onmouseover(event['data']);\n",
       "    }\n",
       "\n",
       "    for(var toolbar_ind in mpl.toolbar_items) {\n",
       "        var name = mpl.toolbar_items[toolbar_ind][0];\n",
       "        var tooltip = mpl.toolbar_items[toolbar_ind][1];\n",
       "        var image = mpl.toolbar_items[toolbar_ind][2];\n",
       "        var method_name = mpl.toolbar_items[toolbar_ind][3];\n",
       "\n",
       "        if (!name) {\n",
       "            // put a spacer in here.\n",
       "            continue;\n",
       "        }\n",
       "        var button = $('<button/>');\n",
       "        button.addClass('ui-button ui-widget ui-state-default ui-corner-all ' +\n",
       "                        'ui-button-icon-only');\n",
       "        button.attr('role', 'button');\n",
       "        button.attr('aria-disabled', 'false');\n",
       "        button.click(method_name, toolbar_event);\n",
       "        button.mouseover(tooltip, toolbar_mouse_event);\n",
       "\n",
       "        var icon_img = $('<span/>');\n",
       "        icon_img.addClass('ui-button-icon-primary ui-icon');\n",
       "        icon_img.addClass(image);\n",
       "        icon_img.addClass('ui-corner-all');\n",
       "\n",
       "        var tooltip_span = $('<span/>');\n",
       "        tooltip_span.addClass('ui-button-text');\n",
       "        tooltip_span.html(tooltip);\n",
       "\n",
       "        button.append(icon_img);\n",
       "        button.append(tooltip_span);\n",
       "\n",
       "        nav_element.append(button);\n",
       "    }\n",
       "\n",
       "    var fmt_picker_span = $('<span/>');\n",
       "\n",
       "    var fmt_picker = $('<select/>');\n",
       "    fmt_picker.addClass('mpl-toolbar-option ui-widget ui-widget-content');\n",
       "    fmt_picker_span.append(fmt_picker);\n",
       "    nav_element.append(fmt_picker_span);\n",
       "    this.format_dropdown = fmt_picker[0];\n",
       "\n",
       "    for (var ind in mpl.extensions) {\n",
       "        var fmt = mpl.extensions[ind];\n",
       "        var option = $(\n",
       "            '<option/>', {selected: fmt === mpl.default_extension}).html(fmt);\n",
       "        fmt_picker.append(option)\n",
       "    }\n",
       "\n",
       "    // Add hover states to the ui-buttons\n",
       "    $( \".ui-button\" ).hover(\n",
       "        function() { $(this).addClass(\"ui-state-hover\");},\n",
       "        function() { $(this).removeClass(\"ui-state-hover\");}\n",
       "    );\n",
       "\n",
       "    var status_bar = $('<span class=\"mpl-message\"/>');\n",
       "    nav_element.append(status_bar);\n",
       "    this.message = status_bar[0];\n",
       "}\n",
       "\n",
       "mpl.figure.prototype.request_resize = function(x_pixels, y_pixels) {\n",
       "    // Request matplotlib to resize the figure. Matplotlib will then trigger a resize in the client,\n",
       "    // which will in turn request a refresh of the image.\n",
       "    this.send_message('resize', {'width': x_pixels, 'height': y_pixels});\n",
       "}\n",
       "\n",
       "mpl.figure.prototype.send_message = function(type, properties) {\n",
       "    properties['type'] = type;\n",
       "    properties['figure_id'] = this.id;\n",
       "    this.ws.send(JSON.stringify(properties));\n",
       "}\n",
       "\n",
       "mpl.figure.prototype.send_draw_message = function() {\n",
       "    if (!this.waiting) {\n",
       "        this.waiting = true;\n",
       "        this.ws.send(JSON.stringify({type: \"draw\", figure_id: this.id}));\n",
       "    }\n",
       "}\n",
       "\n",
       "\n",
       "mpl.figure.prototype.handle_save = function(fig, msg) {\n",
       "    var format_dropdown = fig.format_dropdown;\n",
       "    var format = format_dropdown.options[format_dropdown.selectedIndex].value;\n",
       "    fig.ondownload(fig, format);\n",
       "}\n",
       "\n",
       "\n",
       "mpl.figure.prototype.handle_resize = function(fig, msg) {\n",
       "    var size = msg['size'];\n",
       "    if (size[0] != fig.canvas.width || size[1] != fig.canvas.height) {\n",
       "        fig._resize_canvas(size[0], size[1]);\n",
       "        fig.send_message(\"refresh\", {});\n",
       "    };\n",
       "}\n",
       "\n",
       "mpl.figure.prototype.handle_rubberband = function(fig, msg) {\n",
       "    var x0 = msg['x0'] / mpl.ratio;\n",
       "    var y0 = (fig.canvas.height - msg['y0']) / mpl.ratio;\n",
       "    var x1 = msg['x1'] / mpl.ratio;\n",
       "    var y1 = (fig.canvas.height - msg['y1']) / mpl.ratio;\n",
       "    x0 = Math.floor(x0) + 0.5;\n",
       "    y0 = Math.floor(y0) + 0.5;\n",
       "    x1 = Math.floor(x1) + 0.5;\n",
       "    y1 = Math.floor(y1) + 0.5;\n",
       "    var min_x = Math.min(x0, x1);\n",
       "    var min_y = Math.min(y0, y1);\n",
       "    var width = Math.abs(x1 - x0);\n",
       "    var height = Math.abs(y1 - y0);\n",
       "\n",
       "    fig.rubberband_context.clearRect(\n",
       "        0, 0, fig.canvas.width, fig.canvas.height);\n",
       "\n",
       "    fig.rubberband_context.strokeRect(min_x, min_y, width, height);\n",
       "}\n",
       "\n",
       "mpl.figure.prototype.handle_figure_label = function(fig, msg) {\n",
       "    // Updates the figure title.\n",
       "    fig.header.textContent = msg['label'];\n",
       "}\n",
       "\n",
       "mpl.figure.prototype.handle_cursor = function(fig, msg) {\n",
       "    var cursor = msg['cursor'];\n",
       "    switch(cursor)\n",
       "    {\n",
       "    case 0:\n",
       "        cursor = 'pointer';\n",
       "        break;\n",
       "    case 1:\n",
       "        cursor = 'default';\n",
       "        break;\n",
       "    case 2:\n",
       "        cursor = 'crosshair';\n",
       "        break;\n",
       "    case 3:\n",
       "        cursor = 'move';\n",
       "        break;\n",
       "    }\n",
       "    fig.rubberband_canvas.style.cursor = cursor;\n",
       "}\n",
       "\n",
       "mpl.figure.prototype.handle_message = function(fig, msg) {\n",
       "    fig.message.textContent = msg['message'];\n",
       "}\n",
       "\n",
       "mpl.figure.prototype.handle_draw = function(fig, msg) {\n",
       "    // Request the server to send over a new figure.\n",
       "    fig.send_draw_message();\n",
       "}\n",
       "\n",
       "mpl.figure.prototype.handle_image_mode = function(fig, msg) {\n",
       "    fig.image_mode = msg['mode'];\n",
       "}\n",
       "\n",
       "mpl.figure.prototype.updated_canvas_event = function() {\n",
       "    // Called whenever the canvas gets updated.\n",
       "    this.send_message(\"ack\", {});\n",
       "}\n",
       "\n",
       "// A function to construct a web socket function for onmessage handling.\n",
       "// Called in the figure constructor.\n",
       "mpl.figure.prototype._make_on_message_function = function(fig) {\n",
       "    return function socket_on_message(evt) {\n",
       "        if (evt.data instanceof Blob) {\n",
       "            /* FIXME: We get \"Resource interpreted as Image but\n",
       "             * transferred with MIME type text/plain:\" errors on\n",
       "             * Chrome.  But how to set the MIME type?  It doesn't seem\n",
       "             * to be part of the websocket stream */\n",
       "            evt.data.type = \"image/png\";\n",
       "\n",
       "            /* Free the memory for the previous frames */\n",
       "            if (fig.imageObj.src) {\n",
       "                (window.URL || window.webkitURL).revokeObjectURL(\n",
       "                    fig.imageObj.src);\n",
       "            }\n",
       "\n",
       "            fig.imageObj.src = (window.URL || window.webkitURL).createObjectURL(\n",
       "                evt.data);\n",
       "            fig.updated_canvas_event();\n",
       "            fig.waiting = false;\n",
       "            return;\n",
       "        }\n",
       "        else if (typeof evt.data === 'string' && evt.data.slice(0, 21) == \"data:image/png;base64\") {\n",
       "            fig.imageObj.src = evt.data;\n",
       "            fig.updated_canvas_event();\n",
       "            fig.waiting = false;\n",
       "            return;\n",
       "        }\n",
       "\n",
       "        var msg = JSON.parse(evt.data);\n",
       "        var msg_type = msg['type'];\n",
       "\n",
       "        // Call the  \"handle_{type}\" callback, which takes\n",
       "        // the figure and JSON message as its only arguments.\n",
       "        try {\n",
       "            var callback = fig[\"handle_\" + msg_type];\n",
       "        } catch (e) {\n",
       "            console.log(\"No handler for the '\" + msg_type + \"' message type: \", msg);\n",
       "            return;\n",
       "        }\n",
       "\n",
       "        if (callback) {\n",
       "            try {\n",
       "                // console.log(\"Handling '\" + msg_type + \"' message: \", msg);\n",
       "                callback(fig, msg);\n",
       "            } catch (e) {\n",
       "                console.log(\"Exception inside the 'handler_\" + msg_type + \"' callback:\", e, e.stack, msg);\n",
       "            }\n",
       "        }\n",
       "    };\n",
       "}\n",
       "\n",
       "// from http://stackoverflow.com/questions/1114465/getting-mouse-location-in-canvas\n",
       "mpl.findpos = function(e) {\n",
       "    //this section is from http://www.quirksmode.org/js/events_properties.html\n",
       "    var targ;\n",
       "    if (!e)\n",
       "        e = window.event;\n",
       "    if (e.target)\n",
       "        targ = e.target;\n",
       "    else if (e.srcElement)\n",
       "        targ = e.srcElement;\n",
       "    if (targ.nodeType == 3) // defeat Safari bug\n",
       "        targ = targ.parentNode;\n",
       "\n",
       "    // jQuery normalizes the pageX and pageY\n",
       "    // pageX,Y are the mouse positions relative to the document\n",
       "    // offset() returns the position of the element relative to the document\n",
       "    var x = e.pageX - $(targ).offset().left;\n",
       "    var y = e.pageY - $(targ).offset().top;\n",
       "\n",
       "    return {\"x\": x, \"y\": y};\n",
       "};\n",
       "\n",
       "/*\n",
       " * return a copy of an object with only non-object keys\n",
       " * we need this to avoid circular references\n",
       " * http://stackoverflow.com/a/24161582/3208463\n",
       " */\n",
       "function simpleKeys (original) {\n",
       "  return Object.keys(original).reduce(function (obj, key) {\n",
       "    if (typeof original[key] !== 'object')\n",
       "        obj[key] = original[key]\n",
       "    return obj;\n",
       "  }, {});\n",
       "}\n",
       "\n",
       "mpl.figure.prototype.mouse_event = function(event, name) {\n",
       "    var canvas_pos = mpl.findpos(event)\n",
       "\n",
       "    if (name === 'button_press')\n",
       "    {\n",
       "        this.canvas.focus();\n",
       "        this.canvas_div.focus();\n",
       "    }\n",
       "\n",
       "    var x = canvas_pos.x * mpl.ratio;\n",
       "    var y = canvas_pos.y * mpl.ratio;\n",
       "\n",
       "    this.send_message(name, {x: x, y: y, button: event.button,\n",
       "                             step: event.step,\n",
       "                             guiEvent: simpleKeys(event)});\n",
       "\n",
       "    /* This prevents the web browser from automatically changing to\n",
       "     * the text insertion cursor when the button is pressed.  We want\n",
       "     * to control all of the cursor setting manually through the\n",
       "     * 'cursor' event from matplotlib */\n",
       "    event.preventDefault();\n",
       "    return false;\n",
       "}\n",
       "\n",
       "mpl.figure.prototype._key_event_extra = function(event, name) {\n",
       "    // Handle any extra behaviour associated with a key event\n",
       "}\n",
       "\n",
       "mpl.figure.prototype.key_event = function(event, name) {\n",
       "\n",
       "    // Prevent repeat events\n",
       "    if (name == 'key_press')\n",
       "    {\n",
       "        if (event.which === this._key)\n",
       "            return;\n",
       "        else\n",
       "            this._key = event.which;\n",
       "    }\n",
       "    if (name == 'key_release')\n",
       "        this._key = null;\n",
       "\n",
       "    var value = '';\n",
       "    if (event.ctrlKey && event.which != 17)\n",
       "        value += \"ctrl+\";\n",
       "    if (event.altKey && event.which != 18)\n",
       "        value += \"alt+\";\n",
       "    if (event.shiftKey && event.which != 16)\n",
       "        value += \"shift+\";\n",
       "\n",
       "    value += 'k';\n",
       "    value += event.which.toString();\n",
       "\n",
       "    this._key_event_extra(event, name);\n",
       "\n",
       "    this.send_message(name, {key: value,\n",
       "                             guiEvent: simpleKeys(event)});\n",
       "    return false;\n",
       "}\n",
       "\n",
       "mpl.figure.prototype.toolbar_button_onclick = function(name) {\n",
       "    if (name == 'download') {\n",
       "        this.handle_save(this, null);\n",
       "    } else {\n",
       "        this.send_message(\"toolbar_button\", {name: name});\n",
       "    }\n",
       "};\n",
       "\n",
       "mpl.figure.prototype.toolbar_button_onmouseover = function(tooltip) {\n",
       "    this.message.textContent = tooltip;\n",
       "};\n",
       "mpl.toolbar_items = [[\"Home\", \"Reset original view\", \"fa fa-home icon-home\", \"home\"], [\"Back\", \"Back to  previous view\", \"fa fa-arrow-left icon-arrow-left\", \"back\"], [\"Forward\", \"Forward to next view\", \"fa fa-arrow-right icon-arrow-right\", \"forward\"], [\"\", \"\", \"\", \"\"], [\"Pan\", \"Pan axes with left mouse, zoom with right\", \"fa fa-arrows icon-move\", \"pan\"], [\"Zoom\", \"Zoom to rectangle\", \"fa fa-square-o icon-check-empty\", \"zoom\"], [\"\", \"\", \"\", \"\"], [\"Download\", \"Download plot\", \"fa fa-floppy-o icon-save\", \"download\"]];\n",
       "\n",
       "mpl.extensions = [\"eps\", \"jpeg\", \"pdf\", \"png\", \"ps\", \"raw\", \"svg\", \"tif\"];\n",
       "\n",
       "mpl.default_extension = \"png\";var comm_websocket_adapter = function(comm) {\n",
       "    // Create a \"websocket\"-like object which calls the given IPython comm\n",
       "    // object with the appropriate methods. Currently this is a non binary\n",
       "    // socket, so there is still some room for performance tuning.\n",
       "    var ws = {};\n",
       "\n",
       "    ws.close = function() {\n",
       "        comm.close()\n",
       "    };\n",
       "    ws.send = function(m) {\n",
       "        //console.log('sending', m);\n",
       "        comm.send(m);\n",
       "    };\n",
       "    // Register the callback with on_msg.\n",
       "    comm.on_msg(function(msg) {\n",
       "        //console.log('receiving', msg['content']['data'], msg);\n",
       "        // Pass the mpl event to the overriden (by mpl) onmessage function.\n",
       "        ws.onmessage(msg['content']['data'])\n",
       "    });\n",
       "    return ws;\n",
       "}\n",
       "\n",
       "mpl.mpl_figure_comm = function(comm, msg) {\n",
       "    // This is the function which gets called when the mpl process\n",
       "    // starts-up an IPython Comm through the \"matplotlib\" channel.\n",
       "\n",
       "    var id = msg.content.data.id;\n",
       "    // Get hold of the div created by the display call when the Comm\n",
       "    // socket was opened in Python.\n",
       "    var element = $(\"#\" + id);\n",
       "    var ws_proxy = comm_websocket_adapter(comm)\n",
       "\n",
       "    function ondownload(figure, format) {\n",
       "        window.open(figure.imageObj.src);\n",
       "    }\n",
       "\n",
       "    var fig = new mpl.figure(id, ws_proxy,\n",
       "                           ondownload,\n",
       "                           element.get(0));\n",
       "\n",
       "    // Call onopen now - mpl needs it, as it is assuming we've passed it a real\n",
       "    // web socket which is closed, not our websocket->open comm proxy.\n",
       "    ws_proxy.onopen();\n",
       "\n",
       "    fig.parent_element = element.get(0);\n",
       "    fig.cell_info = mpl.find_output_cell(\"<div id='\" + id + \"'></div>\");\n",
       "    if (!fig.cell_info) {\n",
       "        console.error(\"Failed to find cell for figure\", id, fig);\n",
       "        return;\n",
       "    }\n",
       "\n",
       "    var output_index = fig.cell_info[2]\n",
       "    var cell = fig.cell_info[0];\n",
       "\n",
       "};\n",
       "\n",
       "mpl.figure.prototype.handle_close = function(fig, msg) {\n",
       "    var width = fig.canvas.width/mpl.ratio\n",
       "    fig.root.unbind('remove')\n",
       "\n",
       "    // Update the output cell to use the data from the current canvas.\n",
       "    fig.push_to_output();\n",
       "    var dataURL = fig.canvas.toDataURL();\n",
       "    // Re-enable the keyboard manager in IPython - without this line, in FF,\n",
       "    // the notebook keyboard shortcuts fail.\n",
       "    IPython.keyboard_manager.enable()\n",
       "    $(fig.parent_element).html('<img src=\"' + dataURL + '\" width=\"' + width + '\">');\n",
       "    fig.close_ws(fig, msg);\n",
       "}\n",
       "\n",
       "mpl.figure.prototype.close_ws = function(fig, msg){\n",
       "    fig.send_message('closing', msg);\n",
       "    // fig.ws.close()\n",
       "}\n",
       "\n",
       "mpl.figure.prototype.push_to_output = function(remove_interactive) {\n",
       "    // Turn the data on the canvas into data in the output cell.\n",
       "    var width = this.canvas.width/mpl.ratio\n",
       "    var dataURL = this.canvas.toDataURL();\n",
       "    this.cell_info[1]['text/html'] = '<img src=\"' + dataURL + '\" width=\"' + width + '\">';\n",
       "}\n",
       "\n",
       "mpl.figure.prototype.updated_canvas_event = function() {\n",
       "    // Tell IPython that the notebook contents must change.\n",
       "    IPython.notebook.set_dirty(true);\n",
       "    this.send_message(\"ack\", {});\n",
       "    var fig = this;\n",
       "    // Wait a second, then push the new image to the DOM so\n",
       "    // that it is saved nicely (might be nice to debounce this).\n",
       "    setTimeout(function () { fig.push_to_output() }, 1000);\n",
       "}\n",
       "\n",
       "mpl.figure.prototype._init_toolbar = function() {\n",
       "    var fig = this;\n",
       "\n",
       "    var nav_element = $('<div/>')\n",
       "    nav_element.attr('style', 'width: 100%');\n",
       "    this.root.append(nav_element);\n",
       "\n",
       "    // Define a callback function for later on.\n",
       "    function toolbar_event(event) {\n",
       "        return fig.toolbar_button_onclick(event['data']);\n",
       "    }\n",
       "    function toolbar_mouse_event(event) {\n",
       "        return fig.toolbar_button_onmouseover(event['data']);\n",
       "    }\n",
       "\n",
       "    for(var toolbar_ind in mpl.toolbar_items){\n",
       "        var name = mpl.toolbar_items[toolbar_ind][0];\n",
       "        var tooltip = mpl.toolbar_items[toolbar_ind][1];\n",
       "        var image = mpl.toolbar_items[toolbar_ind][2];\n",
       "        var method_name = mpl.toolbar_items[toolbar_ind][3];\n",
       "\n",
       "        if (!name) { continue; };\n",
       "\n",
       "        var button = $('<button class=\"btn btn-default\" href=\"#\" title=\"' + name + '\"><i class=\"fa ' + image + ' fa-lg\"></i></button>');\n",
       "        button.click(method_name, toolbar_event);\n",
       "        button.mouseover(tooltip, toolbar_mouse_event);\n",
       "        nav_element.append(button);\n",
       "    }\n",
       "\n",
       "    // Add the status bar.\n",
       "    var status_bar = $('<span class=\"mpl-message\" style=\"text-align:right; float: right;\"/>');\n",
       "    nav_element.append(status_bar);\n",
       "    this.message = status_bar[0];\n",
       "\n",
       "    // Add the close button to the window.\n",
       "    var buttongrp = $('<div class=\"btn-group inline pull-right\"></div>');\n",
       "    var button = $('<button class=\"btn btn-mini btn-primary\" href=\"#\" title=\"Stop Interaction\"><i class=\"fa fa-power-off icon-remove icon-large\"></i></button>');\n",
       "    button.click(function (evt) { fig.handle_close(fig, {}); } );\n",
       "    button.mouseover('Stop Interaction', toolbar_mouse_event);\n",
       "    buttongrp.append(button);\n",
       "    var titlebar = this.root.find($('.ui-dialog-titlebar'));\n",
       "    titlebar.prepend(buttongrp);\n",
       "}\n",
       "\n",
       "mpl.figure.prototype._root_extra_style = function(el){\n",
       "    var fig = this\n",
       "    el.on(\"remove\", function(){\n",
       "\tfig.close_ws(fig, {});\n",
       "    });\n",
       "}\n",
       "\n",
       "mpl.figure.prototype._canvas_extra_style = function(el){\n",
       "    // this is important to make the div 'focusable\n",
       "    el.attr('tabindex', 0)\n",
       "    // reach out to IPython and tell the keyboard manager to turn it's self\n",
       "    // off when our div gets focus\n",
       "\n",
       "    // location in version 3\n",
       "    if (IPython.notebook.keyboard_manager) {\n",
       "        IPython.notebook.keyboard_manager.register_events(el);\n",
       "    }\n",
       "    else {\n",
       "        // location in version 2\n",
       "        IPython.keyboard_manager.register_events(el);\n",
       "    }\n",
       "\n",
       "}\n",
       "\n",
       "mpl.figure.prototype._key_event_extra = function(event, name) {\n",
       "    var manager = IPython.notebook.keyboard_manager;\n",
       "    if (!manager)\n",
       "        manager = IPython.keyboard_manager;\n",
       "\n",
       "    // Check for shift+enter\n",
       "    if (event.shiftKey && event.which == 13) {\n",
       "        this.canvas_div.blur();\n",
       "        // select the cell after this one\n",
       "        var index = IPython.notebook.find_cell_index(this.cell_info[0]);\n",
       "        IPython.notebook.select(index + 1);\n",
       "    }\n",
       "}\n",
       "\n",
       "mpl.figure.prototype.handle_save = function(fig, msg) {\n",
       "    fig.ondownload(fig, null);\n",
       "}\n",
       "\n",
       "\n",
       "mpl.find_output_cell = function(html_output) {\n",
       "    // Return the cell and output element which can be found *uniquely* in the notebook.\n",
       "    // Note - this is a bit hacky, but it is done because the \"notebook_saving.Notebook\"\n",
       "    // IPython event is triggered only after the cells have been serialised, which for\n",
       "    // our purposes (turning an active figure into a static one), is too late.\n",
       "    var cells = IPython.notebook.get_cells();\n",
       "    var ncells = cells.length;\n",
       "    for (var i=0; i<ncells; i++) {\n",
       "        var cell = cells[i];\n",
       "        if (cell.cell_type === 'code'){\n",
       "            for (var j=0; j<cell.output_area.outputs.length; j++) {\n",
       "                var data = cell.output_area.outputs[j];\n",
       "                if (data.data) {\n",
       "                    // IPython >= 3 moved mimebundle to data attribute of output\n",
       "                    data = data.data;\n",
       "                }\n",
       "                if (data['text/html'] == html_output) {\n",
       "                    return [cell, data, j];\n",
       "                }\n",
       "            }\n",
       "        }\n",
       "    }\n",
       "}\n",
       "\n",
       "// Register the function which deals with the matplotlib target/channel.\n",
       "// The kernel may be null if the page has been refreshed.\n",
       "if (IPython.notebook.kernel != null) {\n",
       "    IPython.notebook.kernel.comm_manager.register_target('matplotlib', mpl.mpl_figure_comm);\n",
       "}\n"
      ],
      "text/plain": [
       "<IPython.core.display.Javascript object>"
      ]
     },
     "metadata": {},
     "output_type": "display_data"
    },
    {
     "data": {
      "text/html": [
       "<img src=\"data:image/png;base64,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\" width=\"800\">"
      ],
      "text/plain": [
       "<IPython.core.display.HTML object>"
      ]
     },
     "metadata": {},
     "output_type": "display_data"
    }
   ],
   "source": [
    "fig, ax = plt.subplots(figsize=(8, 8))\n",
    "for idx in range(viz_words):\n",
    "    plt.scatter(*embed_tsne[idx, :], color = 'steelblue')\n",
    "    plt.annotate(int_to_vocab[idx], (embed_tsne[idx, 0], embed_tsne[idx, 1]), alpha=0.8)"
   ]
  },
  {
   "cell_type": "code",
   "execution_count": null,
   "metadata": {},
   "outputs": [],
   "source": []
  },
  {
   "cell_type": "code",
   "execution_count": null,
   "metadata": {},
   "outputs": [],
   "source": []
  },
  {
   "cell_type": "code",
   "execution_count": null,
   "metadata": {},
   "outputs": [],
   "source": []
  },
  {
   "cell_type": "markdown",
   "metadata": {},
   "source": [
    "### model_inputs()\n",
    "To create TF Placeholders for the Neural Network:"
   ]
  },
  {
   "cell_type": "code",
   "execution_count": 4,
   "metadata": {
    "collapsed": true
   },
   "outputs": [],
   "source": [
    "def model_inputs():\n",
    "    input_data = tf.placeholder(tf.int32, [None, None], name='input')\n",
    "    targets = tf.placeholder(tf.int32, [None, None], name='targets')\n",
    "    lr = tf.placeholder(tf.float32, name='learning_rate')\n",
    "    keep_prob = tf.placeholder(tf.float32, name='keep_prob') # new\n",
    "\n",
    "    summary_length = tf.placeholder(tf.int32, (None,), name='summary_length')\n",
    "    max_summary_length = tf.reduce_max(summary_length, name='max_dec_len')\n",
    "    text_length = tf.placeholder(tf.int32, (None,), name='text_length')\n",
    "    \n",
    "    return input_data, targets, lr, keep_prob, summary_length, max_summary_length, text_length\n",
    "\n",
    "\n",
    "# problem_unittests.test_model_inputs(model_inputs)"
   ]
  },
  {
   "cell_type": "markdown",
   "metadata": {},
   "source": [
    "### process_decoding_input() \n",
    "\n",
    "To remove the last word id from each batch in target_data and concat the GO ID to the beginning of each batch"
   ]
  },
  {
   "cell_type": "code",
   "execution_count": 5,
   "metadata": {
    "collapsed": true
   },
   "outputs": [],
   "source": [
    "def process_decoding_input(target_data, vocab_to_int, batch_size):\n",
    "    ending = tf.strided_slice(target_data, [0, 0], [batch_size, -1], [1, 1])\n",
    "    dec_input = tf.concat([tf.fill([batch_size, 1], vocab_to_int['<GO>']), ending], 1)\n",
    "\n",
    "    return dec_input"
   ]
  },
  {
   "cell_type": "markdown",
   "metadata": {
    "collapsed": true
   },
   "source": [
    "### encoding_layer() \n",
    "To create an encoder RNN"
   ]
  },
  {
   "cell_type": "code",
   "execution_count": 6,
   "metadata": {
    "collapsed": true
   },
   "outputs": [],
   "source": [
    "# NEW bi-direction\n",
    "def encoding_layer(rnn_size, sequence_length, num_layers, rnn_inputs, keep_prob):\n",
    "    for layer in range(num_layers):\n",
    "        with tf.variable_scope('encoder_{}'.format(layer)):\n",
    "            cell_fw = tf.contrib.rnn.LSTMCell(rnn_size, initializer=tf.random_uniform_initializer(-0.1, 0.1, seed=52))\n",
    "            cell_fw = tf.contrib.rnn.DropoutWrapper(cell_fw, input_keep_prob = keep_prob)\n",
    "\n",
    "            cell_bw = tf.contrib.rnn.LSTMCell(rnn_size, initializer=tf.random_uniform_initializer(-0.1, 0.1, seed=52))\n",
    "            cell_bw = tf.contrib.rnn.DropoutWrapper(cell_bw, input_keep_prob = keep_prob)\n",
    "\n",
    "            enc_output, enc_state = tf.nn.bidirectional_dynamic_rnn(cell_fw, \n",
    "                                                                    cell_bw, \n",
    "                                                                    rnn_inputs,\n",
    "                                                                    sequence_length,\n",
    "                                                                    dtype=tf.float32)\n",
    "            enc_output = tf.concat(enc_output,2)\n",
    "            # original code is missing this line below, that is how we connect layers \n",
    "            # by feeding the current layer's output to next layer's input\n",
    "            rnn_inputs = enc_output\n",
    "            \n",
    "    return enc_output, enc_state"
   ]
  },
  {
   "cell_type": "markdown",
   "metadata": {},
   "source": [
    "### decoding_layer() \n"
   ]
  },
  {
   "cell_type": "code",
   "execution_count": 7,
   "metadata": {
    "collapsed": true
   },
   "outputs": [],
   "source": [
    "def training_decoding_layer(dec_embed_input, summary_length, dec_cell, output_layer,vocab_size, max_summary_length,batch_size):\n",
    "    \n",
    "    training_helper = tf.contrib.seq2seq.TrainingHelper(inputs=dec_embed_input,\n",
    "                                                        sequence_length=summary_length,\n",
    "                                                        time_major=False)\n",
    "\n",
    "    training_decoder = tf.contrib.seq2seq.BasicDecoder(cell=dec_cell,\n",
    "                                                       helper=training_helper,\n",
    "                                                       initial_state=dec_cell.zero_state(dtype=tf.float32, batch_size=batch_size),\n",
    "                                                       output_layer = output_layer)\n",
    "\n",
    "    training_logits = tf.contrib.seq2seq.dynamic_decode(training_decoder, \n",
    "                                                        output_time_major=False, \n",
    "                                                        impute_finished=True, \n",
    "                                                        maximum_iterations=max_summary_length)\n",
    "    \n",
    "    return training_logits"
   ]
  },
  {
   "cell_type": "code",
   "execution_count": 8,
   "metadata": {
    "collapsed": true
   },
   "outputs": [],
   "source": [
    "def inference_decoding_layer(embeddings, start_token, end_token, dec_cell, output_layer,max_summary_length, batch_size):\n",
    "    '''Create the inference logits'''\n",
    "    \n",
    "    start_tokens = tf.tile(tf.constant([start_token], dtype=tf.int32), [batch_size], name='start_tokens')\n",
    "    \n",
    "    inference_helper = tf.contrib.seq2seq.GreedyEmbeddingHelper(embeddings,\n",
    "                                                                start_tokens,\n",
    "                                                                end_token)\n",
    "                \n",
    "    inference_decoder = tf.contrib.seq2seq.BasicDecoder(dec_cell,\n",
    "                                                        inference_helper,\n",
    "                                                        dec_cell.zero_state(dtype=tf.float32, batch_size=batch_size),\n",
    "                                                        output_layer)\n",
    "                \n",
    "    inference_logits = tf.contrib.seq2seq.dynamic_decode(inference_decoder,\n",
    "                                                         output_time_major=False,\n",
    "                                                         impute_finished=True,\n",
    "                                                         maximum_iterations=max_summary_length)\n",
    "    \n",
    "    return inference_logits"
   ]
  },
  {
   "cell_type": "markdown",
   "metadata": {},
   "source": [
    "Attention:\n",
    "Using Bhadanau, since trains faster than Luong.\n",
    "\n",
    "AttentionWrapper: \n",
    "applies the attention mechanism to our decoding cell.\n",
    "\n",
    "parameters\n",
    "\n",
    "- dec_embed_input: output of embedding_lookup for a batch of inputs\n",
    "- embeddings: the CN's word_embedding_matrix\n",
    "- enc_output: encoder layer output, containing the forward and the backward rnn output\n",
    "- enc_state: encoder layer state, a tuple containing the forward and the backward final states of bidirectional rnn.\n",
    "- vocab_size: vocabulary size i.e. len(vocab_to_int)+1\n",
    "- text_length: the actual lengths for each of the input text sequences in the batch\n",
    "- summary_length: the actual lengths for each of the input summary sequences in the batch\n",
    "- max_summary_length: the maximum length of a summary in a batch\n",
    "- rnn_size: The number of units in the LSTM cell\n",
    "- vocab_to_int: vocab_to_int the dictionary\n",
    "- keep_prob: RNN dropout input keep probability\n",
    "- batch_size: number of input sequences in a batch\n",
    "- num_layers: number of decoder RNN layer"
   ]
  },
  {
   "cell_type": "code",
   "execution_count": 9,
   "metadata": {
    "collapsed": true
   },
   "outputs": [],
   "source": [
    "def lstm_cell(lstm_size, keep_prob):\n",
    "    cell = tf.contrib.rnn.BasicLSTMCell(lstm_size)\n",
    "    \n",
    "    return tf.contrib.rnn.DropoutWrapper(cell, input_keep_prob = keep_prob)\n",
    "\n",
    "\n",
    "def decoding_layer(dec_embed_input, embeddings, enc_output, enc_state, vocab_size, text_length, summary_length,\n",
    "                   max_summary_length, rnn_size, vocab_to_int, keep_prob, batch_size, num_layers):\n",
    "    '''Create the decoding cell and attention for the training and inference decoding layers'''\n",
    "    \n",
    "    dec_cell = tf.contrib.rnn.MultiRNNCell([lstm_cell(rnn_size, keep_prob) for _ in range(num_layers)])\n",
    "    \n",
    "    output_layer = Dense(vocab_size, kernel_initializer=tf.truncated_normal_initializer(mean=0.0, stddev=0.1))\n",
    "    \n",
    "    attn_mech = tf.contrib.seq2seq.BahdanauAttention(rnn_size,\n",
    "                                                     enc_output,\n",
    "                                                     text_length,\n",
    "                                                     normalize=False,\n",
    "                                                     name='BahdanauAttention')\n",
    "    \n",
    "    dec_cell = tf.contrib.seq2seq.AttentionWrapper(dec_cell, attn_mech, rnn_size)\n",
    "    \n",
    "    with tf.variable_scope(\"decode\"):\n",
    "        training_logits = training_decoding_layer(dec_embed_input, summary_length, dec_cell,\n",
    "                                                  output_layer, vocab_size, max_summary_length, batch_size)\n",
    "        \n",
    "    with tf.variable_scope(\"decode\", reuse=True):\n",
    "        inference_logits = inference_decoding_layer(embeddings,\n",
    "                                                    vocab_to_int['<GO>'],\n",
    "                                                    vocab_to_int['<EOS>'],\n",
    "                                                    dec_cell,\n",
    "                                                    output_layer,\n",
    "                                                    max_summary_length,\n",
    "                                                    batch_size)\n",
    "        \n",
    "    return training_logits, inference_logits"
   ]
  },
  {
   "cell_type": "markdown",
   "metadata": {},
   "source": [
    "### Seq2seq model\n",
    "\n",
    "merge encoder with decoder:"
   ]
  },
  {
   "cell_type": "code",
   "execution_count": 10,
   "metadata": {
    "collapsed": true
   },
   "outputs": [],
   "source": [
    "def seq2seq_model(input_data, target_data, keep_prob, text_length, summary_length, max_summary_length, \n",
    "                  vocab_size, rnn_size, num_layers, vocab_to_int, batch_size):\n",
    "    \n",
    "    # Use Numberbatch's embeddings and the newly created ones as our embeddings\n",
    "    embeddings = word_embedding_matrix\n",
    "    \n",
    "    enc_embed_input = tf.nn.embedding_lookup(embeddings, input_data)\n",
    "    \n",
    "    enc_output, enc_state = encoding_layer(rnn_size, text_length, num_layers, enc_embed_input, keep_prob)\n",
    "    \n",
    "    dec_input = process_decoding_input(target_data, vocab_to_int, batch_size) #shape=(batch_size, senquence length) each seq start with index of<GO>\n",
    "    \n",
    "    dec_embed_input = tf.nn.embedding_lookup(embeddings, dec_input)\n",
    "    \n",
    "    training_logits, inference_logits  = decoding_layer(dec_embed_input, \n",
    "                                                        embeddings,\n",
    "                                                        enc_output,\n",
    "                                                        enc_state, \n",
    "                                                        vocab_size, \n",
    "                                                        text_length, \n",
    "                                                        summary_length, \n",
    "                                                        max_summary_length,\n",
    "                                                        rnn_size, \n",
    "                                                        vocab_to_int, \n",
    "                                                        keep_prob, \n",
    "                                                        batch_size,\n",
    "                                                        num_layers)\n",
    "    \n",
    "    return training_logits, inference_logits"
   ]
  },
  {
   "cell_type": "markdown",
   "metadata": {
    "collapsed": true
   },
   "source": [
    "### Get batches"
   ]
  },
  {
   "cell_type": "code",
   "execution_count": 11,
   "metadata": {
    "collapsed": true
   },
   "outputs": [],
   "source": [
    "# Pad articles/abstracts with <PAD> so that each articles/abstracts of a batch has the same length\n",
    "\n",
    "def pad_batch(article_batch):\n",
    "    max_article = max([len(a) for a in article_batch])\n",
    "    \n",
    "    return [a + [vocab_to_int['<PAD>']] * (max_article - len(a)) for a in article_batch]"
   ]
  },
  {
   "cell_type": "code",
   "execution_count": 12,
   "metadata": {
    "collapsed": true
   },
   "outputs": [],
   "source": [
    "# Batch targets, sources, and the lengths of their articles/abstracts together\n",
    "\n",
    "def get_batches(summaries, texts, batch_size):\n",
    "    for batch_i in range(0, len(texts)//batch_size):\n",
    "        start_i = batch_i * batch_size\n",
    "        summaries_batch = summaries[start_i:start_i + batch_size]\n",
    "        texts_batch = texts[start_i:start_i + batch_size]\n",
    "        pad_summaries_batch = np.array(pad_batch(summaries_batch))\n",
    "        pad_texts_batch = np.array(pad_batch(texts_batch))\n",
    "        \n",
    "        # Need the lengths for the _lengths parameters\n",
    "        pad_summaries_lengths = []\n",
    "        for summary in pad_summaries_batch:\n",
    "            pad_summaries_lengths.append(len(summary))\n",
    "        \n",
    "        pad_texts_lengths = []\n",
    "        for text in pad_texts_batch:\n",
    "            pad_texts_lengths.append(len(text))\n",
    "        \n",
    "        yield pad_summaries_batch, pad_texts_batch, pad_summaries_lengths, pad_texts_lengths"
   ]
  },
  {
   "cell_type": "code",
   "execution_count": 16,
   "metadata": {
    "scrolled": true
   },
   "outputs": [
    {
     "name": "stdout",
     "output_type": "stream",
     "text": [
      "'<UNK>' has id: 104250\n",
      "pad summaries batch samples:\n",
      "\r",
      " [[   443    706   1306     56     29   2974      4  17942    280  64778\n",
      "    8537   2211    467  17488     22  64778   4135  17942      1  67043\n",
      "    1415   2419     22 104251 104251 104251 104251 104251 104251 104251\n",
      "  104251 104251 104251 104251 104251 104251 104251 104251 104251 104251\n",
      "  104251 104251]\n",
      " [104250   2210    248     68    681    182   5042     22  14399   1592\n",
      "     218      5    578     18   7181   3064     22 104251 104251 104251\n",
      "  104251 104251 104251 104251 104251 104251 104251 104251 104251 104251\n",
      "  104251 104251 104251 104251 104251 104251 104251 104251 104251 104251\n",
      "  104251 104251]\n",
      " [104250     29    146     33   7946     22    398    248    213    526\n",
      "     119    177    128    182   7946     22 104251 104251 104251 104251\n",
      "  104251 104251 104251 104251 104251 104251 104251 104251 104251 104251\n",
      "  104251 104251 104251 104251 104251 104251 104251 104251 104251 104251\n",
      "  104251 104251]\n",
      " [ 12415   2759  11031    182   9142  12827     10  29146   3421     10\n",
      "    3175     18   3179  27050     22   1467      4   7946     47   5759\n",
      "      68   2755     58    755   1053   1147    626    514   1431      4\n",
      "     311   2044     22   4928   1458   4223    140    603   9507      4\n",
      "    3702     22]\n",
      " [104250      7   4344    245   3062  11658     41   7212     22      7\n",
      "     558     56      4    765     68      7   3411   4339     22 104251\n",
      "  104251 104251 104251 104251 104251 104251 104251 104251 104251 104251\n",
      "  104251 104251 104251 104251 104251 104251 104251 104251 104251 104251\n",
      "  104251 104251]]\n"
     ]
    }
   ],
   "source": [
    "print(\"'<UNK>' has id: {}\".format(vocab_to_int['<UNK>']))\n",
    "sorted_summaries_samples = sorted_summaries[7:20]\n",
    "sorted_texts_samples = sorted_texts[7:20]\n",
    "\n",
    "pad_summaries_batch_samples, pad_texts_batch_samples, pad_summaries_lengths_samples, pad_texts_lengths_samples = next(\n",
    "    get_batches(sorted_summaries_samples, sorted_texts_samples, 5))\n",
    "print(\"pad summaries batch samples:\\n\\r {}\".format(pad_summaries_batch_samples))"
   ]
  },
  {
   "cell_type": "markdown",
   "metadata": {},
   "source": [
    "### Hyperparameters\n"
   ]
  },
  {
   "cell_type": "code",
   "execution_count": 14,
   "metadata": {
    "collapsed": true
   },
   "outputs": [],
   "source": [
    "# Number of Epochs\n",
    "epochs = 13\n",
    "\n",
    "# Batch Size\n",
    "batch_size = 10\n",
    "\n",
    "# RNN Size\n",
    "rnn_size = 512\n",
    "\n",
    "# Number of Layers\n",
    "num_layers = 4\n",
    "\n",
    "# Learning Rate\n",
    "learning_rate = 0.001\n",
    "\n",
    "keep_probability = 0.7"
   ]
  },
  {
   "cell_type": "code",
   "execution_count": 15,
   "metadata": {},
   "outputs": [
    {
     "name": "stdout",
     "output_type": "stream",
     "text": [
      "Graph is built.\n",
      "./graph\n"
     ]
    }
   ],
   "source": [
    "# Build the graph\n",
    "\n",
    "train_graph = tf.Graph()\n",
    "# Set the graph to default to ensure that it is ready for training\n",
    "with train_graph.as_default():\n",
    "    \n",
    "    # Load the model inputs    \n",
    "    input_data, targets, lr, keep_prob, summary_length, max_summary_length, text_length = model_inputs()\n",
    "\n",
    "    # Create the training and inference logits\n",
    "    training_logits, inference_logits = seq2seq_model(tf.reverse(input_data, [-1]),\n",
    "                                                      targets, \n",
    "                                                      keep_prob,   \n",
    "                                                      text_length,\n",
    "                                                      summary_length,\n",
    "                                                      max_summary_length,\n",
    "                                                      len(vocab_to_int)+1,\n",
    "                                                      rnn_size, \n",
    "                                                      num_layers, \n",
    "                                                      vocab_to_int,\n",
    "                                                      batch_size)\n",
    "    \n",
    "    # Create tensors for the training logits and inference logits\n",
    "    training_logits = tf.identity(training_logits[0].rnn_output, 'logits')\n",
    "    inference_logits = tf.identity(inference_logits[0].sample_id, name='predictions')\n",
    "    \n",
    "    # Create the weights for sequence_loss, the sould be all True across since each batch is padded\n",
    "    masks = tf.sequence_mask(summary_length, max_summary_length, dtype=tf.float32, name='masks')\n",
    "\n",
    "    with tf.name_scope(\"optimization\"):\n",
    "        # Loss function\n",
    "        cost = tf.contrib.seq2seq.sequence_loss(training_logits, targets, masks)\n",
    "\n",
    "        # Optimizer\n",
    "        optimizer = tf.train.AdamOptimizer(learning_rate)\n",
    "\n",
    "        # Gradient Clipping\n",
    "        gradients = optimizer.compute_gradients(cost)\n",
    "        capped_gradients = [(tf.clip_by_value(grad, -5., 5.), var) for grad, var in gradients if grad is not None]\n",
    "        train_op = optimizer.apply_gradients(capped_gradients)\n",
    "        \n",
    "print(\"Graph is built.\")\n",
    "graph_location = \"./graph\"\n",
    "print(graph_location)\n",
    "\n",
    "train_writer = tf.summary.FileWriter(graph_location)\n",
    "train_writer.add_graph(train_graph)"
   ]
  },
  {
   "cell_type": "markdown",
   "metadata": {
    "collapsed": true
   },
   "source": [
    "### Train!"
   ]
  },
  {
   "cell_type": "raw",
   "metadata": {},
   "source": [
    "\"\"\"\n",
    "# OLD\n",
    "train_source = int_texts[batch_size:]\n",
    "train_target = int_summaries[batch_size:]\n",
    "valid_source = int_texts[:batch_size]\n",
    "valid_target = int_summaries[:batch_size]\n",
    "\"\"\"\n",
    "\n",
    "\"\"\"\n",
    "# Subset the data for training ?\n",
    "start = 200000\n",
    "end = start + 50000\n",
    "sorted_summaries_short = sorted_summaries[start:end]\n",
    "sorted_texts_short = sorted_texts[start:end]\n",
    "print(\"The shortest text length:\", len(sorted_texts_short[0]))\n",
    "print(\"The longest text length:\",len(sorted_texts_short[-1]))\n",
    "\"\"\""
   ]
  },
  {
   "cell_type": "code",
   "execution_count": 16,
   "metadata": {
    "scrolled": true
   },
   "outputs": [
    {
     "name": "stdout",
     "output_type": "stream",
     "text": [
      "Epoch   1/13 Batch   50/5781 - Loss:  6.804, Seconds: 136.41\n",
      "Epoch   1/13 Batch  100/5781 - Loss:  5.219, Seconds: 162.60\n",
      "Epoch   1/13 Batch  150/5781 - Loss:  5.170, Seconds: 163.57\n",
      "Average loss for this update: 5.641\n",
      "New Minimum!\n",
      "Epoch   1/13 Batch  200/5781 - Loss:  5.332, Seconds: 180.04\n",
      "Epoch   1/13 Batch  250/5781 - Loss:  5.165, Seconds: 175.72\n",
      "Epoch   1/13 Batch  300/5781 - Loss:  5.275, Seconds: 198.10\n",
      "Epoch   1/13 Batch  350/5781 - Loss:  5.221, Seconds: 208.02\n",
      "Average loss for this update: 5.246\n",
      "New Minimum!\n",
      "Epoch   1/13 Batch  400/5781 - Loss:  5.286, Seconds: 204.46\n",
      "Epoch   1/13 Batch  450/5781 - Loss:  5.298, Seconds: 200.32\n",
      "Epoch   1/13 Batch  500/5781 - Loss:  4.940, Seconds: 223.96\n",
      "Epoch   1/13 Batch  550/5781 - Loss:  5.054, Seconds: 225.90\n",
      "Average loss for this update: 5.106\n",
      "New Minimum!\n",
      "Epoch   1/13 Batch  600/5781 - Loss:  5.183, Seconds: 220.63\n",
      "Epoch   1/13 Batch  650/5781 - Loss:  5.159, Seconds: 233.70\n",
      "Epoch   1/13 Batch  700/5781 - Loss:  5.196, Seconds: 244.86\n",
      "Epoch   1/13 Batch  750/5781 - Loss:  5.171, Seconds: 248.03\n",
      "Average loss for this update: 5.193\n",
      "No Improvement.\n",
      "Epoch   1/13 Batch  800/5781 - Loss:  5.173, Seconds: 250.04\n",
      "Epoch   1/13 Batch  850/5781 - Loss:  5.182, Seconds: 249.00\n",
      "Epoch   1/13 Batch  900/5781 - Loss:  5.119, Seconds: 259.14\n"
     ]
    },
    {
     "ename": "KeyboardInterrupt",
     "evalue": "",
     "output_type": "error",
     "traceback": [
      "\u001b[0;31m---------------------------------------------------------------------------\u001b[0m",
      "\u001b[0;31mKeyboardInterrupt\u001b[0m                         Traceback (most recent call last)",
      "\u001b[0;32m<ipython-input-16-086987a6c187>\u001b[0m in \u001b[0;36m<module>\u001b[0;34m()\u001b[0m\n\u001b[1;32m     33\u001b[0m                  \u001b[0msummary_length\u001b[0m\u001b[0;34m:\u001b[0m \u001b[0msummaries_lengths\u001b[0m\u001b[0;34m,\u001b[0m\u001b[0;34m\u001b[0m\u001b[0m\n\u001b[1;32m     34\u001b[0m                  \u001b[0mtext_length\u001b[0m\u001b[0;34m:\u001b[0m \u001b[0mtexts_lengths\u001b[0m\u001b[0;34m,\u001b[0m\u001b[0;34m\u001b[0m\u001b[0m\n\u001b[0;32m---> 35\u001b[0;31m                  keep_prob: keep_probability})\n\u001b[0m\u001b[1;32m     36\u001b[0m \u001b[0;34m\u001b[0m\u001b[0m\n\u001b[1;32m     37\u001b[0m             \u001b[0mbatch_loss\u001b[0m \u001b[0;34m+=\u001b[0m \u001b[0mloss\u001b[0m\u001b[0;34m\u001b[0m\u001b[0m\n",
      "\u001b[0;32m~/anaconda3/lib/python3.6/site-packages/tensorflow/python/client/session.py\u001b[0m in \u001b[0;36mrun\u001b[0;34m(self, fetches, feed_dict, options, run_metadata)\u001b[0m\n\u001b[1;32m    887\u001b[0m     \u001b[0;32mtry\u001b[0m\u001b[0;34m:\u001b[0m\u001b[0;34m\u001b[0m\u001b[0m\n\u001b[1;32m    888\u001b[0m       result = self._run(None, fetches, feed_dict, options_ptr,\n\u001b[0;32m--> 889\u001b[0;31m                          run_metadata_ptr)\n\u001b[0m\u001b[1;32m    890\u001b[0m       \u001b[0;32mif\u001b[0m \u001b[0mrun_metadata\u001b[0m\u001b[0;34m:\u001b[0m\u001b[0;34m\u001b[0m\u001b[0m\n\u001b[1;32m    891\u001b[0m         \u001b[0mproto_data\u001b[0m \u001b[0;34m=\u001b[0m \u001b[0mtf_session\u001b[0m\u001b[0;34m.\u001b[0m\u001b[0mTF_GetBuffer\u001b[0m\u001b[0;34m(\u001b[0m\u001b[0mrun_metadata_ptr\u001b[0m\u001b[0;34m)\u001b[0m\u001b[0;34m\u001b[0m\u001b[0m\n",
      "\u001b[0;32m~/anaconda3/lib/python3.6/site-packages/tensorflow/python/client/session.py\u001b[0m in \u001b[0;36m_run\u001b[0;34m(self, handle, fetches, feed_dict, options, run_metadata)\u001b[0m\n\u001b[1;32m   1118\u001b[0m     \u001b[0;32mif\u001b[0m \u001b[0mfinal_fetches\u001b[0m \u001b[0;32mor\u001b[0m \u001b[0mfinal_targets\u001b[0m \u001b[0;32mor\u001b[0m \u001b[0;34m(\u001b[0m\u001b[0mhandle\u001b[0m \u001b[0;32mand\u001b[0m \u001b[0mfeed_dict_tensor\u001b[0m\u001b[0;34m)\u001b[0m\u001b[0;34m:\u001b[0m\u001b[0;34m\u001b[0m\u001b[0m\n\u001b[1;32m   1119\u001b[0m       results = self._do_run(handle, final_targets, final_fetches,\n\u001b[0;32m-> 1120\u001b[0;31m                              feed_dict_tensor, options, run_metadata)\n\u001b[0m\u001b[1;32m   1121\u001b[0m     \u001b[0;32melse\u001b[0m\u001b[0;34m:\u001b[0m\u001b[0;34m\u001b[0m\u001b[0m\n\u001b[1;32m   1122\u001b[0m       \u001b[0mresults\u001b[0m \u001b[0;34m=\u001b[0m \u001b[0;34m[\u001b[0m\u001b[0;34m]\u001b[0m\u001b[0;34m\u001b[0m\u001b[0m\n",
      "\u001b[0;32m~/anaconda3/lib/python3.6/site-packages/tensorflow/python/client/session.py\u001b[0m in \u001b[0;36m_do_run\u001b[0;34m(self, handle, target_list, fetch_list, feed_dict, options, run_metadata)\u001b[0m\n\u001b[1;32m   1315\u001b[0m     \u001b[0;32mif\u001b[0m \u001b[0mhandle\u001b[0m \u001b[0;32mis\u001b[0m \u001b[0;32mNone\u001b[0m\u001b[0;34m:\u001b[0m\u001b[0;34m\u001b[0m\u001b[0m\n\u001b[1;32m   1316\u001b[0m       return self._do_call(_run_fn, self._session, feeds, fetches, targets,\n\u001b[0;32m-> 1317\u001b[0;31m                            options, run_metadata)\n\u001b[0m\u001b[1;32m   1318\u001b[0m     \u001b[0;32melse\u001b[0m\u001b[0;34m:\u001b[0m\u001b[0;34m\u001b[0m\u001b[0m\n\u001b[1;32m   1319\u001b[0m       \u001b[0;32mreturn\u001b[0m \u001b[0mself\u001b[0m\u001b[0;34m.\u001b[0m\u001b[0m_do_call\u001b[0m\u001b[0;34m(\u001b[0m\u001b[0m_prun_fn\u001b[0m\u001b[0;34m,\u001b[0m \u001b[0mself\u001b[0m\u001b[0;34m.\u001b[0m\u001b[0m_session\u001b[0m\u001b[0;34m,\u001b[0m \u001b[0mhandle\u001b[0m\u001b[0;34m,\u001b[0m \u001b[0mfeeds\u001b[0m\u001b[0;34m,\u001b[0m \u001b[0mfetches\u001b[0m\u001b[0;34m)\u001b[0m\u001b[0;34m\u001b[0m\u001b[0m\n",
      "\u001b[0;32m~/anaconda3/lib/python3.6/site-packages/tensorflow/python/client/session.py\u001b[0m in \u001b[0;36m_do_call\u001b[0;34m(self, fn, *args)\u001b[0m\n\u001b[1;32m   1321\u001b[0m   \u001b[0;32mdef\u001b[0m \u001b[0m_do_call\u001b[0m\u001b[0;34m(\u001b[0m\u001b[0mself\u001b[0m\u001b[0;34m,\u001b[0m \u001b[0mfn\u001b[0m\u001b[0;34m,\u001b[0m \u001b[0;34m*\u001b[0m\u001b[0margs\u001b[0m\u001b[0;34m)\u001b[0m\u001b[0;34m:\u001b[0m\u001b[0;34m\u001b[0m\u001b[0m\n\u001b[1;32m   1322\u001b[0m     \u001b[0;32mtry\u001b[0m\u001b[0;34m:\u001b[0m\u001b[0;34m\u001b[0m\u001b[0m\n\u001b[0;32m-> 1323\u001b[0;31m       \u001b[0;32mreturn\u001b[0m \u001b[0mfn\u001b[0m\u001b[0;34m(\u001b[0m\u001b[0;34m*\u001b[0m\u001b[0margs\u001b[0m\u001b[0;34m)\u001b[0m\u001b[0;34m\u001b[0m\u001b[0m\n\u001b[0m\u001b[1;32m   1324\u001b[0m     \u001b[0;32mexcept\u001b[0m \u001b[0merrors\u001b[0m\u001b[0;34m.\u001b[0m\u001b[0mOpError\u001b[0m \u001b[0;32mas\u001b[0m \u001b[0me\u001b[0m\u001b[0;34m:\u001b[0m\u001b[0;34m\u001b[0m\u001b[0m\n\u001b[1;32m   1325\u001b[0m       \u001b[0mmessage\u001b[0m \u001b[0;34m=\u001b[0m \u001b[0mcompat\u001b[0m\u001b[0;34m.\u001b[0m\u001b[0mas_text\u001b[0m\u001b[0;34m(\u001b[0m\u001b[0me\u001b[0m\u001b[0;34m.\u001b[0m\u001b[0mmessage\u001b[0m\u001b[0;34m)\u001b[0m\u001b[0;34m\u001b[0m\u001b[0m\n",
      "\u001b[0;32m~/anaconda3/lib/python3.6/site-packages/tensorflow/python/client/session.py\u001b[0m in \u001b[0;36m_run_fn\u001b[0;34m(session, feed_dict, fetch_list, target_list, options, run_metadata)\u001b[0m\n\u001b[1;32m   1300\u001b[0m           return tf_session.TF_Run(session, options,\n\u001b[1;32m   1301\u001b[0m                                    \u001b[0mfeed_dict\u001b[0m\u001b[0;34m,\u001b[0m \u001b[0mfetch_list\u001b[0m\u001b[0;34m,\u001b[0m \u001b[0mtarget_list\u001b[0m\u001b[0;34m,\u001b[0m\u001b[0;34m\u001b[0m\u001b[0m\n\u001b[0;32m-> 1302\u001b[0;31m                                    status, run_metadata)\n\u001b[0m\u001b[1;32m   1303\u001b[0m \u001b[0;34m\u001b[0m\u001b[0m\n\u001b[1;32m   1304\u001b[0m     \u001b[0;32mdef\u001b[0m \u001b[0m_prun_fn\u001b[0m\u001b[0;34m(\u001b[0m\u001b[0msession\u001b[0m\u001b[0;34m,\u001b[0m \u001b[0mhandle\u001b[0m\u001b[0;34m,\u001b[0m \u001b[0mfeed_dict\u001b[0m\u001b[0;34m,\u001b[0m \u001b[0mfetch_list\u001b[0m\u001b[0;34m)\u001b[0m\u001b[0;34m:\u001b[0m\u001b[0;34m\u001b[0m\u001b[0m\n",
      "\u001b[0;31mKeyboardInterrupt\u001b[0m: "
     ]
    }
   ],
   "source": [
    "# Train the Model\n",
    "\n",
    "learning_rate_decay = 0.95\n",
    "min_learning_rate = 0.0005\n",
    "display_step = 50 # Check training loss after every n batches\n",
    "stop_early = 0 \n",
    "stop = 3 # If the update loss does not decrease in 3 consecutive update checks, stop training\n",
    "per_epoch = 30 # Make n update checks per epoch \n",
    "update_check = (len(sorted_texts)//batch_size//per_epoch)-1\n",
    "\n",
    "update_loss = 0 \n",
    "batch_loss = 0\n",
    "summary_update_loss = [] # Record the update losses for saving improvements in the model\n",
    "\n",
    "checkpoint = \"./best_model.ckpt\" \n",
    "with tf.Session(graph=train_graph) as sess:\n",
    "    sess.run(tf.global_variables_initializer())\n",
    "    \n",
    "    # If we want to continue training a previous session\n",
    "    #loader = tf.train.import_meta_graph(\"./\" + checkpoint + '.meta')\n",
    "    #loader.restore(sess, checkpoint)\n",
    "    \n",
    "    for epoch_i in range(1, epochs+1):\n",
    "        update_loss = 0\n",
    "        batch_loss = 0\n",
    "        for batch_i, (summaries_batch, texts_batch, summaries_lengths, texts_lengths)\\\n",
    "        in enumerate(get_batches(sorted_summaries, sorted_texts, batch_size)):\n",
    "            start_time = time.time()\n",
    "            _, loss = sess.run(\n",
    "                [train_op, cost],\n",
    "                {input_data: texts_batch,\n",
    "                 targets: summaries_batch,\n",
    "                 lr: learning_rate,\n",
    "                 summary_length: summaries_lengths,\n",
    "                 text_length: texts_lengths,\n",
    "                 keep_prob: keep_probability})\n",
    "\n",
    "            batch_loss += loss\n",
    "            update_loss += loss\n",
    "            end_time = time.time()\n",
    "            batch_time = end_time - start_time\n",
    "\n",
    "            if batch_i % display_step == 0 and batch_i > 0:\n",
    "                print('Epoch {:>3}/{} Batch {:>4}/{} - Loss: {:>6.3f}, Seconds: {:>4.2f}'\n",
    "                      .format(epoch_i,\n",
    "                              epochs, \n",
    "                              batch_i, \n",
    "                              len(sorted_texts) // batch_size, \n",
    "                              batch_loss / display_step, \n",
    "                              batch_time*display_step))\n",
    "                batch_loss = 0\n",
    "\n",
    "            if batch_i % update_check == 0 and batch_i > 0:\n",
    "                print(\"Average loss for this update:\", round(update_loss/update_check,3))\n",
    "                summary_update_loss.append(update_loss)\n",
    "                \n",
    "                # If the update loss is at a new minimum, save the model\n",
    "                if update_loss <= min(summary_update_loss):\n",
    "                    print('New Minimum!') \n",
    "                    stop_early = 0\n",
    "                    saver = tf.train.Saver() \n",
    "                    saver.save(sess, checkpoint)\n",
    "\n",
    "                else:\n",
    "                    print(\"No Improvement.\")\n",
    "                    stop_early += 1\n",
    "                    if stop_early == stop:\n",
    "                        break\n",
    "                update_loss = 0\n",
    "            \n",
    "                    \n",
    "        # Reduce learning rate, but not below its minimum value\n",
    "        learning_rate *= learning_rate_decay\n",
    "        if learning_rate < min_learning_rate:\n",
    "            learning_rate = min_learning_rate\n",
    "        \n",
    "        if stop_early == stop:\n",
    "            print(\"Stopping Training...\")\n",
    "            break"
   ]
  },
  {
   "cell_type": "code",
   "execution_count": 30,
   "metadata": {
    "scrolled": true
   },
   "outputs": [
    {
     "name": "stdout",
     "output_type": "stream",
     "text": [
      "Epoch   1/10 Batch   10/1249 - Loss:  9.412  - Validation loss:  9.288\n",
      "Epoch   1/10 Batch   20/1249 - Loss:  8.245  - Validation loss:  8.095\n",
      "Epoch   1/10 Batch   30/1249 - Loss:  6.908  - Validation loss:  6.751\n",
      "Epoch   1/10 Batch   40/1249 - Loss:  5.715  - Validation loss:  5.574\n",
      "Epoch   1/10 Batch   50/1249 - Loss:  4.589  - Validation loss:  4.545\n",
      "Epoch   1/10 Batch   60/1249 - Loss:  3.943  - Validation loss:  3.741\n",
      "Epoch   1/10 Batch   70/1249 - Loss:  3.303  - Validation loss:  3.215\n",
      "Epoch   1/10 Batch   80/1249 - Loss:  3.015  - Validation loss:  2.927\n",
      "Epoch   1/10 Batch   90/1249 - Loss:  2.707  - Validation loss:  2.747\n",
      "Epoch   1/10 Batch  100/1249 - Loss:  2.450  - Validation loss:  2.623\n",
      "Epoch   1/10 Batch  110/1249 - Loss:  2.460  - Validation loss:  2.552\n",
      "Epoch   1/10 Batch  120/1249 - Loss:  2.619  - Validation loss:  2.506\n",
      "Epoch   1/10 Batch  130/1249 - Loss:  2.357  - Validation loss:  2.478\n",
      "Epoch   1/10 Batch  140/1249 - Loss:  2.700  - Validation loss:  2.456\n",
      "Epoch   1/10 Batch  150/1249 - Loss:  2.501  - Validation loss:  2.440\n",
      "Epoch   1/10 Batch  160/1249 - Loss:  2.497  - Validation loss:  2.426\n",
      "Epoch   1/10 Batch  170/1249 - Loss:  2.496  - Validation loss:  2.418\n",
      "Epoch   1/10 Batch  180/1249 - Loss:  2.472  - Validation loss:  2.411\n",
      "Epoch   1/10 Batch  190/1249 - Loss:  2.201  - Validation loss:  2.404\n",
      "Epoch   1/10 Batch  200/1249 - Loss:  2.464  - Validation loss:  2.396\n",
      "Epoch   1/10 Batch  210/1249 - Loss:  2.290  - Validation loss:  2.399\n",
      "Epoch   1/10 Batch  220/1249 - Loss:  2.169  - Validation loss:  2.385\n",
      "Epoch   1/10 Batch  230/1249 - Loss:  2.212  - Validation loss:  2.379\n",
      "Epoch   1/10 Batch  240/1249 - Loss:  2.563  - Validation loss:  2.376\n",
      "Epoch   1/10 Batch  250/1249 - Loss:  2.576  - Validation loss:  2.368\n",
      "Epoch   1/10 Batch  260/1249 - Loss:  2.417  - Validation loss:  2.366\n",
      "Epoch   1/10 Batch  270/1249 - Loss:  2.331  - Validation loss:  2.364\n",
      "Epoch   1/10 Batch  280/1249 - Loss:  2.468  - Validation loss:  2.360\n",
      "Epoch   1/10 Batch  290/1249 - Loss:  2.441  - Validation loss:  2.353\n"
     ]
    },
    {
     "ename": "KeyboardInterrupt",
     "evalue": "",
     "output_type": "error",
     "traceback": [
      "\u001b[0;31m---------------------------------------------------------------------------\u001b[0m",
      "\u001b[0;31mKeyboardInterrupt\u001b[0m                         Traceback (most recent call last)",
      "\u001b[0;32m<ipython-input-30-9509253451e9>\u001b[0m in \u001b[0;36m<module>\u001b[0;34m()\u001b[0m\n\u001b[1;32m     23\u001b[0m                  \u001b[0mlr\u001b[0m\u001b[0;34m:\u001b[0m \u001b[0mlearning_rate\u001b[0m\u001b[0;34m,\u001b[0m\u001b[0;34m\u001b[0m\u001b[0m\n\u001b[1;32m     24\u001b[0m                  \u001b[0mtarget_sequence_length\u001b[0m\u001b[0;34m:\u001b[0m \u001b[0mtargets_lengths\u001b[0m\u001b[0;34m,\u001b[0m\u001b[0;34m\u001b[0m\u001b[0m\n\u001b[0;32m---> 25\u001b[0;31m                  source_sequence_length: sources_lengths})\n\u001b[0m\u001b[1;32m     26\u001b[0m \u001b[0;34m\u001b[0m\u001b[0m\n\u001b[1;32m     27\u001b[0m             \u001b[0;31m# Debug message updating us on the status of the training\u001b[0m\u001b[0;34m\u001b[0m\u001b[0;34m\u001b[0m\u001b[0m\n",
      "\u001b[0;32m~/anaconda3/lib/python3.6/site-packages/tensorflow/python/client/session.py\u001b[0m in \u001b[0;36mrun\u001b[0;34m(self, fetches, feed_dict, options, run_metadata)\u001b[0m\n\u001b[1;32m    887\u001b[0m     \u001b[0;32mtry\u001b[0m\u001b[0;34m:\u001b[0m\u001b[0;34m\u001b[0m\u001b[0m\n\u001b[1;32m    888\u001b[0m       result = self._run(None, fetches, feed_dict, options_ptr,\n\u001b[0;32m--> 889\u001b[0;31m                          run_metadata_ptr)\n\u001b[0m\u001b[1;32m    890\u001b[0m       \u001b[0;32mif\u001b[0m \u001b[0mrun_metadata\u001b[0m\u001b[0;34m:\u001b[0m\u001b[0;34m\u001b[0m\u001b[0m\n\u001b[1;32m    891\u001b[0m         \u001b[0mproto_data\u001b[0m \u001b[0;34m=\u001b[0m \u001b[0mtf_session\u001b[0m\u001b[0;34m.\u001b[0m\u001b[0mTF_GetBuffer\u001b[0m\u001b[0;34m(\u001b[0m\u001b[0mrun_metadata_ptr\u001b[0m\u001b[0;34m)\u001b[0m\u001b[0;34m\u001b[0m\u001b[0m\n",
      "\u001b[0;32m~/anaconda3/lib/python3.6/site-packages/tensorflow/python/client/session.py\u001b[0m in \u001b[0;36m_run\u001b[0;34m(self, handle, fetches, feed_dict, options, run_metadata)\u001b[0m\n\u001b[1;32m   1118\u001b[0m     \u001b[0;32mif\u001b[0m \u001b[0mfinal_fetches\u001b[0m \u001b[0;32mor\u001b[0m \u001b[0mfinal_targets\u001b[0m \u001b[0;32mor\u001b[0m \u001b[0;34m(\u001b[0m\u001b[0mhandle\u001b[0m \u001b[0;32mand\u001b[0m \u001b[0mfeed_dict_tensor\u001b[0m\u001b[0;34m)\u001b[0m\u001b[0;34m:\u001b[0m\u001b[0;34m\u001b[0m\u001b[0m\n\u001b[1;32m   1119\u001b[0m       results = self._do_run(handle, final_targets, final_fetches,\n\u001b[0;32m-> 1120\u001b[0;31m                              feed_dict_tensor, options, run_metadata)\n\u001b[0m\u001b[1;32m   1121\u001b[0m     \u001b[0;32melse\u001b[0m\u001b[0;34m:\u001b[0m\u001b[0;34m\u001b[0m\u001b[0m\n\u001b[1;32m   1122\u001b[0m       \u001b[0mresults\u001b[0m \u001b[0;34m=\u001b[0m \u001b[0;34m[\u001b[0m\u001b[0;34m]\u001b[0m\u001b[0;34m\u001b[0m\u001b[0m\n",
      "\u001b[0;32m~/anaconda3/lib/python3.6/site-packages/tensorflow/python/client/session.py\u001b[0m in \u001b[0;36m_do_run\u001b[0;34m(self, handle, target_list, fetch_list, feed_dict, options, run_metadata)\u001b[0m\n\u001b[1;32m   1315\u001b[0m     \u001b[0;32mif\u001b[0m \u001b[0mhandle\u001b[0m \u001b[0;32mis\u001b[0m \u001b[0;32mNone\u001b[0m\u001b[0;34m:\u001b[0m\u001b[0;34m\u001b[0m\u001b[0m\n\u001b[1;32m   1316\u001b[0m       return self._do_call(_run_fn, self._session, feeds, fetches, targets,\n\u001b[0;32m-> 1317\u001b[0;31m                            options, run_metadata)\n\u001b[0m\u001b[1;32m   1318\u001b[0m     \u001b[0;32melse\u001b[0m\u001b[0;34m:\u001b[0m\u001b[0;34m\u001b[0m\u001b[0m\n\u001b[1;32m   1319\u001b[0m       \u001b[0;32mreturn\u001b[0m \u001b[0mself\u001b[0m\u001b[0;34m.\u001b[0m\u001b[0m_do_call\u001b[0m\u001b[0;34m(\u001b[0m\u001b[0m_prun_fn\u001b[0m\u001b[0;34m,\u001b[0m \u001b[0mself\u001b[0m\u001b[0;34m.\u001b[0m\u001b[0m_session\u001b[0m\u001b[0;34m,\u001b[0m \u001b[0mhandle\u001b[0m\u001b[0;34m,\u001b[0m \u001b[0mfeeds\u001b[0m\u001b[0;34m,\u001b[0m \u001b[0mfetches\u001b[0m\u001b[0;34m)\u001b[0m\u001b[0;34m\u001b[0m\u001b[0m\n",
      "\u001b[0;32m~/anaconda3/lib/python3.6/site-packages/tensorflow/python/client/session.py\u001b[0m in \u001b[0;36m_do_call\u001b[0;34m(self, fn, *args)\u001b[0m\n\u001b[1;32m   1321\u001b[0m   \u001b[0;32mdef\u001b[0m \u001b[0m_do_call\u001b[0m\u001b[0;34m(\u001b[0m\u001b[0mself\u001b[0m\u001b[0;34m,\u001b[0m \u001b[0mfn\u001b[0m\u001b[0;34m,\u001b[0m \u001b[0;34m*\u001b[0m\u001b[0margs\u001b[0m\u001b[0;34m)\u001b[0m\u001b[0;34m:\u001b[0m\u001b[0;34m\u001b[0m\u001b[0m\n\u001b[1;32m   1322\u001b[0m     \u001b[0;32mtry\u001b[0m\u001b[0;34m:\u001b[0m\u001b[0;34m\u001b[0m\u001b[0m\n\u001b[0;32m-> 1323\u001b[0;31m       \u001b[0;32mreturn\u001b[0m \u001b[0mfn\u001b[0m\u001b[0;34m(\u001b[0m\u001b[0;34m*\u001b[0m\u001b[0margs\u001b[0m\u001b[0;34m)\u001b[0m\u001b[0;34m\u001b[0m\u001b[0m\n\u001b[0m\u001b[1;32m   1324\u001b[0m     \u001b[0;32mexcept\u001b[0m \u001b[0merrors\u001b[0m\u001b[0;34m.\u001b[0m\u001b[0mOpError\u001b[0m \u001b[0;32mas\u001b[0m \u001b[0me\u001b[0m\u001b[0;34m:\u001b[0m\u001b[0;34m\u001b[0m\u001b[0m\n\u001b[1;32m   1325\u001b[0m       \u001b[0mmessage\u001b[0m \u001b[0;34m=\u001b[0m \u001b[0mcompat\u001b[0m\u001b[0;34m.\u001b[0m\u001b[0mas_text\u001b[0m\u001b[0;34m(\u001b[0m\u001b[0me\u001b[0m\u001b[0;34m.\u001b[0m\u001b[0mmessage\u001b[0m\u001b[0;34m)\u001b[0m\u001b[0;34m\u001b[0m\u001b[0m\n",
      "\u001b[0;32m~/anaconda3/lib/python3.6/site-packages/tensorflow/python/client/session.py\u001b[0m in \u001b[0;36m_run_fn\u001b[0;34m(session, feed_dict, fetch_list, target_list, options, run_metadata)\u001b[0m\n\u001b[1;32m   1300\u001b[0m           return tf_session.TF_Run(session, options,\n\u001b[1;32m   1301\u001b[0m                                    \u001b[0mfeed_dict\u001b[0m\u001b[0;34m,\u001b[0m \u001b[0mfetch_list\u001b[0m\u001b[0;34m,\u001b[0m \u001b[0mtarget_list\u001b[0m\u001b[0;34m,\u001b[0m\u001b[0;34m\u001b[0m\u001b[0m\n\u001b[0;32m-> 1302\u001b[0;31m                                    status, run_metadata)\n\u001b[0m\u001b[1;32m   1303\u001b[0m \u001b[0;34m\u001b[0m\u001b[0m\n\u001b[1;32m   1304\u001b[0m     \u001b[0;32mdef\u001b[0m \u001b[0m_prun_fn\u001b[0m\u001b[0;34m(\u001b[0m\u001b[0msession\u001b[0m\u001b[0;34m,\u001b[0m \u001b[0mhandle\u001b[0m\u001b[0;34m,\u001b[0m \u001b[0mfeed_dict\u001b[0m\u001b[0;34m,\u001b[0m \u001b[0mfetch_list\u001b[0m\u001b[0;34m)\u001b[0m\u001b[0;34m:\u001b[0m\u001b[0;34m\u001b[0m\u001b[0m\n",
      "\u001b[0;31mKeyboardInterrupt\u001b[0m: "
     ]
    }
   ],
   "source": [
    "# OLD\n",
    "# TODO early stop\n",
    "# TODO use old get_batch ?\n",
    "\n",
    "\n",
    "(valid_targets_batch, valid_sources_batch, \n",
    " valid_targets_lengths, valid_sources_lengths) = next(get_batches(valid_target,\n",
    "                                                                  valid_source,\n",
    "                                                                  batch_size,\n",
    "                                                                  source_vocab_to_int['<PAD>'],\n",
    "                                                                  target_vocab_to_int['<PAD>']))\n",
    "\n",
    "display_step = 10 # Check training loss after every n batches\n",
    "\n",
    "checkpoint = \"best_model.ckpt\" \n",
    "with tf.Session(graph=train_graph) as sess:\n",
    "    sess.run(tf.global_variables_initializer())\n",
    "        \n",
    "    for epoch_i in range(1, epochs+1):\n",
    "        for batch_i, (targets_batch, sources_batch, targets_lengths, sources_lengths) in\\\n",
    "        enumerate(get_batches(train_target, train_source, batch_size,\n",
    "                              source_vocab_to_int['<PAD>'],target_vocab_to_int['<PAD>'])):\n",
    "            \n",
    "            # Training step\n",
    "            _, loss = sess.run(\n",
    "                [train_op, cost],\n",
    "                {input_data: sources_batch,\n",
    "                 targets: targets_batch,\n",
    "                 lr: learning_rate,\n",
    "                 target_sequence_length: targets_lengths,\n",
    "                 source_sequence_length: sources_lengths})\n",
    "\n",
    "            # Debug message updating us on the status of the training\n",
    "            if batch_i % display_step == 0 and batch_i > 0:\n",
    "                \n",
    "                # Calculate validation cost\n",
    "                validation_loss = sess.run(\n",
    "                [cost],\n",
    "                {input_data: valid_sources_batch,\n",
    "                 targets: valid_targets_batch,\n",
    "                 lr: learning_rate,\n",
    "                 target_sequence_length: valid_targets_lengths,\n",
    "                 source_sequence_length: valid_sources_lengths})\n",
    "                \n",
    "                print('Epoch {:>3}/{} Batch {:>4}/{} - Loss: {:>6.3f}  - Validation loss: {:>6.3f}'\n",
    "                      .format(epoch_i,\n",
    "                              epochs, \n",
    "                              batch_i, \n",
    "                              len(train_source) // batch_size, \n",
    "                              loss, \n",
    "                              validation_loss[0]))\n",
    "\n",
    "    \n",
    "    # Save Model\n",
    "    saver = tf.train.Saver()\n",
    "    saver.save(sess, checkpoint)\n",
    "    print('Model Trained and Saved')"
   ]
  },
  {
   "cell_type": "markdown",
   "metadata": {
    "collapsed": true
   },
   "source": [
    "### Prediction!"
   ]
  },
  {
   "cell_type": "code",
   "execution_count": null,
   "metadata": {
    "collapsed": true
   },
   "outputs": [],
   "source": [
    "# TODO..."
   ]
  },
  {
   "cell_type": "code",
   "execution_count": 2,
   "metadata": {},
   "outputs": [],
   "source": [
    "def text_to_seq(text):\n",
    "    \n",
    "    return [vocab_to_int.get(word, vocab_to_int['<UNK>']) for word in text.split()]"
   ]
  },
  {
   "cell_type": "code",
   "execution_count": null,
   "metadata": {},
   "outputs": [],
   "source": [
    "input_sentences=[\"The coffee tasted great and was at such a good price! I highly recommend this to everyone!\",\n",
    "               \"love individual oatmeal cups found years ago sam quit selling sound big lots quit selling found target expensive buy individually trilled get entire case time go anywhere need water microwave spoon know quaker flavor packets\"]\n",
    "\n",
    "generate_summary_length = [3,2] # 2 inputs"
   ]
  },
  {
   "cell_type": "code",
   "execution_count": null,
   "metadata": {},
   "outputs": [],
   "source": [
    "texts = [text_to_seq(article) for article in input_sentences]\n",
    "\n",
    "checkpoint = \"./best_model.ckpt\"\n",
    "\n",
    "if type(generate_summary_length) is list:\n",
    "    if len(input_sentences) != len(generate_summary_length):\n",
    "        raise Exception(\"[Error] makeSummaries parameter generate_summary_length must be same length as input_sentences or an integer\")\n",
    "    generate_summary_length_list = generate_summary_length\n",
    "else:\n",
    "    generate_summary_length_list = [generate_summary_length] * len(texts)\n",
    "\n",
    "loaded_graph = tf.Graph()\n",
    "\n",
    "with tf.Session(graph=loaded_graph) as sess:\n",
    "    # Load saved model\n",
    "    loader = tf.train.import_meta_graph(checkpoint + '.meta')\n",
    "    loader.restore(sess, checkpoint)\n",
    "    input_data = loaded_graph.get_tensor_by_name('input:0')\n",
    "    logits = loaded_graph.get_tensor_by_name('predictions:0')\n",
    "    text_length = loaded_graph.get_tensor_by_name('text_length:0')\n",
    "    summary_length = loaded_graph.get_tensor_by_name('summary_length:0')\n",
    "    keep_prob = loaded_graph.get_tensor_by_name('keep_prob:0')\n",
    "    \n",
    "    # Multiply by batch_size to match the model's input parameters\n",
    "    for i, text in enumerate(texts):\n",
    "        generate_summary_length = generate_summary_length_list[i]\n",
    "        answer_logits = sess.run(logits, {input_data: [text]*batch_size, \n",
    "                                          summary_length: [generate_summary_length], #summary_length: [np.random.randint(5,8)], \n",
    "                                          text_length: [len(text)]*batch_size,\n",
    "                                          keep_prob: 1.0})[0] \n",
    "        # Remove the padding from the summaries\n",
    "        pad = vocab_to_int[\"<PAD>\"] \n",
    "        print('- Article:\\n\\r {}'.format(input_sentences[i]))\n",
    "        print('- Abstract:\\n\\r {}\\n\\r\\n\\r'.format(\" \".join([int_to_vocab[i] for i in answer_logits if i != pad])))"
   ]
  },
  {
   "cell_type": "code",
   "execution_count": null,
   "metadata": {
    "collapsed": true
   },
   "outputs": [],
   "source": [
    "# OLD\n",
    "\n",
    "input_sentence = 'hello'\n",
    "text = source_to_seq(input_sentence)\n",
    "\n",
    "checkpoint = \"./best_model.ckpt\"\n",
    "\n",
    "loaded_graph = tf.Graph()\n",
    "with tf.Session(graph=loaded_graph) as sess:\n",
    "    # Load saved model\n",
    "    loader = tf.train.import_meta_graph(checkpoint + '.meta')\n",
    "    loader.restore(sess, checkpoint)\n",
    "\n",
    "    input_data = loaded_graph.get_tensor_by_name('input:0')\n",
    "    logits = loaded_graph.get_tensor_by_name('predictions:0')\n",
    "    source_sequence_length = loaded_graph.get_tensor_by_name('source_sequence_length:0')\n",
    "    target_sequence_length = loaded_graph.get_tensor_by_name('target_sequence_length:0')\n",
    "    \n",
    "    #Multiply by batch_size to match the model's input parameters\n",
    "    answer_logits = sess.run(logits, {input_data: [text]*batch_size, \n",
    "                                      target_sequence_length: [len(text)]*batch_size, \n",
    "                                      source_sequence_length: [len(text)]*batch_size})[0] \n",
    "\n",
    "\n",
    "pad = source_letter_to_int[\"<PAD>\"] \n",
    "\n",
    "print('Original Text:', input_sentence)\n",
    "\n",
    "print('\\nSource')\n",
    "print('  Word Ids:    {}'.format([i for i in text]))\n",
    "print('  Input Words: {}'.format(\" \".join([source_int_to_letter[i] for i in text])))\n",
    "\n",
    "print('\\nTarget')\n",
    "print('  Word Ids:       {}'.format([i for i in answer_logits if i != pad]))\n",
    "print('  Response Words: {}'.format(\" \".join([target_int_to_letter[i] for i in answer_logits if i != pad])))"
   ]
  },
  {
   "cell_type": "code",
   "execution_count": null,
   "metadata": {
    "collapsed": true
   },
   "outputs": [],
   "source": []
  },
  {
   "cell_type": "code",
   "execution_count": null,
   "metadata": {
    "collapsed": true
   },
   "outputs": [],
   "source": []
  },
  {
   "cell_type": "code",
   "execution_count": null,
   "metadata": {
    "collapsed": true
   },
   "outputs": [],
   "source": []
  },
  {
   "cell_type": "code",
   "execution_count": null,
   "metadata": {
    "collapsed": true
   },
   "outputs": [],
   "source": []
  },
  {
   "cell_type": "code",
   "execution_count": null,
   "metadata": {
    "collapsed": true
   },
   "outputs": [],
   "source": []
  },
  {
   "cell_type": "code",
   "execution_count": null,
   "metadata": {
    "collapsed": true
   },
   "outputs": [],
   "source": []
  }
 ],
 "metadata": {
  "anaconda-cloud": {},
  "kernelspec": {
   "display_name": "Python 3",
   "language": "python",
   "name": "python3"
  },
  "language_info": {
   "codemirror_mode": {
    "name": "ipython",
    "version": 3
   },
   "file_extension": ".py",
   "mimetype": "text/x-python",
   "name": "python",
   "nbconvert_exporter": "python",
   "pygments_lexer": "ipython3",
   "version": "3.6.3"
  }
 },
 "nbformat": 4,
 "nbformat_minor": 1
}
